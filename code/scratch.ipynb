{
 "cells": [
  {
   "cell_type": "code",
   "execution_count": 1,
   "metadata": {
    "collapsed": false
   },
   "outputs": [],
   "source": [
    "from model.Season import Season"
   ]
  },
  {
   "cell_type": "code",
   "execution_count": 3,
   "metadata": {
    "collapsed": false
   },
   "outputs": [],
   "source": [
    "import datetime\n",
    "import json\n",
    "import matplotlib.pyplot as plt\n",
    "import numpy as np\n",
    "import pandas as pd\n",
    "import pickle\n",
    "import statsmodels.api as sm"
   ]
  },
  {
   "cell_type": "code",
   "execution_count": 22,
   "metadata": {
    "collapsed": false
   },
   "outputs": [],
   "source": [
    "with open('seasons.pickle') as f:\n",
    "    seasons = pickle.load(f)"
   ]
  },
  {
   "cell_type": "code",
   "execution_count": 23,
   "metadata": {
    "collapsed": false
   },
   "outputs": [
    {
     "name": "stdout",
     "output_type": "stream",
     "text": [
      "2006 2007 2008 2009 2010 2011 2012 2013 2014 2015 2016 2017\n"
     ]
    }
   ],
   "source": [
    "for year, season in seasons.iteritems():\n",
    "    print year,\n",
    "    season.load_scores()"
   ]
  },
  {
   "cell_type": "code",
   "execution_count": 6,
   "metadata": {
    "collapsed": true
   },
   "outputs": [],
   "source": [
    "men = []\n",
    "ladies = []\n",
    "pairs = []\n",
    "dance = []\n",
    "skaters = [men, ladies, pairs, dance]"
   ]
  },
  {
   "cell_type": "code",
   "execution_count": 7,
   "metadata": {
    "collapsed": false
   },
   "outputs": [],
   "source": [
    "for year in seasons:\n",
    "    season = seasons[year]\n",
    "    for event in season.events:\n",
    "        for i, discipline in enumerate(event.disciplines):\n",
    "            df = pd.read_csv(discipline.results_csv)\n",
    "            skaters[i].append(df)"
   ]
  },
  {
   "cell_type": "code",
   "execution_count": 8,
   "metadata": {
    "collapsed": true
   },
   "outputs": [],
   "source": [
    "all_ladies = pd.concat(ladies)"
   ]
  },
  {
   "cell_type": "code",
   "execution_count": 9,
   "metadata": {
    "collapsed": true
   },
   "outputs": [],
   "source": [
    "all_ladies.Date = pd.to_datetime(all_ladies.Date)"
   ]
  },
  {
   "cell_type": "code",
   "execution_count": 10,
   "metadata": {
    "collapsed": false
   },
   "outputs": [
    {
     "data": {
      "image/png": "[encoded data removed]",
      "text/plain": [
       "<matplotlib.figure.Figure at 0x111654650>"
      ]
     },
     "metadata": {},
     "output_type": "display_data"
    }
   ],
   "source": [
    "all_ladies[all_ladies['Free Rank'].str.isalpha() != True]['Points'].astype(float).hist()\n",
    "plt.show()"
   ]
  },
  {
   "cell_type": "code",
   "execution_count": 14,
   "metadata": {
    "collapsed": true
   },
   "outputs": [],
   "source": [
    "completed = all_ladies[all_ladies['Free Rank'].str.isalpha() != True]"
   ]
  },
  {
   "cell_type": "code",
   "execution_count": 15,
   "metadata": {
    "collapsed": false
   },
   "outputs": [],
   "source": [
    "ladies_17 = pd.concat(ladies[-10:])"
   ]
  },
  {
   "cell_type": "code",
   "execution_count": 16,
   "metadata": {
    "collapsed": false
   },
   "outputs": [
    {
     "data": {
      "image/png": "[encoded data removed]",
      "text/plain": [
       "<matplotlib.figure.Figure at 0x11a87b310>"
      ]
     },
     "metadata": {},
     "output_type": "display_data"
    }
   ],
   "source": [
    "ladies_17[ladies_17['Free Rank'].str.isalpha() != True]['Points'].astype(float).hist()\n",
    "plt.show()"
   ]
  },
  {
   "cell_type": "code",
   "execution_count": 11,
   "metadata": {
    "collapsed": false
   },
   "outputs": [],
   "source": [
    "def ascii_encode_dict(data):\n",
    "    ascii_encode = lambda x: x.encode('ascii')\n",
    "    return dict(map(ascii_encode, pair) for pair in data.items())\n",
    "\n",
    "with open('pd_data/name_fixes_men.json') as f:\n",
    "    men_name_fixes = f.read()\n",
    "men_name_fixes = json.loads(men_name_fixes, object_hook=ascii_encode_dict)"
   ]
  },
  {
   "cell_type": "code",
   "execution_count": 12,
   "metadata": {
    "collapsed": false
   },
   "outputs": [],
   "source": [
    "all_men_results = pd.concat(men)"
   ]
  },
  {
   "cell_type": "code",
   "execution_count": 13,
   "metadata": {
    "collapsed": false
   },
   "outputs": [],
   "source": [
    "all_men_results.Date = pd.to_datetime(all_men_results['Date'])"
   ]
  },
  {
   "cell_type": "code",
   "execution_count": 14,
   "metadata": {
    "collapsed": false
   },
   "outputs": [],
   "source": [
    "for wrong_name, right_name in men_name_fixes.iteritems():\n",
    "    all_men_results.loc[all_men_results.Name == wrong_name, 'Name'] = right_name"
   ]
  },
  {
   "cell_type": "code",
   "execution_count": 15,
   "metadata": {
    "collapsed": true
   },
   "outputs": [],
   "source": [
    "all_men_results = all_men_results[all_men_results['Event'] != 'gpfra2015']"
   ]
  },
  {
   "cell_type": "code",
   "execution_count": 16,
   "metadata": {
    "collapsed": false
   },
   "outputs": [],
   "source": [
    "winners = all_men_results[all_men_results['Rank'] == 1]\n",
    "winners = winners[winners['Event'] != 'gpfra2015']"
   ]
  },
  {
   "cell_type": "code",
   "execution_count": 17,
   "metadata": {
    "collapsed": false
   },
   "outputs": [],
   "source": [
    "hanyu = all_men_results[all_men_results['Name'] == 'Yuzuru HANYU']\n",
    "patrick = all_men_results[all_men_results['Name'] == 'Patrick CHAN']\n",
    "patrick = patrick[patrick['Event'] != 'gpfra2015']\n",
    "shoma = all_men_results[all_men_results['Name'] == 'Shoma UNO']\n",
    "shoma = shoma[shoma['Event'] != 'gpfra2015']\n",
    "javi = all_men_results[all_men_results['Name'] == 'Javier FERNANDEZ']\n",
    "javi = javi[javi['Free Rank'] != 'DNQ']\n",
    "boyang = all_men_results[all_men_results['Name'] == 'Boyang JIN']\n",
    "mikhail = all_men_results[all_men_results['Name'] == 'Mikhail KOLYADA']\n",
    "nathan = all_men_results[all_men_results['Name'] == 'Nathan CHEN']"
   ]
  },
  {
   "cell_type": "code",
   "execution_count": 52,
   "metadata": {
    "collapsed": false
   },
   "outputs": [
    {
     "data": {
      "image/png": "[encoded data removed]",
      "text/plain": [
       "<matplotlib.figure.Figure at 0x11c0b7ed0>"
      ]
     },
     "metadata": {},
     "output_type": "display_data"
    }
   ],
   "source": [
    "for data, name in ((hanyu, 'Yuzu'),\n",
    "                   (patrick, 'Patrick'),\n",
    "                   (shoma, 'Shoma'),\n",
    "                   (javi, 'Javi'),\n",
    "                   (boyang, 'Boyang'),\n",
    "                   (mikhail, 'Mikhail'),\n",
    "                   (nathan, 'Nathan')):\n",
    "    plt.scatter(data['Date'].values, data['Points'].astype(float), label=name)\n",
    "plt.legend()\n",
    "plt.show()"
   ]
  },
  {
   "cell_type": "code",
   "execution_count": 61,
   "metadata": {
    "collapsed": false
   },
   "outputs": [
    {
     "data": {
      "image/png": "[encoded data removed]",
      "text/plain": [
       "<matplotlib.figure.Figure at 0x11bb63850>"
      ]
     },
     "metadata": {},
     "output_type": "display_data"
    }
   ],
   "source": [
    "data = all_men_results[all_men_results['Name'] == 'Keiji TANAKA']\n",
    "plt.scatter(data['Date'].values, data['Points'].astype(float), label=name)\n",
    "plt.show()"
   ]
  },
  {
   "cell_type": "code",
   "execution_count": 48,
   "metadata": {
    "collapsed": false
   },
   "outputs": [
    {
     "data": {
      "image/png": "[encoded data removed]",
      "text/plain": [
       "<matplotlib.figure.Figure at 0x11c5410d0>"
      ]
     },
     "metadata": {},
     "output_type": "display_data"
    }
   ],
   "source": [
    "all_men_results[all_men_results.Name == 'Daisuke TAKAHASHI'].Points.astype(float).hist()\n",
    "plt.show()"
   ]
  },
  {
   "cell_type": "code",
   "execution_count": 45,
   "metadata": {
    "collapsed": true
   },
   "outputs": [],
   "source": [
    "perfs = {}\n",
    "for name in all_men_results.Name.unique():\n",
    "    perfs[name] = len(all_men_results[all_men_results.Name == name])"
   ]
  },
  {
   "cell_type": "code",
   "execution_count": 32,
   "metadata": {
    "collapsed": false
   },
   "outputs": [
    {
     "data": {
      "image/png": "[encoded data removed]",
      "text/plain": [
       "<matplotlib.figure.Figure at 0x11e85c4d0>"
      ]
     },
     "metadata": {},
     "output_type": "display_data"
    }
   ],
   "source": [
    "all_men_results[all_men_results['Free Rank'].str.isalpha() != True]['Points'].astype(float).hist()\n",
    "plt.show()"
   ]
  },
  {
   "cell_type": "code",
   "execution_count": 33,
   "metadata": {
    "collapsed": true
   },
   "outputs": [],
   "source": [
    "# score = previous_median_result + skate order\n",
    "ignore_wds = all_men_results[all_men_results.Points != 'WD']"
   ]
  },
  {
   "cell_type": "code",
   "execution_count": 34,
   "metadata": {
    "collapsed": false
   },
   "outputs": [],
   "source": [
    "ignore_wds = ignore_wds[ignore_wds.Event.map(\n",
    "     lambda x: x not in [event.name for event in seasons['2017'].events])]"
   ]
  },
  {
   "cell_type": "code",
   "execution_count": 79,
   "metadata": {
    "collapsed": false
   },
   "outputs": [],
   "source": [
    "ind_men_results = {skater: np.median(map(float, ignore_wds[ignore_wds.Name == skater].Points))\n",
    "                   for skater in ignore_wds.Name.get_values()}"
   ]
  },
  {
   "cell_type": "code",
   "execution_count": 80,
   "metadata": {
    "collapsed": false
   },
   "outputs": [
    {
     "data": {
      "text/plain": [
       "160.56999999999999"
      ]
     },
     "execution_count": 80,
     "metadata": {},
     "output_type": "execute_result"
    }
   ],
   "source": [
    "np.median(ind_men_results.values())"
   ]
  },
  {
   "cell_type": "code",
   "execution_count": 37,
   "metadata": {
    "collapsed": true
   },
   "outputs": [],
   "source": [
    "results2017 = all_men_results[all_men_results.Points != 'WD']\n",
    "results2017 = results2017[results2017.Event.map(lambda x: x in [event.name for event in seasons['2017'].events])]"
   ]
  },
  {
   "cell_type": "code",
   "execution_count": 81,
   "metadata": {
    "collapsed": true
   },
   "outputs": [],
   "source": [
    "def get_prev_score(row):\n",
    "    if row.Name not in ind_men_results:\n",
    "        return np.median(ind_men_results.values())\n",
    "    return ind_men_results[row.Name]"
   ]
  },
  {
   "cell_type": "code",
   "execution_count": 82,
   "metadata": {
    "collapsed": false
   },
   "outputs": [],
   "source": [
    "results2017['median_score'] = results2017.apply(get_prev_score, axis=1)"
   ]
  },
  {
   "cell_type": "code",
   "execution_count": 40,
   "metadata": {
    "collapsed": true
   },
   "outputs": [],
   "source": [
    "# Need start order + either SP or FS score\n",
    "# segment score = prev_median + start order"
   ]
  },
  {
   "cell_type": "code",
   "execution_count": 68,
   "metadata": {
    "collapsed": true
   },
   "outputs": [],
   "source": [
    "event_map = {event.name: event for event in seasons['2017'].events}"
   ]
  },
  {
   "cell_type": "code",
   "execution_count": 69,
   "metadata": {
    "collapsed": true
   },
   "outputs": [],
   "source": [
    "def get_start_order(row):\n",
    "    return event_map[row.Event].disciplines[0].segments[0].scorecards[int(row.Rank)-1].starting_number"
   ]
  },
  {
   "cell_type": "code",
   "execution_count": 70,
   "metadata": {
    "collapsed": false
   },
   "outputs": [],
   "source": [
    "results2017['start_order'] = results2017.apply(get_start_order, axis=1)"
   ]
  },
  {
   "cell_type": "code",
   "execution_count": 78,
   "metadata": {
    "collapsed": false
   },
   "outputs": [
    {
     "data": {
      "text/html": [
       "<div>\n",
       "<table border=\"1\" class=\"dataframe\">\n",
       "  <thead>\n",
       "    <tr style=\"text-align: right;\">\n",
       "      <th></th>\n",
       "      <th>Date</th>\n",
       "      <th>Event</th>\n",
       "      <th>Free Rank</th>\n",
       "      <th>Free Score</th>\n",
       "      <th>Name</th>\n",
       "      <th>Nation</th>\n",
       "      <th>Points</th>\n",
       "      <th>Rank</th>\n",
       "      <th>Short Rank</th>\n",
       "      <th>Short Score</th>\n",
       "      <th>median_score</th>\n",
       "      <th>start_order</th>\n",
       "      <th>max_score</th>\n",
       "    </tr>\n",
       "  </thead>\n",
       "  <tbody>\n",
       "    <tr>\n",
       "      <th>0</th>\n",
       "      <td>2016-10-23</td>\n",
       "      <td>gpusa2016</td>\n",
       "      <td>1</td>\n",
       "      <td>190.19</td>\n",
       "      <td>Shoma UNO</td>\n",
       "      <td>JPN</td>\n",
       "      <td>279.34</td>\n",
       "      <td>1</td>\n",
       "      <td>1</td>\n",
       "      <td>89.15</td>\n",
       "      <td>276.79</td>\n",
       "      <td>9</td>\n",
       "      <td>276.79</td>\n",
       "    </tr>\n",
       "    <tr>\n",
       "      <th>1</th>\n",
       "      <td>2016-10-23</td>\n",
       "      <td>gpusa2016</td>\n",
       "      <td>2</td>\n",
       "      <td>182.63</td>\n",
       "      <td>Jason BROWN</td>\n",
       "      <td>USA</td>\n",
       "      <td>268.38</td>\n",
       "      <td>2</td>\n",
       "      <td>3</td>\n",
       "      <td>85.75</td>\n",
       "      <td>248.29</td>\n",
       "      <td>10</td>\n",
       "      <td>248.29</td>\n",
       "    </tr>\n",
       "    <tr>\n",
       "      <th>2</th>\n",
       "      <td>2016-10-23</td>\n",
       "      <td>gpusa2016</td>\n",
       "      <td>3</td>\n",
       "      <td>174.11</td>\n",
       "      <td>Adam RIPPON</td>\n",
       "      <td>USA</td>\n",
       "      <td>261.43</td>\n",
       "      <td>3</td>\n",
       "      <td>2</td>\n",
       "      <td>87.32</td>\n",
       "      <td>264.44</td>\n",
       "      <td>8</td>\n",
       "      <td>264.44</td>\n",
       "    </tr>\n",
       "    <tr>\n",
       "      <th>3</th>\n",
       "      <td>2016-10-23</td>\n",
       "      <td>gpusa2016</td>\n",
       "      <td>5</td>\n",
       "      <td>166.6</td>\n",
       "      <td>Sergei VORONOV</td>\n",
       "      <td>RUS</td>\n",
       "      <td>245.28</td>\n",
       "      <td>4</td>\n",
       "      <td>5</td>\n",
       "      <td>78.68</td>\n",
       "      <td>252.55</td>\n",
       "      <td>5</td>\n",
       "      <td>252.55</td>\n",
       "    </tr>\n",
       "    <tr>\n",
       "      <th>4</th>\n",
       "      <td>2016-10-23</td>\n",
       "      <td>gpusa2016</td>\n",
       "      <td>4</td>\n",
       "      <td>172.15</td>\n",
       "      <td>Boyang JIN</td>\n",
       "      <td>CHN</td>\n",
       "      <td>245.08</td>\n",
       "      <td>5</td>\n",
       "      <td>8</td>\n",
       "      <td>72.93</td>\n",
       "      <td>289.83</td>\n",
       "      <td>4</td>\n",
       "      <td>289.83</td>\n",
       "    </tr>\n",
       "  </tbody>\n",
       "</table>\n",
       "</div>"
      ],
      "text/plain": [
       "        Date      Event Free Rank Free Score            Name Nation  Points  \\\n",
       "0 2016-10-23  gpusa2016         1     190.19       Shoma UNO    JPN  279.34   \n",
       "1 2016-10-23  gpusa2016         2     182.63     Jason BROWN    USA  268.38   \n",
       "2 2016-10-23  gpusa2016         3     174.11     Adam RIPPON    USA  261.43   \n",
       "3 2016-10-23  gpusa2016         5      166.6  Sergei VORONOV    RUS  245.28   \n",
       "4 2016-10-23  gpusa2016         4     172.15      Boyang JIN    CHN  245.08   \n",
       "\n",
       "  Rank Short Rank Short Score  median_score  start_order  max_score  \n",
       "0    1          1       89.15        276.79            9     276.79  \n",
       "1    2          3       85.75        248.29           10     248.29  \n",
       "2    3          2       87.32        264.44            8     264.44  \n",
       "3    4          5       78.68        252.55            5     252.55  \n",
       "4    5          8       72.93        289.83            4     289.83  "
      ]
     },
     "execution_count": 78,
     "metadata": {},
     "output_type": "execute_result"
    }
   ],
   "source": [
    "results2017.head()"
   ]
  },
  {
   "cell_type": "code",
   "execution_count": 73,
   "metadata": {
    "collapsed": false
   },
   "outputs": [],
   "source": [
    "X = results2017[['max_score', 'start_order']].astype(float)\n",
    "X = sm.add_constant(X)"
   ]
  },
  {
   "cell_type": "code",
   "execution_count": 74,
   "metadata": {
    "collapsed": false
   },
   "outputs": [],
   "source": [
    "y = results2017['Short Score'].astype(float)"
   ]
  },
  {
   "cell_type": "code",
   "execution_count": 75,
   "metadata": {
    "collapsed": false
   },
   "outputs": [
    {
     "name": "stdout",
     "output_type": "stream",
     "text": [
      "                            OLS Regression Results                            \n",
      "==============================================================================\n",
      "Dep. Variable:            Short Score   R-squared:                       0.586\n",
      "Model:                            OLS   Adj. R-squared:                  0.581\n",
      "Method:                 Least Squares   F-statistic:                     118.3\n",
      "Date:                Tue, 30 Jan 2018   Prob (F-statistic):           1.00e-32\n",
      "Time:                        19:53:06   Log-Likelihood:                -621.52\n",
      "No. Observations:                 170   AIC:                             1249.\n",
      "Df Residuals:                     167   BIC:                             1258.\n",
      "Df Model:                           2                                         \n",
      "Covariance Type:            nonrobust                                         \n",
      "===============================================================================\n",
      "                  coef    std err          t      P>|t|      [95.0% Conf. Int.]\n",
      "-------------------------------------------------------------------------------\n",
      "const          29.4918      3.053      9.661      0.000        23.465    35.519\n",
      "max_score       0.1881      0.013     14.021      0.000         0.162     0.215\n",
      "start_order     0.2970      0.076      3.895      0.000         0.146     0.448\n",
      "==============================================================================\n",
      "Omnibus:                       15.398   Durbin-Watson:                   1.788\n",
      "Prob(Omnibus):                  0.000   Jarque-Bera (JB):               31.781\n",
      "Skew:                           0.382   Prob(JB):                     1.26e-07\n",
      "Kurtosis:                       4.975   Cond. No.                         963.\n",
      "==============================================================================\n",
      "\n",
      "Warnings:\n",
      "[1] Standard Errors assume that the covariance matrix of the errors is correctly specified.\n"
     ]
    }
   ],
   "source": [
    "mod = sm.OLS(y, X).fit()\n",
    "print mod.summary()"
   ]
  },
  {
   "cell_type": "code",
   "execution_count": 84,
   "metadata": {
    "collapsed": false
   },
   "outputs": [
    {
     "name": "stdout",
     "output_type": "stream",
     "text": [
      "                            OLS Regression Results                            \n",
      "==============================================================================\n",
      "Dep. Variable:            Short Score   R-squared:                       0.971\n",
      "Model:                            OLS   Adj. R-squared:                  0.971\n",
      "Method:                 Least Squares   F-statistic:                     2863.\n",
      "Date:                Tue, 30 Jan 2018   Prob (F-statistic):          1.63e-130\n",
      "Time:                        19:56:41   Log-Likelihood:                -675.61\n",
      "No. Observations:                 170   AIC:                             1355.\n",
      "Df Residuals:                     168   BIC:                             1362.\n",
      "Df Model:                           2                                         \n",
      "Covariance Type:            nonrobust                                         \n",
      "================================================================================\n",
      "                   coef    std err          t      P>|t|      [95.0% Conf. Int.]\n",
      "--------------------------------------------------------------------------------\n",
      "median_score     0.3462      0.008     42.992      0.000         0.330     0.362\n",
      "start_order      0.4530      0.103      4.397      0.000         0.250     0.656\n",
      "==============================================================================\n",
      "Omnibus:                       27.217   Durbin-Watson:                   2.165\n",
      "Prob(Omnibus):                  0.000   Jarque-Bera (JB):               43.740\n",
      "Skew:                           0.835   Prob(JB):                     3.18e-10\n",
      "Kurtosis:                       4.839   Cond. No.                         20.9\n",
      "==============================================================================\n",
      "\n",
      "Warnings:\n",
      "[1] Standard Errors assume that the covariance matrix of the errors is correctly specified.\n"
     ]
    }
   ],
   "source": [
    "mod = sm.OLS(y, results2017[['median_score', 'start_order']].astype(float)).fit()\n",
    "print mod.summary()"
   ]
  },
  {
   "cell_type": "code",
   "execution_count": 87,
   "metadata": {
    "collapsed": false
   },
   "outputs": [
    {
     "name": "stdout",
     "output_type": "stream",
     "text": [
      "[ 0.          0.18809471  0.29700585] 29.4918027933 0.586217487688\n"
     ]
    }
   ],
   "source": [
    "from sklearn.linear_model import LinearRegression\n",
    "lr = LinearRegression()\n",
    "lr.fit(X, y)\n",
    "print lr.coef_, lr.intercept_, lr.score(X, y)"
   ]
  },
  {
   "cell_type": "code",
   "execution_count": 117,
   "metadata": {
    "collapsed": false
   },
   "outputs": [
    {
     "data": {
      "text/plain": [
       "([('Elena SOKOLOVA', 'Elena GLEBOVA'),\n",
       "  ('Elena SOKOLOVA', 'Alena LEONOVA'),\n",
       "  ('Elena SOKOLOVA', 'Alina FJODOROVA'),\n",
       "  ('Elena SOKOLOVA', 'Elena RADIONOVA'),\n",
       "  ('Beatrisa LIANG', 'Teresa LIN'),\n",
       "  ('Emily HUGHES', 'Emily NAPHTAL'),\n",
       "  ('Mira LEUNG', 'Tina WANG'),\n",
       "  ('Mira LEUNG', 'Mirna LIBRIC'),\n",
       "  ('Mira LEUNG', 'Bingwa GENG'),\n",
       "  ('Mira LEUNG', 'Ira VANNUT'),\n",
       "  ('Mira LEUNG', 'Ying ZHANG'),\n",
       "  ('Mira LEUNG', 'KIM Yuna'),\n",
       "  ('Mira LEUNG', 'Rika HONGO'),\n",
       "  ('Julia SEBESTYEN', 'Julia SHEREMET'),\n",
       "  ('Julia SEBESTYEN', 'Julia SAUTER'),\n",
       "  ('Dan FANG', 'Yan LIU'),\n",
       "  ('Dan FANG', 'Mao ASADA'),\n",
       "  ('Dan FANG', 'Na HOU'),\n",
       "  ('Dan FANG', 'Mai ASADA'),\n",
       "  ('Dan FANG', 'Diane CHEN'),\n",
       "  ('Dan FANG', 'LIU Yan'),\n",
       "  ('Dan FANG', 'Yueren WANG'),\n",
       "  ('Dan FANG', 'Tina WANG'),\n",
       "  ('Dan FANG', 'WANG Tina'),\n",
       "  ('Dan FANG', 'Dasa GRM'),\n",
       "  ('Dan FANG', 'Kexin ZHANG'),\n",
       "  ('Dan FANG', 'Ying ZHANG'),\n",
       "  ('Dan FANG', 'KIM Yuna'),\n",
       "  ('Dan FANG', 'Angela WANG'),\n",
       "  ('Dan FANG', 'Lu ZHENG'),\n",
       "  ('Dan FANG', 'Amy LIN'),\n",
       "  ('Dan FANG', 'Dabin CHOI'),\n",
       "  ('Yukari NAKANO', 'Yuka NAGAI'),\n",
       "  ('Yan LIU', 'Na HOU'),\n",
       "  ('Yan LIU', 'ANDO Miki'),\n",
       "  ('Yan LIU', 'Yu-Na KIM'),\n",
       "  ('Yan LIU', 'WANG Tina'),\n",
       "  ('Yan LIU', 'Yuna KIM'),\n",
       "  ('Yan LIU', 'Dasa GRM'),\n",
       "  ('Yan LIU', 'Zijun LI'),\n",
       "  ('Yan LIU', 'LI Zijun'),\n",
       "  ('Yan LIU', 'Amy LIN'),\n",
       "  ('Yan LIU', 'Nahyun KIM'),\n",
       "  ('Yan LIU', 'Shuran YU'),\n",
       "  ('Sarah MEIER', 'Clara PETERS'),\n",
       "  ('Sarah MEIER', 'Sarah HECKEN'),\n",
       "  ('Sarah MEIER', 'Mariah BELL'),\n",
       "  ('Sarah MEIER', 'Hannah MILLER'),\n",
       "  ('Lesley HAWKER', 'Ashley WAGNER'),\n",
       "  ('Joanne CARTER', 'Joelle FORTE'),\n",
       "  ('Mao ASADA', 'Miki ANDO'),\n",
       "  ('Mao ASADA', 'Mai ASADA'),\n",
       "  ('Mao ASADA', 'Aki SAWADA'),\n",
       "  ('Mao ASADA', 'Nana TAKEDA'),\n",
       "  ('Mao ASADA', 'ONO Tamami'),\n",
       "  ('Mao ASADA', 'Mai MIHARA'),\n",
       "  ('Viktoria PAVUK', 'Victoria MUNIZ'),\n",
       "  ('Na HOU', 'Yu-Na KIM'),\n",
       "  ('Na HOU', 'Tina WANG'),\n",
       "  ('Na HOU', 'Yuna KIM'),\n",
       "  ('Na HOU', 'Dasa GRM'),\n",
       "  ('Na HOU', 'Reyna HAMUI'),\n",
       "  ('Na HOU', 'LI Zijun'),\n",
       "  ('Na HOU', 'Rika HONGO'),\n",
       "  ('Na HOU', 'Lu ZHENG'),\n",
       "  ('Na HOU', 'Na Hyun KIM'),\n",
       "  ('Na HOU', 'Amy LIN'),\n",
       "  ('Na HOU', 'Dabin CHOI'),\n",
       "  ('Sasha COHEN', 'Diane CHEN'),\n",
       "  ('Sasha COHEN', 'Stasia RAGE'),\n",
       "  ('Sasha COHEN', 'Karen CHEN'),\n",
       "  ('Miki ANDO', 'Mai ASADA'),\n",
       "  ('Miki ANDO', 'LIU Yan'),\n",
       "  ('Miki ANDO', 'Aki SAWADA'),\n",
       "  ('Miki ANDO', 'Tina WANG'),\n",
       "  ('Miki ANDO', 'Tamami ONO'),\n",
       "  ('Miki ANDO', 'Rika HONGO'),\n",
       "  ('Susanna P\\xc3\\x96YKI\\xc3\\x96', 'Susanna P\\xcc\\xd0YKI\\xcc\\xd0'),\n",
       "  ('Susanna P\\xc3\\x96YKI\\xc3\\x96', 'Susanna POYKIO'),\n",
       "  ('Karen VENHUIZEN', 'Karen CHEN'),\n",
       "  ('Kiira KORPI', 'Alisa DREI'),\n",
       "  ('Susanna P\\xcc\\xd0YKI\\xcc\\xd0', 'Susanna POYKIO'),\n",
       "  ('Alisa DREI', 'Marina SEEH'),\n",
       "  ('Alisa DREI', 'Dasa GRM'),\n",
       "  ('Alisa DREI', 'Anita MADSEN'),\n",
       "  ('Elena GLEBOVA', 'Alena LEONOVA'),\n",
       "  ('Elena GLEBOVA', 'Elena RADIONOVA'),\n",
       "  ('Sonia RADEVA', 'Nana TAKEDA'),\n",
       "  ('Sonia RADEVA', 'Sonia LAFUENTE'),\n",
       "  ('Sonia RADEVA', 'Stasia RAGE'),\n",
       "  ('Sonia RADEVA', 'Sonja MUGOSA'),\n",
       "  ('Valentina MARCHEI', 'Valentina MATOS'),\n",
       "  ('Lina JOHANSSON', 'Karina JOHNSON'),\n",
       "  ('Olga ZADVORNOVA', 'Elena RADIONOVA'),\n",
       "  ('Mai ASADA', 'MEIER Sarah'),\n",
       "  ('Mai ASADA', 'Aki SAWADA'),\n",
       "  ('Mai ASADA', 'Nana TAKEDA'),\n",
       "  ('Mai ASADA', 'Mirai NAGASU'),\n",
       "  ('Mai ASADA', 'Marina SEEH'),\n",
       "  ('Mai ASADA', 'Mai MIHARA'),\n",
       "  ('Akiko KITAMURA', 'Mariko KIHARA'),\n",
       "  ('Ji Eun CHOI', 'Jocelyn HO'),\n",
       "  ('Ji Eun CHOI', 'Zijun LI'),\n",
       "  ('Ji Eun CHOI', 'Karen CHEN'),\n",
       "  ('Ji Eun CHOI', 'Da Bin CHOI'),\n",
       "  ('Ji Eun CHOI', 'Dabin CHOI'),\n",
       "  ('Chae-Hwa KIM', 'Yu-Na KIM'),\n",
       "  ('Chae-Hwa KIM', 'Chaochih LIU'),\n",
       "  ('Chae-Hwa KIM', 'Hae Jin KIM'),\n",
       "  ('Michelle CANTU', 'Michele CANTU'),\n",
       "  ('Yea-Ji SHIN', 'Yea-Ji YUN'),\n",
       "  ('Tammy SUTAN', 'Tamar KATZ'),\n",
       "  ('Tammy SUTAN', 'Amy LIN'),\n",
       "  ('Diane CHEN', 'Diane SZMIETT'),\n",
       "  ('Diane CHEN', 'Ying ZHANG'),\n",
       "  ('Diane CHEN', 'Karen CHEN'),\n",
       "  ('Diane CHEN', 'Dabin CHOI'),\n",
       "  ('Teresa LIN', 'Amy LIN'),\n",
       "  ('Lauren HENRY', 'Lauren KO'),\n",
       "  ('Lauren HENRY', 'Karen CHEN'),\n",
       "  ('MEIER Sarah', 'HECKEN Sarah'),\n",
       "  ('MEIER Sarah', 'Mai MIHARA'),\n",
       "  ('LIU Yan', 'Tina WANG'),\n",
       "  ('LIU Yan', 'KIM Yu-Na'),\n",
       "  ('LIU Yan', 'Zijun LI'),\n",
       "  ('LIU Yan', 'Ying ZHANG'),\n",
       "  ('LIU Yan', 'KIM Yuna'),\n",
       "  ('LIU Yan', 'LI Zijun'),\n",
       "  ('LIU Yan', 'KIM Haejin'),\n",
       "  ('LIU Yan', 'Lu ZHENG'),\n",
       "  ('LIU Yan', 'Amy LIN'),\n",
       "  ('LEUNG Mira', 'WANG Tina'),\n",
       "  ('LEUNG Mira', 'Yuna KIM'),\n",
       "  ('SOKOLOVA Elena', 'GLEBOVA Elena'),\n",
       "  ('SOKOLOVA Elena', 'LEONOVA Alena'),\n",
       "  ('ANDO Miki', 'ASADA Mao'),\n",
       "  ('ANDO Miki', 'WANG Tina'),\n",
       "  ('ANDO Miki', 'ONO Tamami'),\n",
       "  ('ANDO Miki', 'Amy LIN'),\n",
       "  ('KIM Yong Suk', 'KIM Na-Yug'),\n",
       "  ('KIM Yong Suk', 'KIM Yuna'),\n",
       "  ('GLEBOVA Elena', 'LEONOVA Alena'),\n",
       "  ('Arina MARTINOVA', 'Sabina MARIUTA'),\n",
       "  ('Yu-Na KIM', 'Na-Young KIM'),\n",
       "  ('Yu-Na KIM', 'Yuna KIM'),\n",
       "  ('Yu-Na KIM', 'Dasa GRM'),\n",
       "  ('Yu-Na KIM', 'Riona KATO'),\n",
       "  ('Yu-Na KIM', 'Yuka NAGAI'),\n",
       "  ('Yu-Na KIM', 'Na Hyun KIM'),\n",
       "  ('Yu-Na KIM', 'Nahyun KIM'),\n",
       "  ('Aki SAWADA', 'Ami PAREKH'),\n",
       "  ('Aki SAWADA', 'Nana TAKEDA'),\n",
       "  ('Aki SAWADA', 'Mai MIHARA'),\n",
       "  ('Candice DIDIER', 'Gwendoline DIDIER'),\n",
       "  ('Jenna McCORKELL', 'Jenna MCCORKELL'),\n",
       "  ('Alexandra IEVLEVA', 'Alexandra KUNOVA'),\n",
       "  ('Tamar KATZ', 'Tina WANG'),\n",
       "  ('Tamar KATZ', 'Tamami ONO'),\n",
       "  ('Tamar KATZ', 'Riona KATO'),\n",
       "  ('Julia SHEREMET', 'Polina SHELEPEN'),\n",
       "  ('Julia SHEREMET', 'Julia SAUTER'),\n",
       "  ('Maria-Elena PAPASOTIRIOU', 'Maria PAPASOTIRIOU'),\n",
       "  ('Isabelle PIEMAN', 'Isabelle OLSSON'),\n",
       "  ('Julia TEPLIH', 'Julia SAUTER'),\n",
       "  ('Na-Young KIM', 'Yuna KIM'),\n",
       "  ('Na-Young KIM', 'Hae Jin KIM'),\n",
       "  ('Na-Young KIM', 'Tae Kyung KIM'),\n",
       "  ('Na-Young KIM', 'Na Hyun KIM'),\n",
       "  ('Na-Young KIM', 'Nahyun KIM'),\n",
       "  ('Caroline ZHANG', 'Kexin ZHANG'),\n",
       "  ('Caroline ZHANG', 'Ying ZHANG'),\n",
       "  ('Ashley WAGNER', 'Ashley CAIN'),\n",
       "  ('Nana TAKEDA', 'WANG Tina'),\n",
       "  ('Laura LEPISTO', 'Laura LEPIST\\xcc\\xd0'),\n",
       "  ('Laura LEPISTO', 'Laura LEPIST\\xc3\\x96'),\n",
       "  ('Yueren WANG', 'Tina WANG'),\n",
       "  ('Yueren WANG', 'Melinda WANG'),\n",
       "  ('Yueren WANG', 'Kexin ZHANG'),\n",
       "  ('Yueren WANG', 'Angela WANG'),\n",
       "  ('Loretta HAMUI', 'Reyna HAMUI'),\n",
       "  ('Tina WANG', 'Bingwa GENG'),\n",
       "  ('Tina WANG', 'Melinda WANG'),\n",
       "  ('Tina WANG', 'Yuna KIM'),\n",
       "  ('Tina WANG', 'Ira VANNUT'),\n",
       "  ('Tina WANG', 'Kexin ZHANG'),\n",
       "  ('Tina WANG', 'Ying ZHANG'),\n",
       "  ('Tina WANG', 'Sila SAYGI'),\n",
       "  ('Tina WANG', 'KIM Yuna'),\n",
       "  ('Tina WANG', 'Rika HONGO'),\n",
       "  ('Tina WANG', 'Angela WANG'),\n",
       "  ('Tina WANG', 'Riona KATO'),\n",
       "  ('Tamami ONO', 'ASADA Mao'),\n",
       "  ('Tamami ONO', 'Miyabi OBA'),\n",
       "  ('Mirai NAGASU', 'Yuka NAGAI'),\n",
       "  ('Alena LEONOVA', 'Alina FJODOROVA'),\n",
       "  ('Alena LEONOVA', 'Elena RADIONOVA'),\n",
       "  ('Laura LEPIST\\xcc\\xd0', 'Laura LEPIST\\xc3\\x96'),\n",
       "  ('Kerstin FRANK', 'Kexin ZHANG'),\n",
       "  ('Nicole GRAF', 'Nicole SCHOTT'),\n",
       "  ('Zanna PUGACA', 'Sonja MUGOSA'),\n",
       "  ('KIM Yu-Na', 'KIM Hye-Jug'),\n",
       "  ('KIM Yu-Na', 'KIM Na-Yug'),\n",
       "  ('KIM Yu-Na', 'KIM Yuna'),\n",
       "  ('KIM Yu-Na', 'KIM Haejin'),\n",
       "  ('ASADA Mao', 'Haruka IMAI'),\n",
       "  ('ASADA Mao', 'Dasa GRM'),\n",
       "  ('ASADA Mao', 'Riona KATO'),\n",
       "  ('ASADA Mao', 'Giada RUSSO'),\n",
       "  ('ZHANG Caroline', 'ZHANG Kexin'),\n",
       "  ('KIM Hye-Jug', 'KIM Na-Yug'),\n",
       "  ('KIM Hye-Jug', 'KWAK Mi-Jug'),\n",
       "  ('KIM Hye-Jug', 'KIM Yuna'),\n",
       "  ('KIM Hye-Jug', 'KIM Haejin'),\n",
       "  ('XU Binshu', 'Da Bin CHOI'),\n",
       "  ('KIM Na-Yug', 'KWAK Mi-Jug'),\n",
       "  ('KIM Na-Yug', 'KIM Yuna'),\n",
       "  ('KIM Na-Yug', 'KIM Haejin'),\n",
       "  ('WANG Tina', 'WANG Yueren'),\n",
       "  ('WANG Tina', 'WANG Melinda'),\n",
       "  ('WANG Tina', 'Yuna KIM'),\n",
       "  ('WANG Tina', 'KIM Yuna'),\n",
       "  ('WANG Tina', 'ZHANG Kexin'),\n",
       "  ('WANG Tina', 'Amy LIN'),\n",
       "  ('WANG Yueren', 'WANG Melinda'),\n",
       "  ('WANG Yueren', 'ZHANG Kexin'),\n",
       "  ('WANG Melinda', 'ZHANG Kexin'),\n",
       "  ('Alexe GILLES', 'Alice GARLISI'),\n",
       "  ('Bingwa GENG', 'Ying ZHANG'),\n",
       "  ('Bingwa GENG', 'Angela WANG'),\n",
       "  ('Sarah HECKEN', 'Karen CHEN'),\n",
       "  ('Martina BOCEK', 'Marina SEEH'),\n",
       "  ('Sabina PAQUIER', 'Sabina MARIUTA'),\n",
       "  ('Marina SEEH', 'Karen CHEN'),\n",
       "  ('Marina SEEH', 'Mariah BELL'),\n",
       "  ('Haruka IMAI', 'Yuka NAGAI'),\n",
       "  ('Min-Jung KWAK', 'Min-Jeong KWAK'),\n",
       "  ('Melinda WANG', 'Melanie SWANG'),\n",
       "  ('Melinda WANG', 'Kexin ZHANG'),\n",
       "  ('Melinda WANG', 'Angela WANG'),\n",
       "  ('Lauren KO', 'Xiaowen GUO'),\n",
       "  ('Lauren KO', 'Karen CHEN'),\n",
       "  ('Lauren KO', 'Nahyun KIM'),\n",
       "  ('Lauren KO', 'Shuran YU'),\n",
       "  ('NAGASU Mirai', 'Natasha MCKAY'),\n",
       "  ('Qiuying ZHU', 'Ying ZHANG'),\n",
       "  ('Yuna KIM', 'Dasa GRM'),\n",
       "  ('Yuna KIM', 'Zijun LI'),\n",
       "  ('Yuna KIM', 'Tae Kyung KIM'),\n",
       "  ('Yuna KIM', 'Riona KATO'),\n",
       "  ('Yuna KIM', 'Yuka NAGAI'),\n",
       "  ('Yuna KIM', 'Na Hyun KIM'),\n",
       "  ('Yuna KIM', 'Amy LIN'),\n",
       "  ('Yuna KIM', 'Nahyun KIM'),\n",
       "  ('Dasa GRM', 'Amy LIN'),\n",
       "  ('Gerli LIINAM\\xc3\\x84E', 'Gerli LIINAM\\xcc\\xe3E'),\n",
       "  ('Reyna HAMUI', 'Riona KATO'),\n",
       "  ('Elizaveta TUKTAMISHEVA', 'Elizaveta TUKTAMYSHEVA'),\n",
       "  ('Kexin ZHANG', 'Ying ZHANG'),\n",
       "  ('Kexin ZHANG', 'Karen CHEN'),\n",
       "  ('Kexin ZHANG', 'Lu ZHENG'),\n",
       "  ('Zara PASFIELD', 'Katie PASFIELD'),\n",
       "  ('Zijun LI', 'Ziquan ZHAO'),\n",
       "  ('Zijun LI', 'Amy LIN'),\n",
       "  ('Zijun LI', 'Nahyun KIM'),\n",
       "  ('Ying ZHANG', 'Rika HONGO'),\n",
       "  ('Ying ZHANG', 'Lu ZHENG'),\n",
       "  ('Anita MADSEN', 'Janina MAKEENKA'),\n",
       "  ('Anita MADSEN', 'Thita LAMSAM'),\n",
       "  ('Sila SAYGI', 'Rika HONGO'),\n",
       "  ('Sila SAYGI', 'Yuka NAGAI'),\n",
       "  ('Yeon Jun PARK', 'So Youn PARK'),\n",
       "  ('Satoko MIYAHARA', 'Mariko KIHARA'),\n",
       "  ('Hae Jin KIM', 'Tae Kyung KIM'),\n",
       "  ('Hae Jin KIM', 'Na Hyun KIM'),\n",
       "  ('Hae Jin KIM', 'Nahyun KIM'),\n",
       "  ('Tae Kyung KIM', 'Na Hyun KIM'),\n",
       "  ('Tae Kyung KIM', 'Nahyun KIM'),\n",
       "  ('KIM Yuna', 'LI Zijun'),\n",
       "  ('KIM Yuna', 'KIM Haejin'),\n",
       "  ('KIM Yuna', 'Amy LIN'),\n",
       "  ('LI Zijun', 'KIM Haejin'),\n",
       "  ('LI Zijun', 'Lu ZHENG'),\n",
       "  ('LI Zijun', 'Amy LIN'),\n",
       "  ('ZHANG Kexin', 'FRANK Kerstin'),\n",
       "  ('Rika HONGO', 'Riona KATO'),\n",
       "  ('Ashley CAIN', 'Amy LIN'),\n",
       "  ('Maria STAVITSKAIA', 'Maria SOTSKOVA'),\n",
       "  ('Maria ARTEMIEVA', 'Maria SOTSKOVA'),\n",
       "  ('Helery H\\xcc\\xe3LVIN', 'Helery H\\xc3\\x84LVIN'),\n",
       "  ('Karen CHEN', 'Da Bin CHOI'),\n",
       "  ('Karen CHEN', 'Dabin CHOI'),\n",
       "  ('Mariko KIHARA', 'Mai MIHARA'),\n",
       "  ('Da Bin CHOI', 'Dabin CHOI'),\n",
       "  ('Na Hyun KIM', 'Nahyun KIM'),\n",
       "  ('Na Hyun KIM', 'Suh Hyun SON'),\n",
       "  ('Amy LIN', 'Nahyun KIM')],\n",
       " {'ALLELY Megan': 'Megan ALLELY',\n",
       "  'ANDO Miki': 'Miki ANDO',\n",
       "  'ARAKAWA Shizuka': 'Shizuka ARAKAWA',\n",
       "  'ASADA Mao': 'Mai ASADA',\n",
       "  'BALDO Alessia': 'Alessia BALDO',\n",
       "  'CANTU Michele': 'Michele CANTU',\n",
       "  'CARTER Joanne': 'Joanne CARTER',\n",
       "  'COHEN Sasha': 'Sasha COHEN',\n",
       "  'CZISNY Alissa': 'Alissa CZISNY',\n",
       "  'DALEMAN Gabrielle': 'Gabrielle DALEMAN',\n",
       "  'EDMUNDS Polina': 'Polina EDMUNDS',\n",
       "  'EFREMENKO Galina': 'Galina EFREMENKO',\n",
       "  'FLATT Rachael': 'Rachael FLATT',\n",
       "  'FRANK Kerstin': 'Kerstin FRANK',\n",
       "  'GEDEVANISHVILI Elene': 'Elene GEDEVANISHVILI',\n",
       "  'GIMAZETDINOVA Anastasia': 'Anastasia GIMAZETDINOVA',\n",
       "  'GLEBOVA Elena': 'Elena GLEBOVA',\n",
       "  'GOLD Gracie': 'Gracie GOLD',\n",
       "  'HAMUI Loretta': 'Loretta HAMUI',\n",
       "  'HAN Brooklee': 'Brooklee HAN',\n",
       "  'HECKEN Sarah': 'Sarah HECKEN',\n",
       "  'HEGEL Idora': 'Idora HEGEL',\n",
       "  'HELGESSON Viktoria': 'Viktoria HELGESSON',\n",
       "  'HUGHES Emily': 'Emily HUGHES',\n",
       "  'JURKIEWICZ Anna': 'Anna JURKIEWICZ',\n",
       "  'KARADEMIR Tugba': 'Tugba KARADEMIR',\n",
       "  'KIANG Crystal': 'Crystal KIANG',\n",
       "  'KIM Na-Yug': 'Nahyun KIM',\n",
       "  'KIM Yu-Na': 'Yuna KIM',\n",
       "  'KIM Yuna': 'Yuna KIM',\n",
       "  'KORPI Kiira': 'Kiira KORPI',\n",
       "  'KOSTNER Carolina': 'Carolina KOSTNER',\n",
       "  'KWAK Mi-Jug': 'Min-Jung KWAK',\n",
       "  'LACOSTE Amelie': 'Amelie LACOSTE',\n",
       "  'LAFUENTE Sonia': 'Sonia LAFUENTE',\n",
       "  'LEE Cheltzie': 'Cheltzie LEE',\n",
       "  'LEONOVA Alena': 'Alena LEONOVA',\n",
       "  'LEPISTO Laura': 'Laura LEPIST\\xc3\\x96',\n",
       "  'LEUNG Mira': 'Mira LEUNG',\n",
       "  'LI Zijun': 'Zijun LI',\n",
       "  'LIASHENKO Elena': 'Elena LIASHENKO',\n",
       "  'LIPNITSKAYA Yulia': 'Julia LIPNITSKAIA',\n",
       "  'LIU Chaochih': 'Chaochih LIU',\n",
       "  'LIU Yan': 'Yuna KIM',\n",
       "  'LUCA Roxana': 'Roxana LUCA',\n",
       "  'MAKAROVA Ksenia': 'Ksenia MAKAROVA',\n",
       "  'MARAIS Lejeanne': 'Lejeanne MARAIS',\n",
       "  'MARCHEI Valentina': 'Valentina MARCHEI',\n",
       "  'MAXWELL Fleur': 'Fleur MAXWELL',\n",
       "  'MEIER Sarah': 'Sarah MEIER',\n",
       "  'MEISSNER Kimmie': 'Kimmie MEISSNER',\n",
       "  'MURAKAMI Kanako': 'Kanako MURAKAMI',\n",
       "  'McCORKELL Jenna': 'Jenna MCCORKELL',\n",
       "  'NAGASU Mirai': 'Mirai NAGASU',\n",
       "  'ONO Tamami': 'Tamami ONO',\n",
       "  'OSMOND Kaetlyn': 'Kaetlyn OSMOND',\n",
       "  'PAVUK Viktoria': 'Viktoria PAVUK',\n",
       "  'PERFETTI Stacy': 'Stacy PERFETTI',\n",
       "  'PHANEUF Cynthia': 'Cynthia PHANEUF',\n",
       "  'PIEMAN Isabelle': 'Isabelle PIEMAN',\n",
       "  'PIETERSEN Abigail': 'Abigail PIETERSEN',\n",
       "  'POPOVA Natalia': 'Natalia POPOVA',\n",
       "  'POSTIC Teodora': 'Teodora POSTIC',\n",
       "  'POYKIO Susanna': 'Susanna POYKIO',\n",
       "  'RAJICOVA Nicole': 'Nicole RAJICOVA',\n",
       "  'REITMAYEROVA Ivana': 'Ivana REITMAYEROVA',\n",
       "  'ROCHETTE Joannie': 'Joannie ROCHETTE',\n",
       "  'SEBESTYEN Julia': 'Julia SEBESTYEN',\n",
       "  'SLUTSKAYA Irina': 'Irina SLUTSKAYA',\n",
       "  'SOKOLOVA Elena': 'Elena SOKOLOVA',\n",
       "  'SOTNIKOVA Adelina': 'Adelina SOTNIKOVA',\n",
       "  'SUGURI Fumie': 'Fumie SUGURI',\n",
       "  'SUZUKI Akiko': 'Akiko SUZUKI',\n",
       "  'TANSOMBOON Charissa': 'Charissa TANSOMBOON',\n",
       "  'WAGNER Ashley': 'Ashley WAGNER',\n",
       "  'WANG Melinda': 'Melinda WANG',\n",
       "  'WANG Tina': 'Ying ZHANG',\n",
       "  'WANG Yueren': 'Yueren WANG',\n",
       "  'WEINZIERL Nathalie': 'Nathalie WEINZIERL',\n",
       "  'WILLIAMS Isadora': 'Isadora WILLIAMS',\n",
       "  'XU Binshu': 'Binshu XU',\n",
       "  'ZHANG Caroline': 'Caroline ZHANG',\n",
       "  'ZHANG Kexin': 'Kexin ZHANG',\n",
       "  'ZIEGLER Miriam': 'Miriam ZIEGLER'})"
      ]
     },
     "execution_count": 117,
     "metadata": {},
     "output_type": "execute_result"
    }
   ],
   "source": [
    "get_similar_names(pd.concat(ladies)['Name'].unique())"
   ]
  },
  {
   "cell_type": "code",
   "execution_count": 66,
   "metadata": {
    "collapsed": false
   },
   "outputs": [],
   "source": [
    "# Tried to cluster judges for wc2017 free dance. Don't see any bloc voting.\n",
    "# seasons['2017'].events[-1].disciplines[-1].segments[-1].scorecards[0].print_scorecard()"
   ]
  },
  {
   "cell_type": "code",
   "execution_count": 48,
   "metadata": {
    "collapsed": true
   },
   "outputs": [],
   "source": [
    "judges = [[] for _ in xrange(9)]"
   ]
  },
  {
   "cell_type": "code",
   "execution_count": 49,
   "metadata": {
    "collapsed": false
   },
   "outputs": [],
   "source": [
    "for scorecard in seasons['2017'].events[-1].disciplines[-1].segments[-1].scorecards:\n",
    "    for elt in scorecard.elements:\n",
    "        for i, goe in enumerate(elt.goes):\n",
    "            judges[i].append(goe)\n",
    "    for comp in scorecard.components:\n",
    "        for i, score in enumerate(comp.scores):\n",
    "            judges[i].append(score)"
   ]
  },
  {
   "cell_type": "code",
   "execution_count": 60,
   "metadata": {
    "collapsed": true
   },
   "outputs": [],
   "source": [
    "from sklearn.cluster import KMeans"
   ]
  },
  {
   "cell_type": "code",
   "execution_count": 64,
   "metadata": {
    "collapsed": false
   },
   "outputs": [],
   "source": [
    "kmeans = KMeans(3).fit(np.array(judges))"
   ]
  },
  {
   "cell_type": "code",
   "execution_count": 65,
   "metadata": {
    "collapsed": false
   },
   "outputs": [
    {
     "data": {
      "text/plain": [
       "array([0, 1, 2, 1, 2, 0, 1, 1, 1], dtype=int32)"
      ]
     },
     "execution_count": 65,
     "metadata": {},
     "output_type": "execute_result"
    }
   ],
   "source": [
    "kmeans.labels_"
   ]
  },
  {
   "cell_type": "code",
   "execution_count": 63,
   "metadata": {
    "collapsed": false
   },
   "outputs": [
    {
     "data": {
      "text/plain": [
       "Official(function=u'Referee', name=u'Mr. Rolf PIPOH', nation=u'ISU')\n",
       "Official(function=u'Technical Controller', name=u'Ms. Ludmila MIKHAILOVSKAYA', nation=u'ISU')\n",
       "Official(function=u'Technical Specialist', name=u'Mr. Andrzej DOSTATNI', nation=u'ISU')\n",
       "Official(function=u'Assistant Technical Specialist', name=u'Mr. Gy\\xf6rgy ELEK', nation=u'ISU')\n",
       "Official(function=u'Judge No.1', name=u'Ms. Marta OLOZAGARRE', nation=u'ISU')\n",
       "Official(function=u'Judge No.2', name=u'Ms. Nicole LEBLANC-RICHARD', nation=u'ISU')\n",
       "Official(function=u'Judge No.3', name=u'Ms. Sharon ROGERS', nation=u'ISU')\n",
       "Official(function=u'Judge No.4', name=u'Ms. Chihee RHEE', nation=u'ISU')\n",
       "Official(function=u'Judge No.5', name=u'Mr. Vladislav PETUKHOV', nation=u'ISU')\n",
       "Official(function=u'Judge No.6', name=u'Mr. Christian BAUMANN', nation=u'ISU')\n",
       "Official(function=u'Judge No.7', name=u'Mr. Garry HOPPE', nation=u'ISU')\n",
       "Official(function=u'Judge No.8', name=u'Ms. Maira ABASOVA', nation=u'ISU')\n",
       "Official(function=u'Judge No.9', name=u'Mr. Richard KOSINA', nation=u'ISU')\n",
       "Official(function=u'Data Operator', name=u'Mr. Lionel AVOT', nation=u'ISU')\n",
       "Official(function=u'Replay Operator', name=u'Ms. Julia DEGENHARDT', nation=u'ISU')"
      ]
     },
     "execution_count": 63,
     "metadata": {},
     "output_type": "execute_result"
    }
   ],
   "source": [
    "seasons['2017'].events[-1].disciplines[-1].segments[-1].panel"
   ]
  },
  {
   "cell_type": "code",
   "execution_count": null,
   "metadata": {
    "collapsed": true
   },
   "outputs": [],
   "source": [
    "Marta OLOZAGARRE    # SPA\n",
    "Nicole LEBLANC-RICHARD   # CAN -\n",
    "Sharon ROGERS       # USA --\n",
    "Chihee RHEE         # KOR -\n",
    "Vladislav PETUKHOV  # UKR --\n",
    "Christian BAUMANN   # GER \n",
    "Garry HOPPE         # GBR -\n",
    "Maira ABASOVA       # RUS -\n",
    "Mr. Richard KOSINA  # CZE -"
   ]
  }
 ],
 "metadata": {
  "kernelspec": {
   "display_name": "Python 2",
   "language": "python",
   "name": "python2"
  },
  "language_info": {
   "codemirror_mode": {
    "name": "ipython",
    "version": 2
   },
   "file_extension": ".py",
   "mimetype": "text/x-python",
   "name": "python",
   "nbconvert_exporter": "python",
   "pygments_lexer": "ipython2",
   "version": "2.7.13"
  }
 },
 "nbformat": 4,
 "nbformat_minor": 2
}
