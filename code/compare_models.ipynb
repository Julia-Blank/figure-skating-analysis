{
 "cells": [
  {
   "cell_type": "code",
   "execution_count": 1,
   "metadata": {
    "collapsed": true
   },
   "outputs": [],
   "source": [
    "%matplotlib inline\n",
    "\n",
    "import matplotlib.pyplot as plt\n",
    "import numpy as np\n",
    "import pandas as pd\n",
    "import pickle"
   ]
  },
  {
   "cell_type": "code",
   "execution_count": 2,
   "metadata": {
    "collapsed": true
   },
   "outputs": [],
   "source": [
    "with open('season2018.pickle') as f:\n",
    "    season2018 = pickle.load(f)"
   ]
  },
  {
   "cell_type": "code",
   "execution_count": 32,
   "metadata": {
    "collapsed": true
   },
   "outputs": [],
   "source": [
    "elements_pred = pd.read_csv('fits/men_multi_elts_1.csv')\n",
    "components_pred = pd.read_csv('fits/men_multi_comp_1.csv')"
   ]
  },
  {
   "cell_type": "code",
   "execution_count": 33,
   "metadata": {
    "collapsed": false
   },
   "outputs": [
    {
     "data": {
      "text/html": [
       "<div>\n",
       "<table border=\"1\" class=\"dataframe\">\n",
       "  <thead>\n",
       "    <tr style=\"text-align: right;\">\n",
       "      <th></th>\n",
       "      <th>Unnamed: 0</th>\n",
       "      <th>Unnamed: 0.1</th>\n",
       "      <th>Unnamed: 0.1.1</th>\n",
       "      <th>bonus</th>\n",
       "      <th>date</th>\n",
       "      <th>element</th>\n",
       "      <th>elt_type</th>\n",
       "      <th>event</th>\n",
       "      <th>goe</th>\n",
       "      <th>info</th>\n",
       "      <th>number</th>\n",
       "      <th>points</th>\n",
       "      <th>segment</th>\n",
       "      <th>segment_rank</th>\n",
       "      <th>skater</th>\n",
       "      <th>start_order</th>\n",
       "      <th>skater_code</th>\n",
       "      <th>partial_pool_prediction</th>\n",
       "      <th>pooled_prediction</th>\n",
       "      <th>unpooled_prediction</th>\n",
       "    </tr>\n",
       "  </thead>\n",
       "  <tbody>\n",
       "    <tr>\n",
       "      <th>0</th>\n",
       "      <td>0</td>\n",
       "      <td>0</td>\n",
       "      <td>0</td>\n",
       "      <td>False</td>\n",
       "      <td>2017-10-22</td>\n",
       "      <td>4Lz+3T</td>\n",
       "      <td>4j</td>\n",
       "      <td>gprus2017</td>\n",
       "      <td>1.57</td>\n",
       "      <td>NaN</td>\n",
       "      <td>1</td>\n",
       "      <td>19.47</td>\n",
       "      <td>gprus2017 men_short</td>\n",
       "      <td>1</td>\n",
       "      <td>Nathan CHEN</td>\n",
       "      <td>10</td>\n",
       "      <td>205</td>\n",
       "      <td>12.647146</td>\n",
       "      <td>9.578746</td>\n",
       "      <td>13.102899</td>\n",
       "    </tr>\n",
       "    <tr>\n",
       "      <th>1</th>\n",
       "      <td>1</td>\n",
       "      <td>1</td>\n",
       "      <td>1</td>\n",
       "      <td>False</td>\n",
       "      <td>2017-10-22</td>\n",
       "      <td>FSSp4</td>\n",
       "      <td>sp</td>\n",
       "      <td>gprus2017</td>\n",
       "      <td>0.86</td>\n",
       "      <td>NaN</td>\n",
       "      <td>2</td>\n",
       "      <td>3.86</td>\n",
       "      <td>gprus2017 men_short</td>\n",
       "      <td>1</td>\n",
       "      <td>Nathan CHEN</td>\n",
       "      <td>10</td>\n",
       "      <td>205</td>\n",
       "      <td>3.773436</td>\n",
       "      <td>3.062927</td>\n",
       "      <td>3.787730</td>\n",
       "    </tr>\n",
       "    <tr>\n",
       "      <th>2</th>\n",
       "      <td>2</td>\n",
       "      <td>2</td>\n",
       "      <td>2</td>\n",
       "      <td>False</td>\n",
       "      <td>2017-10-22</td>\n",
       "      <td>CCSp3</td>\n",
       "      <td>sp</td>\n",
       "      <td>gprus2017</td>\n",
       "      <td>0.21</td>\n",
       "      <td>NaN</td>\n",
       "      <td>3</td>\n",
       "      <td>3.01</td>\n",
       "      <td>gprus2017 men_short</td>\n",
       "      <td>1</td>\n",
       "      <td>Nathan CHEN</td>\n",
       "      <td>10</td>\n",
       "      <td>205</td>\n",
       "      <td>3.734792</td>\n",
       "      <td>3.062927</td>\n",
       "      <td>3.787730</td>\n",
       "    </tr>\n",
       "    <tr>\n",
       "      <th>3</th>\n",
       "      <td>3</td>\n",
       "      <td>3</td>\n",
       "      <td>3</td>\n",
       "      <td>True</td>\n",
       "      <td>2017-10-22</td>\n",
       "      <td>4F</td>\n",
       "      <td>4j</td>\n",
       "      <td>gprus2017</td>\n",
       "      <td>-1.03</td>\n",
       "      <td>NaN</td>\n",
       "      <td>4</td>\n",
       "      <td>12.50</td>\n",
       "      <td>gprus2017 men_short</td>\n",
       "      <td>1</td>\n",
       "      <td>Nathan CHEN</td>\n",
       "      <td>10</td>\n",
       "      <td>205</td>\n",
       "      <td>12.459942</td>\n",
       "      <td>9.578746</td>\n",
       "      <td>13.102899</td>\n",
       "    </tr>\n",
       "    <tr>\n",
       "      <th>4</th>\n",
       "      <td>4</td>\n",
       "      <td>4</td>\n",
       "      <td>4</td>\n",
       "      <td>True</td>\n",
       "      <td>2017-10-22</td>\n",
       "      <td>3A</td>\n",
       "      <td>3j</td>\n",
       "      <td>gprus2017</td>\n",
       "      <td>-0.86</td>\n",
       "      <td>NaN</td>\n",
       "      <td>5</td>\n",
       "      <td>8.49</td>\n",
       "      <td>gprus2017 men_short</td>\n",
       "      <td>1</td>\n",
       "      <td>Nathan CHEN</td>\n",
       "      <td>10</td>\n",
       "      <td>205</td>\n",
       "      <td>8.157336</td>\n",
       "      <td>6.923761</td>\n",
       "      <td>8.681645</td>\n",
       "    </tr>\n",
       "  </tbody>\n",
       "</table>\n",
       "</div>"
      ],
      "text/plain": [
       "   Unnamed: 0  Unnamed: 0.1  Unnamed: 0.1.1  bonus        date element  \\\n",
       "0           0             0               0  False  2017-10-22  4Lz+3T   \n",
       "1           1             1               1  False  2017-10-22   FSSp4   \n",
       "2           2             2               2  False  2017-10-22   CCSp3   \n",
       "3           3             3               3   True  2017-10-22      4F   \n",
       "4           4             4               4   True  2017-10-22      3A   \n",
       "\n",
       "  elt_type      event   goe info  number  points              segment  \\\n",
       "0       4j  gprus2017  1.57  NaN       1   19.47  gprus2017 men_short   \n",
       "1       sp  gprus2017  0.86  NaN       2    3.86  gprus2017 men_short   \n",
       "2       sp  gprus2017  0.21  NaN       3    3.01  gprus2017 men_short   \n",
       "3       4j  gprus2017 -1.03  NaN       4   12.50  gprus2017 men_short   \n",
       "4       3j  gprus2017 -0.86  NaN       5    8.49  gprus2017 men_short   \n",
       "\n",
       "   segment_rank       skater  start_order  skater_code  \\\n",
       "0             1  Nathan CHEN           10          205   \n",
       "1             1  Nathan CHEN           10          205   \n",
       "2             1  Nathan CHEN           10          205   \n",
       "3             1  Nathan CHEN           10          205   \n",
       "4             1  Nathan CHEN           10          205   \n",
       "\n",
       "   partial_pool_prediction  pooled_prediction  unpooled_prediction  \n",
       "0                12.647146           9.578746            13.102899  \n",
       "1                 3.773436           3.062927             3.787730  \n",
       "2                 3.734792           3.062927             3.787730  \n",
       "3                12.459942           9.578746            13.102899  \n",
       "4                 8.157336           6.923761             8.681645  "
      ]
     },
     "execution_count": 33,
     "metadata": {},
     "output_type": "execute_result"
    }
   ],
   "source": [
    "elements_pred.head()"
   ]
  },
  {
   "cell_type": "code",
   "execution_count": 7,
   "metadata": {
    "collapsed": true
   },
   "outputs": [],
   "source": [
    "# 2018 data\n",
    "men = pd.read_csv('pd_data/results18_men.csv')\n",
    "ladies = pd.read_csv('pd_data/results18_ladies.csv')\n",
    "pairs = pd.read_csv('pd_data/results18_pairs.csv')\n",
    "dance = pd.read_csv('pd_data/results18_dance.csv')"
   ]
  },
  {
   "cell_type": "code",
   "execution_count": 8,
   "metadata": {
    "collapsed": true
   },
   "outputs": [],
   "source": [
    "with open('season2018.pickle') as f:\n",
    "    season18 = pickle.load(f)\n",
    "season18.load_scores()"
   ]
  },
  {
   "cell_type": "code",
   "execution_count": 9,
   "metadata": {
    "collapsed": true
   },
   "outputs": [],
   "source": [
    "history = pd.read_csv('pd_data/results_nowd_nofra15_men.csv')"
   ]
  },
  {
   "cell_type": "code",
   "execution_count": 36,
   "metadata": {
    "collapsed": false
   },
   "outputs": [],
   "source": [
    "def get_comparison(estimate_type):\n",
    "    comparison = []\n",
    "    for event in season2018.events:\n",
    "        event_name = event.name\n",
    "        elts = elements_pred[elements_pred.event == event_name].groupby('skater')[estimate_type].sum()\n",
    "        comp_short = components_pred[components_pred.segment == event_name + ' men_short'].groupby('skater')[estimate_type + 's'].sum()\n",
    "        comp_free = 2 * components_pred[components_pred.segment == event_name + ' men_free'].groupby('skater')[estimate_type + 's'].sum()\n",
    "        predictions = {}\n",
    "        outcomes = {}\n",
    "        total_score = elts + comp_short\n",
    "        for skater in total_score.index:\n",
    "            predictions[skater] = total_score.ix[skater]\n",
    "            if skater in comp_free.index:\n",
    "                predictions[skater] += comp_free.ix[skater]\n",
    "        for index, row in men[men.Event == event_name][['Name', 'Points']].iterrows():\n",
    "            outcomes[row.Name] = row.Points\n",
    "        comparison.append((predictions, outcomes))\n",
    "    return comparison"
   ]
  },
  {
   "cell_type": "code",
   "execution_count": 11,
   "metadata": {
    "collapsed": true
   },
   "outputs": [],
   "source": [
    "def get_ranks(result_dict):\n",
    "    ranks = {}\n",
    "    for (i, (skater, _)) in enumerate(sorted(result_dict.iteritems(), key=lambda (k,v): -1 * v)):\n",
    "        ranks[skater] = i+1\n",
    "    return ranks"
   ]
  },
  {
   "cell_type": "code",
   "execution_count": 40,
   "metadata": {
    "collapsed": false
   },
   "outputs": [],
   "source": [
    "score_differences = {}\n",
    "rank_mistakes = {}\n",
    "rank_misses = {}\n",
    "for estimate_type in ('pooled_prediction', 'unpooled_prediction', 'partial_pool_prediction'):\n",
    "    comparison = get_comparison(estimate_type)\n",
    "    score_difference = 0.\n",
    "    rank_mistake = 0\n",
    "    rank_miss = {}\n",
    "    for i, (predictions, outcomes) in enumerate(comparison):\n",
    "        for skater in predictions:\n",
    "            score_difference += (predictions[skater] - outcomes[skater])**2\n",
    "            if pd.isnull(score_difference):\n",
    "                print i, skater\n",
    "        predicted_ranks = get_ranks(predictions)\n",
    "        actual_ranks = get_ranks(outcomes)\n",
    "        for skater in predictions:\n",
    "            diff = abs(predicted_ranks[skater] - actual_ranks[skater])\n",
    "            if diff:\n",
    "                if skater not in rank_miss:\n",
    "                    rank_miss[skater] = []\n",
    "                rank_miss[skater].append((predicted_ranks[skater], actual_ranks[skater]))\n",
    "                rank_mistake += diff\n",
    "    score_differences[estimate_type] = score_difference\n",
    "    rank_mistakes[estimate_type] = rank_mistake\n",
    "    rank_misses[estimate_type] = rank_miss"
   ]
  },
  {
   "cell_type": "code",
   "execution_count": 42,
   "metadata": {
    "collapsed": false
   },
   "outputs": [
    {
     "data": {
      "text/plain": [
       "({'partial_pool_prediction': 302,\n",
       "  'pooled_prediction': 376,\n",
       "  'unpooled_prediction': 380},\n",
       " {'partial_pool_prediction': 91053.292305282477,\n",
       "  'pooled_prediction': 204946.19175774002,\n",
       "  'unpooled_prediction': 140457656.8769297})"
      ]
     },
     "execution_count": 42,
     "metadata": {},
     "output_type": "execute_result"
    }
   ],
   "source": [
    "rank_mistakes, score_differences"
   ]
  },
  {
   "cell_type": "code",
   "execution_count": 15,
   "metadata": {
    "collapsed": true
   },
   "outputs": [],
   "source": [
    "with open('fits/men_reputation_start_pred.csv') as f:\n",
    "    short_pred, free_pred = pickle.load(f)"
   ]
  },
  {
   "cell_type": "code",
   "execution_count": 16,
   "metadata": {
    "collapsed": false
   },
   "outputs": [
    {
     "data": {
      "text/plain": [
       "array(['gprus2017', 'gpcan2017', 'gpchn2017', 'gpjpn2017', 'gpfra2017',\n",
       "       'gpusa2017', 'gpf1718', 'ec2018', 'fc2018'], dtype=object)"
      ]
     },
     "execution_count": 16,
     "metadata": {},
     "output_type": "execute_result"
    }
   ],
   "source": [
    "men.Event.unique()"
   ]
  },
  {
   "cell_type": "code",
   "execution_count": 17,
   "metadata": {
    "collapsed": false
   },
   "outputs": [
    {
     "data": {
      "text/plain": [
       "300"
      ]
     },
     "execution_count": 17,
     "metadata": {},
     "output_type": "execute_result"
    }
   ],
   "source": [
    "individual_bests_short = {skater: np.max(map(float, history[history.Name == skater]['Short Score']))\n",
    "                          for skater in history.Name.get_values()}\n",
    "len(individual_bests_short)"
   ]
  },
  {
   "cell_type": "code",
   "execution_count": 18,
   "metadata": {
    "collapsed": false
   },
   "outputs": [
    {
     "data": {
      "text/plain": [
       "238"
      ]
     },
     "execution_count": 18,
     "metadata": {},
     "output_type": "execute_result"
    }
   ],
   "source": [
    "have_frees = history[history['Free Rank'] != 'DNQ']\n",
    "have_frees = have_frees[have_frees['Free Rank'] != 'WD']\n",
    "individual_bests_free = {skater: np.max(map(float, have_frees[have_frees.Name == skater]['Free Score']))\n",
    "                         for skater in have_frees.Name.get_values()}\n",
    "len(individual_bests_free)"
   ]
  },
  {
   "cell_type": "code",
   "execution_count": 19,
   "metadata": {
    "collapsed": false
   },
   "outputs": [
    {
     "data": {
      "text/plain": [
       "(61.090000000000003, 124.88)"
      ]
     },
     "execution_count": 19,
     "metadata": {},
     "output_type": "execute_result"
    }
   ],
   "source": [
    "med_short = np.median(individual_bests_short.values())\n",
    "med_free = np.median(individual_bests_free.values())\n",
    "med_short, med_free"
   ]
  },
  {
   "cell_type": "code",
   "execution_count": 20,
   "metadata": {
    "collapsed": false
   },
   "outputs": [],
   "source": [
    "men['Short Best'] = men.apply(lambda row: med_short if row.Name not in individual_bests_short else individual_bests_short[row.Name], axis=1)\n",
    "men['Free Best'] = men.apply(lambda row: med_free if row.Name not in individual_bests_free else individual_bests_free[row.Name], axis=1)"
   ]
  },
  {
   "cell_type": "code",
   "execution_count": 21,
   "metadata": {
    "collapsed": false
   },
   "outputs": [
    {
     "data": {
      "text/html": [
       "<div>\n",
       "<table border=\"1\" class=\"dataframe\">\n",
       "  <thead>\n",
       "    <tr style=\"text-align: right;\">\n",
       "      <th></th>\n",
       "      <th>Unnamed: 0</th>\n",
       "      <th>Rank</th>\n",
       "      <th>Event</th>\n",
       "      <th>Date</th>\n",
       "      <th>Name</th>\n",
       "      <th>Nation</th>\n",
       "      <th>Points</th>\n",
       "      <th>Short Rank</th>\n",
       "      <th>Short Score</th>\n",
       "      <th>Free Rank</th>\n",
       "      <th>Free Score</th>\n",
       "      <th>Short Start</th>\n",
       "      <th>Free Start</th>\n",
       "      <th>Num Short Scorecards</th>\n",
       "      <th>Num Free Scorecards</th>\n",
       "      <th>Short Best</th>\n",
       "      <th>Free Best</th>\n",
       "    </tr>\n",
       "  </thead>\n",
       "  <tbody>\n",
       "    <tr>\n",
       "      <th>0</th>\n",
       "      <td>0</td>\n",
       "      <td>1</td>\n",
       "      <td>gprus2017</td>\n",
       "      <td>2017-10-22</td>\n",
       "      <td>Nathan CHEN</td>\n",
       "      <td>USA</td>\n",
       "      <td>293.79</td>\n",
       "      <td>1</td>\n",
       "      <td>100.54</td>\n",
       "      <td>2</td>\n",
       "      <td>193.25</td>\n",
       "      <td>10</td>\n",
       "      <td>12.0</td>\n",
       "      <td>12</td>\n",
       "      <td>12</td>\n",
       "      <td>103.12</td>\n",
       "      <td>204.34</td>\n",
       "    </tr>\n",
       "    <tr>\n",
       "      <th>1</th>\n",
       "      <td>1</td>\n",
       "      <td>2</td>\n",
       "      <td>gprus2017</td>\n",
       "      <td>2017-10-22</td>\n",
       "      <td>Yuzuru HANYU</td>\n",
       "      <td>JPN</td>\n",
       "      <td>290.77</td>\n",
       "      <td>2</td>\n",
       "      <td>94.85</td>\n",
       "      <td>1</td>\n",
       "      <td>195.92</td>\n",
       "      <td>12</td>\n",
       "      <td>11.0</td>\n",
       "      <td>12</td>\n",
       "      <td>12</td>\n",
       "      <td>110.95</td>\n",
       "      <td>223.20</td>\n",
       "    </tr>\n",
       "    <tr>\n",
       "      <th>2</th>\n",
       "      <td>2</td>\n",
       "      <td>3</td>\n",
       "      <td>gprus2017</td>\n",
       "      <td>2017-10-22</td>\n",
       "      <td>Mikhail KOLYADA</td>\n",
       "      <td>RUS</td>\n",
       "      <td>271.06</td>\n",
       "      <td>4</td>\n",
       "      <td>85.79</td>\n",
       "      <td>3</td>\n",
       "      <td>185.27</td>\n",
       "      <td>11</td>\n",
       "      <td>8.0</td>\n",
       "      <td>12</td>\n",
       "      <td>12</td>\n",
       "      <td>93.28</td>\n",
       "      <td>178.31</td>\n",
       "    </tr>\n",
       "    <tr>\n",
       "      <th>3</th>\n",
       "      <td>3</td>\n",
       "      <td>4</td>\n",
       "      <td>gprus2017</td>\n",
       "      <td>2017-10-22</td>\n",
       "      <td>Misha GE</td>\n",
       "      <td>UZB</td>\n",
       "      <td>255.33</td>\n",
       "      <td>5</td>\n",
       "      <td>85.02</td>\n",
       "      <td>4</td>\n",
       "      <td>170.31</td>\n",
       "      <td>6</td>\n",
       "      <td>7.0</td>\n",
       "      <td>12</td>\n",
       "      <td>12</td>\n",
       "      <td>82.25</td>\n",
       "      <td>163.54</td>\n",
       "    </tr>\n",
       "    <tr>\n",
       "      <th>4</th>\n",
       "      <td>4</td>\n",
       "      <td>5</td>\n",
       "      <td>gprus2017</td>\n",
       "      <td>2017-10-22</td>\n",
       "      <td>Moris KVITELASHVILI</td>\n",
       "      <td>GEO</td>\n",
       "      <td>250.26</td>\n",
       "      <td>8</td>\n",
       "      <td>80.67</td>\n",
       "      <td>5</td>\n",
       "      <td>169.59</td>\n",
       "      <td>2</td>\n",
       "      <td>5.0</td>\n",
       "      <td>12</td>\n",
       "      <td>12</td>\n",
       "      <td>76.85</td>\n",
       "      <td>162.90</td>\n",
       "    </tr>\n",
       "  </tbody>\n",
       "</table>\n",
       "</div>"
      ],
      "text/plain": [
       "   Unnamed: 0  Rank      Event        Date                 Name Nation  \\\n",
       "0           0     1  gprus2017  2017-10-22          Nathan CHEN    USA   \n",
       "1           1     2  gprus2017  2017-10-22         Yuzuru HANYU    JPN   \n",
       "2           2     3  gprus2017  2017-10-22      Mikhail KOLYADA    RUS   \n",
       "3           3     4  gprus2017  2017-10-22             Misha GE    UZB   \n",
       "4           4     5  gprus2017  2017-10-22  Moris KVITELASHVILI    GEO   \n",
       "\n",
       "   Points  Short Rank  Short Score Free Rank Free Score  Short Start  \\\n",
       "0  293.79           1       100.54         2     193.25           10   \n",
       "1  290.77           2        94.85         1     195.92           12   \n",
       "2  271.06           4        85.79         3     185.27           11   \n",
       "3  255.33           5        85.02         4     170.31            6   \n",
       "4  250.26           8        80.67         5     169.59            2   \n",
       "\n",
       "   Free Start  Num Short Scorecards  Num Free Scorecards  Short Best  \\\n",
       "0        12.0                    12                   12      103.12   \n",
       "1        11.0                    12                   12      110.95   \n",
       "2         8.0                    12                   12       93.28   \n",
       "3         7.0                    12                   12       82.25   \n",
       "4         5.0                    12                   12       76.85   \n",
       "\n",
       "   Free Best  \n",
       "0     204.34  \n",
       "1     223.20  \n",
       "2     178.31  \n",
       "3     163.54  \n",
       "4     162.90  "
      ]
     },
     "execution_count": 21,
     "metadata": {},
     "output_type": "execute_result"
    }
   ],
   "source": [
    "men.head()"
   ]
  },
  {
   "cell_type": "code",
   "execution_count": 22,
   "metadata": {
    "collapsed": true
   },
   "outputs": [],
   "source": [
    "def predict_short(row):\n",
    "    prediction = 20.8236\n",
    "    best = med_short\n",
    "    if row.Name in individual_bests_short:\n",
    "        best = individual_bests_short[row.Name]\n",
    "    prediction += 0.6155 * best\n",
    "    return prediction + 12.3222 * float(row['Short Start']) / row['Num Short Scorecards']\n",
    "\n",
    "def predict_free(row):\n",
    "    if pd.isnull(row['Free Start']):\n",
    "        return 0.\n",
    "    prediction = 72.3915 \n",
    "    best = med_free\n",
    "    if row.Name in individual_bests_free:\n",
    "        best = individual_bests_free[row.Name]\n",
    "    prediction += 0.3983 * best\n",
    "    return prediction + 35.2871 * float(row['Free Start']) / row['Num Free Scorecards']"
   ]
  },
  {
   "cell_type": "code",
   "execution_count": 23,
   "metadata": {
    "collapsed": false
   },
   "outputs": [],
   "source": [
    "men['pred_ols_short'] = men.apply(predict_short, axis=1)"
   ]
  },
  {
   "cell_type": "code",
   "execution_count": 24,
   "metadata": {
    "collapsed": false
   },
   "outputs": [],
   "source": [
    "men['pred_ols_free'] = men.apply(predict_free, axis=1)"
   ]
  },
  {
   "cell_type": "code",
   "execution_count": 25,
   "metadata": {
    "collapsed": false
   },
   "outputs": [],
   "source": [
    "ols_comparison = []\n",
    "for event in season2018.events:\n",
    "    competition = men[men.Event == event.name]\n",
    "    predictions = {}\n",
    "    outcomes = {}\n",
    "    for index, row in competition.iterrows():\n",
    "        predictions[row.Name] = row.pred_ols_short + row.pred_ols_free\n",
    "    for index, row in competition.iterrows():\n",
    "        outcomes[row.Name] = row.Points\n",
    "    ols_comparison.append((predictions, outcomes))"
   ]
  },
  {
   "cell_type": "code",
   "execution_count": 26,
   "metadata": {
    "collapsed": false
   },
   "outputs": [],
   "source": [
    "score_difference_ols = 0.\n",
    "rank_mistake_ols = 0\n",
    "rank_misses_ols = {}\n",
    "for i, (predictions, outcomes) in enumerate(ols_comparison):\n",
    "    for skater in predictions:\n",
    "        score_difference_ols += (predictions[skater] - outcomes[skater])**2\n",
    "        if pd.isnull(score_difference_ols):\n",
    "            print skater, i\n",
    "    predicted_ranks = get_ranks(predictions)\n",
    "    actual_ranks = get_ranks(outcomes)\n",
    "    for skater in predictions:\n",
    "        diff = abs(predicted_ranks[skater] - actual_ranks[skater])\n",
    "        if diff:\n",
    "            if skater not in rank_misses_ols:\n",
    "                rank_misses_ols[skater] = []\n",
    "            rank_misses_ols[skater].append((predicted_ranks[skater], actual_ranks[skater]))\n",
    "            rank_mistake_ols += diff"
   ]
  },
  {
   "cell_type": "code",
   "execution_count": 43,
   "metadata": {
    "collapsed": true
   },
   "outputs": [],
   "source": [
    "score_differences['ols'] = score_difference_ols\n",
    "rank_misses['ols'] = rank_misses_ols\n",
    "rank_mistakes['ols'] = rank_mistake_ols"
   ]
  },
  {
   "cell_type": "code",
   "execution_count": 44,
   "metadata": {
    "collapsed": false
   },
   "outputs": [
    {
     "data": {
      "text/plain": [
       "{'ols': 50237.52214114873,\n",
       " 'partial_pool_prediction': 91053.292305282477,\n",
       " 'pooled_prediction': 204946.19175774002,\n",
       " 'unpooled_prediction': 140457656.8769297}"
      ]
     },
     "execution_count": 44,
     "metadata": {},
     "output_type": "execute_result"
    }
   ],
   "source": [
    "score_differences"
   ]
  },
  {
   "cell_type": "code",
   "execution_count": 45,
   "metadata": {
    "collapsed": false
   },
   "outputs": [
    {
     "data": {
      "text/plain": [
       "{'ols': 308,\n",
       " 'partial_pool_prediction': 302,\n",
       " 'pooled_prediction': 376,\n",
       " 'unpooled_prediction': 380}"
      ]
     },
     "execution_count": 45,
     "metadata": {},
     "output_type": "execute_result"
    }
   ],
   "source": [
    "rank_mistakes"
   ]
  },
  {
   "cell_type": "code",
   "execution_count": null,
   "metadata": {
    "collapsed": true
   },
   "outputs": [],
   "source": []
  }
 ],
 "metadata": {
  "kernelspec": {
   "display_name": "Python 2",
   "language": "python",
   "name": "python2"
  },
  "language_info": {
   "codemirror_mode": {
    "name": "ipython",
    "version": 2
   },
   "file_extension": ".py",
   "mimetype": "text/x-python",
   "name": "python",
   "nbconvert_exporter": "python",
   "pygments_lexer": "ipython2",
   "version": "2.7.13"
  }
 },
 "nbformat": 4,
 "nbformat_minor": 2
}
