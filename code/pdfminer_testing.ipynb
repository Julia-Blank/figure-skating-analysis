{
 "cells": [
  {
   "cell_type": "code",
   "execution_count": 1,
   "metadata": {
    "collapsed": true
   },
   "outputs": [],
   "source": [
    "from pdfminer.pdfparser import PDFParser\n",
    "from pdfminer.pdfdocument import PDFDocument\n",
    "from pdfminer.pdfpage import PDFPage\n",
    "from pdfminer.pdfpage import PDFTextExtractionNotAllowed\n",
    "from pdfminer.pdfinterp import PDFResourceManager\n",
    "from pdfminer.pdfinterp import PDFPageInterpreter\n",
    "from pdfminer.pdfdevice import PDFDevice\n",
    "from pdfminer.layout import LAParams, LTText\n",
    "from pdfminer.converter import PDFPageAggregator"
   ]
  },
  {
   "cell_type": "code",
   "execution_count": 2,
   "metadata": {
    "collapsed": true
   },
   "outputs": [],
   "source": [
    "fname = 'wc2015_Ladies_SP_Scores.pdf'"
   ]
  },
  {
   "cell_type": "code",
   "execution_count": 3,
   "metadata": {
    "collapsed": false
   },
   "outputs": [],
   "source": [
    "# LAParams\n",
    "line_margin=0.2\n",
    "line_overlap = 0.8\n",
    "detect_vertical = True\n",
    "char_margin = 0.01\n",
    "word_margin = 0.05\n",
    "\n",
    "laparams = LAParams(word_margin=word_margin)\n",
    "\n",
    "# laparams = LAParams(line_margin=line_margin,line_overlap=line_overlap,detect_vertical=detect_vertical,\n",
    "#                    char_margin=char_margin)"
   ]
  },
  {
   "cell_type": "code",
   "execution_count": 4,
   "metadata": {
    "collapsed": false
   },
   "outputs": [],
   "source": [
    "fp = open(fname, 'rb')\n",
    "parser = PDFParser(fp)\n",
    "document = PDFDocument(parser)\n",
    "rsrcmgr = PDFResourceManager()\n",
    "device = PDFPageAggregator(rsrcmgr, laparams=laparams)\n",
    "interpreter = PDFPageInterpreter(rsrcmgr, device)\n",
    "layout = []\n",
    "for page in PDFPage.create_pages(document):\n",
    "    interpreter.process_page(page)\n",
    "    layout.append(device.get_result())\n",
    "fp.close()"
   ]
  },
  {
   "cell_type": "code",
   "execution_count": 5,
   "metadata": {
    "collapsed": false
   },
   "outputs": [
    {
     "data": {
      "text/plain": [
       "1"
      ]
     },
     "execution_count": 5,
     "metadata": {},
     "output_type": "execute_result"
    }
   ],
   "source": [
    "len(layout)"
   ]
  },
  {
   "cell_type": "code",
   "execution_count": 6,
   "metadata": {
    "collapsed": true
   },
   "outputs": [],
   "source": [
    "layout = layout[0]"
   ]
  },
  {
   "cell_type": "code",
   "execution_count": 7,
   "metadata": {
    "collapsed": false
   },
   "outputs": [],
   "source": [
    "layout_text = []\n",
    "for l in list(layout):\n",
    "    if isinstance(l, LTText):\n",
    "        layout_text.append(l.get_text())\n",
    "#     else:\n",
    "#         layout_text.append(str(l))"
   ]
  },
  {
   "cell_type": "code",
   "execution_count": 8,
   "metadata": {
    "collapsed": false
   },
   "outputs": [
    {
     "data": {
      "text/plain": [
       "[u'ISU World Figure Skating Championships 2015\\nLADIES SHORT PROGRAM         JUDGES DETAILS PER SKATER\\n',\n",
       " u'Rank  Name\\n',\n",
       " u' 1\\n',\n",
       " u'Elizaveta TUKTAMYSHEVA\\n',\n",
       " u'#  Executed \\nElements \\n',\n",
       " u'3A\\n3Lz\\n',\n",
       " u'1\\n2\\n3 FSSp3\\nLSp4\\n4\\n5\\n3T+3T\\n6 StSq4\\n7\\n',\n",
       " u'CCoSp3p4\\n',\n",
       " u'o\\nf\\nn\\n',\n",
       " u'I\\n',\n",
       " u'Base \\nValue \\n',\n",
       " u' 8.50\\n 6.00\\n 2.60\\n 2.70\\n 9.02\\n 3.90\\n 3.50\\n 36.22\\n',\n",
       " u'x\\n',\n",
       " u'Program Components \\nSkating Skills\\nTransition / Linking Footwork\\nPerformance / Execution\\nChoreography / Composition\\nInterpretation\\nJudges Total Program Component Score (factored)\\n',\n",
       " u'Deductions: \\n',\n",
       " u'  x  Credit for highlight distribution, base value multiplied by 1.1 \\n',\n",
       " u'Rank  Name\\n',\n",
       " u' 2\\n',\n",
       " u'Elena RADIONOVA\\n',\n",
       " u'#  Executed \\nElements \\n',\n",
       " u'3Lz+3T\\n1\\n2 FSSp4\\n3 StSq4\\n4\\n5\\n6 CCoSp3p4\\n7\\n',\n",
       " u'3Lo\\n2A\\n',\n",
       " u'LSp4\\n',\n",
       " u'o\\nf\\nn\\n',\n",
       " u'I\\n',\n",
       " u'Base \\nValue \\n',\n",
       " u' 10.10\\n 3.00\\n 3.90\\n 5.61\\n 3.63\\n 3.50\\n 2.70\\n 32.44\\n',\n",
       " u'x\\nx\\n',\n",
       " u'Program Components \\nSkating Skills\\nTransition / Linking Footwork\\nPerformance / Execution\\nChoreography / Composition\\nInterpretation\\nJudges Total Program Component Score (factored)\\n',\n",
       " u'Deductions: \\n',\n",
       " u'  x  Credit for highlight distribution, base value multiplied by 1.1 \\n',\n",
       " u'Rank  Name\\n',\n",
       " u' 3\\n',\n",
       " u'Satoko MIYAHARA\\n',\n",
       " u'#  Executed \\nElements \\n',\n",
       " u'3Lz+3T\\n',\n",
       " u'1\\n2 CCoSp3p4\\n3 FCSp4\\n4\\n5\\n6 StSq4\\n7\\nLSp4\\n',\n",
       " u'3F\\n2A\\n',\n",
       " u'o\\nf\\nn\\n',\n",
       " u'I\\n',\n",
       " u'Base \\nValue \\n',\n",
       " u' 10.10\\n 3.50\\n 3.20\\n 5.83\\n 3.63\\n 3.90\\n 2.70\\n 32.86\\n',\n",
       " u'x\\nx\\n',\n",
       " u'Program Components \\nSkating Skills\\nTransition / Linking Footwork\\nPerformance / Execution\\nChoreography / Composition\\nInterpretation\\nJudges Total Program Component Score (factored)\\n',\n",
       " u'Deductions: \\n',\n",
       " u'  x  Credit for highlight distribution, base value multiplied by 1.1 \\n',\n",
       " u'Nation\\n',\n",
       " u'Starting\\nNumber\\n',\n",
       " u'RUS\\n',\n",
       " u' 31\\n',\n",
       " u'Total \\nSegment\\nScore\\n 77.62\\n',\n",
       " u'Total \\nElement\\nScore\\n 44.09\\n',\n",
       " u'Total\\nProgram  Component\\nScore (factored)\\n 33.53\\n',\n",
       " u'The Judges Panel\\n(in random order)\\n',\n",
       " u'2\\n2\\n1\\n2\\n2\\n2\\n2\\n',\n",
       " u'2\\n2\\n2\\n1\\n1\\n2\\n2\\n',\n",
       " u'1\\n2\\n1\\n2\\n1\\n3\\n1\\n',\n",
       " u'1\\n3\\n2\\n1\\n1\\n3\\n2\\n',\n",
       " u'1\\n2\\n1\\n2\\n2\\n1\\n2\\n',\n",
       " u'2\\n-1\\n1\\n2\\n2\\n2\\n2\\n',\n",
       " u'2\\n1\\n2\\n2\\n1\\n1\\n3\\n',\n",
       " u'2\\n2\\n1\\n1\\n1\\n2\\n2\\n',\n",
       " u'1\\n2\\n1\\n2\\n3\\n3\\n2\\n',\n",
       " u'8.25\\n7.75\\n8.75\\n8.50\\n8.50\\n',\n",
       " u'8.75\\n8.00\\n9.00\\n8.50\\n8.75\\n',\n",
       " u'8.25\\n8.00\\n8.50\\n8.50\\n8.50\\n',\n",
       " u'8.50\\n8.25\\n8.50\\n8.50\\n8.50\\n',\n",
       " u'8.50\\n8.25\\n9.00\\n8.25\\n8.50\\n',\n",
       " u'8.75\\n7.25\\n8.50\\n8.50\\n7.50\\n',\n",
       " u'7.75\\n7.00\\n7.25\\n7.50\\n7.75\\n',\n",
       " u'8.50\\n8.50\\n8.75\\n8.50\\n8.75\\n',\n",
       " u'8.50\\n7.75\\n8.75\\n8.50\\n8.50\\n',\n",
       " u'Nation\\n',\n",
       " u'Starting\\nNumber\\n',\n",
       " u'RUS\\n',\n",
       " u' 35\\n',\n",
       " u'Total \\nSegment\\nScore\\n 69.51\\n',\n",
       " u'Total \\nElement\\nScore\\n 38.03\\n',\n",
       " u'Total\\nProgram  Component\\nScore (factored)\\n 31.48\\n',\n",
       " u'The Judges Panel\\n(in random order)\\n',\n",
       " u'2\\n2\\n2\\n2\\n0\\n1\\n3\\n',\n",
       " u'2\\n1\\n2\\n0\\n1\\n2\\n2\\n',\n",
       " u'1\\n0\\n1\\n2\\n0\\n1\\n2\\n',\n",
       " u'1\\n1\\n2\\n1\\n1\\n2\\n3\\n',\n",
       " u'1\\n1\\n2\\n2\\n0\\n2\\n3\\n',\n",
       " u'1\\n1\\n1\\n1\\n1\\n1\\n3\\n',\n",
       " u'1\\n1\\n2\\n1\\n1\\n2\\n2\\n',\n",
       " u'1\\n1\\n2\\n1\\n1\\n1\\n2\\n',\n",
       " u'1\\n1\\n1\\n0\\n0\\n1\\n3\\n',\n",
       " u'8.25\\n8.50\\n8.75\\n8.50\\n8.50\\n',\n",
       " u'7.75\\n7.50\\n8.00\\n7.50\\n7.75\\n',\n",
       " u'8.00\\n8.00\\n8.25\\n8.00\\n8.25\\n',\n",
       " u'8.50\\n8.25\\n8.50\\n8.50\\n8.75\\n',\n",
       " u'7.75\\n7.50\\n7.50\\n7.50\\n7.75\\n',\n",
       " u'7.00\\n6.50\\n6.75\\n7.00\\n7.00\\n',\n",
       " u'7.75\\n7.75\\n8.00\\n8.25\\n8.00\\n',\n",
       " u'8.00\\n8.25\\n8.50\\n8.50\\n8.75\\n',\n",
       " u'6.50\\n6.50\\n7.25\\n6.75\\n7.00\\n',\n",
       " u'Nation\\n',\n",
       " u'Starting\\nNumber\\n',\n",
       " u'JPN\\n',\n",
       " u' 33\\n',\n",
       " u'Total \\nSegment\\nScore\\n 67.02\\n',\n",
       " u'Total \\nElement\\nScore\\n 37.19\\n',\n",
       " u'Total\\nProgram  Component\\nScore (factored)\\n 29.83\\n',\n",
       " u'The Judges Panel\\n(in random order)\\n',\n",
       " u'1\\n1\\n1\\n-1\\n1\\n1\\n2\\n',\n",
       " u'1\\n2\\n1\\n1\\n0\\n2\\n2\\n',\n",
       " u'1\\n0\\n1\\n0\\n1\\n2\\n2\\n',\n",
       " u'1\\n1\\n1\\n0\\n0\\n1\\n2\\n',\n",
       " u'2\\n2\\n1\\n0\\n1\\n2\\n3\\n',\n",
       " u'1\\n1\\n1\\n1\\n1\\n1\\n2\\n',\n",
       " u'0\\n1\\n1\\n0\\n0\\n1\\n2\\n',\n",
       " u'1\\n1\\n1\\n1\\n1\\n1\\n2\\n',\n",
       " u'1\\n1\\n1\\n0\\n1\\n2\\n2\\n',\n",
       " u'8.00\\n7.50\\n7.75\\n8.00\\n8.00\\n',\n",
       " u'8.25\\n7.75\\n7.25\\n7.25\\n7.50\\n',\n",
       " u'6.75\\n7.00\\n7.50\\n7.25\\n7.25\\n',\n",
       " u'7.00\\n7.00\\n7.25\\n7.25\\n7.50\\n',\n",
       " u'7.50\\n7.25\\n7.25\\n7.25\\n7.50\\n',\n",
       " u'7.75\\n7.25\\n7.50\\n7.50\\n7.50\\n',\n",
       " u'7.25\\n6.75\\n7.25\\n7.50\\n7.00\\n',\n",
       " u'7.75\\n7.50\\n7.50\\n7.75\\n7.75\\n',\n",
       " u'7.75\\n7.50\\n7.75\\n7.50\\n8.00\\n',\n",
       " u'Total\\nDeductions\\n',\n",
       " u'Ref \\n',\n",
       " u' 0.00\\n',\n",
       " u'Scores\\nof Panel\\n',\n",
       " u' 10.07\\n 7.30\\n 3.24\\n 3.56\\n 10.02\\n 5.40\\n 4.50\\n 44.09\\n',\n",
       " u' 8.46\\n 7.89\\n 8.68\\n 8.46\\n 8.43\\n 33.53\\n',\n",
       " u' 0.00\\n',\n",
       " u'Total\\nDeductions\\n',\n",
       " u'Ref \\n',\n",
       " u' 0.00\\n',\n",
       " u'Scores\\nof Panel\\n',\n",
       " u' 10.90\\n 3.50\\n 5.10\\n 6.41\\n 3.92\\n 4.21\\n 3.99\\n 38.03\\n',\n",
       " u' 7.79\\n 7.68\\n 8.00\\n 7.89\\n 8.00\\n 31.48\\n',\n",
       " u' 0.00\\n',\n",
       " u'Total\\nDeductions\\n',\n",
       " u'Ref \\n',\n",
       " u' 0.00\\n',\n",
       " u'Scores\\nof Panel\\n',\n",
       " u' 10.80\\n 4.07\\n 3.70\\n 6.03\\n 3.99\\n 4.90\\n 3.70\\n 37.19\\n',\n",
       " u' 7.57\\n 7.29\\n 7.43\\n 7.43\\n 7.57\\n 29.83\\n',\n",
       " u' 0.00\\n',\n",
       " u'GOE \\n',\n",
       " u' 1.57\\n 1.30\\n 0.64\\n 0.86\\n 1.00\\n 1.50\\n 1.00\\n',\n",
       " u'Factor\\n 0.80\\n 0.80\\n 0.80\\n 0.80\\n 0.80\\n',\n",
       " u'GOE \\n',\n",
       " u' 0.80\\n 0.50\\n 1.20\\n 0.80\\n 0.29\\n 0.71\\n 1.29\\n',\n",
       " u'Factor\\n 0.80\\n 0.80\\n 0.80\\n 0.80\\n 0.80\\n',\n",
       " u'GOE \\n',\n",
       " u' 0.70\\n 0.57\\n 0.50\\n 0.20\\n 0.36\\n 1.00\\n 1.00\\n',\n",
       " u'Factor\\n 0.80\\n 0.80\\n 0.80\\n 0.80\\n 0.80\\n']"
      ]
     },
     "execution_count": 8,
     "metadata": {},
     "output_type": "execute_result"
    }
   ],
   "source": [
    "layout_text"
   ]
  },
  {
   "cell_type": "code",
   "execution_count": 30,
   "metadata": {
    "collapsed": false
   },
   "outputs": [],
   "source": [
    "import pyPdf\n",
    "\n",
    "def getPDFContent(path):\n",
    "    content = \"\"\n",
    "    num_pages = 1\n",
    "    p = file(path, \"rb\")\n",
    "    pdf = pyPdf.PdfFileReader(p)\n",
    "    for i in range(0, num_pages):\n",
    "        content += pdf.getPage(i).extractText() + \"\\n\"\n",
    "    content = \" \".join(content.replace(u\"\\xa0\", \" \").strip().split())\n",
    "    p.close()\n",
    "    return content"
   ]
  },
  {
   "cell_type": "code",
   "execution_count": 9,
   "metadata": {
    "collapsed": false
   },
   "outputs": [],
   "source": [
    "from pdfminer.converter import TextConverter\n",
    "from cStringIO import StringIO\n",
    "from pdfminer.converter import LTChar, TextConverter\n",
    "from pdfminer.layout import LAParams\n",
    "from pdfminer.pdfinterp import PDFResourceManager, PDFPageInterpreter\n",
    "from pdfminer.pdfpage import PDFPage\n",
    "\n",
    "class LineConverter(TextConverter):\n",
    "    def __init__(self, *args, **kwargs):\n",
    "        TextConverter.__init__(self, *args, **kwargs)\n",
    "\n",
    "    def end_page(self, i):\n",
    "        from collections import defaultdict\n",
    "        lines = defaultdict(lambda: {})\n",
    "        for child in self.cur_item._objs:  # <-- changed\n",
    "            if isinstance(child, LTChar):\n",
    "                (_, _, x, y) = child.bbox\n",
    "                line = lines[int(-y)]\n",
    "                line[x] = child._text.encode(self.codec)  # <-- changed\n",
    "        for y in sorted(lines.keys()):\n",
    "            line = lines[y]\n",
    "            self.line_creator(line)\n",
    "            self.outfp.write(self.line_creator(line))\n",
    "            self.outfp.write(\"\\n\")\n",
    "\n",
    "    def line_creator(self, line):\n",
    "        keys = sorted(line.keys())\n",
    "        # calculate the average distange between each character on this row\n",
    "        average_distance = sum([keys[i] - keys[i - 1] for i in range(1, len(keys))]) / len(keys)\n",
    "        # append the first character to the result\n",
    "        result = [line[keys[0]]]\n",
    "        for i in range(1, len(keys)):\n",
    "            result.append(line[keys[i]])\n",
    "        printable_line = ''.join(result)\n",
    "        return printable_line"
   ]
  },
  {
   "cell_type": "code",
   "execution_count": 86,
   "metadata": {
    "collapsed": true
   },
   "outputs": [],
   "source": [
    "fname = 'gpcan2017_Ladies_FS_Scores.pdf'"
   ]
  },
  {
   "cell_type": "code",
   "execution_count": 10,
   "metadata": {
    "collapsed": false
   },
   "outputs": [],
   "source": [
    "rsrc = PDFResourceManager()\n",
    "outfp = StringIO()\n",
    "device = LineConverter(rsrc, outfp, codec=\"utf-8\", laparams=LAParams(char_margin=10.0,line_overlap=0.01)) # default line_overlap 0.5\n",
    "fp = open(fname, 'rb')\n",
    "interpreter = PDFPageInterpreter(rsrc, device)\n",
    "for i, page in enumerate(PDFPage.get_pages(fp)):\n",
    "    if page is not None:\n",
    "        interpreter.process_page(page)\n",
    "\n",
    "device.close()\n",
    "fp.close()\n",
    "out = outfp.getvalue()\n",
    "outfp.close()"
   ]
  },
  {
   "cell_type": "code",
   "execution_count": 11,
   "metadata": {
    "collapsed": false
   },
   "outputs": [
    {
     "data": {
      "text/plain": [
       "['ISU World Figure Skating Championships 2015',\n",
       " 'LADIES SHORT PROGRAM         JUDGES DETAILS PER SKATER',\n",
       " 'StartingTotal Total TotalTotal',\n",
       " 'Rank NameNationNumberSegmentElementProgram  ComponentDeductions',\n",
       " 'ScoreScoreScore (factored)',\n",
       " ' 1Elizaveta TUKTAMYSHEVARUS 31 77.62 44.09 33.53 0.00',\n",
       " 'Executed ',\n",
       " '# Base GOE The Judges PanelRef Scores',\n",
       " 'o',\n",
       " 'Elements fValue (in random order)of Panel',\n",
       " 'n',\n",
       " 'I',\n",
       " '13A 8.50 1.57221112221 10.07',\n",
       " '23Lz 6.00 1.3022232-1122 7.30',\n",
       " '3FSSp3 2.60 0.64121211211 3.24',\n",
       " '4LSp4 2.70 0.86212122212 3.56',\n",
       " '53T+3T 9.02x 1.00211122113 10.02',\n",
       " '6StSq4 3.90 1.50223312123 5.40',\n",
       " '7CCoSp3p4 3.50 1.00221222322 4.50',\n",
       " ' 36.22 44.09',\n",
       " 'Program Components Factor',\n",
       " 'Skating Skills 0.808.258.758.258.508.508.757.758.508.50 8.46',\n",
       " 'Transition / Linking Footwork 0.807.758.008.008.258.257.257.008.507.75 7.89',\n",
       " 'Performance / Execution 0.808.759.008.508.509.008.507.258.758.75 8.68',\n",
       " 'Choreography / Composition 0.808.508.508.508.508.258.507.508.508.50 8.46',\n",
       " 'Interpretation 0.808.508.758.508.508.507.507.758.758.50 8.43',\n",
       " ' 33.53',\n",
       " 'Judges Total Program Component Score (factored)',\n",
       " 'Deductions:  0.00',\n",
       " '  x  Credit for highlight distribution, base value multiplied by 1.1 ',\n",
       " 'StartingTotal Total TotalTotal',\n",
       " 'Rank NameNationNumberSegmentElementProgram  ComponentDeductions',\n",
       " 'ScoreScoreScore (factored)',\n",
       " ' 2Elena RADIONOVARUS 35 69.51 38.03 31.48 0.00',\n",
       " '# Executed Base GOE The Judges PanelRef Scores',\n",
       " 'o',\n",
       " 'Elements fValue (in random order)of Panel',\n",
       " 'n',\n",
       " 'I',\n",
       " '13Lz+3T 10.10 0.80112211111 10.90',\n",
       " '2FSSp4 3.00 0.50112101111 3.50',\n",
       " '3StSq4 3.90 1.20212212221 5.10',\n",
       " '43Lo 5.61x 0.80212021110 6.41',\n",
       " '52A 3.63x 0.29010101110 3.92',\n",
       " '6CCoSp3p4 3.50 0.71211212211 4.21',\n",
       " '7LSp4 2.70 1.29333223223 3.99',\n",
       " ' 32.44 38.03',\n",
       " 'Program Components Factor',\n",
       " 'Skating Skills 0.808.257.758.008.507.757.007.758.006.50 7.79',\n",
       " 'Transition / Linking Footwork 0.808.507.508.008.257.506.507.758.256.50 7.68',\n",
       " 'Performance / Execution 0.808.758.008.258.507.506.758.008.507.25 8.00',\n",
       " 'Choreography / Composition 0.808.507.508.008.507.507.008.258.506.75 7.89',\n",
       " 'Interpretation 0.808.507.758.258.757.757.008.008.757.00 8.00',\n",
       " ' 31.48',\n",
       " 'Judges Total Program Component Score (factored)',\n",
       " 'Deductions:  0.00',\n",
       " '  x  Credit for highlight distribution, base value multiplied by 1.1 ',\n",
       " 'StartingTotal Total TotalTotal',\n",
       " 'Rank NameNationNumberSegmentElementProgram  ComponentDeductions',\n",
       " 'ScoreScoreScore (factored)',\n",
       " ' 3Satoko MIYAHARAJPN 33 67.02 37.19 29.83 0.00',\n",
       " '# Executed Base GOE The Judges PanelRef Scores',\n",
       " 'o',\n",
       " 'Elements fValue (in random order)of Panel',\n",
       " 'n',\n",
       " 'I',\n",
       " '13Lz+3T 10.10 0.70111121011 10.80',\n",
       " '2CCoSp3p4 3.50 0.57120121111 4.07',\n",
       " '3FCSp4 3.20 0.50111111111 3.70',\n",
       " '43F 5.83x 0.20-110001010 6.03',\n",
       " '52A 3.63x 0.36101011011 3.99',\n",
       " '6StSq4 3.90 1.00122121112 4.90',\n",
       " '7LSp4 2.70 1.00222232222 3.70',\n",
       " ' 32.86 37.19',\n",
       " 'Program Components Factor',\n",
       " 'Skating Skills 0.808.008.256.757.007.507.757.257.757.75 7.57',\n",
       " 'Transition / Linking Footwork 0.807.507.757.007.007.257.256.757.507.50 7.29',\n",
       " 'Performance / Execution 0.807.757.257.507.257.257.507.257.507.75 7.43',\n",
       " 'Choreography / Composition 0.808.007.257.257.257.257.507.507.757.50 7.43',\n",
       " 'Interpretation 0.808.007.507.257.507.507.507.007.758.00 7.57',\n",
       " ' 29.83',\n",
       " 'Judges Total Program Component Score (factored)',\n",
       " 'Deductions: ',\n",
       " ' 0.00',\n",
       " '  x  Credit for highlight distribution, base value multiplied by 1.1 ',\n",
       " '']"
      ]
     },
     "execution_count": 11,
     "metadata": {},
     "output_type": "execute_result"
    }
   ],
   "source": [
    "out.split('\\n')"
   ]
  },
  {
   "cell_type": "code",
   "execution_count": 67,
   "metadata": {
    "collapsed": false
   },
   "outputs": [],
   "source": [
    "prev = out.split('\\n')"
   ]
  },
  {
   "cell_type": "code",
   "execution_count": 68,
   "metadata": {
    "collapsed": false
   },
   "outputs": [
    {
     "data": {
      "text/plain": [
       "['ISU World Figure Skating Championships 2017',\n",
       " 'MEN SHORT PROGRAM         JUDGES DETAILS PER SKATER',\n",
       " 'StartingTotal Total TotalTotal',\n",
       " 'NationNumberSegmentElementProgram  ComponentDeductions',\n",
       " 'Rank Name',\n",
       " 'ScoreScoreScore (factored)',\n",
       " ' 0.00',\n",
       " ' 1Javier FERNANDEZESP 34 109.05 60.79 48.26',\n",
       " 'Executed Base Scores of ',\n",
       " 'GOE J1 J2 J3 J4 J5 J7 J8 J9 Ref ',\n",
       " '# oJ6 ',\n",
       " 'Elements Value Panel',\n",
       " 'f',\n",
       " 'n',\n",
       " 'I',\n",
       " '14T+3T 14.60 2.86332333332 17.46',\n",
       " ' 10.50 2.86333332323',\n",
       " '24S 13.36',\n",
       " '3FUSp4 2.90 0.362011-10102 3.26',\n",
       " '3A 9.35x333333332',\n",
       " '4 3.00 12.35',\n",
       " '5CCoSp4 3.50 1.00223212222 4.50',\n",
       " '6CSSp4 3.00 0.86112122222 3.86',\n",
       " '7StSq4 3.90 2.10333333333 6.00',\n",
       " ' 47.75 60.79',\n",
       " 'Program Components Factor ',\n",
       " 'Skating Skills 1.00 9.25 9.25 9.50 9.50 9.50 9.25 9.50 9.50 9.75 9.43',\n",
       " 'Transitions 1.00 9.25 9.25 9.50 9.25 9.25 9.25 9.50 9.75 9.50 9.36',\n",
       " 'Performance 1.00 9.75 9.50 9.75 10.00 9.75 9.50 10.00 10.00 9.75 9.79',\n",
       " 'Composition 1.00 9.75 9.75 9.75 10.00 9.50 9.25 9.75 10.00 9.75 9.75',\n",
       " 'Interpretation of the Music 1.00 10.00 9.75 10.00 10.00 9.75 10.00 10.00 10.00 9.75 9.93',\n",
       " 'Judges Total Program Component Score (factored) 48.26',\n",
       " 'Deductions  0.00',\n",
       " '  x  Credit for highlight distribution, base value multiplied by 1.1 ',\n",
       " 'StartingTotal Total TotalTotal',\n",
       " 'NationNumberSegmentElementProgram  ComponentDeductions',\n",
       " 'Rank Name',\n",
       " 'ScoreScoreScore (factored)',\n",
       " ' 0.00',\n",
       " ' 2Shoma UNOJPN 32 104.86 59.16 45.70',\n",
       " 'Executed Base Scores of ',\n",
       " 'GOE ',\n",
       " '# oJ1 J2 J3 J4 J5 J6 J7 J8 J9 Ref ',\n",
       " 'Elements Value Panel',\n",
       " 'f',\n",
       " 'n',\n",
       " 'I',\n",
       " '14F 12.30 1.14101112202 13.44',\n",
       " '24T+3T 14.60 1.71102122222 16.31',\n",
       " 'FCSp4 3.20122222212',\n",
       " '3 0.93 4.13',\n",
       " 'CSSp4 3.00111111212',\n",
       " '4 0.57 3.57',\n",
       " '53A 9.35x 2.29322223312 11.64',\n",
       " '6StSq4 3.90 1.60232233222 5.50',\n",
       " '7CCoSp4 3.50 1.07323222212 4.57',\n",
       " ' 49.85 59.16',\n",
       " 'Program Components Factor ',\n",
       " 'Skating Skills 1.00 9.25 9.25 9.00 8.75 9.00 9.75 9.25 9.25 9.50 9.21',\n",
       " 'Transitions 1.00 8.75 9.00 8.75 8.00 8.75 9.25 9.25 9.00 9.25 8.96',\n",
       " 'Performance 1.00 9.00 9.00 8.75 9.00 9.25 9.25 9.50 9.50 9.50 9.21',\n",
       " 'Composition 1.00 9.00 8.75 8.75 9.00 9.00 9.00 9.50 9.50 9.25 9.07',\n",
       " 'Interpretation of the Music 1.00 9.25 9.00 9.00 8.75 9.25 9.50 9.25 9.50 9.50 9.25',\n",
       " 'Judges Total Program Component Score (factored) 45.70',\n",
       " 'Deductions  0.00',\n",
       " '  x  Credit for highlight distribution, base value multiplied by 1.1 ',\n",
       " '']"
      ]
     },
     "execution_count": 68,
     "metadata": {},
     "output_type": "execute_result"
    }
   ],
   "source": [
    "prev"
   ]
  },
  {
   "cell_type": "code",
   "execution_count": null,
   "metadata": {
    "collapsed": true
   },
   "outputs": [],
   "source": []
  }
 ],
 "metadata": {
  "kernelspec": {
   "display_name": "Python 2",
   "language": "python",
   "name": "python2"
  },
  "language_info": {
   "codemirror_mode": {
    "name": "ipython",
    "version": 2
   },
   "file_extension": ".py",
   "mimetype": "text/x-python",
   "name": "python",
   "nbconvert_exporter": "python",
   "pygments_lexer": "ipython2",
   "version": "2.7.13"
  }
 },
 "nbformat": 4,
 "nbformat_minor": 2
}
