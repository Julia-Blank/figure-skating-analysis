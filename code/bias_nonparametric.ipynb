{
 "cells": [
  {
   "cell_type": "code",
   "execution_count": 8,
   "metadata": {
    "collapsed": true
   },
   "outputs": [],
   "source": [
    "import json\n",
    "import pandas as pd\n",
    "import pickle"
   ]
  },
  {
   "cell_type": "code",
   "execution_count": 27,
   "metadata": {
    "collapsed": false
   },
   "outputs": [
    {
     "name": "stdout",
     "output_type": "stream",
     "text": [
      "2006 2007 2008 2009 2010 2011 2012 2013 2014 2015 2016 2017 2018\n"
     ]
    }
   ],
   "source": [
    "with open('seasons.pickle') as f:\n",
    "    seasons = pickle.load(f)\n",
    "for year, season in seasons.iteritems():\n",
    "    print year,\n",
    "    season.load_scores()"
   ]
  },
  {
   "cell_type": "code",
   "execution_count": 10,
   "metadata": {
    "collapsed": true
   },
   "outputs": [],
   "source": [
    "with open('pd_data/name_fixes_all.json') as f:\n",
    "    all_name_fixes = pickle.load(f)"
   ]
  },
  {
   "cell_type": "code",
   "execution_count": null,
   "metadata": {
    "collapsed": true
   },
   "outputs": [],
   "source": [
    "elt_df_list = []\n",
    "comp_df_list = []\n",
    "for season in (seasons['2017'], seasons['2018']):\n",
    "    for event in season.events:\n",
    "        for discipline in event.disciplines:\n",
    "            for segment in discipline.segments:\n",
    "                for scorecard in segment.scorecards:\n",
    "                    for element in scorecard.elements:\n",
    "                        elt_df_list.append({\n",
    "                            'skater': all_name_fixes.get(scorecard.skater.name, scorecard.skater.name),\n",
    "                            'country': scorecard.skater.country,\n",
    "                            'segment_name': event.name + '_' + segment.name,\n",
    "                            'season': season.champ_year,\n",
    "                            'discipline': discipline.discipline.name,\n",
    "                            'segment_rank': scorecard.rank,\n",
    "                            'start_order': scorecard.starting_number,\n",
    "                            'elt_number': element.number,\n",
    "                            'elt_name': element.name,\n",
    "                            'elt_info': element.info,\n",
    "                            'elt_bv': element.base_value,\n",
    "                            'elt_bonus': element.bonus,\n",
    "                            'elt_finalgoe': element.goe,\n",
    "                            'elt_goes': ','.join(map(str, element.goes)),\n",
    "                            'elt_points': element.points\n",
    "                        })\n",
    "                    for comp in scorecard.components:\n",
    "                        comp_df_list.append({\n",
    "                            'skater': all_name_fixes.get(scorecard.skater.name, scorecard.skater.name),\n",
    "                            'country': scorecard.skater.country,\n",
    "                            'segment_name': event.name + '_' + segment.name,\n",
    "                            'season': season.champ_year,\n",
    "                            'discipline': discipline.discipline.name,\n",
    "                            'segment_rank': scorecard.rank,\n",
    "                            'start_order': scorecard.starting_number,\n",
    "                            'comp_name': name_fixes_components.get(comp.name, comp.name),\n",
    "                            'comp_scores': ','.join(map(str, comp.scores)),\n",
    "                            'comp_points': comp.points\n",
    "                        })"
   ]
  },
  {
   "cell_type": "code",
   "execution_count": null,
   "metadata": {
    "collapsed": true
   },
   "outputs": [],
   "source": [
    "elts_df = pd.DataFrame(elt_df_list)\n",
    "comp_df = pd.DataFrame(comp_df_list)"
   ]
  },
  {
   "cell_type": "code",
   "execution_count": null,
   "metadata": {
    "collapsed": true
   },
   "outputs": [],
   "source": [
    "comp_df[comp_df.segment_name == 'gpusa2016_pairs_short']"
   ]
  },
  {
   "cell_type": "code",
   "execution_count": 12,
   "metadata": {
    "collapsed": true
   },
   "outputs": [],
   "source": [
    "def remove_mr_ms(judge):\n",
    "    judge = judge.replace(r'\\xa0', '')\n",
    "    judge = judge.replace('Mr. ', '')\n",
    "    judge = judge.replace('Mr ', '')\n",
    "    judge = judge.replace('Ms. ', '')\n",
    "    judge = judge.replace('Ms ', '')\n",
    "    judge = judge.replace('Mrs. ', '')\n",
    "    return judge"
   ]
  },
  {
   "cell_type": "code",
   "execution_count": 24,
   "metadata": {
    "collapsed": false
   },
   "outputs": [
    {
     "name": "stdout",
     "output_type": "stream",
     "text": [
      "gpusa2016 gpusa2016 pairs_short -\n"
     ]
    }
   ],
   "source": [
    "panels = {}  # map segment name to judging panel\n",
    "judge_names = set()\n",
    "for season in seasons.values():\n",
    "    for event in season.events:\n",
    "        for discipline in event.disciplines:\n",
    "            for segment in discipline.segments:\n",
    "                if 'Function' in segment.panel.officials:\n",
    "                    del segment.panel.officials['Function']\n",
    "                    print event, segment\n",
    "                panel = {}\n",
    "                for function, official in segment.panel.officials.iteritems():\n",
    "                    name = remove_mr_ms(official.name)\n",
    "                    name = all_name_fixes.get(name, name)\n",
    "                    panel[function] = name\n",
    "                    if len(name) < 5:\n",
    "                        print event, segment, name\n",
    "                    judge_names.add(name)\n",
    "                panels[event.name + '_' + segment.name] = panel"
   ]
  },
  {
   "cell_type": "code",
   "execution_count": null,
   "metadata": {
    "collapsed": true
   },
   "outputs": [],
   "source": []
  }
 ],
 "metadata": {
  "kernelspec": {
   "display_name": "Python 2",
   "language": "python",
   "name": "python2"
  },
  "language_info": {
   "codemirror_mode": {
    "name": "ipython",
    "version": 2
   },
   "file_extension": ".py",
   "mimetype": "text/x-python",
   "name": "python",
   "nbconvert_exporter": "python",
   "pygments_lexer": "ipython2",
   "version": "2.7.13"
  }
 },
 "nbformat": 4,
 "nbformat_minor": 2
}
