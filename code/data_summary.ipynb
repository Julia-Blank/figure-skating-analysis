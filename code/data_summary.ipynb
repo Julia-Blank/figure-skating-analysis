{
 "cells": [
  {
   "cell_type": "code",
   "execution_count": 1,
   "metadata": {
    "collapsed": true
   },
   "outputs": [],
   "source": [
    "import json\n",
    "import matplotlib.pyplot as plt\n",
    "import pandas as pd\n",
    "import pickle"
   ]
  },
  {
   "cell_type": "code",
   "execution_count": 2,
   "metadata": {
    "collapsed": false
   },
   "outputs": [
    {
     "name": "stdout",
     "output_type": "stream",
     "text": [
      "2006 2007 2008 2009 2010 2011 2012 2013 2014 2015 2016 2017\n"
     ]
    }
   ],
   "source": [
    "with open('seasons.pickle') as f:\n",
    "    seasons = pickle.load(f)\n",
    "for year, season in seasons.iteritems():\n",
    "    print year,\n",
    "    season.load_scores()"
   ]
  },
  {
   "cell_type": "code",
   "execution_count": 3,
   "metadata": {
    "collapsed": true
   },
   "outputs": [],
   "source": [
    "men_by_year = []\n",
    "ladies_by_year = []\n",
    "pairs_by_year = []\n",
    "dance_by_year = []\n",
    "skaters = [men_by_year, ladies_by_year, pairs_by_year, dance_by_year]\n",
    "for year in seasons:\n",
    "    season = seasons[year]\n",
    "    for event in season.events:\n",
    "        for i, discipline in enumerate(event.disciplines):\n",
    "            df = pd.read_csv(discipline.results_csv)\n",
    "            skaters[i].append(df)"
   ]
  },
  {
   "cell_type": "code",
   "execution_count": 4,
   "metadata": {
    "collapsed": false
   },
   "outputs": [],
   "source": [
    "men = pd.concat(men_by_year)\n",
    "ladies = pd.concat(ladies_by_year)\n",
    "pairs = pd.concat(pairs_by_year)\n",
    "dance = pd.concat(dance_by_year)\n",
    "for discipline in (men, ladies, pairs, dance):\n",
    "    discipline.Date = pd.to_datetime(discipline.Date)"
   ]
  },
  {
   "cell_type": "code",
   "execution_count": 5,
   "metadata": {
    "collapsed": false
   },
   "outputs": [
    {
     "data": {
      "text/html": [
       "<div>\n",
       "<table border=\"1\" class=\"dataframe\">\n",
       "  <thead>\n",
       "    <tr style=\"text-align: right;\">\n",
       "      <th></th>\n",
       "      <th>Date</th>\n",
       "      <th>Event</th>\n",
       "      <th>Free Rank</th>\n",
       "      <th>Free Score</th>\n",
       "      <th>Name</th>\n",
       "      <th>Nation</th>\n",
       "      <th>Points</th>\n",
       "      <th>Rank</th>\n",
       "      <th>Short Rank</th>\n",
       "      <th>Short Score</th>\n",
       "    </tr>\n",
       "  </thead>\n",
       "  <tbody>\n",
       "    <tr>\n",
       "      <th>0</th>\n",
       "      <td>2005-10-23</td>\n",
       "      <td>gpusa05</td>\n",
       "      <td>1</td>\n",
       "      <td>149.44</td>\n",
       "      <td>Daisuke TAKAHASHI</td>\n",
       "      <td>JPN</td>\n",
       "      <td>218.54</td>\n",
       "      <td>1</td>\n",
       "      <td>1</td>\n",
       "      <td>69.1</td>\n",
       "    </tr>\n",
       "    <tr>\n",
       "      <th>1</th>\n",
       "      <td>2005-10-23</td>\n",
       "      <td>gpusa05</td>\n",
       "      <td>3</td>\n",
       "      <td>125.96</td>\n",
       "      <td>Evan LYSACEK</td>\n",
       "      <td>USA</td>\n",
       "      <td>193.71</td>\n",
       "      <td>2</td>\n",
       "      <td>3</td>\n",
       "      <td>67.75</td>\n",
       "    </tr>\n",
       "    <tr>\n",
       "      <th>2</th>\n",
       "      <td>2005-10-23</td>\n",
       "      <td>gpusa05</td>\n",
       "      <td>2</td>\n",
       "      <td>127.4</td>\n",
       "      <td>Brian JOUBERT</td>\n",
       "      <td>FRA</td>\n",
       "      <td>190.28</td>\n",
       "      <td>3</td>\n",
       "      <td>4</td>\n",
       "      <td>62.88</td>\n",
       "    </tr>\n",
       "    <tr>\n",
       "      <th>3</th>\n",
       "      <td>2005-10-23</td>\n",
       "      <td>gpusa05</td>\n",
       "      <td>4</td>\n",
       "      <td>116.3</td>\n",
       "      <td>Kevin VAN DER PERREN</td>\n",
       "      <td>BEL</td>\n",
       "      <td>185.09</td>\n",
       "      <td>4</td>\n",
       "      <td>2</td>\n",
       "      <td>68.79</td>\n",
       "    </tr>\n",
       "    <tr>\n",
       "      <th>4</th>\n",
       "      <td>2005-10-23</td>\n",
       "      <td>gpusa05</td>\n",
       "      <td>6</td>\n",
       "      <td>98.58</td>\n",
       "      <td>Yannick PONSERO</td>\n",
       "      <td>FRA</td>\n",
       "      <td>160.53</td>\n",
       "      <td>5</td>\n",
       "      <td>5</td>\n",
       "      <td>61.95</td>\n",
       "    </tr>\n",
       "  </tbody>\n",
       "</table>\n",
       "</div>"
      ],
      "text/plain": [
       "        Date    Event Free Rank Free Score                  Name Nation  \\\n",
       "0 2005-10-23  gpusa05         1     149.44     Daisuke TAKAHASHI    JPN   \n",
       "1 2005-10-23  gpusa05         3     125.96          Evan LYSACEK    USA   \n",
       "2 2005-10-23  gpusa05         2      127.4         Brian JOUBERT    FRA   \n",
       "3 2005-10-23  gpusa05         4      116.3  Kevin VAN DER PERREN    BEL   \n",
       "4 2005-10-23  gpusa05         6      98.58       Yannick PONSERO    FRA   \n",
       "\n",
       "   Points Rank Short Rank Short Score  \n",
       "0  218.54    1          1        69.1  \n",
       "1  193.71    2          3       67.75  \n",
       "2  190.28    3          4       62.88  \n",
       "3  185.09    4          2       68.79  \n",
       "4  160.53    5          5       61.95  "
      ]
     },
     "execution_count": 5,
     "metadata": {},
     "output_type": "execute_result"
    }
   ],
   "source": [
    "men.head()"
   ]
  },
  {
   "cell_type": "code",
   "execution_count": 6,
   "metadata": {
    "collapsed": true
   },
   "outputs": [],
   "source": [
    "# Fix duplicate names.\n",
    "def ascii_encode_dict(data):\n",
    "    ascii_encode = lambda x: x.encode('ascii')\n",
    "    return dict(map(ascii_encode, pair) for pair in data.items())\n",
    "\n",
    "with open('pd_data/men_name_fixes.json') as f:\n",
    "    men_name_fixes = f.read()\n",
    "men_name_fixes = json.loads(men_name_fixes, object_hook=ascii_encode_dict)\n",
    "\n",
    "for wrong_name, right_name in men_name_fixes.iteritems():\n",
    "    men.loc[men.Name == wrong_name, 'Name'] = right_name"
   ]
  },
  {
   "cell_type": "code",
   "execution_count": 7,
   "metadata": {
    "collapsed": false
   },
   "outputs": [],
   "source": [
    "# men[['Name', 'Nation']].sort_values(by='Name')"
   ]
  },
  {
   "cell_type": "code",
   "execution_count": 8,
   "metadata": {
    "collapsed": true
   },
   "outputs": [],
   "source": [
    "# Histogram of point totals (ignoring withdrawals and gpfra2015).\n",
    "def remove_wds_and_plot_points(data):\n",
    "    data = data[data['Free Rank'].str.isalpha() != True]\n",
    "    data[data['Event'] != 'gpfra2015'].Points.astype(float).hist()"
   ]
  },
  {
   "cell_type": "code",
   "execution_count": 9,
   "metadata": {
    "collapsed": false
   },
   "outputs": [
    {
     "data": {
      "image/png": "[encoded data removed]",
      "text/plain": [
       "<matplotlib.figure.Figure at 0x112418c90>"
      ]
     },
     "metadata": {},
     "output_type": "display_data"
    }
   ],
   "source": [
    "remove_wds_and_plot_points(men)\n",
    "plt.show()"
   ]
  },
  {
   "cell_type": "code",
   "execution_count": 10,
   "metadata": {
    "collapsed": false
   },
   "outputs": [
    {
     "data": {
      "image/png": "[encoded data removed]",
      "text/plain": [
       "<matplotlib.figure.Figure at 0x11253ffd0>"
      ]
     },
     "metadata": {},
     "output_type": "display_data"
    }
   ],
   "source": [
    "remove_wds_and_plot_points(ladies)\n",
    "plt.show()"
   ]
  },
  {
   "cell_type": "code",
   "execution_count": 11,
   "metadata": {
    "collapsed": false
   },
   "outputs": [
    {
     "data": {
      "image/png": "[encoded data removed]",
      "text/plain": [
       "<matplotlib.figure.Figure at 0x115ac3e90>"
      ]
     },
     "metadata": {},
     "output_type": "display_data"
    }
   ],
   "source": [
    "remove_wds_and_plot_points(pairs)\n",
    "plt.show()"
   ]
  },
  {
   "cell_type": "code",
   "execution_count": 12,
   "metadata": {
    "collapsed": false
   },
   "outputs": [
    {
     "data": {
      "image/png": "[encoded data removed]",
      "text/plain": [
       "<matplotlib.figure.Figure at 0x115c501d0>"
      ]
     },
     "metadata": {},
     "output_type": "display_data"
    }
   ],
   "source": [
    "remove_wds_and_plot_points(dance)\n",
    "plt.show()"
   ]
  },
  {
   "cell_type": "code",
   "execution_count": 33,
   "metadata": {
    "collapsed": false
   },
   "outputs": [
    {
     "name": "stdout",
     "output_type": "stream",
     "text": [
      "2085 2181 1287 1620\n"
     ]
    }
   ],
   "source": [
    "print len(men), len(ladies), len(pairs), len(dance)"
   ]
  },
  {
   "cell_type": "code",
   "execution_count": null,
   "metadata": {
    "collapsed": true
   },
   "outputs": [],
   "source": []
  }
 ],
 "metadata": {
  "kernelspec": {
   "display_name": "Python 2",
   "language": "python",
   "name": "python2"
  },
  "language_info": {
   "codemirror_mode": {
    "name": "ipython",
    "version": 2
   },
   "file_extension": ".py",
   "mimetype": "text/x-python",
   "name": "python",
   "nbconvert_exporter": "python",
   "pygments_lexer": "ipython2",
   "version": "2.7.13"
  }
 },
 "nbformat": 4,
 "nbformat_minor": 2
}
