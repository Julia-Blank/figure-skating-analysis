{
 "cells": [
  {
   "cell_type": "code",
   "execution_count": 2,
   "metadata": {
    "collapsed": true
   },
   "outputs": [],
   "source": [
    "%matplotlib inline\n",
    "\n",
    "import json\n",
    "import matplotlib.pyplot as plt\n",
    "import numpy as np\n",
    "import pandas as pd\n",
    "import pickle\n",
    "import statsmodels.api as sm"
   ]
  },
  {
   "cell_type": "code",
   "execution_count": 20,
   "metadata": {
    "collapsed": false
   },
   "outputs": [
    {
     "name": "stdout",
     "output_type": "stream",
     "text": [
      "2006 2007 2008 2009 2010 2011 2012 2013 2014 2015 2016 2017\n"
     ]
    }
   ],
   "source": [
    "with open('seasons.pickle') as f:\n",
    "    seasons = pickle.load(f)\n",
    "for year, season in seasons.iteritems():\n",
    "    print year,\n",
    "    season.load_scores()\n",
    "\n",
    "with open('season2018.pickle') as f:\n",
    "    season18 = pickle.load(f)\n",
    "season18.load_scores()"
   ]
  },
  {
   "cell_type": "code",
   "execution_count": 4,
   "metadata": {
    "collapsed": false
   },
   "outputs": [],
   "source": [
    "with open('pd_data/name_fixes_pairs.json') as f:\n",
    "    pair_name_fixes = f.read()\n",
    "pair_name_fixes = json.loads(pair_name_fixes)"
   ]
  },
  {
   "cell_type": "code",
   "execution_count": 7,
   "metadata": {
    "collapsed": false
   },
   "outputs": [],
   "source": [
    "goes_pairs = pd.read_csv('pd_data/goes_pairs.csv')\n",
    "elts = sorted(goes_pairs.Element.unique())"
   ]
  },
  {
   "cell_type": "code",
   "execution_count": 8,
   "metadata": {
    "collapsed": false
   },
   "outputs": [],
   "source": [
    "steps = [elt for elt in elts if 'St' in elt]\n",
    "no_steps = [elt for elt in elts if 'St' not in elt]"
   ]
  },
  {
   "cell_type": "code",
   "execution_count": 12,
   "metadata": {
    "collapsed": false
   },
   "outputs": [],
   "source": [
    "spins = [elt for elt in no_steps if 'Sp' in elt]\n",
    "left = [elt for elt in no_steps if 'Sp' not in elt]"
   ]
  },
  {
   "cell_type": "code",
   "execution_count": 37,
   "metadata": {
    "collapsed": false
   },
   "outputs": [],
   "source": [
    "twist = [elt for elt in left if 'Tw' in elt]\n",
    "left = [elt for elt in left if 'Tw' not in elt]"
   ]
  },
  {
   "cell_type": "code",
   "execution_count": 40,
   "metadata": {
    "collapsed": false
   },
   "outputs": [],
   "source": [
    "throws = [elt for elt in left if 'Th' in elt]\n",
    "left = [elt for elt in left if 'Th' not in elt]"
   ]
  },
  {
   "cell_type": "code",
   "execution_count": 43,
   "metadata": {
    "collapsed": false
   },
   "outputs": [],
   "source": [
    "lifts = [elt for elt in left if 'Li' in elt]\n",
    "left = [elt for elt in left if 'Li' not in elt]"
   ]
  },
  {
   "cell_type": "code",
   "execution_count": 51,
   "metadata": {
    "collapsed": true
   },
   "outputs": [],
   "source": [
    "ds = [elt for elt in left if 'Ds' in elt]\n",
    "left = [elt for elt in left if 'Ds' not in elt]"
   ]
  },
  {
   "cell_type": "code",
   "execution_count": 54,
   "metadata": {
    "collapsed": false
   },
   "outputs": [],
   "source": [
    "cho = [elt for elt in left if 'ChSq' in elt]\n",
    "sbs = [elt for elt in left if 'ChSq' not in elt]"
   ]
  },
  {
   "cell_type": "code",
   "execution_count": 55,
   "metadata": {
    "collapsed": false
   },
   "outputs": [
    {
     "data": {
      "text/plain": [
       "['1A',\n",
       " '1A*',\n",
       " '1A+1A+SEQ',\n",
       " '1A+1Lo+1Lo',\n",
       " '1A+1Lo+2S',\n",
       " '1A+1T',\n",
       " '1A+1T+SEQ',\n",
       " '1A+2A+SEQ',\n",
       " '1A+2A<+SEQ',\n",
       " '1A+2A<<+SEQ',\n",
       " '1A+2T',\n",
       " '1A+2T+SEQ',\n",
       " '1A+3T',\n",
       " '1A+COMBO',\n",
       " '1A+REP',\n",
       " '1A+SEQ',\n",
       " '1A<+1A+SEQ',\n",
       " '1A<+COMBO',\n",
       " '1F',\n",
       " '1F+1S+SEQ',\n",
       " '1F+2T+SEQ',\n",
       " '1F+SEQ',\n",
       " '1Fe*',\n",
       " '1Lo+COMBO',\n",
       " '1Lz',\n",
       " '1S',\n",
       " '1S*',\n",
       " '1S+1T',\n",
       " '1S+COMBO',\n",
       " '1S+SEQ',\n",
       " '1T',\n",
       " '1T*',\n",
       " '1T+2T+SEQ',\n",
       " '1T+COMBO',\n",
       " '1T+SEQ',\n",
       " '2A',\n",
       " '2A*',\n",
       " '2A+1A+SEQ',\n",
       " '2A+1Lo+2S',\n",
       " '2A+1Lo+3S<',\n",
       " '2A+1Lo+3S<<',\n",
       " '2A+1Lo<<+2S',\n",
       " '2A+1Lo<<+2S<',\n",
       " '2A+1T',\n",
       " '2A+2A+SEQ',\n",
       " '2A+2A<+SEQ',\n",
       " '2A+2F+SEQ',\n",
       " '2A+2S+SEQ',\n",
       " '2A+2T',\n",
       " '2A+2T+2T',\n",
       " '2A+2T+SEQ',\n",
       " '2A+2T<',\n",
       " '2A+3T',\n",
       " '2A+3T+SEQ',\n",
       " '2A+COMBO',\n",
       " '2A+REP',\n",
       " '2A+SEQ',\n",
       " '2A+T',\n",
       " '2A<',\n",
       " '2A<+1A+SEQ',\n",
       " '2A<+1Lo+1T+SEQ',\n",
       " '2A<+1Lo+2S',\n",
       " '2A<+1T',\n",
       " '2A<+2A+SEQ',\n",
       " '2A<+2A<+SEQ',\n",
       " '2A<+2T+SEQ',\n",
       " '2A<+2T<<',\n",
       " '2A<+COMBO',\n",
       " '2A<+REP',\n",
       " '2A<+SEQ',\n",
       " '2A<<',\n",
       " '2A<<+1Lo+2S',\n",
       " '2A<<+2A+SEQ',\n",
       " '2A<<+REP',\n",
       " '2A<<+SEQ',\n",
       " '2F',\n",
       " '2F+1A+SEQ',\n",
       " '2F+1F+SEQ',\n",
       " '2F+1Lo+1F',\n",
       " '2F+1Lo+SEQ',\n",
       " '2F+1T',\n",
       " '2F+2F+SEQ',\n",
       " '2F+2Lo+SEQ',\n",
       " '2F+2S+SEQ',\n",
       " '2F+2T',\n",
       " '2F+2T+2T',\n",
       " '2F+2T+SEQ',\n",
       " '2F+COMBO',\n",
       " '2F+SEQ',\n",
       " '2F<',\n",
       " '2F<+COMBO',\n",
       " '2F<+SEQ',\n",
       " '2Lo',\n",
       " '2Lo+1A+SEQ',\n",
       " '2Lo+1Lo+2Lo+SEQ',\n",
       " '2Lo+1Lo<+2Lo+SEQ',\n",
       " '2Lo+1T+1T',\n",
       " '2Lo+2Lo+SEQ',\n",
       " '2Lo+2T',\n",
       " '2Lo+2T+SEQ',\n",
       " '2Lo+2T<',\n",
       " '2Lo+REP',\n",
       " '2Lo+SEQ',\n",
       " '2Lz',\n",
       " '2Lz+2A+SEQ',\n",
       " '2Lz+2F+SEQ',\n",
       " '2Lz+2Lo',\n",
       " '2Lz+2Lo+SEQ',\n",
       " '2Lz+2Lo<',\n",
       " '2Lz+2T',\n",
       " '2Lz+2T+SEQ',\n",
       " '2Lz+COMBO',\n",
       " '2Lz+SEQ',\n",
       " '2Lz<<',\n",
       " '2S',\n",
       " '2S*',\n",
       " '2S+1A+SEQ',\n",
       " '2S+1T',\n",
       " '2S+1T+SEQ',\n",
       " '2S+2F+SEQ',\n",
       " '2S+2Lo+SEQ',\n",
       " '2S+2S+SEQ',\n",
       " '2S+2T',\n",
       " '2S+2T+2T<',\n",
       " '2S+2T+SEQ',\n",
       " '2S+3T+SEQ',\n",
       " '2S+COMBO',\n",
       " '2S+SEQ',\n",
       " '2S<',\n",
       " '2S<<',\n",
       " '2S<<+COMBO+2S*',\n",
       " '2T',\n",
       " '2T*',\n",
       " '2T+1Lo+2T+SEQ',\n",
       " '2T+1T',\n",
       " '2T+1T+1T',\n",
       " '2T+2A+SEQ',\n",
       " '2T+2T',\n",
       " '2T+2T+1T',\n",
       " '2T+2T+2T',\n",
       " '2T+2T+SEQ',\n",
       " '2T+2T<+SEQ',\n",
       " '2T+2T<<',\n",
       " '2T+3T+SEQ',\n",
       " '2T+COMBO',\n",
       " '2T+REP',\n",
       " '2T+SEQ',\n",
       " '2T<',\n",
       " '2T<*',\n",
       " '2T<+SEQ',\n",
       " '2T<<+COMBO',\n",
       " '2T<<+SEQ',\n",
       " '3F',\n",
       " '3F+1T',\n",
       " '3F+1T+2T',\n",
       " '3F+2T+2T',\n",
       " '3Lo',\n",
       " '3Lo<',\n",
       " '3Lo<<',\n",
       " '3Lz',\n",
       " '3Lz+1T',\n",
       " '3Lz+2T+1T',\n",
       " '3Lz+2T+2T',\n",
       " '3Lz+2T+2T<<',\n",
       " '3Lz<',\n",
       " '3Lz<+2T+2T',\n",
       " '3Lz<<',\n",
       " '3S',\n",
       " '3S*',\n",
       " '3S+1T',\n",
       " '3S+1T+2T',\n",
       " '3S+1T<<',\n",
       " '3S+1T<<+COMBO',\n",
       " '3S+2A+SEQ',\n",
       " '3S+2F+SEQ',\n",
       " '3S+2S+SEQ',\n",
       " '3S+2T',\n",
       " '3S+2T+1T',\n",
       " '3S+2T+2T',\n",
       " '3S+2T+SEQ',\n",
       " '3S+2T<<',\n",
       " '3S+2T<<+1T',\n",
       " '3S+COMBO',\n",
       " '3S+REP',\n",
       " '3S+SEQ',\n",
       " '3S<',\n",
       " '3S<+1T',\n",
       " '3S<+2T+2T<',\n",
       " '3S<+2T<<',\n",
       " '3S<+REP',\n",
       " '3S<+SEQ',\n",
       " '3S<<',\n",
       " '3S<<+1T',\n",
       " '3S<<+COMBO',\n",
       " '3S<<+SEQ',\n",
       " '3T',\n",
       " '3T*',\n",
       " '3T*+COMBO',\n",
       " '3T*+SEQ',\n",
       " '3T+1A+SEQ',\n",
       " '3T+1Lo+2T+SEQ',\n",
       " '3T+1T',\n",
       " '3T+1T+1T',\n",
       " '3T+1T+2T',\n",
       " '3T+1T<<+2T',\n",
       " '3T+2A+SEQ',\n",
       " '3T+2F+SEQ',\n",
       " '3T+2T',\n",
       " '3T+2T+1Lo',\n",
       " '3T+2T+1T',\n",
       " '3T+2T+2Lo',\n",
       " '3T+2T+2Lo<<',\n",
       " '3T+2T+2T',\n",
       " '3T+2T+2T<',\n",
       " '3T+2T+2T<<',\n",
       " '3T+2T+SEQ',\n",
       " '3T+2T+T',\n",
       " '3T+2T<',\n",
       " '3T+2T<<',\n",
       " '3T+3T',\n",
       " '3T+3T+1T',\n",
       " '3T+3T+2T',\n",
       " '3T+3T+SEQ',\n",
       " '3T+3T<+1T',\n",
       " '3T+3T<+SEQ',\n",
       " '3T+3T<<',\n",
       " '3T+COMBO',\n",
       " '3T+REP',\n",
       " '3T+SEQ',\n",
       " '3T+T',\n",
       " '3T<',\n",
       " '3T<+1Lo+1T+SEQ',\n",
       " '3T<+1T',\n",
       " '3T<+2T',\n",
       " '3T<+2T+SEQ',\n",
       " '3T<+2T<',\n",
       " '3T<+2T<<',\n",
       " '3T<+COMBO',\n",
       " '3T<+SEQ',\n",
       " '3T<<',\n",
       " '3T<<+2T<+2T<',\n",
       " '3T<<+COMBO',\n",
       " '3T<<+SEQ',\n",
       " 'A',\n",
       " 'A+1A+SEQ',\n",
       " 'S',\n",
       " 'T']"
      ]
     },
     "execution_count": 55,
     "metadata": {},
     "output_type": "execute_result"
    }
   ],
   "source": [
    "sbs"
   ]
  },
  {
   "cell_type": "code",
   "execution_count": 21,
   "metadata": {
    "collapsed": true
   },
   "outputs": [],
   "source": [
    "with open('pd_data/name_fixes_men.json') as f:\n",
    "    men_name_fixes = f.read()\n",
    "men_name_fixes = json.loads(men_name_fixes)"
   ]
  },
  {
   "cell_type": "code",
   "execution_count": 23,
   "metadata": {
    "collapsed": false
   },
   "outputs": [
    {
     "name": "stderr",
     "output_type": "stream",
     "text": [
      "/anaconda/lib/python2.7/site-packages/IPython/core/interactiveshell.py:2717: DtypeWarning: Columns (6) have mixed types. Specify dtype option on import or set low_memory=False.\n",
      "  interactivity=interactivity, compiler=compiler, result=result)\n"
     ]
    }
   ],
   "source": [
    "goes_men = pd.read_csv('pd_data/goes_men.csv')"
   ]
  },
  {
   "cell_type": "code",
   "execution_count": 91,
   "metadata": {
    "collapsed": false
   },
   "outputs": [
    {
     "name": "stderr",
     "output_type": "stream",
     "text": [
      "/anaconda/lib/python2.7/site-packages/IPython/core/interactiveshell.py:2717: DtypeWarning: Columns (9,10) have mixed types. Specify dtype option on import or set low_memory=False.\n",
      "  interactivity=interactivity, compiler=compiler, result=result)\n"
     ]
    }
   ],
   "source": [
    "components_men = pd.read_csv('pd_data/components_men.csv')"
   ]
  },
  {
   "cell_type": "code",
   "execution_count": 93,
   "metadata": {
    "collapsed": false
   },
   "outputs": [
    {
     "data": {
      "text/plain": [
       "array(['Skating Skills', 'Transitions', 'Performance', 'Composition',\n",
       "       'Interpretation'], dtype=object)"
      ]
     },
     "execution_count": 93,
     "metadata": {},
     "output_type": "execute_result"
    }
   ],
   "source": [
    "components_men['Component Name'].unique()"
   ]
  },
  {
   "cell_type": "code",
   "execution_count": 22,
   "metadata": {
    "collapsed": true
   },
   "outputs": [],
   "source": [
    "def is_ch(elt_name):\n",
    "    return 'ChSq' in elt_name or 'ChSt' in elt_name\n",
    "def is_st(elt_name):\n",
    "    return not is_ch(elt_name) and 'St' in elt_name\n",
    "def is_sp(elt_name):\n",
    "    return 'Sp' in elt_name\n",
    "def is_jump(elt_name):\n",
    "    return not is_ch(elt_name) and not is_st(elt_name) and not is_sp(elt_name)\n",
    "def is_1j(elt_name):\n",
    "    return is_jump(elt_name) and (elt_name[0].isalpha() or elt_name[0] == '1')\n",
    "def is_2j(elt_name):\n",
    "    return is_jump(elt_name) and elt_name[0] == '2'\n",
    "def is_3j(elt_name):\n",
    "    return is_jump(elt_name) and elt_name[0] == '3'\n",
    "def is_4j(elt_name):\n",
    "    return is_jump(elt_name) and elt_name[0] == '4'\n",
    "\n",
    "component_to_type = {\n",
    "    'Skating Skills': 'ss',\n",
    "    'Transitions': 'tr',\n",
    "    'Performance': 'pe',\n",
    "    'Composition': 'co',\n",
    "    'Interpretation': 'in'\n",
    "}"
   ]
  },
  {
   "cell_type": "code",
   "execution_count": 33,
   "metadata": {
    "collapsed": false
   },
   "outputs": [],
   "source": [
    "# singles (plus zeros), doubles, triples, quads, spins, choreo, steps"
   ]
  },
  {
   "cell_type": "code",
   "execution_count": 58,
   "metadata": {
    "collapsed": false
   },
   "outputs": [],
   "source": [
    "with open('pd_data/name_fixes_components.json') as f:\n",
    "    comp_name_fixes = f.read()\n",
    "comp_name_fixes = json.loads(comp_name_fixes)"
   ]
  },
  {
   "cell_type": "code",
   "execution_count": 59,
   "metadata": {
    "collapsed": false
   },
   "outputs": [],
   "source": [
    "components = []\n",
    "for event in season18.events:\n",
    "    discipline = event.disciplines[0]\n",
    "    for i, segment in enumerate(discipline.segments):\n",
    "        for scorecard in segment.scorecards:\n",
    "            skater = scorecard.skater.name\n",
    "            if skater in men_name_fixes:\n",
    "                skater = men_name_fixes[skater]\n",
    "            for component in scorecard.components:\n",
    "                name = component.name\n",
    "                if name in comp_name_fixes:\n",
    "                    name = comp_name_fixes[name]\n",
    "                components.append({\n",
    "                    'skater': skater,\n",
    "                    'component': name,\n",
    "                    'comp_type': component_to_type[name],\n",
    "                    'points': component.points,\n",
    "                    'segment_rank': scorecard.rank,\n",
    "                    'event': event,\n",
    "                    'segment': segment,\n",
    "                    'date': event.date,\n",
    "                    'start_order': scorecard.starting_number\n",
    "                })"
   ]
  },
  {
   "cell_type": "code",
   "execution_count": 60,
   "metadata": {
    "collapsed": true
   },
   "outputs": [],
   "source": [
    "components18 = pd.DataFrame(components)"
   ]
  },
  {
   "cell_type": "code",
   "execution_count": 62,
   "metadata": {
    "collapsed": false
   },
   "outputs": [],
   "source": [
    "components18.to_csv('pd_data/components_summary18_men.csv')"
   ]
  },
  {
   "cell_type": "code",
   "execution_count": 30,
   "metadata": {
    "collapsed": true
   },
   "outputs": [],
   "source": [
    "elements = []\n",
    "for event in season18.events:\n",
    "    discipline = event.disciplines[0]\n",
    "    for i, segment in enumerate(discipline.segments):\n",
    "        for scorecard in segment.scorecards:\n",
    "            skater = scorecard.skater.name\n",
    "            if skater in men_name_fixes:\n",
    "                skater = men_name_fixes[skater]\n",
    "            for elt in scorecard.elements:\n",
    "                if is_ch(elt.name):\n",
    "                    elt_type = 'ch'\n",
    "                elif is_sp(elt.name):\n",
    "                    elt_type = 'sp'\n",
    "                elif is_st(elt.name):\n",
    "                    elt_type = 'st'\n",
    "                elif is_1j(elt.name):\n",
    "                    elt_type = '1j'\n",
    "                else:\n",
    "                    elt_type = elt.name[0] + 'j'\n",
    "                elements.append({\n",
    "                    'skater': skater,\n",
    "                    'element': elt.name,\n",
    "                    'elt_type': elt_type,\n",
    "                    'goe': elt.goe,\n",
    "                    'bonus': elt.bonus,\n",
    "                    'info': elt.info,\n",
    "                    'number': elt.number,\n",
    "                    'points': elt.points,\n",
    "                    'segment_rank': scorecard.rank,\n",
    "                    'event': event,\n",
    "                    'segment': segment,\n",
    "                    'date': event.date,\n",
    "                    'start_order': scorecard.starting_number\n",
    "                })"
   ]
  },
  {
   "cell_type": "code",
   "execution_count": 31,
   "metadata": {
    "collapsed": false
   },
   "outputs": [],
   "source": [
    "elements = pd.DataFrame(elements)"
   ]
  },
  {
   "cell_type": "code",
   "execution_count": 32,
   "metadata": {
    "collapsed": false
   },
   "outputs": [],
   "source": [
    "elements.to_csv('pd_data/elements18_men.csv')"
   ]
  },
  {
   "cell_type": "code",
   "execution_count": 111,
   "metadata": {
    "collapsed": false
   },
   "outputs": [],
   "source": [
    "components.to_csv('pd_data/components_summary_men.csv')"
   ]
  },
  {
   "cell_type": "code",
   "execution_count": 68,
   "metadata": {
    "collapsed": false
   },
   "outputs": [],
   "source": [
    "yuzu = elements[elements.skater == 'Yuzuru HANYU']"
   ]
  },
  {
   "cell_type": "code",
   "execution_count": 90,
   "metadata": {
    "collapsed": false
   },
   "outputs": [
    {
     "data": {
      "text/plain": [
       "<matplotlib.axes._subplots.AxesSubplot at 0x11e513f50>"
      ]
     },
     "execution_count": 90,
     "metadata": {},
     "output_type": "execute_result"
    },
    {
     "data": {
      "image/png": "[encoded data removed]",
      "text/plain": [
       "<matplotlib.figure.Figure at 0x11e3b9110>"
      ]
     },
     "metadata": {},
     "output_type": "display_data"
    }
   ],
   "source": [
    "elements[elements.elt_type == '4j'].points.hist()"
   ]
  },
  {
   "cell_type": "code",
   "execution_count": 97,
   "metadata": {
    "collapsed": false
   },
   "outputs": [
    {
     "data": {
      "text/html": [
       "<div>\n",
       "<table border=\"1\" class=\"dataframe\">\n",
       "  <thead>\n",
       "    <tr style=\"text-align: right;\">\n",
       "      <th></th>\n",
       "      <th>base_value</th>\n",
       "      <th>bonus</th>\n",
       "      <th>date</th>\n",
       "      <th>element</th>\n",
       "      <th>elt_type</th>\n",
       "      <th>event</th>\n",
       "      <th>goe</th>\n",
       "      <th>info</th>\n",
       "      <th>number</th>\n",
       "      <th>points</th>\n",
       "      <th>segment</th>\n",
       "      <th>segment_rank</th>\n",
       "      <th>skater</th>\n",
       "      <th>start_order</th>\n",
       "    </tr>\n",
       "  </thead>\n",
       "  <tbody>\n",
       "    <tr>\n",
       "      <th>0</th>\n",
       "      <td>9.5</td>\n",
       "      <td>False</td>\n",
       "      <td>2005-10-23</td>\n",
       "      <td>3F+3T</td>\n",
       "      <td>3j</td>\n",
       "      <td>gpusa05</td>\n",
       "      <td>1.0</td>\n",
       "      <td></td>\n",
       "      <td>1</td>\n",
       "      <td>10.5</td>\n",
       "      <td>gpusa05 men_short</td>\n",
       "      <td>1</td>\n",
       "      <td>Daisuke TAKAHASHI</td>\n",
       "      <td>0</td>\n",
       "    </tr>\n",
       "    <tr>\n",
       "      <th>1</th>\n",
       "      <td>7.5</td>\n",
       "      <td>False</td>\n",
       "      <td>2005-10-23</td>\n",
       "      <td>3A</td>\n",
       "      <td>3j</td>\n",
       "      <td>gpusa05</td>\n",
       "      <td>-3.0</td>\n",
       "      <td></td>\n",
       "      <td>2</td>\n",
       "      <td>4.5</td>\n",
       "      <td>gpusa05 men_short</td>\n",
       "      <td>1</td>\n",
       "      <td>Daisuke TAKAHASHI</td>\n",
       "      <td>0</td>\n",
       "    </tr>\n",
       "    <tr>\n",
       "      <th>2</th>\n",
       "      <td>2.1</td>\n",
       "      <td>False</td>\n",
       "      <td>2005-10-23</td>\n",
       "      <td>CSSp3</td>\n",
       "      <td>sp</td>\n",
       "      <td>gpusa05</td>\n",
       "      <td>0.3</td>\n",
       "      <td></td>\n",
       "      <td>3</td>\n",
       "      <td>2.4</td>\n",
       "      <td>gpusa05 men_short</td>\n",
       "      <td>1</td>\n",
       "      <td>Daisuke TAKAHASHI</td>\n",
       "      <td>0</td>\n",
       "    </tr>\n",
       "    <tr>\n",
       "      <th>3</th>\n",
       "      <td>6.0</td>\n",
       "      <td>False</td>\n",
       "      <td>2005-10-23</td>\n",
       "      <td>3Lz</td>\n",
       "      <td>3j</td>\n",
       "      <td>gpusa05</td>\n",
       "      <td>0.8</td>\n",
       "      <td></td>\n",
       "      <td>4</td>\n",
       "      <td>6.8</td>\n",
       "      <td>gpusa05 men_short</td>\n",
       "      <td>1</td>\n",
       "      <td>Daisuke TAKAHASHI</td>\n",
       "      <td>0</td>\n",
       "    </tr>\n",
       "    <tr>\n",
       "      <th>4</th>\n",
       "      <td>2.3</td>\n",
       "      <td>False</td>\n",
       "      <td>2005-10-23</td>\n",
       "      <td>CiSt2</td>\n",
       "      <td>st</td>\n",
       "      <td>gpusa05</td>\n",
       "      <td>0.5</td>\n",
       "      <td></td>\n",
       "      <td>5</td>\n",
       "      <td>2.8</td>\n",
       "      <td>gpusa05 men_short</td>\n",
       "      <td>1</td>\n",
       "      <td>Daisuke TAKAHASHI</td>\n",
       "      <td>0</td>\n",
       "    </tr>\n",
       "  </tbody>\n",
       "</table>\n",
       "</div>"
      ],
      "text/plain": [
       "   base_value  bonus        date element elt_type    event  goe info  number  \\\n",
       "0         9.5  False  2005-10-23   3F+3T       3j  gpusa05  1.0            1   \n",
       "1         7.5  False  2005-10-23      3A       3j  gpusa05 -3.0            2   \n",
       "2         2.1  False  2005-10-23   CSSp3       sp  gpusa05  0.3            3   \n",
       "3         6.0  False  2005-10-23     3Lz       3j  gpusa05  0.8            4   \n",
       "4         2.3  False  2005-10-23   CiSt2       st  gpusa05  0.5            5   \n",
       "\n",
       "   points            segment  segment_rank             skater  start_order  \n",
       "0    10.5  gpusa05 men_short             1  Daisuke TAKAHASHI            0  \n",
       "1     4.5  gpusa05 men_short             1  Daisuke TAKAHASHI            0  \n",
       "2     2.4  gpusa05 men_short             1  Daisuke TAKAHASHI            0  \n",
       "3     6.8  gpusa05 men_short             1  Daisuke TAKAHASHI            0  \n",
       "4     2.8  gpusa05 men_short             1  Daisuke TAKAHASHI            0  "
      ]
     },
     "execution_count": 97,
     "metadata": {},
     "output_type": "execute_result"
    }
   ],
   "source": [
    "elements.head()"
   ]
  },
  {
   "cell_type": "code",
   "execution_count": 98,
   "metadata": {
    "collapsed": true
   },
   "outputs": [],
   "source": [
    "elements.to_csv('pd_data/elements_men.csv')"
   ]
  },
  {
   "cell_type": "code",
   "execution_count": 34,
   "metadata": {
    "collapsed": false
   },
   "outputs": [
    {
     "data": {
      "text/html": [
       "<div>\n",
       "<table border=\"1\" class=\"dataframe\">\n",
       "  <thead>\n",
       "    <tr style=\"text-align: right;\">\n",
       "      <th></th>\n",
       "      <th>Unnamed: 0</th>\n",
       "      <th>Base Value</th>\n",
       "      <th>Bonus</th>\n",
       "      <th>Element</th>\n",
       "      <th>Final GOE</th>\n",
       "      <th>GOE</th>\n",
       "      <th>Info</th>\n",
       "      <th>Judge</th>\n",
       "      <th>Segment</th>\n",
       "      <th>Skater</th>\n",
       "    </tr>\n",
       "  </thead>\n",
       "  <tbody>\n",
       "    <tr>\n",
       "      <th>0</th>\n",
       "      <td>0</td>\n",
       "      <td>9.5</td>\n",
       "      <td>False</td>\n",
       "      <td>3F+3T</td>\n",
       "      <td>1.0</td>\n",
       "      <td>1.0</td>\n",
       "      <td>NaN</td>\n",
       "      <td>NaN</td>\n",
       "      <td>gpusa05_men_short</td>\n",
       "      <td>Daisuke TAKAHASHI</td>\n",
       "    </tr>\n",
       "    <tr>\n",
       "      <th>1</th>\n",
       "      <td>1</td>\n",
       "      <td>9.5</td>\n",
       "      <td>False</td>\n",
       "      <td>3F+3T</td>\n",
       "      <td>1.0</td>\n",
       "      <td>2.0</td>\n",
       "      <td>NaN</td>\n",
       "      <td>NaN</td>\n",
       "      <td>gpusa05_men_short</td>\n",
       "      <td>Daisuke TAKAHASHI</td>\n",
       "    </tr>\n",
       "    <tr>\n",
       "      <th>2</th>\n",
       "      <td>2</td>\n",
       "      <td>9.5</td>\n",
       "      <td>False</td>\n",
       "      <td>3F+3T</td>\n",
       "      <td>1.0</td>\n",
       "      <td>1.0</td>\n",
       "      <td>NaN</td>\n",
       "      <td>NaN</td>\n",
       "      <td>gpusa05_men_short</td>\n",
       "      <td>Daisuke TAKAHASHI</td>\n",
       "    </tr>\n",
       "    <tr>\n",
       "      <th>3</th>\n",
       "      <td>3</td>\n",
       "      <td>9.5</td>\n",
       "      <td>False</td>\n",
       "      <td>3F+3T</td>\n",
       "      <td>1.0</td>\n",
       "      <td>1.0</td>\n",
       "      <td>NaN</td>\n",
       "      <td>NaN</td>\n",
       "      <td>gpusa05_men_short</td>\n",
       "      <td>Daisuke TAKAHASHI</td>\n",
       "    </tr>\n",
       "    <tr>\n",
       "      <th>4</th>\n",
       "      <td>4</td>\n",
       "      <td>9.5</td>\n",
       "      <td>False</td>\n",
       "      <td>3F+3T</td>\n",
       "      <td>1.0</td>\n",
       "      <td>1.0</td>\n",
       "      <td>NaN</td>\n",
       "      <td>NaN</td>\n",
       "      <td>gpusa05_men_short</td>\n",
       "      <td>Daisuke TAKAHASHI</td>\n",
       "    </tr>\n",
       "  </tbody>\n",
       "</table>\n",
       "</div>"
      ],
      "text/plain": [
       "   Unnamed: 0  Base Value  Bonus Element  Final GOE  GOE Info  Judge  \\\n",
       "0           0         9.5  False   3F+3T        1.0  1.0  NaN    NaN   \n",
       "1           1         9.5  False   3F+3T        1.0  2.0  NaN    NaN   \n",
       "2           2         9.5  False   3F+3T        1.0  1.0  NaN    NaN   \n",
       "3           3         9.5  False   3F+3T        1.0  1.0  NaN    NaN   \n",
       "4           4         9.5  False   3F+3T        1.0  1.0  NaN    NaN   \n",
       "\n",
       "             Segment             Skater  \n",
       "0  gpusa05_men_short  Daisuke TAKAHASHI  \n",
       "1  gpusa05_men_short  Daisuke TAKAHASHI  \n",
       "2  gpusa05_men_short  Daisuke TAKAHASHI  \n",
       "3  gpusa05_men_short  Daisuke TAKAHASHI  \n",
       "4  gpusa05_men_short  Daisuke TAKAHASHI  "
      ]
     },
     "execution_count": 34,
     "metadata": {},
     "output_type": "execute_result"
    }
   ],
   "source": [
    "goes_men.head()"
   ]
  },
  {
   "cell_type": "code",
   "execution_count": 4,
   "metadata": {
    "collapsed": false
   },
   "outputs": [],
   "source": [
    "yuzu_elts = []\n",
    "for season in seasons.values():\n",
    "    for event in season.events:\n",
    "        discipline = event.disciplines[0]\n",
    "        for segment in discipline.segments:\n",
    "            for scorecard in segment.scorecards:\n",
    "                name = scorecard.skater.name\n",
    "                if name in men_name_fixes:\n",
    "                    name = men_name_fixes[name]\n",
    "                if name == 'Yuzuru HANYU':\n",
    "                    yuzu_elts += scorecard.elements"
   ]
  },
  {
   "cell_type": "code",
   "execution_count": 5,
   "metadata": {
    "collapsed": false
   },
   "outputs": [],
   "source": [
    "quads = pd.DataFrame({'quad points': [elt.goe for elt in yuzu_elts if elt.name.startswith('4')]})"
   ]
  },
  {
   "cell_type": "code",
   "execution_count": 6,
   "metadata": {
    "collapsed": false
   },
   "outputs": [
    {
     "data": {
      "text/plain": [
       "array([[<matplotlib.axes._subplots.AxesSubplot object at 0x119241590>]], dtype=object)"
      ]
     },
     "execution_count": 6,
     "metadata": {},
     "output_type": "execute_result"
    },
    {
     "data": {
      "image/png": "[encoded data removed]",
      "text/plain": [
       "<matplotlib.figure.Figure at 0x111b5c4d0>"
      ]
     },
     "metadata": {},
     "output_type": "display_data"
    }
   ],
   "source": [
    "quads.hist()"
   ]
  },
  {
   "cell_type": "code",
   "execution_count": 7,
   "metadata": {
    "collapsed": false
   },
   "outputs": [
    {
     "data": {
      "text/plain": [
       "[Element(number=3, name='CCoSp4', info='', base_value=3.5, bonus=False, goe=0.1, goes=[-1.0, 1.0, 0.0, 0.0, -1.0, 0.0, 1.0, 1.0, 0.0], parsed_goes=[-1.0, 1.0, 0.0, 0.0, -1.0, 0.0, 1.0, 1.0, 0.0], points=3.6),\n",
       " Element(number=6, name='FCSp3', info='', base_value=2.8, bonus=False, goe=-0.04, goes=[0.0, -1.0, 0.0, -1.0, 0.0, 1.0, 0.0, 0.0, 0.0], parsed_goes=[0.0, -1.0, 0.0, -1.0, 0.0, 1.0, 0.0, 0.0, 0.0], points=2.76),\n",
       " Element(number=7, name='CSSp4', info='', base_value=3.0, bonus=False, goe=0.57, goes=[0.0, 2.0, 1.0, 0.0, 1.0, 1.0, 2.0, 1.0, 2.0], parsed_goes=[0.0, 2.0, 1.0, 0.0, 1.0, 1.0, 2.0, 1.0, 2.0], points=3.57),\n",
       " Element(number=4, name='CSSp4', info='', base_value=3.0, bonus=False, goe=0.5, goes=[0.0, 1.0, 1.0, 1.0, 2.0, 1.0, 1.0, 1.0, 1.0], parsed_goes=[0.0, 1.0, 1.0, 1.0, 2.0, 1.0, 1.0, 1.0, 1.0], points=3.5),\n",
       " Element(number=10, name='FCCoSp3', info='', base_value=3.0, bonus=False, goe=0.21, goes=[0.0, 0.0, 0.0, 1.0, 1.0, 1.0, 1.0, 0.0, 0.0], parsed_goes=[0.0, 0.0, 0.0, 1.0, 1.0, 1.0, 1.0, 0.0, 0.0], points=3.21),\n",
       " Element(number=13, name='CCoSp3', info='', base_value=3.0, bonus=False, goe=0.14, goes=[1.0, 1.0, 0.0, 0.0, 0.0, 0.0, 1.0, 0.0, 0.0], parsed_goes=[1.0, 1.0, 0.0, 0.0, 0.0, 0.0, 1.0, 0.0, 0.0], points=3.14),\n",
       " Element(number=3, name='CCoSp4', info='', base_value=3.5, bonus=False, goe=0.43, goes=[0.0, 1.0, 1.0, 1.0, 1.0, 1.0, 2.0, 1.0, 0.0], parsed_goes=[0.0, 1.0, 1.0, 1.0, 1.0, 1.0, 2.0, 1.0, 0.0], points=3.93),\n",
       " Element(number=6, name='FCSp3', info='', base_value=2.8, bonus=False, goe=0.07, goes=[0.0, 0.0, 1.0, 0.0, 0.0, 0.0, 0.0, 0.0, 1.0], parsed_goes=[0.0, 0.0, 1.0, 0.0, 0.0, 0.0, 0.0, 0.0, 1.0], points=2.87),\n",
       " Element(number=7, name='CSSp4', info='', base_value=3.0, bonus=False, goe=0.43, goes=[0.0, 0.0, 2.0, 1.0, 1.0, 1.0, 1.0, 1.0, 1.0], parsed_goes=[0.0, 0.0, 2.0, 1.0, 1.0, 1.0, 1.0, 1.0, 1.0], points=3.43),\n",
       " Element(number=4, name='CSSp4', info='', base_value=3.0, bonus=False, goe=0.43, goes=[2.0, 1.0, 1.0, 1.0, 1.0, 1.0, 0.0, 0.0, 1.0], parsed_goes=[2.0, 1.0, 1.0, 1.0, 1.0, 1.0, 0.0, 0.0, 1.0], points=3.43),\n",
       " Element(number=10, name='FCCoSp4', info='', base_value=3.5, bonus=False, goe=0.36, goes=[1.0, 1.0, 1.0, 1.0, 0.0, 1.0, 0.0, 0.0, 1.0], parsed_goes=[1.0, 1.0, 1.0, 1.0, 0.0, 1.0, 0.0, 0.0, 1.0], points=3.86),\n",
       " Element(number=13, name='CCoSp3', info='', base_value=3.0, bonus=False, goe=0.14, goes=[1.0, 2.0, 0.0, 0.0, 0.0, 0.0, 0.0, 0.0, 1.0], parsed_goes=[1.0, 2.0, 0.0, 0.0, 0.0, 0.0, 0.0, 0.0, 1.0], points=3.14),\n",
       " Element(number=3, name='CCoSp4', info='', base_value=3.5, bonus=False, goe=0.57, goes=[2.0, 1.0, 1.0, 1.0, 2.0, 1.0, 1.0, 1.0, 1.0], parsed_goes=[2.0, 1.0, 1.0, 1.0, 2.0, 1.0, 1.0, 1.0, 1.0], points=4.07),\n",
       " Element(number=6, name='FCSp3', info='', base_value=2.8, bonus=False, goe=0.29, goes=[1.0, 1.0, 0.0, 1.0, 1.0, 1.0, 0.0, 0.0, 0.0], parsed_goes=[1.0, 1.0, 0.0, 1.0, 1.0, 1.0, 0.0, 0.0, 0.0], points=3.09),\n",
       " Element(number=7, name='CSSp4', info='', base_value=3.0, bonus=False, goe=0.93, goes=[2.0, 2.0, 2.0, 1.0, 2.0, 2.0, 2.0, 2.0, 0.0], parsed_goes=[2.0, 2.0, 2.0, 1.0, 2.0, 2.0, 2.0, 2.0, 0.0], points=3.93),\n",
       " Element(number=4, name='CSSp4', info='', base_value=3.0, bonus=False, goe=0.71, goes=[2.0, 1.0, 2.0, 2.0, 2.0, 1.0, 1.0, 1.0, 1.0], parsed_goes=[2.0, 1.0, 2.0, 2.0, 2.0, 1.0, 1.0, 1.0, 1.0], points=3.71),\n",
       " Element(number=10, name='FCCoSp4', info='', base_value=3.5, bonus=False, goe=0.36, goes=[1.0, 0.0, 2.0, 1.0, 0.0, 1.0, 0.0, 1.0, 1.0], parsed_goes=[1.0, 0.0, 2.0, 1.0, 0.0, 1.0, 0.0, 1.0, 1.0], points=3.86),\n",
       " Element(number=13, name='CCoSp2', info='', base_value=2.5, bonus=False, goe=0.29, goes=[0.0, 0.0, 2.0, 2.0, 0.0, 0.0, 0.0, 1.0, 1.0], parsed_goes=[0.0, 0.0, 2.0, 2.0, 0.0, 0.0, 0.0, 1.0, 1.0], points=2.79),\n",
       " Element(number=3, name='FCSp4', info='', base_value=3.2, bonus=False, goe=0.64, goes=[1.0, 2.0, 1.0, 2.0, 1.0, 1.0, 1.0, 2.0, 1.0], parsed_goes=[1.0, 2.0, 1.0, 2.0, 1.0, 1.0, 1.0, 2.0, 1.0], points=3.84),\n",
       " Element(number=6, name='CSSp4', info='', base_value=3.0, bonus=False, goe=0.71, goes=[1.0, 2.0, 2.0, 2.0, 1.0, 1.0, 1.0, 2.0, 1.0], parsed_goes=[1.0, 2.0, 2.0, 2.0, 1.0, 1.0, 1.0, 2.0, 1.0], points=3.71),\n",
       " Element(number=7, name='CCoSp2', info='', base_value=2.5, bonus=False, goe=0.71, goes=[1.0, 2.0, 2.0, 0.0, 2.0, 1.0, 2.0, 1.0, 1.0], parsed_goes=[1.0, 2.0, 2.0, 0.0, 2.0, 1.0, 2.0, 1.0, 1.0], points=3.21),\n",
       " Element(number=4, name='FCSSp4', info='', base_value=3.0, bonus=False, goe=0.71, goes=[1.0, 2.0, 1.0, 2.0, 1.0, 1.0, 2.0, 2.0, 0.0], parsed_goes=[1.0, 2.0, 1.0, 2.0, 1.0, 1.0, 2.0, 2.0, 0.0], points=3.71),\n",
       " Element(number=10, name='CCoSp4', info='', base_value=3.5, bonus=False, goe=0.21, goes=[0.0, 0.0, 0.0, 1.0, 1.0, 1.0, 0.0, 1.0, 0.0], parsed_goes=[0.0, 0.0, 0.0, 1.0, 1.0, 1.0, 0.0, 1.0, 0.0], points=3.71),\n",
       " Element(number=13, name='FCCoSp4', info='', base_value=3.5, bonus=False, goe=0.64, goes=[1.0, 1.0, 1.0, 3.0, 2.0, 1.0, 2.0, 1.0, 0.0], parsed_goes=[1.0, 1.0, 1.0, 3.0, 2.0, 1.0, 2.0, 1.0, 0.0], points=4.14),\n",
       " Element(number=3, name='FCSp4', info='', base_value=3.2, bonus=False, goe=0.57, goes=[1.0, 1.0, 1.0, 2.0, 1.0, 1.0, 1.0, 2.0, 1.0], parsed_goes=[1.0, 1.0, 1.0, 2.0, 1.0, 1.0, 1.0, 2.0, 1.0], points=3.77),\n",
       " Element(number=6, name='CSSp4', info='', base_value=3.0, bonus=False, goe=1.0, goes=[2.0, 2.0, 2.0, 2.0, 2.0, 1.0, 2.0, 2.0, 2.0], parsed_goes=[2.0, 2.0, 2.0, 2.0, 2.0, 1.0, 2.0, 2.0, 2.0], points=4.0),\n",
       " Element(number=7, name='CCoSp4', info='', base_value=3.5, bonus=False, goe=0.86, goes=[2.0, 3.0, 1.0, 3.0, 1.0, 2.0, 1.0, 2.0, 1.0], parsed_goes=[2.0, 3.0, 1.0, 3.0, 1.0, 2.0, 1.0, 2.0, 1.0], points=4.36),\n",
       " Element(number=4, name='FCSSp4', info='', base_value=3.0, bonus=False, goe=0.86, goes=[2.0, 2.0, 2.0, 1.0, 2.0, 2.0, 1.0, 1.0, 2.0], parsed_goes=[2.0, 2.0, 2.0, 1.0, 2.0, 2.0, 1.0, 1.0, 2.0], points=3.86),\n",
       " Element(number=10, name='CCoSp4', info='', base_value=3.5, bonus=False, goe=0.5, goes=[1.0, 1.0, 1.0, 1.0, 1.0, 1.0, 1.0, 1.0, 0.0], parsed_goes=[1.0, 1.0, 1.0, 1.0, 1.0, 1.0, 1.0, 1.0, 0.0], points=4.0),\n",
       " Element(number=13, name='FCCoSp3', info='', base_value=3.0, bonus=False, goe=0.86, goes=[2.0, 1.0, 2.0, 2.0, 2.0, 2.0, 2.0, 1.0, 1.0], parsed_goes=[2.0, 1.0, 2.0, 2.0, 2.0, 2.0, 2.0, 1.0, 1.0], points=3.86),\n",
       " Element(number=3, name='FCSp4', info='', base_value=3.2, bonus=False, goe=0.71, goes=[2.0, 2.0, 1.0, 1.0, 1.0, 1.0, 1.0, 2.0, 2.0], parsed_goes=[2.0, 2.0, 1.0, 1.0, 1.0, 1.0, 1.0, 2.0, 2.0], points=3.91),\n",
       " Element(number=6, name='CSSp4', info='', base_value=3.0, bonus=False, goe=0.43, goes=[1.0, 1.0, 1.0, 1.0, 0.0, 0.0, 1.0, 2.0, 1.0], parsed_goes=[1.0, 1.0, 1.0, 1.0, 0.0, 0.0, 1.0, 2.0, 1.0], points=3.43),\n",
       " Element(number=7, name='CCoSp4', info='', base_value=3.5, bonus=False, goe=0.71, goes=[2.0, 1.0, 2.0, 1.0, 1.0, 1.0, 2.0, 1.0, 2.0], parsed_goes=[2.0, 1.0, 2.0, 1.0, 1.0, 1.0, 2.0, 1.0, 2.0], points=4.21),\n",
       " Element(number=4, name='FCSSp4', info='', base_value=3.0, bonus=False, goe=0.64, goes=[1.0, 1.0, 1.0, 1.0, 1.0, 2.0, 2.0, 1.0, 2.0], parsed_goes=[1.0, 1.0, 1.0, 1.0, 1.0, 2.0, 2.0, 1.0, 2.0], points=3.64),\n",
       " Element(number=10, name='CCoSp4', info='', base_value=3.5, bonus=False, goe=0.43, goes=[0.0, 1.0, 1.0, 0.0, 1.0, 1.0, 1.0, 1.0, 1.0], parsed_goes=[0.0, 1.0, 1.0, 0.0, 1.0, 1.0, 1.0, 1.0, 1.0], points=3.93),\n",
       " Element(number=13, name='FCCoSp2', info='', base_value=2.5, bonus=False, goe=0.64, goes=[1.0, 2.0, 1.0, 1.0, 1.0, 2.0, 1.0, 2.0, 1.0], parsed_goes=[1.0, 2.0, 1.0, 1.0, 1.0, 2.0, 1.0, 2.0, 1.0], points=3.14),\n",
       " Element(number=3, name='FCSp4', info='', base_value=3.2, bonus=False, goe=0.64, goes=[1.0, 1.0, 1.0, 2.0, 2.0, 1.0, 1.0, 2.0, 1.0], parsed_goes=[1.0, 1.0, 1.0, 2.0, 2.0, 1.0, 1.0, 2.0, 1.0], points=3.84),\n",
       " Element(number=6, name='CSSp4', info='', base_value=3.0, bonus=False, goe=1.07, goes=[2.0, 2.0, 2.0, 3.0, 2.0, 2.0, 2.0, 3.0, 2.0], parsed_goes=[2.0, 2.0, 2.0, 3.0, 2.0, 2.0, 2.0, 3.0, 2.0], points=4.07),\n",
       " Element(number=7, name='CCoSp4', info='', base_value=3.5, bonus=False, goe=0.86, goes=[1.0, 2.0, 2.0, 2.0, 3.0, 1.0, 1.0, 2.0, 2.0], parsed_goes=[1.0, 2.0, 2.0, 2.0, 3.0, 1.0, 1.0, 2.0, 2.0], points=4.36),\n",
       " Element(number=4, name='FCSSp4', info='', base_value=3.0, bonus=False, goe=1.0, goes=[2.0, 2.0, 2.0, 2.0, 2.0, 2.0, 1.0, 2.0, 2.0], parsed_goes=[2.0, 2.0, 2.0, 2.0, 2.0, 2.0, 1.0, 2.0, 2.0], points=4.0),\n",
       " Element(number=10, name='CCoSp4', info='', base_value=3.5, bonus=False, goe=0.43, goes=[0.0, 1.0, -1.0, 1.0, 2.0, 1.0, 1.0, 1.0, 1.0], parsed_goes=[0.0, 1.0, -1.0, 1.0, 2.0, 1.0, 1.0, 1.0, 1.0], points=3.93),\n",
       " Element(number=13, name='FCCoSp2', info='', base_value=2.5, bonus=False, goe=0.64, goes=[1.0, 1.0, 1.0, 2.0, 2.0, 0.0, 1.0, 2.0, 1.0], parsed_goes=[1.0, 1.0, 1.0, 2.0, 2.0, 0.0, 1.0, 2.0, 1.0], points=3.14),\n",
       " Element(number=2, name='FCSp4', info='', base_value=3.2, bonus=False, goe=0.64, goes=[1.0, 2.0, 1.0, 3.0, 1.0, -1.0, 1.0, 1.0, 2.0], parsed_goes=[1.0, 2.0, 1.0, 3.0, 1.0, -1.0, 1.0, 1.0, 2.0], points=3.84),\n",
       " Element(number=3, name='CSSp3', info='', base_value=2.6, bonus=False, goe=0.79, goes=[2.0, 1.0, 1.0, 2.0, 2.0, 2.0, 1.0, 1.0, 2.0], parsed_goes=[2.0, 1.0, 1.0, 2.0, 2.0, 2.0, 1.0, 1.0, 2.0], points=3.39),\n",
       " Element(number=7, name='CCoSp4', info='', base_value=3.5, bonus=False, goe=0.71, goes=[1.0, 1.0, 1.0, 2.0, 2.0, 2.0, 1.0, 1.0, 2.0], parsed_goes=[1.0, 1.0, 1.0, 2.0, 2.0, 2.0, 1.0, 1.0, 2.0], points=4.21),\n",
       " Element(number=4, name='FCSSp4', info='', base_value=3.0, bonus=False, goe=0.93, goes=[2.0, 2.0, 2.0, 2.0, 1.0, 3.0, 1.0, 2.0, 2.0], parsed_goes=[2.0, 2.0, 2.0, 2.0, 1.0, 3.0, 1.0, 2.0, 2.0], points=3.93),\n",
       " Element(number=10, name='FCCoSp2', info='', base_value=2.5, bonus=False, goe=0.71, goes=[2.0, 1.0, 1.0, 2.0, 1.0, 2.0, 1.0, 2.0, 1.0], parsed_goes=[2.0, 1.0, 1.0, 2.0, 1.0, 2.0, 1.0, 2.0, 1.0], points=3.21),\n",
       " Element(number=13, name='CCoSp1', info='', base_value=2.0, bonus=False, goe=0.1, goes=[1.0, 0.0, 0.0, -1.0, 0.0, 1.0, -1.0, 2.0, 0.0], parsed_goes=[1.0, 0.0, 0.0, -1.0, 0.0, 1.0, -1.0, 2.0, 0.0], points=2.1),\n",
       " Element(number=2, name='FCSp4', info='', base_value=3.2, bonus=False, goe=0.93, goes=[2.0, 2.0, 1.0, 1.0, 2.0, 3.0, 2.0, 2.0, 2.0], parsed_goes=[2.0, 2.0, 1.0, 1.0, 2.0, 3.0, 2.0, 2.0, 2.0], points=4.13),\n",
       " Element(number=3, name='CSSp4', info='', base_value=3.0, bonus=False, goe=0.93, goes=[2.0, 1.0, 2.0, 1.0, 2.0, 2.0, 2.0, 2.0, 2.0], parsed_goes=[2.0, 1.0, 2.0, 1.0, 2.0, 2.0, 2.0, 2.0, 2.0], points=3.93),\n",
       " Element(number=7, name='CCoSp4', info='', base_value=3.5, bonus=False, goe=0.93, goes=[2.0, 2.0, 2.0, 1.0, 2.0, 2.0, 2.0, 1.0, 2.0], parsed_goes=[2.0, 2.0, 2.0, 1.0, 2.0, 2.0, 2.0, 1.0, 2.0], points=4.43),\n",
       " Element(number=4, name='FCCoSp4', info='', base_value=3.5, bonus=False, goe=0.71, goes=[2.0, 2.0, -1.0, 2.0, 1.0, 1.0, 1.0, 2.0, 1.0], parsed_goes=[2.0, 2.0, -1.0, 2.0, 1.0, 1.0, 1.0, 2.0, 1.0], points=4.21),\n",
       " Element(number=12, name='CCoSp1', info='', base_value=2.0, bonus=False, goe=-0.77, goes=[-3.0, -3.0, -2.0, -3.0, -3.0, -2.0, -3.0, -2.0, -2.0], parsed_goes=[-3.0, -3.0, -2.0, -3.0, -3.0, -2.0, -3.0, -2.0, -2.0], points=1.23),\n",
       " Element(number=13, name='FCSSp4', info='', base_value=3.0, bonus=False, goe=0.93, goes=[2.0, 2.0, 3.0, 2.0, 2.0, 2.0, 1.0, 2.0, 1.0], parsed_goes=[2.0, 2.0, 3.0, 2.0, 2.0, 2.0, 1.0, 2.0, 1.0], points=3.93),\n",
       " Element(number=2, name='FCSp4', info='', base_value=3.2, bonus=False, goe=0.93, goes=[1.0, 2.0, 1.0, 2.0, 2.0, 2.0, 2.0, 2.0, 2.0], parsed_goes=[1.0, 2.0, 1.0, 2.0, 2.0, 2.0, 2.0, 2.0, 2.0], points=4.13),\n",
       " Element(number=3, name='CSSp4', info='', base_value=3.0, bonus=False, goe=0.71, goes=[0.0, 1.0, 1.0, 2.0, 2.0, 2.0, 2.0, 2.0, 0.0], parsed_goes=[0.0, 1.0, 1.0, 2.0, 2.0, 2.0, 2.0, 2.0, 0.0], points=3.71),\n",
       " Element(number=7, name='CCoSp4', info='', base_value=3.5, bonus=False, goe=0.64, goes=[1.0, 2.0, 1.0, 1.0, 1.0, 2.0, 1.0, 2.0, 0.0], parsed_goes=[1.0, 2.0, 1.0, 1.0, 1.0, 2.0, 1.0, 2.0, 0.0], points=4.14),\n",
       " Element(number=4, name='FCCoSp4', info='', base_value=3.5, bonus=False, goe=0.79, goes=[1.0, 1.0, 2.0, 1.0, 2.0, 2.0, 2.0, 1.0, 2.0], parsed_goes=[1.0, 1.0, 2.0, 1.0, 2.0, 2.0, 2.0, 1.0, 2.0], points=4.29),\n",
       " Element(number=12, name='CCoSp4', info='', base_value=3.5, bonus=False, goe=0.79, goes=[1.0, 2.0, 2.0, 2.0, 1.0, 1.0, 2.0, 1.0, 2.0], parsed_goes=[1.0, 2.0, 2.0, 2.0, 1.0, 1.0, 2.0, 1.0, 2.0], points=4.29),\n",
       " Element(number=13, name='FCSSp4', info='', base_value=3.0, bonus=False, goe=0.86, goes=[1.0, 2.0, 2.0, 3.0, 1.0, 2.0, 2.0, 1.0, 2.0], parsed_goes=[1.0, 2.0, 2.0, 3.0, 1.0, 2.0, 2.0, 1.0, 2.0], points=3.86),\n",
       " Element(number=2, name='FCSp4', info='', base_value=3.2, bonus=False, goe=0.93, goes=[2.0, 1.0, 2.0, 1.0, 2.0, 2.0, 2.0, 2.0, 2.0], parsed_goes=[2.0, 1.0, 2.0, 1.0, 2.0, 2.0, 2.0, 2.0, 2.0], points=4.13),\n",
       " Element(number=3, name='CSSp4', info='', base_value=3.0, bonus=False, goe=0.64, goes=[1.0, 1.0, 2.0, 1.0, 1.0, 2.0, 1.0, 1.0, 2.0], parsed_goes=[1.0, 1.0, 2.0, 1.0, 1.0, 2.0, 1.0, 1.0, 2.0], points=3.64),\n",
       " Element(number=7, name='CCoSp4', info='', base_value=3.5, bonus=False, goe=0.93, goes=[2.0, 1.0, 2.0, 1.0, 2.0, 2.0, 2.0, 2.0, 2.0], parsed_goes=[2.0, 1.0, 2.0, 1.0, 2.0, 2.0, 2.0, 2.0, 2.0], points=4.43),\n",
       " Element(number=4, name='FCCoSp4', info='', base_value=3.5, bonus=False, goe=0.71, goes=[1.0, 2.0, 1.0, 1.0, 2.0, 2.0, 1.0, 1.0, 2.0], parsed_goes=[1.0, 2.0, 1.0, 1.0, 2.0, 2.0, 1.0, 1.0, 2.0], points=4.21),\n",
       " Element(number=12, name='CCoSp4', info='', base_value=3.5, bonus=False, goe=0.57, goes=[1.0, 1.0, 1.0, 0.0, 1.0, 2.0, 1.0, 1.0, 2.0], parsed_goes=[1.0, 1.0, 1.0, 0.0, 1.0, 2.0, 1.0, 1.0, 2.0], points=4.07),\n",
       " Element(number=13, name='FCSSp4', info='', base_value=3.0, bonus=False, goe=0.86, goes=[1.0, 2.0, 1.0, 0.0, 2.0, 2.0, 2.0, 2.0, 2.0], parsed_goes=[1.0, 2.0, 1.0, 0.0, 2.0, 2.0, 2.0, 2.0, 2.0], points=3.86),\n",
       " Element(number=2, name='FCSp4', info='', base_value=3.2, bonus=False, goe=0.86, goes=[2.0, 2.0, 2.0, 2.0, 1.0, 2.0, 2.0, 1.0, 1.0], parsed_goes=[2.0, 2.0, 2.0, 2.0, 1.0, 2.0, 2.0, 1.0, 1.0], points=4.06),\n",
       " Element(number=3, name='CSSp4', info='', base_value=3.0, bonus=False, goe=0.71, goes=[1.0, 3.0, 2.0, 1.0, 2.0, 1.0, 1.0, 2.0, 1.0], parsed_goes=[1.0, 3.0, 2.0, 1.0, 2.0, 1.0, 1.0, 2.0, 1.0], points=3.71),\n",
       " Element(number=7, name='CCoSp4', info='', base_value=3.5, bonus=False, goe=0.79, goes=[1.0, 3.0, 2.0, 2.0, 2.0, 1.0, 1.0, 1.0, 2.0], parsed_goes=[1.0, 3.0, 2.0, 2.0, 2.0, 1.0, 1.0, 1.0, 2.0], points=4.29),\n",
       " Element(number=4, name='FCCoSp3', info='', base_value=3.0, bonus=False, goe=0.57, goes=[2.0, 1.0, 0.0, 2.0, 1.0, 1.0, 1.0, 1.0, 1.0], parsed_goes=[2.0, 1.0, 0.0, 2.0, 1.0, 1.0, 1.0, 1.0, 1.0], points=3.57),\n",
       " Element(number=12, name='CCoSp3', info='', base_value=3.0, bonus=False, goe=0.5, goes=[1.0, 1.0, 1.0, 1.0, 1.0, 0.0, 1.0, 1.0, 1.0], parsed_goes=[1.0, 1.0, 1.0, 1.0, 1.0, 0.0, 1.0, 1.0, 1.0], points=3.5),\n",
       " Element(number=13, name='FCSSp4', info='', base_value=3.0, bonus=False, goe=0.71, goes=[2.0, 1.0, 2.0, 1.0, 1.0, 1.0, 2.0, 1.0, 2.0], parsed_goes=[2.0, 1.0, 2.0, 1.0, 1.0, 1.0, 2.0, 1.0, 2.0], points=3.71),\n",
       " Element(number=2, name='FCSp4', info='', base_value=3.2, bonus=False, goe=0.57, goes=[0.0, 1.0, 1.0, 1.0, 1.0, 1.0, 2.0, 1.0, 2.0], parsed_goes=[0.0, 1.0, 1.0, 1.0, 1.0, 1.0, 2.0, 1.0, 2.0], points=3.77),\n",
       " Element(number=3, name='CSSp4', info='', base_value=3.0, bonus=False, goe=0.43, goes=[1.0, 0.0, 1.0, 1.0, 1.0, 2.0, 1.0, 0.0, 1.0], parsed_goes=[1.0, 0.0, 1.0, 1.0, 1.0, 2.0, 1.0, 0.0, 1.0], points=3.43),\n",
       " Element(number=7, name='CCoSp4', info='', base_value=3.5, bonus=False, goe=0.57, goes=[1.0, 1.0, 1.0, 1.0, 2.0, 1.0, 1.0, 1.0, 2.0], parsed_goes=[1.0, 1.0, 1.0, 1.0, 2.0, 1.0, 1.0, 1.0, 2.0], points=4.07),\n",
       " Element(number=5, name='FCCoSp4', info='', base_value=3.5, bonus=False, goe=0.57, goes=[2.0, 0.0, 1.0, 2.0, 1.0, 1.0, 1.0, 1.0, 1.0], parsed_goes=[2.0, 0.0, 1.0, 2.0, 1.0, 1.0, 1.0, 1.0, 1.0], points=4.07),\n",
       " Element(number=12, name='FCSSp4', info='', base_value=3.0, bonus=False, goe=0.93, goes=[2.0, 1.0, 1.0, 2.0, 2.0, 2.0, 2.0, 2.0, 2.0], parsed_goes=[2.0, 1.0, 1.0, 2.0, 2.0, 2.0, 2.0, 2.0, 2.0], points=3.93),\n",
       " Element(number=13, name='CCoSp4', info='', base_value=3.5, bonus=False, goe=0.86, goes=[1.0, 2.0, 2.0, 2.0, 1.0, 2.0, 2.0, 1.0, 3.0], parsed_goes=[1.0, 2.0, 2.0, 2.0, 1.0, 2.0, 2.0, 1.0, 3.0], points=4.36),\n",
       " Element(number=2, name='FCSp4', info='', base_value=3.2, bonus=False, goe=0.86, goes=[1.0, 2.0, 1.0, 2.0, 3.0, 2.0, 1.0, 2.0, 2.0], parsed_goes=[1.0, 2.0, 1.0, 2.0, 3.0, 2.0, 1.0, 2.0, 2.0], points=4.06),\n",
       " Element(number=3, name='CSSp4', info='', base_value=3.0, bonus=False, goe=0.71, goes=[1.0, 2.0, 1.0, 2.0, 2.0, 1.0, 1.0, 1.0, 2.0], parsed_goes=[1.0, 2.0, 1.0, 2.0, 2.0, 1.0, 1.0, 1.0, 2.0], points=3.71),\n",
       " Element(number=7, name='CCoSp4', info='', base_value=3.5, bonus=False, goe=0.71, goes=[1.0, 1.0, 2.0, 2.0, 2.0, 1.0, 1.0, 1.0, 2.0], parsed_goes=[1.0, 1.0, 2.0, 2.0, 2.0, 1.0, 1.0, 1.0, 2.0], points=4.21),\n",
       " Element(number=5, name='FCCoSp4', info='', base_value=3.5, bonus=False, goe=0.57, goes=[2.0, 1.0, 1.0, 1.0, 2.0, 1.0, 1.0, 1.0, 1.0], parsed_goes=[2.0, 1.0, 1.0, 1.0, 2.0, 1.0, 1.0, 1.0, 1.0], points=4.07),\n",
       " Element(number=12, name='FCSSp4', info='', base_value=3.0, bonus=False, goe=0.93, goes=[3.0, 2.0, 1.0, 1.0, 2.0, 2.0, 2.0, 2.0, 2.0], parsed_goes=[3.0, 2.0, 1.0, 1.0, 2.0, 2.0, 2.0, 2.0, 2.0], points=3.93),\n",
       " Element(number=13, name='CCoSp4', info='', base_value=3.5, bonus=False, goe=0.79, goes=[2.0, 2.0, 1.0, 1.0, 2.0, 2.0, 1.0, 2.0, 1.0], parsed_goes=[2.0, 2.0, 1.0, 1.0, 2.0, 2.0, 1.0, 2.0, 1.0], points=4.29),\n",
       " Element(number=2, name='FCSp4', info='', base_value=3.2, bonus=False, goe=1.0, goes=[2.0, 3.0, 2.0, 2.0, 2.0, 1.0, 2.0, 2.0, 2.0], parsed_goes=[2.0, 3.0, 2.0, 2.0, 2.0, 1.0, 2.0, 2.0, 2.0], points=4.2),\n",
       " Element(number=3, name='CSSp4', info='', base_value=3.0, bonus=False, goe=0.93, goes=[2.0, 2.0, 2.0, 2.0, 2.0, 1.0, 1.0, 2.0, 2.0], parsed_goes=[2.0, 2.0, 2.0, 2.0, 2.0, 1.0, 1.0, 2.0, 2.0], points=3.93),\n",
       " Element(number=7, name='CCoSp3', info='', base_value=3.0, bonus=False, goe=0.29, goes=[0.0, 0.0, 1.0, 1.0, 1.0, 1.0, 2.0, 0.0, 0.0], parsed_goes=[0.0, 0.0, 1.0, 1.0, 1.0, 1.0, 2.0, 0.0, 0.0], points=3.29),\n",
       " Element(number=5, name='FCCoSp4', info='', base_value=3.5, bonus=False, goe=1.0, goes=[2.0, 2.0, 2.0, 2.0, 2.0, 2.0, 2.0, 3.0, 1.0], parsed_goes=[2.0, 2.0, 2.0, 2.0, 2.0, 2.0, 2.0, 3.0, 1.0], points=4.5),\n",
       " Element(number=12, name='FCSSp4', info='', base_value=3.0, bonus=False, goe=1.0, goes=[1.0, 2.0, 2.0, 2.0, 2.0, 2.0, 2.0, 2.0, 2.0], parsed_goes=[1.0, 2.0, 2.0, 2.0, 2.0, 2.0, 2.0, 2.0, 2.0], points=4.0),\n",
       " Element(number=13, name='CCoSp1', info='', base_value=2.0, bonus=False, goe=0.21, goes=[0.0, 1.0, 0.0, 0.0, 1.0, 1.0, 0.0, 0.0, 1.0], parsed_goes=[0.0, 1.0, 0.0, 0.0, 1.0, 1.0, 0.0, 0.0, 1.0], points=2.21),\n",
       " Element(number=2, name='FCSp4', info='', base_value=3.2, bonus=False, goe=1.0, goes=[2.0, 2.0, 2.0, 2.0, 2.0, 2.0, 1.0, 2.0, 2.0], parsed_goes=[2.0, 2.0, 2.0, 2.0, 2.0, 2.0, 1.0, 2.0, 2.0], points=4.2),\n",
       " Element(number=3, name='CSSp3', info='', base_value=2.6, bonus=False, goe=0.79, goes=[1.0, 2.0, 1.0, 2.0, 1.0, 2.0, 2.0, 1.0, 3.0], parsed_goes=[1.0, 2.0, 1.0, 2.0, 1.0, 2.0, 2.0, 1.0, 3.0], points=3.39),\n",
       " Element(number=7, name='CCoSp4', info='', base_value=3.5, bonus=False, goe=0.79, goes=[1.0, 2.0, 2.0, 1.0, 2.0, 2.0, 1.0, 1.0, 2.0], parsed_goes=[1.0, 2.0, 2.0, 1.0, 2.0, 2.0, 1.0, 1.0, 2.0], points=4.29),\n",
       " Element(number=5, name='FCCoSp4', info='', base_value=3.5, bonus=False, goe=1.0, goes=[2.0, 2.0, 2.0, 2.0, 2.0, 3.0, 2.0, 2.0, 2.0], parsed_goes=[2.0, 2.0, 2.0, 2.0, 2.0, 3.0, 2.0, 2.0, 2.0], points=4.5),\n",
       " Element(number=12, name='FCSSp4', info='', base_value=3.0, bonus=False, goe=0.79, goes=[1.0, 2.0, 1.0, 1.0, 2.0, 3.0, 1.0, 2.0, 2.0], parsed_goes=[1.0, 2.0, 1.0, 1.0, 2.0, 3.0, 1.0, 2.0, 2.0], points=3.79),\n",
       " Element(number=13, name='CCoSp3', info='', base_value=3.0, bonus=False, goe=0.64, goes=[1.0, 1.0, 2.0, 1.0, 1.0, 2.0, 2.0, 1.0, 0.0], parsed_goes=[1.0, 1.0, 2.0, 1.0, 1.0, 2.0, 2.0, 1.0, 0.0], points=3.64),\n",
       " Element(number=2, name='FCSp4', info='', base_value=3.2, bonus=False, goe=0.86, goes=[2.0, 2.0, 1.0, 2.0, 1.0, 1.0, 2.0, 2.0, 3.0], parsed_goes=[2.0, 2.0, 1.0, 2.0, 1.0, 1.0, 2.0, 2.0, 3.0], points=4.06),\n",
       " Element(number=3, name='CSSp4', info='', base_value=3.0, bonus=False, goe=0.93, goes=[1.0, 1.0, 2.0, 2.0, 2.0, 2.0, 2.0, 2.0, 2.0], parsed_goes=[1.0, 1.0, 2.0, 2.0, 2.0, 2.0, 2.0, 2.0, 2.0], points=3.93),\n",
       " Element(number=7, name='CCoSp4', info='', base_value=3.5, bonus=False, goe=0.93, goes=[2.0, 2.0, 1.0, 2.0, 1.0, 2.0, 2.0, 2.0, 2.0], parsed_goes=[2.0, 2.0, 1.0, 2.0, 1.0, 2.0, 2.0, 2.0, 2.0], points=4.43),\n",
       " Element(number=5, name='FCCoSp4', info='', base_value=3.5, bonus=False, goe=1.07, goes=[3.0, 2.0, 1.0, 2.0, 2.0, 2.0, 2.0, 3.0, 2.0], parsed_goes=[3.0, 2.0, 1.0, 2.0, 2.0, 2.0, 2.0, 3.0, 2.0], points=4.57),\n",
       " Element(number=12, name='FCSSp4', info='', base_value=3.0, bonus=False, goe=0.86, goes=[2.0, 2.0, 0.0, 2.0, 2.0, 1.0, 2.0, 2.0, 1.0], parsed_goes=[2.0, 2.0, 0.0, 2.0, 2.0, 1.0, 2.0, 2.0, 1.0], points=3.86),\n",
       " Element(number=13, name='CCoSp3', info='', base_value=3.0, bonus=False, goe=0.5, goes=[1.0, 1.0, 1.0, 2.0, 1.0, 1.0, 1.0, 1.0, 1.0], parsed_goes=[1.0, 1.0, 1.0, 2.0, 1.0, 1.0, 1.0, 1.0, 1.0], points=3.5),\n",
       " Element(number=2, name='CSSp3', info='', base_value=2.6, bonus=False, goe=1.0, goes=[2.0, 2.0, 2.0, 2.0, 2.0, 2.0, 2.0, 2.0, 1.0], parsed_goes=[2.0, 2.0, 2.0, 2.0, 2.0, 2.0, 2.0, 2.0, 1.0], points=3.6),\n",
       " Element(number=3, name='FCSp4', info='', base_value=3.2, bonus=False, goe=0.86, goes=[1.0, 2.0, 2.0, 2.0, 2.0, 2.0, 2.0, 1.0, 1.0], parsed_goes=[1.0, 2.0, 2.0, 2.0, 2.0, 2.0, 2.0, 1.0, 1.0], points=4.06),\n",
       " Element(number=7, name='CCoSp3p4', info='', base_value=3.5, bonus=False, goe=1.07, goes=[2.0, 2.0, 3.0, 2.0, 3.0, 2.0, 2.0, 2.0, 1.0], parsed_goes=[2.0, 2.0, 3.0, 2.0, 3.0, 2.0, 2.0, 2.0, 1.0], points=4.57),\n",
       " Element(number=4, name='FCCoSp2p2', info='', base_value=1.8, bonus=False, goe=0.43, goes=[1.0, 1.0, 1.0, 0.0, 1.0, 0.0, 1.0, 1.0, 1.0], parsed_goes=[1.0, 1.0, 1.0, 0.0, 1.0, 0.0, 1.0, 1.0, 1.0], points=2.23),\n",
       " Element(number=12, name='FCSSp4', info='', base_value=3.0, bonus=False, goe=0.71, goes=[1.0, 2.0, 2.0, 1.0, 2.0, 0.0, 2.0, 1.0, 1.0], parsed_goes=[1.0, 2.0, 2.0, 1.0, 2.0, 0.0, 2.0, 1.0, 1.0], points=3.71),\n",
       " Element(number=13, name='CCoSp3p3', info='', base_value=3.0, bonus=False, goe=0.5, goes=[1.0, 1.0, 1.0, 1.0, 1.0, 0.0, 1.0, 1.0, 1.0], parsed_goes=[1.0, 1.0, 1.0, 1.0, 1.0, 0.0, 1.0, 1.0, 1.0], points=3.5),\n",
       " Element(number=2, name='CSSp4', info='', base_value=3.0, bonus=False, goe=0.57, goes=[2.0, 1.0, 1.0, 2.0, 2.0, 0.0, 1.0, -1.0, 1.0], parsed_goes=[2.0, 1.0, 1.0, 2.0, 2.0, 0.0, 1.0, -1.0, 1.0], points=3.57),\n",
       " Element(number=3, name='FCSp4', info='', base_value=3.2, bonus=False, goe=0.64, goes=[1.0, 1.0, 1.0, 2.0, 1.0, 1.0, 1.0, 2.0, 2.0], parsed_goes=[1.0, 1.0, 1.0, 2.0, 1.0, 1.0, 1.0, 2.0, 2.0], points=3.84),\n",
       " Element(number=7, name='CCoSp3p4', info='', base_value=3.5, bonus=False, goe=0.64, goes=[1.0, 1.0, 1.0, 2.0, 2.0, 1.0, 1.0, 1.0, 2.0], parsed_goes=[1.0, 1.0, 1.0, 2.0, 2.0, 1.0, 1.0, 1.0, 2.0], points=4.14),\n",
       " Element(number=4, name='FCCoSp3p3', info='', base_value=3.0, bonus=False, goe=0.5, goes=[1.0, 1.0, 1.0, 0.0, 1.0, 1.0, 1.0, 1.0, 1.0], parsed_goes=[1.0, 1.0, 1.0, 0.0, 1.0, 1.0, 1.0, 1.0, 1.0], points=3.5),\n",
       " Element(number=12, name='FCSSp4', info='', base_value=3.0, bonus=False, goe=0.5, goes=[1.0, 1.0, 1.0, 1.0, 1.0, 1.0, 1.0, 1.0, 1.0], parsed_goes=[1.0, 1.0, 1.0, 1.0, 1.0, 1.0, 1.0, 1.0, 1.0], points=3.5),\n",
       " Element(number=13, name='CCoSp3p3', info='', base_value=3.0, bonus=False, goe=0.5, goes=[1.0, 1.0, 2.0, 1.0, 1.0, 0.0, 1.0, 1.0, 1.0], parsed_goes=[1.0, 1.0, 2.0, 1.0, 1.0, 0.0, 1.0, 1.0, 1.0], points=3.5),\n",
       " Element(number=2, name='CSSp4', info='', base_value=3.0, bonus=False, goe=0.79, goes=[2.0, 0.0, 1.0, 2.0, 2.0, 2.0, 1.0, 2.0, 1.0], parsed_goes=[2.0, 0.0, 1.0, 2.0, 2.0, 2.0, 1.0, 2.0, 1.0], points=3.79),\n",
       " Element(number=3, name='FCSp4', info='', base_value=3.2, bonus=False, goe=0.86, goes=[2.0, 2.0, 2.0, 2.0, 2.0, 1.0, 1.0, 2.0, 1.0], parsed_goes=[2.0, 2.0, 2.0, 2.0, 2.0, 1.0, 1.0, 2.0, 1.0], points=4.06),\n",
       " Element(number=7, name='CCoSp3p4', info='', base_value=3.5, bonus=False, goe=1.07, goes=[2.0, 2.0, 2.0, 2.0, 2.0, 3.0, 2.0, 3.0, 1.0], parsed_goes=[2.0, 2.0, 2.0, 2.0, 2.0, 3.0, 2.0, 3.0, 1.0], points=4.57),\n",
       " Element(number=4, name='FCCoSp3p4', info='', base_value=3.5, bonus=False, goe=0.71, goes=[0.0, 2.0, 2.0, 1.0, 1.0, 1.0, 2.0, 1.0, 2.0], parsed_goes=[0.0, 2.0, 2.0, 1.0, 1.0, 1.0, 2.0, 1.0, 2.0], points=4.21),\n",
       " Element(number=12, name='FCSSp4', info='', base_value=3.0, bonus=False, goe=0.79, goes=[1.0, 1.0, 2.0, 2.0, 2.0, 2.0, 1.0, 1.0, 2.0], parsed_goes=[1.0, 1.0, 2.0, 2.0, 2.0, 2.0, 1.0, 1.0, 2.0], points=3.79),\n",
       " Element(number=13, name='CCoSp3p4', info='', base_value=3.5, bonus=False, goe=0.86, goes=[1.0, 2.0, 2.0, 2.0, 2.0, 2.0, 1.0, 1.0, 2.0], parsed_goes=[1.0, 2.0, 2.0, 2.0, 2.0, 2.0, 1.0, 1.0, 2.0], points=4.36),\n",
       " Element(number=2, name='CSSp4', info='', base_value=3.0, bonus=False, goe=0.93, goes=[2.0, 3.0, 1.0, 1.0, 2.0, 2.0, 2.0, 2.0, 2.0], parsed_goes=[2.0, 3.0, 1.0, 1.0, 2.0, 2.0, 2.0, 2.0, 2.0], points=3.93),\n",
       " Element(number=3, name='FCSp4', info='', base_value=3.2, bonus=False, goe=0.93, goes=[2.0, 2.0, 0.0, 2.0, 3.0, 2.0, 2.0, 2.0, 1.0], parsed_goes=[2.0, 2.0, 0.0, 2.0, 3.0, 2.0, 2.0, 2.0, 1.0], points=4.13),\n",
       " Element(number=7, name='CCoSp3p4', info='', base_value=3.5, bonus=False, goe=1.21, goes=[3.0, 3.0, 1.0, 2.0, 3.0, 2.0, 2.0, 2.0, 3.0], parsed_goes=[3.0, 3.0, 1.0, 2.0, 3.0, 2.0, 2.0, 2.0, 3.0], points=4.71),\n",
       " Element(number=4, name='FCCoSp3p4', info='', base_value=3.5, bonus=False, goe=0.86, goes=[2.0, 2.0, 1.0, 2.0, 2.0, 1.0, 2.0, 2.0, 1.0], parsed_goes=[2.0, 2.0, 1.0, 2.0, 2.0, 1.0, 2.0, 2.0, 1.0], points=4.36),\n",
       " Element(number=12, name='FCSSp4', info='', base_value=3.0, bonus=False, goe=0.71, goes=[2.0, 2.0, 0.0, 1.0, 2.0, 2.0, 1.0, 2.0, 0.0], parsed_goes=[2.0, 2.0, 0.0, 1.0, 2.0, 2.0, 1.0, 2.0, 0.0], points=3.71),\n",
       " Element(number=13, name='CCoSp3p4', info='', base_value=3.5, bonus=False, goe=0.86, goes=[2.0, 2.0, 1.0, 2.0, 2.0, 1.0, 2.0, 2.0, 1.0], parsed_goes=[2.0, 2.0, 1.0, 2.0, 2.0, 1.0, 2.0, 2.0, 1.0], points=4.36),\n",
       " Element(number=2, name='CSSp4', info='', base_value=3.0, bonus=False, goe=0.93, goes=[-1.0, 2.0, 2.0, 2.0, 2.0, 2.0, 1.0, 2.0, 2.0], parsed_goes=[-1.0, 2.0, 2.0, 2.0, 2.0, 2.0, 1.0, 2.0, 2.0], points=3.93),\n",
       " Element(number=3, name='FCSp4', info='', base_value=3.2, bonus=False, goe=0.86, goes=[2.0, 2.0, 2.0, 2.0, 1.0, 2.0, 2.0, 1.0, 1.0], parsed_goes=[2.0, 2.0, 2.0, 2.0, 1.0, 2.0, 2.0, 1.0, 1.0], points=4.06),\n",
       " Element(number=7, name='CCoSp3p4', info='', base_value=3.5, bonus=False, goe=1.0, goes=[2.0, 3.0, 2.0, 2.0, 2.0, 2.0, 2.0, 2.0, 2.0], parsed_goes=[2.0, 3.0, 2.0, 2.0, 2.0, 2.0, 2.0, 2.0, 2.0], points=4.5),\n",
       " Element(number=4, name='FCCoSp3p4', info='', base_value=3.5, bonus=False, goe=0.79, goes=[1.0, 2.0, 0.0, 2.0, 2.0, 2.0, 1.0, 1.0, 2.0], parsed_goes=[1.0, 2.0, 0.0, 2.0, 2.0, 2.0, 1.0, 1.0, 2.0], points=4.29),\n",
       " Element(number=11, name='FCSSp3', info='', base_value=2.6, bonus=False, goe=0.43, goes=[0.0, 1.0, 1.0, 1.0, 1.0, 1.0, 0.0, 1.0, 1.0], parsed_goes=[0.0, 1.0, 1.0, 1.0, 1.0, 1.0, 0.0, 1.0, 1.0], points=3.03),\n",
       " Element(number=13, name='CCoSp3p4', info='', base_value=3.5, bonus=False, goe=0.64, goes=[1.0, 1.0, 1.0, 2.0, 1.0, 1.0, 2.0, 1.0, 2.0], parsed_goes=[1.0, 1.0, 1.0, 2.0, 1.0, 1.0, 2.0, 1.0, 2.0], points=4.14),\n",
       " Element(number=3, name='FCSp4', info='', base_value=3.2, bonus=False, goe=1.07, goes=[2.0, 3.0, 2.0, 2.0, 3.0, 2.0, 2.0, 2.0, 2.0], parsed_goes=[2.0, 3.0, 2.0, 2.0, 3.0, 2.0, 2.0, 2.0, 2.0], points=4.27),\n",
       " Element(number=5, name='CSSp4', info='', base_value=3.0, bonus=False, goe=1.21, goes=[3.0, 2.0, 3.0, 2.0, 3.0, 2.0, 3.0, 2.0, 2.0], parsed_goes=[3.0, 2.0, 3.0, 2.0, 3.0, 2.0, 3.0, 2.0, 2.0], points=4.21),\n",
       " Element(number=7, name='CCoSp3p4', info='', base_value=3.5, bonus=False, goe=1.21, goes=[3.0, 2.0, 3.0, 2.0, 3.0, 3.0, 2.0, 2.0, 2.0], parsed_goes=[3.0, 2.0, 3.0, 2.0, 3.0, 3.0, 2.0, 2.0, 2.0], points=4.71),\n",
       " Element(number=4, name='FCCoSp3p4', info='', base_value=3.5, bonus=False, goe=0.93, goes=[1.0, 2.0, 2.0, 2.0, 1.0, 2.0, 2.0, 2.0, 2.0], parsed_goes=[1.0, 2.0, 2.0, 2.0, 1.0, 2.0, 2.0, 2.0, 2.0], points=4.43),\n",
       " Element(number=11, name='FCSSp4', info='', base_value=3.0, bonus=False, goe=1.14, goes=[3.0, 2.0, 2.0, 3.0, 2.0, 3.0, 1.0, 2.0, 2.0], parsed_goes=[3.0, 2.0, 2.0, 3.0, 2.0, 3.0, 1.0, 2.0, 2.0], points=4.14),\n",
       " Element(number=13, name='CCoSp3p4', info='', base_value=3.5, bonus=False, goe=1.14, goes=[3.0, 2.0, 2.0, 3.0, 1.0, 3.0, 3.0, 1.0, 2.0], parsed_goes=[3.0, 2.0, 2.0, 3.0, 1.0, 3.0, 3.0, 1.0, 2.0], points=4.64),\n",
       " Element(number=3, name='FCSp4', info='', base_value=3.2, bonus=False, goe=1.29, goes=[3.0, 3.0, 2.0, 3.0, 2.0, 2.0, 2.0, 3.0, 3.0], parsed_goes=[3.0, 3.0, 2.0, 3.0, 2.0, 2.0, 2.0, 3.0, 3.0], points=4.49),\n",
       " Element(number=5, name='CSSp4', info='', base_value=3.0, bonus=False, goe=1.43, goes=[3.0, 3.0, 3.0, 3.0, 3.0, 3.0, 2.0, 2.0, 3.0], parsed_goes=[3.0, 3.0, 3.0, 3.0, 3.0, 3.0, 2.0, 2.0, 3.0], points=4.43),\n",
       " Element(number=7, name='CCoSp3p4', info='', base_value=3.5, bonus=False, goe=1.43, goes=[3.0, 3.0, 2.0, 3.0, 3.0, 3.0, 2.0, 3.0, 3.0], parsed_goes=[3.0, 3.0, 2.0, 3.0, 3.0, 3.0, 2.0, 3.0, 3.0], points=4.93),\n",
       " Element(number=4, name='FCCoSp3p4', info='', base_value=3.5, bonus=False, goe=1.14, goes=[2.0, 2.0, 2.0, 2.0, 2.0, 3.0, 3.0, 3.0, 1.0], parsed_goes=[2.0, 2.0, 2.0, 2.0, 2.0, 3.0, 3.0, 3.0, 1.0], points=4.64),\n",
       " Element(number=11, name='FCSSp4', info='', base_value=3.0, bonus=False, goe=1.21, goes=[2.0, 3.0, 2.0, 2.0, 2.0, 3.0, 3.0, 3.0, 2.0], parsed_goes=[2.0, 3.0, 2.0, 2.0, 2.0, 3.0, 3.0, 3.0, 2.0], points=4.21),\n",
       " Element(number=13, name='CCoSp3p4', info='', base_value=3.5, bonus=False, goe=1.29, goes=[2.0, 3.0, 3.0, 2.0, 2.0, 3.0, 3.0, 3.0, 2.0], parsed_goes=[2.0, 3.0, 3.0, 2.0, 2.0, 3.0, 3.0, 3.0, 2.0], points=4.79),\n",
       " Element(number=3, name='FCSp4', info='', base_value=3.2, bonus=False, goe=1.07, goes=[2.0, 2.0, 2.0, 2.0, 2.0, 2.0, 3.0, 3.0, 2.0], parsed_goes=[2.0, 2.0, 2.0, 2.0, 2.0, 2.0, 3.0, 3.0, 2.0], points=4.27),\n",
       " Element(number=5, name='CSSp4', info='', base_value=3.0, bonus=False, goe=1.43, goes=[3.0, 3.0, 3.0, 2.0, 3.0, 3.0, 3.0, 3.0, 2.0], parsed_goes=[3.0, 3.0, 3.0, 2.0, 3.0, 3.0, 3.0, 3.0, 2.0], points=4.43),\n",
       " Element(number=7, name='CCoSp3p4', info='', base_value=3.5, bonus=False, goe=1.21, goes=[2.0, 2.0, 2.0, 2.0, 3.0, 2.0, 3.0, 3.0, 3.0], parsed_goes=[2.0, 2.0, 2.0, 2.0, 3.0, 2.0, 3.0, 3.0, 3.0], points=4.71),\n",
       " Element(number=4, name='FCCoSp3p4', info='', base_value=3.5, bonus=False, goe=1.07, goes=[2.0, 2.0, 3.0, 1.0, 2.0, 2.0, 3.0, 2.0, 2.0], parsed_goes=[2.0, 2.0, 3.0, 1.0, 2.0, 2.0, 3.0, 2.0, 2.0], points=4.57),\n",
       " Element(number=11, name='FCSSp3', info='', base_value=2.6, bonus=False, goe=0.29, goes=[-1.0, 0.0, 2.0, 0.0, 1.0, 1.0, 1.0, 0.0, 1.0], parsed_goes=[-1.0, 0.0, 2.0, 0.0, 1.0, 1.0, 1.0, 0.0, 1.0], points=2.89),\n",
       " Element(number=13, name='CCoSp3p4', info='', base_value=3.5, bonus=False, goe=0.93, goes=[2.0, 1.0, 2.0, 1.0, 2.0, 2.0, 2.0, 2.0, 2.0], parsed_goes=[2.0, 1.0, 2.0, 1.0, 2.0, 2.0, 2.0, 2.0, 2.0], points=4.43),\n",
       " Element(number=3, name='FCSp3', info='', base_value=2.8, bonus=False, goe=0.43, goes=[0.0, 1.0, 1.0, 1.0, 1.0, 2.0, 0.0, 1.0, 1.0], parsed_goes=[0.0, 1.0, 1.0, 1.0, 1.0, 2.0, 0.0, 1.0, 1.0], points=3.23),\n",
       " Element(number=5, name='CSSp4', info='', base_value=3.0, bonus=False, goe=0.79, goes=[1.0, 2.0, 1.0, 1.0, 2.0, 2.0, 2.0, 2.0, 1.0], parsed_goes=[1.0, 2.0, 1.0, 1.0, 2.0, 2.0, 2.0, 2.0, 1.0], points=3.79),\n",
       " Element(number=7, name='CCoSp4', info='', base_value=3.5, bonus=False, goe=1.0, goes=[2.0, 2.0, 2.0, 2.0, 2.0, 3.0, 2.0, 2.0, 2.0], parsed_goes=[2.0, 2.0, 2.0, 2.0, 2.0, 3.0, 2.0, 2.0, 2.0], points=4.5),\n",
       " Element(number=3, name='FCCoSp4', info='', base_value=3.5, bonus=False, goe=1.0, goes=[3.0, 2.0, 2.0, 2.0, 1.0, 2.0, 2.0, 2.0, 2.0], parsed_goes=[3.0, 2.0, 2.0, 2.0, 1.0, 2.0, 2.0, 2.0, 2.0], points=4.5),\n",
       " Element(number=10, name='FCSSp4', info='', base_value=3.0, bonus=False, goe=0.71, goes=[1.0, 2.0, 1.0, 2.0, 1.0, 2.0, 1.0, 1.0, 2.0], parsed_goes=[1.0, 2.0, 1.0, 2.0, 1.0, 2.0, 1.0, 1.0, 2.0], points=3.71),\n",
       " Element(number=13, name='CCoSp4', info='', base_value=3.5, bonus=False, goe=0.36, goes=[1.0, 1.0, 0.0, 1.0, 0.0, 2.0, 1.0, 0.0, 1.0], parsed_goes=[1.0, 1.0, 0.0, 1.0, 0.0, 2.0, 1.0, 0.0, 1.0], points=3.86),\n",
       " Element(number=3, name='FCSp4', info='', base_value=3.2, bonus=False, goe=0.93, goes=[2.0, 2.0, 2.0, 2.0, 1.0, 2.0, 1.0, 2.0, 3.0], parsed_goes=[2.0, 2.0, 2.0, 2.0, 1.0, 2.0, 1.0, 2.0, 3.0], points=4.13),\n",
       " Element(number=5, name='CSSp4', info='', base_value=3.0, bonus=False, goe=1.14, goes=[3.0, 2.0, 2.0, 2.0, 2.0, 2.0, 2.0, 3.0, 3.0], parsed_goes=[3.0, 2.0, 2.0, 2.0, 2.0, 2.0, 2.0, 3.0, 3.0], points=4.14),\n",
       " Element(number=7, name='CCoSp4', info='', base_value=3.5, bonus=False, goe=1.07, goes=[2.0, 2.0, 2.0, 2.0, 3.0, 2.0, 2.0, 2.0, 3.0], parsed_goes=[2.0, 2.0, 2.0, 2.0, 3.0, 2.0, 2.0, 2.0, 3.0], points=4.57),\n",
       " Element(number=3, name='FCCoSp4', info='', base_value=3.5, bonus=False, goe=1.0, goes=[3.0, 2.0, 2.0, 2.0, 2.0, 2.0, 1.0, 2.0, 2.0], parsed_goes=[3.0, 2.0, 2.0, 2.0, 2.0, 2.0, 1.0, 2.0, 2.0], points=4.5),\n",
       " Element(number=10, name='FCSSp3', info='', base_value=2.6, bonus=False, goe=0.64, goes=[2.0, 1.0, 2.0, 1.0, 2.0, 1.0, 0.0, 1.0, 1.0], parsed_goes=[2.0, 1.0, 2.0, 1.0, 2.0, 1.0, 0.0, 1.0, 1.0], points=3.24),\n",
       " Element(number=13, name='CCoSp4', info='', base_value=3.5, bonus=False, goe=0.86, goes=[2.0, 2.0, 2.0, 0.0, 2.0, 2.0, 1.0, 1.0, 2.0], parsed_goes=[2.0, 2.0, 2.0, 0.0, 2.0, 2.0, 1.0, 1.0, 2.0], points=4.36),\n",
       " Element(number=3, name='FCSp4', info='', base_value=3.2, bonus=False, goe=1.0, goes=[2.0, 2.0, 2.0, 2.0, 2.0, 2.0, 2.0, 2.0, 2.0], parsed_goes=[2.0, 2.0, 2.0, 2.0, 2.0, 2.0, 2.0, 2.0, 2.0], points=4.2),\n",
       " Element(number=5, name='CSSp4', info='', base_value=3.0, bonus=False, goe=1.07, goes=[2.0, 1.0, 1.0, 3.0, 2.0, 2.0, 3.0, 2.0, 3.0], parsed_goes=[2.0, 1.0, 1.0, 3.0, 2.0, 2.0, 3.0, 2.0, 3.0], points=4.07),\n",
       " Element(number=7, name='CCoSp4', info='', base_value=3.5, bonus=False, goe=1.29, goes=[3.0, 3.0, 2.0, 3.0, 2.0, 2.0, 3.0, 3.0, 2.0], parsed_goes=[3.0, 3.0, 2.0, 3.0, 2.0, 2.0, 3.0, 3.0, 2.0], points=4.79),\n",
       " Element(number=3, name='FCCoSp4', info='', base_value=3.5, bonus=False, goe=1.07, goes=[2.0, 2.0, 2.0, 2.0, 2.0, 1.0, 3.0, 2.0, 3.0], parsed_goes=[2.0, 2.0, 2.0, 2.0, 2.0, 1.0, 3.0, 2.0, 3.0], points=4.57),\n",
       " Element(number=10, name='FCSSp3', info='', base_value=2.6, bonus=False, goe=0.79, goes=[2.0, 1.0, 1.0, 2.0, 2.0, 2.0, 2.0, 1.0, 1.0], parsed_goes=[2.0, 1.0, 1.0, 2.0, 2.0, 2.0, 2.0, 1.0, 1.0], points=3.39),\n",
       " Element(number=13, name='CCoSp4', info='', base_value=3.5, bonus=False, goe=0.57, goes=[1.0, 2.0, 1.0, 0.0, 1.0, 1.0, 2.0, 1.0, 1.0], parsed_goes=[1.0, 2.0, 1.0, 0.0, 1.0, 1.0, 2.0, 1.0, 1.0], points=4.07),\n",
       " Element(number=3, name='FCSp3', info='', base_value=2.8, bonus=False, goe=0.93, goes=[2.0, 1.0, 2.0, 2.0, 2.0, 1.0, 2.0, 2.0, 2.0], parsed_goes=[2.0, 1.0, 2.0, 2.0, 2.0, 1.0, 2.0, 2.0, 2.0], points=3.73),\n",
       " Element(number=5, name='CSSp4', info='', base_value=3.0, bonus=False, goe=1.21, goes=[2.0, 2.0, 3.0, 2.0, 3.0, 2.0, 2.0, 3.0, 3.0], parsed_goes=[2.0, 2.0, 3.0, 2.0, 3.0, 2.0, 2.0, 3.0, 3.0], points=4.21),\n",
       " Element(number=7, name='CCoSp4', info='', base_value=3.5, bonus=False, goe=1.0, goes=[2.0, 2.0, 2.0, 2.0, 2.0, 2.0, 3.0, 2.0, 2.0], parsed_goes=[2.0, 2.0, 2.0, 2.0, 2.0, 2.0, 3.0, 2.0, 2.0], points=4.5),\n",
       " Element(number=3, name='FCCoSp4', info='', base_value=3.5, bonus=False, goe=0.93, goes=[1.0, 2.0, 2.0, 1.0, 2.0, 2.0, 2.0, 2.0, 2.0], parsed_goes=[1.0, 2.0, 2.0, 1.0, 2.0, 2.0, 2.0, 2.0, 2.0], points=4.43),\n",
       " Element(number=10, name='FCSSp4', info='', base_value=3.0, bonus=False, goe=1.0, goes=[1.0, 2.0, 2.0, 2.0, 2.0, 3.0, 2.0, 2.0, 2.0], parsed_goes=[1.0, 2.0, 2.0, 2.0, 2.0, 3.0, 2.0, 2.0, 2.0], points=4.0),\n",
       " Element(number=13, name='CCoSp4', info='', base_value=3.5, bonus=False, goe=0.93, goes=[1.0, 2.0, 2.0, 1.0, 2.0, 2.0, 2.0, 2.0, 2.0], parsed_goes=[1.0, 2.0, 2.0, 1.0, 2.0, 2.0, 2.0, 2.0, 2.0], points=4.43),\n",
       " Element(number=3, name='FCSp4', info='', base_value=3.2, bonus=False, goe=1.0, goes=[2.0, 2.0, 2.0, 2.0, 2.0, 2.0, 2.0, 2.0, 2.0], parsed_goes=[2.0, 2.0, 2.0, 2.0, 2.0, 2.0, 2.0, 2.0, 2.0], points=4.2),\n",
       " Element(number=5, name='CSSp4', info='', base_value=3.0, bonus=False, goe=1.14, goes=[2.0, 2.0, 3.0, 2.0, 2.0, 3.0, 2.0, 2.0, 3.0], parsed_goes=[2.0, 2.0, 3.0, 2.0, 2.0, 3.0, 2.0, 2.0, 3.0], points=4.14),\n",
       " Element(number=7, name='CCoSp4', info='', base_value=3.5, bonus=False, goe=1.21, goes=[3.0, 2.0, 3.0, 2.0, 2.0, 2.0, 3.0, 3.0, 2.0], parsed_goes=[3.0, 2.0, 3.0, 2.0, 2.0, 2.0, 3.0, 3.0, 2.0], points=4.71),\n",
       " Element(number=3, name='FCCoSp4', info='', base_value=3.5, bonus=False, goe=0.86, goes=[1.0, 2.0, 2.0, 2.0, 1.0, 2.0, 2.0, 2.0, 1.0], parsed_goes=[1.0, 2.0, 2.0, 2.0, 1.0, 2.0, 2.0, 2.0, 1.0], points=4.36),\n",
       " Element(number=10, name='FCSSp4', info='', base_value=3.0, bonus=False, goe=0.79, goes=[1.0, 2.0, 2.0, 2.0, 0.0, 2.0, 2.0, 1.0, 1.0], parsed_goes=[1.0, 2.0, 2.0, 2.0, 0.0, 2.0, 2.0, 1.0, 1.0], points=3.79),\n",
       " Element(number=13, name='CCoSp4', info='', base_value=3.5, bonus=False, goe=1.0, goes=[2.0, 2.0, 3.0, 2.0, 2.0, 2.0, 2.0, 2.0, 1.0], parsed_goes=[2.0, 2.0, 3.0, 2.0, 2.0, 2.0, 2.0, 2.0, 1.0], points=4.5)]"
      ]
     },
     "execution_count": 7,
     "metadata": {},
     "output_type": "execute_result"
    }
   ],
   "source": [
    "[elt for elt in yuzu_elts if 'Sp' in elt.name]"
   ]
  },
  {
   "cell_type": "code",
   "execution_count": 8,
   "metadata": {
    "collapsed": true
   },
   "outputs": [],
   "source": [
    "not_sp = [elt for elt in yuzu_elts if 'Sp' not in elt.name]"
   ]
  },
  {
   "cell_type": "code",
   "execution_count": 13,
   "metadata": {
    "collapsed": true
   },
   "outputs": [],
   "source": [
    "choreo = [elt for elt in not_sp if 'ChSq' in elt.name or 'ChSt' in elt.name]"
   ]
  },
  {
   "cell_type": "code",
   "execution_count": 18,
   "metadata": {
    "collapsed": false
   },
   "outputs": [],
   "source": [
    "steps = [elt for elt in not_sp if elt not in choreo and 'St' in elt.name]"
   ]
  },
  {
   "cell_type": "code",
   "execution_count": 20,
   "metadata": {
    "collapsed": false
   },
   "outputs": [],
   "source": [
    "jumps = [elt for elt in not_sp if elt not in choreo and elt not in steps]"
   ]
  },
  {
   "cell_type": "code",
   "execution_count": 10,
   "metadata": {
    "collapsed": false
   },
   "outputs": [
    {
     "data": {
      "text/plain": [
       "axel points   -0.653907\n",
       "dtype: float64"
      ]
     },
     "execution_count": 10,
     "metadata": {},
     "output_type": "execute_result"
    }
   ],
   "source": [
    "quads.skew()"
   ]
  },
  {
   "cell_type": "code",
   "execution_count": 11,
   "metadata": {
    "collapsed": false
   },
   "outputs": [
    {
     "data": {
      "text/plain": [
       "array([[<matplotlib.axes._subplots.AxesSubplot object at 0x11ffd5250>]], dtype=object)"
      ]
     },
     "execution_count": 11,
     "metadata": {},
     "output_type": "execute_result"
    },
    {
     "data": {
      "image/png": "[encoded data removed]",
      "text/plain": [
       "<matplotlib.figure.Figure at 0x1200cfad0>"
      ]
     },
     "metadata": {},
     "output_type": "display_data"
    }
   ],
   "source": [
    "axels = pd.DataFrame({'axel points': [elt.points for elt in yuzu_elts if elt.name.startswith('4')]})\n",
    "axels.hist()"
   ]
  },
  {
   "cell_type": "code",
   "execution_count": 12,
   "metadata": {
    "collapsed": false
   },
   "outputs": [
    {
     "data": {
      "text/plain": [
       "axel points   -0.395746\n",
       "dtype: float64"
      ]
     },
     "execution_count": 12,
     "metadata": {},
     "output_type": "execute_result"
    }
   ],
   "source": [
    "axels.skew()"
   ]
  },
  {
   "cell_type": "code",
   "execution_count": 14,
   "metadata": {
    "collapsed": true
   },
   "outputs": [],
   "source": [
    "bychenko_elts = []\n",
    "for season in seasons.values():\n",
    "    for event in season.events:\n",
    "        discipline = event.disciplines[0]\n",
    "        for segment in discipline.segments:\n",
    "            for scorecard in segment.scorecards:\n",
    "                name = scorecard.skater.name\n",
    "                if name in men_name_fixes:\n",
    "                    name = men_name_fixes[name]\n",
    "                if name == 'Alexei BYCHENKO':\n",
    "                    bychenko_elts += scorecard.elements"
   ]
  },
  {
   "cell_type": "code",
   "execution_count": 18,
   "metadata": {
    "collapsed": true
   },
   "outputs": [],
   "source": [
    "bychenko_quads = pd.DataFrame([elt.points for elt in bychenko_elts if elt.name.startswith('4')])"
   ]
  },
  {
   "cell_type": "code",
   "execution_count": 19,
   "metadata": {
    "collapsed": false
   },
   "outputs": [
    {
     "data": {
      "text/plain": [
       "array([[<matplotlib.axes._subplots.AxesSubplot object at 0x120326f90>]], dtype=object)"
      ]
     },
     "execution_count": 19,
     "metadata": {},
     "output_type": "execute_result"
    },
    {
     "data": {
      "image/png": "[encoded data removed]",
      "text/plain": [
       "<matplotlib.figure.Figure at 0x1203263d0>"
      ]
     },
     "metadata": {},
     "output_type": "display_data"
    }
   ],
   "source": [
    "bychenko_quads.hist()"
   ]
  },
  {
   "cell_type": "code",
   "execution_count": 20,
   "metadata": {
    "collapsed": false
   },
   "outputs": [
    {
     "data": {
      "text/plain": [
       "0   -0.483132\n",
       "dtype: float64"
      ]
     },
     "execution_count": 20,
     "metadata": {},
     "output_type": "execute_result"
    }
   ],
   "source": [
    "bychenko_quads.skew()"
   ]
  },
  {
   "cell_type": "code",
   "execution_count": 21,
   "metadata": {
    "collapsed": false
   },
   "outputs": [
    {
     "data": {
      "text/plain": [
       "36"
      ]
     },
     "execution_count": 21,
     "metadata": {},
     "output_type": "execute_result"
    }
   ],
   "source": [
    "len(bychenko_quads)"
   ]
  },
  {
   "cell_type": "code",
   "execution_count": 22,
   "metadata": {
    "collapsed": false
   },
   "outputs": [
    {
     "data": {
      "text/plain": [
       "90"
      ]
     },
     "execution_count": 22,
     "metadata": {},
     "output_type": "execute_result"
    }
   ],
   "source": [
    "len(quads)"
   ]
  },
  {
   "cell_type": "code",
   "execution_count": 99,
   "metadata": {
    "collapsed": true
   },
   "outputs": [],
   "source": [
    "men = pd.read_csv('pd_data/results_nowd_nofra15_men.csv')"
   ]
  },
  {
   "cell_type": "code",
   "execution_count": 101,
   "metadata": {
    "collapsed": false
   },
   "outputs": [],
   "source": [
    "pairs18 = pd.read_csv('pair18.csv')"
   ]
  },
  {
   "cell_type": "code",
   "execution_count": 103,
   "metadata": {
    "collapsed": false
   },
   "outputs": [
    {
     "data": {
      "text/plain": [
       "<matplotlib.axes._subplots.AxesSubplot at 0x11f876850>"
      ]
     },
     "execution_count": 103,
     "metadata": {},
     "output_type": "execute_result"
    },
    {
     "data": {
      "image/png": "[encoded data removed]",
      "text/plain": [
       "<matplotlib.figure.Figure at 0x112b67c50>"
      ]
     },
     "metadata": {},
     "output_type": "display_data"
    }
   ],
   "source": [
    "pairs18.Points.hist()"
   ]
  },
  {
   "cell_type": "code",
   "execution_count": 114,
   "metadata": {
    "collapsed": false
   },
   "outputs": [
    {
     "data": {
      "text/plain": [
       "0.0"
      ]
     },
     "execution_count": 114,
     "metadata": {},
     "output_type": "execute_result"
    }
   ],
   "source": [
    "np.min(elements[elements.elt_type == 'ch'].points)"
   ]
  },
  {
   "cell_type": "code",
   "execution_count": null,
   "metadata": {
    "collapsed": true
   },
   "outputs": [],
   "source": []
  }
 ],
 "metadata": {
  "kernelspec": {
   "display_name": "Python 2",
   "language": "python",
   "name": "python2"
  },
  "language_info": {
   "codemirror_mode": {
    "name": "ipython",
    "version": 2
   },
   "file_extension": ".py",
   "mimetype": "text/x-python",
   "name": "python",
   "nbconvert_exporter": "python",
   "pygments_lexer": "ipython2",
   "version": "2.7.13"
  }
 },
 "nbformat": 4,
 "nbformat_minor": 2
}
