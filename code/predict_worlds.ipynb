{
 "cells": [
  {
   "cell_type": "code",
   "execution_count": 21,
   "metadata": {
    "collapsed": false
   },
   "outputs": [],
   "source": [
    "from bs4 import BeautifulSoup\n",
    "from bs4.element import Tag\n",
    "import json\n",
    "import numpy as np\n",
    "import pandas as pd\n",
    "import pickle\n",
    "import requests"
   ]
  },
  {
   "cell_type": "code",
   "execution_count": 10,
   "metadata": {
    "collapsed": false
   },
   "outputs": [
    {
     "name": "stdout",
     "output_type": "stream",
     "text": [
      "2006 2007 2008 2009 2010 2011 2012 2013 2014 2015 2016 2017 2018\n"
     ]
    }
   ],
   "source": [
    "with open('seasons.pickle') as f:\n",
    "    seasons = pickle.load(f)\n",
    "for year, season in seasons.iteritems():\n",
    "    print year,\n",
    "    season.load_scores()"
   ]
  },
  {
   "cell_type": "code",
   "execution_count": 89,
   "metadata": {
    "collapsed": true
   },
   "outputs": [],
   "source": [
    "with open('pd_data/name_fixes_all.json') as f:\n",
    "    name_fixes = json.load(f)"
   ]
  },
  {
   "cell_type": "code",
   "execution_count": 19,
   "metadata": {
    "collapsed": false
   },
   "outputs": [
    {
     "data": {
      "text/html": [
       "<div>\n",
       "<style scoped>\n",
       "    .dataframe tbody tr th:only-of-type {\n",
       "        vertical-align: middle;\n",
       "    }\n",
       "\n",
       "    .dataframe tbody tr th {\n",
       "        vertical-align: top;\n",
       "    }\n",
       "\n",
       "    .dataframe thead th {\n",
       "        text-align: right;\n",
       "    }\n",
       "</style>\n",
       "<table border=\"1\" class=\"dataframe\">\n",
       "  <thead>\n",
       "    <tr style=\"text-align: right;\">\n",
       "      <th></th>\n",
       "      <th>Unnamed: 0</th>\n",
       "      <th>Unnamed: 0.1</th>\n",
       "      <th>Rank</th>\n",
       "      <th>Event</th>\n",
       "      <th>Date</th>\n",
       "      <th>Name</th>\n",
       "      <th>Nation</th>\n",
       "      <th>Points</th>\n",
       "      <th>Short Rank</th>\n",
       "      <th>Short Score</th>\n",
       "      <th>Free Rank</th>\n",
       "      <th>Free Score</th>\n",
       "      <th>Short Start</th>\n",
       "      <th>Free Start</th>\n",
       "      <th>Num Short Scorecards</th>\n",
       "      <th>Num Free Scorecards</th>\n",
       "    </tr>\n",
       "  </thead>\n",
       "  <tbody>\n",
       "    <tr>\n",
       "      <th>137</th>\n",
       "      <td>137</td>\n",
       "      <td>25</td>\n",
       "      <td>26</td>\n",
       "      <td>fc2018</td>\n",
       "      <td>2018-01-27</td>\n",
       "      <td>Harrison Jon-Yen WONG</td>\n",
       "      <td>HKG</td>\n",
       "      <td>52.78</td>\n",
       "      <td>26</td>\n",
       "      <td>52.78</td>\n",
       "      <td>DNQ</td>\n",
       "      <td>DNQ</td>\n",
       "      <td>6</td>\n",
       "      <td>NaN</td>\n",
       "      <td>30</td>\n",
       "      <td>24</td>\n",
       "    </tr>\n",
       "    <tr>\n",
       "      <th>138</th>\n",
       "      <td>138</td>\n",
       "      <td>26</td>\n",
       "      <td>27</td>\n",
       "      <td>fc2018</td>\n",
       "      <td>2018-01-27</td>\n",
       "      <td>Kai Xiang CHEW</td>\n",
       "      <td>MAS</td>\n",
       "      <td>50.92</td>\n",
       "      <td>27</td>\n",
       "      <td>50.92</td>\n",
       "      <td>DNQ</td>\n",
       "      <td>DNQ</td>\n",
       "      <td>8</td>\n",
       "      <td>NaN</td>\n",
       "      <td>30</td>\n",
       "      <td>24</td>\n",
       "    </tr>\n",
       "    <tr>\n",
       "      <th>139</th>\n",
       "      <td>139</td>\n",
       "      <td>27</td>\n",
       "      <td>28</td>\n",
       "      <td>fc2018</td>\n",
       "      <td>2018-01-27</td>\n",
       "      <td>Mark WEBSTER</td>\n",
       "      <td>AUS</td>\n",
       "      <td>49.45</td>\n",
       "      <td>28</td>\n",
       "      <td>49.45</td>\n",
       "      <td>DNQ</td>\n",
       "      <td>DNQ</td>\n",
       "      <td>14</td>\n",
       "      <td>NaN</td>\n",
       "      <td>30</td>\n",
       "      <td>24</td>\n",
       "    </tr>\n",
       "    <tr>\n",
       "      <th>140</th>\n",
       "      <td>140</td>\n",
       "      <td>28</td>\n",
       "      <td>29</td>\n",
       "      <td>fc2018</td>\n",
       "      <td>2018-01-27</td>\n",
       "      <td>Harry Hau Yin LEE</td>\n",
       "      <td>HKG</td>\n",
       "      <td>43.98</td>\n",
       "      <td>29</td>\n",
       "      <td>43.98</td>\n",
       "      <td>DNQ</td>\n",
       "      <td>DNQ</td>\n",
       "      <td>7</td>\n",
       "      <td>NaN</td>\n",
       "      <td>30</td>\n",
       "      <td>24</td>\n",
       "    </tr>\n",
       "    <tr>\n",
       "      <th>141</th>\n",
       "      <td>141</td>\n",
       "      <td>29</td>\n",
       "      <td>30</td>\n",
       "      <td>fc2018</td>\n",
       "      <td>2018-01-27</td>\n",
       "      <td>Micah TANG</td>\n",
       "      <td>TPE</td>\n",
       "      <td>43.05</td>\n",
       "      <td>30</td>\n",
       "      <td>43.05</td>\n",
       "      <td>DNQ</td>\n",
       "      <td>DNQ</td>\n",
       "      <td>4</td>\n",
       "      <td>NaN</td>\n",
       "      <td>30</td>\n",
       "      <td>24</td>\n",
       "    </tr>\n",
       "  </tbody>\n",
       "</table>\n",
       "</div>"
      ],
      "text/plain": [
       "     Unnamed: 0  Unnamed: 0.1  Rank   Event        Date  \\\n",
       "137         137            25    26  fc2018  2018-01-27   \n",
       "138         138            26    27  fc2018  2018-01-27   \n",
       "139         139            27    28  fc2018  2018-01-27   \n",
       "140         140            28    29  fc2018  2018-01-27   \n",
       "141         141            29    30  fc2018  2018-01-27   \n",
       "\n",
       "                      Name Nation  Points  Short Rank  Short Score Free Rank  \\\n",
       "137  Harrison Jon-Yen WONG    HKG   52.78          26        52.78       DNQ   \n",
       "138         Kai Xiang CHEW    MAS   50.92          27        50.92       DNQ   \n",
       "139           Mark WEBSTER    AUS   49.45          28        49.45       DNQ   \n",
       "140      Harry Hau Yin LEE    HKG   43.98          29        43.98       DNQ   \n",
       "141             Micah TANG    TPE   43.05          30        43.05       DNQ   \n",
       "\n",
       "    Free Score  Short Start  Free Start  Num Short Scorecards  \\\n",
       "137        DNQ            6         NaN                    30   \n",
       "138        DNQ            8         NaN                    30   \n",
       "139        DNQ           14         NaN                    30   \n",
       "140        DNQ            7         NaN                    30   \n",
       "141        DNQ            4         NaN                    30   \n",
       "\n",
       "     Num Free Scorecards  \n",
       "137                   24  \n",
       "138                   24  \n",
       "139                   24  \n",
       "140                   24  \n",
       "141                   24  "
      ]
     },
     "execution_count": 19,
     "metadata": {},
     "output_type": "execute_result"
    }
   ],
   "source": [
    "men.tail()"
   ]
  },
  {
   "cell_type": "code",
   "execution_count": 16,
   "metadata": {
    "collapsed": true
   },
   "outputs": [],
   "source": [
    "owg = seasons['2018'].events[-1]"
   ]
  },
  {
   "cell_type": "code",
   "execution_count": 44,
   "metadata": {
    "collapsed": false
   },
   "outputs": [
    {
     "name": "stdout",
     "output_type": "stream",
     "text": [
      "Index([u'Unnamed: 0', u'Unnamed: 0.1', u'Rank', u'Event', u'Date', u'Name',\n",
      "       u'Nation', u'Points', u'Short Rank', u'Short Score', u'Free Rank',\n",
      "       u'Free Score', u'Short Start', u'Free Start', u'Num Short Scorecards',\n",
      "       u'Num Free Scorecards'],\n",
      "      dtype='object')\n",
      "Index([u'Unnamed: 0', u'Unnamed: 0.1', u'Rank', u'Event', u'Date', u'Name',\n",
      "       u'Nation', u'Points', u'Short Rank', u'Short Score', u'Free Rank',\n",
      "       u'Free Score', u'Short Start', u'Free Start', u'Num Short Scorecards',\n",
      "       u'Num Free Scorecards'],\n",
      "      dtype='object')\n",
      "Index([u'Unnamed: 0', u'Rank', u'Event', u'Date', u'Name', u'Nation',\n",
      "       u'Points', u'Short Rank', u'Short Score', u'Free Rank', u'Free Score',\n",
      "       u'Num Short Scorecards', u'Num Free Scorecards', u'Season',\n",
      "       u'Short Start', u'Free Start'],\n",
      "      dtype='object')\n",
      "Index([u'Unnamed: 0', u'Unnamed: 0.1', u'Rank', u'Event', u'Date', u'Name',\n",
      "       u'Nation', u'Points', u'Short Rank', u'Short Score', u'Free Rank',\n",
      "       u'Free Score', u'Short Start', u'Free Start', u'Num Short Scorecards',\n",
      "       u'Num Free Scorecards'],\n",
      "      dtype='object')\n"
     ]
    }
   ],
   "source": [
    "results18 = {}\n",
    "for discipline in ('men', 'ladies', 'pairs', 'dance'):\n",
    "    results18[discipline] = pd.read_csv('pd_data/results18_' + discipline + '.csv')\n",
    "    print results18[discipline].columns\n",
    "    results18[discipline].drop('Unnamed: 0', inplace=True, axis=1)\n",
    "    if discipline != 'pairs':\n",
    "        results18[discipline].drop(u'Unnamed: 0.1', inplace=True, axis=1)"
   ]
  },
  {
   "cell_type": "code",
   "execution_count": 47,
   "metadata": {
    "collapsed": false
   },
   "outputs": [],
   "source": [
    "for index, discipline_name in enumerate(('men', 'ladies', 'pairs', 'dance')):\n",
    "    discipline = owg.disciplines[index]\n",
    "    df = pd.read_csv(discipline.results_csv)\n",
    "    if df.dtypes['Short Rank'] != np.dtype('int64'):\n",
    "        df = df[df['Short Rank'] != 'WD']\n",
    "    num_short = len(df)\n",
    "    num_free = np.max([int(rank) for rank in df['Free Rank'] if rank not in ('DNQ', 'WD')])\n",
    "    df['Num Short Scorecards'] = pd.Series([num_short for _ in xrange(num_short)])\n",
    "    df['Num Free Scorecards'] = pd.Series([num_free for _ in xrange(num_short)])\n",
    "#     df['Season'] = pd.Series([season.champ_year for _ in xrange(num_short)])\n",
    "\n",
    "    df['Short Start'] = df.apply(lambda row: discipline.segments[0].scorecards[int(row['Short Rank']) - 1].starting_number, axis=1)\n",
    "    df['Free Start'] = df.apply(lambda row:\n",
    "                         None if str(row['Free Rank']).isalpha() else\n",
    "                         discipline.segments[1].scorecards[int(row['Free Rank']) - 1].starting_number, \n",
    "                         axis=1)\n",
    "\n",
    "    df.Name = df.apply(lambda row: name_fixes.get(row.Name, row.Name), axis=1)\n",
    "    \n",
    "    results18[discipline_name] = pd.concat([results18[discipline_name], df])"
   ]
  },
  {
   "cell_type": "code",
   "execution_count": null,
   "metadata": {
    "collapsed": true
   },
   "outputs": [],
   "source": []
  },
  {
   "cell_type": "code",
   "execution_count": 53,
   "metadata": {
    "collapsed": false
   },
   "outputs": [],
   "source": [
    "for discipline, df in results18.iteritems():\n",
    "    df.Nation = df.apply(lambda row: 'RUS' if row.Nation == 'OAR' else row.Nation, axis=1)\n",
    "    df.to_csv('pd_data/results18all_' + discipline + '.csv')"
   ]
  },
  {
   "cell_type": "code",
   "execution_count": null,
   "metadata": {
    "collapsed": true
   },
   "outputs": [],
   "source": []
  },
  {
   "cell_type": "code",
   "execution_count": null,
   "metadata": {
    "collapsed": true
   },
   "outputs": [],
   "source": [
    "results18['ladies'].Nation = results18['ladies'].apply(lambda row: 'RUS' if row.Nation == 'OAR' else )"
   ]
  },
  {
   "cell_type": "code",
   "execution_count": 2,
   "metadata": {
    "collapsed": false
   },
   "outputs": [],
   "source": [
    "def get_entries(url):\n",
    "    page = requests.get(url)\n",
    "    soup = BeautifulSoup(page.content, 'html.parser')\n",
    "    entries = []\n",
    "    for tr in soup.find_all('tr')[1:]:\n",
    "        for child in tr.children:\n",
    "            if isinstance(child, Tag) and child.attrs.get('class') == ['first'] and child.text.isdigit():\n",
    "                skater = tr.find('a').text\n",
    "                for td in tr.find_all('td'):\n",
    "                    if len(td.text) == 3 and td.text.isalpha():\n",
    "                        country = td.text\n",
    "                        entries.append((skater, country))\n",
    "    return entries"
   ]
  },
  {
   "cell_type": "code",
   "execution_count": 3,
   "metadata": {
    "collapsed": true
   },
   "outputs": [],
   "source": [
    "entries = {}"
   ]
  },
  {
   "cell_type": "code",
   "execution_count": 110,
   "metadata": {
    "collapsed": false
   },
   "outputs": [],
   "source": [
    "for discipline, url in (('men', 'http://www.isuresults.com/events/cat03108710.htm'),\n",
    "                        ('ladies', 'http://www.isuresults.com/events/cat03108711.htm'),\n",
    "                        ('pairs', 'http://www.isuresults.com/events/cat03108712.htm'),\n",
    "                        ('dance', 'http://www.isuresults.com/events/cat03108713.htm')):\n",
    "    entries[discipline] = get_entries(url)"
   ]
  },
  {
   "cell_type": "code",
   "execution_count": 109,
   "metadata": {
    "collapsed": true
   },
   "outputs": [],
   "source": [
    "with open('pd_data/name_fixes_all.json') as f:\n",
    "    name_fixes = json.load(f)"
   ]
  },
  {
   "cell_type": "code",
   "execution_count": 121,
   "metadata": {
    "collapsed": false
   },
   "outputs": [],
   "source": [
    "for discipline, entrylist in entries.iteritems():\n",
    "    new_entries = []\n",
    "    for skater, country in entrylist:\n",
    "        new_entries.append((name_fixes.get(skater.strip(), skater.strip()), country))\n",
    "    entries[discipline] = new_entries"
   ]
  },
  {
   "cell_type": "code",
   "execution_count": 126,
   "metadata": {
    "collapsed": false
   },
   "outputs": [],
   "source": [
    "entries_country = entries\n",
    "entries = {discipline: map(lambda entry: entry[0], entry_list) for discipline, entry_list in entries.iteritems()}"
   ]
  },
  {
   "cell_type": "code",
   "execution_count": 128,
   "metadata": {
    "collapsed": true
   },
   "outputs": [],
   "source": [
    "component_to_type = {\n",
    "    'Skating Skills': 'ss',\n",
    "    'Transitions': 'tr',\n",
    "    'Performance': 'pe',\n",
    "    'Composition': 'co',\n",
    "    'Interpretation': 'in'\n",
    "}"
   ]
  },
  {
   "cell_type": "code",
   "execution_count": 131,
   "metadata": {
    "collapsed": false
   },
   "outputs": [
    {
     "name": "stdout",
     "output_type": "stream",
     "text": [
      "\n",
      "Alisa STOMAKHINA event\n",
      "Elisabetta LECCARDI event\n",
      "Stanislava KONSTANTINOVA event\n",
      "Antonina DUBININA free\n",
      "\n",
      "Elizaveta KASHITSYNA / Mark MAGYAR event\n",
      "\n",
      "Teodora MARKOVA / Simon DAZE free\n",
      "Adel TANKOVA / Ronald ZILBERBERG free\n",
      "Allison REED / Saulius AMBRULEVICIUS event\n",
      "\n"
     ]
    }
   ],
   "source": [
    "for discipline in ('men', 'ladies', 'pairs', 'dance'):\n",
    "    elements = pd.read_csv('pd_data/elements_' + discipline + '.csv')\n",
    "    elements18 = pd.read_csv('pd_data/elements_' + discipline + '18all.csv')\n",
    "    elements = pd.concat([elements, elements18])\n",
    "    short_list = []\n",
    "    free_list = []\n",
    "    comp_list = []\n",
    "    for skater in entries[discipline]:\n",
    "        for component, comp_type in component_to_type.iteritems():\n",
    "            comp_list.append({'component': component, 'comp_type': comp_type, 'skater': skater})\n",
    "        last_event = elements[elements.skater == skater].event.unique()\n",
    "        if len(last_event) == 0:\n",
    "            print skater, 'event'\n",
    "            continue\n",
    "        last_event = last_event[-1]\n",
    "        last_elements = elements[elements.skater == skater]\n",
    "        last_elements = last_elements[last_elements.event == last_event]\n",
    "        short_elements = last_elements[last_elements.segment.str.contains('short')]\n",
    "        short_list.append(short_elements)\n",
    "        if len(last_elements.segment.unique()) != 2:\n",
    "            last_free_elements = elements[elements.skater == skater]\n",
    "            last_free = last_free_elements[last_free_elements.segment.str.contains('free')].segment.unique()\n",
    "            if len(last_free) == 0:\n",
    "                print skater, 'free'\n",
    "                continue\n",
    "            last_free_elements = last_free_elements[last_free_elements.segment == last_free[-1]]\n",
    "        else:\n",
    "            last_free_elements = last_elements[last_elements.segment.str.contains('free')]\n",
    "        free_list.append(last_free_elements)\n",
    "    pd.concat(short_list).to_csv('pd_data/elements_worlds_short_' + discipline + '.csv')\n",
    "    pd.concat(free_list).to_csv('pd_data/elements_worlds_free_' + discipline + '.csv')\n",
    "    pd.DataFrame(comp_list).to_csv('pd_data/components_worlds_short_' + discipline + '.csv')\n",
    "    pd.DataFrame(comp_list).to_csv('pd_data/components_worlds_free_' + discipline + '.csv')\n",
    "    print"
   ]
  },
  {
   "cell_type": "code",
   "execution_count": null,
   "metadata": {
    "collapsed": true
   },
   "outputs": [],
   "source": []
  }
 ],
 "metadata": {
  "kernelspec": {
   "display_name": "Python 2",
   "language": "python",
   "name": "python2"
  },
  "language_info": {
   "codemirror_mode": {
    "name": "ipython",
    "version": 2
   },
   "file_extension": ".py",
   "mimetype": "text/x-python",
   "name": "python",
   "nbconvert_exporter": "python",
   "pygments_lexer": "ipython2",
   "version": "2.7.13"
  }
 },
 "nbformat": 4,
 "nbformat_minor": 2
}
