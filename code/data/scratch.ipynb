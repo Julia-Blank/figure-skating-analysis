{
 "cells": [
  {
   "cell_type": "code",
   "execution_count": 1,
   "metadata": {
    "collapsed": false
   },
   "outputs": [],
   "source": [
    "from model.Season import Season\n",
    "from model.util import levenshtein"
   ]
  },
  {
   "cell_type": "code",
   "execution_count": 15,
   "metadata": {
    "collapsed": true
   },
   "outputs": [],
   "source": [
    "import datetime\n",
    "import matplotlib.pyplot as plt\n",
    "import json\n",
    "import pandas as pd\n",
    "import pickle"
   ]
  },
  {
   "cell_type": "code",
   "execution_count": 3,
   "metadata": {
    "collapsed": false
   },
   "outputs": [],
   "source": [
    "with open('seasons.pickle') as f:\n",
    "    seasons = pickle.load(f)"
   ]
  },
  {
   "cell_type": "code",
   "execution_count": 16,
   "metadata": {
    "collapsed": false
   },
   "outputs": [],
   "source": [
    "# for year in map(str, xrange(2006, 2018)):\n",
    "#     print year\n",
    "#     season = Season(year)\n",
    "#     season.fetch_info()\n",
    "#     season.load_scores()\n",
    "#     seasons[year] = season"
   ]
  },
  {
   "cell_type": "code",
   "execution_count": 4,
   "metadata": {
    "collapsed": false
   },
   "outputs": [
    {
     "name": "stdout",
     "output_type": "stream",
     "text": [
      "2006\n",
      "2007\n",
      "2008\n",
      "2009\n",
      "2010\n",
      "2011\n",
      "2012\n",
      "2013\n",
      "2014\n",
      "2015\n",
      "2016\n",
      "2017\n"
     ]
    }
   ],
   "source": [
    "for year, season in seasons.iteritems():\n",
    "    print year\n",
    "    season.load_scores()"
   ]
  },
  {
   "cell_type": "code",
   "execution_count": 5,
   "metadata": {
    "collapsed": true
   },
   "outputs": [],
   "source": [
    "men = []\n",
    "ladies = []\n",
    "pairs = []\n",
    "dance = []\n",
    "skaters = [men, ladies, pairs, dance]"
   ]
  },
  {
   "cell_type": "code",
   "execution_count": 6,
   "metadata": {
    "collapsed": false
   },
   "outputs": [],
   "source": [
    "for year in seasons:\n",
    "    season = seasons[year]\n",
    "    for event in season.events:\n",
    "        for i, discipline in enumerate(event.disciplines):\n",
    "            df = pd.read_csv(discipline.results_csv)\n",
    "            skaters[i].append(df)"
   ]
  },
  {
   "cell_type": "code",
   "execution_count": 7,
   "metadata": {
    "collapsed": true
   },
   "outputs": [],
   "source": [
    "all_ladies = pd.concat(ladies)"
   ]
  },
  {
   "cell_type": "code",
   "execution_count": 8,
   "metadata": {
    "collapsed": true
   },
   "outputs": [],
   "source": [
    "all_ladies.Date = pd.to_datetime(all_ladies.Date)"
   ]
  },
  {
   "cell_type": "code",
   "execution_count": 9,
   "metadata": {
    "collapsed": false
   },
   "outputs": [
    {
     "data": {
      "image/png": "[encoded data removed]",
      "text/plain": [
       "<matplotlib.figure.Figure at 0x11bc0f850>"
      ]
     },
     "metadata": {},
     "output_type": "display_data"
    }
   ],
   "source": [
    "all_ladies[all_ladies['Free Rank'].str.isalpha() != True]['Points'].astype(float).hist()"
   ]
  },
  {
   "cell_type": "code",
   "execution_count": 12,
   "metadata": {
    "collapsed": true
   },
   "outputs": [],
   "source": [
    "completed = all_ladies[all_ladies['Free Rank'].str.isalpha() != True]"
   ]
  },
  {
   "cell_type": "code",
   "execution_count": 25,
   "metadata": {
    "collapsed": false
   },
   "outputs": [],
   "source": [
    "ladies_17 = pd.concat(ladies[-10:])"
   ]
  },
  {
   "cell_type": "code",
   "execution_count": 29,
   "metadata": {
    "collapsed": false
   },
   "outputs": [
    {
     "data": {
      "text/plain": [
       "<matplotlib.axes._subplots.AxesSubplot at 0x11f736690>"
      ]
     },
     "execution_count": 29,
     "metadata": {},
     "output_type": "execute_result"
    }
   ],
   "source": [
    "ladies_17[ladies_17['Free Rank'].str.isalpha() != True]['Points'].astype(float).hist()"
   ]
  },
  {
   "cell_type": "code",
   "execution_count": 30,
   "metadata": {
    "collapsed": false
   },
   "outputs": [
    {
     "data": {
      "image/png": "[encoded data removed]",
      "text/plain": [
       "<matplotlib.figure.Figure at 0x11f0dd450>"
      ]
     },
     "metadata": {},
     "output_type": "display_data"
    }
   ],
   "source": [
    "plt.show()"
   ]
  },
  {
   "cell_type": "code",
   "execution_count": 45,
   "metadata": {
    "collapsed": false
   },
   "outputs": [],
   "source": [
    "def ascii_encode_dict(data):\n",
    "    ascii_encode = lambda x: x.encode('ascii')\n",
    "    return dict(map(ascii_encode, pair) for pair in data.items())\n",
    "\n",
    "with open('men_name_fixes.json') as f:\n",
    "    men_name_fixes = f.read()\n",
    "men_name_fixes = json.loads(men_name_fixes, object_hook=ascii_encode_dict)"
   ]
  },
  {
   "cell_type": "code",
   "execution_count": 7,
   "metadata": {
    "collapsed": false
   },
   "outputs": [],
   "source": [
    "all_men_results = pd.concat(men)"
   ]
  },
  {
   "cell_type": "code",
   "execution_count": 35,
   "metadata": {
    "collapsed": false
   },
   "outputs": [],
   "source": [
    "all_men_results.Date = pd.to_datetime(all_men_results['Date'])"
   ]
  },
  {
   "cell_type": "code",
   "execution_count": 47,
   "metadata": {
    "collapsed": false
   },
   "outputs": [],
   "source": [
    "for wrong_name, right_name in men_name_fixes.iteritems():\n",
    "    all_men_results.loc[all_men_results.Name == wrong_name, 'Name'] = right_name"
   ]
  },
  {
   "cell_type": "code",
   "execution_count": 85,
   "metadata": {
    "collapsed": true
   },
   "outputs": [],
   "source": [
    "all_men_results = all_men_results[all_men_results['Event'] != 'gpfra2015']"
   ]
  },
  {
   "cell_type": "code",
   "execution_count": 55,
   "metadata": {
    "collapsed": false
   },
   "outputs": [],
   "source": [
    "winners = all_men_results[all_men_results['Rank'] == 1]\n",
    "winners = winners[winners['Event'] != 'gpfra2015']"
   ]
  },
  {
   "cell_type": "code",
   "execution_count": 80,
   "metadata": {
    "collapsed": false
   },
   "outputs": [],
   "source": [
    "hanyu = all_men_results[all_men_results['Name'] == 'Yuzuru HANYU']\n",
    "patrick = all_men_results[all_men_results['Name'] == 'Patrick CHAN']\n",
    "patrick = patrick[patrick['Event'] != 'gpfra2015']\n",
    "shoma = all_men_results[all_men_results['Name'] == 'Shoma UNO']\n",
    "shoma = shoma[shoma['Event'] != 'gpfra2015']\n",
    "javi = all_men_results[all_men_results['Name'] == 'Javier FERNANDEZ']\n",
    "javi = javi[javi['Free Rank'] != 'DNQ']\n",
    "boyang = all_men_results[all_men_results['Name'] == 'Boyang JIN']\n",
    "mikhail = all_men_results[all_men_results['Name'] == 'Mikhail KOLYADA']\n",
    "nathan = all_men_results[all_men_results['Name'] == 'Nathan CHEN']"
   ]
  },
  {
   "cell_type": "code",
   "execution_count": 81,
   "metadata": {
    "collapsed": false
   },
   "outputs": [
    {
     "data": {
      "text/plain": [
       "<matplotlib.legend.Legend at 0x11ca12510>"
      ]
     },
     "execution_count": 81,
     "metadata": {},
     "output_type": "execute_result"
    }
   ],
   "source": [
    "for data, name in ((hanyu, 'Yuzu'),\n",
    "                   (patrick, 'Patrick'),\n",
    "                   (shoma, 'Shoma'),\n",
    "                   (javi, 'Javi'),\n",
    "                   (boyang, 'Boyang'),\n",
    "                   (mikhail, 'Mikhail'),\n",
    "                   (nathan, 'Nathan')):\n",
    "    plt.plot(data['Date'], data['Points'].astype(float), label=name)\n",
    "plt.legend()"
   ]
  },
  {
   "cell_type": "code",
   "execution_count": 90,
   "metadata": {
    "collapsed": false
   },
   "outputs": [
    {
     "data": {
      "text/plain": [
       "[<matplotlib.lines.Line2D at 0x11d067490>]"
      ]
     },
     "execution_count": 90,
     "metadata": {},
     "output_type": "execute_result"
    }
   ],
   "source": [
    "data = all_men_results[all_men_results['Name'] == 'Jason BROWN']\n",
    "plt.plot(data['Date'], data['Points'].astype(float), label=name)"
   ]
  },
  {
   "cell_type": "code",
   "execution_count": 92,
   "metadata": {
    "collapsed": false
   },
   "outputs": [
    {
     "data": {
      "image/png": "[encoded data removed]",
      "text/plain": [
       "<matplotlib.figure.Figure at 0x11d03d710>"
      ]
     },
     "metadata": {},
     "output_type": "display_data"
    }
   ],
   "source": [
    "plt.show()"
   ]
  },
  {
   "cell_type": "code",
   "execution_count": 107,
   "metadata": {
    "collapsed": false
   },
   "outputs": [
    {
     "data": {
      "text/plain": [
       "<matplotlib.axes._subplots.AxesSubplot at 0x11d1bc7d0>"
      ]
     },
     "execution_count": 107,
     "metadata": {},
     "output_type": "execute_result"
    }
   ],
   "source": [
    "all_men_results[all_men_results['Free Rank'].str.isalpha() != True]['Points'].astype(float).hist()"
   ]
  },
  {
   "cell_type": "code",
   "execution_count": 108,
   "metadata": {
    "collapsed": false
   },
   "outputs": [
    {
     "data": {
      "image/png": "[encoded data removed]",
      "text/plain": [
       "<matplotlib.figure.Figure at 0x11d1922d0>"
      ]
     },
     "metadata": {},
     "output_type": "display_data"
    }
   ],
   "source": [
    "plt.show()"
   ]
  },
  {
   "cell_type": "code",
   "execution_count": 116,
   "metadata": {
    "collapsed": false
   },
   "outputs": [],
   "source": [
    "def get_similar_names(skaters):\n",
    "    def get_first_last(single_skater):\n",
    "        split = single_skater.split()\n",
    "        if len(split) != 2:\n",
    "            return None\n",
    "        return split[0].lower(), split[1].lower()\n",
    "    similar = []\n",
    "    first_last = {}\n",
    "    num_skaters = len(skaters)\n",
    "    for i in xrange(num_skaters):\n",
    "        split_i = get_first_last(skaters[i])\n",
    "        for j in xrange(i + 1, num_skaters):\n",
    "            added = False\n",
    "            split_j = get_first_last(skaters[j])\n",
    "            if split_i and split_j:\n",
    "                if levenshtein(split_i[0], split_j[1]) < 3 and levenshtein(split_i[1], split_j[0]) < 3:\n",
    "                    if skaters[j][-1].islower():\n",
    "                        first_last[skaters[j]] = skaters[i]\n",
    "                    else:\n",
    "                        first_last[skaters[i]] = skaters[j]\n",
    "                    added = True\n",
    "            if not added and levenshtein(skaters[i], skaters[j]) < 7:\n",
    "                similar.append((skaters[i], skaters[j]))     \n",
    "    return similar, first_last"
   ]
  },
  {
   "cell_type": "code",
   "execution_count": 117,
   "metadata": {
    "collapsed": false
   },
   "outputs": [
    {
     "data": {
      "text/plain": [
       "([('Elena SOKOLOVA', 'Elena GLEBOVA'),\n",
       "  ('Elena SOKOLOVA', 'Alena LEONOVA'),\n",
       "  ('Elena SOKOLOVA', 'Alina FJODOROVA'),\n",
       "  ('Elena SOKOLOVA', 'Elena RADIONOVA'),\n",
       "  ('Beatrisa LIANG', 'Teresa LIN'),\n",
       "  ('Emily HUGHES', 'Emily NAPHTAL'),\n",
       "  ('Mira LEUNG', 'Tina WANG'),\n",
       "  ('Mira LEUNG', 'Mirna LIBRIC'),\n",
       "  ('Mira LEUNG', 'Bingwa GENG'),\n",
       "  ('Mira LEUNG', 'Ira VANNUT'),\n",
       "  ('Mira LEUNG', 'Ying ZHANG'),\n",
       "  ('Mira LEUNG', 'KIM Yuna'),\n",
       "  ('Mira LEUNG', 'Rika HONGO'),\n",
       "  ('Julia SEBESTYEN', 'Julia SHEREMET'),\n",
       "  ('Julia SEBESTYEN', 'Julia SAUTER'),\n",
       "  ('Dan FANG', 'Yan LIU'),\n",
       "  ('Dan FANG', 'Mao ASADA'),\n",
       "  ('Dan FANG', 'Na HOU'),\n",
       "  ('Dan FANG', 'Mai ASADA'),\n",
       "  ('Dan FANG', 'Diane CHEN'),\n",
       "  ('Dan FANG', 'LIU Yan'),\n",
       "  ('Dan FANG', 'Yueren WANG'),\n",
       "  ('Dan FANG', 'Tina WANG'),\n",
       "  ('Dan FANG', 'WANG Tina'),\n",
       "  ('Dan FANG', 'Dasa GRM'),\n",
       "  ('Dan FANG', 'Kexin ZHANG'),\n",
       "  ('Dan FANG', 'Ying ZHANG'),\n",
       "  ('Dan FANG', 'KIM Yuna'),\n",
       "  ('Dan FANG', 'Angela WANG'),\n",
       "  ('Dan FANG', 'Lu ZHENG'),\n",
       "  ('Dan FANG', 'Amy LIN'),\n",
       "  ('Dan FANG', 'Dabin CHOI'),\n",
       "  ('Yukari NAKANO', 'Yuka NAGAI'),\n",
       "  ('Yan LIU', 'Na HOU'),\n",
       "  ('Yan LIU', 'ANDO Miki'),\n",
       "  ('Yan LIU', 'Yu-Na KIM'),\n",
       "  ('Yan LIU', 'WANG Tina'),\n",
       "  ('Yan LIU', 'Yuna KIM'),\n",
       "  ('Yan LIU', 'Dasa GRM'),\n",
       "  ('Yan LIU', 'Zijun LI'),\n",
       "  ('Yan LIU', 'LI Zijun'),\n",
       "  ('Yan LIU', 'Amy LIN'),\n",
       "  ('Yan LIU', 'Nahyun KIM'),\n",
       "  ('Yan LIU', 'Shuran YU'),\n",
       "  ('Sarah MEIER', 'Clara PETERS'),\n",
       "  ('Sarah MEIER', 'Sarah HECKEN'),\n",
       "  ('Sarah MEIER', 'Mariah BELL'),\n",
       "  ('Sarah MEIER', 'Hannah MILLER'),\n",
       "  ('Lesley HAWKER', 'Ashley WAGNER'),\n",
       "  ('Joanne CARTER', 'Joelle FORTE'),\n",
       "  ('Mao ASADA', 'Miki ANDO'),\n",
       "  ('Mao ASADA', 'Mai ASADA'),\n",
       "  ('Mao ASADA', 'Aki SAWADA'),\n",
       "  ('Mao ASADA', 'Nana TAKEDA'),\n",
       "  ('Mao ASADA', 'ONO Tamami'),\n",
       "  ('Mao ASADA', 'Mai MIHARA'),\n",
       "  ('Viktoria PAVUK', 'Victoria MUNIZ'),\n",
       "  ('Na HOU', 'Yu-Na KIM'),\n",
       "  ('Na HOU', 'Tina WANG'),\n",
       "  ('Na HOU', 'Yuna KIM'),\n",
       "  ('Na HOU', 'Dasa GRM'),\n",
       "  ('Na HOU', 'Reyna HAMUI'),\n",
       "  ('Na HOU', 'LI Zijun'),\n",
       "  ('Na HOU', 'Rika HONGO'),\n",
       "  ('Na HOU', 'Lu ZHENG'),\n",
       "  ('Na HOU', 'Na Hyun KIM'),\n",
       "  ('Na HOU', 'Amy LIN'),\n",
       "  ('Na HOU', 'Dabin CHOI'),\n",
       "  ('Sasha COHEN', 'Diane CHEN'),\n",
       "  ('Sasha COHEN', 'Stasia RAGE'),\n",
       "  ('Sasha COHEN', 'Karen CHEN'),\n",
       "  ('Miki ANDO', 'Mai ASADA'),\n",
       "  ('Miki ANDO', 'LIU Yan'),\n",
       "  ('Miki ANDO', 'Aki SAWADA'),\n",
       "  ('Miki ANDO', 'Tina WANG'),\n",
       "  ('Miki ANDO', 'Tamami ONO'),\n",
       "  ('Miki ANDO', 'Rika HONGO'),\n",
       "  ('Susanna P\\xc3\\x96YKI\\xc3\\x96', 'Susanna P\\xcc\\xd0YKI\\xcc\\xd0'),\n",
       "  ('Susanna P\\xc3\\x96YKI\\xc3\\x96', 'Susanna POYKIO'),\n",
       "  ('Karen VENHUIZEN', 'Karen CHEN'),\n",
       "  ('Kiira KORPI', 'Alisa DREI'),\n",
       "  ('Susanna P\\xcc\\xd0YKI\\xcc\\xd0', 'Susanna POYKIO'),\n",
       "  ('Alisa DREI', 'Marina SEEH'),\n",
       "  ('Alisa DREI', 'Dasa GRM'),\n",
       "  ('Alisa DREI', 'Anita MADSEN'),\n",
       "  ('Elena GLEBOVA', 'Alena LEONOVA'),\n",
       "  ('Elena GLEBOVA', 'Elena RADIONOVA'),\n",
       "  ('Sonia RADEVA', 'Nana TAKEDA'),\n",
       "  ('Sonia RADEVA', 'Sonia LAFUENTE'),\n",
       "  ('Sonia RADEVA', 'Stasia RAGE'),\n",
       "  ('Sonia RADEVA', 'Sonja MUGOSA'),\n",
       "  ('Valentina MARCHEI', 'Valentina MATOS'),\n",
       "  ('Lina JOHANSSON', 'Karina JOHNSON'),\n",
       "  ('Olga ZADVORNOVA', 'Elena RADIONOVA'),\n",
       "  ('Mai ASADA', 'MEIER Sarah'),\n",
       "  ('Mai ASADA', 'Aki SAWADA'),\n",
       "  ('Mai ASADA', 'Nana TAKEDA'),\n",
       "  ('Mai ASADA', 'Mirai NAGASU'),\n",
       "  ('Mai ASADA', 'Marina SEEH'),\n",
       "  ('Mai ASADA', 'Mai MIHARA'),\n",
       "  ('Akiko KITAMURA', 'Mariko KIHARA'),\n",
       "  ('Ji Eun CHOI', 'Jocelyn HO'),\n",
       "  ('Ji Eun CHOI', 'Zijun LI'),\n",
       "  ('Ji Eun CHOI', 'Karen CHEN'),\n",
       "  ('Ji Eun CHOI', 'Da Bin CHOI'),\n",
       "  ('Ji Eun CHOI', 'Dabin CHOI'),\n",
       "  ('Chae-Hwa KIM', 'Yu-Na KIM'),\n",
       "  ('Chae-Hwa KIM', 'Chaochih LIU'),\n",
       "  ('Chae-Hwa KIM', 'Hae Jin KIM'),\n",
       "  ('Michelle CANTU', 'Michele CANTU'),\n",
       "  ('Yea-Ji SHIN', 'Yea-Ji YUN'),\n",
       "  ('Tammy SUTAN', 'Tamar KATZ'),\n",
       "  ('Tammy SUTAN', 'Amy LIN'),\n",
       "  ('Diane CHEN', 'Diane SZMIETT'),\n",
       "  ('Diane CHEN', 'Ying ZHANG'),\n",
       "  ('Diane CHEN', 'Karen CHEN'),\n",
       "  ('Diane CHEN', 'Dabin CHOI'),\n",
       "  ('Teresa LIN', 'Amy LIN'),\n",
       "  ('Lauren HENRY', 'Lauren KO'),\n",
       "  ('Lauren HENRY', 'Karen CHEN'),\n",
       "  ('MEIER Sarah', 'HECKEN Sarah'),\n",
       "  ('MEIER Sarah', 'Mai MIHARA'),\n",
       "  ('LIU Yan', 'Tina WANG'),\n",
       "  ('LIU Yan', 'KIM Yu-Na'),\n",
       "  ('LIU Yan', 'Zijun LI'),\n",
       "  ('LIU Yan', 'Ying ZHANG'),\n",
       "  ('LIU Yan', 'KIM Yuna'),\n",
       "  ('LIU Yan', 'LI Zijun'),\n",
       "  ('LIU Yan', 'KIM Haejin'),\n",
       "  ('LIU Yan', 'Lu ZHENG'),\n",
       "  ('LIU Yan', 'Amy LIN'),\n",
       "  ('LEUNG Mira', 'WANG Tina'),\n",
       "  ('LEUNG Mira', 'Yuna KIM'),\n",
       "  ('SOKOLOVA Elena', 'GLEBOVA Elena'),\n",
       "  ('SOKOLOVA Elena', 'LEONOVA Alena'),\n",
       "  ('ANDO Miki', 'ASADA Mao'),\n",
       "  ('ANDO Miki', 'WANG Tina'),\n",
       "  ('ANDO Miki', 'ONO Tamami'),\n",
       "  ('ANDO Miki', 'Amy LIN'),\n",
       "  ('KIM Yong Suk', 'KIM Na-Yug'),\n",
       "  ('KIM Yong Suk', 'KIM Yuna'),\n",
       "  ('GLEBOVA Elena', 'LEONOVA Alena'),\n",
       "  ('Arina MARTINOVA', 'Sabina MARIUTA'),\n",
       "  ('Yu-Na KIM', 'Na-Young KIM'),\n",
       "  ('Yu-Na KIM', 'Yuna KIM'),\n",
       "  ('Yu-Na KIM', 'Dasa GRM'),\n",
       "  ('Yu-Na KIM', 'Riona KATO'),\n",
       "  ('Yu-Na KIM', 'Yuka NAGAI'),\n",
       "  ('Yu-Na KIM', 'Na Hyun KIM'),\n",
       "  ('Yu-Na KIM', 'Nahyun KIM'),\n",
       "  ('Aki SAWADA', 'Ami PAREKH'),\n",
       "  ('Aki SAWADA', 'Nana TAKEDA'),\n",
       "  ('Aki SAWADA', 'Mai MIHARA'),\n",
       "  ('Candice DIDIER', 'Gwendoline DIDIER'),\n",
       "  ('Jenna McCORKELL', 'Jenna MCCORKELL'),\n",
       "  ('Alexandra IEVLEVA', 'Alexandra KUNOVA'),\n",
       "  ('Tamar KATZ', 'Tina WANG'),\n",
       "  ('Tamar KATZ', 'Tamami ONO'),\n",
       "  ('Tamar KATZ', 'Riona KATO'),\n",
       "  ('Julia SHEREMET', 'Polina SHELEPEN'),\n",
       "  ('Julia SHEREMET', 'Julia SAUTER'),\n",
       "  ('Maria-Elena PAPASOTIRIOU', 'Maria PAPASOTIRIOU'),\n",
       "  ('Isabelle PIEMAN', 'Isabelle OLSSON'),\n",
       "  ('Julia TEPLIH', 'Julia SAUTER'),\n",
       "  ('Na-Young KIM', 'Yuna KIM'),\n",
       "  ('Na-Young KIM', 'Hae Jin KIM'),\n",
       "  ('Na-Young KIM', 'Tae Kyung KIM'),\n",
       "  ('Na-Young KIM', 'Na Hyun KIM'),\n",
       "  ('Na-Young KIM', 'Nahyun KIM'),\n",
       "  ('Caroline ZHANG', 'Kexin ZHANG'),\n",
       "  ('Caroline ZHANG', 'Ying ZHANG'),\n",
       "  ('Ashley WAGNER', 'Ashley CAIN'),\n",
       "  ('Nana TAKEDA', 'WANG Tina'),\n",
       "  ('Laura LEPISTO', 'Laura LEPIST\\xcc\\xd0'),\n",
       "  ('Laura LEPISTO', 'Laura LEPIST\\xc3\\x96'),\n",
       "  ('Yueren WANG', 'Tina WANG'),\n",
       "  ('Yueren WANG', 'Melinda WANG'),\n",
       "  ('Yueren WANG', 'Kexin ZHANG'),\n",
       "  ('Yueren WANG', 'Angela WANG'),\n",
       "  ('Loretta HAMUI', 'Reyna HAMUI'),\n",
       "  ('Tina WANG', 'Bingwa GENG'),\n",
       "  ('Tina WANG', 'Melinda WANG'),\n",
       "  ('Tina WANG', 'Yuna KIM'),\n",
       "  ('Tina WANG', 'Ira VANNUT'),\n",
       "  ('Tina WANG', 'Kexin ZHANG'),\n",
       "  ('Tina WANG', 'Ying ZHANG'),\n",
       "  ('Tina WANG', 'Sila SAYGI'),\n",
       "  ('Tina WANG', 'KIM Yuna'),\n",
       "  ('Tina WANG', 'Rika HONGO'),\n",
       "  ('Tina WANG', 'Angela WANG'),\n",
       "  ('Tina WANG', 'Riona KATO'),\n",
       "  ('Tamami ONO', 'ASADA Mao'),\n",
       "  ('Tamami ONO', 'Miyabi OBA'),\n",
       "  ('Mirai NAGASU', 'Yuka NAGAI'),\n",
       "  ('Alena LEONOVA', 'Alina FJODOROVA'),\n",
       "  ('Alena LEONOVA', 'Elena RADIONOVA'),\n",
       "  ('Laura LEPIST\\xcc\\xd0', 'Laura LEPIST\\xc3\\x96'),\n",
       "  ('Kerstin FRANK', 'Kexin ZHANG'),\n",
       "  ('Nicole GRAF', 'Nicole SCHOTT'),\n",
       "  ('Zanna PUGACA', 'Sonja MUGOSA'),\n",
       "  ('KIM Yu-Na', 'KIM Hye-Jug'),\n",
       "  ('KIM Yu-Na', 'KIM Na-Yug'),\n",
       "  ('KIM Yu-Na', 'KIM Yuna'),\n",
       "  ('KIM Yu-Na', 'KIM Haejin'),\n",
       "  ('ASADA Mao', 'Haruka IMAI'),\n",
       "  ('ASADA Mao', 'Dasa GRM'),\n",
       "  ('ASADA Mao', 'Riona KATO'),\n",
       "  ('ASADA Mao', 'Giada RUSSO'),\n",
       "  ('ZHANG Caroline', 'ZHANG Kexin'),\n",
       "  ('KIM Hye-Jug', 'KIM Na-Yug'),\n",
       "  ('KIM Hye-Jug', 'KWAK Mi-Jug'),\n",
       "  ('KIM Hye-Jug', 'KIM Yuna'),\n",
       "  ('KIM Hye-Jug', 'KIM Haejin'),\n",
       "  ('XU Binshu', 'Da Bin CHOI'),\n",
       "  ('KIM Na-Yug', 'KWAK Mi-Jug'),\n",
       "  ('KIM Na-Yug', 'KIM Yuna'),\n",
       "  ('KIM Na-Yug', 'KIM Haejin'),\n",
       "  ('WANG Tina', 'WANG Yueren'),\n",
       "  ('WANG Tina', 'WANG Melinda'),\n",
       "  ('WANG Tina', 'Yuna KIM'),\n",
       "  ('WANG Tina', 'KIM Yuna'),\n",
       "  ('WANG Tina', 'ZHANG Kexin'),\n",
       "  ('WANG Tina', 'Amy LIN'),\n",
       "  ('WANG Yueren', 'WANG Melinda'),\n",
       "  ('WANG Yueren', 'ZHANG Kexin'),\n",
       "  ('WANG Melinda', 'ZHANG Kexin'),\n",
       "  ('Alexe GILLES', 'Alice GARLISI'),\n",
       "  ('Bingwa GENG', 'Ying ZHANG'),\n",
       "  ('Bingwa GENG', 'Angela WANG'),\n",
       "  ('Sarah HECKEN', 'Karen CHEN'),\n",
       "  ('Martina BOCEK', 'Marina SEEH'),\n",
       "  ('Sabina PAQUIER', 'Sabina MARIUTA'),\n",
       "  ('Marina SEEH', 'Karen CHEN'),\n",
       "  ('Marina SEEH', 'Mariah BELL'),\n",
       "  ('Haruka IMAI', 'Yuka NAGAI'),\n",
       "  ('Min-Jung KWAK', 'Min-Jeong KWAK'),\n",
       "  ('Melinda WANG', 'Melanie SWANG'),\n",
       "  ('Melinda WANG', 'Kexin ZHANG'),\n",
       "  ('Melinda WANG', 'Angela WANG'),\n",
       "  ('Lauren KO', 'Xiaowen GUO'),\n",
       "  ('Lauren KO', 'Karen CHEN'),\n",
       "  ('Lauren KO', 'Nahyun KIM'),\n",
       "  ('Lauren KO', 'Shuran YU'),\n",
       "  ('NAGASU Mirai', 'Natasha MCKAY'),\n",
       "  ('Qiuying ZHU', 'Ying ZHANG'),\n",
       "  ('Yuna KIM', 'Dasa GRM'),\n",
       "  ('Yuna KIM', 'Zijun LI'),\n",
       "  ('Yuna KIM', 'Tae Kyung KIM'),\n",
       "  ('Yuna KIM', 'Riona KATO'),\n",
       "  ('Yuna KIM', 'Yuka NAGAI'),\n",
       "  ('Yuna KIM', 'Na Hyun KIM'),\n",
       "  ('Yuna KIM', 'Amy LIN'),\n",
       "  ('Yuna KIM', 'Nahyun KIM'),\n",
       "  ('Dasa GRM', 'Amy LIN'),\n",
       "  ('Gerli LIINAM\\xc3\\x84E', 'Gerli LIINAM\\xcc\\xe3E'),\n",
       "  ('Reyna HAMUI', 'Riona KATO'),\n",
       "  ('Elizaveta TUKTAMISHEVA', 'Elizaveta TUKTAMYSHEVA'),\n",
       "  ('Kexin ZHANG', 'Ying ZHANG'),\n",
       "  ('Kexin ZHANG', 'Karen CHEN'),\n",
       "  ('Kexin ZHANG', 'Lu ZHENG'),\n",
       "  ('Zara PASFIELD', 'Katie PASFIELD'),\n",
       "  ('Zijun LI', 'Ziquan ZHAO'),\n",
       "  ('Zijun LI', 'Amy LIN'),\n",
       "  ('Zijun LI', 'Nahyun KIM'),\n",
       "  ('Ying ZHANG', 'Rika HONGO'),\n",
       "  ('Ying ZHANG', 'Lu ZHENG'),\n",
       "  ('Anita MADSEN', 'Janina MAKEENKA'),\n",
       "  ('Anita MADSEN', 'Thita LAMSAM'),\n",
       "  ('Sila SAYGI', 'Rika HONGO'),\n",
       "  ('Sila SAYGI', 'Yuka NAGAI'),\n",
       "  ('Yeon Jun PARK', 'So Youn PARK'),\n",
       "  ('Satoko MIYAHARA', 'Mariko KIHARA'),\n",
       "  ('Hae Jin KIM', 'Tae Kyung KIM'),\n",
       "  ('Hae Jin KIM', 'Na Hyun KIM'),\n",
       "  ('Hae Jin KIM', 'Nahyun KIM'),\n",
       "  ('Tae Kyung KIM', 'Na Hyun KIM'),\n",
       "  ('Tae Kyung KIM', 'Nahyun KIM'),\n",
       "  ('KIM Yuna', 'LI Zijun'),\n",
       "  ('KIM Yuna', 'KIM Haejin'),\n",
       "  ('KIM Yuna', 'Amy LIN'),\n",
       "  ('LI Zijun', 'KIM Haejin'),\n",
       "  ('LI Zijun', 'Lu ZHENG'),\n",
       "  ('LI Zijun', 'Amy LIN'),\n",
       "  ('ZHANG Kexin', 'FRANK Kerstin'),\n",
       "  ('Rika HONGO', 'Riona KATO'),\n",
       "  ('Ashley CAIN', 'Amy LIN'),\n",
       "  ('Maria STAVITSKAIA', 'Maria SOTSKOVA'),\n",
       "  ('Maria ARTEMIEVA', 'Maria SOTSKOVA'),\n",
       "  ('Helery H\\xcc\\xe3LVIN', 'Helery H\\xc3\\x84LVIN'),\n",
       "  ('Karen CHEN', 'Da Bin CHOI'),\n",
       "  ('Karen CHEN', 'Dabin CHOI'),\n",
       "  ('Mariko KIHARA', 'Mai MIHARA'),\n",
       "  ('Da Bin CHOI', 'Dabin CHOI'),\n",
       "  ('Na Hyun KIM', 'Nahyun KIM'),\n",
       "  ('Na Hyun KIM', 'Suh Hyun SON'),\n",
       "  ('Amy LIN', 'Nahyun KIM')],\n",
       " {'ALLELY Megan': 'Megan ALLELY',\n",
       "  'ANDO Miki': 'Miki ANDO',\n",
       "  'ARAKAWA Shizuka': 'Shizuka ARAKAWA',\n",
       "  'ASADA Mao': 'Mai ASADA',\n",
       "  'BALDO Alessia': 'Alessia BALDO',\n",
       "  'CANTU Michele': 'Michele CANTU',\n",
       "  'CARTER Joanne': 'Joanne CARTER',\n",
       "  'COHEN Sasha': 'Sasha COHEN',\n",
       "  'CZISNY Alissa': 'Alissa CZISNY',\n",
       "  'DALEMAN Gabrielle': 'Gabrielle DALEMAN',\n",
       "  'EDMUNDS Polina': 'Polina EDMUNDS',\n",
       "  'EFREMENKO Galina': 'Galina EFREMENKO',\n",
       "  'FLATT Rachael': 'Rachael FLATT',\n",
       "  'FRANK Kerstin': 'Kerstin FRANK',\n",
       "  'GEDEVANISHVILI Elene': 'Elene GEDEVANISHVILI',\n",
       "  'GIMAZETDINOVA Anastasia': 'Anastasia GIMAZETDINOVA',\n",
       "  'GLEBOVA Elena': 'Elena GLEBOVA',\n",
       "  'GOLD Gracie': 'Gracie GOLD',\n",
       "  'HAMUI Loretta': 'Loretta HAMUI',\n",
       "  'HAN Brooklee': 'Brooklee HAN',\n",
       "  'HECKEN Sarah': 'Sarah HECKEN',\n",
       "  'HEGEL Idora': 'Idora HEGEL',\n",
       "  'HELGESSON Viktoria': 'Viktoria HELGESSON',\n",
       "  'HUGHES Emily': 'Emily HUGHES',\n",
       "  'JURKIEWICZ Anna': 'Anna JURKIEWICZ',\n",
       "  'KARADEMIR Tugba': 'Tugba KARADEMIR',\n",
       "  'KIANG Crystal': 'Crystal KIANG',\n",
       "  'KIM Na-Yug': 'Nahyun KIM',\n",
       "  'KIM Yu-Na': 'Yuna KIM',\n",
       "  'KIM Yuna': 'Yuna KIM',\n",
       "  'KORPI Kiira': 'Kiira KORPI',\n",
       "  'KOSTNER Carolina': 'Carolina KOSTNER',\n",
       "  'KWAK Mi-Jug': 'Min-Jung KWAK',\n",
       "  'LACOSTE Amelie': 'Amelie LACOSTE',\n",
       "  'LAFUENTE Sonia': 'Sonia LAFUENTE',\n",
       "  'LEE Cheltzie': 'Cheltzie LEE',\n",
       "  'LEONOVA Alena': 'Alena LEONOVA',\n",
       "  'LEPISTO Laura': 'Laura LEPIST\\xc3\\x96',\n",
       "  'LEUNG Mira': 'Mira LEUNG',\n",
       "  'LI Zijun': 'Zijun LI',\n",
       "  'LIASHENKO Elena': 'Elena LIASHENKO',\n",
       "  'LIPNITSKAYA Yulia': 'Julia LIPNITSKAIA',\n",
       "  'LIU Chaochih': 'Chaochih LIU',\n",
       "  'LIU Yan': 'Yuna KIM',\n",
       "  'LUCA Roxana': 'Roxana LUCA',\n",
       "  'MAKAROVA Ksenia': 'Ksenia MAKAROVA',\n",
       "  'MARAIS Lejeanne': 'Lejeanne MARAIS',\n",
       "  'MARCHEI Valentina': 'Valentina MARCHEI',\n",
       "  'MAXWELL Fleur': 'Fleur MAXWELL',\n",
       "  'MEIER Sarah': 'Sarah MEIER',\n",
       "  'MEISSNER Kimmie': 'Kimmie MEISSNER',\n",
       "  'MURAKAMI Kanako': 'Kanako MURAKAMI',\n",
       "  'McCORKELL Jenna': 'Jenna MCCORKELL',\n",
       "  'NAGASU Mirai': 'Mirai NAGASU',\n",
       "  'ONO Tamami': 'Tamami ONO',\n",
       "  'OSMOND Kaetlyn': 'Kaetlyn OSMOND',\n",
       "  'PAVUK Viktoria': 'Viktoria PAVUK',\n",
       "  'PERFETTI Stacy': 'Stacy PERFETTI',\n",
       "  'PHANEUF Cynthia': 'Cynthia PHANEUF',\n",
       "  'PIEMAN Isabelle': 'Isabelle PIEMAN',\n",
       "  'PIETERSEN Abigail': 'Abigail PIETERSEN',\n",
       "  'POPOVA Natalia': 'Natalia POPOVA',\n",
       "  'POSTIC Teodora': 'Teodora POSTIC',\n",
       "  'POYKIO Susanna': 'Susanna POYKIO',\n",
       "  'RAJICOVA Nicole': 'Nicole RAJICOVA',\n",
       "  'REITMAYEROVA Ivana': 'Ivana REITMAYEROVA',\n",
       "  'ROCHETTE Joannie': 'Joannie ROCHETTE',\n",
       "  'SEBESTYEN Julia': 'Julia SEBESTYEN',\n",
       "  'SLUTSKAYA Irina': 'Irina SLUTSKAYA',\n",
       "  'SOKOLOVA Elena': 'Elena SOKOLOVA',\n",
       "  'SOTNIKOVA Adelina': 'Adelina SOTNIKOVA',\n",
       "  'SUGURI Fumie': 'Fumie SUGURI',\n",
       "  'SUZUKI Akiko': 'Akiko SUZUKI',\n",
       "  'TANSOMBOON Charissa': 'Charissa TANSOMBOON',\n",
       "  'WAGNER Ashley': 'Ashley WAGNER',\n",
       "  'WANG Melinda': 'Melinda WANG',\n",
       "  'WANG Tina': 'Ying ZHANG',\n",
       "  'WANG Yueren': 'Yueren WANG',\n",
       "  'WEINZIERL Nathalie': 'Nathalie WEINZIERL',\n",
       "  'WILLIAMS Isadora': 'Isadora WILLIAMS',\n",
       "  'XU Binshu': 'Binshu XU',\n",
       "  'ZHANG Caroline': 'Caroline ZHANG',\n",
       "  'ZHANG Kexin': 'Kexin ZHANG',\n",
       "  'ZIEGLER Miriam': 'Miriam ZIEGLER'})"
      ]
     },
     "execution_count": 117,
     "metadata": {},
     "output_type": "execute_result"
    }
   ],
   "source": [
    "get_similar_names(pd.concat(ladies)['Name'].unique())"
   ]
  },
  {
   "cell_type": "code",
   "execution_count": null,
   "metadata": {
    "collapsed": true
   },
   "outputs": [],
   "source": []
  }
 ],
 "metadata": {
  "kernelspec": {
   "display_name": "Python 2",
   "language": "python",
   "name": "python2"
  },
  "language_info": {
   "codemirror_mode": {
    "name": "ipython",
    "version": 2
   },
   "file_extension": ".py",
   "mimetype": "text/x-python",
   "name": "python",
   "nbconvert_exporter": "python",
   "pygments_lexer": "ipython2",
   "version": "2.7.13"
  }
 },
 "nbformat": 4,
 "nbformat_minor": 2
}
