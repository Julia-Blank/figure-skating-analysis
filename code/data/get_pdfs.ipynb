{
 "cells": [
  {
   "cell_type": "code",
   "execution_count": 2,
   "metadata": {
    "collapsed": false
   },
   "outputs": [
    {
     "name": "stdout",
     "output_type": "stream",
     "text": [
      "ISU GP 2015 Progressive Skate America\n",
      "ISU GP Skate Canada International 2015\n",
      "ISU GP Audi Cup of China 2015\n",
      "ISU GP Rostelecom Cup 2015\n",
      "GP France 2015 was cancelled partway through.\n",
      "ISU GP NHK Trophy 2015\n",
      "ISU Grand Prix of Figure Skating Final\n",
      "ISU European Figure Skating Championships 2016\n",
      "ISU Four Continents Figure Skating Championships\n",
      "ISU World Figure Skating Championships 2016\n"
     ]
    }
   ],
   "source": [
    "# seas1415 = Season ('2015')\n",
    "seas1516 = Season('2016')\n",
    "# for seas in (seas1516):\n",
    "for event in seas1516.events:\n",
    "    if event.name == 'gpfra2015':\n",
    "        print 'GP France 2015 was cancelled partway through.'\n",
    "        continue\n",
    "    event.get_event_info()"
   ]
  },
  {
   "cell_type": "code",
   "execution_count": 3,
   "metadata": {
    "collapsed": false
   },
   "outputs": [],
   "source": [
    "nhk15 = seas1516.events[5]\n",
    "nhk15_men = nhk15.disciplines[0]\n",
    "nhk15_men_short = seas1516.events[5].disciplines[0].segments[0]\n",
    "nhk15_men_short.parse_raw_csv()"
   ]
  },
  {
   "cell_type": "code",
   "execution_count": 4,
   "metadata": {
    "collapsed": false
   },
   "outputs": [
    {
     "name": "stdout",
     "output_type": "stream",
     "text": [
      "Skater(name='Yuzuru HANYU', country='JPN', discipline=<DisciplineType.men: 0>) 1 start: 12\n",
      "TES: 59.44, PCS: 46.89, Total: 106.33\n",
      "Deductions: {}\n",
      "Element(number=1, name='4S', info='', base_value=10.5, bonus=True, goe=1.0, goes=[1, 2, 1, 1, 1, 2, 0, 0, 1], points=11.5)\n",
      "Element(number=2, name='4T+3T', info='', base_value=14.6, bonus=True, goe=2.57, goes=[2, 3, 2, 3, 3, 3, 2, 2, 3], points=17.17)\n",
      "Element(number=3, name='FCSp4', info='', base_value=3.2, bonus=True, goe=1.07, goes=[2, 3, 2, 2, 3, 2, 2, 2, 2], points=4.27)\n",
      "Element(number=4, name='3A', info='', base_value=9.35, bonus=True, goe=2.43, goes=[2, 3, 2, 2, 3, 3, 3, 2, 2], points=11.78)\n",
      "Element(number=5, name='CSSp4', info='', base_value=3.0, bonus=True, goe=1.21, goes=[3, 2, 3, 2, 3, 2, 3, 2, 2], points=4.21)\n",
      "Element(number=6, name='StSq4', info='', base_value=3.9, bonus=True, goe=1.9, goes=[3, 3, 2, 3, 3, 3, 2, 3, 2], points=5.8)\n",
      "Element(number=7, name='CCoSp3p4', info='', base_value=3.5, bonus=True, goe=1.21, goes=[3, 2, 3, 2, 3, 3, 2, 2, 2], points=4.71)\n",
      "ProgramComponent(name='Skating Skills', factor=1.0, scores=[9.5, 9.5, 9.25, 9.25, 9.5, 9.5, 9.5, 8.75, 9.25], points=9.39)\n",
      "ProgramComponent(name='Transition / Linking Footwork', factor=1.0, scores=[9.5, 9.0, 8.75, 9.25, 9.5, 9.5, 9.25, 8.5, 9.0], points=9.18)\n",
      "ProgramComponent(name='Performance / Execution', factor=1.0, scores=[9.5, 9.75, 9.0, 9.5, 10.0, 9.75, 9.5, 8.75, 9.5], points=9.5)\n",
      "ProgramComponent(name='Choreography / Composition', factor=1.0, scores=[9.5, 9.5, 9.0, 9.5, 10.0, 9.75, 9.25, 9.0, 9.25], points=9.39)\n",
      "ProgramComponent(name='Interpretation', factor=1.0, scores=[9.75, 9.25, 9.0, 9.25, 10.0, 9.75, 9.5, 9.0, 9.5], points=9.43)\n"
     ]
    }
   ],
   "source": [
    "yuzu = nhk15_men_short.scorecards[0]\n",
    "# yuzu.print_scorecard()\n",
    "kovtun = nhk15_men_short.scorecards[3]\n",
    "yuzu.print_scorecard()"
   ]
  },
  {
   "cell_type": "code",
   "execution_count": 1,
   "metadata": {
    "collapsed": true
   },
   "outputs": [],
   "source": [
    "import requests\n",
    "\n",
    "from model.Discipline import Discipline, DisciplineType\n",
    "from model.Segment import SegmentType\n",
    "from model.Season import Season"
   ]
  },
  {
   "cell_type": "code",
   "execution_count": 2,
   "metadata": {
    "collapsed": true
   },
   "outputs": [],
   "source": [
    "sochi = Season('2014')"
   ]
  },
  {
   "cell_type": "code",
   "execution_count": 3,
   "metadata": {
    "collapsed": false
   },
   "outputs": [
    {
     "ename": "NameError",
     "evalue": "global name 'url' is not defined",
     "output_type": "error",
     "traceback": [
      "\u001b[0;31m---------------------------------------------------------------------------\u001b[0m",
      "\u001b[0;31mNameError\u001b[0m                                 Traceback (most recent call last)",
      "\u001b[0;32m<ipython-input-3-b697e1fdf799>\u001b[0m in \u001b[0;36m<module>\u001b[0;34m()\u001b[0m\n\u001b[1;32m      1\u001b[0m \u001b[0musa\u001b[0m \u001b[0;34m=\u001b[0m \u001b[0msochi\u001b[0m\u001b[0;34m.\u001b[0m\u001b[0mevents\u001b[0m\u001b[0;34m[\u001b[0m\u001b[0;36m0\u001b[0m\u001b[0;34m]\u001b[0m\u001b[0;34m\u001b[0m\u001b[0m\n\u001b[0;32m----> 2\u001b[0;31m \u001b[0musa\u001b[0m\u001b[0;34m.\u001b[0m\u001b[0mget_event_info\u001b[0m\u001b[0;34m(\u001b[0m\u001b[0;34m)\u001b[0m\u001b[0;34m\u001b[0m\u001b[0m\n\u001b[0m",
      "\u001b[0;32m/Users/mengyazhu96/Dropbox/thesis/code/data/model/Event.py\u001b[0m in \u001b[0;36mget_event_info\u001b[0;34m(self, fetch_files)\u001b[0m\n\u001b[1;32m     44\u001b[0m                     \u001b[0;32mbreak\u001b[0m\u001b[0;34m\u001b[0m\u001b[0m\n\u001b[1;32m     45\u001b[0m                 \u001b[0;32melif\u001b[0m \u001b[0;34m'Entries'\u001b[0m \u001b[0;32min\u001b[0m \u001b[0mlink\u001b[0m\u001b[0;34m.\u001b[0m\u001b[0mtext\u001b[0m\u001b[0;34m:\u001b[0m\u001b[0;34m\u001b[0m\u001b[0m\n\u001b[0;32m---> 46\u001b[0;31m                     \u001b[0mdiscipline\u001b[0m\u001b[0;34m.\u001b[0m\u001b[0mentries_url\u001b[0m \u001b[0;34m=\u001b[0m \u001b[0murl\u001b[0m \u001b[0;34m+\u001b[0m \u001b[0mhref\u001b[0m\u001b[0;34m\u001b[0m\u001b[0m\n\u001b[0m\u001b[1;32m     47\u001b[0m                 \u001b[0;32melif\u001b[0m \u001b[0;34m'Result'\u001b[0m \u001b[0;32min\u001b[0m \u001b[0mlink\u001b[0m\u001b[0;34m.\u001b[0m\u001b[0mtext\u001b[0m\u001b[0;34m:\u001b[0m\u001b[0;34m\u001b[0m\u001b[0m\n\u001b[1;32m     48\u001b[0m                     \u001b[0mdiscipline\u001b[0m\u001b[0;34m.\u001b[0m\u001b[0mresults_url\u001b[0m \u001b[0;34m=\u001b[0m \u001b[0murl\u001b[0m \u001b[0;34m+\u001b[0m \u001b[0mhref\u001b[0m\u001b[0;34m\u001b[0m\u001b[0m\n",
      "\u001b[0;31mNameError\u001b[0m: global name 'url' is not defined"
     ]
    }
   ],
   "source": [
    "usa = sochi.events[0]\n",
    "usa.get_event_info()"
   ]
  },
  {
   "cell_type": "code",
   "execution_count": 4,
   "metadata": {
    "collapsed": false
   },
   "outputs": [],
   "source": [
    "page = requests.get(sochi.events[0].url)"
   ]
  },
  {
   "cell_type": "code",
   "execution_count": 5,
   "metadata": {
    "collapsed": false
   },
   "outputs": [],
   "source": [
    "url = sochi.events[0].url"
   ]
  }
 ],
 "metadata": {
  "kernelspec": {
   "display_name": "Python 2",
   "language": "python",
   "name": "python2"
  },
  "language_info": {
   "codemirror_mode": {
    "name": "ipython",
    "version": 2
   },
   "file_extension": ".py",
   "mimetype": "text/x-python",
   "name": "python",
   "nbconvert_exporter": "python",
   "pygments_lexer": "ipython2",
   "version": "2.7.13"
  }
 },
 "nbformat": 4,
 "nbformat_minor": 2
}
