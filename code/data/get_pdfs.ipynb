{
 "cells": [
  {
   "cell_type": "code",
   "execution_count": 76,
   "metadata": {
    "collapsed": true
   },
   "outputs": [],
   "source": [
    "from collections import namedtuple\n",
    "import csv\n",
    "from enum import Enum\n",
    "from lxml import html, etree\n",
    "import os\n",
    "import re\n",
    "import requests\n",
    "import subprocess"
   ]
  },
  {
   "cell_type": "code",
   "execution_count": 55,
   "metadata": {
    "collapsed": true
   },
   "outputs": [],
   "source": [
    "tabula_path = 'tabula-1.0.1-jar-with-dependencies.jar'"
   ]
  },
  {
   "cell_type": "code",
   "execution_count": 5,
   "metadata": {
    "collapsed": false
   },
   "outputs": [],
   "source": [
    "class DisciplineType(Enum):\n",
    "    men = 0\n",
    "    ladies = 1\n",
    "    pairs = 2\n",
    "    ice_dance = 3"
   ]
  },
  {
   "cell_type": "code",
   "execution_count": 6,
   "metadata": {
    "collapsed": true
   },
   "outputs": [],
   "source": [
    "class SegmentType(Enum):\n",
    "    short = 0\n",
    "    free = 1\n",
    "    original_dance = 2"
   ]
  },
  {
   "cell_type": "code",
   "execution_count": 7,
   "metadata": {
    "collapsed": true
   },
   "outputs": [],
   "source": [
    "Judge = namedtuple('Judge', ['name', 'country'])"
   ]
  },
  {
   "cell_type": "code",
   "execution_count": 97,
   "metadata": {
    "collapsed": true
   },
   "outputs": [],
   "source": [
    "def get_fpath(season, event, fname):\n",
    "    return season.year + '/' + event.name + '/' + fname"
   ]
  },
  {
   "cell_type": "code",
   "execution_count": 98,
   "metadata": {
    "collapsed": true
   },
   "outputs": [],
   "source": [
    "def get_page(url, season, event, fname):\n",
    "    target_dir = season.year + '/' + event.name + '/'\n",
    "    if not os.path.isdir(target_dir):\n",
    "        os.makedirs(target_dir)\n",
    "    page = requests.get(url)\n",
    "    with open(target_dir + fname, 'w+') as f:\n",
    "        f.write(page.content)"
   ]
  },
  {
   "cell_type": "code",
   "execution_count": 99,
   "metadata": {
    "collapsed": false
   },
   "outputs": [],
   "source": [
    "class JudgePanel:\n",
    "    def __init__(self, url, season, event, discipline, segment):\n",
    "        self.url = url\n",
    "        self.season = season\n",
    "        self.event = event\n",
    "        self.discipline = discipline\n",
    "        self.segment = segment\n",
    "        self.fname = segment.name + '_panel.html'\n",
    "        \n",
    "    def get_page(self):\n",
    "        get_page(self.url, self.season, self.event, self.fname)\n",
    "        \n",
    "# ['referee', 'technical_controller', 'technical_specialist', 'asst_technical_specialist',\n",
    "#                          'judges', 'num_judges', 'data_operator', 'replay_operator',\n",
    "#                          'file_name', 'url'])  # where this panel info came from"
   ]
  },
  {
   "cell_type": "code",
   "execution_count": 100,
   "metadata": {
    "collapsed": true
   },
   "outputs": [],
   "source": [
    "Skater = namedtuple('Skater', ['name', 'country', 'discipline'])"
   ]
  },
  {
   "cell_type": "code",
   "execution_count": 165,
   "metadata": {
    "collapsed": true
   },
   "outputs": [],
   "source": [
    "Element = namedtuple('Element', ['number',       # order in program\n",
    "                                 'name',         # e.g. 3A\n",
    "                                 'info',         # e.g. UR\n",
    "                                 'base_value',   # float\n",
    "                                 'bonus',\n",
    "                                 'goe',          # aggregated over judges\n",
    "                                 'goes',         # list of individual judge GOEs (-3 to 3)\n",
    "                                 'points'])      # total points for element"
   ]
  },
  {
   "cell_type": "code",
   "execution_count": 102,
   "metadata": {
    "collapsed": true
   },
   "outputs": [],
   "source": [
    "ProgramComponent = namedtuple('ProgramComponent', ['name', 'factor', 'scores'])"
   ]
  },
  {
   "cell_type": "code",
   "execution_count": 119,
   "metadata": {
    "collapsed": false
   },
   "outputs": [],
   "source": [
    "class Segment:\n",
    "    def __init__(self, url, season, event, discipline, segment):\n",
    "        self.url = url  # url to scores\n",
    "        self.season = season\n",
    "        self.event = event\n",
    "        self.discipline = discipline\n",
    "        self.type = segment\n",
    "        self.name = discipline.name + '_' + segment.name\n",
    "        \n",
    "        self.fname = discipline.name + '_' + segment.name\n",
    "        self.pdf_fname = self.fname + '.pdf'\n",
    "        self.csv_fname = self.fname + '.csv'\n",
    "        self.fpath = get_fpath(season, event, self.pdf_fname)\n",
    "        self.csv_path = get_fpath(season, event, self.csv_fname)\n",
    "#         self.scorecards\n",
    "        self.panel = None\n",
    "\n",
    "    def __repr__(self):\n",
    "        return self.event.name + ' ' + self.name\n",
    "\n",
    "    def get_page(self):\n",
    "        get_page(self.url, self.season, self.event, self.pdf_fname)\n",
    "    \n",
    "    def print_csv(self):\n",
    "        with open(self.csv_path, 'rb') as f:\n",
    "            reader = csv.reader(f)\n",
    "            for row in reader:\n",
    "                print ' '.join(row)"
   ]
  },
  {
   "cell_type": "code",
   "execution_count": 188,
   "metadata": {
    "collapsed": false
   },
   "outputs": [],
   "source": [
    "points = '(\\d\\d?\\d?.\\d\\d)'\n",
    "skater_re = re.compile('(\\d+)\\s*' +        # rank\n",
    "                       '(\\D+ \\D+)\\s*' +    # skater name\n",
    "                       '([A-Z][A-Z][A-Z])\\s*' +  # country\n",
    "                       '(\\d+)\\s*' +        # starting number\n",
    "                       points + '\\s*' +    # total score\n",
    "                       points + '\\s*' +    # tes\n",
    "                       points + '\\s*' +    # pcs\n",
    "                       '(-?\\d.\\d\\d)')      # deductions\n",
    "elt_re = re.compile('(\\d)\\s*' +         # element order\n",
    "                    '(\\S+)\\s*' +        # element name\n",
    "                    '(\\D*)\\s*' +        # info (i.e. UR)\n",
    "                    points + '\\s*' +    # base value\n",
    "                    '(x?)\\s*' +         # bonus marker\n",
    "                    '(-?\\d.\\d\\d)\\s*' +  # goe\n",
    "                    '((?:-?\\d\\s*)+|-)\\s+' +  # goes\n",
    "                    '(\\d?\\d.\\d\\d)')     # element score\n",
    "tes_re = re.compile('^' + points + '\\s*' +    # total base value\n",
    "                    points + '\\s*$')     # total tes"
   ]
  },
  {
   "cell_type": "code",
   "execution_count": 169,
   "metadata": {
    "collapsed": false
   },
   "outputs": [],
   "source": [
    "nhk15 = seas1516.events[5]\n",
    "nhk15_men = nhk15.disciplines[0]\n",
    "nhk15_men_short = seas1516.events[5].disciplines[0].segments[0]"
   ]
  },
  {
   "cell_type": "code",
   "execution_count": 177,
   "metadata": {
    "collapsed": false
   },
   "outputs": [],
   "source": [
    "rows = rows"
   ]
  },
  {
   "cell_type": "code",
   "execution_count": 189,
   "metadata": {
    "collapsed": false
   },
   "outputs": [
    {
     "name": "stdout",
     "output_type": "stream",
     "text": [
      "ISU GP NHK Trophy 2015\n",
      "MEN SHORT PROGRAMJUDGES DETAILS PER SKATER\n",
      "Starting Total Total  Total Total\n",
      "Rank Name Nation Number Segment Element  Program  Component Deductions\n",
      "Score Score  Score (factored)\n",
      "# Executed Base GOE The Judges Panel   Ref Scores\n",
      "Elements Value (in random order)   of Panel\n",
      "1 4S  10.50  1.00 1 2 1 1 1 2 0  0 1 11.50\n",
      "['1', '4S', '', '10.50', '', '1.00', '1 2 1 1 1 2 0  0 1', '11.50']\n",
      "2 4T+3T  14.60  2.57 2 3 2 3 3 3 2  2 3 17.17\n",
      "['2', '4T+3T', '', '14.60', '', '2.57', '2 3 2 3 3 3 2  2 3', '17.17']\n",
      "3 FCSp4  3.20  1.07 2 3 2 2 3 2 2  2 2 4.27\n",
      "['3', 'FCSp4', '', '3.20', '', '1.07', '2 3 2 2 3 2 2  2 2', '4.27']\n",
      "4 3A  9.35 x  2.43 2 3 2 2 3 3 3  2 2 11.78\n",
      "['4', '3A', '', '9.35', 'x', '2.43', '2 3 2 2 3 3 3  2 2', '11.78']\n",
      "Info   Info  Info\n",
      "5 CSSp4  3.00  1.21 3 2 3 2 3 2 3  2 2 4.21\n",
      "['5', 'CSSp4', '', '3.00', '', '1.21', '3 2 3 2 3 2 3  2 2', '4.21']\n",
      "6 StSq4  3.90  1.90 3 3 2 3 3 3 2  3 2 5.80\n",
      "['6', 'StSq4', '', '3.90', '', '1.90', '3 3 2 3 3 3 2  3 2', '5.80']\n",
      "7 CCoSp3p4  3.50  1.21 3 2 3 2 3 3 2  2 2 4.71\n",
      "['7', 'CCoSp3p4', '', '3.50', '', '1.21', '3 2 3 2 3 3 2  2 2', '4.71']\n",
      "48.05    59.44\n",
      "48.05 59.44\n",
      "Program Components Factor\n",
      "Skating Skills  1.00 9.50 9.50 9.25 9.25 9.50 9.50 9.50  8.75 9.25 9.39\n",
      "Transition / Linking Footwork  1.00 9.50 9.00 8.75 9.25 9.50 9.50 9.25  8.50 9.00 9.18\n",
      "Performance / Execution  1.00 9.50 9.75 9.00 9.50 10.00 9.75 9.50  8.75 9.50 9.50\n",
      "Choreography / Composition  1.00 9.50 9.50 9.00 9.50 10.00 9.75 9.25  9.00 9.25 9.39\n",
      "Interpretation  1.00 9.75 9.25 9.00 9.25 10.00 9.75 9.50  9.00 9.50 9.43\n",
      "Judges Total Program Component Score (factored)    46.89\n",
      "Deductions:    0.00\n",
      "x  Credit for highlight distribution, base value multiplied by 1.1\n",
      "Starting Total Total  Total Total\n",
      "Rank Name Nation Number Segment Element  Program  Component Deductions\n",
      "Score Score  Score (factored)\n"
     ]
    }
   ],
   "source": [
    "skater = None\n",
    "scorecard = None\n",
    "for line in rows:\n",
    "    line = line.strip()\n",
    "    \n",
    "    skater_match = skater_re.match(line)\n",
    "    if skater_match and skater:\n",
    "        break  # just look at the first skater for now\n",
    "    if skater_match:\n",
    "        skater_info = {}\n",
    "        \n",
    "        for i, info in enumerate(('rank', 'name', 'country', 'starting_number', 'total_score', 'tes', 'pcs', 'deductions')):\n",
    "            skater_info[info] = skater_match.group(i + 1)\n",
    "        skater = Skater(skater_info['name'], skater_info['country'], 'men')\n",
    "        scorecard = Scorecard(nhk15_men_short.url, seas1516, nhk15, nhk15_men, nhk15_men_short, skater,\n",
    "                              skater_info['rank'], skater_info['starting_number'],\n",
    "                              skater_info['total_score'], skater_info['tes'], skater_info['pcs'], skater_info['deductions'])\n",
    "        continue\n",
    "        \n",
    "    elt_match = elt_re.match(line)\n",
    "    print line\n",
    "    if elt_match:\n",
    "        elt_info = []\n",
    "        for i, info in enumerate(('elt_number', 'name', 'info', 'base_value', 'bonus', 'goe', 'goes', 'elt_score')):\n",
    "            elt_info.append(elt_match.group(i+1))\n",
    "        print elt_info\n",
    "        elt = Element._make(elt_info)\n",
    "        scorecard.elements.append(elt)\n",
    "    \n",
    "    if scorecard and scorecard.elements and tes_re.match(line):\n",
    "        scorecard.aggregate_elements()\n",
    "        match = tes_re.match(line)\n",
    "#         assert float(match.group(1)) == \n",
    "#         assert float(match.group(2))\n",
    "\n",
    "#     if 'Program' in line and 'Components' in line:\n",
    "#         collect_pcs = True\n",
    "#     if scorecard and len(scorecard.)"
   ]
  },
  {
   "cell_type": "code",
   "execution_count": 185,
   "metadata": {
    "collapsed": false
   },
   "outputs": [
    {
     "name": "stdout",
     "output_type": "stream",
     "text": [
      "59.44\n"
     ]
    }
   ],
   "source": [
    "scorecard.elements"
   ]
  },
  {
   "cell_type": "code",
   "execution_count": 140,
   "metadata": {
    "collapsed": false
   },
   "outputs": [],
   "source": [
    "class Scorecard:\n",
    "    def __init__(self, url, season, event, discipline, segment, skater,\n",
    "                 rank, starting_number, total_score, tes, pcs, deductions):\n",
    "        self.url = url\n",
    "        self.season = season\n",
    "        self.event = event\n",
    "        self.discipline = discipline\n",
    "        self.segment = segment\n",
    "        self.skater = skater\n",
    "        self.rank = int(rank)\n",
    "        self.starting_number = int(starting_number)\n",
    "        self.tes = float(tes)\n",
    "        self.pcs = float(pcs)\n",
    "        self.total_deductions = float(deductions)\n",
    "        \n",
    "        self.elements = []\n",
    "        self.components = []\n",
    "        self.deductions = {}\n",
    "        \n",
    "#     def add_element(self, element):\n",
    "#         self.elements.append\n",
    "#         self.deductions # maps deduction text to point value\n",
    "#         self.elements   # list of Elements\n",
    "#         self.components        # list of Program Components\n",
    "        \n",
    "#         self.page_number"
   ]
  },
  {
   "cell_type": "code",
   "execution_count": 108,
   "metadata": {
    "collapsed": true
   },
   "outputs": [],
   "source": [
    "class Discipline:\n",
    "    def __init__(self, season, event, discipline):\n",
    "        self.discipline = discipline  # of type DisciplineType\n",
    "        self.season = season\n",
    "        self.event = event\n",
    "        self.segments = []  # list of Segments\n",
    "        self.entries = []\n",
    "        self.entries_url = None\n",
    "        self.entries_fname = self.discipline.name + '_entries.html'\n",
    "        self.results = []\n",
    "        self.results_url = None\n",
    "        self.results_fname = self.discipline.name + '_results.html'\n",
    "    \n",
    "    def __repr__(self):\n",
    "        return self.event.name + ' ' + self.discipline.name\n",
    "    \n",
    "    def get_entries_results_pages(self):\n",
    "        assert self.entries_url and self.results_url\n",
    "        get_page(self.entries_url, self.season, self.event, self.entries_fname)\n",
    "        get_page(self.results_url, self.season, self.event, self.results_fname)"
   ]
  },
  {
   "cell_type": "code",
   "execution_count": 115,
   "metadata": {
    "collapsed": false
   },
   "outputs": [],
   "source": [
    "class Event:\n",
    "    def __init__(self, season, name):\n",
    "        self.name = name      # the abbreviation + year\n",
    "        self.season = season  # season object\n",
    "        self.url = season.url + name + '/'\n",
    "        self.dirpath = season.year + '/' + self.name + '/'\n",
    "    \n",
    "    def __repr__(self):\n",
    "        return self.name\n",
    "\n",
    "    def pdfs_to_csvs(self):\n",
    "        subprocess.Popen('java -jar ' + tabula_path + ' -p all -b ' + self.dirpath, shell=True)\n",
    "\n",
    "    def get_event_info(self, fetch_files=False):\n",
    "        page = requests.get(self.url)\n",
    "        try:\n",
    "            tree = html.fromstring(page.content)\n",
    "        except etree.ParserError:\n",
    "            print 'Event not found: % s' % event\n",
    "            return\n",
    "\n",
    "        if not list(tree.iter('title')):\n",
    "            print 'Event not found: % s' % event\n",
    "            return\n",
    "        else:\n",
    "            print list(tree.iter('title'))[0].text\n",
    "\n",
    "        # Drill down to the table part.\n",
    "        table = tree.getchildren()[1].getchildren()[2].getchildren()\n",
    "        elts = self._flatten_html_children(table)\n",
    "        elts = self._flatten_html_children(elts)\n",
    "        elts = self._flatten_html_children(elts)\n",
    "        elts = self._flatten_html_children(elts)\n",
    "        \n",
    "        # 12 rows of actual table: cut out header and juniors\n",
    "        rows = elts[2].getchildren()[0].getchildren()[1:13]\n",
    "\n",
    "        self.disciplines = []\n",
    "        for i, discipline_type in enumerate(list(DisciplineType)):\n",
    "            \n",
    "            discipline = Discipline(self.season, self, discipline_type)\n",
    "            \n",
    "            # Get entries and results pages.\n",
    "            entries, results = self._flatten_html_children(rows[i * 3])\n",
    "            discipline.entries_url = self.url + entries.attrib['href']\n",
    "            discipline.results_url = self.url + results.attrib['href']\n",
    "            if fetch_files:\n",
    "                discipline.get_entries_results_pages()\n",
    "            \n",
    "            # Get segment files.\n",
    "            for prog in (SegmentType.short, SegmentType.free):\n",
    "                j = prog.value\n",
    "                panel, detailed, scorecards = self._flatten_html_children(rows[i * 3 + j + 1])\n",
    "                segment = Segment(self.url + scorecards.attrib['href'], self.season, self, discipline_type, prog)\n",
    "                \n",
    "                if fetch_files:\n",
    "                    segment.get_page()\n",
    "                discipline.segments.append(segment)\n",
    "\n",
    "                panel = JudgePanel(self.url + panel.attrib['href'], self.season, self, discipline_type, segment)                \n",
    "                if fetch_files:\n",
    "                    panel.get_page()\n",
    "            self.disciplines.append(discipline)\n",
    "                \n",
    "    def _flatten_html_children(self, elts):\n",
    "        children = []\n",
    "        for elt in elts:\n",
    "            for child in elt.getchildren():\n",
    "                children.append(child)\n",
    "        return children"
   ]
  },
  {
   "cell_type": "code",
   "execution_count": 120,
   "metadata": {
    "collapsed": false
   },
   "outputs": [
    {
     "name": "stdout",
     "output_type": "stream",
     "text": [
      "ISU GP 2014 Hilton HHonors Skate America\n",
      "ISU GP Skate Canada International 2014\n",
      "ISU GP Lexus Cup of China 2014\n",
      "ISU GP Rostelecom Cup 2014\n",
      "ISU GP Trophee Eric Bompard 2014\n",
      "ISU GP NHK Trophy 2014\n",
      "ISU Grand Prix of Figure Skating Final 2014\n",
      "ISU European Figure Skating Championships 2015\n",
      "ISU Four Continents Figure Skating Championships\n",
      "ISU World Figure Skating Championships 2015\n",
      "ISU GP 2015 Progressive Skate America\n",
      "ISU GP Skate Canada International 2015\n",
      "ISU GP Audi Cup of China 2015\n",
      "ISU GP Rostelecom Cup 2015\n",
      "GP France 2015 was cancelled partway through.\n",
      "ISU GP NHK Trophy 2015\n",
      "ISU Grand Prix of Figure Skating Final\n",
      "ISU European Figure Skating Championships 2016\n",
      "ISU Four Continents Figure Skating Championships\n",
      "ISU World Figure Skating Championships 2016\n"
     ]
    }
   ],
   "source": [
    "seas1415 = Season ('2015')\n",
    "seas1516 = Season('2016')\n",
    "for seas in (seas1415, seas1516):\n",
    "    for event in seas.events:\n",
    "        if event.name == 'gpfra2015':\n",
    "            print 'GP France 2015 was cancelled partway through.'\n",
    "            continue\n",
    "        event.get_event_info()"
   ]
  },
  {
   "cell_type": "code",
   "execution_count": 73,
   "metadata": {
    "collapsed": true
   },
   "outputs": [],
   "source": [
    "class Season:\n",
    "    def __init__(self, spring_str_rep):\n",
    "        champ_year = spring_str_rep\n",
    "        gp_year = str(int(spring_str_rep) - 1)\n",
    "        two_digit_season = int(spring_str_rep[2:])\n",
    "        if two_digit_season <= 9:\n",
    "            twotwo_year = '0' + str(two_digit_season - 1) + '0' + str(two_digit_season)\n",
    "        elif two_digit_season <= 10:\n",
    "            twotwo_year = '0' + str(two_digit_season - 1) + str(two_digit_season)\n",
    "        else:\n",
    "            twotwo_year = str(two_digit_season - 1) + str(two_digit_season)\n",
    "        gpf_year = twotwo_year\n",
    "        \n",
    "        if int(spring_str_rep) % 4 == 2:\n",
    "            champs = ['ec', 'fc', 'owg', 'wc']\n",
    "        else:\n",
    "            champs = ['ec', 'fc', 'wc']\n",
    "        gps = ['usa', 'can', 'chn', 'rus', 'fra', 'jpn']\n",
    "        gps = ['gp' + gp for gp in gps]\n",
    "        \n",
    "        self.year = twotwo_year\n",
    "        \n",
    "        event_names = [gp + gp_year for gp in gps]\n",
    "        event_names.append('gpf' + twotwo_year)\n",
    "        event_names += [champ + champ_year for champ in champs]\n",
    "        \n",
    "        self.url = 'http://www.isuresults.com/results/'\n",
    "        if int(spring_str_rep) >= 2016:\n",
    "            self.url += 'season'+ twotwo_year + '/'\n",
    "\n",
    "        self.events = [Event(self, event_name) for event_name in event_names]\n",
    "\n",
    "    def __repr__(self):\n",
    "        return 'Season: \\'' + self.year[:2] + '-\\'' + self.year[2:]"
   ]
  },
  {
   "cell_type": "code",
   "execution_count": 165,
   "metadata": {
    "collapsed": true
   },
   "outputs": [],
   "source": [
    "def list_children(elts):\n",
    "    children = []\n",
    "    for elt in elts:\n",
    "        for child in elt.getchildren():\n",
    "            children.append(child)\n",
    "    return children"
   ]
  },
  {
   "cell_type": "code",
   "execution_count": null,
   "metadata": {
    "collapsed": true
   },
   "outputs": [],
   "source": []
  }
 ],
 "metadata": {
  "kernelspec": {
   "display_name": "Python 2",
   "language": "python",
   "name": "python2"
  },
  "language_info": {
   "codemirror_mode": {
    "name": "ipython",
    "version": 2
   },
   "file_extension": ".py",
   "mimetype": "text/x-python",
   "name": "python",
   "nbconvert_exporter": "python",
   "pygments_lexer": "ipython2",
   "version": "2.7.13"
  }
 },
 "nbformat": 4,
 "nbformat_minor": 2
}
