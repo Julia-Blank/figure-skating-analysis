{
 "cells": [
  {
   "cell_type": "code",
   "execution_count": 5,
   "metadata": {
    "collapsed": false
   },
   "outputs": [
    {
     "ename": "AttributeError",
     "evalue": "Event instance has no attribute 'get_event_info'",
     "output_type": "error",
     "traceback": [
      "\u001b[0;31m---------------------------------------------------------------------------\u001b[0m",
      "\u001b[0;31mAttributeError\u001b[0m                            Traceback (most recent call last)",
      "\u001b[0;32m<ipython-input-5-54c2567178c0>\u001b[0m in \u001b[0;36m<module>\u001b[0;34m()\u001b[0m\n\u001b[1;32m      6\u001b[0m         \u001b[0;32mprint\u001b[0m \u001b[0;34m'GP France 2015 was cancelled partway through.'\u001b[0m\u001b[0;34m\u001b[0m\u001b[0m\n\u001b[1;32m      7\u001b[0m         \u001b[0;32mcontinue\u001b[0m\u001b[0;34m\u001b[0m\u001b[0m\n\u001b[0;32m----> 8\u001b[0;31m     \u001b[0mevent\u001b[0m\u001b[0;34m.\u001b[0m\u001b[0mget_event_info\u001b[0m\u001b[0;34m(\u001b[0m\u001b[0;34m)\u001b[0m\u001b[0;34m\u001b[0m\u001b[0m\n\u001b[0m",
      "\u001b[0;31mAttributeError\u001b[0m: Event instance has no attribute 'get_event_info'"
     ]
    }
   ],
   "source": [
    "# seas1415 = Season ('2015')\n",
    "seas1516 = Season('2016')\n",
    "# for seas in (seas1516):\n",
    "for event in seas1516.events:\n",
    "    if event.name == 'gpfra2015':\n",
    "        print 'GP France 2015 was cancelled partway through.'\n",
    "        continue\n",
    "    event.get_event_info()"
   ]
  },
  {
   "cell_type": "code",
   "execution_count": 3,
   "metadata": {
    "collapsed": false
   },
   "outputs": [],
   "source": [
    "nhk15 = seas1516.events[5]\n",
    "nhk15_men = nhk15.disciplines[0]\n",
    "nhk15_men_short = seas1516.events[5].disciplines[0].segments[0]\n",
    "nhk15_men_short.parse_raw_csv()"
   ]
  },
  {
   "cell_type": "code",
   "execution_count": 4,
   "metadata": {
    "collapsed": false
   },
   "outputs": [
    {
     "name": "stdout",
     "output_type": "stream",
     "text": [
      "Skater(name='Yuzuru HANYU', country='JPN', discipline=<DisciplineType.men: 0>) 1 start: 12\n",
      "TES: 59.44, PCS: 46.89, Total: 106.33\n",
      "Deductions: {}\n",
      "Element(number=1, name='4S', info='', base_value=10.5, bonus=True, goe=1.0, goes=[1, 2, 1, 1, 1, 2, 0, 0, 1], points=11.5)\n",
      "Element(number=2, name='4T+3T', info='', base_value=14.6, bonus=True, goe=2.57, goes=[2, 3, 2, 3, 3, 3, 2, 2, 3], points=17.17)\n",
      "Element(number=3, name='FCSp4', info='', base_value=3.2, bonus=True, goe=1.07, goes=[2, 3, 2, 2, 3, 2, 2, 2, 2], points=4.27)\n",
      "Element(number=4, name='3A', info='', base_value=9.35, bonus=True, goe=2.43, goes=[2, 3, 2, 2, 3, 3, 3, 2, 2], points=11.78)\n",
      "Element(number=5, name='CSSp4', info='', base_value=3.0, bonus=True, goe=1.21, goes=[3, 2, 3, 2, 3, 2, 3, 2, 2], points=4.21)\n",
      "Element(number=6, name='StSq4', info='', base_value=3.9, bonus=True, goe=1.9, goes=[3, 3, 2, 3, 3, 3, 2, 3, 2], points=5.8)\n",
      "Element(number=7, name='CCoSp3p4', info='', base_value=3.5, bonus=True, goe=1.21, goes=[3, 2, 3, 2, 3, 3, 2, 2, 2], points=4.71)\n",
      "ProgramComponent(name='Skating Skills', factor=1.0, scores=[9.5, 9.5, 9.25, 9.25, 9.5, 9.5, 9.5, 8.75, 9.25], points=9.39)\n",
      "ProgramComponent(name='Transition / Linking Footwork', factor=1.0, scores=[9.5, 9.0, 8.75, 9.25, 9.5, 9.5, 9.25, 8.5, 9.0], points=9.18)\n",
      "ProgramComponent(name='Performance / Execution', factor=1.0, scores=[9.5, 9.75, 9.0, 9.5, 10.0, 9.75, 9.5, 8.75, 9.5], points=9.5)\n",
      "ProgramComponent(name='Choreography / Composition', factor=1.0, scores=[9.5, 9.5, 9.0, 9.5, 10.0, 9.75, 9.25, 9.0, 9.25], points=9.39)\n",
      "ProgramComponent(name='Interpretation', factor=1.0, scores=[9.75, 9.25, 9.0, 9.25, 10.0, 9.75, 9.5, 9.0, 9.5], points=9.43)\n"
     ]
    }
   ],
   "source": [
    "yuzu = nhk15_men_short.scorecards[0]\n",
    "# yuzu.print_scorecard()\n",
    "kovtun = nhk15_men_short.scorecards[3]\n",
    "yuzu.print_scorecard()"
   ]
  },
  {
   "cell_type": "code",
   "execution_count": 1,
   "metadata": {
    "collapsed": true
   },
   "outputs": [],
   "source": [
    "from model.Season import Season"
   ]
  },
  {
   "cell_type": "code",
   "execution_count": 2,
   "metadata": {
    "collapsed": false
   },
   "outputs": [],
   "source": [
    "# sochi = Season('2013')\n",
    "# # sochi.fetch_info(fetch_files=True)"
   ]
  },
  {
   "cell_type": "code",
   "execution_count": 7,
   "metadata": {
    "collapsed": false
   },
   "outputs": [
    {
     "name": "stdout",
     "output_type": "stream",
     "text": [
      "GP France 2015 was cancelled partway through.\n"
     ]
    }
   ],
   "source": [
    "season = Season('2016')\n",
    "season.fetch_info()"
   ]
  },
  {
   "cell_type": "code",
   "execution_count": 8,
   "metadata": {
    "collapsed": false
   },
   "outputs": [],
   "source": [
    "rus = season.events[3].disciplines[1].segments[1]"
   ]
  },
  {
   "cell_type": "code",
   "execution_count": 9,
   "metadata": {
    "collapsed": false
   },
   "outputs": [
    {
     "data": {
      "text/plain": [
       "['ISU GP Rostelecom Cup 2015',\n",
       " 'LADIES FREE SKATINGJUDGES DETAILS PER SKATER',\n",
       " 'StartingTotal TotalTotalTotal',\n",
       " 'Rank Name Nation NumberSegment ElementProgram  ComponentDeductions',\n",
       " 'Score ScoreScore (factored)',\n",
       " '1 Evgenia MEDVEDEVA RUS  10139.73  72.1267.610.00',\n",
       " '# Executed Base GOEThe Judges PanelRef Scores',\n",
       " 'Elements Value(in random order)of Panel',\n",
       " '1 3F+3T  9.60  1.40 1 1 23 2 2 32 211.00',\n",
       " '2 3Lz  6.00  1.40 2 2 22 3 2 22 17.40',\n",
       " '3 FCCoSp3p4  3.50  1.00 2 2 12 2 2 22 24.50',\n",
       " '4 StSq4  3.90  1.60 2 2 13 2 2 33 25.50',\n",
       " 'InfoInfo',\n",
       " '5 3F  5.83 x  1.10 2 1 22 2 1 21 16.93',\n",
       " '6 3Lo  5.61 x  1.00 2 1 12 2 1 21 16.61',\n",
       " '7 2A+2T+2T  6.49 x  0.29 0 0 11 1 0 11 06.78',\n",
       " '8 3S+3T  9.57 x  0.30 1 0 11 0 0 10 -19.87',\n",
       " '9 2A  3.63 x -0.93 -2 -2 -1-2 -2 -2 -1-2 -32.70',\n",
       " '10 ChSq1  2.00  0.70 1 2 11 1 3 10 02.70',\n",
       " '11 CCoSp3p4  3.50  0.86 2 2 21 1 2 21 24.36',\n",
       " '12 LSp4  2.70  1.07 3 1 13 2 3 31 23.77',\n",
       " '62.3372.12',\n",
       " 'Program Components Factor',\n",
       " 'Skating Skills  1.60 8.25 8.25 8.508.00 8.50 8.25 8.758.00 8.508.32',\n",
       " 'Transition / Linking Footwork  1.60 8.25 8.25 8.757.75 8.25 8.25 8.508.00 8.258.25',\n",
       " 'Performance / Execution  1.60 9.00 8.50 8.258.00 8.50 8.50 9.008.50 8.508.54',\n",
       " 'Choreography / Composition  1.60 8.75 8.50 8.758.00 8.50 8.50 8.758.50 8.758.61',\n",
       " 'Interpretation  1.60 8.75 8.50 8.508.25 8.50 8.50 8.508.50 9.008.54',\n",
       " 'Judges Total Program Component Score (factored)67.61',\n",
       " 'Deductions:0.00',\n",
       " 'x  Credit for highlight distribution, base value multiplied by 1.1',\n",
       " 'StartingTotal TotalTotalTotal',\n",
       " 'Rank Name Nation NumberSegment ElementProgram  ComponentDeductions',\n",
       " 'Score ScoreScore (factored)',\n",
       " '2 Elena RADIONOVA RUS  12139.53  70.7568.780.00',\n",
       " '# Executed Base GOEThe Judges PanelRef Scores',\n",
       " 'Elements Value(in random order)of Panel',\n",
       " '1 3Lz+3T  10.30  0.30 1 0 0-1 0 0 11 110.60',\n",
       " '2 3F !  5.30 -0.10 0 1 -1-1 0 0 01 -15.20',\n",
       " '3 3Lz  6.00  0.70 1 1 00 1 1 21 26.70',\n",
       " '4 CCoSp3p4  3.50  0.79 1 2 21 1 2 12 24.29',\n",
       " '5 StSq4  3.90  1.40 2 3 21 2 2 22 25.30',\n",
       " '6 3Lo+1Lo+3S  11.00 x  0.40 1 0 0-1 1 1 02 111.40',\n",
       " '7 2A  3.63 x  0.43 2 0 01 1 1 11 14.06',\n",
       " '8 3Lo+2T  7.04 x  0.50 1 0 10 1 0 11 17.54',\n",
       " '9 ChSq1  2.00  1.40 2 2 21 2 2 22 23.40',\n",
       " '10 2A  3.63 x  0.43 1 0 1-1 1 1 11 14.06',\n",
       " '11 FCCoSp3p4  3.50  0.79 2 2 11 1 2 22 14.29',\n",
       " '12 LSp4  2.70  1.21 2 2 32 3 2 33 23.91',\n",
       " '62.5070.75',\n",
       " 'Program Components Factor',\n",
       " 'Skating Skills  1.60 8.75 8.50 8.508.50 8.75 8.50 8.508.50 8.758.57',\n",
       " 'Transition / Linking Footwork  1.60 8.50 8.50 8.758.50 8.50 8.50 8.008.25 8.508.46',\n",
       " 'Performance / Execution  1.60 8.50 8.75 9.008.50 9.00 8.75 8.259.00 8.758.75',\n",
       " 'Choreography / Composition  1.60 8.50 8.50 8.508.75 8.50 8.75 8.258.50 9.008.57',\n",
       " 'Interpretation  1.60 8.50 8.50 9.008.75 8.25 8.75 8.508.50 9.008.64',\n",
       " 'Judges Total Program Component Score (factored)68.78',\n",
       " 'Deductions:0.00',\n",
       " 'x  Credit for highlight distribution, base value multiplied by 1.1!  Not clear edge',\n",
       " 'ISU GP Rostelecom Cup 2015',\n",
       " 'LADIES FREE SKATINGJUDGES DETAILS PER SKATER',\n",
       " 'StartingTotal TotalTotalTotal',\n",
       " 'Rank Name Nation NumberSegment ElementProgram  ComponentDeductions',\n",
       " 'Score ScoreScore (factored)',\n",
       " '3 Adelina SOTNIKOVA RUS  9119.63  51.2569.38-1.00',\n",
       " '# Executed Base GOEThe Judges PanelRef Scores',\n",
       " 'Elements Value(in random order)of Panel',\n",
       " '1 3Lze+3T<< e  5.50 -1.90 -3 -3 -2-3 -2 -3 -3-3 -23.60',\n",
       " '2 3F  5.30  1.40 2 2 22 2 2 21 26.70',\n",
       " '3 3Lo  5.10  1.30 2 2 12 2 2 21 26.40',\n",
       " '4 CCoSp3p4  3.50  1.14 2 2 23 3 2 32 14.64',\n",
       " 'InfoInfo',\n",
       " '5 StSq4  3.90  1.60 3 2 22 3 2 32 15.50',\n",
       " '6 2A+3T<< <<  5.06 x -0.93 -2 -2 -2-2 -1 -2 -2-3 -14.13',\n",
       " '7 2F+1T  2.53 x  0.00 0 0 00 0 0 0-1 02.53',\n",
       " '8 3S  4.84 x  0.40 0 0 01 1 1 10 25.24',\n",
       " '9 LSp3  2.40  0.71 2 1 22 1 2 11 03.11',\n",
       " '10 ChSq1  2.00  1.40 2 2 22 3 2 22 23.40',\n",
       " '11 2A  3.63 x -1.50 -3 -3 -3-3 -3 -3 -3-3 -32.13',\n",
       " '12 FCSp3  2.80  1.07 3 2 22 2 3 21 23.87',\n",
       " '46.5651.25',\n",
       " 'Program Components Factor',\n",
       " 'Skating Skills  1.60 8.50 8.25 8.508.50 9.00 8.75 9.258.50 8.508.61',\n",
       " 'Transition / Linking Footwork  1.60 8.50 8.00 8.758.00 8.75 8.25 9.008.25 8.258.39',\n",
       " 'Performance / Execution  1.60 9.25 8.50 8.758.50 9.00 8.00 9.008.25 8.008.57',\n",
       " 'Choreography / Composition  1.60 9.25 8.50 9.008.75 9.00 9.00 9.508.25 8.508.86',\n",
       " 'Interpretation  1.60 9.25 8.75 9.008.75 9.25 9.00 9.508.50 8.258.93',\n",
       " 'Judges Total Program Component Score (factored)69.38',\n",
       " 'Deductions: Falls: -1.00-1.00',\n",
       " '<<  Downgraded jumpx  Credit for highlight distribution, base value multiplied by 1.1e  Wrong edge',\n",
       " 'StartingTotal TotalTotalTotal',\n",
       " 'Rank Name Nation NumberSegment ElementProgram  ComponentDeductions',\n",
       " 'Score ScoreScore (factored)',\n",
       " '4 Polina EDMUNDS USA  8117.91  57.1860.730.00',\n",
       " '# Executed Base GOEThe Judges PanelRef Scores',\n",
       " 'Elements Value(in random order)of Panel',\n",
       " '1 3Lz+3T  10.30  0.50 1 0 11 -1 1 21 010.80',\n",
       " '2 StSq3  3.30  0.57 1 1 11 1 1 22 13.87',\n",
       " '3 3F<+1Lo+3S< <  7.30 -1.50 -1 -3 -2-2 -3 -2 -2-2 -25.80',\n",
       " '4 CCoSp3p4  3.50  1.00 2 2 12 2 2 32 24.50',\n",
       " '5 3Lo  5.61 x  0.60 1 1 11 -1 1 11 06.21',\n",
       " '6 FCSp4  3.20  0.79 2 1 11 2 2 21 23.99',\n",
       " '7 3F< <  4.07 x -1.50 -1 -2 -2-2 -3 -3 -1-3 -22.57',\n",
       " '8 2A  3.63 x  0.43 1 1 11 1 0 11 04.06',\n",
       " '9 3Lo<+2T <  5.39 x -0.60 0 -2 -1-1 -1 -1 0-1 -14.79',\n",
       " '10 LSp4  2.70  1.00 1 2 22 2 2 23 23.70',\n",
       " '11 2A  3.63 x  0.36 1 1 21 0 0 11 03.99',\n",
       " '12 ChSq1  2.00  0.90 1 1 21 2 1 12 12.90',\n",
       " '54.6357.18',\n",
       " 'Program Components Factor',\n",
       " 'Skating Skills  1.60 8.50 7.50 7.507.50 7.50 7.75 8.257.50 7.757.68',\n",
       " 'Transition / Linking Footwork  1.60 7.75 7.25 7.007.25 7.50 7.25 8.507.00 7.257.32',\n",
       " 'Performance / Execution  1.60 7.75 7.75 7.507.50 7.75 7.25 8.507.50 8.007.68',\n",
       " 'Choreography / Composition  1.60 8.25 7.50 7.757.25 7.75 7.50 8.507.25 7.507.64',\n",
       " 'Interpretation  1.60 8.00 7.50 7.507.50 7.75 7.25 8.757.75 7.507.64',\n",
       " 'Judges Total Program Component Score (factored)60.73',\n",
       " 'Deductions:0.00',\n",
       " '<  Under-rotated jumpx  Credit for highlight distribution, base value multiplied by 1.1',\n",
       " 'ISU GP Rostelecom Cup 2015',\n",
       " 'LADIES FREE SKATINGJUDGES DETAILS PER SKATER',\n",
       " 'StartingTotal TotalTotalTotal',\n",
       " 'Rank Name Nation NumberSegment ElementProgram  ComponentDeductions',\n",
       " 'Score ScoreScore (factored)',\n",
       " '5 Rika HONGO JPN  7115.67  56.4760.20-1.00',\n",
       " '# Executed Base GOEThe Judges PanelRef Scores',\n",
       " 'Elements Value(in random order)of Panel',\n",
       " '1 3F+3T  9.60  0.70 1 1 12 1 1 00 210.30',\n",
       " '2 2S  1.30  0.09 0 0 01 0 1 01 11.39',\n",
       " '3 3Lze< e  3.60 -2.10 -3 -3 -3-3 -3 -3 -3-3 -31.50',\n",
       " '4 FCSp4  3.20  0.21 0 1 11 0 0 00 13.41',\n",
       " 'InfoInfo',\n",
       " '5 StSq3  3.30  0.57 0 0 22 1 1 11 23.87',\n",
       " '6 2A+3T+2T  9.79 x  0.60 0 1 11 0 1 11 110.39',\n",
       " '7 3Lo  5.61 x  0.50 0 1 11 0 1 01 16.11',\n",
       " '8 CCoSp3p4  3.50  0.07 0 0 01 0 0 10 03.57',\n",
       " '9 3Lze<+2T e  5.39 x -1.70 -3 -3 -3-2 -2 -2 -3-2 -23.69',\n",
       " '10 ChSq1  2.00  0.90 1 1 12 1 1 22 12.90',\n",
       " '11 3S  4.84 x  0.50 0 1 11 0 1 01 15.34',\n",
       " '12 FCCoSp3p4  3.50  0.50 1 1 11 0 1 11 24.00',\n",
       " '55.6356.47',\n",
       " 'Program Components Factor',\n",
       " 'Skating Skills  1.60 7.50 7.50 7.757.75 7.50 7.75 7.757.50 7.757.64',\n",
       " 'Transition / Linking Footwork  1.60 7.25 6.75 7.257.75 7.25 7.50 7.507.25 7.757.39',\n",
       " 'Performance / Execution  1.60 7.25 7.25 7.508.00 7.50 7.25 7.507.50 7.757.46',\n",
       " 'Choreography / Composition  1.60 7.50 6.75 7.507.50 7.50 7.50 7.757.75 8.007.57',\n",
       " 'Interpretation  1.60 7.50 6.75 7.508.00 7.50 7.50 7.507.50 8.007.57',\n",
       " 'Judges Total Program Component Score (factored)60.20',\n",
       " 'Deductions: Falls: -1.00-1.00',\n",
       " '<  Under-rotated jumpx  Credit for highlight distribution, base value multiplied by 1.1e  Wrong edge',\n",
       " 'StartingTotal TotalTotalTotal',\n",
       " 'Rank Name Nation NumberSegment ElementProgram  ComponentDeductions',\n",
       " 'Score ScoreScore (factored)',\n",
       " '6 Yuka NAGAI JPN  4106.43  50.6056.83-1.00',\n",
       " '# Executed Base GOEThe Judges PanelRef Scores',\n",
       " 'Elements Value(in random order)of Panel',\n",
       " '1 1Lz  0.60  0.03 0 0 10 -1 1 00 00.63',\n",
       " '2 3Fe e  3.70 -0.60 0 -1 0-2 -1 0 0-2 -23.10',\n",
       " '3 3Lo  5.10  0.90 1 2 11 1 2 21 16.00',\n",
       " '4 StSq4  3.90  1.00 1 2 12 1 3 11 24.90',\n",
       " '5 CCoSp3p4  3.50  0.50 1 1 12 1 1 11 14.00',\n",
       " '6 3Lz< <  4.62 x -2.10 -3 -3 -3-3 -3 -3 -3-3 -32.52',\n",
       " '7 2A+3T  8.36 x -0.20 -1 0 0-1 -1 0 00 18.16',\n",
       " '8 3S+2T  6.27 x  0.20 0 1 -10 0 1 00 16.47',\n",
       " '9 2A+2T  5.06 x  0.36 0 1 11 0 1 01 15.42',\n",
       " '10 ChSq1  2.00  0.50 1 1 00 1 1 01 12.50',\n",
       " '11 LSp3  2.40  0.50 1 1 10 1 1 11 12.90',\n",
       " '12 FCCoSp3p4  3.50  0.50 1 1 11 1 1 12 14.00',\n",
       " '49.0150.60',\n",
       " 'Program Components Factor',\n",
       " 'Skating Skills  1.60 7.00 7.50 7.257.50 7.00 7.25 7.507.50 7.257.32',\n",
       " 'Transition / Linking Footwork  1.60 7.00 6.75 7.007.25 6.75 7.00 7.006.75 6.756.89',\n",
       " 'Performance / Execution  1.60 7.25 7.00 6.757.50 7.00 7.00 7.507.50 6.757.14',\n",
       " 'Choreography / Composition  1.60 6.75 7.00 7.007.50 7.00 7.50 7.507.00 7.007.14',\n",
       " 'Interpretation  1.60 6.50 7.25 6.757.75 6.50 7.25 7.257.25 7.007.04',\n",
       " 'Judges Total Program Component Score (factored)56.83',\n",
       " 'Deductions: Falls: -1.00-1.00',\n",
       " '<  Under-rotated jumpx  Credit for highlight distribution, base value multiplied by 1.1e  Wrong edge',\n",
       " 'ISU GP Rostelecom Cup 2015',\n",
       " 'LADIES FREE SKATINGJUDGES DETAILS PER SKATER',\n",
       " 'StartingTotal TotalTotalTotal',\n",
       " 'Rank Name Nation NumberSegment ElementProgram  ComponentDeductions',\n",
       " 'Score ScoreScore (factored)',\n",
       " '7 Alaine CHARTRAND CAN  11106.04  50.4058.64-3.00',\n",
       " '# Executed Base GOEThe Judges PanelRef Scores',\n",
       " 'Elements Value(in random order)of Panel',\n",
       " '1 3A<< <<  3.30 -1.50 -3 -3 -3-3 -3 -3 -3-3 -31.80',\n",
       " '2 2Lz  2.10 -0.90 -3 -3 -3-3 -3 -3 -3-3 -31.20',\n",
       " '3 3Fe< e  3.20 -2.00 -3 -3 -3-3 -3 -2 -3-2 -31.20',\n",
       " '4 ChSq1  2.00  0.50 -1 0 02 1 1 20 12.50',\n",
       " 'InfoInfo',\n",
       " '5 FCCoSp3p4  3.50  0.71 2 1 02 1 1 12 24.21',\n",
       " '6 3Lo  5.61 x -2.10 -3 -3 -3-3 -3 -3 -3-3 -33.51',\n",
       " '7 2A+1Lo+3S  9.02 x  0.30 1 0 00 0 1 11 09.32',\n",
       " '8 3Lz+3T<< <<  8.03 x -1.70 -2 -2 -3-3 -3 -2 -2-2 -36.33',\n",
       " '9 StSq4  3.90  0.90 1 2 11 1 2 12 14.80',\n",
       " '10 3S+2A+SEQ  6.78 x  0.60 1 0 10 1 1 12 17.38',\n",
       " '11 FCSSp4  3.00  0.86 2 1 12 1 2 22 23.86',\n",
       " '12 CCoSp3p4  3.50  0.79 2 1 12 1 1 22 24.29',\n",
       " '53.9450.40',\n",
       " 'Program Components Factor',\n",
       " 'Skating Skills  1.60 7.75 7.50 7.507.25 7.50 8.50 7.507.75 7.507.57',\n",
       " 'Transition / Linking Footwork  1.60 7.50 7.00 7.257.50 7.00 8.25 6.757.00 7.007.18',\n",
       " 'Performance / Execution  1.60 7.00 7.25 7.257.25 6.50 8.00 6.756.75 7.007.04',\n",
       " 'Choreography / Composition  1.60 7.50 7.50 7.507.75 7.25 8.50 7.507.25 7.507.50',\n",
       " 'Interpretation  1.60 7.50 7.50 7.257.50 7.00 8.25 7.257.50 7.007.36',\n",
       " 'Judges Total Program Component Score (factored)58.64',\n",
       " 'Deductions: Falls: -3.00-3.00',\n",
       " '<  Under-rotated jump<<  Downgraded jumpx  Credit for highlight distribution, base value multiplied by 1.1e  Wrong edge',\n",
       " 'StartingTotal TotalTotalTotal',\n",
       " 'Rank Name Nation NumberSegment ElementProgram  ComponentDeductions',\n",
       " 'Score ScoreScore (factored)',\n",
       " '8 Roberta RODEGHIERO ITA  6105.87  50.0656.81-1.00',\n",
       " '# Executed Base GOEThe Judges PanelRef Scores',\n",
       " 'Elements Value(in random order)of Panel',\n",
       " '1 3Lz+2T  7.30  0.80 2 2 12 0 0 11 18.10',\n",
       " '2 3F  5.30  0.10 0 1 01 1 -1 00 -15.40',\n",
       " '3 3T+2A+SEQ  6.08  0.70 1 1 11 1 1 11 16.78',\n",
       " '4 LSp3  2.40  0.29 1 0 01 1 1 00 12.69',\n",
       " '5 StSq3  3.30  0.57 1 2 11 1 1 11 23.87',\n",
       " '6 3F+REP  4.08 x -2.10 -3 -3 -3-3 -3 -3 -3-3 -31.98',\n",
       " '7 2Lo  1.98 x  0.00 0 0 00 0 0 00 01.98',\n",
       " '8 2A  3.63 x  0.29 0 1 01 1 0 11 03.92',\n",
       " '9 3S  4.84 x  0.70 1 1 01 1 1 11 15.54',\n",
       " '10 FSSp4  3.00  0.50 1 1 01 1 1 11 13.50',\n",
       " '11 ChSq1  2.00  0.30 1 1 01 0 0 10 -12.30',\n",
       " '12 CCoSp3p4  3.50  0.50 1 1 01 1 1 11 24.00',\n",
       " '47.4150.06',\n",
       " 'Program Components Factor',\n",
       " 'Skating Skills  1.60 7.25 7.50 7.257.25 7.25 7.00 7.257.25 7.507.29',\n",
       " 'Transition / Linking Footwork  1.60 6.75 7.25 6.756.75 7.25 6.50 7.007.00 7.006.93',\n",
       " 'Performance / Execution  1.60 7.00 7.50 7.257.00 7.25 6.75 7.007.00 7.007.07',\n",
       " 'Choreography / Composition  1.60 7.25 7.50 6.756.50 7.25 7.00 7.507.25 7.257.18',\n",
       " 'Interpretation  1.60 7.00 7.50 7.006.75 6.75 6.75 7.257.25 7.257.04',\n",
       " 'Judges Total Program Component Score (factored)56.81',\n",
       " 'Deductions: Falls: -1.00-1.00',\n",
       " 'x  Credit for highlight distribution, base value multiplied by 1.1REP Jump repetition',\n",
       " 'ISU GP Rostelecom Cup 2015',\n",
       " 'LADIES FREE SKATINGJUDGES DETAILS PER SKATER',\n",
       " 'StartingTotal TotalTotalTotal',\n",
       " 'Rank Name Nation NumberSegment ElementProgram  ComponentDeductions',\n",
       " 'Score ScoreScore (factored)',\n",
       " '9 Riona KATO JPN  3105.30  54.2751.030.00',\n",
       " '# Executed Base GOEThe Judges PanelRef Scores',\n",
       " 'Elements Value(in random order)of Panel',\n",
       " '1 3F+3T  9.60  0.60 1 0 12 0 0 21 110.20',\n",
       " '2 3S  4.40  0.50 0 0 11 0 1 11 14.90',\n",
       " '3 FCSp4  3.20  0.29 1 0 11 1 0 10 03.49',\n",
       " '4 StSq3  3.30  0.36 1 0 12 1 1 01 03.66',\n",
       " 'InfoInfo',\n",
       " '5 CCoSp3p4  3.50  0.07 0 1 10 0 0 00 03.57',\n",
       " '6 2A  3.63 x  0.57 1 1 12 1 0 12 14.20',\n",
       " '7 3Lo  5.61 x -0.50 -2 -1 00 -1 -1 -1-1 05.11',\n",
       " '8 3Lze<< e  1.65 x -0.90 -3 -3 -3-3 -3 -3 -3-2 -30.75',\n",
       " '9 3Lo<+2T+2Lo <  7.37 x -0.90 -2 -1 -1-1 -1 -1 -2-1 -26.47',\n",
       " '10 ChSq1  2.00  0.30 0 0 1-1 1 0 01 12.30',\n",
       " '11 3T+2T  6.16 x  0.40 0 0 11 0 0 11 16.56',\n",
       " '12 LSp4  2.70  0.36 0 0 21 1 1 01 13.06',\n",
       " '53.1254.27',\n",
       " 'Program Components Factor',\n",
       " 'Skating Skills  1.60 6.25 7.00 6.256.75 6.75 6.50 6.757.25 6.756.68',\n",
       " 'Transition / Linking Footwork  1.60 6.25 6.50 6.006.00 6.25 5.00 6.507.00 6.256.25',\n",
       " 'Performance / Execution  1.60 6.00 6.25 6.006.50 6.50 6.25 6.507.25 6.506.36',\n",
       " 'Choreography / Composition  1.60 6.25 6.50 6.256.50 6.75 5.75 6.507.25 6.506.46',\n",
       " 'Interpretation  1.60 5.75 5.75 6.006.25 6.50 5.75 6.257.00 6.506.14',\n",
       " 'Judges Total Program Component Score (factored)51.03',\n",
       " 'Deductions:0.00',\n",
       " '<  Under-rotated jump<<  Downgraded jumpx  Credit for highlight distribution, base value multiplied by 1.1e  Wrong edge',\n",
       " 'StartingTotal TotalTotalTotal',\n",
       " 'Rank Name Nation NumberSegment ElementProgram  ComponentDeductions',\n",
       " 'Score ScoreScore (factored)',\n",
       " '10 Joshi HELGESSON SWE  5100.69  48.2153.48-1.00',\n",
       " '# Executed Base GOEThe Judges PanelRef Scores',\n",
       " 'Elements Value(in random order)of Panel',\n",
       " '1 3Lz+2T+2Lo  9.10 -0.20 0 -1 00 -1 1 00 -18.90',\n",
       " '2 3F< <  3.70 -0.80 -2 -1 0-2 -1 -1 -1-1 -12.90',\n",
       " '3 3T+2T  5.60 -0.30 0 -1 00 0 0 -1-1 -15.30',\n",
       " '4 FCCoSp3p4  3.50  0.07 0 0 00 0 1 10 03.57',\n",
       " '5 3Lz< <  4.20 -2.10 -3 -3 -3-3 -3 -3 -3-3 -32.10',\n",
       " '6 3Lo< <  3.96 x -0.70 -1 -1 -1-2 -1 -1 -1-1 -13.26',\n",
       " '7 2S+2A+SEQ  4.05 x  0.07 1 0 00 0 1 00 04.12',\n",
       " '8 ChSq1  2.00  0.30 1 0 00 1 1 10 02.30',\n",
       " '9 CSp4  2.60  0.50 1 1 11 0 1 11 23.10',\n",
       " '10 3T  4.73 x  0.40 1 0 10 0 1 11 05.13',\n",
       " '11 StSq4  3.90  0.20 1 0 00 1 1 00 04.10',\n",
       " '12 CCoSp3p3  3.00  0.43 1 1 11 1 1 10 03.43',\n",
       " '50.3448.21',\n",
       " 'Program Components Factor',\n",
       " 'Skating Skills  1.60 7.25 7.00 7.007.25 7.00 6.50 6.507.00 6.756.93',\n",
       " 'Transition / Linking Footwork  1.60 6.50 6.25 6.757.00 6.50 6.00 6.006.25 6.506.39',\n",
       " 'Performance / Execution  1.60 7.00 6.75 6.506.75 7.25 6.50 6.757.00 6.506.75',\n",
       " 'Choreography / Composition  1.60 7.25 7.00 7.006.75 7.00 6.25 5.757.50 6.256.79',\n",
       " 'Interpretation  1.60 7.25 6.50 6.756.25 6.75 6.25 6.257.25 6.006.57',\n",
       " 'Judges Total Program Component Score (factored)53.48',\n",
       " 'Deductions: Falls: -1.00-1.00',\n",
       " '<  Under-rotated jumpx  Credit for highlight distribution, base value multiplied by 1.1',\n",
       " 'ISU GP Rostelecom Cup 2015',\n",
       " 'LADIES FREE SKATINGJUDGES DETAILS PER SKATER',\n",
       " 'StartingTotal TotalTotalTotal',\n",
       " 'Rank Name Nation NumberSegment ElementProgram  ComponentDeductions',\n",
       " 'Score ScoreScore (factored)',\n",
       " '11 Hannah MILLER USA  297.23  44.4852.750.00',\n",
       " '# Executed Base GOEThe Judges PanelRef Scores',\n",
       " 'Elements Value(in random order)of Panel',\n",
       " '1 3T+1Lo<<+3S< <<  7.40 -1.60 -2 -2 -1-2 -3 -3 -2-2 -35.80',\n",
       " '2 2A+2T  4.60  0.21 0 -1 11 0 0 01 14.81',\n",
       " '3 2Lz  2.10  0.04 0 -2 01 0 0 01 02.14',\n",
       " '4 FCSp4  3.20  0.50 1 1 11 1 1 11 13.70',\n",
       " 'InfoInfo',\n",
       " '5 LSp4  2.70  0.71 2 1 12 2 1 11 23.41',\n",
       " '6 1F  0.55 x  0.00 0 0 00 0 0 00 00.55',\n",
       " '7 3Lo< <  3.96 x -0.50 0 -2 -10 -1 -1 -1-1 03.46',\n",
       " '8 StSq3  3.30  0.57 2 1 11 1 1 11 23.87',\n",
       " '9 3F<+2T <  5.50 x -0.90 -1 -2 -2-1 -2 -1 -1-1 -14.60',\n",
       " '10 ChSq1  2.00  0.80 1 1 11 2 1 11 22.80',\n",
       " '11 3T  4.73 x  0.40 2 0 11 0 0 01 15.13',\n",
       " '12 CCoSp3p4  3.50  0.71 2 1 11 2 1 12 24.21',\n",
       " '43.5444.48',\n",
       " 'Program Components Factor',\n",
       " 'Skating Skills  1.60 7.25 6.50 7.006.25 6.50 6.50 6.757.00 6.756.71',\n",
       " 'Transition / Linking Footwork  1.60 7.00 5.50 6.506.00 6.50 6.25 6.256.75 6.256.36',\n",
       " 'Performance / Execution  1.60 7.25 5.75 7.006.25 6.75 6.50 6.506.50 6.506.57',\n",
       " 'Choreography / Composition  1.60 7.50 6.25 7.256.00 6.75 6.75 6.507.00 6.506.71',\n",
       " 'Interpretation  1.60 7.50 6.00 7.006.25 6.50 6.50 6.756.50 6.756.61',\n",
       " 'Judges Total Program Component Score (factored)52.75',\n",
       " 'Deductions:0.00',\n",
       " '<  Under-rotated jump<<  Downgraded jumpx  Credit for highlight distribution, base value multiplied by 1.1',\n",
       " 'StartingTotal TotalTotalTotal',\n",
       " 'Rank Name Nation NumberSegment ElementProgram  ComponentDeductions',\n",
       " 'Score ScoreScore (factored)',\n",
       " '12 Dasa GRM SLO  192.84  44.5048.340.00',\n",
       " '# Executed Base GOEThe Judges PanelRef Scores',\n",
       " 'Elements Value(in random order)of Panel',\n",
       " '1 3Lz  6.00  0.30 0 0 10 0 1 10 16.30',\n",
       " '2 3F  5.30  0.70 1 1 11 1 1 11 16.00',\n",
       " '3 1A  1.10  0.00 0 0 00 0 0 00 01.10',\n",
       " '4 3T+1Lo+2S  6.10  0.00 0 0 00 0 0 -10 06.10',\n",
       " '5 CCoSp3p4  3.50  0.43 1 1 11 0 0 11 13.93',\n",
       " '6 1A+2T  2.64 x  0.06 1 0 00 1 0 00 12.70',\n",
       " '7 3T+2T  6.16 x  0.50 1 0 10 1 0 11 16.66',\n",
       " '8 FCCoSp3p4  3.50  0.29 0 1 00 1 0 21 13.79',\n",
       " '9 FSSp  0.00  0.00 - - -- - - -- -0.00',\n",
       " '10 StSq3  3.30  0.36 1 0 11 -1 0 11 13.66',\n",
       " '11 2F  2.09 x  0.17 1 1 10 0 0 01 12.26',\n",
       " '12 ChSq1  2.00  0.00 1 -1 00 0 0 00 02.00',\n",
       " '41.6944.50',\n",
       " 'Program Components Factor',\n",
       " 'Skating Skills  1.60 6.00 6.25 6.506.50 5.75 6.75 5.756.25 6.506.25',\n",
       " 'Transition / Linking Footwork  1.60 5.25 5.50 6.256.00 5.00 6.25 5.255.75 6.255.75',\n",
       " 'Performance / Execution  1.60 5.75 6.00 6.006.25 5.50 6.50 5.756.00 6.005.96',\n",
       " 'Choreography / Composition  1.60 5.50 6.25 6.506.25 5.25 6.50 6.006.25 6.506.18',\n",
       " 'Interpretation  1.60 5.75 6.00 6.756.50 5.00 6.75 5.505.75 6.256.07',\n",
       " 'Judges Total Program Component Score (factored)48.34',\n",
       " 'Deductions:0.00',\n",
       " 'x  Credit for highlight distribution, base value multiplied by 1.1',\n",
       " 'Printed: 21.11.2015 21:27:32']"
      ]
     },
     "execution_count": 9,
     "metadata": {},
     "output_type": "execute_result"
    }
   ],
   "source": [
    "rus.get_raw_csv_rows()"
   ]
  },
  {
   "cell_type": "code",
   "execution_count": 10,
   "metadata": {
    "collapsed": false
   },
   "outputs": [],
   "source": [
    "rus.parse_raw_csv()"
   ]
  },
  {
   "cell_type": "code",
   "execution_count": 11,
   "metadata": {
    "collapsed": false
   },
   "outputs": [
    {
     "name": "stdout",
     "output_type": "stream",
     "text": [
      "Skater(name='Rika HONGO', country='JPN', discipline=<DisciplineType.ladies: 1>) 5 start: 7\n",
      "TES: 56.47, PCS: 60.2, Total: 115.67\n",
      "Deductions: {'Falls': -1.0}\n",
      "Element(number=1, name='3F+3T', info='', base_value=9.6, bonus=False, goe=0.7, goes=[1, 1, 1, 2, 1, 1, 0, 0, 2], points=10.3)\n",
      "Element(number=2, name='2S', info='', base_value=1.3, bonus=False, goe=0.09, goes=[0, 0, 0, 1, 0, 1, 0, 1, 1], points=1.39)\n",
      "Element(number=3, name='3Lze<', info='e', base_value=3.6, bonus=False, goe=-2.1, goes=[-3, -3, -3, -3, -3, -3, -3, -3, -3], points=1.5)\n",
      "Element(number=4, name='FCSp4', info='', base_value=3.2, bonus=False, goe=0.21, goes=[0, 1, 1, 1, 0, 0, 0, 0, 1], points=3.41)\n",
      "Element(number=5, name='StSq3', info='', base_value=3.3, bonus=False, goe=0.57, goes=[0, 0, 2, 2, 1, 1, 1, 1, 2], points=3.87)\n",
      "Element(number=6, name='2A+3T+2T', info='', base_value=9.79, bonus=True, goe=0.6, goes=[0, 1, 1, 1, 0, 1, 1, 1, 1], points=10.39)\n",
      "Element(number=7, name='3Lo', info='', base_value=5.61, bonus=True, goe=0.5, goes=[0, 1, 1, 1, 0, 1, 0, 1, 1], points=6.11)\n",
      "Element(number=8, name='CCoSp3p4', info='', base_value=3.5, bonus=False, goe=0.07, goes=[0, 0, 0, 1, 0, 0, 1, 0, 0], points=3.57)\n",
      "Element(number=9, name='3Lze<+2T', info='e', base_value=5.39, bonus=True, goe=-1.7, goes=[-3, -3, -3, -2, -2, -2, -3, -2, -2], points=3.69)\n",
      "Element(number=10, name='ChSq1', info='', base_value=2.0, bonus=False, goe=0.9, goes=[1, 1, 1, 2, 1, 1, 2, 2, 1], points=2.9)\n",
      "Element(number=11, name='3S', info='', base_value=4.84, bonus=True, goe=0.5, goes=[0, 1, 1, 1, 0, 1, 0, 1, 1], points=5.34)\n",
      "Element(number=12, name='FCCoSp3p4', info='', base_value=3.5, bonus=False, goe=0.5, goes=[1, 1, 1, 1, 0, 1, 1, 1, 2], points=4.0)\n",
      "ProgramComponent(name='Skating Skills', factor=1.6, scores=[7.5, 7.5, 7.75, 7.75, 7.5, 7.75, 7.75, 7.5, 7.75], points=7.64)\n",
      "ProgramComponent(name='Transition / Linking Footwork', factor=1.6, scores=[7.25, 6.75, 7.25, 7.75, 7.25, 7.5, 7.5, 7.25, 7.75], points=7.39)\n",
      "ProgramComponent(name='Performance / Execution', factor=1.6, scores=[7.25, 7.25, 7.5, 8.0, 7.5, 7.25, 7.5, 7.5, 7.75], points=7.46)\n",
      "ProgramComponent(name='Choreography / Composition', factor=1.6, scores=[7.5, 6.75, 7.5, 7.5, 7.5, 7.5, 7.75, 7.75, 8.0], points=7.57)\n",
      "ProgramComponent(name='Interpretation', factor=1.6, scores=[7.5, 6.75, 7.5, 8.0, 7.5, 7.5, 7.5, 7.5, 8.0], points=7.57)\n"
     ]
    }
   ],
   "source": [
    "rus.scorecards[4].print_scorecard()"
   ]
  },
  {
   "cell_type": "code",
   "execution_count": 2,
   "metadata": {
    "collapsed": false
   },
   "outputs": [],
   "source": [
    "from model.Season import Season\n",
    "recent = Season('2017')\n",
    "recent.fetch_info()"
   ]
  },
  {
   "cell_type": "code",
   "execution_count": 3,
   "metadata": {
    "collapsed": false
   },
   "outputs": [],
   "source": [
    "recent.events[-1].disciplines[0].segments[0].parse_raw_csv()"
   ]
  },
  {
   "cell_type": "code",
   "execution_count": 4,
   "metadata": {
    "collapsed": false
   },
   "outputs": [
    {
     "name": "stdout",
     "output_type": "stream",
     "text": [
      "Skater(name='Javier FERNANDEZ', country='ESP', discipline=<DisciplineType.men: 0>) 1 start: 34\n",
      "TES: 60.79, PCS: 48.26, Total: 109.05\n",
      "Deductions: {}\n",
      "Element(number=1, name='4T+3T', info='', base_value=14.6, bonus=False, goe=2.86, goes=[3, 3, 2, 3, 3, 3, 3, 3, 2], points=17.46)\n",
      "Element(number=2, name='4S', info='', base_value=10.5, bonus=False, goe=2.86, goes=[3, 3, 3, 3, 3, 2, 3, 2, 3], points=13.36)\n",
      "Element(number=3, name='FUSp4', info='', base_value=2.9, bonus=False, goe=0.36, goes=[2, 0, 1, 1, -1, 0, 1, 0, 2], points=3.26)\n",
      "Element(number=4, name='3A', info='', base_value=9.35, bonus=True, goe=3.0, goes=[3, 3, 3, 3, 3, 3, 3, 3, 2], points=12.35)\n",
      "Element(number=5, name='CCoSp4', info='', base_value=3.5, bonus=False, goe=1.0, goes=[2, 2, 3, 2, 1, 2, 2, 2, 2], points=4.5)\n",
      "Element(number=6, name='CSSp4', info='', base_value=3.0, bonus=False, goe=0.86, goes=[1, 1, 2, 1, 2, 2, 2, 2, 2], points=3.86)\n",
      "Element(number=7, name='StSq4', info='', base_value=3.9, bonus=False, goe=2.1, goes=[3, 3, 3, 3, 3, 3, 3, 3, 3], points=6.0)\n",
      "ProgramComponent(name='Skating Skills', factor=1.0, scores=[9.25, 9.25, 9.5, 9.5, 9.5, 9.25, 9.5, 9.5, 9.75], points=9.43)\n",
      "ProgramComponent(name='Transitions', factor=1.0, scores=[9.25, 9.25, 9.5, 9.25, 9.25, 9.25, 9.5, 9.75, 9.5], points=9.36)\n",
      "ProgramComponent(name='Performance', factor=1.0, scores=[9.75, 9.5, 9.75, 10.0, 9.75, 9.5, 10.0, 10.0, 9.75], points=9.79)\n",
      "ProgramComponent(name='Composition', factor=1.0, scores=[9.75, 9.75, 9.75, 10.0, 9.5, 9.25, 9.75, 10.0, 9.75], points=9.75)\n",
      "ProgramComponent(name='Interpretation of the Music', factor=1.0, scores=[10.0, 9.75, 10.0, 10.0, 9.75, 10.0, 10.0, 10.0, 9.75], points=9.93)\n"
     ]
    }
   ],
   "source": [
    "recent.events[-1].disciplines[0].segments[0].scorecards[0].print_scorecard()"
   ]
  },
  {
   "cell_type": "code",
   "execution_count": null,
   "metadata": {
    "collapsed": true
   },
   "outputs": [],
   "source": []
  }
 ],
 "metadata": {
  "kernelspec": {
   "display_name": "Python 2",
   "language": "python",
   "name": "python2"
  },
  "language_info": {
   "codemirror_mode": {
    "name": "ipython",
    "version": 2
   },
   "file_extension": ".py",
   "mimetype": "text/x-python",
   "name": "python",
   "nbconvert_exporter": "python",
   "pygments_lexer": "ipython2",
   "version": "2.7.13"
  }
 },
 "nbformat": 4,
 "nbformat_minor": 2
}
