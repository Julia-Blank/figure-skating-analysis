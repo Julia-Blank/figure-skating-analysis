{
 "cells": [
  {
   "cell_type": "code",
   "execution_count": 5,
   "metadata": {
    "collapsed": false
   },
   "outputs": [
    {
     "ename": "AttributeError",
     "evalue": "Event instance has no attribute 'get_event_info'",
     "output_type": "error",
     "traceback": [
      "\u001b[0;31m---------------------------------------------------------------------------\u001b[0m",
      "\u001b[0;31mAttributeError\u001b[0m                            Traceback (most recent call last)",
      "\u001b[0;32m<ipython-input-5-54c2567178c0>\u001b[0m in \u001b[0;36m<module>\u001b[0;34m()\u001b[0m\n\u001b[1;32m      6\u001b[0m         \u001b[0;32mprint\u001b[0m \u001b[0;34m'GP France 2015 was cancelled partway through.'\u001b[0m\u001b[0;34m\u001b[0m\u001b[0m\n\u001b[1;32m      7\u001b[0m         \u001b[0;32mcontinue\u001b[0m\u001b[0;34m\u001b[0m\u001b[0m\n\u001b[0;32m----> 8\u001b[0;31m     \u001b[0mevent\u001b[0m\u001b[0;34m.\u001b[0m\u001b[0mget_event_info\u001b[0m\u001b[0;34m(\u001b[0m\u001b[0;34m)\u001b[0m\u001b[0;34m\u001b[0m\u001b[0m\n\u001b[0m",
      "\u001b[0;31mAttributeError\u001b[0m: Event instance has no attribute 'get_event_info'"
     ]
    }
   ],
   "source": [
    "# seas1415 = Season ('2015')\n",
    "seas1516 = Season('2016')\n",
    "# for seas in (seas1516):\n",
    "for event in seas1516.events:\n",
    "    if event.name == 'gpfra2015':\n",
    "        print 'GP France 2015 was cancelled partway through.'\n",
    "        continue\n",
    "    event.get_event_info()"
   ]
  },
  {
   "cell_type": "code",
   "execution_count": 3,
   "metadata": {
    "collapsed": false
   },
   "outputs": [],
   "source": [
    "nhk15 = seas1516.events[5]\n",
    "nhk15_men = nhk15.disciplines[0]\n",
    "nhk15_men_short = seas1516.events[5].disciplines[0].segments[0]\n",
    "nhk15_men_short.parse_raw_csv()"
   ]
  },
  {
   "cell_type": "code",
   "execution_count": 4,
   "metadata": {
    "collapsed": false
   },
   "outputs": [
    {
     "name": "stdout",
     "output_type": "stream",
     "text": [
      "Skater(name='Yuzuru HANYU', country='JPN', discipline=<DisciplineType.men: 0>) 1 start: 12\n",
      "TES: 59.44, PCS: 46.89, Total: 106.33\n",
      "Deductions: {}\n",
      "Element(number=1, name='4S', info='', base_value=10.5, bonus=True, goe=1.0, goes=[1, 2, 1, 1, 1, 2, 0, 0, 1], points=11.5)\n",
      "Element(number=2, name='4T+3T', info='', base_value=14.6, bonus=True, goe=2.57, goes=[2, 3, 2, 3, 3, 3, 2, 2, 3], points=17.17)\n",
      "Element(number=3, name='FCSp4', info='', base_value=3.2, bonus=True, goe=1.07, goes=[2, 3, 2, 2, 3, 2, 2, 2, 2], points=4.27)\n",
      "Element(number=4, name='3A', info='', base_value=9.35, bonus=True, goe=2.43, goes=[2, 3, 2, 2, 3, 3, 3, 2, 2], points=11.78)\n",
      "Element(number=5, name='CSSp4', info='', base_value=3.0, bonus=True, goe=1.21, goes=[3, 2, 3, 2, 3, 2, 3, 2, 2], points=4.21)\n",
      "Element(number=6, name='StSq4', info='', base_value=3.9, bonus=True, goe=1.9, goes=[3, 3, 2, 3, 3, 3, 2, 3, 2], points=5.8)\n",
      "Element(number=7, name='CCoSp3p4', info='', base_value=3.5, bonus=True, goe=1.21, goes=[3, 2, 3, 2, 3, 3, 2, 2, 2], points=4.71)\n",
      "ProgramComponent(name='Skating Skills', factor=1.0, scores=[9.5, 9.5, 9.25, 9.25, 9.5, 9.5, 9.5, 8.75, 9.25], points=9.39)\n",
      "ProgramComponent(name='Transition / Linking Footwork', factor=1.0, scores=[9.5, 9.0, 8.75, 9.25, 9.5, 9.5, 9.25, 8.5, 9.0], points=9.18)\n",
      "ProgramComponent(name='Performance / Execution', factor=1.0, scores=[9.5, 9.75, 9.0, 9.5, 10.0, 9.75, 9.5, 8.75, 9.5], points=9.5)\n",
      "ProgramComponent(name='Choreography / Composition', factor=1.0, scores=[9.5, 9.5, 9.0, 9.5, 10.0, 9.75, 9.25, 9.0, 9.25], points=9.39)\n",
      "ProgramComponent(name='Interpretation', factor=1.0, scores=[9.75, 9.25, 9.0, 9.25, 10.0, 9.75, 9.5, 9.0, 9.5], points=9.43)\n"
     ]
    }
   ],
   "source": [
    "yuzu = nhk15_men_short.scorecards[0]\n",
    "# yuzu.print_scorecard()\n",
    "kovtun = nhk15_men_short.scorecards[3]\n",
    "yuzu.print_scorecard()"
   ]
  },
  {
   "cell_type": "code",
   "execution_count": 1,
   "metadata": {
    "collapsed": true
   },
   "outputs": [],
   "source": [
    "from model.Season import Season"
   ]
  },
  {
   "cell_type": "code",
   "execution_count": 9,
   "metadata": {
    "collapsed": false
   },
   "outputs": [
    {
     "name": "stdout",
     "output_type": "stream",
     "text": [
      "2010\n"
     ]
    },
    {
     "ename": "AssertionError",
     "evalue": "",
     "output_type": "error",
     "traceback": [
      "\u001b[0;31m---------------------------------------------------------------------------\u001b[0m",
      "\u001b[0;31mAssertionError\u001b[0m                            Traceback (most recent call last)",
      "\u001b[0;32m<ipython-input-9-63b5beaf68a5>\u001b[0m in \u001b[0;36m<module>\u001b[0;34m()\u001b[0m\n\u001b[1;32m      2\u001b[0m     \u001b[0;32mprint\u001b[0m \u001b[0myear\u001b[0m\u001b[0;34m\u001b[0m\u001b[0m\n\u001b[1;32m      3\u001b[0m     \u001b[0mseason\u001b[0m \u001b[0;34m=\u001b[0m \u001b[0mSeason\u001b[0m\u001b[0;34m(\u001b[0m\u001b[0myear\u001b[0m\u001b[0;34m)\u001b[0m\u001b[0;34m\u001b[0m\u001b[0m\n\u001b[0;32m----> 4\u001b[0;31m     \u001b[0mseason\u001b[0m\u001b[0;34m.\u001b[0m\u001b[0mfetch_info\u001b[0m\u001b[0;34m(\u001b[0m\u001b[0mfetch_files\u001b[0m\u001b[0;34m=\u001b[0m\u001b[0mTrue\u001b[0m\u001b[0;34m)\u001b[0m\u001b[0;34m\u001b[0m\u001b[0m\n\u001b[0m",
      "\u001b[0;32m/Users/mengyazhu96/Dropbox/thesis/code/data/model/Season.py\u001b[0m in \u001b[0;36mfetch_info\u001b[0;34m(self, fetch_files)\u001b[0m\n\u001b[1;32m     38\u001b[0m                 \u001b[0;32mprint\u001b[0m \u001b[0;34m'GP France 2015 was cancelled partway through.'\u001b[0m\u001b[0;34m\u001b[0m\u001b[0m\n\u001b[1;32m     39\u001b[0m                 \u001b[0;32mcontinue\u001b[0m\u001b[0;34m\u001b[0m\u001b[0m\n\u001b[0;32m---> 40\u001b[0;31m             \u001b[0mevent\u001b[0m\u001b[0;34m.\u001b[0m\u001b[0mfetch_info\u001b[0m\u001b[0;34m(\u001b[0m\u001b[0mfetch_files\u001b[0m\u001b[0;34m)\u001b[0m\u001b[0;34m\u001b[0m\u001b[0m\n\u001b[0m\u001b[1;32m     41\u001b[0m \u001b[0;34m\u001b[0m\u001b[0m\n\u001b[1;32m     42\u001b[0m     \u001b[0;32mdef\u001b[0m \u001b[0m__repr__\u001b[0m\u001b[0;34m(\u001b[0m\u001b[0mself\u001b[0m\u001b[0;34m)\u001b[0m\u001b[0;34m:\u001b[0m\u001b[0;34m\u001b[0m\u001b[0m\n",
      "\u001b[0;32m/Users/mengyazhu96/Dropbox/thesis/code/data/model/Event.py\u001b[0m in \u001b[0;36mfetch_info\u001b[0;34m(self, fetch_files)\u001b[0m\n\u001b[1;32m     53\u001b[0m             \u001b[0mdiscipline\u001b[0m\u001b[0;34m.\u001b[0m\u001b[0mcreate_segments\u001b[0m\u001b[0;34m(\u001b[0m\u001b[0;34m)\u001b[0m\u001b[0;34m\u001b[0m\u001b[0m\n\u001b[1;32m     54\u001b[0m             \u001b[0;32mif\u001b[0m \u001b[0mfetch_files\u001b[0m\u001b[0;34m:\u001b[0m\u001b[0;34m\u001b[0m\u001b[0m\n\u001b[0;32m---> 55\u001b[0;31m                 \u001b[0mdiscipline\u001b[0m\u001b[0;34m.\u001b[0m\u001b[0mget_page\u001b[0m\u001b[0;34m(\u001b[0m\u001b[0;34m)\u001b[0m\u001b[0;34m\u001b[0m\u001b[0m\n\u001b[0m\u001b[1;32m     56\u001b[0m             \u001b[0;32mfor\u001b[0m \u001b[0msegment\u001b[0m \u001b[0;32min\u001b[0m \u001b[0mdiscipline\u001b[0m\u001b[0;34m.\u001b[0m\u001b[0msegments\u001b[0m\u001b[0;34m:\u001b[0m\u001b[0;34m\u001b[0m\u001b[0m\n\u001b[1;32m     57\u001b[0m                 \u001b[0msegment\u001b[0m\u001b[0;34m.\u001b[0m\u001b[0mpanel\u001b[0m\u001b[0;34m.\u001b[0m\u001b[0mparse_html\u001b[0m\u001b[0;34m(\u001b[0m\u001b[0;34m)\u001b[0m\u001b[0;34m\u001b[0m\u001b[0m\n",
      "\u001b[0;32m/Users/mengyazhu96/Dropbox/thesis/code/data/model/Discipline.py\u001b[0m in \u001b[0;36mget_page\u001b[0;34m(self)\u001b[0m\n\u001b[1;32m     47\u001b[0m \u001b[0;34m\u001b[0m\u001b[0m\n\u001b[1;32m     48\u001b[0m     \u001b[0;32mdef\u001b[0m \u001b[0mget_page\u001b[0m\u001b[0;34m(\u001b[0m\u001b[0mself\u001b[0m\u001b[0;34m)\u001b[0m\u001b[0;34m:\u001b[0m\u001b[0;34m\u001b[0m\u001b[0m\n\u001b[0;32m---> 49\u001b[0;31m         \u001b[0;32massert\u001b[0m \u001b[0mself\u001b[0m\u001b[0;34m.\u001b[0m\u001b[0mentries_url\u001b[0m \u001b[0;32mand\u001b[0m \u001b[0mself\u001b[0m\u001b[0;34m.\u001b[0m\u001b[0mresults_url\u001b[0m\u001b[0;34m\u001b[0m\u001b[0m\n\u001b[0m\u001b[1;32m     50\u001b[0m         \u001b[0mget_page\u001b[0m\u001b[0;34m(\u001b[0m\u001b[0mself\u001b[0m\u001b[0;34m.\u001b[0m\u001b[0mentries_url\u001b[0m\u001b[0;34m,\u001b[0m \u001b[0mself\u001b[0m\u001b[0;34m.\u001b[0m\u001b[0mseason\u001b[0m\u001b[0;34m,\u001b[0m \u001b[0mself\u001b[0m\u001b[0;34m.\u001b[0m\u001b[0mevent\u001b[0m\u001b[0;34m,\u001b[0m \u001b[0mself\u001b[0m\u001b[0;34m.\u001b[0m\u001b[0mentries_fname\u001b[0m\u001b[0;34m)\u001b[0m\u001b[0;34m\u001b[0m\u001b[0m\n\u001b[1;32m     51\u001b[0m         \u001b[0mget_page\u001b[0m\u001b[0;34m(\u001b[0m\u001b[0mself\u001b[0m\u001b[0;34m.\u001b[0m\u001b[0mresults_url\u001b[0m\u001b[0;34m,\u001b[0m \u001b[0mself\u001b[0m\u001b[0;34m.\u001b[0m\u001b[0mseason\u001b[0m\u001b[0;34m,\u001b[0m \u001b[0mself\u001b[0m\u001b[0;34m.\u001b[0m\u001b[0mevent\u001b[0m\u001b[0;34m,\u001b[0m \u001b[0mself\u001b[0m\u001b[0;34m.\u001b[0m\u001b[0mresults_fname\u001b[0m\u001b[0;34m)\u001b[0m\u001b[0;34m\u001b[0m\u001b[0m\n",
      "\u001b[0;31mAssertionError\u001b[0m: "
     ]
    }
   ],
   "source": [
    "for year in map(str, xrange(2010, 2013)):\n",
    "    print year\n",
    "    season = Season(year)\n",
    "    season.fetch_info(fetch_files=True)"
   ]
  },
  {
   "cell_type": "code",
   "execution_count": 2,
   "metadata": {
    "collapsed": false
   },
   "outputs": [
    {
     "name": "stdout",
     "output_type": "stream",
     "text": [
      "GP France 2015 was cancelled partway through.\n"
     ]
    }
   ],
   "source": [
    "season = Season('2016')\n",
    "season.fetch_info()"
   ]
  },
  {
   "cell_type": "code",
   "execution_count": 3,
   "metadata": {
    "collapsed": false
   },
   "outputs": [],
   "source": [
    "rus = season.events[3].disciplines[1].segments[1]"
   ]
  },
  {
   "cell_type": "code",
   "execution_count": 12,
   "metadata": {
    "collapsed": false
   },
   "outputs": [
    {
     "data": {
      "text/plain": [
       "'ladies_free'"
      ]
     },
     "execution_count": 12,
     "metadata": {},
     "output_type": "execute_result"
    }
   ],
   "source": [
    "rus.name"
   ]
  },
  {
   "cell_type": "code",
   "execution_count": 3,
   "metadata": {
    "collapsed": false
   },
   "outputs": [
    {
     "name": "stdout",
     "output_type": "stream",
     "text": [
      "GP France 2015 was cancelled partway through.\n"
     ]
    }
   ],
   "source": [
    "from model.Season import Season\n",
    "season = Season('2016')\n",
    "season.fetch_info()\n",
    "rus = season.events[3].disciplines[1].segments[1]\n",
    "rus.write_to_csv()"
   ]
  },
  {
   "cell_type": "code",
   "execution_count": 8,
   "metadata": {
    "collapsed": false
   },
   "outputs": [
    {
     "name": "stdout",
     "output_type": "stream",
     "text": [
      "Skater(name='Rika HONGO', country='JPN', discipline=<DisciplineType.ladies: 1>) 5 start: 7\n",
      "TES: 56.47, PCS: 60.2, Total: 115.67\n",
      "Deductions: {'Falls': -1.0}\n",
      "Element(number=1, name='3F+3T', info='', base_value=9.6, bonus=False, goe=0.7, goes=[1, 1, 1, 2, 1, 1, 0, 0, 2], points=10.3)\n",
      "Element(number=2, name='2S', info='', base_value=1.3, bonus=False, goe=0.09, goes=[0, 0, 0, 1, 0, 1, 0, 1, 1], points=1.39)\n",
      "Element(number=3, name='3Lze<', info='e', base_value=3.6, bonus=False, goe=-2.1, goes=[-3, -3, -3, -3, -3, -3, -3, -3, -3], points=1.5)\n",
      "Element(number=4, name='FCSp4', info='', base_value=3.2, bonus=False, goe=0.21, goes=[0, 1, 1, 1, 0, 0, 0, 0, 1], points=3.41)\n",
      "Element(number=5, name='StSq3', info='', base_value=3.3, bonus=False, goe=0.57, goes=[0, 0, 2, 2, 1, 1, 1, 1, 2], points=3.87)\n",
      "Element(number=6, name='2A+3T+2T', info='', base_value=9.79, bonus=True, goe=0.6, goes=[0, 1, 1, 1, 0, 1, 1, 1, 1], points=10.39)\n",
      "Element(number=7, name='3Lo', info='', base_value=5.61, bonus=True, goe=0.5, goes=[0, 1, 1, 1, 0, 1, 0, 1, 1], points=6.11)\n",
      "Element(number=8, name='CCoSp3p4', info='', base_value=3.5, bonus=False, goe=0.07, goes=[0, 0, 0, 1, 0, 0, 1, 0, 0], points=3.57)\n",
      "Element(number=9, name='3Lze<+2T', info='e', base_value=5.39, bonus=True, goe=-1.7, goes=[-3, -3, -3, -2, -2, -2, -3, -2, -2], points=3.69)\n",
      "Element(number=10, name='ChSq1', info='', base_value=2.0, bonus=False, goe=0.9, goes=[1, 1, 1, 2, 1, 1, 2, 2, 1], points=2.9)\n",
      "Element(number=11, name='3S', info='', base_value=4.84, bonus=True, goe=0.5, goes=[0, 1, 1, 1, 0, 1, 0, 1, 1], points=5.34)\n",
      "Element(number=12, name='FCCoSp3p4', info='', base_value=3.5, bonus=False, goe=0.5, goes=[1, 1, 1, 1, 0, 1, 1, 1, 2], points=4.0)\n",
      "ProgramComponent(name='Skating Skills', factor=1.6, scores=[7.5, 7.5, 7.75, 7.75, 7.5, 7.75, 7.75, 7.5, 7.75], points=7.64)\n",
      "ProgramComponent(name='Transition / Linking Footwork', factor=1.6, scores=[7.25, 6.75, 7.25, 7.75, 7.25, 7.5, 7.5, 7.25, 7.75], points=7.39)\n",
      "ProgramComponent(name='Performance / Execution', factor=1.6, scores=[7.25, 7.25, 7.5, 8.0, 7.5, 7.25, 7.5, 7.5, 7.75], points=7.46)\n",
      "ProgramComponent(name='Choreography / Composition', factor=1.6, scores=[7.5, 6.75, 7.5, 7.5, 7.5, 7.5, 7.75, 7.75, 8.0], points=7.57)\n",
      "ProgramComponent(name='Interpretation', factor=1.6, scores=[7.5, 6.75, 7.5, 8.0, 7.5, 7.5, 7.5, 7.5, 8.0], points=7.57)\n"
     ]
    }
   ],
   "source": [
    "rus.scorecards[4].print_scorecard()"
   ]
  },
  {
   "cell_type": "code",
   "execution_count": 2,
   "metadata": {
    "collapsed": false
   },
   "outputs": [],
   "source": [
    "from model.Season import Season\n",
    "recent = Season('2017')\n",
    "recent.fetch_info()"
   ]
  },
  {
   "cell_type": "code",
   "execution_count": 3,
   "metadata": {
    "collapsed": false
   },
   "outputs": [],
   "source": [
    "recent.events[-1].disciplines[0].segments[0].parse_raw_csv()"
   ]
  },
  {
   "cell_type": "code",
   "execution_count": 4,
   "metadata": {
    "collapsed": false
   },
   "outputs": [
    {
     "name": "stdout",
     "output_type": "stream",
     "text": [
      "Skater(name='Javier FERNANDEZ', country='ESP', discipline=<DisciplineType.men: 0>) 1 start: 34\n",
      "TES: 60.79, PCS: 48.26, Total: 109.05\n",
      "Deductions: {}\n",
      "Element(number=1, name='4T+3T', info='', base_value=14.6, bonus=False, goe=2.86, goes=[3, 3, 2, 3, 3, 3, 3, 3, 2], points=17.46)\n",
      "Element(number=2, name='4S', info='', base_value=10.5, bonus=False, goe=2.86, goes=[3, 3, 3, 3, 3, 2, 3, 2, 3], points=13.36)\n",
      "Element(number=3, name='FUSp4', info='', base_value=2.9, bonus=False, goe=0.36, goes=[2, 0, 1, 1, -1, 0, 1, 0, 2], points=3.26)\n",
      "Element(number=4, name='3A', info='', base_value=9.35, bonus=True, goe=3.0, goes=[3, 3, 3, 3, 3, 3, 3, 3, 2], points=12.35)\n",
      "Element(number=5, name='CCoSp4', info='', base_value=3.5, bonus=False, goe=1.0, goes=[2, 2, 3, 2, 1, 2, 2, 2, 2], points=4.5)\n",
      "Element(number=6, name='CSSp4', info='', base_value=3.0, bonus=False, goe=0.86, goes=[1, 1, 2, 1, 2, 2, 2, 2, 2], points=3.86)\n",
      "Element(number=7, name='StSq4', info='', base_value=3.9, bonus=False, goe=2.1, goes=[3, 3, 3, 3, 3, 3, 3, 3, 3], points=6.0)\n",
      "ProgramComponent(name='Skating Skills', factor=1.0, scores=[9.25, 9.25, 9.5, 9.5, 9.5, 9.25, 9.5, 9.5, 9.75], points=9.43)\n",
      "ProgramComponent(name='Transitions', factor=1.0, scores=[9.25, 9.25, 9.5, 9.25, 9.25, 9.25, 9.5, 9.75, 9.5], points=9.36)\n",
      "ProgramComponent(name='Performance', factor=1.0, scores=[9.75, 9.5, 9.75, 10.0, 9.75, 9.5, 10.0, 10.0, 9.75], points=9.79)\n",
      "ProgramComponent(name='Composition', factor=1.0, scores=[9.75, 9.75, 9.75, 10.0, 9.5, 9.25, 9.75, 10.0, 9.75], points=9.75)\n",
      "ProgramComponent(name='Interpretation of the Music', factor=1.0, scores=[10.0, 9.75, 10.0, 10.0, 9.75, 10.0, 10.0, 10.0, 9.75], points=9.93)\n"
     ]
    }
   ],
   "source": [
    "recent.events[-1].disciplines[0].segments[0].scorecards[0].print_scorecard()"
   ]
  },
  {
   "cell_type": "code",
   "execution_count": null,
   "metadata": {
    "collapsed": true
   },
   "outputs": [],
   "source": []
  }
 ],
 "metadata": {
  "kernelspec": {
   "display_name": "Python 2",
   "language": "python",
   "name": "python2"
  },
  "language_info": {
   "codemirror_mode": {
    "name": "ipython",
    "version": 2
   },
   "file_extension": ".py",
   "mimetype": "text/x-python",
   "name": "python",
   "nbconvert_exporter": "python",
   "pygments_lexer": "ipython2",
   "version": "2.7.13"
  }
 },
 "nbformat": 4,
 "nbformat_minor": 2
}
