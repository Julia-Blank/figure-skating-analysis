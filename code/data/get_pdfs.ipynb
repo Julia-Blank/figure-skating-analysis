{
 "cells": [
  {
   "cell_type": "code",
   "execution_count": 324,
   "metadata": {
    "collapsed": true
   },
   "outputs": [],
   "source": [
    "from collections import namedtuple\n",
    "from enum import Enum\n",
    "from lxml import html, etree\n",
    "import os\n",
    "import requests"
   ]
  },
  {
   "cell_type": "code",
   "execution_count": 325,
   "metadata": {
    "collapsed": false
   },
   "outputs": [],
   "source": [
    "class DisciplineType(Enum):\n",
    "    men = 0\n",
    "    ladies = 1\n",
    "    pairs = 2\n",
    "    ice_dance = 3"
   ]
  },
  {
   "cell_type": "code",
   "execution_count": 326,
   "metadata": {
    "collapsed": true
   },
   "outputs": [],
   "source": [
    "class SegmentType(Enum):\n",
    "    short = 0\n",
    "    free = 1\n",
    "    original_dance = 2"
   ]
  },
  {
   "cell_type": "code",
   "execution_count": 327,
   "metadata": {
    "collapsed": true
   },
   "outputs": [],
   "source": [
    "Judge = namedtuple('Judge', ['name', 'country'])"
   ]
  },
  {
   "cell_type": "code",
   "execution_count": 328,
   "metadata": {
    "collapsed": true
   },
   "outputs": [],
   "source": [
    "def get_page(url, season, event, fname):\n",
    "    target_dir = season.year + '/' + event.name + '/'\n",
    "    if not os.path.isdir(target_dir):\n",
    "        os.makedirs(target_dir)\n",
    "    page = requests.get(url)\n",
    "    with open(target_dir + fname, 'w+') as f:\n",
    "        f.write(page.content)"
   ]
  },
  {
   "cell_type": "code",
   "execution_count": 329,
   "metadata": {
    "collapsed": false
   },
   "outputs": [],
   "source": [
    "class JudgePanel:\n",
    "    def __init__(self, url):\n",
    "        self.url = url\n",
    "\n",
    "    def get_page(self, season, competition, discipline, segment):\n",
    "        get_page(self.url, season, competition, discipline.name + '_' + segment.name + '_panel.html')\n",
    "        \n",
    "# ['referee', 'technical_controller', 'technical_specialist', 'asst_technical_specialist',\n",
    "#                          'judges', 'num_judges', 'data_operator', 'replay_operator',\n",
    "#                          'file_name', 'url'])  # where this panel info came from"
   ]
  },
  {
   "cell_type": "code",
   "execution_count": 330,
   "metadata": {
    "collapsed": true
   },
   "outputs": [],
   "source": [
    "Skater = namedtuple('Skater', ['name', 'country', 'discipline'])"
   ]
  },
  {
   "cell_type": "code",
   "execution_count": 331,
   "metadata": {
    "collapsed": true
   },
   "outputs": [],
   "source": [
    "Element = namedtuple('Element', ['name',  # string, e.g. 3A\n",
    "                                 'base_value',\n",
    "                                 'info',  # e.g. UR, edge call, REP\n",
    "                                 'goes']) # list"
   ]
  },
  {
   "cell_type": "code",
   "execution_count": 332,
   "metadata": {
    "collapsed": true
   },
   "outputs": [],
   "source": [
    "ProgramComponent = namedtuple('ProgramComponent', ['name', 'factor', 'scores'])"
   ]
  },
  {
   "cell_type": "code",
   "execution_count": 333,
   "metadata": {
    "collapsed": false
   },
   "outputs": [
    {
     "ename": "IndentationError",
     "evalue": "expected an indented block (<ipython-input-333-34997714df6b>, line 14)",
     "output_type": "error",
     "traceback": [
      "\u001b[0;36m  File \u001b[0;32m\"<ipython-input-333-34997714df6b>\"\u001b[0;36m, line \u001b[0;32m14\u001b[0m\n\u001b[0;31m    #         self.page_number\u001b[0m\n\u001b[0m                              ^\u001b[0m\n\u001b[0;31mIndentationError\u001b[0m\u001b[0;31m:\u001b[0m expected an indented block\n"
     ]
    }
   ],
   "source": [
    "class ScoreCard:\n",
    "    def __init__(self):\n",
    "    \n",
    "#         self.rank\n",
    "#         self.skater  # type Skater\n",
    "#         self.start_number  # skate order\n",
    "#         self.total_score\n",
    "#         self.tes\n",
    "#         self.pcs\n",
    "#         self.deductions # maps deduction text to point value\n",
    "#         self.elements   # list of Elements\n",
    "#         self.pcs        # list of Program Components\n",
    "        \n",
    "#         self.page_number"
   ]
  },
  {
   "cell_type": "code",
   "execution_count": 334,
   "metadata": {
    "collapsed": true
   },
   "outputs": [],
   "source": [
    "class Segment:\n",
    "    def __init__(self, segment_type, url):\n",
    "        self.type = SegmentType(segment_type)\n",
    "#         self.scorecards\n",
    "#         self.panel # JudgePanel\n",
    "        self.url = url  # score url\n",
    "        self.panel = None\n",
    "\n",
    "    def get_page(self, season, competition, discipline):\n",
    "        get_page(self.url, season, competition, discipline.name + '_' + self.type.name + '.pdf')\n"
   ]
  },
  {
   "cell_type": "code",
   "execution_count": 341,
   "metadata": {
    "collapsed": true
   },
   "outputs": [],
   "source": [
    "class Discipline:\n",
    "    def __init__(self, discipline):\n",
    "        self.discipline = discipline  # of type DisciplineType\n",
    "        self.segments = []  # list of Segments\n",
    "        self.entries = []\n",
    "        self.entries_url = None\n",
    "        self.results = []\n",
    "        self.results_url = None\n",
    "    \n",
    "    def get_entries_results_pages(self, season, competition):\n",
    "        assert self.entries_url and self.results_url\n",
    "        get_page(self.entries_url, season, competition, self.discipline.name + '_entries.html')\n",
    "        get_page(self.results_url, season, competition, self.discipline.name + '_results.html')"
   ]
  },
  {
   "cell_type": "code",
   "execution_count": 342,
   "metadata": {
    "collapsed": true
   },
   "outputs": [],
   "source": [
    "class Event:\n",
    "    def __init__(self, season, name):\n",
    "        self.name = name      # the abbreviation + year\n",
    "        self.season = season  # season object\n",
    "        self.url = 'http://www.isuresults.com/results/' + name + '/'  # will not work for 16-17 or 17-18 season\n",
    "    \n",
    "    def __repr__(self):\n",
    "        return self.name\n",
    "    \n",
    "    def get_event_files(self):\n",
    "        page = requests.get(self.url)\n",
    "        try:\n",
    "            tree = html.fromstring(page.content)\n",
    "        except etree.ParserError:\n",
    "            print 'Event not found: % s' % event\n",
    "            return\n",
    "\n",
    "        if not list(tree.iter('title')):\n",
    "            print 'Event not found: % s' % event\n",
    "            return\n",
    "        else:\n",
    "            print list(tree.iter('title'))[0].text\n",
    "        \n",
    "        # Drill down to the table part.\n",
    "        table = tree.getchildren()[1].getchildren()[2].getchildren()\n",
    "        elts = self._flatten_html_children(table)\n",
    "        elts = self._flatten_html_children(elts)\n",
    "        elts = self._flatten_html_children(elts)\n",
    "        elts = self._flatten_html_children(elts)\n",
    "        \n",
    "        # 12 rows of actual table\n",
    "        rows = elts[2].getchildren()[0].getchildren()[1:]\n",
    "        \n",
    "        assert len(rows) == 12\n",
    "        \n",
    "        self.disciplines = []\n",
    "        for i, discipline_type in enumerate(list(DisciplineType)):\n",
    "            \n",
    "            discipline = Discipline(discipline_type)\n",
    "            \n",
    "            # Get entries and results pages.\n",
    "            entries, results = self._flatten_html_children(rows[i * 3])\n",
    "            discipline.entries_url = self.url + entries.attrib['href']\n",
    "            discipline.results_url = self.url + results.attrib['href']\n",
    "            discipline.get_entries_results_pages(self.season, self)\n",
    "            \n",
    "            # Get segment files.\n",
    "            for prog in (SegmentType.short, SegmentType.free):\n",
    "                j = prog.value\n",
    "                panel, detailed, scorecards = self._flatten_html_children(rows[i * 3 + j + 1])\n",
    "                segment = Segment(prog, self.url + scorecards.attrib['href'])\n",
    "                segment.get_page(self.season, self, discipline_type)\n",
    "                discipline.segments.append(segment)\n",
    "                panel = JudgePanel(self.url + panel.attrib['href'])\n",
    "                panel.get_page(self.season, self, discipline_type, prog)\n",
    "            self.disciplines.append(discipline)\n",
    "                \n",
    "                \n",
    "    def _flatten_html_children(self, elts):\n",
    "        children = []\n",
    "        for elt in elts:\n",
    "            for child in elt.getchildren():\n",
    "                children.append(child)\n",
    "        return children"
   ]
  },
  {
   "cell_type": "code",
   "execution_count": null,
   "metadata": {
    "collapsed": false
   },
   "outputs": [
    {
     "name": "stdout",
     "output_type": "stream",
     "text": [
      "ISU GP 2014 Hilton HHonors Skate America\n"
     ]
    }
   ],
   "source": [
    "seas16 = Season('2015')\n",
    "for event in seas16.events:\n",
    "    event.get_event_files()"
   ]
  },
  {
   "cell_type": "code",
   "execution_count": null,
   "metadata": {
    "collapsed": true
   },
   "outputs": [],
   "source": []
  },
  {
   "cell_type": "code",
   "execution_count": 261,
   "metadata": {
    "collapsed": false
   },
   "outputs": [
    {
     "data": {
      "text/plain": [
       "'1415'"
      ]
     },
     "execution_count": 261,
     "metadata": {},
     "output_type": "execute_result"
    }
   ],
   "source": [
    "seas15.year"
   ]
  },
  {
   "cell_type": "code",
   "execution_count": 162,
   "metadata": {
    "collapsed": true
   },
   "outputs": [],
   "source": [
    "class Season:\n",
    "    def __init__(self, spring_str_rep):\n",
    "        champ_year = spring_str_rep\n",
    "        gp_year = str(int(spring_str_rep) - 1)\n",
    "        two_digit_season = int(spring_str_rep[2:])\n",
    "        if two_digit_season <= 9:\n",
    "            twotwo_year = '0' + str(two_digit_season - 1) + '0' + str(two_digit_season)\n",
    "        elif two_digit_season <= 10:\n",
    "            twotwo_year = '0' + str(two_digit_season - 1) + str(two_digit_season)\n",
    "        else:\n",
    "            twotwo_year = str(two_digit_season - 1) + str(two_digit_season)\n",
    "        gpf_year = twotwo_year\n",
    "        \n",
    "        champs = ['ec', 'fc', 'wc']\n",
    "        gps = ['usa', 'can', 'chn', 'rus', 'fra', 'jpn']\n",
    "        gps = ['gp' + gp for gp in gps]\n",
    "        \n",
    "        self.year = twotwo_year\n",
    "        \n",
    "        event_names = [gp + gp_year for gp in gps]\n",
    "        event_names.append('gpf' + twotwo_year)\n",
    "        event_names += [champ + champ_year for champ in champs]\n",
    "        \n",
    "        self.events = [Event(self, event_name) for event_name in event_names]\n",
    "    \n",
    "    def __repr__(self):\n",
    "        return 'Season: \\'' + self.year[:2] + '-\\'' + self.year[2:]"
   ]
  },
  {
   "cell_type": "code",
   "execution_count": 122,
   "metadata": {
    "collapsed": true
   },
   "outputs": [],
   "source": [
    "def print_events(events):\n",
    "    for event in events:\n",
    "        page = requests.get('http://www.isuresults.com/results/' + event)\n",
    "        try:\n",
    "            tree = html.fromstring(page.content)\n",
    "        except etree.ParserError:\n",
    "            print 'Event not found: % s' % event\n",
    "            continue\n",
    "\n",
    "        if not list(tree.iter('title')):\n",
    "            print 'Event not found: % s' % event\n",
    "        else:\n",
    "            print list(tree.iter('title'))[0].text\n",
    "#             if 'Four' in list(tree.iter('title'))[0].text:\n",
    "#                 body = etree.SubElement(tree, 'body')\n",
    "#                 print type(body)\n",
    "#                 # print etree.tostring(tree)"
   ]
  },
  {
   "cell_type": "code",
   "execution_count": 222,
   "metadata": {
    "collapsed": true
   },
   "outputs": [],
   "source": [
    "url = 'http://www.isuresults.com/results/fc2015'\n",
    "page = requests.get(url)\n",
    "tree = html.fromstring(page.content)\n",
    "table = tree.getchildren()[1].getchildren()[2].getchildren()"
   ]
  },
  {
   "cell_type": "code",
   "execution_count": 165,
   "metadata": {
    "collapsed": true
   },
   "outputs": [],
   "source": [
    "def list_children(elts):\n",
    "    children = []\n",
    "    for elt in elts:\n",
    "        for child in elt.getchildren():\n",
    "            children.append(child)\n",
    "    return children"
   ]
  },
  {
   "cell_type": "code",
   "execution_count": 227,
   "metadata": {
    "collapsed": false
   },
   "outputs": [],
   "source": [
    "elts = list_children(table)\n",
    "elts = list_children(elts)\n",
    "elts = list_children(elts)\n",
    "elts = list_children(elts)\n",
    "rows = elts[2].getchildren()[0].getchildren()[1:]"
   ]
  },
  {
   "cell_type": "code",
   "execution_count": 238,
   "metadata": {
    "collapsed": false
   },
   "outputs": [
    {
     "data": {
      "text/plain": [
       "12"
      ]
     },
     "execution_count": 238,
     "metadata": {},
     "output_type": "execute_result"
    }
   ],
   "source": [
    "len(rows)"
   ]
  },
  {
   "cell_type": "code",
   "execution_count": 68,
   "metadata": {
    "collapsed": false
   },
   "outputs": [],
   "source": [
    "rows = [tr.getchildren() for tr in elts]\n",
    "rows = rows[1:]  # cut out the header of the table\n",
    "\n",
    "# Get rid of the time schedule at the bottom.\n",
    "row_names = [row[0].text for row in rows]\n",
    "seen_id = False\n",
    "break_index = -1\n",
    "for i, name in enumerate(row_names):\n",
    "    if seen_id and name:\n",
    "        break_index = i\n",
    "        break\n",
    "    if name == 'Ice Dance':\n",
    "        seen_id = True\n",
    "        continue\n",
    "\n",
    "rows = rows[:break_index]"
   ]
  },
  {
   "cell_type": "code",
   "execution_count": 100,
   "metadata": {
    "collapsed": false
   },
   "outputs": [
    {
     "name": "stdout",
     "output_type": "stream",
     "text": [
      "CAT001EN.HTM CAT001RS.HTM\n",
      "CAT001EN.HTM CAT001RS.HTM\n",
      "CAT001EN.HTM CAT001RS.HTM\n",
      "CAT001EN.HTM CAT001RS.HTM\n"
     ]
    }
   ],
   "source": [
    "num_disciplines_seen = 0\n",
    "discipline = None\n",
    "segment = None\n",
    "for row in rows:\n",
    "    is_first_row = False\n",
    "    if row[0].text is not None:\n",
    "        discipline = row[0].text\n",
    "        segment = None\n",
    "        entries, results = list_children(rows[0])\n",
    "        print entries.attrib['href'], results.attrib['href']"
   ]
  },
  {
   "cell_type": "code",
   "execution_count": 77,
   "metadata": {
    "collapsed": false
   },
   "outputs": [
    {
     "name": "stdout",
     "output_type": "stream",
     "text": [
      "[<Element a at 0x10e3ec260>, <Element a at 0x10e3ec368>]\n"
     ]
    }
   ],
   "source": [
    "children = list_children(rows[0])\n",
    "print children"
   ]
  },
  {
   "cell_type": "code",
   "execution_count": 83,
   "metadata": {
    "collapsed": false
   },
   "outputs": [
    {
     "data": {
      "text/plain": [
       "{'href': 'CAT001EN.HTM'}"
      ]
     },
     "execution_count": 83,
     "metadata": {},
     "output_type": "execute_result"
    }
   ],
   "source": [
    "children[0].attrib['href']"
   ]
  },
  {
   "cell_type": "code",
   "execution_count": 85,
   "metadata": {
    "collapsed": false
   },
   "outputs": [
    {
     "data": {
      "text/plain": [
       "'http://www.isuresults.com/results/fc2015/CAT001EN.HTM'"
      ]
     },
     "execution_count": 85,
     "metadata": {},
     "output_type": "execute_result"
    }
   ],
   "source": [
    "url + '/' + children[0].attrib['href']"
   ]
  },
  {
   "cell_type": "code",
   "execution_count": 86,
   "metadata": {
    "collapsed": true
   },
   "outputs": [],
   "source": [
    "page = requests.get('http://www.isuresults.com/results/fc2015/CAT001EN.HTM')"
   ]
  },
  {
   "cell_type": "code",
   "execution_count": 89,
   "metadata": {
    "collapsed": false
   },
   "outputs": [],
   "source": [
    "with open('temp.html', 'w+') as f:\n",
    "    f.write(page.content)"
   ]
  },
  {
   "cell_type": "code",
   "execution_count": 91,
   "metadata": {
    "collapsed": false
   },
   "outputs": [
    {
     "ename": "IOError",
     "evalue": "[Errno 2] No such file or directory: 'folder/temp.pdf'",
     "output_type": "error",
     "traceback": [
      "\u001b[0;31m---------------------------------------------------------------------------\u001b[0m",
      "\u001b[0;31mIOError\u001b[0m                                   Traceback (most recent call last)",
      "\u001b[0;32m<ipython-input-91-12d5d88a056a>\u001b[0m in \u001b[0;36m<module>\u001b[0;34m()\u001b[0m\n\u001b[1;32m      1\u001b[0m \u001b[0mpage\u001b[0m \u001b[0;34m=\u001b[0m \u001b[0mrequests\u001b[0m\u001b[0;34m.\u001b[0m\u001b[0mget\u001b[0m\u001b[0;34m(\u001b[0m\u001b[0;34m'http://www.isuresults.com/results/fc2015/fc2015_Men_SP_Scores.pdf'\u001b[0m\u001b[0;34m)\u001b[0m\u001b[0;34m\u001b[0m\u001b[0m\n\u001b[0;32m----> 2\u001b[0;31m \u001b[0;32mwith\u001b[0m \u001b[0mopen\u001b[0m\u001b[0;34m(\u001b[0m\u001b[0;34m'folder/temp.pdf'\u001b[0m\u001b[0;34m,\u001b[0m \u001b[0;34m'w+'\u001b[0m\u001b[0;34m)\u001b[0m \u001b[0;32mas\u001b[0m \u001b[0mf\u001b[0m\u001b[0;34m:\u001b[0m\u001b[0;34m\u001b[0m\u001b[0m\n\u001b[0m\u001b[1;32m      3\u001b[0m     \u001b[0mf\u001b[0m\u001b[0;34m.\u001b[0m\u001b[0mwrite\u001b[0m\u001b[0;34m(\u001b[0m\u001b[0mpage\u001b[0m\u001b[0;34m.\u001b[0m\u001b[0mcontent\u001b[0m\u001b[0;34m)\u001b[0m\u001b[0;34m\u001b[0m\u001b[0m\n",
      "\u001b[0;31mIOError\u001b[0m: [Errno 2] No such file or directory: 'folder/temp.pdf'"
     ]
    }
   ],
   "source": [
    "page = requests.get('http://www.isuresults.com/results/fc2015/fc2015_Men_SP_Scores.pdf')\n",
    "with open('temp.pdf', 'w+') as f:\n",
    "    f.write(page.content)"
   ]
  },
  {
   "cell_type": "code",
   "execution_count": 92,
   "metadata": {
    "collapsed": true
   },
   "outputs": [],
   "source": [
    "def get_page(url, season, competition, fname):\n",
    "    target_dir = season + '/' + competition + '/'\n",
    "    if not os.path.isdir(target_dir):\n",
    "        os.makedirs(target_dir)\n",
    "    page = requests.get(url)\n",
    "    with open(target_dir + fname, 'w+') as f:\n",
    "        f.write(page.content)"
   ]
  },
  {
   "cell_type": "code",
   "execution_count": null,
   "metadata": {
    "collapsed": true
   },
   "outputs": [],
   "source": []
  }
 ],
 "metadata": {
  "kernelspec": {
   "display_name": "Python 2",
   "language": "python",
   "name": "python2"
  },
  "language_info": {
   "codemirror_mode": {
    "name": "ipython",
    "version": 2
   },
   "file_extension": ".py",
   "mimetype": "text/x-python",
   "name": "python",
   "nbconvert_exporter": "python",
   "pygments_lexer": "ipython2",
   "version": "2.7.13"
  }
 },
 "nbformat": 4,
 "nbformat_minor": 2
}
