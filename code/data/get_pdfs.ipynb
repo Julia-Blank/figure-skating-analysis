{
 "cells": [
  {
   "cell_type": "code",
   "execution_count": 76,
   "metadata": {
    "collapsed": true
   },
   "outputs": [],
   "source": [
    "from collections import namedtuple\n",
    "import csv\n",
    "from enum import Enum\n",
    "from lxml import html, etree\n",
    "import os\n",
    "import re\n",
    "import requests\n",
    "import subprocess"
   ]
  },
  {
   "cell_type": "code",
   "execution_count": 55,
   "metadata": {
    "collapsed": true
   },
   "outputs": [],
   "source": [
    "tabula_path = 'tabula-1.0.1-jar-with-dependencies.jar'"
   ]
  },
  {
   "cell_type": "code",
   "execution_count": 5,
   "metadata": {
    "collapsed": false
   },
   "outputs": [],
   "source": [
    "class DisciplineType(Enum):\n",
    "    men = 0\n",
    "    ladies = 1\n",
    "    pairs = 2\n",
    "    ice_dance = 3"
   ]
  },
  {
   "cell_type": "code",
   "execution_count": 6,
   "metadata": {
    "collapsed": true
   },
   "outputs": [],
   "source": [
    "class SegmentType(Enum):\n",
    "    short = 0\n",
    "    free = 1\n",
    "    original_dance = 2"
   ]
  },
  {
   "cell_type": "code",
   "execution_count": 7,
   "metadata": {
    "collapsed": true
   },
   "outputs": [],
   "source": [
    "Judge = namedtuple('Judge', ['name', 'country'])"
   ]
  },
  {
   "cell_type": "code",
   "execution_count": 97,
   "metadata": {
    "collapsed": true
   },
   "outputs": [],
   "source": [
    "def get_fpath(season, event, fname):\n",
    "    return season.year + '/' + event.name + '/' + fname"
   ]
  },
  {
   "cell_type": "code",
   "execution_count": 98,
   "metadata": {
    "collapsed": true
   },
   "outputs": [],
   "source": [
    "def get_page(url, season, event, fname):\n",
    "    target_dir = season.year + '/' + event.name + '/'\n",
    "    if not os.path.isdir(target_dir):\n",
    "        os.makedirs(target_dir)\n",
    "    page = requests.get(url)\n",
    "    with open(target_dir + fname, 'w+') as f:\n",
    "        f.write(page.content)"
   ]
  },
  {
   "cell_type": "code",
   "execution_count": 99,
   "metadata": {
    "collapsed": false
   },
   "outputs": [],
   "source": [
    "class JudgePanel:\n",
    "    def __init__(self, url, season, event, discipline, segment):\n",
    "        self.url = url\n",
    "        self.season = season\n",
    "        self.event = event\n",
    "        self.discipline = discipline\n",
    "        self.segment = segment\n",
    "        self.fname = segment.name + '_panel.html'\n",
    "        \n",
    "    def get_page(self):\n",
    "        get_page(self.url, self.season, self.event, self.fname)\n",
    "        \n",
    "# ['referee', 'technical_controller', 'technical_specialist', 'asst_technical_specialist',\n",
    "#                          'judges', 'num_judges', 'data_operator', 'replay_operator',\n",
    "#                          'file_name', 'url'])  # where this panel info came from"
   ]
  },
  {
   "cell_type": "code",
   "execution_count": 100,
   "metadata": {
    "collapsed": true
   },
   "outputs": [],
   "source": [
    "Skater = namedtuple('Skater', ['name', 'country', 'discipline'])"
   ]
  },
  {
   "cell_type": "code",
   "execution_count": 165,
   "metadata": {
    "collapsed": true
   },
   "outputs": [],
   "source": [
    "Element = namedtuple('Element', ['number',       # order in program\n",
    "                                 'name',         # e.g. 3A\n",
    "                                 'info',         # e.g. UR\n",
    "                                 'base_value',   # float\n",
    "                                 'bonus',\n",
    "                                 'goe',          # aggregated over judges\n",
    "                                 'goes',         # list of individual judge GOEs (-3 to 3)\n",
    "                                 'points'])      # total points for element"
   ]
  },
  {
   "cell_type": "code",
   "execution_count": 195,
   "metadata": {
    "collapsed": true
   },
   "outputs": [],
   "source": [
    "ProgramComponent = namedtuple('ProgramComponent', ['name',    # e.g. 'Skating Skills'\n",
    "                                                   'factor',  # e.g. 1.0 in men's short, 2.0 in men's free\n",
    "                                                   'scores',  # list of individual judge's scores\n",
    "                                                   'points']) # aggregated judge's scores multiplied by factor"
   ]
  },
  {
   "cell_type": "code",
   "execution_count": 119,
   "metadata": {
    "collapsed": false
   },
   "outputs": [],
   "source": [
    "class Segment:\n",
    "    def __init__(self, url, season, event, discipline, segment):\n",
    "        self.url = url  # url to scores\n",
    "        self.season = season\n",
    "        self.event = event\n",
    "        self.discipline = discipline\n",
    "        self.type = segment\n",
    "        self.name = discipline.name + '_' + segment.name\n",
    "        \n",
    "        self.fname = discipline.name + '_' + segment.name\n",
    "        self.pdf_fname = self.fname + '.pdf'\n",
    "        self.csv_fname = self.fname + '.csv'\n",
    "        self.fpath = get_fpath(season, event, self.pdf_fname)\n",
    "        self.csv_path = get_fpath(season, event, self.csv_fname)\n",
    "#         self.scorecards\n",
    "        self.panel = None\n",
    "\n",
    "    def __repr__(self):\n",
    "        return self.event.name + ' ' + self.name\n",
    "\n",
    "    def get_page(self):\n",
    "        get_page(self.url, self.season, self.event, self.pdf_fname)\n",
    "    \n",
    "    def print_csv(self):\n",
    "        with open(self.csv_path, 'rb') as f:\n",
    "            reader = csv.reader(f)\n",
    "            for row in reader:\n",
    "                print ' '.join(row)"
   ]
  },
  {
   "cell_type": "code",
   "execution_count": 201,
   "metadata": {
    "collapsed": false
   },
   "outputs": [],
   "source": [
    "points = '(\\d\\d?\\d?.\\d\\d)'\n",
    "skater_re = re.compile('(\\d+)\\s*' +        # rank\n",
    "                       '(\\D+ \\D+)\\s*' +    # skater name\n",
    "                       '([A-Z][A-Z][A-Z])\\s*' +  # country\n",
    "                       '(\\d+)\\s*' +        # starting number\n",
    "                       points + '\\s*' +    # total score\n",
    "                       points + '\\s*' +    # tes\n",
    "                       points + '\\s*' +    # pcs\n",
    "                       '(-?\\d.\\d\\d)')      # deductions\n",
    "elt_re = re.compile('(\\d)\\s*' +         # element order\n",
    "                    '(\\S+)\\s*' +        # element name\n",
    "                    '(\\D*)\\s*' +        # info (i.e. UR)\n",
    "                    points + '\\s*' +    # base value\n",
    "                    '(x?)\\s*' +         # bonus marker\n",
    "                    '(-?\\d.\\d\\d)\\s*' +  # goe\n",
    "                    '((?:-?\\d\\s*)+|-)\\s+' +  # goes\n",
    "                    '(\\d?\\d.\\d\\d)')     # element score\n",
    "tes_re = re.compile('^' + points + '\\s*' +    # total base value\n",
    "                    points + '\\s*$')     # total tes\n",
    "component_re = re.compile('(\\D+)\\s*' +   # component name\n",
    "                          '(\\d.\\d\\d)\\s*' + # factor\n",
    "                          '((?:\\d?\\d.\\d\\d\\s*)+)\\s*' +  # judges marks\n",
    "                          '(\\d?\\d.\\d\\d)') # aggregated judges marks\n",
    "pcs_re = re.compile('\\D+\\s+Program\\s+Component\\s+\\D+\\s+' + points)"
   ]
  },
  {
   "cell_type": "code",
   "execution_count": 169,
   "metadata": {
    "collapsed": false
   },
   "outputs": [],
   "source": [
    "nhk15 = seas1516.events[5]\n",
    "nhk15_men = nhk15.disciplines[0]\n",
    "nhk15_men_short = seas1516.events[5].disciplines[0].segments[0]"
   ]
  },
  {
   "cell_type": "code",
   "execution_count": 177,
   "metadata": {
    "collapsed": false
   },
   "outputs": [],
   "source": [
    "rows = rows"
   ]
  },
  {
   "cell_type": "code",
   "execution_count": 204,
   "metadata": {
    "collapsed": false
   },
   "outputs": [
    {
     "name": "stdout",
     "output_type": "stream",
     "text": [
      "('1', '4S', '', '10.50', '', '1.00', '1 2 1 1 1 2 0  0 1', '11.50')\n",
      "('2', '4T+3T', '', '14.60', '', '2.57', '2 3 2 3 3 3 2  2 3', '17.17')\n",
      "('3', 'FCSp4', '', '3.20', '', '1.07', '2 3 2 2 3 2 2  2 2', '4.27')\n",
      "('4', '3A', '', '9.35', 'x', '2.43', '2 3 2 2 3 3 3  2 2', '11.78')\n",
      "('5', 'CSSp4', '', '3.00', '', '1.21', '3 2 3 2 3 2 3  2 2', '4.21')\n",
      "('6', 'StSq4', '', '3.90', '', '1.90', '3 3 2 3 3 3 2  3 2', '5.80')\n",
      "('7', 'CCoSp3p4', '', '3.50', '', '1.21', '3 2 3 2 3 3 2  2 2', '4.71')\n",
      "('48.05', '59.44')\n",
      "('Skating Skills  ', '1.00', '9.50 9.50 9.25 9.25 9.50 9.50 9.50  8.75 9.25 ', '9.39')\n",
      "('Transition / Linking Footwork  ', '1.00', '9.50 9.00 8.75 9.25 9.50 9.50 9.25  8.50 9.00 ', '9.18')\n",
      "('Performance / Execution  ', '1.00', '9.50 9.75 9.00 9.50 10.00 9.75 9.50  8.75 9.50 ', '9.50')\n",
      "('Choreography / Composition  ', '1.00', '9.50 9.50 9.00 9.50 10.00 9.75 9.25  9.00 9.25 ', '9.39')\n",
      "('Interpretation  ', '1.00', '9.75 9.25 9.00 9.25 10.00 9.75 9.50  9.00 9.50 ', '9.43')\n",
      "('46.89',)\n",
      "Deductions:    0.00\n",
      "Rank Name Nation Number Segment Element  Program  Component Deductions\n",
      "('1', '4Lz+3T', '', '17.90', '', '1.43', '1 1 2 2 2 1 1  2 1', '19.33')\n",
      "('2', '3A', '', '8.50', '', '1.57', '1 2 2 2 2 1 2  1 1', '10.07')\n",
      "('3', 'CCoSp3p4', '', '3.50', '', '0.21', '1 1 1 0 0 0 0  0 1', '3.71')\n",
      "('4', 'StSq3', '', '3.30', '', '0.71', '2 1 2 2 1 1 1  1 2', '4.01')\n",
      "('5', '4T', '', '11.33', 'x', '0.71', '1 1 2 -1 1 0 0  1 1', '12.04')\n",
      "('6', 'FCSp4', '', '3.20', '', '0.64', '1 1 2 2 1 1 2  1 1', '3.84')\n",
      "('7', 'CSSp4', '', '3.00', '', '0.50', '1 2 1 1 1 0 1  1 1', '3.50')\n",
      "('50.73', '56.50')\n",
      "('Skating Skills  ', '1.00', '8.25 7.75 8.50 8.25 7.75 7.50 6.75  7.50 7.75 ', '7.82')\n",
      "('Transition / Linking Footwork  ', '1.00', '8.25 7.50 8.25 8.00 7.25 7.00 7.25  7.25 7.50 ', '7.57')\n",
      "('Performance / Execution  ', '1.00', '8.50 7.50 8.50 8.50 7.75 7.50 8.00  7.50 7.75 ', '7.93')\n",
      "('Choreography / Composition  ', '1.00', '8.25 7.75 8.25 8.25 7.25 7.50 8.50  7.75 7.50 ', '7.89')\n",
      "('Interpretation  ', '1.00', '8.50 7.50 8.00 8.50 7.50 7.75 8.50  7.50 7.75 ', '7.93')\n",
      "('39.14',)\n",
      "Deductions:    0.00\n",
      "Rank Name Nation Number Segment Element  Program  Component Deductions\n",
      "('1', '4T', '', '10.30', '', '-0.34', '0 0 2 0 0 0 -1  -2 -1', '9.96')\n",
      "('2', '3A', '', '8.50', '', '2.00', '2 2 2 2 2 2 2  1 2', '10.50')\n",
      "('3', 'CCoSp3p4', '', '3.50', '', '0.50', '1 1 2 0 1 1 1  1 1', '4.00')\n",
      "('4', 'CCSp3', '', '2.80', '', '0.43', '1 1 1 0 1 1 1  0 1', '3.23')\n",
      "('5', '3Lz+3T', '', '11.33', 'x', '0.30', '0 0 1 0 1 0 1  0 2', '11.63')\n",
      "('6', 'StSq3', '', '3.30', '', '1.07', '2 2 2 1 2 2 3  2 3', '4.37')\n",
      "('7', 'FSSp4', '', '3.00', '', '0.64', '2 1 2 1 2 1 1  1 1', '3.64')\n",
      "('42.73', '47.33')\n",
      "('Skating Skills  ', '1.00', '8.00 8.50 8.50 8.00 8.25 8.25 8.25  7.75 8.00 ', '8.18')\n",
      "('Transition / Linking Footwork  ', '1.00', '8.00 8.25 8.25 7.75 7.75 7.75 8.25  7.50 7.50 ', '7.89')\n",
      "('Performance / Execution  ', '1.00', '8.25 8.50 8.50 8.50 8.25 8.25 8.50  8.00 8.50 ', '8.39')\n",
      "('Choreography / Composition  ', '1.00', '8.25 8.75 8.75 8.00 8.00 8.00 8.50  8.25 7.75 ', '8.25')\n",
      "('Interpretation  ', '1.00', '8.00 8.50 8.50 8.25 8.25 8.00 8.50  8.00 8.25 ', '8.25')\n",
      "('40.96',)\n",
      "Deductions:    0.00\n",
      "Rank Name Nation Number Segment Element  Program  Component Deductions\n",
      "('1', '4S+3T', '', '14.80', '', '0.71', '0 1 1 1 1 2 0  0 1', '15.51')\n",
      "('2', '4T', '', '10.30', '', '-2.63', '-3 -2 -2 -1 -2 -2 -3  -2 -2', '7.67')\n",
      "('3', '3A', '', '8.50', '', '-3.00', '-3 -3 -3 -3 -3 -3 -3  -3 -3', '5.50')\n",
      "('4', 'CCoSp3p3', '', '3.00', '', '0.43', '1 0 1 1 1 1 0  1 1', '3.43')\n",
      "('5', 'StSq4', '', '3.90', '', '1.10', '1 2 1 2 2 2 1  2 1', '5.00')\n",
      "('6', 'CSSp2', '', '2.30', '', '0.50', '2 1 1 1 1 1 1  1 1', '2.80')\n",
      "('7', 'FUSp3', '', '2.40', '', '0.50', '2 1 1 1 1 1 1  1 1', '2.90')\n",
      "('45.20', '42.81')\n",
      "('Skating Skills  ', '1.00', '8.25 8.25 8.25 8.25 8.25 8.25 7.50  8.25 8.00 ', '8.21')\n",
      "('Transition / Linking Footwork  ', '1.00', '8.00 7.75 8.00 8.50 7.75 8.25 7.75  8.00 7.25 ', '7.93')\n",
      "('Performance / Execution  ', '1.00', '7.25 7.75 8.25 8.25 8.00 7.75 8.25  8.25 7.75 ', '8.00')\n",
      "('Choreography / Composition  ', '1.00', '7.75 8.25 8.25 8.50 8.25 8.00 8.00  8.50 7.75 ', '8.14')\n",
      "('Interpretation  ', '1.00', '7.50 8.00 8.50 8.25 8.00 8.25 8.25  8.50 8.00 ', '8.18')\n",
      "('40.46',)\n",
      "Deductions: Falls: -1.00    -1.00\n",
      "Rank Name Nation Number Segment Element  Program  Component Deductions\n",
      "('1', '3A', '', '8.50', '', '2.00', '2 2 2 2 2 2 2  1 2', '10.50')\n",
      "('2', '4S', '', '10.50', '', '-2.40', '-3 -2 -2 -1 -2 -2 -2  -2 -2', '8.10')\n",
      "('3', 'CCSp2', '', '2.30', '', '-0.13', '-1 0 -1 -1 0 0 0  0 -1', '2.17')\n",
      "('4', '3F+2T', '', '7.26', 'x', '0.70', '1 1 1 0 1 1 1  1 1', '7.96')\n",
      "('5', 'StSq4', '', '3.90', '', '1.30', '2 3 1 1 2 2 2  2 2', '5.20')\n",
      "('6', 'FSSp3', '', '2.60', '', '0.50', '1 1 1 1 1 1 1  1 1', '3.10')\n",
      "('7', 'CCoSp3p3', '', '3.00', '', '0.57', '1 2 0 0 1 2 1  2 1', '3.57')\n",
      "('38.06', '40.60')\n",
      "('Skating Skills  ', '1.00', '8.25 8.50 8.25 8.25 8.00 8.50 8.00  8.25 7.75 ', '8.21')\n",
      "('Transition / Linking Footwork  ', '1.00', '8.00 8.25 8.00 8.50 8.00 8.25 8.00  7.75 7.50 ', '8.04')\n",
      "('Performance / Execution  ', '1.00', '8.25 8.25 8.25 8.00 8.25 8.75 8.25  8.00 7.75 ', '8.18')\n",
      "('Choreography / Composition  ', '1.00', '8.25 8.75 8.00 8.25 8.25 8.50 8.50  8.25 7.75 ', '8.29')\n",
      "('Interpretation  ', '1.00', '8.75 8.75 8.25 8.00 8.50 8.50 8.25  8.00 8.00 ', '8.32')\n",
      "('41.04',)\n",
      "Deductions:    0.00\n",
      "Rank Name Nation Number Segment Element  Program  Component Deductions\n",
      "('1', '3T+3T', '', '8.60', '', '0.30', '1 1 0 0 0 1 1  0 0', '8.90')\n",
      "('2', '4S', '', '10.50', '', '0.09', '-1 0 1 1 2 1 -1  -2 0', '10.59')\n",
      "('3', 'FCSp3', '', '2.80', '', '0.29', '1 0 1 0 1 1 1  0 0', '3.09')\n",
      "('4', '3A', '', '9.35', 'x', '0.00', '1 0 0 0 0 0 0  -1 0', '9.35')\n",
      "('5', 'StSq4', '', '3.90', '', '0.90', '1 1 1 0 2 2 1  1 2', '4.80')\n",
      "('6', 'CCoSp3p3', '', '3.00', '', '0.57', '1 1 2 0 1 1 0  2 2', '3.57')\n",
      "('7', 'CSSp3', '', '2.60', '', '0.14', '1 0 1 0 1 0 -1  0 0', '2.74')\n",
      "('40.75', '43.04')\n",
      "('Skating Skills  ', '1.00', '7.25 7.75 7.25 7.50 8.00 7.75 7.25  7.25 7.50 ', '7.46')\n",
      "('Transition / Linking Footwork  ', '1.00', '7.00 7.50 6.75 7.25 7.75 7.50 6.75  7.25 7.00 ', '7.18')\n",
      "('Performance / Execution  ', '1.00', '7.00 7.25 7.00 7.75 8.00 8.00 7.00  7.00 7.50 ', '7.36')\n",
      "('Choreography / Composition  ', '1.00', '7.00 7.75 6.75 7.50 7.75 8.00 6.75  7.50 7.50 ', '7.39')\n",
      "('Interpretation  ', '1.00', '6.75 7.50 7.00 7.50 8.00 7.75 6.75  7.50 7.50 ', '7.36')\n",
      "('36.75',)\n",
      "Deductions:    0.00\n",
      "Rank Name Nation Number Segment Element  Program  Component Deductions\n",
      "('1', '4T', '', '10.30', '', '-1.54', '-1 -1 -1 -2 -2 -1 -1  -1 -2', '8.76')\n",
      "('2', 'FCSp4', '', '3.20', '', '0.57', '1 1 1 1 1 2 1  2 1', '3.77')\n",
      "('3', '3A', '', '8.50', '', '-2.00', '-2 -1 -2 -2 -2 -2 -2  -2 -2', '6.50')\n",
      "('4', 'CCoSp3p4', '', '3.50', '', '0.50', '0 2 1 1 1 1 2  1 0', '4.00')\n",
      "('5', '3Lz+3T<', '<  ', '9.90', 'x', '-0.80', '-1 -1 -1 -2 -1 0 -1  -1 -2', '9.10')\n",
      "('6', 'CSSp3', '', '2.60', '', '0.43', '1 2 1 1 1 1 1  0 0', '3.03')\n",
      "('7', 'StSq4', '', '3.90', '', '1.00', '1 2 2 1 1 2 2  1 0', '4.90')\n",
      "('41.90', '40.06')\n",
      "('Skating Skills  ', '1.00', '8.00 8.50 7.75 7.75 7.75 7.75 7.50  7.75 7.25 ', '7.75')\n",
      "('Transition / Linking Footwork  ', '1.00', '7.75 8.25 7.50 7.50 7.25 7.50 7.25  7.25 6.00 ', '7.43')\n",
      "('Performance / Execution  ', '1.00', '7.75 8.50 7.75 7.75 7.50 7.75 7.50  7.50 7.50 ', '7.64')\n",
      "('Choreography / Composition  ', '1.00', '7.75 8.50 7.50 7.50 7.50 8.00 7.75  7.50 6.50 ', '7.64')\n",
      "('Interpretation  ', '1.00', '8.00 7.75 7.75 7.75 7.25 8.00 7.50  7.75 7.00 ', '7.68')\n",
      "('38.14',)\n",
      "Deductions:    0.00\n",
      "Rank Name Nation Number Segment Element  Program  Component Deductions\n",
      "('1', '4T', '', '10.30', '', '-2.57', '-1 -2 0 -1 -1 -3 -3  -3 -3', '7.73')\n",
      "('2', '3A', '', '8.50', '', '0.71', '1 0 1 0 1 1 0  1 1', '9.21')\n",
      "('3', 'CCSp3', '', '2.80', '', '0.57', '2 1 1 1 1 1 1  1 2', '3.37')\n",
      "('4', 'FSSp4', '', '3.00', '', '0.64', '2 1 1 1 1 1 1  2 2', '3.64')\n",
      "('5', '3Lz+2T', '', '8.03', 'x', '0.10', '1 -1 1 0 0 0 0  0 0', '8.13')\n",
      "('6', 'StSq3', '', '3.30', '', '0.50', '2 1 1 1 1 1 1  0 1', '3.80')\n",
      "('7', 'CCoSp3p4', '', '3.50', '', '0.64', '2 0 1 1 1 1 1  2 2', '4.14')\n",
      "('39.43', '40.02')\n",
      "('Skating Skills  ', '1.00', '7.50 6.50 7.25 6.75 7.25 6.25 6.75  6.50 7.25 ', '6.89')\n",
      "('Transition / Linking Footwork  ', '1.00', '7.25 6.25 7.00 6.50 6.75 5.50 6.75  6.25 5.75 ', '6.46')\n",
      "('Performance / Execution  ', '1.00', '7.75 6.50 7.50 7.00 7.25 6.50 7.00  6.50 7.00 ', '6.96')\n",
      "('Choreography / Composition  ', '1.00', '7.50 6.50 7.25 6.75 7.25 6.00 7.25  6.75 6.75 ', '6.93')\n",
      "('Interpretation  ', '1.00', '7.75 6.25 7.50 7.00 7.50 6.50 7.00  6.50 7.25 ', '7.04')\n",
      "('34.28',)\n",
      "Deductions:    0.00\n",
      "Rank Name Nation Number Segment Element  Program  Component Deductions\n",
      "('1', '4S', '', '10.50', '', '-0.37', '-1 0 -2 1 1 0 0  -1 -1', '10.13')\n",
      "('2', '3A', '', '8.50', '', '1.29', '1 1 2 2 1 1 1  2 1', '9.79')\n",
      "('3', 'CSSp4', '', '3.00', '', '0.21', '0 0 1 1 0 1 0  1 0', '3.21')\n",
      "('4', 'FCSp4', '', '3.20', '', '0.00', '0 0 0 0 0 1 0  0 0', '3.20')\n",
      "('5', '2F+3T<', '<  ', '5.39', 'x', '-1.60', '-3 -3 -3 -1 -1 -2 -2  -2 -3', '3.79')\n",
      "('6', 'StSq3', '', '3.30', '', '0.57', '1 0 1 1 2 2 0  2 1', '3.87')\n",
      "('7', 'CCoSp3p4', '', '3.50', '', '0.57', '1 0 1 1 2 2 0  2 1', '4.07')\n",
      "('37.39', '38.06')\n",
      "('Skating Skills  ', '1.00', '7.00 7.00 7.75 7.00 7.25 7.25 7.00  8.00 7.00 ', '7.18')\n",
      "('Transition / Linking Footwork  ', '1.00', '6.50 7.50 7.50 7.00 7.00 6.75 6.50  8.00 6.75 ', '7.00')\n",
      "('Performance / Execution  ', '1.00', '6.50 7.00 7.75 7.25 7.25 7.00 7.00  8.00 6.75 ', '7.14')\n",
      "('Choreography / Composition  ', '1.00', '6.75 7.50 7.75 7.25 7.50 7.25 6.75  7.50 7.00 ', '7.25')\n",
      "('Interpretation  ', '1.00', '6.50 7.25 7.50 7.25 7.00 7.00 6.75  7.75 7.00 ', '7.11')\n",
      "('35.68',)\n",
      "Deductions:    0.00\n",
      "Rank Name Nation Number Segment Element  Program  Component Deductions\n",
      "('1', '4T+2T', '', '11.60', '', '0.14', '0 1 0 0 -1 1 0  0 0', '11.74')\n",
      "('2', '3A', '', '8.50', '', '-0.14', '0 0 0 -1 0 -1 0  0 0', '8.36')\n",
      "('3', 'FCSp4', '', '3.20', '', '-0.01', '1 0 0 0 -1 -1 1  -1 0', '3.19')\n",
      "('4', '3Lz', '', '6.60', 'x', '-0.70', '-1 0 -1 -1 -1 -1 -1  -2 -1', '5.90')\n",
      "('5', 'CCoSp2p3', '', '2.50', '', '0.14', '1 0 0 0 0 1 1  -1 0', '2.64')\n",
      "('6', 'StSq3', '', '3.30', '', '0.43', '1 1 1 1 0 1 1  0 1', '3.73')\n",
      "('7', 'CSSp3', '', '2.60', '', '0.07', '1 0 0 0 0 0 0  0 1', '2.67')\n",
      "('38.30', '38.23')\n",
      "('Skating Skills  ', '1.00', '7.00 7.50 7.00 6.75 7.00 7.25 6.75  6.50 6.50 ', '6.89')\n",
      "('Transition / Linking Footwork  ', '1.00', '6.50 6.75 6.75 6.75 6.50 7.50 6.50  6.25 6.25 ', '6.57')\n",
      "('Performance / Execution  ', '1.00', '7.00 7.25 6.50 7.25 6.75 7.50 6.75  6.75 6.50 ', '6.89')\n",
      "('Choreography / Composition  ', '1.00', '7.25 7.25 7.00 7.25 6.75 7.25 7.00  6.50 6.50 ', '7.00')\n",
      "('Interpretation  ', '1.00', '7.00 7.25 6.75 7.25 6.75 7.50 7.00  6.50 6.25 ', '6.93')\n",
      "('34.28',)\n",
      "Deductions:    0.00\n",
      "Rank Name Nation Number Segment Element  Program  Component Deductions\n",
      "('1', '4T<<', '<<  ', '4.30', '', '-1.90', '-3 -3 -2 -3 -3 -2 -2  -3 -3', '2.40')\n",
      "('2', '3A', '', '8.50', '', '0.57', '0 1 1 1 0 1 2  0 0', '9.07')\n",
      "('3', 'FSSp3', '', '2.60', '', '0.50', '1 2 1 1 0 1 1  1 1', '3.10')\n",
      "('4', '3Lz+3T', '', '11.33', 'x', '-0.30', '-1 0 -2 0 -1 0 -1  0 0', '11.03')\n",
      "('5', 'CCoSp2p2', '', '2.00', '', '0.29', '0 1 1 1 0 0 0  1 1', '2.29')\n",
      "('6', 'StSq3', '', '3.30', '', '0.79', '1 2 1 1 1 2 2  2 2', '4.09')\n",
      "('7', 'CCSp2', '', '2.30', '', '0.29', '0 1 1 0 0 1 1  0 1', '2.59')\n",
      "('34.33', '34.57')\n",
      "('Skating Skills  ', '1.00', '7.00 7.25 7.00 7.00 6.50 7.00 6.75  6.50 7.00 ', '6.89')\n",
      "('Transition / Linking Footwork  ', '1.00', '7.00 7.50 7.75 6.75 6.25 6.25 6.75  6.50 6.75 ', '6.79')\n",
      "('Performance / Execution  ', '1.00', '7.25 7.50 7.75 7.00 6.00 6.75 7.00  6.75 7.00 ', '7.04')\n",
      "('Choreography / Composition  ', '1.00', '7.25 7.75 7.25 6.75 6.50 6.75 7.00  6.75 6.75 ', '6.93')\n",
      "('Interpretation  ', '1.00', '7.25 7.75 7.75 7.25 6.00 7.00 7.25  7.00 7.25 ', '7.25')\n",
      "('34.90',)\n",
      "Deductions:    0.00\n",
      "Rank Name Nation Number Segment Element  Program  Component Deductions\n",
      "('1', '3T', '', '4.30', '', '-1.80', '-3 -2 -3 -3 -2 -2 -2  -3 -3', '2.50')\n",
      "('2', '3A', '', '8.50', '', '-1.14', '-1 -1 -1 -1 -2 -2 -1  -1 -1', '7.36')\n",
      "('3', 'CCSp2', '', '2.30', '', '0.14', '0 0 0 1 0 0 1  0 1', '2.44')\n",
      "('4', '3Lz+2T', '', '8.03', 'x', '-1.40', '-2 -2 -2 -2 -2 -2 -2  -2 -2', '6.63')\n",
      "('5', 'StSq3', '', '3.30', '', '0.36', '0 1 -3 1 0 1 1  1 2', '3.66')\n",
      "('6', 'FSSp4', '', '3.00', '', '0.36', '0 0 0 1 1 2 1  1 1', '3.36')\n",
      "('7', 'CCoSp3p3', '', '3.00', '', '0.29', '0 0 1 1 0 1 1  1 -1', '3.29')\n",
      "('32.43', '29.24')\n",
      "('Skating Skills  ', '1.00', '6.50 6.00 6.50 6.25 6.50 6.25 6.75  6.75 6.50 ', '6.46')\n",
      "('Transition / Linking Footwork  ', '1.00', '6.25 6.00 6.25 6.00 6.25 5.75 6.50  6.50 6.50 ', '6.25')\n",
      "('Performance / Execution  ', '1.00', '6.25 6.50 6.75 5.75 6.00 6.00 7.00  6.50 6.00 ', '6.29')\n",
      "('Choreography / Composition  ', '1.00', '6.50 6.25 7.00 6.50 6.50 6.25 6.75  6.75 6.25 ', '6.50')\n",
      "('Interpretation  ', '1.00', '6.50 6.50 7.25 5.50 6.00 6.25 6.75  6.75 6.50 ', '6.46')\n",
      "('31.96',)\n",
      "Deductions:    0.00\n"
     ]
    }
   ],
   "source": [
    "skater = None\n",
    "scorecard = None\n",
    "for line in rows:\n",
    "    line = line.strip()\n",
    "    \n",
    "    skater_match = skater_re.match(line)\n",
    "    if skater_match:\n",
    "        skater_info = {}\n",
    "        \n",
    "        for i, info in enumerate(('rank', 'name', 'country', 'starting_number', 'total_score', 'tes', 'pcs', 'deductions')):\n",
    "            skater_info[info] = skater_match.group(i + 1)\n",
    "        skater = Skater(skater_info['name'], skater_info['country'], 'men')\n",
    "        scorecard = Scorecard(nhk15_men_short.url, seas1516, nhk15, nhk15_men, nhk15_men_short, skater,\n",
    "                              skater_info['rank'], skater_info['starting_number'],\n",
    "                              skater_info['total_score'], skater_info['tes'], skater_info['pcs'], skater_info['deductions'])\n",
    "        continue\n",
    "        \n",
    "    elt_match = elt_re.match(line)\n",
    "    component_match = component_re.match(line)\n",
    "    if elt_match:\n",
    "        elt_info = elt_match.groups()\n",
    "        print elt_info\n",
    "        elt = Element._make(elt_info)\n",
    "        scorecard.elements.append(elt)\n",
    "    \n",
    "    elif scorecard and scorecard.elements and tes_re.match(line):\n",
    "#         scorecard.aggregate_elements()\n",
    "        match = tes_re.match(line)\n",
    "        print match.groups()\n",
    "#         assert float(match.group(1)) == \n",
    "#         assert float(match.group(2))\n",
    "    \n",
    "    elif component_match:\n",
    "        comp_info = component_match.groups()\n",
    "        print comp_info\n",
    "        component = ProgramComponent._make(comp_info)\n",
    "        scorecard.components.append(component)\n",
    "    \n",
    "    elif scorecard and len(scorecard.components) == 5:\n",
    "        if pcs_re.match(line):\n",
    "            match = pcs_re.match(line)\n",
    "            print match.groups()\n",
    "        elif 'Deductions' in line:\n",
    "            # do something\n",
    "            print line\n",
    "        "
   ]
  },
  {
   "cell_type": "code",
   "execution_count": 185,
   "metadata": {
    "collapsed": false
   },
   "outputs": [
    {
     "name": "stdout",
     "output_type": "stream",
     "text": [
      "59.44\n"
     ]
    }
   ],
   "source": [
    "scorecard.elements"
   ]
  },
  {
   "cell_type": "code",
   "execution_count": 140,
   "metadata": {
    "collapsed": false
   },
   "outputs": [],
   "source": [
    "class Scorecard:\n",
    "    def __init__(self, url, season, event, discipline, segment, skater,\n",
    "                 rank, starting_number, total_score, tes, pcs, deductions):\n",
    "        self.url = url\n",
    "        self.season = season\n",
    "        self.event = event\n",
    "        self.discipline = discipline\n",
    "        self.segment = segment\n",
    "        self.skater = skater\n",
    "        self.rank = int(rank)\n",
    "        self.starting_number = int(starting_number)\n",
    "        self.tes = float(tes)\n",
    "        self.pcs = float(pcs)\n",
    "        self.total_deductions = float(deductions)\n",
    "        \n",
    "        self.elements = []\n",
    "        self.components = []\n",
    "        self.deductions = {}\n",
    "        \n",
    "#     def add_element(self, element):\n",
    "#         self.elements.append\n",
    "#         self.deductions # maps deduction text to point value\n",
    "#         self.elements   # list of Elements\n",
    "#         self.components        # list of Program Components\n",
    "        \n",
    "#         self.page_number"
   ]
  },
  {
   "cell_type": "code",
   "execution_count": 108,
   "metadata": {
    "collapsed": true
   },
   "outputs": [],
   "source": [
    "class Discipline:\n",
    "    def __init__(self, season, event, discipline):\n",
    "        self.discipline = discipline  # of type DisciplineType\n",
    "        self.season = season\n",
    "        self.event = event\n",
    "        self.segments = []  # list of Segments\n",
    "        self.entries = []\n",
    "        self.entries_url = None\n",
    "        self.entries_fname = self.discipline.name + '_entries.html'\n",
    "        self.results = []\n",
    "        self.results_url = None\n",
    "        self.results_fname = self.discipline.name + '_results.html'\n",
    "    \n",
    "    def __repr__(self):\n",
    "        return self.event.name + ' ' + self.discipline.name\n",
    "    \n",
    "    def get_entries_results_pages(self):\n",
    "        assert self.entries_url and self.results_url\n",
    "        get_page(self.entries_url, self.season, self.event, self.entries_fname)\n",
    "        get_page(self.results_url, self.season, self.event, self.results_fname)"
   ]
  },
  {
   "cell_type": "code",
   "execution_count": 115,
   "metadata": {
    "collapsed": false
   },
   "outputs": [],
   "source": [
    "class Event:\n",
    "    def __init__(self, season, name):\n",
    "        self.name = name      # the abbreviation + year\n",
    "        self.season = season  # season object\n",
    "        self.url = season.url + name + '/'\n",
    "        self.dirpath = season.year + '/' + self.name + '/'\n",
    "    \n",
    "    def __repr__(self):\n",
    "        return self.name\n",
    "\n",
    "    def pdfs_to_csvs(self):\n",
    "        subprocess.Popen('java -jar ' + tabula_path + ' -p all -b ' + self.dirpath, shell=True)\n",
    "\n",
    "    def get_event_info(self, fetch_files=False):\n",
    "        page = requests.get(self.url)\n",
    "        try:\n",
    "            tree = html.fromstring(page.content)\n",
    "        except etree.ParserError:\n",
    "            print 'Event not found: % s' % event\n",
    "            return\n",
    "\n",
    "        if not list(tree.iter('title')):\n",
    "            print 'Event not found: % s' % event\n",
    "            return\n",
    "        else:\n",
    "            print list(tree.iter('title'))[0].text\n",
    "\n",
    "        # Drill down to the table part.\n",
    "        table = tree.getchildren()[1].getchildren()[2].getchildren()\n",
    "        elts = self._flatten_html_children(table)\n",
    "        elts = self._flatten_html_children(elts)\n",
    "        elts = self._flatten_html_children(elts)\n",
    "        elts = self._flatten_html_children(elts)\n",
    "        \n",
    "        # 12 rows of actual table: cut out header and juniors\n",
    "        rows = elts[2].getchildren()[0].getchildren()[1:13]\n",
    "\n",
    "        self.disciplines = []\n",
    "        for i, discipline_type in enumerate(list(DisciplineType)):\n",
    "            \n",
    "            discipline = Discipline(self.season, self, discipline_type)\n",
    "            \n",
    "            # Get entries and results pages.\n",
    "            entries, results = self._flatten_html_children(rows[i * 3])\n",
    "            discipline.entries_url = self.url + entries.attrib['href']\n",
    "            discipline.results_url = self.url + results.attrib['href']\n",
    "            if fetch_files:\n",
    "                discipline.get_entries_results_pages()\n",
    "            \n",
    "            # Get segment files.\n",
    "            for prog in (SegmentType.short, SegmentType.free):\n",
    "                j = prog.value\n",
    "                panel, detailed, scorecards = self._flatten_html_children(rows[i * 3 + j + 1])\n",
    "                segment = Segment(self.url + scorecards.attrib['href'], self.season, self, discipline_type, prog)\n",
    "                \n",
    "                if fetch_files:\n",
    "                    segment.get_page()\n",
    "                discipline.segments.append(segment)\n",
    "\n",
    "                panel = JudgePanel(self.url + panel.attrib['href'], self.season, self, discipline_type, segment)                \n",
    "                if fetch_files:\n",
    "                    panel.get_page()\n",
    "            self.disciplines.append(discipline)\n",
    "                \n",
    "    def _flatten_html_children(self, elts):\n",
    "        children = []\n",
    "        for elt in elts:\n",
    "            for child in elt.getchildren():\n",
    "                children.append(child)\n",
    "        return children"
   ]
  },
  {
   "cell_type": "code",
   "execution_count": 120,
   "metadata": {
    "collapsed": false
   },
   "outputs": [
    {
     "name": "stdout",
     "output_type": "stream",
     "text": [
      "ISU GP 2014 Hilton HHonors Skate America\n",
      "ISU GP Skate Canada International 2014\n",
      "ISU GP Lexus Cup of China 2014\n",
      "ISU GP Rostelecom Cup 2014\n",
      "ISU GP Trophee Eric Bompard 2014\n",
      "ISU GP NHK Trophy 2014\n",
      "ISU Grand Prix of Figure Skating Final 2014\n",
      "ISU European Figure Skating Championships 2015\n",
      "ISU Four Continents Figure Skating Championships\n",
      "ISU World Figure Skating Championships 2015\n",
      "ISU GP 2015 Progressive Skate America\n",
      "ISU GP Skate Canada International 2015\n",
      "ISU GP Audi Cup of China 2015\n",
      "ISU GP Rostelecom Cup 2015\n",
      "GP France 2015 was cancelled partway through.\n",
      "ISU GP NHK Trophy 2015\n",
      "ISU Grand Prix of Figure Skating Final\n",
      "ISU European Figure Skating Championships 2016\n",
      "ISU Four Continents Figure Skating Championships\n",
      "ISU World Figure Skating Championships 2016\n"
     ]
    }
   ],
   "source": [
    "seas1415 = Season ('2015')\n",
    "seas1516 = Season('2016')\n",
    "for seas in (seas1415, seas1516):\n",
    "    for event in seas.events:\n",
    "        if event.name == 'gpfra2015':\n",
    "            print 'GP France 2015 was cancelled partway through.'\n",
    "            continue\n",
    "        event.get_event_info()"
   ]
  },
  {
   "cell_type": "code",
   "execution_count": 73,
   "metadata": {
    "collapsed": true
   },
   "outputs": [],
   "source": [
    "class Season:\n",
    "    def __init__(self, spring_str_rep):\n",
    "        champ_year = spring_str_rep\n",
    "        gp_year = str(int(spring_str_rep) - 1)\n",
    "        two_digit_season = int(spring_str_rep[2:])\n",
    "        if two_digit_season <= 9:\n",
    "            twotwo_year = '0' + str(two_digit_season - 1) + '0' + str(two_digit_season)\n",
    "        elif two_digit_season <= 10:\n",
    "            twotwo_year = '0' + str(two_digit_season - 1) + str(two_digit_season)\n",
    "        else:\n",
    "            twotwo_year = str(two_digit_season - 1) + str(two_digit_season)\n",
    "        gpf_year = twotwo_year\n",
    "        \n",
    "        if int(spring_str_rep) % 4 == 2:\n",
    "            champs = ['ec', 'fc', 'owg', 'wc']\n",
    "        else:\n",
    "            champs = ['ec', 'fc', 'wc']\n",
    "        gps = ['usa', 'can', 'chn', 'rus', 'fra', 'jpn']\n",
    "        gps = ['gp' + gp for gp in gps]\n",
    "        \n",
    "        self.year = twotwo_year\n",
    "        \n",
    "        event_names = [gp + gp_year for gp in gps]\n",
    "        event_names.append('gpf' + twotwo_year)\n",
    "        event_names += [champ + champ_year for champ in champs]\n",
    "        \n",
    "        self.url = 'http://www.isuresults.com/results/'\n",
    "        if int(spring_str_rep) >= 2016:\n",
    "            self.url += 'season'+ twotwo_year + '/'\n",
    "\n",
    "        self.events = [Event(self, event_name) for event_name in event_names]\n",
    "\n",
    "    def __repr__(self):\n",
    "        return 'Season: \\'' + self.year[:2] + '-\\'' + self.year[2:]"
   ]
  },
  {
   "cell_type": "code",
   "execution_count": 165,
   "metadata": {
    "collapsed": true
   },
   "outputs": [],
   "source": [
    "def list_children(elts):\n",
    "    children = []\n",
    "    for elt in elts:\n",
    "        for child in elt.getchildren():\n",
    "            children.append(child)\n",
    "    return children"
   ]
  },
  {
   "cell_type": "code",
   "execution_count": null,
   "metadata": {
    "collapsed": true
   },
   "outputs": [],
   "source": []
  }
 ],
 "metadata": {
  "kernelspec": {
   "display_name": "Python 2",
   "language": "python",
   "name": "python2"
  },
  "language_info": {
   "codemirror_mode": {
    "name": "ipython",
    "version": 2
   },
   "file_extension": ".py",
   "mimetype": "text/x-python",
   "name": "python",
   "nbconvert_exporter": "python",
   "pygments_lexer": "ipython2",
   "version": "2.7.13"
  }
 },
 "nbformat": 4,
 "nbformat_minor": 2
}
