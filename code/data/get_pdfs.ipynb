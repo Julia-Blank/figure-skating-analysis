{
 "cells": [
  {
   "cell_type": "code",
   "execution_count": 2,
   "metadata": {
    "collapsed": false
   },
   "outputs": [
    {
     "name": "stdout",
     "output_type": "stream",
     "text": [
      "ISU GP 2015 Progressive Skate America\n",
      "ISU GP Skate Canada International 2015\n",
      "ISU GP Audi Cup of China 2015\n",
      "ISU GP Rostelecom Cup 2015\n",
      "GP France 2015 was cancelled partway through.\n",
      "ISU GP NHK Trophy 2015\n",
      "ISU Grand Prix of Figure Skating Final\n",
      "ISU European Figure Skating Championships 2016\n",
      "ISU Four Continents Figure Skating Championships\n",
      "ISU World Figure Skating Championships 2016\n"
     ]
    }
   ],
   "source": [
    "# seas1415 = Season ('2015')\n",
    "seas1516 = Season('2016')\n",
    "# for seas in (seas1516):\n",
    "for event in seas1516.events:\n",
    "    if event.name == 'gpfra2015':\n",
    "        print 'GP France 2015 was cancelled partway through.'\n",
    "        continue\n",
    "    event.get_event_info()"
   ]
  },
  {
   "cell_type": "code",
   "execution_count": 3,
   "metadata": {
    "collapsed": false
   },
   "outputs": [],
   "source": [
    "nhk15 = seas1516.events[5]\n",
    "nhk15_men = nhk15.disciplines[0]\n",
    "nhk15_men_short = seas1516.events[5].disciplines[0].segments[0]\n",
    "nhk15_men_short.parse_raw_csv()"
   ]
  },
  {
   "cell_type": "code",
   "execution_count": 4,
   "metadata": {
    "collapsed": false
   },
   "outputs": [
    {
     "name": "stdout",
     "output_type": "stream",
     "text": [
      "Skater(name='Yuzuru HANYU', country='JPN', discipline=<DisciplineType.men: 0>) 1 start: 12\n",
      "TES: 59.44, PCS: 46.89, Total: 106.33\n",
      "Deductions: {}\n",
      "Element(number=1, name='4S', info='', base_value=10.5, bonus=True, goe=1.0, goes=[1, 2, 1, 1, 1, 2, 0, 0, 1], points=11.5)\n",
      "Element(number=2, name='4T+3T', info='', base_value=14.6, bonus=True, goe=2.57, goes=[2, 3, 2, 3, 3, 3, 2, 2, 3], points=17.17)\n",
      "Element(number=3, name='FCSp4', info='', base_value=3.2, bonus=True, goe=1.07, goes=[2, 3, 2, 2, 3, 2, 2, 2, 2], points=4.27)\n",
      "Element(number=4, name='3A', info='', base_value=9.35, bonus=True, goe=2.43, goes=[2, 3, 2, 2, 3, 3, 3, 2, 2], points=11.78)\n",
      "Element(number=5, name='CSSp4', info='', base_value=3.0, bonus=True, goe=1.21, goes=[3, 2, 3, 2, 3, 2, 3, 2, 2], points=4.21)\n",
      "Element(number=6, name='StSq4', info='', base_value=3.9, bonus=True, goe=1.9, goes=[3, 3, 2, 3, 3, 3, 2, 3, 2], points=5.8)\n",
      "Element(number=7, name='CCoSp3p4', info='', base_value=3.5, bonus=True, goe=1.21, goes=[3, 2, 3, 2, 3, 3, 2, 2, 2], points=4.71)\n",
      "ProgramComponent(name='Skating Skills', factor=1.0, scores=[9.5, 9.5, 9.25, 9.25, 9.5, 9.5, 9.5, 8.75, 9.25], points=9.39)\n",
      "ProgramComponent(name='Transition / Linking Footwork', factor=1.0, scores=[9.5, 9.0, 8.75, 9.25, 9.5, 9.5, 9.25, 8.5, 9.0], points=9.18)\n",
      "ProgramComponent(name='Performance / Execution', factor=1.0, scores=[9.5, 9.75, 9.0, 9.5, 10.0, 9.75, 9.5, 8.75, 9.5], points=9.5)\n",
      "ProgramComponent(name='Choreography / Composition', factor=1.0, scores=[9.5, 9.5, 9.0, 9.5, 10.0, 9.75, 9.25, 9.0, 9.25], points=9.39)\n",
      "ProgramComponent(name='Interpretation', factor=1.0, scores=[9.75, 9.25, 9.0, 9.25, 10.0, 9.75, 9.5, 9.0, 9.5], points=9.43)\n"
     ]
    }
   ],
   "source": [
    "yuzu = nhk15_men_short.scorecards[0]\n",
    "# yuzu.print_scorecard()\n",
    "kovtun = nhk15_men_short.scorecards[3]\n",
    "yuzu.print_scorecard()"
   ]
  },
  {
   "cell_type": "code",
   "execution_count": 1,
   "metadata": {
    "collapsed": true
   },
   "outputs": [],
   "source": [
    "from model.Season import Season"
   ]
  },
  {
   "cell_type": "code",
   "execution_count": 2,
   "metadata": {
    "collapsed": false
   },
   "outputs": [],
   "source": [
    "# sochi = Season('2013')\n",
    "# # sochi.fetch_info(fetch_files=True)"
   ]
  },
  {
   "cell_type": "code",
   "execution_count": 3,
   "metadata": {
    "collapsed": false
   },
   "outputs": [],
   "source": [
    "sochi = Season('2014')\n",
    "sochi.events[0].fetch_info()"
   ]
  },
  {
   "cell_type": "code",
   "execution_count": 4,
   "metadata": {
    "collapsed": false
   },
   "outputs": [],
   "source": [
    "event = sochi.events[0].disciplines[1].segments[1]"
   ]
  },
  {
   "cell_type": "code",
   "execution_count": 5,
   "metadata": {
    "collapsed": false
   },
   "outputs": [
    {
     "data": {
      "text/plain": [
       "Official(function=u'Referee', name=u'Mr. Daniel DELFA', nation=u'ISU')\n",
       "Official(function=u'Technical Controller', name=u'Ms. Mona ADOLFSEN', nation=u'ISU')\n",
       "Official(function=u'Technical Specialist', name=u'Mr. Gilberto VIADANA', nation=u'ISU')\n",
       "Official(function=u'Assistant Technical Specialist', name=u'Mr. Shin AMANO', nation=u'ISU')\n",
       "Official(function=u'Judge No.1', name=u'Mr. Robert ROSENBLUTH', nation=u'USA')\n",
       "Official(function=u'Judge No.2', name=u'Mr. Massimo ORLANDINI', nation=u'ITA')\n",
       "Official(function=u'Judge No.3', name=u'Ms. Mayumi KATO', nation=u'JPN')\n",
       "Official(function=u'Judge No.4', name=u'Ms. Salome CHIGOGIDZE', nation=u'GEO')\n",
       "Official(function=u'Judge No.5', name=u'Ms. Karen HOWARD', nation=u'CAN')\n",
       "Official(function=u'Judge No.6', name=u'Ms. Florence VUYLSTEKER', nation=u'FRA')\n",
       "Official(function=u'Judge No.7', name=u'Ms. Wendy LANGTON', nation=u'AUS')\n",
       "Official(function=u'Judge No.8', name=u'Mr. Alexander KOGAN', nation=u'RUS')\n",
       "Official(function=u'Judge No.9', name=u'Ms. Mona JONSSON', nation=u'SWE')\n",
       "Official(function=u'Data Operator', name=u'Mr. Ted BARTON', nation=u'ISU')\n",
       "Official(function=u'Replay Operator', name=u'Mr. Dingding LIU', nation=u'ISU')"
      ]
     },
     "execution_count": 5,
     "metadata": {},
     "output_type": "execute_result"
    }
   ],
   "source": [
    "event.panel"
   ]
  },
  {
   "cell_type": "code",
   "execution_count": null,
   "metadata": {
    "collapsed": true
   },
   "outputs": [],
   "source": []
  }
 ],
 "metadata": {
  "kernelspec": {
   "display_name": "Python 2",
   "language": "python",
   "name": "python2"
  },
  "language_info": {
   "codemirror_mode": {
    "name": "ipython",
    "version": 2
   },
   "file_extension": ".py",
   "mimetype": "text/x-python",
   "name": "python",
   "nbconvert_exporter": "python",
   "pygments_lexer": "ipython2",
   "version": "2.7.13"
  }
 },
 "nbformat": 4,
 "nbformat_minor": 2
}
