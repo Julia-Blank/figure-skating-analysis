{
 "cells": [
  {
   "cell_type": "code",
   "execution_count": 355,
   "metadata": {
    "collapsed": true
   },
   "outputs": [],
   "source": [
    "from collections import namedtuple\n",
    "from enum import Enum\n",
    "from lxml import html, etree\n",
    "import os\n",
    "import requests"
   ]
  },
  {
   "cell_type": "code",
   "execution_count": 356,
   "metadata": {
    "collapsed": false
   },
   "outputs": [],
   "source": [
    "class DisciplineType(Enum):\n",
    "    men = 0\n",
    "    ladies = 1\n",
    "    pairs = 2\n",
    "    ice_dance = 3"
   ]
  },
  {
   "cell_type": "code",
   "execution_count": 357,
   "metadata": {
    "collapsed": true
   },
   "outputs": [],
   "source": [
    "class SegmentType(Enum):\n",
    "    short = 0\n",
    "    free = 1\n",
    "    original_dance = 2"
   ]
  },
  {
   "cell_type": "code",
   "execution_count": 358,
   "metadata": {
    "collapsed": true
   },
   "outputs": [],
   "source": [
    "Judge = namedtuple('Judge', ['name', 'country'])"
   ]
  },
  {
   "cell_type": "code",
   "execution_count": 359,
   "metadata": {
    "collapsed": true
   },
   "outputs": [],
   "source": [
    "def get_page(url, season, event, fname):\n",
    "    target_dir = season.year + '/' + event.name + '/'\n",
    "    if not os.path.isdir(target_dir):\n",
    "        os.makedirs(target_dir)\n",
    "    page = requests.get(url)\n",
    "    with open(target_dir + fname, 'w+') as f:\n",
    "        f.write(page.content)"
   ]
  },
  {
   "cell_type": "code",
   "execution_count": 360,
   "metadata": {
    "collapsed": false
   },
   "outputs": [],
   "source": [
    "class JudgePanel:\n",
    "    def __init__(self, url):\n",
    "        self.url = url\n",
    "\n",
    "    def get_page(self, season, competition, discipline, segment):\n",
    "        get_page(self.url, season, competition, discipline.name + '_' + segment.name + '_panel.html')\n",
    "        \n",
    "# ['referee', 'technical_controller', 'technical_specialist', 'asst_technical_specialist',\n",
    "#                          'judges', 'num_judges', 'data_operator', 'replay_operator',\n",
    "#                          'file_name', 'url'])  # where this panel info came from"
   ]
  },
  {
   "cell_type": "code",
   "execution_count": 361,
   "metadata": {
    "collapsed": true
   },
   "outputs": [],
   "source": [
    "Skater = namedtuple('Skater', ['name', 'country', 'discipline'])"
   ]
  },
  {
   "cell_type": "code",
   "execution_count": 362,
   "metadata": {
    "collapsed": true
   },
   "outputs": [],
   "source": [
    "Element = namedtuple('Element', ['name',  # string, e.g. 3A\n",
    "                                 'base_value',\n",
    "                                 'info',  # e.g. UR, edge call, REP\n",
    "                                 'goes']) # list"
   ]
  },
  {
   "cell_type": "code",
   "execution_count": 363,
   "metadata": {
    "collapsed": true
   },
   "outputs": [],
   "source": [
    "ProgramComponent = namedtuple('ProgramComponent', ['name', 'factor', 'scores'])"
   ]
  },
  {
   "cell_type": "code",
   "execution_count": 364,
   "metadata": {
    "collapsed": false
   },
   "outputs": [
    {
     "ename": "IndentationError",
     "evalue": "expected an indented block (<ipython-input-364-34997714df6b>, line 14)",
     "output_type": "error",
     "traceback": [
      "\u001b[0;36m  File \u001b[0;32m\"<ipython-input-364-34997714df6b>\"\u001b[0;36m, line \u001b[0;32m14\u001b[0m\n\u001b[0;31m    #         self.page_number\u001b[0m\n\u001b[0m                              ^\u001b[0m\n\u001b[0;31mIndentationError\u001b[0m\u001b[0;31m:\u001b[0m expected an indented block\n"
     ]
    }
   ],
   "source": [
    "class ScoreCard:\n",
    "    def __init__(self):\n",
    "    \n",
    "#         self.rank\n",
    "#         self.skater  # type Skater\n",
    "#         self.start_number  # skate order\n",
    "#         self.total_score\n",
    "#         self.tes\n",
    "#         self.pcs\n",
    "#         self.deductions # maps deduction text to point value\n",
    "#         self.elements   # list of Elements\n",
    "#         self.pcs        # list of Program Components\n",
    "        \n",
    "#         self.page_number"
   ]
  },
  {
   "cell_type": "code",
   "execution_count": 365,
   "metadata": {
    "collapsed": true
   },
   "outputs": [],
   "source": [
    "class Segment:\n",
    "    def __init__(self, segment_type, url):\n",
    "        self.type = SegmentType(segment_type)\n",
    "#         self.scorecards\n",
    "#         self.panel # JudgePanel\n",
    "        self.url = url  # score url\n",
    "        self.panel = None\n",
    "\n",
    "    def get_page(self, season, competition, discipline):\n",
    "        get_page(self.url, season, competition, discipline.name + '_' + self.type.name + '.pdf')\n"
   ]
  },
  {
   "cell_type": "code",
   "execution_count": 366,
   "metadata": {
    "collapsed": true
   },
   "outputs": [],
   "source": [
    "class Discipline:\n",
    "    def __init__(self, discipline):\n",
    "        self.discipline = discipline  # of type DisciplineType\n",
    "        self.segments = []  # list of Segments\n",
    "        self.entries = []\n",
    "        self.entries_url = None\n",
    "        self.results = []\n",
    "        self.results_url = None\n",
    "    \n",
    "    def get_entries_results_pages(self, season, competition):\n",
    "        assert self.entries_url and self.results_url\n",
    "        get_page(self.entries_url, season, competition, self.discipline.name + '_entries.html')\n",
    "        get_page(self.results_url, season, competition, self.discipline.name + '_results.html')"
   ]
  },
  {
   "cell_type": "code",
   "execution_count": 383,
   "metadata": {
    "collapsed": false
   },
   "outputs": [],
   "source": [
    "class Event:\n",
    "    def __init__(self, season, name):\n",
    "        self.name = name      # the abbreviation + year\n",
    "        self.season = season  # season object\n",
    "        self.url = season.url + name + '/'\n",
    "    \n",
    "    def __repr__(self):\n",
    "        return self.name\n",
    "    \n",
    "    def get_event_files(self):\n",
    "        page = requests.get(self.url)\n",
    "        try:\n",
    "            tree = html.fromstring(page.content)\n",
    "        except etree.ParserError:\n",
    "            print 'Event not found: % s' % event\n",
    "            return\n",
    "\n",
    "        if not list(tree.iter('title')):\n",
    "            print 'Event not found: % s' % event\n",
    "            return\n",
    "        else:\n",
    "            print list(tree.iter('title'))[0].text\n",
    "        \n",
    "        # Drill down to the table part.\n",
    "        table = tree.getchildren()[1].getchildren()[2].getchildren()\n",
    "        elts = self._flatten_html_children(table)\n",
    "        elts = self._flatten_html_children(elts)\n",
    "        elts = self._flatten_html_children(elts)\n",
    "        elts = self._flatten_html_children(elts)\n",
    "        \n",
    "        # 12 rows of actual table: cut out header and juniors\n",
    "        rows = elts[2].getchildren()[0].getchildren()[1:13]\n",
    "\n",
    "        self.disciplines = []\n",
    "        for i, discipline_type in enumerate(list(DisciplineType)):\n",
    "            \n",
    "            discipline = Discipline(discipline_type)\n",
    "            \n",
    "            # Get entries and results pages.\n",
    "            entries, results = self._flatten_html_children(rows[i * 3])\n",
    "            discipline.entries_url = self.url + entries.attrib['href']\n",
    "            discipline.results_url = self.url + results.attrib['href']\n",
    "            discipline.get_entries_results_pages(self.season, self)\n",
    "            \n",
    "            # Get segment files.\n",
    "            for prog in (SegmentType.short, SegmentType.free):\n",
    "                j = prog.value\n",
    "                panel, detailed, scorecards = self._flatten_html_children(rows[i * 3 + j + 1])\n",
    "                segment = Segment(prog, self.url + scorecards.attrib['href'])\n",
    "                segment.get_page(self.season, self, discipline_type)\n",
    "                discipline.segments.append(segment)\n",
    "                panel = JudgePanel(self.url + panel.attrib['href'])\n",
    "                panel.get_page(self.season, self, discipline_type, prog)\n",
    "            self.disciplines.append(discipline)\n",
    "                \n",
    "                \n",
    "    def _flatten_html_children(self, elts):\n",
    "        children = []\n",
    "        for elt in elts:\n",
    "            for child in elt.getchildren():\n",
    "                children.append(child)\n",
    "        return children"
   ]
  },
  {
   "cell_type": "code",
   "execution_count": 389,
   "metadata": {
    "collapsed": false
   },
   "outputs": [
    {
     "name": "stdout",
     "output_type": "stream",
     "text": [
      "ISU GP Hilton HHonors Skate America 2012\n"
     ]
    },
    {
     "ename": "ValueError",
     "evalue": "too many values to unpack",
     "output_type": "error",
     "traceback": [
      "\u001b[0;31m---------------------------------------------------------------------------\u001b[0m",
      "\u001b[0;31mValueError\u001b[0m                                Traceback (most recent call last)",
      "\u001b[0;32m<ipython-input-389-ecd86914a940>\u001b[0m in \u001b[0;36m<module>\u001b[0;34m()\u001b[0m\n\u001b[1;32m      2\u001b[0m     \u001b[0mseason\u001b[0m \u001b[0;34m=\u001b[0m \u001b[0mSeason\u001b[0m\u001b[0;34m(\u001b[0m\u001b[0myear\u001b[0m\u001b[0;34m)\u001b[0m\u001b[0;34m\u001b[0m\u001b[0m\n\u001b[1;32m      3\u001b[0m     \u001b[0;32mfor\u001b[0m \u001b[0mevent\u001b[0m \u001b[0;32min\u001b[0m \u001b[0mseason\u001b[0m\u001b[0;34m.\u001b[0m\u001b[0mevents\u001b[0m\u001b[0;34m:\u001b[0m\u001b[0;34m\u001b[0m\u001b[0m\n\u001b[0;32m----> 4\u001b[0;31m         \u001b[0mevent\u001b[0m\u001b[0;34m.\u001b[0m\u001b[0mget_event_files\u001b[0m\u001b[0;34m(\u001b[0m\u001b[0;34m)\u001b[0m\u001b[0;34m\u001b[0m\u001b[0m\n\u001b[0m",
      "\u001b[0;32m<ipython-input-383-695eea86310b>\u001b[0m in \u001b[0;36mget_event_files\u001b[0;34m(self)\u001b[0m\n\u001b[1;32m     46\u001b[0m             \u001b[0;32mfor\u001b[0m \u001b[0mprog\u001b[0m \u001b[0;32min\u001b[0m \u001b[0;34m(\u001b[0m\u001b[0mSegmentType\u001b[0m\u001b[0;34m.\u001b[0m\u001b[0mshort\u001b[0m\u001b[0;34m,\u001b[0m \u001b[0mSegmentType\u001b[0m\u001b[0;34m.\u001b[0m\u001b[0mfree\u001b[0m\u001b[0;34m)\u001b[0m\u001b[0;34m:\u001b[0m\u001b[0;34m\u001b[0m\u001b[0m\n\u001b[1;32m     47\u001b[0m                 \u001b[0mj\u001b[0m \u001b[0;34m=\u001b[0m \u001b[0mprog\u001b[0m\u001b[0;34m.\u001b[0m\u001b[0mvalue\u001b[0m\u001b[0;34m\u001b[0m\u001b[0m\n\u001b[0;32m---> 48\u001b[0;31m                 \u001b[0mpanel\u001b[0m\u001b[0;34m,\u001b[0m \u001b[0mdetailed\u001b[0m\u001b[0;34m,\u001b[0m \u001b[0mscorecards\u001b[0m \u001b[0;34m=\u001b[0m \u001b[0mself\u001b[0m\u001b[0;34m.\u001b[0m\u001b[0m_flatten_html_children\u001b[0m\u001b[0;34m(\u001b[0m\u001b[0mrows\u001b[0m\u001b[0;34m[\u001b[0m\u001b[0mi\u001b[0m \u001b[0;34m*\u001b[0m \u001b[0;36m3\u001b[0m \u001b[0;34m+\u001b[0m \u001b[0mj\u001b[0m \u001b[0;34m+\u001b[0m \u001b[0;36m1\u001b[0m\u001b[0;34m]\u001b[0m\u001b[0;34m)\u001b[0m\u001b[0;34m\u001b[0m\u001b[0m\n\u001b[0m\u001b[1;32m     49\u001b[0m                 \u001b[0msegment\u001b[0m \u001b[0;34m=\u001b[0m \u001b[0mSegment\u001b[0m\u001b[0;34m(\u001b[0m\u001b[0mprog\u001b[0m\u001b[0;34m,\u001b[0m \u001b[0mself\u001b[0m\u001b[0;34m.\u001b[0m\u001b[0murl\u001b[0m \u001b[0;34m+\u001b[0m \u001b[0mscorecards\u001b[0m\u001b[0;34m.\u001b[0m\u001b[0mattrib\u001b[0m\u001b[0;34m[\u001b[0m\u001b[0;34m'href'\u001b[0m\u001b[0;34m]\u001b[0m\u001b[0;34m)\u001b[0m\u001b[0;34m\u001b[0m\u001b[0m\n\u001b[1;32m     50\u001b[0m                 \u001b[0msegment\u001b[0m\u001b[0;34m.\u001b[0m\u001b[0mget_page\u001b[0m\u001b[0;34m(\u001b[0m\u001b[0mself\u001b[0m\u001b[0;34m.\u001b[0m\u001b[0mseason\u001b[0m\u001b[0;34m,\u001b[0m \u001b[0mself\u001b[0m\u001b[0;34m,\u001b[0m \u001b[0mdiscipline_type\u001b[0m\u001b[0;34m)\u001b[0m\u001b[0;34m\u001b[0m\u001b[0m\n",
      "\u001b[0;31mValueError\u001b[0m: too many values to unpack"
     ]
    }
   ],
   "source": [
    "for year in ('2013', '2014', '2015'):\n",
    "    season = Season(year)\n",
    "    for event in season.events:\n",
    "        event.get_event_files()"
   ]
  },
  {
   "cell_type": "code",
   "execution_count": 387,
   "metadata": {
    "collapsed": false
   },
   "outputs": [
    {
     "name": "stdout",
     "output_type": "stream",
     "text": [
      "ISU GP 2015 Progressive Skate America\n",
      "ISU GP Skate Canada International 2015\n",
      "ISU GP Audi Cup of China 2015\n",
      "ISU GP Rostelecom Cup 2015\n",
      "GP France 2015 was cancelled partway through.\n",
      "ISU GP NHK Trophy 2015\n",
      "ISU Grand Prix of Figure Skating Final\n",
      "ISU European Figure Skating Championships 2016\n",
      "ISU Four Continents Figure Skating Championships\n",
      "ISU World Figure Skating Championships 2016\n"
     ]
    }
   ],
   "source": [
    "seas = Season('2016')\n",
    "for event in seas.events:\n",
    "    if event.name == 'gpfra2015':\n",
    "        print 'GP France 2015 was cancelled partway through.'\n",
    "        continue\n",
    "    event.get_event_files()"
   ]
  },
  {
   "cell_type": "code",
   "execution_count": 388,
   "metadata": {
    "collapsed": true
   },
   "outputs": [],
   "source": [
    "class Season:\n",
    "    def __init__(self, spring_str_rep):\n",
    "        champ_year = spring_str_rep\n",
    "        gp_year = str(int(spring_str_rep) - 1)\n",
    "        two_digit_season = int(spring_str_rep[2:])\n",
    "        if two_digit_season <= 9:\n",
    "            twotwo_year = '0' + str(two_digit_season - 1) + '0' + str(two_digit_season)\n",
    "        elif two_digit_season <= 10:\n",
    "            twotwo_year = '0' + str(two_digit_season - 1) + str(two_digit_season)\n",
    "        else:\n",
    "            twotwo_year = str(two_digit_season - 1) + str(two_digit_season)\n",
    "        gpf_year = twotwo_year\n",
    "        \n",
    "        if int(spring_str_rep) % 4 == 0:\n",
    "            champs = ['ec', 'fc', 'owg', 'wc']\n",
    "        else:\n",
    "            champs = ['ec', 'fc', 'wc']\n",
    "        gps = ['usa', 'can', 'chn', 'rus', 'fra', 'jpn']\n",
    "        gps = ['gp' + gp for gp in gps]\n",
    "        \n",
    "        self.year = twotwo_year\n",
    "        \n",
    "        event_names = [gp + gp_year for gp in gps]\n",
    "        event_names.append('gpf' + twotwo_year)\n",
    "        event_names += [champ + champ_year for champ in champs]\n",
    "        \n",
    "        self.url = 'http://www.isuresults.com/results/'\n",
    "        if int(spring_str_rep) >= 2016:\n",
    "            self.url += 'season'+ twotwo_year + '/'\n",
    "\n",
    "        self.events = [Event(self, event_name) for event_name in event_names]\n",
    "\n",
    "    def __repr__(self):\n",
    "        return 'Season: \\'' + self.year[:2] + '-\\'' + self.year[2:]"
   ]
  },
  {
   "cell_type": "code",
   "execution_count": 165,
   "metadata": {
    "collapsed": true
   },
   "outputs": [],
   "source": [
    "def list_children(elts):\n",
    "    children = []\n",
    "    for elt in elts:\n",
    "        for child in elt.getchildren():\n",
    "            children.append(child)\n",
    "    return children"
   ]
  },
  {
   "cell_type": "code",
   "execution_count": null,
   "metadata": {
    "collapsed": true
   },
   "outputs": [],
   "source": []
  }
 ],
 "metadata": {
  "kernelspec": {
   "display_name": "Python 2",
   "language": "python",
   "name": "python2"
  },
  "language_info": {
   "codemirror_mode": {
    "name": "ipython",
    "version": 2
   },
   "file_extension": ".py",
   "mimetype": "text/x-python",
   "name": "python",
   "nbconvert_exporter": "python",
   "pygments_lexer": "ipython2",
   "version": "2.7.13"
  }
 },
 "nbformat": 4,
 "nbformat_minor": 2
}
