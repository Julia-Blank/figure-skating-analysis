{
 "cells": [
  {
   "cell_type": "code",
   "execution_count": null,
   "metadata": {
    "collapsed": true
   },
   "outputs": [],
   "source": [
    "# http://www.isu.org/news/81-inside-synchronized-skating-news/11630-list-of-referees-judges-technical-controllers-technical-specialists-data-replay-operators-2017-18-sys?templateParam=15"
   ]
  },
  {
   "cell_type": "code",
   "execution_count": 15,
   "metadata": {
    "collapsed": true
   },
   "outputs": [],
   "source": [
    "import json\n",
    "import pickle\n",
    "\n",
    "from model.Season import Season\n",
    "from model.util import get_similar_names"
   ]
  },
  {
   "cell_type": "code",
   "execution_count": 2,
   "metadata": {
    "collapsed": false
   },
   "outputs": [
    {
     "name": "stdout",
     "output_type": "stream",
     "text": [
      "2006 2007 2008 2009 2010 2011 2012 2013 2014 2015 2016 2017\n"
     ]
    }
   ],
   "source": [
    "with open('seasons.pickle') as f:\n",
    "    seasons = pickle.load(f)\n",
    "for year, season in seasons.iteritems():\n",
    "    print year,\n",
    "    season.load_scores()"
   ]
  },
  {
   "cell_type": "code",
   "execution_count": 209,
   "metadata": {
    "collapsed": false
   },
   "outputs": [],
   "source": [
    "def remove_mr_ms(judge):\n",
    "    judge = judge.replace('Mr. ', '')\n",
    "    judge = judge.replace('Mr ', '')\n",
    "    judge = judge.replace('Ms. ', '')\n",
    "    judge = judge.replace('Ms ', '')\n",
    "    judge = judge.replace('Mrs. ', '')\n",
    "    return judge\n",
    "\n",
    "judges = {}\n",
    "med = []\n",
    "garry = []\n",
    "absa = []\n",
    "lolita = []\n",
    "for season in seasons.values():\n",
    "    for event in season.events:\n",
    "        for discipline in event.disciplines:\n",
    "            for segment in discipline.segments:\n",
    "                for judge in segment.panel.officials.values():\n",
    "                    name = remove_mr_ms(judge.name)\n",
    "                    if name in judges:\n",
    "                        judges[name].append(judge.nation)\n",
    "                    else:\n",
    "                        judges[name] = [judge.nation]"
   ]
  },
  {
   "cell_type": "code",
   "execution_count": 105,
   "metadata": {
    "collapsed": false
   },
   "outputs": [],
   "source": [
    "judge_name_fixes.update({weird_chars[0]: \"Guenther TEICHMANN\",\n",
    " weird_chars[1]: \"Susanne WAHLSTROM\",\n",
    " weird_chars[2]: \"Roland MAEDER\",\n",
    " weird_chars[4]: \"Christiane MOERTH\",\n",
    " weird_chars[3]: \"Allan BOEHM\"})"
   ]
  },
  {
   "cell_type": "code",
   "execution_count": 199,
   "metadata": {
    "collapsed": false
   },
   "outputs": [],
   "source": [
    "with open('pd_data/judge_name_fixes.json') as f:\n",
    "    judge_name_fixes = f.read()\n",
    "judge_name_fixes = json.loads(judge_name_fixes)"
   ]
  },
  {
   "cell_type": "code",
   "execution_count": 229,
   "metadata": {
    "collapsed": false
   },
   "outputs": [],
   "source": [
    "with open('pd_data/judge_name_fixes.json', 'w') as f:\n",
    "    json.dump(judge_name_fixes, f)"
   ]
  },
  {
   "cell_type": "code",
   "execution_count": 230,
   "metadata": {
    "collapsed": true
   },
   "outputs": [],
   "source": [
    "fixed_judges = {}\n",
    "for judge, nations in judges.iteritems():\n",
    "    if judge in judge_name_fixes:\n",
    "        judge = judge_name_fixes[judge]\n",
    "    if judge in fixed_judges:\n",
    "        fixed_judges[judge] += nations\n",
    "    else:\n",
    "        fixed_judges[judge] = nations"
   ]
  },
  {
   "cell_type": "code",
   "execution_count": 231,
   "metadata": {
    "collapsed": false
   },
   "outputs": [],
   "source": [
    "for name in judge_name_fixes:\n",
    "    if name in fixed_judges:\n",
    "        print name"
   ]
  },
  {
   "cell_type": "code",
   "execution_count": 232,
   "metadata": {
    "collapsed": false
   },
   "outputs": [],
   "source": [
    "fixed_judges_set = {}\n",
    "for judge, nations in fixed_judges.iteritems():\n",
    "    fixed_judges_set[judge] = set(nations)\n",
    "    if len(nations) > 2 and 'ISU' in nations:\n",
    "        fixed_judges_set[judge].remove('ISU')"
   ]
  },
  {
   "cell_type": "code",
   "execution_count": 233,
   "metadata": {
    "collapsed": true
   },
   "outputs": [],
   "source": [
    "with open('pd_data/judge_nations.pickle', 'w') as f:\n",
    "    pickle.dump(fixed_judges_set, f)"
   ]
  },
  {
   "cell_type": "code",
   "execution_count": 226,
   "metadata": {
    "collapsed": false
   },
   "outputs": [],
   "source": [
    "issues = [judge for judge in fixed_judges_set.keys() if not is_ascii(judge)]"
   ]
  },
  {
   "cell_type": "code",
   "execution_count": 227,
   "metadata": {
    "collapsed": false
   },
   "outputs": [
    {
     "data": {
      "text/plain": [
       "[u'Ann M\\xdcSING', u'Agnes MORVAI-K\\xd6VECSES']"
      ]
     },
     "execution_count": 227,
     "metadata": {},
     "output_type": "execute_result"
    }
   ],
   "source": [
    "issues"
   ]
  },
  {
   "cell_type": "code",
   "execution_count": 228,
   "metadata": {
    "collapsed": true
   },
   "outputs": [],
   "source": [
    "judge_name_fixes[issues[0]] = u'Ann MUSING'\n",
    "judge_name_fixes[issues[1]] = u'Agnes MORVAI-KOVECSES'"
   ]
  },
  {
   "cell_type": "code",
   "execution_count": 224,
   "metadata": {
    "collapsed": true
   },
   "outputs": [],
   "source": [
    "def is_ascii(s):\n",
    "    return all(ord(c) < 128 for c in s)"
   ]
  },
  {
   "cell_type": "code",
   "execution_count": null,
   "metadata": {
    "collapsed": true
   },
   "outputs": [],
   "source": []
  }
 ],
 "metadata": {
  "kernelspec": {
   "display_name": "Python 2",
   "language": "python",
   "name": "python2"
  },
  "language_info": {
   "codemirror_mode": {
    "name": "ipython",
    "version": 2
   },
   "file_extension": ".py",
   "mimetype": "text/x-python",
   "name": "python",
   "nbconvert_exporter": "python",
   "pygments_lexer": "ipython2",
   "version": "2.7.13"
  }
 },
 "nbformat": 4,
 "nbformat_minor": 2
}
