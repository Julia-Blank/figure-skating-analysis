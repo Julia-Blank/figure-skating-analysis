{
 "cells": [
  {
   "cell_type": "code",
   "execution_count": 15,
   "metadata": {
    "collapsed": true
   },
   "outputs": [],
   "source": [
    "import json\n",
    "import pickle\n",
    "\n",
    "from model.Season import Season\n",
    "from model.util import get_similar_names"
   ]
  },
  {
   "cell_type": "code",
   "execution_count": 2,
   "metadata": {
    "collapsed": false
   },
   "outputs": [
    {
     "name": "stdout",
     "output_type": "stream",
     "text": [
      "2006 2007 2008 2009 2010 2011 2012 2013 2014 2015 2016 2017\n"
     ]
    }
   ],
   "source": [
    "with open('seasons.pickle') as f:\n",
    "    seasons = pickle.load(f)\n",
    "for year, season in seasons.iteritems():\n",
    "    print year,\n",
    "    season.load_scores()"
   ]
  },
  {
   "cell_type": "code",
   "execution_count": 209,
   "metadata": {
    "collapsed": false
   },
   "outputs": [],
   "source": [
    "def remove_mr_ms(judge):\n",
    "    judge = judge.replace('Mr. ', '')\n",
    "    judge = judge.replace('Mr ', '')\n",
    "    judge = judge.replace('Ms. ', '')\n",
    "    judge = judge.replace('Ms ', '')\n",
    "    judge = judge.replace('Mrs. ', '')\n",
    "    return judge\n",
    "\n",
    "judges = {}\n",
    "med = []\n",
    "garry = []\n",
    "absa = []\n",
    "lolita = []\n",
    "for season in seasons.values():\n",
    "    for event in season.events:\n",
    "        for discipline in event.disciplines:\n",
    "            for segment in discipline.segments:\n",
    "                for judge in segment.panel.officials.values():\n",
    "                    name = remove_mr_ms(judge.name)\n",
    "                    if name in judges:\n",
    "                        judges[name].append(judge.nation)\n",
    "                    else:\n",
    "                        judges[name] = [judge.nation]"
   ]
  },
  {
   "cell_type": "code",
   "execution_count": 105,
   "metadata": {
    "collapsed": false
   },
   "outputs": [],
   "source": [
    "judge_name_fixes.update({weird_chars[0]: \"Guenther TEICHMANN\",\n",
    " weird_chars[1]: \"Susanne WAHLSTROM\",\n",
    " weird_chars[2]: \"Roland MAEDER\",\n",
    " weird_chars[4]: \"Christiane MOERTH\",\n",
    " weird_chars[3]: \"Allan BOEHM\"})"
   ]
  },
  {
   "cell_type": "code",
   "execution_count": 199,
   "metadata": {
    "collapsed": false
   },
   "outputs": [],
   "source": [
    "with open('pd_data/judge_name_fixes.json') as f:\n",
    "    judge_name_fixes = f.read()\n",
    "judge_name_fixes = json.loads(judge_name_fixes)"
   ]
  },
  {
   "cell_type": "code",
   "execution_count": 198,
   "metadata": {
    "collapsed": false
   },
   "outputs": [],
   "source": [
    "with open('pd_data/judge_name_fixes.json', 'w') as f:\n",
    "    json.dump(judge_name_fixes, f)"
   ]
  },
  {
   "cell_type": "code",
   "execution_count": 210,
   "metadata": {
    "collapsed": true
   },
   "outputs": [],
   "source": [
    "fixed_judges = {}\n",
    "for judge, nations in judges.iteritems():\n",
    "    if judge in judge_name_fixes:\n",
    "        judge = judge_name_fixes[judge]\n",
    "    if judge in fixed_judges:\n",
    "        fixed_judges[judge] += nations\n",
    "    else:\n",
    "        fixed_judges[judge] = nations"
   ]
  },
  {
   "cell_type": "code",
   "execution_count": 212,
   "metadata": {
    "collapsed": false
   },
   "outputs": [],
   "source": [
    "for name in judge_name_fixes:\n",
    "    if name in fixed_judges:\n",
    "        print name"
   ]
  },
  {
   "cell_type": "code",
   "execution_count": 219,
   "metadata": {
    "collapsed": false
   },
   "outputs": [],
   "source": [
    "fixed_judges_set = {}\n",
    "for judge, nations in fixed_judges.iteritems():\n",
    "    fixed_judges_set[judge] = set(nations)\n",
    "    if len(nations) > 2 and 'ISU' in nations:\n",
    "        fixed_judges_set[judge].remove('ISU')"
   ]
  },
  {
   "cell_type": "code",
   "execution_count": 222,
   "metadata": {
    "collapsed": true
   },
   "outputs": [],
   "source": [
    "with open('pd_data/judge_nations.pickle', 'w') as f:\n",
    "    pickle.dump(fixed_judges_set, f)"
   ]
  },
  {
   "cell_type": "code",
   "execution_count": 220,
   "metadata": {
    "collapsed": false
   },
   "outputs": [],
   "source": [
    "for name in sorted(fixed_judges.keys())[1:]:\n",
    "    if name[1].isupper():\n",
    "        print name"
   ]
  },
  {
   "cell_type": "code",
   "execution_count": null,
   "metadata": {
    "collapsed": true
   },
   "outputs": [],
   "source": []
  }
 ],
 "metadata": {
  "kernelspec": {
   "display_name": "Python 2",
   "language": "python",
   "name": "python2"
  },
  "language_info": {
   "codemirror_mode": {
    "name": "ipython",
    "version": 2
   },
   "file_extension": ".py",
   "mimetype": "text/x-python",
   "name": "python",
   "nbconvert_exporter": "python",
   "pygments_lexer": "ipython2",
   "version": "2.7.13"
  }
 },
 "nbformat": 4,
 "nbformat_minor": 2
}
