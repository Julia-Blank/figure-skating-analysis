{
 "cells": [
  {
   "cell_type": "code",
   "execution_count": 11,
   "metadata": {
    "collapsed": true
   },
   "outputs": [],
   "source": [
    "from model.Season import Season\n",
    "from model.util import levenshtein"
   ]
  },
  {
   "cell_type": "code",
   "execution_count": 3,
   "metadata": {
    "collapsed": true
   },
   "outputs": [],
   "source": [
    "import json\n",
    "import pandas as pd"
   ]
  },
  {
   "cell_type": "code",
   "execution_count": 155,
   "metadata": {
    "collapsed": true
   },
   "outputs": [],
   "source": [
    "ladies = pd.read_csv('pd_data/results_nowd_nofra15_ladies.csv')\n",
    "pairs = pd.read_csv('pd_data/results_nowd_nofra15_pairs.csv')\n",
    "dance = pd.read_csv('pd_data/results_nowd_nofra15_dance.csv')"
   ]
  },
  {
   "cell_type": "code",
   "execution_count": 16,
   "metadata": {
    "collapsed": true
   },
   "outputs": [],
   "source": [
    "def get_similar_names_couple(skaters):\n",
    "    def get_first_last(single_skater):\n",
    "        split = single_skater.split()\n",
    "        if len(split) != 2:\n",
    "            return None\n",
    "        return split[0].lower(), split[1].lower()\n",
    "\n",
    "    def is_similar(s1, s2):\n",
    "        split1 = get_first_last(s1)\n",
    "        split2 = get_first_last(s2)\n",
    "        if split1 and split2:\n",
    "            if levenshtein(split1[0], split2[1]) < 3 and levenshtein(split1[1], split2[0]) < 3:\n",
    "                return True     # Swapped first/last.\n",
    "        if levenshtein(s1, s2) < 7:\n",
    "            return True\n",
    "\n",
    "    similar = []\n",
    "    num_skaters = len(skaters)\n",
    "    for i in xrange(num_skaters):\n",
    "        ladyi, mani = map(lambda x: x.strip(), skaters[i].split('/'))\n",
    "        for j in xrange(i + 1, num_skaters):\n",
    "            ladyj, manj = map(lambda x: x.strip(), skaters[j].split('/'))\n",
    "            if is_similar(ladyi, ladyj) or is_similar(mani, manj):\n",
    "                similar.append((skaters[i], skaters[j]))     \n",
    "    return similar"
   ]
  },
  {
   "cell_type": "code",
   "execution_count": 36,
   "metadata": {
    "collapsed": false
   },
   "outputs": [],
   "source": [
    "with open ('pd_data/name_fixes_pairs.json') as f:\n",
    "    pair_name_fixes = f.read()\n",
    "pair_name_fixes = json.loads(pair_name_fixes)"
   ]
  },
  {
   "cell_type": "code",
   "execution_count": 133,
   "metadata": {
    "collapsed": false
   },
   "outputs": [],
   "source": [
    "for wrong_name, right_name in pair_name_fixes.iteritems():\n",
    "    pairs.loc[pairs.Name == wrong_name, 'Name'] = right_name"
   ]
  },
  {
   "cell_type": "code",
   "execution_count": 137,
   "metadata": {
    "collapsed": false
   },
   "outputs": [
    {
     "data": {
      "text/plain": [
       "206"
      ]
     },
     "execution_count": 137,
     "metadata": {},
     "output_type": "execute_result"
    }
   ],
   "source": [
    "len(sorted(pairs.Name.unique()))"
   ]
  },
  {
   "cell_type": "code",
   "execution_count": 125,
   "metadata": {
    "collapsed": false
   },
   "outputs": [],
   "source": [
    "with open ('pd_data/name_fixes_dance.json') as f:\n",
    "    dance_name_fixes = f.read()\n",
    "dance_name_fixes = json.loads(dance_name_fixes)"
   ]
  },
  {
   "cell_type": "code",
   "execution_count": 126,
   "metadata": {
    "collapsed": false
   },
   "outputs": [],
   "source": [
    "for wrong_name, right_name in dance_name_fixes.iteritems():\n",
    "    dance.loc[dance.Name == wrong_name, 'Name'] = right_name"
   ]
  },
  {
   "cell_type": "code",
   "execution_count": 130,
   "metadata": {
    "collapsed": true
   },
   "outputs": [],
   "source": [
    "dance.to_csv('pd_data/results_nowd_nofra15_dance.csv')"
   ]
  },
  {
   "cell_type": "code",
   "execution_count": 135,
   "metadata": {
    "collapsed": true
   },
   "outputs": [],
   "source": [
    "pairs.to_csv('pd_data/results_nowd_nofra15_pairs.csv')"
   ]
  },
  {
   "cell_type": "code",
   "execution_count": 132,
   "metadata": {
    "collapsed": false
   },
   "outputs": [
    {
     "data": {
      "text/plain": [
       "242"
      ]
     },
     "execution_count": 132,
     "metadata": {},
     "output_type": "execute_result"
    }
   ],
   "source": [
    "len(dance.Name.unique())"
   ]
  },
  {
   "cell_type": "code",
   "execution_count": 156,
   "metadata": {
    "collapsed": false
   },
   "outputs": [],
   "source": [
    "with open ('pd_data/name_fixes_ladies.json') as f:\n",
    "    ladies_name_fixes = f.read()\n",
    "ladies_name_fixes = json.loads(ladies_name_fixes)"
   ]
  },
  {
   "cell_type": "code",
   "execution_count": 157,
   "metadata": {
    "collapsed": true
   },
   "outputs": [],
   "source": [
    "for wrong_name, right_name in ladies_name_fixes.iteritems():\n",
    "    ladies.loc[ladies.Name == wrong_name, 'Name'] = right_name"
   ]
  },
  {
   "cell_type": "code",
   "execution_count": 158,
   "metadata": {
    "collapsed": false
   },
   "outputs": [
    {
     "data": {
      "text/plain": [
       "['Abigail PIETERSEN',\n",
       " 'Adelina SOTNIKOVA',\n",
       " 'Adriana DESANCTIS',\n",
       " 'Agata KRYGER',\n",
       " 'Agnes ZAWADZKI',\n",
       " 'Aimee BUCHANAN',\n",
       " 'Aki SAWADA',\n",
       " 'Akiko KITAMURA',\n",
       " 'Akiko SUZUKI',\n",
       " 'Alaine CHARTRAND',\n",
       " 'Aleksandra GOLOVKINA',\n",
       " 'Alena LEONOVA',\n",
       " u'Alessia BALDO',\n",
       " 'Alexandra IEVLEVA',\n",
       " 'Alexandra KUNOVA',\n",
       " 'Alexandra NAJARRO',\n",
       " 'Alexe GILLES',\n",
       " 'Alice GARLISI',\n",
       " 'Alina FJODOROVA',\n",
       " 'Alisa DREI',\n",
       " 'Alisa MIKONSAARI',\n",
       " 'Alissa CZISNY',\n",
       " 'Alisson Krystle PERTICHETO',\n",
       " 'Amanda DOBBS',\n",
       " 'Amanda NYLANDER',\n",
       " 'Amber CORWIN',\n",
       " 'Amelie LACOSTE',\n",
       " 'Ami PAREKH',\n",
       " 'Amy LIN',\n",
       " 'Ana Cecilia CANTU',\n",
       " 'Anastasia GALUSTYAN',\n",
       " 'Anastasia GIMAZETDINOVA',\n",
       " 'Andrea KREUZER',\n",
       " 'Angela WANG',\n",
       " 'Angelina KUCHVALSKA',\n",
       " 'Ani VARDANYAN',\n",
       " 'Anita MADSEN',\n",
       " 'Anna AFONKINA',\n",
       " 'Anna JURKIEWICZ',\n",
       " 'Anna KHNYCHENKOVA',\n",
       " 'Anna OVCHAROVA',\n",
       " 'Anna POGORILAYA',\n",
       " 'Anne Line GJERSEM',\n",
       " 'Anne Sophie CALVEZ',\n",
       " 'Annette DYTRT',\n",
       " 'Antonina DUBININA',\n",
       " 'Arina MARTINOVA',\n",
       " 'Ashley CAIN',\n",
       " 'Ashley WAGNER',\n",
       " 'Barbara KLERK',\n",
       " 'Beatrice ROZINSKAITE',\n",
       " 'Beatrisa LIANG',\n",
       " 'Becky BERESWILL',\n",
       " 'Belinda SCHONBERGER',\n",
       " 'Bettina HEIM',\n",
       " 'Bianka PADAR',\n",
       " 'Bingwa GENG',\n",
       " 'Binshu XU',\n",
       " 'Birce ATABEY',\n",
       " 'Brittany LAU',\n",
       " 'Brooklee HAN',\n",
       " 'Camilla GJERSEM',\n",
       " 'Candice DIDIER',\n",
       " 'Carol BRESSANUTTI',\n",
       " 'Carolina KOSTNER',\n",
       " 'Caroline ZHANG',\n",
       " 'Chae-Hwa KIM',\n",
       " 'Chae-Yeon SUHR',\n",
       " 'Chantelle KERRY',\n",
       " u'Chaochih LIU',\n",
       " 'Charissa TANSOMBOON',\n",
       " 'Charlotte VANDERSARREN',\n",
       " 'Chelsea Rose CHIAPPA',\n",
       " u'Cheltzie LEE',\n",
       " 'Chloe ING',\n",
       " 'Christiane BERGER',\n",
       " 'Christina GAO',\n",
       " 'Christine ZUKOWSKI',\n",
       " 'Cindy CARQUILLAT',\n",
       " 'Clara PETERS',\n",
       " 'Colette Coco KAMINSKI',\n",
       " 'Constanze PAULINUS',\n",
       " 'Corenne BRUHNS',\n",
       " 'Courtney HICKS',\n",
       " u'Crystal KIANG',\n",
       " 'Crystal Wynewyne KIANG',\n",
       " 'Cynthia PHANEUF',\n",
       " u'Dabin CHOI',\n",
       " 'Dan FANG',\n",
       " 'Daniela STOEVA',\n",
       " 'Danielle HARRISON',\n",
       " 'Danielle MONTALBANO',\n",
       " 'Dasa GRM',\n",
       " 'Denise KOEGL',\n",
       " 'Diane CHEN',\n",
       " 'Diane SZMIETT',\n",
       " 'Ekaterina PROYDA',\n",
       " 'Elena GLEBOVA',\n",
       " 'Elena LIASHENKO',\n",
       " 'Elena RADIONOVA',\n",
       " 'Elena RODRIGUES',\n",
       " 'Elena SOKOLOVA',\n",
       " 'Elene GEDEVANISHVILI',\n",
       " 'Eliska BREZINOVA',\n",
       " 'Elizabet TURSYNBAEVA',\n",
       " u'Elizabeth STERN',\n",
       " u'Elizaveta TUKTAMYSHEVA',\n",
       " u'Elizaveta UKOLOVA',\n",
       " 'Elzbieta KROPA',\n",
       " 'Emily HUGHES',\n",
       " 'Emily NAPHTAL',\n",
       " 'Emma HAGIEVA',\n",
       " 'Emmi PELTONEN',\n",
       " 'Erle HARSTAD',\n",
       " 'Eveline BRUNNER',\n",
       " 'Evgenia MEDVEDEVA',\n",
       " 'Fleur MAXWELL',\n",
       " 'Francesca RIO',\n",
       " 'Fumie SUGURI',\n",
       " u'Gabrielle DALEMAN',\n",
       " 'Galina EFREMENKO',\n",
       " 'Georgia GLASTRIS',\n",
       " 'Gerli LIINAMAE',\n",
       " 'Giada RUSSO',\n",
       " 'Gracie GOLD',\n",
       " 'Gracielle Jeanne TAN',\n",
       " 'Gwendoline DIDIER',\n",
       " u'Haejin KIM',\n",
       " 'Hannah MILLER',\n",
       " 'Haruka IMAI',\n",
       " 'Helery HALVIN',\n",
       " 'Hristina VASSILEVA',\n",
       " u'Hyeon-Jung KIM',\n",
       " 'Idora HEGEL',\n",
       " 'Ieva GAILE',\n",
       " 'Inga JANULEVICIUTE',\n",
       " 'Ira VANNUT',\n",
       " 'Irina MOVCHAN',\n",
       " 'Irina SLUTSKAYA',\n",
       " 'Isabella SCHUSTER-VELISSARIOU',\n",
       " 'Isabelle OLSSON',\n",
       " 'Isabelle PIEMAN',\n",
       " 'Isadora WILLIAMS',\n",
       " 'Ivana HUDZIECOVA',\n",
       " 'Ivana REITMAYEROVA',\n",
       " 'Ivett TOTH',\n",
       " 'Jacqueline BELENYESIOVA',\n",
       " 'Jaimee NOBBS',\n",
       " 'Janina MAKEENKA',\n",
       " u'Jenna MCCORKELL',\n",
       " 'Jenni VAHAMAA',\n",
       " u'Jessica KURZAWSKI',\n",
       " 'Ji Eun CHOI',\n",
       " 'Joanne CARTER',\n",
       " 'Joannie ROCHETTE',\n",
       " 'Jocelyn HO',\n",
       " 'Joelle FORTE',\n",
       " 'Joshi HELGESSON',\n",
       " 'Julia LIPNITSKAIA',\n",
       " 'Julia SAUTER',\n",
       " 'Julia SEBESTYEN',\n",
       " 'Julia SHEREMET',\n",
       " 'Julia TEPLIH',\n",
       " 'Julianne SEGUIN',\n",
       " 'Juulia TURKKILA',\n",
       " 'Kaat VAN DAELE',\n",
       " 'Kaetlyn OSMOND',\n",
       " 'Kailani CRAINE',\n",
       " 'Kanako MURAKAMI',\n",
       " 'Karen CHEN',\n",
       " 'Karen VENHUIZEN',\n",
       " 'Karina JOHNSON',\n",
       " 'Karly ROBERTSON',\n",
       " 'Katarina GERBOLDT',\n",
       " 'Katherine HADFORD',\n",
       " 'Kathrin FREUDELSPERGER',\n",
       " 'Katie PASFIELD',\n",
       " 'Katrina HACKER',\n",
       " 'Katsiarina PAKHAMOVICH',\n",
       " 'Katy TAYLOR',\n",
       " 'Kerstin FRANK',\n",
       " 'Kexin ZHANG',\n",
       " 'Kiira KORPI',\n",
       " 'Kimmie MEISSNER',\n",
       " 'Kirsten VERBIST',\n",
       " 'Kristen SPOURS',\n",
       " 'Kristin WIECZOREK',\n",
       " 'Kristina SHLOBINA',\n",
       " 'Kristina ZAKHARANKA',\n",
       " 'Kristine MUSADEMBA',\n",
       " 'Kristine Y. LEE',\n",
       " 'Ksenia DORONINA',\n",
       " 'Ksenia JASTSENJSKI',\n",
       " 'Ksenia MAKAROVA',\n",
       " 'Laura DOWNING',\n",
       " 'Laura LEPISTO',\n",
       " 'Lauren HENRY',\n",
       " 'Lauren KO',\n",
       " 'Laurine LECAVELIER',\n",
       " 'Lejeanne MARAIS',\n",
       " 'Lena MARROCCO',\n",
       " 'Lenaelle GILLERON-GORRY',\n",
       " 'Lesley HAWKER',\n",
       " 'Lina JOHANSSON',\n",
       " 'Loena HENDRICKX',\n",
       " 'Loretta HAMUI',\n",
       " 'Lu ZHENG',\n",
       " 'Lutricia BOCK',\n",
       " 'Mae Berenice MEITE',\n",
       " 'Mai ASADA',\n",
       " 'Mai MIHARA',\n",
       " 'Maisy Hiu Ching MA',\n",
       " 'Manouk GIJSMAN',\n",
       " 'Mao ASADA',\n",
       " 'Maria ARTEMIEVA',\n",
       " 'Maria DIKANOVIC',\n",
       " u'Maria PAPASOTIRIOU',\n",
       " 'Maria SOTSKOVA',\n",
       " 'Maria STAVITSKAIA',\n",
       " 'Mariah BELL',\n",
       " 'Mariko KIHARA',\n",
       " 'Marina SEEH',\n",
       " 'Marta GARCIA',\n",
       " 'Martina BOCEK',\n",
       " 'Martine ZUIDERWIJK',\n",
       " u'Mary Grace BALDO',\n",
       " 'Mary Ro REYES',\n",
       " 'Matilda ALGOTSSON',\n",
       " 'Meagan DUHAMEL',\n",
       " 'Megan ALLELY',\n",
       " 'Melanie SWANG',\n",
       " 'Melinda Sherilyn WANG',\n",
       " u'Melinda WANG',\n",
       " 'Melissa BULANHAGUI',\n",
       " 'Melissandre FUENTES',\n",
       " 'Mericien VENZON',\n",
       " 'Merovee EPHREM',\n",
       " 'Michaela DU TOIT',\n",
       " 'Michaela-Lucie HANZLIKOVA',\n",
       " u'Michele CANTU',\n",
       " 'Michelle COUWENBERG',\n",
       " 'Micol CRISTINI',\n",
       " 'Miki ANDO',\n",
       " 'Mimi Tanasorn CHINDASOOK',\n",
       " u'Min-Jeong KWAK',\n",
       " 'Mira LEUNG',\n",
       " 'Mirai NAGASU',\n",
       " 'Miriam MANZANO',\n",
       " 'Miriam ZIEGLER',\n",
       " 'Mirna LIBRIC',\n",
       " 'Miyabi OBA',\n",
       " 'Miyu NAKASHIO',\n",
       " 'Monika SIMANCIKOVA',\n",
       " 'Morgan FIGGINS',\n",
       " 'Myriam LEUENBERGER',\n",
       " 'Myriane SAMSON',\n",
       " 'Na HOU',\n",
       " 'Na-Young KIM',\n",
       " 'Nadege BOBILLIER',\n",
       " u'Nahyun KIM',\n",
       " 'Nana TAKEDA',\n",
       " 'Natalia POPOVA',\n",
       " 'Natasha MCKAY',\n",
       " 'Nathalie WEINZIERL',\n",
       " 'Nella SIMAOVA',\n",
       " 'Netta SCHREIBER',\n",
       " 'Nicole GRAF',\n",
       " 'Nicole RAJICOVA',\n",
       " 'Nicole SCHOTT',\n",
       " 'Niki WORIES',\n",
       " 'Nikol GOSVIANI',\n",
       " 'Nina PETUSHKOVA',\n",
       " 'Noemie SILBERER',\n",
       " 'Oksana GOZEVA',\n",
       " 'Olga IKONNIKOVA',\n",
       " 'Olga ZADVORNOVA',\n",
       " 'Patricia GLESCIC',\n",
       " 'Pernille SORENSEN',\n",
       " 'Phoebe DI TOMMASO',\n",
       " u'Polina EDMUNDS',\n",
       " 'Polina KOROBEYNIKOVA',\n",
       " 'Polina SHELEPEN',\n",
       " 'Priscila ALAVEZ',\n",
       " 'Qiuying ZHU',\n",
       " 'Rachael FLATT',\n",
       " 'Radka BARTOVA',\n",
       " 'Reyna HAMUI',\n",
       " 'Rika HONGO',\n",
       " 'Riona KATO',\n",
       " 'Roberta RODEGHIERO',\n",
       " 'Romy BUHLER',\n",
       " u'Roxana LUCA',\n",
       " 'Ruta GAJAUSKAITE',\n",
       " 'Sabina MARIUTA',\n",
       " 'Sabina PAQUIER',\n",
       " 'Samantha CESARIO',\n",
       " 'Sandra KHOPON',\n",
       " 'Sarah HECKEN',\n",
       " 'Sarah MEIER',\n",
       " 'Sarah PAW SI YING',\n",
       " 'Sasha COHEN',\n",
       " 'Satoko MIYAHARA',\n",
       " 'Serafima SAKHANOVICH',\n",
       " 'Shira WILLNER',\n",
       " 'Shizuka ARAKAWA',\n",
       " 'Shoko ISHIKAWA',\n",
       " 'Shuran YU',\n",
       " 'Sila SAYGI',\n",
       " u'Silvia FONTANA',\n",
       " 'Simone PASTUSIAK',\n",
       " 'Siobhan MCCOLL',\n",
       " 'So Youn PARK',\n",
       " 'Sofia BIRYUKOVA',\n",
       " 'Song Joo CHEA',\n",
       " 'Sonia LAFUENTE',\n",
       " 'Sonia RADEVA',\n",
       " 'Stacy PERFETTI',\n",
       " 'Stasia RAGE',\n",
       " 'Stefania BERTON',\n",
       " 'Stephanie GARDNER',\n",
       " 'Suh Hyun SON',\n",
       " 'Susanna POYKIO',\n",
       " 'Svetlana ISSAKOVA',\n",
       " 'Tae Kyung KIM',\n",
       " 'Tamami ONO',\n",
       " 'Tamar KATZ',\n",
       " 'Tammy SUTAN',\n",
       " 'Tanja ODERMATT',\n",
       " 'Taryn JURGENSEN',\n",
       " 'Tatiana BASOVA',\n",
       " 'Teodora POSTIC',\n",
       " 'Teresa LIN',\n",
       " 'Thita LAMSAM',\n",
       " 'Tiffany Packard YU',\n",
       " 'Tiffany Ting-Ye WU',\n",
       " 'Tina STUERZINGER',\n",
       " 'Tina WANG',\n",
       " 'Tugba KARADEMIR',\n",
       " 'Tze Ching LEE',\n",
       " 'Valentina MARCHEI',\n",
       " 'Valentina MATOS',\n",
       " 'Veronik MALLET',\n",
       " 'Victoria MUNIZ',\n",
       " 'Viktoria HELGESSON',\n",
       " 'Viktoria PAVUK',\n",
       " 'Viktoria VOLCHKOVA',\n",
       " 'Viveca LINDFORS',\n",
       " 'Viviane KAESER',\n",
       " 'Wakaba HIGUCHI',\n",
       " 'Xiangning LI',\n",
       " 'Xiaowen GUO',\n",
       " 'Yan LIU',\n",
       " 'Yasmine Kimiko YAMADA',\n",
       " 'Yea-Ji SHIN',\n",
       " 'Yea-Ji YUN',\n",
       " 'Yeon Jun PARK',\n",
       " 'Ying ZHANG',\n",
       " u'Yong Suk KIM',\n",
       " 'Yoniko Eva WASHINGTON',\n",
       " 'Yoshie ONDA',\n",
       " 'Yretha SILETE',\n",
       " 'Yueren WANG',\n",
       " 'Yuka NAGAI',\n",
       " 'Yukari NAKANO',\n",
       " u'Yuna KIM',\n",
       " 'Yura MATSUDA',\n",
       " 'Zanna PUGACA',\n",
       " 'Zara PASFIELD',\n",
       " 'Zeljka KRIZMANIC',\n",
       " 'Zhaira COSTINIANO',\n",
       " 'Zijun LI',\n",
       " 'Ziquan ZHAO']"
      ]
     },
     "execution_count": 158,
     "metadata": {},
     "output_type": "execute_result"
    }
   ],
   "source": [
    "sorted(ladies.Name.unique())"
   ]
  },
  {
   "cell_type": "code",
   "execution_count": 150,
   "metadata": {
    "collapsed": false
   },
   "outputs": [
    {
     "name": "stdout",
     "output_type": "stream",
     "text": [
      "Susanna PÖYKIÖ\n",
      "Susanna P��YKI��\n",
      "Belinda SCHÖNBERGER\n",
      "Romy BÜHLER\n"
     ]
    }
   ],
   "source": [
    "for name in ladies.Name.unique():\n",
    "    if not is_ascii(name):\n",
    "        print name"
   ]
  },
  {
   "cell_type": "code",
   "execution_count": null,
   "metadata": {
    "collapsed": true
   },
   "outputs": [],
   "source": []
  }
 ],
 "metadata": {
  "kernelspec": {
   "display_name": "Python 2",
   "language": "python",
   "name": "python2"
  },
  "language_info": {
   "codemirror_mode": {
    "name": "ipython",
    "version": 2
   },
   "file_extension": ".py",
   "mimetype": "text/x-python",
   "name": "python",
   "nbconvert_exporter": "python",
   "pygments_lexer": "ipython2",
   "version": "2.7.13"
  }
 },
 "nbformat": 4,
 "nbformat_minor": 2
}
