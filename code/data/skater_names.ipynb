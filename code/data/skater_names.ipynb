{
 "cells": [
  {
   "cell_type": "code",
   "execution_count": 11,
   "metadata": {
    "collapsed": true
   },
   "outputs": [],
   "source": [
    "from model.Season import Season\n",
    "from model.util import levenshtein"
   ]
  },
  {
   "cell_type": "code",
   "execution_count": 3,
   "metadata": {
    "collapsed": true
   },
   "outputs": [],
   "source": [
    "import json\n",
    "import pandas as pd"
   ]
  },
  {
   "cell_type": "code",
   "execution_count": 117,
   "metadata": {
    "collapsed": true
   },
   "outputs": [],
   "source": [
    "pairs = pd.read_csv('pd_data/results_nowd_nofra15_pairs.csv')\n",
    "dance = pd.read_csv('pd_data/results_nowd_nofra15_dance.csv')"
   ]
  },
  {
   "cell_type": "code",
   "execution_count": 16,
   "metadata": {
    "collapsed": true
   },
   "outputs": [],
   "source": [
    "def get_similar_names_couple(skaters):\n",
    "    def get_first_last(single_skater):\n",
    "        split = single_skater.split()\n",
    "        if len(split) != 2:\n",
    "            return None\n",
    "        return split[0].lower(), split[1].lower()\n",
    "\n",
    "    def is_similar(s1, s2):\n",
    "        split1 = get_first_last(s1)\n",
    "        split2 = get_first_last(s2)\n",
    "        if split1 and split2:\n",
    "            if levenshtein(split1[0], split2[1]) < 3 and levenshtein(split1[1], split2[0]) < 3:\n",
    "                return True     # Swapped first/last.\n",
    "        if levenshtein(s1, s2) < 7:\n",
    "            return True\n",
    "\n",
    "    similar = []\n",
    "    num_skaters = len(skaters)\n",
    "    for i in xrange(num_skaters):\n",
    "        ladyi, mani = map(lambda x: x.strip(), skaters[i].split('/'))\n",
    "        for j in xrange(i + 1, num_skaters):\n",
    "            ladyj, manj = map(lambda x: x.strip(), skaters[j].split('/'))\n",
    "            if is_similar(ladyi, ladyj) or is_similar(mani, manj):\n",
    "                similar.append((skaters[i], skaters[j]))     \n",
    "    return similar"
   ]
  },
  {
   "cell_type": "code",
   "execution_count": 36,
   "metadata": {
    "collapsed": false
   },
   "outputs": [],
   "source": [
    "with open ('pd_data/name_fixes_pairs.json') as f:\n",
    "    pair_name_fixes = f.read()\n",
    "pair_name_fixes = json.loads(pair_name_fixes)"
   ]
  },
  {
   "cell_type": "code",
   "execution_count": 37,
   "metadata": {
    "collapsed": false
   },
   "outputs": [],
   "source": [
    "for wrong_name, right_name in pair_name_fixes.iteritems():\n",
    "    pairs.loc[pairs.Name == wrong_name, 'Name'] = right_name"
   ]
  },
  {
   "cell_type": "code",
   "execution_count": 39,
   "metadata": {
    "collapsed": false
   },
   "outputs": [
    {
     "data": {
      "text/plain": [
       "206"
      ]
     },
     "execution_count": 39,
     "metadata": {},
     "output_type": "execute_result"
    }
   ],
   "source": [
    "len(sorted(pairs.Name.unique()))"
   ]
  },
  {
   "cell_type": "code",
   "execution_count": 118,
   "metadata": {
    "collapsed": false
   },
   "outputs": [],
   "source": [
    "with open ('pd_data/name_fixes_dance.json') as f:\n",
    "    dance_name_fixes = f.read()\n",
    "dance_name_fixes = json.loads(dance_name_fixes)"
   ]
  },
  {
   "cell_type": "code",
   "execution_count": 120,
   "metadata": {
    "collapsed": false
   },
   "outputs": [],
   "source": [
    "for wrong_name, right_name in dance_name_fixes.iteritems():\n",
    "    dance.loc[dance.Name == wrong_name, 'Name'] = right_name"
   ]
  },
  {
   "cell_type": "code",
   "execution_count": 121,
   "metadata": {
    "collapsed": false
   },
   "outputs": [],
   "source": [
    "def is_ascii(s):\n",
    "    return all(ord(c) < 128 for c in s)\n",
    "names = []\n",
    "for name in dance.Name.unique():\n",
    "    if not is_ascii(name):\n",
    "        names.append(name)\n",
    "        print name"
   ]
  },
  {
   "cell_type": "code",
   "execution_count": 122,
   "metadata": {
    "collapsed": false
   },
   "outputs": [
    {
     "data": {
      "text/plain": [
       "['Adel TANKOVA / Ronald ZILBERBERG',\n",
       " 'Adele MORRISON / Demid ROKACHEV',\n",
       " 'Albena DENKOVA / Maxim STAVISKI',\n",
       " 'Alessia AURELI / Andrea VATURI',\n",
       " 'Alexandra ALDRIDGE / Daniel EATON',\n",
       " 'Alexandra KAUC / Michal ZYCH',\n",
       " 'Alexandra NAZAROVA / Maxim NIKITIN',\n",
       " 'Alexandra PAUL / Mitchell ISLAM',\n",
       " 'Alexandra STEPANOVA / Ivan BUKIN',\n",
       " u'Alexandra ZARETSKY / Roman ZARETSKY',\n",
       " 'Alexandra ZVORIGINA / Maciej BERNADOWSKI',\n",
       " 'Alisa AGAFONOVA / Alper UCAR',\n",
       " 'Alisa ALLAPACH / Peter KONGKASEM',\n",
       " 'Alla BEKNAZAROVA / Vladimir ZUEV',\n",
       " u'Allie HANN-MCCURDY / Michael CORENO',\n",
       " 'Allison REED / Otar JAPARIDZE',\n",
       " 'Allison REED / Vasili ROGOV',\n",
       " 'Anastasia CANNUSCIO / Colin MCMANUS',\n",
       " 'Anastasia GALYETA / Avidan BROWN',\n",
       " 'Anastasia GREBENKINA / Vazgen AZROJAN',\n",
       " 'Anastasia KHROMOVA / Daryn ZHUNUSSOV',\n",
       " 'Anastasia PLATONOVA / Alexander GRACHEV',\n",
       " 'Anastasia PLATONOVA / Andrei MAXIMISHIN',\n",
       " u'Andrea CHONG / Guillaume GFELLER',\n",
       " 'Angelina TELEGINA / Otar JAPARIDZE',\n",
       " 'Anna CAPPELLINI / Luca LANOTTE',\n",
       " 'Anna NAGORNYUK / Viktor KOVALENKO',\n",
       " 'Anna YANOVSKAYA / Sergey MOZGOV',\n",
       " 'Anna ZADOROZHNIUK / Sergei VERBILLO',\n",
       " 'Barbora SILNA / Dmitri MATSJUK',\n",
       " 'Barbora SILNA / Juri KURAKIN',\n",
       " 'Brooke Elizabeth FRIELING / Lionel RUMI',\n",
       " 'Bryna OI / Taiyo MIZUTANI',\n",
       " u'Caitlin MALLORY / Kristjan RAND',\n",
       " 'Carolina HERMANN / Daniel HERMANN',\n",
       " 'Carolina MOSCHENI / Adam LUKACS',\n",
       " 'Carolina MOSCHENI / Balazs MAJOR',\n",
       " 'Carter Marie JONES / Richard SHARPE',\n",
       " 'Cathy REED / Chris REED',\n",
       " 'Cecile POSTIAUX / Richard POSTIAUX',\n",
       " 'Cecilia TORN / Jussiville PARTANEN',\n",
       " 'Celia ROBLEDO / Luis FENERO',\n",
       " 'Chantal LEFEBVRE / Arseni MARKOV',\n",
       " 'Charlene GUIGNARD / Marco FABBRI',\n",
       " 'Charlotte AIKEN / Josh WHIDBORNE',\n",
       " 'Charlotte LICHTMAN / Dean COPELY',\n",
       " 'Christa GOULAKOS / Bradley YAEGER',\n",
       " 'Christa-Elizabeth GOULAKOS / Eric NEUMANN-AUBICHON',\n",
       " 'Christina BEIER / William BEIER',\n",
       " 'Christina CHITWOOD / Mark HANRETTY',\n",
       " 'Corenne BRUHNS / Andrew LAVRIK',\n",
       " 'Corenne BRUHNS / Benjamin WESTENBERGER',\n",
       " 'Corenne BRUHNS / Ryan VAN NATTEN',\n",
       " 'Cortney MANSOUR / Daryn ZHUNUSSOV',\n",
       " 'Cortney MANSOUR / Michal CESKA',\n",
       " 'Danielle OBRIEN / Gregory MERRIMAN',\n",
       " 'Dora TUROCZI / Balazs MAJOR',\n",
       " 'Ekaterina BOBROVA / Dmitri SOLOVIEV',\n",
       " 'Ekaterina PUSHKASH / Jonathan GUERREIRO',\n",
       " 'Ekaterina RIAZANOVA / Ilia TKACHENKO',\n",
       " 'Ekaterina RUBLEVA / Ivan SHEFER',\n",
       " 'Elena GRUSHINA / Ruslan GONCHAROV',\n",
       " 'Elena ILINYKH / Nikita KATSALAPOV',\n",
       " 'Elena ILINYKH / Ruslan ZHIGANSHIN',\n",
       " 'Elena ROMANOVSKAYA / Alexander GRACHEV',\n",
       " 'Elisabeth PARADIS / Francois-Xavier OUELLETTE',\n",
       " 'Elizaveta TRETIAKOV / Viktor KOVALENKO',\n",
       " 'Elliana POGREBINSKY / Alex BENOIT',\n",
       " 'Emese LASZLO / Mate FEJES',\n",
       " 'Emi HIRAI / Marien DE LA ASUNCION',\n",
       " 'Emily SAMUELSON / Evan BATES',\n",
       " 'Emily SAMUELSON / Todd GILLES',\n",
       " 'Evgenia MELNIK / Oleg KRUPEN',\n",
       " 'FUSAR POLI Barbara / MARGAGLIO Maurizio',\n",
       " 'Federica FAIELLA / Massimo SCALI',\n",
       " 'Federica TESTA / Christopher MIOR',\n",
       " 'Federica TESTA / Lukas CSOLLEY',\n",
       " 'Gabriela KUBOVA / Dmitri KISELEV',\n",
       " 'Gabriela KUBOVA / Matej NOVAK',\n",
       " 'Gabriella PAPADAKIS / Guillaume CIZERON',\n",
       " 'Galit CHAIT / Sergei SAKHNOVSKI',\n",
       " 'Grethe GRUENBERG / Kristian RAND',\n",
       " 'Hanna JAKUCS / Daniel ILLES',\n",
       " 'Henna LINDHOLM / Ossi KANERVO',\n",
       " u'Hojung LEE / Richard Kang In KAM',\n",
       " 'Hong CHEN / Yan ZHAO',\n",
       " 'Hye Min KIM / Min Woo KIM',\n",
       " 'Ina DEMIREVA / Juri KURAKIN',\n",
       " u'Irina SHTORK / Taavi RAND',\n",
       " 'Isabella CANNUSCIO / Ian LORELLO',\n",
       " 'Isabella PAJARDI / Stefano CARUSO',\n",
       " 'Isabella TOBIAS / Deividas STAGNIUNAS',\n",
       " 'Isabella TOBIAS / Ilia TKACHENKO',\n",
       " 'Isabelle DELOBEL / Olivier SCHOENFELDER',\n",
       " \"Jamie SILVERSTEIN / Ryan O'MEARA\",\n",
       " 'Jana KHOKHLOVA / Sergei NOVITSKI',\n",
       " 'Jane SUMMERSETT / Todd GILLES',\n",
       " 'Jasmine TESSARI / Francesco FIORETTI',\n",
       " 'Jenette MAITZ / Alper UCAR',\n",
       " 'Jennifer URBAN / Sevan LERCHE',\n",
       " 'Jennifer WESTER / Daniil BARANTSEV',\n",
       " 'Jiameimei GUO / Fei MENG',\n",
       " 'Joanna BUDNER / Jan MOSCICKI',\n",
       " 'Julia GOLOVINA / Oleg VOIKO',\n",
       " 'Julia ZLOBINA / Alexei SITNIKOV',\n",
       " 'Justyna PLUTOWSKA / Peter GERBER',\n",
       " 'Kaitlin HAWAYEK / Jean-Luc BAKER',\n",
       " 'Kaitlyn WEAVER / Andrew POJE',\n",
       " 'Kamila HAJKOVA / David VINCOUR',\n",
       " 'Kana MURAMOTO / Chris REED',\n",
       " 'Karina UZUROVA / Ilias ALI',\n",
       " 'Katarina PAICE / Yuri EREMENKO',\n",
       " 'Katelyn GOOD / Nikolaj SORENSEN',\n",
       " 'Katerina BUNINA / German FROLOV',\n",
       " 'Katharina MULLER / Tim DIECK',\n",
       " 'Katherine COPELY / Deividas STAGNIUNAS',\n",
       " u'Kavita LORENZ / Joti POLIZOAKIS',\n",
       " 'Kharis RALPH / Asher HILL',\n",
       " 'Kimberley HEW-LOW / Timothy MCKERNAN',\n",
       " u'Kimberly NAVARRO / Brent BOMMENTRE',\n",
       " 'Kira GEIL / Dmitri MATSJUK',\n",
       " 'Kira GEIL / Tobias EISENBAUER',\n",
       " 'Kristin FRASER / Igor LUKANIN',\n",
       " 'Kristina GORSHKOVA / Vitali BUTIKOV',\n",
       " 'Kristina KIUDMAA / Aleksei TROHLEV',\n",
       " 'Krisztina BARTA / Adam TOTH',\n",
       " 'Ksenia KOROBKOVA / Daryn ZHUNUSSOV',\n",
       " 'Ksenia MONKO / Kirill KHALIAVIN',\n",
       " 'Ksenia SHMIRINA / Egor MAISTROV',\n",
       " 'Ksenia SHMIRINA / Yahor MAISTROV',\n",
       " 'Laura MUNANA / Luke MUNANA',\n",
       " 'Lauren SENFT / Leif GISLASON',\n",
       " 'Laurence FOURNIER BEAUDRY / Nikolaj SORENSEN',\n",
       " 'Leonie KRAIL / Oscar PETER',\n",
       " u'Lesia VOLODENKOVA / Vitali VAKUNOV',\n",
       " 'Lilah FEAR / Lewis GIBSON',\n",
       " 'Linshu SONG / Zhuoming SUN',\n",
       " 'Loren GALLER-RABINOWITZ / David MITCHELL',\n",
       " 'Lorenza ALESSANDRINI / Pierre SOUQUET',\n",
       " 'Lorenza ALESSANDRINI / Simone VATURI',\n",
       " 'Louise WALDEN / Owen EDWARDS',\n",
       " 'Lu LIU / Bin SUO',\n",
       " 'Lucie MYSLIVECKOVA / Lukas CSOLLEY',\n",
       " 'Lucie MYSLIVECKOVA / Matej NOVAK',\n",
       " 'Lucie MYSLIVECKOVA / Neil BROWN',\n",
       " 'Lynn KRIENGKRAIRUT / Logan GIULIETTI-SCHMITT',\n",
       " 'Madison CHOCK / Evan BATES',\n",
       " 'Madison CHOCK / Greg ZUERLEIN',\n",
       " 'Madison HUBBELL / Keiffer HUBBELL',\n",
       " 'Madison HUBBELL / Zachary DONOHUE',\n",
       " 'Maia SHIBUTANI / Alex SHIBUTANI',\n",
       " 'Margarita DROBIAZKO / Povilas VANAGAS',\n",
       " 'Maria BOROUNOV / Evgeni BOROUNOV',\n",
       " 'Marie-France DUBREUIL / Patrice LAUZON',\n",
       " 'Marie-Jade LAURIAULT / Romain LE GAC',\n",
       " 'Matilda FRIEND / William BADAOUI',\n",
       " 'Megan WING / Aaron LOWE',\n",
       " 'Melissa GREGORY / Denis PETUKHOV',\n",
       " 'Meryl DAVIS / Charlie WHITE',\n",
       " 'Misato KOMATSUBARA / Andrea FABBRI',\n",
       " 'Morgan MATTHEWS / Maxim ZAVOZIN',\n",
       " 'Mylene GIRARD / Bradley YAEGER',\n",
       " 'Mylene LAMOUREUX / Michael MEE',\n",
       " 'Nadezhda FROLENKOVA / Mikhail KASALO',\n",
       " 'Nadine AHMED / Bruce PORTER',\n",
       " 'Nakako TSUZUKI / Kenji MIYAMOTO',\n",
       " u'Natalia KALISZEK / Maksym SPODYRIEV',\n",
       " 'Natalia MIKHAILOVA / Arkadi SERGEEV',\n",
       " 'Natalie BUCK / Trent NELSON-BOND',\n",
       " 'Nathalie PECHALAT / Fabian BOURZAT',\n",
       " 'Nelli ZHIGANSHINA / Alexander GAZSI',\n",
       " 'Nicole KUZMICHOVA / Alexandr SINICYN',\n",
       " 'Nicole ORFORD / Thomas WILLIAMS',\n",
       " 'Nicolette Amie HOUSE / Aidas REKLYS',\n",
       " 'Nikki GEORGIADIS / Graham HOCKLEY',\n",
       " 'Nikola VISNOVA / Lukas CSOLLEY',\n",
       " 'Nora HOFFMANN / Attila ELEK',\n",
       " 'Nora HOFFMANN / Maxim ZAVOZIN',\n",
       " 'Nora von BERGEN / David DeFAZIO',\n",
       " 'Nozomi WATANABE / Akiyuki KIDO',\n",
       " 'Oksana DOMNINA / Maxim SHABALIN',\n",
       " 'Oksana KLIMOVA / Sasha PALOMAKI',\n",
       " 'Olesia KARMI / Max LINDHOLM',\n",
       " 'Olga AKIMOVA / Alexander SHAKALOV',\n",
       " 'Olga JAKUSHINA / Andrey NEVSKIY',\n",
       " 'Olga ORLOVA / Vitali NOVIKOV',\n",
       " 'Olivia SMART / Adria DIAZ',\n",
       " 'Olivia SMART / Joseph BUCKLAND',\n",
       " 'Penny COOMES / Nicholas BUCKLAND',\n",
       " 'Pernelle CARRON / Lloyd JONES',\n",
       " u'Pernelle CARRON / Matthieu JOST',\n",
       " 'Peroline OJARDIAS / Michael BRAMANTE',\n",
       " 'Phillipa TOWLER-GREEN / Phillip POOLE',\n",
       " 'Pilar MAEKAWA / Leonardo MAEKAWA',\n",
       " 'Pilar MAEKAWA MORENO / Leonardo MAEKAWA MORENO',\n",
       " 'Piper GILLES / Paul POIRIER',\n",
       " 'Rachel TIBBETTS / Collin BRUBAKER',\n",
       " 'Ramona ELSENER / Florian ROOST',\n",
       " 'Rebeka KIM / Kirill MINOV',\n",
       " 'Robynne TWEEDALE / Joseph BUCKLAND',\n",
       " 'SINITSINA V / ZHIGANSHIN R',\n",
       " 'Sara HURTADO / Adria DIAZ',\n",
       " 'Sara HURTADO / Kirill KHALIAVIN',\n",
       " 'Sarah ARNOLD / Justin TROJEK',\n",
       " 'Sarah COWARD / Georgi KENCHADZE',\n",
       " 'Shiyue WANG / Xinyu LIU',\n",
       " 'Sinead KERR / John KERR',\n",
       " 'Siobhan HEEKIN-CANEDY / Alexander SHAKALOV',\n",
       " 'Siobhan HEEKIN-CANEDY / Dmitri DUN',\n",
       " 'Siobhan KARAM / Joshua McGRATH',\n",
       " 'Sofia EVDOKIMOVA / Egor BAZIN',\n",
       " 'Stefanie FROHBERG / Tim GIESEN',\n",
       " 'Sun Hye YU / Ramil SARKULOV',\n",
       " 'TOBIAS I / STAGNIUNAS D',\n",
       " 'Tanith BELBIN / Benjamin AGOSTO',\n",
       " 'Tanja KOLBE / Stefano CARUSO',\n",
       " 'Tarrah HARVEY / Keith GAGNON',\n",
       " 'Tatiana KOZMAVA / Aleksandr ZOLOTAREV',\n",
       " 'Tatiana KOZMAVA / Alexei SHUMSKI',\n",
       " 'Tatiana NAVKA / Roman KOSTOMAROV',\n",
       " 'Taylor TRAN / Saulius AMBRULEVICIUS',\n",
       " 'Terra FINDLAY / Benoit RICHAUD',\n",
       " 'Tessa VIRTUE / Scott MOIR',\n",
       " 'Tiffany STIEGLER / Sergei MAGEROVSKI',\n",
       " 'Tiffany ZAHORSKI / Jonathan GUERREIRO',\n",
       " 'Tina GARABEDIAN / Simon PROULX-SENECAL',\n",
       " 'Trina PRATT / Todd GILLES',\n",
       " 'Valeria GAISTRUK / Alexei OLEJNIK',\n",
       " 'Vanessa CRONE / Paul POIRIER',\n",
       " 'Vavara OGLOBLINA / Mikhail ZHIRNOV',\n",
       " 'Victoria MANNI / Carlo ROTHLISBERGER',\n",
       " 'Victoria SINITSINA / Nikita KATSALAPOV',\n",
       " 'Victoria SINITSINA / Ruslan ZHIGANSHIN',\n",
       " 'Viktoria KAVALIOVA / Yurii BIELIAIEV',\n",
       " 'WANG Jiayue / GAO Chongbo',\n",
       " 'Xiaoyang YU / Chen WANG',\n",
       " 'Xibei LI / Guangyao XIANG',\n",
       " 'Xintong HUANG / Xun ZHENG',\n",
       " 'Xueting GUAN / Meng WANG',\n",
       " 'Yiyi ZHANG / Nan WU',\n",
       " 'Yue ZHAO / Xun ZHENG',\n",
       " 'Yura MIN / Alexander GAMELIN',\n",
       " 'Yura MIN / Timothy KOLETO',\n",
       " 'Zoe BLANC / Pierre-Loup BOUQUET',\n",
       " 'Zsuzsanna NAGY / Gyorgy ELEK',\n",
       " 'Zsuzsanna NAGY / Mate FEJES']"
      ]
     },
     "execution_count": 122,
     "metadata": {},
     "output_type": "execute_result"
    }
   ],
   "source": [
    "sorted(dance.Name.unique())"
   ]
  },
  {
   "cell_type": "code",
   "execution_count": null,
   "metadata": {
    "collapsed": true
   },
   "outputs": [],
   "source": []
  }
 ],
 "metadata": {
  "kernelspec": {
   "display_name": "Python 2",
   "language": "python",
   "name": "python2"
  },
  "language_info": {
   "codemirror_mode": {
    "name": "ipython",
    "version": 2
   },
   "file_extension": ".py",
   "mimetype": "text/x-python",
   "name": "python",
   "nbconvert_exporter": "python",
   "pygments_lexer": "ipython2",
   "version": "2.7.13"
  }
 },
 "nbformat": 4,
 "nbformat_minor": 2
}
