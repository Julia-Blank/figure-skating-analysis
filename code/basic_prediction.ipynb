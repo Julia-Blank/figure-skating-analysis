{
 "cells": [
  {
   "cell_type": "code",
   "execution_count": 1,
   "metadata": {
    "collapsed": true
   },
   "outputs": [],
   "source": [
    "%matplotlib inline\n",
    "\n",
    "from collections import OrderedDict\n",
    "import json\n",
    "import math\n",
    "import matplotlib.pyplot as plt\n",
    "import numpy as np\n",
    "import pandas as pd\n",
    "import pickle\n",
    "import statsmodels.api as sm"
   ]
  },
  {
   "cell_type": "code",
   "execution_count": null,
   "metadata": {
    "collapsed": false
   },
   "outputs": [
    {
     "name": "stdout",
     "output_type": "stream",
     "text": [
      "2006"
     ]
    }
   ],
   "source": [
    "with open('seasons.pickle') as f:\n",
    "    seasons = pickle.load(f)\n",
    "for year, season in seasons.iteritems():\n",
    "    print year,\n",
    "    season.load_scores()"
   ]
  },
  {
   "cell_type": "code",
   "execution_count": null,
   "metadata": {
    "collapsed": false
   },
   "outputs": [],
   "source": [
    "events = {}\n",
    "for season in seasons.values():\n",
    "    events.update(season.event_dict)\n",
    "events.update(season18.event_dict)"
   ]
  },
  {
   "cell_type": "code",
   "execution_count": 2,
   "metadata": {
    "collapsed": true
   },
   "outputs": [],
   "source": [
    "skaters = {}\n",
    "for discipline in ('men', 'ladies', 'pairs', 'dance'):\n",
    "    skaters[discipline] = pd.read_csv('pd_data/results_nowd_nofra15_' + discipline + '.csv')"
   ]
  },
  {
   "cell_type": "code",
   "execution_count": 69,
   "metadata": {
    "collapsed": false
   },
   "outputs": [],
   "source": [
    "# for discipline, df in skaters.iteritems():\n",
    "#     df.to_csv('pd_data/results_nowd_nofra15_' + discipline + '.csv')"
   ]
  },
  {
   "cell_type": "code",
   "execution_count": 6,
   "metadata": {
    "collapsed": false
   },
   "outputs": [
    {
     "data": {
      "text/html": [
       "<div>\n",
       "<table border=\"1\" class=\"dataframe\">\n",
       "  <thead>\n",
       "    <tr style=\"text-align: right;\">\n",
       "      <th></th>\n",
       "      <th>Unnamed: 0</th>\n",
       "      <th>Unnamed: 0.1</th>\n",
       "      <th>Unnamed: 0.1.1</th>\n",
       "      <th>Date</th>\n",
       "      <th>Event</th>\n",
       "      <th>Free Rank</th>\n",
       "      <th>Free Score</th>\n",
       "      <th>Name</th>\n",
       "      <th>Nation</th>\n",
       "      <th>Points</th>\n",
       "      <th>...</th>\n",
       "      <th>Short Score</th>\n",
       "      <th>Num Short Scorecards</th>\n",
       "      <th>Num Free Scorecards</th>\n",
       "      <th>Short Start</th>\n",
       "      <th>Free Start</th>\n",
       "      <th>Season</th>\n",
       "      <th>Short TES</th>\n",
       "      <th>Short PCS</th>\n",
       "      <th>Free TES</th>\n",
       "      <th>Free PCS</th>\n",
       "    </tr>\n",
       "  </thead>\n",
       "  <tbody>\n",
       "    <tr>\n",
       "      <th>0</th>\n",
       "      <td>0</td>\n",
       "      <td>0</td>\n",
       "      <td>0</td>\n",
       "      <td>2005-10-23</td>\n",
       "      <td>gpusa05</td>\n",
       "      <td>1</td>\n",
       "      <td>119.24</td>\n",
       "      <td>Dan ZHANG / Hao ZHANG</td>\n",
       "      <td>CHN</td>\n",
       "      <td>179.14</td>\n",
       "      <td>...</td>\n",
       "      <td>59.90</td>\n",
       "      <td>10</td>\n",
       "      <td>10</td>\n",
       "      <td>NaN</td>\n",
       "      <td>NaN</td>\n",
       "      <td>2006</td>\n",
       "      <td>33.06</td>\n",
       "      <td>26.84</td>\n",
       "      <td>65.08</td>\n",
       "      <td>54.16</td>\n",
       "    </tr>\n",
       "    <tr>\n",
       "      <th>1</th>\n",
       "      <td>1</td>\n",
       "      <td>1</td>\n",
       "      <td>1</td>\n",
       "      <td>2005-10-23</td>\n",
       "      <td>gpusa05</td>\n",
       "      <td>2</td>\n",
       "      <td>109.6</td>\n",
       "      <td>Rena INOUE / John BALDWIN</td>\n",
       "      <td>USA</td>\n",
       "      <td>164.44</td>\n",
       "      <td>...</td>\n",
       "      <td>54.84</td>\n",
       "      <td>10</td>\n",
       "      <td>10</td>\n",
       "      <td>NaN</td>\n",
       "      <td>NaN</td>\n",
       "      <td>2006</td>\n",
       "      <td>31.40</td>\n",
       "      <td>24.44</td>\n",
       "      <td>58.04</td>\n",
       "      <td>52.56</td>\n",
       "    </tr>\n",
       "  </tbody>\n",
       "</table>\n",
       "<p>2 rows × 22 columns</p>\n",
       "</div>"
      ],
      "text/plain": [
       "   Unnamed: 0  Unnamed: 0.1  Unnamed: 0.1.1        Date    Event Free Rank  \\\n",
       "0           0             0               0  2005-10-23  gpusa05         1   \n",
       "1           1             1               1  2005-10-23  gpusa05         2   \n",
       "\n",
       "  Free Score                       Name Nation  Points    ...    Short Score  \\\n",
       "0     119.24      Dan ZHANG / Hao ZHANG    CHN  179.14    ...          59.90   \n",
       "1      109.6  Rena INOUE / John BALDWIN    USA  164.44    ...          54.84   \n",
       "\n",
       "   Num Short Scorecards  Num Free Scorecards  Short Start  Free Start  Season  \\\n",
       "0                    10                   10          NaN         NaN    2006   \n",
       "1                    10                   10          NaN         NaN    2006   \n",
       "\n",
       "   Short TES  Short PCS  Free TES  Free PCS  \n",
       "0      33.06      26.84     65.08     54.16  \n",
       "1      31.40      24.44     58.04     52.56  \n",
       "\n",
       "[2 rows x 22 columns]"
      ]
     },
     "execution_count": 6,
     "metadata": {},
     "output_type": "execute_result"
    }
   ],
   "source": [
    "skaters['pairs'][:2]"
   ]
  },
  {
   "cell_type": "code",
   "execution_count": 57,
   "metadata": {
    "collapsed": true
   },
   "outputs": [],
   "source": [
    "def get_bv_comp(row, discipline_index):\n",
    "    \"\"\"Returns short tes, short pcs, long tes, long pcs\"\"\"\n",
    "    discipline = events[row.Event].disciplines[discipline_index]\n",
    "    short = discipline.segments[0].scorecards[row['Short Rank']-1]\n",
    "    result = [short.tes, short.pcs]\n",
    "    if pd.notnull(row['Free Rank']) and row['Free Rank'] not in ('WD', 'DNQ'):\n",
    "        free = discipline.segments[-1].scorecards[int(row['Free Rank'])-1]\n",
    "        result += [free.tes, free.pcs]\n",
    "    else:\n",
    "        result += [None, None]\n",
    "    return result"
   ]
  },
  {
   "cell_type": "code",
   "execution_count": 64,
   "metadata": {
    "collapsed": false
   },
   "outputs": [],
   "source": [
    "# for (label, index) in (('Short TES', 0), ('Short PCS', 1), ('Free TES', 2), ('Free PCS', 3)):\n",
    "#     skaters['pairs'][label] = skaters['pairs'].apply(lambda row: get_bv_comp(row, 2)[index], axis=1)"
   ]
  },
  {
   "cell_type": "code",
   "execution_count": 6,
   "metadata": {
    "collapsed": false
   },
   "outputs": [
    {
     "data": {
      "text/plain": [
       "170"
      ]
     },
     "execution_count": 6,
     "metadata": {},
     "output_type": "execute_result"
    }
   ],
   "source": [
    "# only grab 2017 results where there are start orders\n",
    "start_order = skaters['men'][skaters['men']['Short Start'].notnull()]\n",
    "start_order17 = start_order[start_order.Season == 2017]\n",
    "len(start_order17)"
   ]
  },
  {
   "cell_type": "code",
   "execution_count": 7,
   "metadata": {
    "collapsed": false
   },
   "outputs": [
    {
     "data": {
      "text/html": [
       "<div>\n",
       "<table border=\"1\" class=\"dataframe\">\n",
       "  <thead>\n",
       "    <tr style=\"text-align: right;\">\n",
       "      <th></th>\n",
       "      <th>Unnamed: 0</th>\n",
       "      <th>Unnamed: 0.1</th>\n",
       "      <th>Date</th>\n",
       "      <th>Event</th>\n",
       "      <th>Free Rank</th>\n",
       "      <th>Free Score</th>\n",
       "      <th>Name</th>\n",
       "      <th>Nation</th>\n",
       "      <th>Points</th>\n",
       "      <th>Rank</th>\n",
       "      <th>Short Rank</th>\n",
       "      <th>Short Score</th>\n",
       "      <th>Num Short Scorecards</th>\n",
       "      <th>Num Free Scorecards</th>\n",
       "      <th>Short Start</th>\n",
       "      <th>Free Start</th>\n",
       "      <th>Season</th>\n",
       "    </tr>\n",
       "  </thead>\n",
       "  <tbody>\n",
       "    <tr>\n",
       "      <th>1891</th>\n",
       "      <td>1891</td>\n",
       "      <td>0</td>\n",
       "      <td>2016-10-23</td>\n",
       "      <td>gpusa2016</td>\n",
       "      <td>1</td>\n",
       "      <td>190.19</td>\n",
       "      <td>Shoma UNO</td>\n",
       "      <td>JPN</td>\n",
       "      <td>279.34</td>\n",
       "      <td>1</td>\n",
       "      <td>1.0</td>\n",
       "      <td>89.15</td>\n",
       "      <td>10</td>\n",
       "      <td>10</td>\n",
       "      <td>9.0</td>\n",
       "      <td>9.0</td>\n",
       "      <td>2017</td>\n",
       "    </tr>\n",
       "    <tr>\n",
       "      <th>1892</th>\n",
       "      <td>1892</td>\n",
       "      <td>1</td>\n",
       "      <td>2016-10-23</td>\n",
       "      <td>gpusa2016</td>\n",
       "      <td>2</td>\n",
       "      <td>182.63</td>\n",
       "      <td>Jason BROWN</td>\n",
       "      <td>USA</td>\n",
       "      <td>268.38</td>\n",
       "      <td>2</td>\n",
       "      <td>3.0</td>\n",
       "      <td>85.75</td>\n",
       "      <td>10</td>\n",
       "      <td>10</td>\n",
       "      <td>8.0</td>\n",
       "      <td>10.0</td>\n",
       "      <td>2017</td>\n",
       "    </tr>\n",
       "    <tr>\n",
       "      <th>1893</th>\n",
       "      <td>1893</td>\n",
       "      <td>2</td>\n",
       "      <td>2016-10-23</td>\n",
       "      <td>gpusa2016</td>\n",
       "      <td>3</td>\n",
       "      <td>174.11</td>\n",
       "      <td>Adam RIPPON</td>\n",
       "      <td>USA</td>\n",
       "      <td>261.43</td>\n",
       "      <td>3</td>\n",
       "      <td>2.0</td>\n",
       "      <td>87.32</td>\n",
       "      <td>10</td>\n",
       "      <td>10</td>\n",
       "      <td>10.0</td>\n",
       "      <td>8.0</td>\n",
       "      <td>2017</td>\n",
       "    </tr>\n",
       "  </tbody>\n",
       "</table>\n",
       "</div>"
      ],
      "text/plain": [
       "      Unnamed: 0  Unnamed: 0.1        Date      Event Free Rank Free Score  \\\n",
       "1891        1891             0  2016-10-23  gpusa2016         1     190.19   \n",
       "1892        1892             1  2016-10-23  gpusa2016         2     182.63   \n",
       "1893        1893             2  2016-10-23  gpusa2016         3     174.11   \n",
       "\n",
       "             Name Nation  Points Rank  Short Rank  Short Score  \\\n",
       "1891    Shoma UNO    JPN  279.34    1         1.0        89.15   \n",
       "1892  Jason BROWN    USA  268.38    2         3.0        85.75   \n",
       "1893  Adam RIPPON    USA  261.43    3         2.0        87.32   \n",
       "\n",
       "      Num Short Scorecards  Num Free Scorecards  Short Start  Free Start  \\\n",
       "1891                    10                   10          9.0         9.0   \n",
       "1892                    10                   10          8.0        10.0   \n",
       "1893                    10                   10         10.0         8.0   \n",
       "\n",
       "      Season  \n",
       "1891    2017  \n",
       "1892    2017  \n",
       "1893    2017  "
      ]
     },
     "execution_count": 7,
     "metadata": {},
     "output_type": "execute_result"
    }
   ],
   "source": [
    "start_order17[:3]"
   ]
  },
  {
   "cell_type": "code",
   "execution_count": 9,
   "metadata": {
    "collapsed": false
   },
   "outputs": [
    {
     "data": {
      "text/plain": [
       "1891"
      ]
     },
     "execution_count": 9,
     "metadata": {},
     "output_type": "execute_result"
    }
   ],
   "source": [
    "history = skaters['men'][skaters['men'].Season != 2017]\n",
    "len(history)"
   ]
  },
  {
   "cell_type": "code",
   "execution_count": 10,
   "metadata": {
    "collapsed": false
   },
   "outputs": [
    {
     "data": {
      "text/plain": [
       "281"
      ]
     },
     "execution_count": 10,
     "metadata": {},
     "output_type": "execute_result"
    }
   ],
   "source": [
    "individual_bests_short = {skater: np.max(map(float, history[history.Name == skater]['Short Score']))\n",
    "                          for skater in history.Name.get_values()}\n",
    "len(individual_bests_short)"
   ]
  },
  {
   "cell_type": "code",
   "execution_count": 11,
   "metadata": {
    "collapsed": false
   },
   "outputs": [
    {
     "data": {
      "text/plain": [
       "224"
      ]
     },
     "execution_count": 11,
     "metadata": {},
     "output_type": "execute_result"
    }
   ],
   "source": [
    "have_frees = history[history['Free Rank'] != 'DNQ']\n",
    "have_frees = have_frees[have_frees['Free Rank'] != 'WD']\n",
    "individual_bests_free = {skater: np.max(map(float, have_frees[have_frees.Name == skater]['Free Score']))\n",
    "                         for skater in have_frees.Name.get_values()}\n",
    "len(individual_bests_free)"
   ]
  },
  {
   "cell_type": "code",
   "execution_count": 7,
   "metadata": {
    "collapsed": false
   },
   "outputs": [
    {
     "data": {
      "text/plain": [
       "(61.090000000000003, 124.88)"
      ]
     },
     "execution_count": 7,
     "metadata": {},
     "output_type": "execute_result"
    }
   ],
   "source": [
    "med_short = np.median(individual_bests_short.values())\n",
    "med_free = np.median(individual_bests_free.values())\n",
    "med_short, med_free"
   ]
  },
  {
   "cell_type": "code",
   "execution_count": 8,
   "metadata": {
    "collapsed": false
   },
   "outputs": [
    {
     "ename": "NameError",
     "evalue": "name 'start_order17' is not defined",
     "output_type": "error",
     "traceback": [
      "\u001b[0;31m---------------------------------------------------------------------------\u001b[0m",
      "\u001b[0;31mNameError\u001b[0m                                 Traceback (most recent call last)",
      "\u001b[0;32m<ipython-input-8-361520b5f5fa>\u001b[0m in \u001b[0;36m<module>\u001b[0;34m()\u001b[0m\n\u001b[1;32m      9\u001b[0m \u001b[0mskaters_free\u001b[0m \u001b[0;34m=\u001b[0m \u001b[0;34m[\u001b[0m\u001b[0;34m]\u001b[0m\u001b[0;34m\u001b[0m\u001b[0m\n\u001b[1;32m     10\u001b[0m \u001b[0;34m\u001b[0m\u001b[0m\n\u001b[0;32m---> 11\u001b[0;31m \u001b[0;32mfor\u001b[0m \u001b[0midx\u001b[0m\u001b[0;34m,\u001b[0m \u001b[0mrow\u001b[0m \u001b[0;32min\u001b[0m \u001b[0mstart_order17\u001b[0m\u001b[0;34m.\u001b[0m\u001b[0miterrows\u001b[0m\u001b[0;34m(\u001b[0m\u001b[0;34m)\u001b[0m\u001b[0;34m:\u001b[0m\u001b[0;34m\u001b[0m\u001b[0m\n\u001b[0m\u001b[1;32m     12\u001b[0m     \u001b[0mstart\u001b[0m\u001b[0;34m.\u001b[0m\u001b[0mappend\u001b[0m\u001b[0;34m(\u001b[0m\u001b[0mrow\u001b[0m\u001b[0;34m.\u001b[0m\u001b[0mloc\u001b[0m\u001b[0;34m[\u001b[0m\u001b[0;34m'Short Start'\u001b[0m\u001b[0;34m]\u001b[0m \u001b[0;34m/\u001b[0m \u001b[0mfloat\u001b[0m\u001b[0;34m(\u001b[0m\u001b[0mrow\u001b[0m\u001b[0;34m.\u001b[0m\u001b[0mloc\u001b[0m\u001b[0;34m[\u001b[0m\u001b[0;34m'Num Short Scorecards'\u001b[0m\u001b[0;34m]\u001b[0m\u001b[0;34m)\u001b[0m\u001b[0;34m)\u001b[0m\u001b[0;34m\u001b[0m\u001b[0m\n\u001b[1;32m     13\u001b[0m     \u001b[0;32mif\u001b[0m \u001b[0mrow\u001b[0m\u001b[0;34m.\u001b[0m\u001b[0mName\u001b[0m \u001b[0;32min\u001b[0m \u001b[0mindividual_bests_short\u001b[0m\u001b[0;34m:\u001b[0m\u001b[0;34m\u001b[0m\u001b[0m\n",
      "\u001b[0;31mNameError\u001b[0m: name 'start_order17' is not defined"
     ]
    }
   ],
   "source": [
    "start = []        # normalized start order b/w 0 and 1, closer to 1 is later\n",
    "reputation = []   # maximum of historical total scores. if no history, then median of existing skaters'\n",
    "score = []\n",
    "skaters_short = []\n",
    "\n",
    "start_free = []\n",
    "reputation_free = []\n",
    "score_free = []\n",
    "skaters_free = []\n",
    "\n",
    "for idx, row in start_order17.iterrows():\n",
    "    start.append(row.loc['Short Start'] / float(row.loc['Num Short Scorecards']))\n",
    "    if row.Name in individual_bests_short:\n",
    "        reputation.append(individual_bests_short[row.Name])\n",
    "    else:\n",
    "        reputation.append(med_short)\n",
    "    score.append(row.loc['Short Score'])\n",
    "    skaters_short.append(row.loc['Name'])\n",
    "    \n",
    "    if pd.notnull(row.loc['Free Start']):\n",
    "        start_free.append(row.loc['Free Start'] /  float(row.loc['Num Free Scorecards']))\n",
    "        if row.Name in individual_bests_free:\n",
    "            reputation_free.append(individual_bests_free[row.Name])\n",
    "        else:\n",
    "            reputation_free.append(med_free)\n",
    "        score_free.append(row.loc['Free Score'])\n",
    "        skaters_free.append(row.loc['Name'])"
   ]
  },
  {
   "cell_type": "code",
   "execution_count": 13,
   "metadata": {
    "collapsed": false
   },
   "outputs": [
    {
     "data": {
      "text/plain": [
       "62"
      ]
     },
     "execution_count": 13,
     "metadata": {},
     "output_type": "execute_result"
    }
   ],
   "source": [
    "have_frees17 = start_order17[start_order17['Free Rank'] != 'DNQ']\n",
    "have_frees17 = have_frees17[have_frees17['Free Rank'] != 'WD']\n",
    "len(have_frees17.Name.unique())"
   ]
  },
  {
   "cell_type": "code",
   "execution_count": 14,
   "metadata": {
    "collapsed": false
   },
   "outputs": [
    {
     "data": {
      "text/plain": [
       "(170, 170, 170)"
      ]
     },
     "execution_count": 14,
     "metadata": {},
     "output_type": "execute_result"
    }
   ],
   "source": [
    "len(start), len(reputation), len(score)"
   ]
  },
  {
   "cell_type": "code",
   "execution_count": 15,
   "metadata": {
    "collapsed": false
   },
   "outputs": [
    {
     "data": {
      "text/plain": [
       "(144, 144, 144)"
      ]
     },
     "execution_count": 15,
     "metadata": {},
     "output_type": "execute_result"
    }
   ],
   "source": [
    "len(start_free), len(reputation_free), len(score_free)"
   ]
  },
  {
   "cell_type": "code",
   "execution_count": 16,
   "metadata": {
    "collapsed": false
   },
   "outputs": [],
   "source": [
    "# Model: short_score = reputation + start_order\n",
    "X = pd.DataFrame({'Reputation': reputation, 'Start Number': start}).astype(float)\n",
    "X = sm.add_constant(X)\n",
    "y_short = pd.Series(score).astype(float)"
   ]
  },
  {
   "cell_type": "code",
   "execution_count": 117,
   "metadata": {
    "collapsed": false
   },
   "outputs": [
    {
     "data": {
      "text/plain": [
       "0.86222972995581715"
      ]
     },
     "execution_count": 117,
     "metadata": {},
     "output_type": "execute_result"
    }
   ],
   "source": [
    "from sklearn.ensemble import RandomForestRegressor\n",
    "\n",
    "regr = RandomForestRegressor()\n",
    "regr.fit(X, y_short)\n",
    "regr.feature_importances_\n",
    "regr.score(X, y_short)"
   ]
  },
  {
   "cell_type": "code",
   "execution_count": 17,
   "metadata": {
    "collapsed": false
   },
   "outputs": [
    {
     "data": {
      "text/html": [
       "<table class=\"simpletable\">\n",
       "<caption>OLS Regression Results</caption>\n",
       "<tr>\n",
       "  <th>Dep. Variable:</th>            <td>y</td>        <th>  R-squared:         </th> <td>   0.617</td>\n",
       "</tr>\n",
       "<tr>\n",
       "  <th>Model:</th>                   <td>OLS</td>       <th>  Adj. R-squared:    </th> <td>   0.612</td>\n",
       "</tr>\n",
       "<tr>\n",
       "  <th>Method:</th>             <td>Least Squares</td>  <th>  F-statistic:       </th> <td>   134.4</td>\n",
       "</tr>\n",
       "<tr>\n",
       "  <th>Date:</th>             <td>Sun, 11 Feb 2018</td> <th>  Prob (F-statistic):</th> <td>1.63e-35</td>\n",
       "</tr>\n",
       "<tr>\n",
       "  <th>Time:</th>                 <td>19:19:35</td>     <th>  Log-Likelihood:    </th> <td> -614.99</td>\n",
       "</tr>\n",
       "<tr>\n",
       "  <th>No. Observations:</th>      <td>   170</td>      <th>  AIC:               </th> <td>   1236.</td>\n",
       "</tr>\n",
       "<tr>\n",
       "  <th>Df Residuals:</th>          <td>   167</td>      <th>  BIC:               </th> <td>   1245.</td>\n",
       "</tr>\n",
       "<tr>\n",
       "  <th>Df Model:</th>              <td>     2</td>      <th>                     </th>     <td> </td>   \n",
       "</tr>\n",
       "<tr>\n",
       "  <th>Covariance Type:</th>      <td>nonrobust</td>    <th>                     </th>     <td> </td>   \n",
       "</tr>\n",
       "</table>\n",
       "<table class=\"simpletable\">\n",
       "<tr>\n",
       "        <td></td>          <th>coef</th>     <th>std err</th>      <th>t</th>      <th>P>|t|</th> <th>[95.0% Conf. Int.]</th> \n",
       "</tr>\n",
       "<tr>\n",
       "  <th>const</th>        <td>   20.8236</td> <td>    3.619</td> <td>    5.754</td> <td> 0.000</td> <td>   13.679    27.968</td>\n",
       "</tr>\n",
       "<tr>\n",
       "  <th>Reputation</th>   <td>    0.6155</td> <td>    0.051</td> <td>   11.991</td> <td> 0.000</td> <td>    0.514     0.717</td>\n",
       "</tr>\n",
       "<tr>\n",
       "  <th>Start Number</th> <td>   12.3222</td> <td>    2.710</td> <td>    4.546</td> <td> 0.000</td> <td>    6.971    17.673</td>\n",
       "</tr>\n",
       "</table>\n",
       "<table class=\"simpletable\">\n",
       "<tr>\n",
       "  <th>Omnibus:</th>       <td>16.378</td> <th>  Durbin-Watson:     </th> <td>   1.627</td>\n",
       "</tr>\n",
       "<tr>\n",
       "  <th>Prob(Omnibus):</th> <td> 0.000</td> <th>  Jarque-Bera (JB):  </th> <td>  37.143</td>\n",
       "</tr>\n",
       "<tr>\n",
       "  <th>Skew:</th>          <td> 0.374</td> <th>  Prob(JB):          </th> <td>8.60e-09</td>\n",
       "</tr>\n",
       "<tr>\n",
       "  <th>Kurtosis:</th>      <td> 5.164</td> <th>  Cond. No.          </th> <td>    411.</td>\n",
       "</tr>\n",
       "</table>"
      ],
      "text/plain": [
       "<class 'statsmodels.iolib.summary.Summary'>\n",
       "\"\"\"\n",
       "                            OLS Regression Results                            \n",
       "==============================================================================\n",
       "Dep. Variable:                      y   R-squared:                       0.617\n",
       "Model:                            OLS   Adj. R-squared:                  0.612\n",
       "Method:                 Least Squares   F-statistic:                     134.4\n",
       "Date:                Sun, 11 Feb 2018   Prob (F-statistic):           1.63e-35\n",
       "Time:                        19:19:35   Log-Likelihood:                -614.99\n",
       "No. Observations:                 170   AIC:                             1236.\n",
       "Df Residuals:                     167   BIC:                             1245.\n",
       "Df Model:                           2                                         \n",
       "Covariance Type:            nonrobust                                         \n",
       "================================================================================\n",
       "                   coef    std err          t      P>|t|      [95.0% Conf. Int.]\n",
       "--------------------------------------------------------------------------------\n",
       "const           20.8236      3.619      5.754      0.000        13.679    27.968\n",
       "Reputation       0.6155      0.051     11.991      0.000         0.514     0.717\n",
       "Start Number    12.3222      2.710      4.546      0.000         6.971    17.673\n",
       "==============================================================================\n",
       "Omnibus:                       16.378   Durbin-Watson:                   1.627\n",
       "Prob(Omnibus):                  0.000   Jarque-Bera (JB):               37.143\n",
       "Skew:                           0.374   Prob(JB):                     8.60e-09\n",
       "Kurtosis:                       5.164   Cond. No.                         411.\n",
       "==============================================================================\n",
       "\n",
       "Warnings:\n",
       "[1] Standard Errors assume that the covariance matrix of the errors is correctly specified.\n",
       "\"\"\""
      ]
     },
     "execution_count": 17,
     "metadata": {},
     "output_type": "execute_result"
    }
   ],
   "source": [
    "mod_short = sm.OLS(y_short, X).fit()\n",
    "mod_short.summary()"
   ]
  },
  {
   "cell_type": "code",
   "execution_count": 56,
   "metadata": {
    "collapsed": false
   },
   "outputs": [
    {
     "data": {
      "text/html": [
       "<table class=\"simpletable\">\n",
       "<caption>OLS Regression Results</caption>\n",
       "<tr>\n",
       "  <th>Dep. Variable:</th>            <td>y</td>        <th>  R-squared:         </th> <td>   0.509</td>\n",
       "</tr>\n",
       "<tr>\n",
       "  <th>Model:</th>                   <td>OLS</td>       <th>  Adj. R-squared:    </th> <td>   0.500</td>\n",
       "</tr>\n",
       "<tr>\n",
       "  <th>Method:</th>             <td>Least Squares</td>  <th>  F-statistic:       </th> <td>   55.91</td>\n",
       "</tr>\n",
       "<tr>\n",
       "  <th>Date:</th>             <td>Wed, 07 Feb 2018</td> <th>  Prob (F-statistic):</th> <td>2.15e-17</td>\n",
       "</tr>\n",
       "<tr>\n",
       "  <th>Time:</th>                 <td>19:21:39</td>     <th>  Log-Likelihood:    </th> <td> -374.28</td>\n",
       "</tr>\n",
       "<tr>\n",
       "  <th>No. Observations:</th>      <td>   111</td>      <th>  AIC:               </th> <td>   754.6</td>\n",
       "</tr>\n",
       "<tr>\n",
       "  <th>Df Residuals:</th>          <td>   108</td>      <th>  BIC:               </th> <td>   762.7</td>\n",
       "</tr>\n",
       "<tr>\n",
       "  <th>Df Model:</th>              <td>     2</td>      <th>                     </th>     <td> </td>   \n",
       "</tr>\n",
       "<tr>\n",
       "  <th>Covariance Type:</th>      <td>nonrobust</td>    <th>                     </th>     <td> </td>   \n",
       "</tr>\n",
       "</table>\n",
       "<table class=\"simpletable\">\n",
       "<tr>\n",
       "        <td></td>          <th>coef</th>     <th>std err</th>      <th>t</th>      <th>P>|t|</th> <th>[95.0% Conf. Int.]</th> \n",
       "</tr>\n",
       "<tr>\n",
       "  <th>const</th>        <td>   26.6549</td> <td>    4.185</td> <td>    6.369</td> <td> 0.000</td> <td>   18.360    34.950</td>\n",
       "</tr>\n",
       "<tr>\n",
       "  <th>Reputation</th>   <td>    0.5133</td> <td>    0.077</td> <td>    6.677</td> <td> 0.000</td> <td>    0.361     0.666</td>\n",
       "</tr>\n",
       "<tr>\n",
       "  <th>Start Number</th> <td>   10.4161</td> <td>    2.704</td> <td>    3.852</td> <td> 0.000</td> <td>    5.056    15.777</td>\n",
       "</tr>\n",
       "</table>\n",
       "<table class=\"simpletable\">\n",
       "<tr>\n",
       "  <th>Omnibus:</th>       <td> 3.837</td> <th>  Durbin-Watson:     </th> <td>   1.470</td>\n",
       "</tr>\n",
       "<tr>\n",
       "  <th>Prob(Omnibus):</th> <td> 0.147</td> <th>  Jarque-Bera (JB):  </th> <td>   3.750</td>\n",
       "</tr>\n",
       "<tr>\n",
       "  <th>Skew:</th>          <td> 0.447</td> <th>  Prob(JB):          </th> <td>   0.153</td>\n",
       "</tr>\n",
       "<tr>\n",
       "  <th>Kurtosis:</th>      <td> 2.888</td> <th>  Cond. No.          </th> <td>    383.</td>\n",
       "</tr>\n",
       "</table>"
      ],
      "text/plain": [
       "<class 'statsmodels.iolib.summary.Summary'>\n",
       "\"\"\"\n",
       "                            OLS Regression Results                            \n",
       "==============================================================================\n",
       "Dep. Variable:                      y   R-squared:                       0.509\n",
       "Model:                            OLS   Adj. R-squared:                  0.500\n",
       "Method:                 Least Squares   F-statistic:                     55.91\n",
       "Date:                Wed, 07 Feb 2018   Prob (F-statistic):           2.15e-17\n",
       "Time:                        19:21:39   Log-Likelihood:                -374.28\n",
       "No. Observations:                 111   AIC:                             754.6\n",
       "Df Residuals:                     108   BIC:                             762.7\n",
       "Df Model:                           2                                         \n",
       "Covariance Type:            nonrobust                                         \n",
       "================================================================================\n",
       "                   coef    std err          t      P>|t|      [95.0% Conf. Int.]\n",
       "--------------------------------------------------------------------------------\n",
       "const           26.6549      4.185      6.369      0.000        18.360    34.950\n",
       "Reputation       0.5133      0.077      6.677      0.000         0.361     0.666\n",
       "Start Number    10.4161      2.704      3.852      0.000         5.056    15.777\n",
       "==============================================================================\n",
       "Omnibus:                        3.837   Durbin-Watson:                   1.470\n",
       "Prob(Omnibus):                  0.147   Jarque-Bera (JB):                3.750\n",
       "Skew:                           0.447   Prob(JB):                        0.153\n",
       "Kurtosis:                       2.888   Cond. No.                         383.\n",
       "==============================================================================\n",
       "\n",
       "Warnings:\n",
       "[1] Standard Errors assume that the covariance matrix of the errors is correctly specified.\n",
       "\"\"\""
      ]
     },
     "execution_count": 56,
     "metadata": {},
     "output_type": "execute_result"
    }
   ],
   "source": [
    "sm.OLS(y_short, X).fit_regularized().summary()"
   ]
  },
  {
   "cell_type": "code",
   "execution_count": 18,
   "metadata": {
    "collapsed": false
   },
   "outputs": [],
   "source": [
    "outliers = mod_short.outlier_test()"
   ]
  },
  {
   "cell_type": "code",
   "execution_count": 19,
   "metadata": {
    "collapsed": false
   },
   "outputs": [
    {
     "data": {
      "text/html": [
       "<div>\n",
       "<table border=\"1\" class=\"dataframe\">\n",
       "  <thead>\n",
       "    <tr style=\"text-align: right;\">\n",
       "      <th></th>\n",
       "      <th>student_resid</th>\n",
       "      <th>unadj_p</th>\n",
       "      <th>bonf(p)</th>\n",
       "    </tr>\n",
       "  </thead>\n",
       "  <tbody>\n",
       "    <tr>\n",
       "      <th>56</th>\n",
       "      <td>2.984101</td>\n",
       "      <td>0.003274</td>\n",
       "      <td>0.556539</td>\n",
       "    </tr>\n",
       "    <tr>\n",
       "      <th>104</th>\n",
       "      <td>-3.722092</td>\n",
       "      <td>0.000270</td>\n",
       "      <td>0.045935</td>\n",
       "    </tr>\n",
       "    <tr>\n",
       "      <th>108</th>\n",
       "      <td>4.183008</td>\n",
       "      <td>0.000046</td>\n",
       "      <td>0.007904</td>\n",
       "    </tr>\n",
       "    <tr>\n",
       "      <th>139</th>\n",
       "      <td>3.388612</td>\n",
       "      <td>0.000877</td>\n",
       "      <td>0.149170</td>\n",
       "    </tr>\n",
       "  </tbody>\n",
       "</table>\n",
       "</div>"
      ],
      "text/plain": [
       "     student_resid   unadj_p   bonf(p)\n",
       "56        2.984101  0.003274  0.556539\n",
       "104      -3.722092  0.000270  0.045935\n",
       "108       4.183008  0.000046  0.007904\n",
       "139       3.388612  0.000877  0.149170"
      ]
     },
     "execution_count": 19,
     "metadata": {},
     "output_type": "execute_result"
    }
   ],
   "source": [
    "outliers[outliers['bonf(p)'] < 0.8]"
   ]
  },
  {
   "cell_type": "code",
   "execution_count": 60,
   "metadata": {
    "collapsed": false
   },
   "outputs": [
    {
     "data": {
      "text/plain": [
       "('Xiaoyu YU / Hao ZHANG', 72.49)"
      ]
     },
     "execution_count": 60,
     "metadata": {},
     "output_type": "execute_result"
    }
   ],
   "source": [
    "skaters_short[29], score[29]"
   ]
  },
  {
   "cell_type": "code",
   "execution_count": 22,
   "metadata": {
    "collapsed": false
   },
   "outputs": [
    {
     "data": {
      "text/plain": [
       "('Nathan CHEN', 'Daniel SAMOHIN', 'Nathan CHEN', 'Nathan CHEN')"
      ]
     },
     "execution_count": 22,
     "metadata": {},
     "output_type": "execute_result"
    }
   ],
   "source": [
    "skaters_short[56], skaters_short[104], skaters_short[108], skaters_short[139]"
   ]
  },
  {
   "cell_type": "code",
   "execution_count": 27,
   "metadata": {
    "collapsed": false
   },
   "outputs": [
    {
     "data": {
      "text/plain": [
       "(50.33, 103.12, 97.33)"
      ]
     },
     "execution_count": 27,
     "metadata": {},
     "output_type": "execute_result"
    }
   ],
   "source": [
    "score[104], score[108], score[139]"
   ]
  },
  {
   "cell_type": "code",
   "execution_count": 23,
   "metadata": {
    "collapsed": false
   },
   "outputs": [
    {
     "data": {
      "text/plain": [
       "<matplotlib.legend.Legend at 0x126ab7bd0>"
      ]
     },
     "execution_count": 23,
     "metadata": {},
     "output_type": "execute_result"
    },
    {
     "data": {
      "image/png": "[encoded data removed]",
      "text/plain": [
       "<matplotlib.figure.Figure at 0x122d7b410>"
      ]
     },
     "metadata": {},
     "output_type": "display_data"
    }
   ],
   "source": [
    "short_pred = mod_short.predict(X)\n",
    "fig, ax = plt.subplots()\n",
    "ax.plot(start, y_short, 'o', label=\"Data\")\n",
    "ax.plot(start, short_pred, 'ro', label='Predict')\n",
    "ax.legend(loc=\"best\")"
   ]
  },
  {
   "cell_type": "code",
   "execution_count": 63,
   "metadata": {
    "collapsed": false
   },
   "outputs": [
    {
     "data": {
      "text/plain": [
       "<matplotlib.legend.Legend at 0x127644b90>"
      ]
     },
     "execution_count": 63,
     "metadata": {},
     "output_type": "execute_result"
    },
    {
     "data": {
      "image/png": "[encoded data removed]",
      "text/plain": [
       "<matplotlib.figure.Figure at 0x127552a90>"
      ]
     },
     "metadata": {},
     "output_type": "display_data"
    }
   ],
   "source": [
    "fig, ax = plt.subplots()\n",
    "ax.plot(reputation, y_short, 'o', label=\"Data\")\n",
    "ax.plot(reputation, short_pred, 'ro', label=\"Predict\")\n",
    "ax.legend(loc=\"best\")"
   ]
  },
  {
   "cell_type": "code",
   "execution_count": 27,
   "metadata": {
    "collapsed": false
   },
   "outputs": [],
   "source": [
    "# Model: free_score = reputation + start_order\n",
    "X_free = pd.DataFrame({'Reputation': reputation_free, 'Start Number': start_free}).astype(float)\n",
    "X_free = sm.add_constant(X_free)\n",
    "y_free = pd.Series(score_free).astype(float)"
   ]
  },
  {
   "cell_type": "code",
   "execution_count": 28,
   "metadata": {
    "collapsed": false
   },
   "outputs": [
    {
     "name": "stdout",
     "output_type": "stream",
     "text": [
      "                            OLS Regression Results                            \n",
      "==============================================================================\n",
      "Dep. Variable:                      y   R-squared:                       0.656\n",
      "Model:                            OLS   Adj. R-squared:                  0.649\n",
      "Method:                 Least Squares   F-statistic:                     89.61\n",
      "Date:                Mon, 05 Feb 2018   Prob (F-statistic):           1.66e-22\n",
      "Time:                        14:42:04   Log-Likelihood:                -359.70\n",
      "No. Observations:                  97   AIC:                             725.4\n",
      "Df Residuals:                      94   BIC:                             733.1\n",
      "Df Model:                           2                                         \n",
      "Covariance Type:            nonrobust                                         \n",
      "================================================================================\n",
      "                   coef    std err          t      P>|t|      [95.0% Conf. Int.]\n",
      "--------------------------------------------------------------------------------\n",
      "const           57.2884      6.361      9.007      0.000        44.659    69.917\n",
      "Reputation       0.3892      0.060      6.504      0.000         0.270     0.508\n",
      "Start Number    28.9112      4.027      7.179      0.000        20.915    36.907\n",
      "==============================================================================\n",
      "Omnibus:                        0.552   Durbin-Watson:                   1.439\n",
      "Prob(Omnibus):                  0.759   Jarque-Bera (JB):                0.256\n",
      "Skew:                          -0.111   Prob(JB):                        0.880\n",
      "Kurtosis:                       3.119   Cond. No.                         752.\n",
      "==============================================================================\n",
      "\n",
      "Warnings:\n",
      "[1] Standard Errors assume that the covariance matrix of the errors is correctly specified.\n"
     ]
    }
   ],
   "source": [
    "mod_free = sm.OLS(y_free, X_free).fit()\n",
    "print mod_free.summary()"
   ]
  },
  {
   "cell_type": "code",
   "execution_count": 29,
   "metadata": {
    "collapsed": true
   },
   "outputs": [],
   "source": [
    "outliers_free = mod_free.outlier_test()"
   ]
  },
  {
   "cell_type": "code",
   "execution_count": 33,
   "metadata": {
    "collapsed": false
   },
   "outputs": [
    {
     "data": {
      "text/html": [
       "<div>\n",
       "<table border=\"1\" class=\"dataframe\">\n",
       "  <thead>\n",
       "    <tr style=\"text-align: right;\">\n",
       "      <th></th>\n",
       "      <th>student_resid</th>\n",
       "      <th>unadj_p</th>\n",
       "      <th>bonf(p)</th>\n",
       "    </tr>\n",
       "  </thead>\n",
       "  <tbody>\n",
       "    <tr>\n",
       "      <th>2</th>\n",
       "      <td>-2.930604</td>\n",
       "      <td>0.004257</td>\n",
       "      <td>0.412886</td>\n",
       "    </tr>\n",
       "  </tbody>\n",
       "</table>\n",
       "</div>"
      ],
      "text/plain": [
       "   student_resid   unadj_p   bonf(p)\n",
       "2      -2.930604  0.004257  0.412886"
      ]
     },
     "execution_count": 33,
     "metadata": {},
     "output_type": "execute_result"
    }
   ],
   "source": [
    "outliers_free[outliers_free['bonf(p)'] < 0.8]"
   ]
  },
  {
   "cell_type": "code",
   "execution_count": 34,
   "metadata": {
    "collapsed": false
   },
   "outputs": [
    {
     "data": {
      "text/plain": [
       "('Evgenia TARASOVA / Vladimir MOROZOV', '110.7')"
      ]
     },
     "execution_count": 34,
     "metadata": {},
     "output_type": "execute_result"
    }
   ],
   "source": [
    "skaters_free[2], score_free[2]"
   ]
  },
  {
   "cell_type": "code",
   "execution_count": 36,
   "metadata": {
    "collapsed": false
   },
   "outputs": [
    {
     "data": {
      "text/plain": [
       "(134.27000000000001, 72.0)"
      ]
     },
     "execution_count": 36,
     "metadata": {},
     "output_type": "execute_result"
    }
   ],
   "source": [
    "individual_bests_free['Evgenia TARASOVA / Vladimir MOROZOV'], individual_bests_short['Evgenia TARASOVA / Vladimir MOROZOV']"
   ]
  },
  {
   "cell_type": "code",
   "execution_count": 64,
   "metadata": {
    "collapsed": false
   },
   "outputs": [
    {
     "data": {
      "text/plain": [
       "<matplotlib.collections.PathCollection at 0x12776fb10>"
      ]
     },
     "execution_count": 64,
     "metadata": {},
     "output_type": "execute_result"
    },
    {
     "data": {
      "image/png": "[encoded data removed]",
      "text/plain": [
       "<matplotlib.figure.Figure at 0x1276abbd0>"
      ]
     },
     "metadata": {},
     "output_type": "display_data"
    }
   ],
   "source": [
    "plt.scatter(start_free, score_free)"
   ]
  },
  {
   "cell_type": "code",
   "execution_count": 65,
   "metadata": {
    "collapsed": false
   },
   "outputs": [
    {
     "ename": "NameError",
     "evalue": "name 'mod_free' is not defined",
     "output_type": "error",
     "traceback": [
      "\u001b[0;31m---------------------------------------------------------------------------\u001b[0m",
      "\u001b[0;31mNameError\u001b[0m                                 Traceback (most recent call last)",
      "\u001b[0;32m<ipython-input-65-8039b14b2052>\u001b[0m in \u001b[0;36m<module>\u001b[0;34m()\u001b[0m\n\u001b[0;32m----> 1\u001b[0;31m \u001b[0mfree_pred\u001b[0m \u001b[0;34m=\u001b[0m \u001b[0mmod_free\u001b[0m\u001b[0;34m.\u001b[0m\u001b[0mpredict\u001b[0m\u001b[0;34m(\u001b[0m\u001b[0mX_free\u001b[0m\u001b[0;34m)\u001b[0m\u001b[0;34m\u001b[0m\u001b[0m\n\u001b[0m\u001b[1;32m      2\u001b[0m \u001b[0mfig\u001b[0m\u001b[0;34m,\u001b[0m \u001b[0max\u001b[0m \u001b[0;34m=\u001b[0m \u001b[0mplt\u001b[0m\u001b[0;34m.\u001b[0m\u001b[0msubplots\u001b[0m\u001b[0;34m(\u001b[0m\u001b[0;34m)\u001b[0m\u001b[0;34m\u001b[0m\u001b[0m\n\u001b[1;32m      3\u001b[0m \u001b[0max\u001b[0m\u001b[0;34m.\u001b[0m\u001b[0mplot\u001b[0m\u001b[0;34m(\u001b[0m\u001b[0mstart_free\u001b[0m\u001b[0;34m,\u001b[0m \u001b[0my_free\u001b[0m\u001b[0;34m,\u001b[0m \u001b[0;34m'o'\u001b[0m\u001b[0;34m,\u001b[0m \u001b[0mlabel\u001b[0m\u001b[0;34m=\u001b[0m\u001b[0;34m\"Data\"\u001b[0m\u001b[0;34m)\u001b[0m\u001b[0;34m\u001b[0m\u001b[0m\n\u001b[1;32m      4\u001b[0m \u001b[0max\u001b[0m\u001b[0;34m.\u001b[0m\u001b[0mplot\u001b[0m\u001b[0;34m(\u001b[0m\u001b[0mstart_free\u001b[0m\u001b[0;34m,\u001b[0m \u001b[0mfree_pred\u001b[0m\u001b[0;34m,\u001b[0m \u001b[0;34m'ro'\u001b[0m\u001b[0;34m,\u001b[0m \u001b[0mlabel\u001b[0m\u001b[0;34m=\u001b[0m\u001b[0;34m'Predict'\u001b[0m\u001b[0;34m)\u001b[0m\u001b[0;34m\u001b[0m\u001b[0m\n\u001b[1;32m      5\u001b[0m \u001b[0max\u001b[0m\u001b[0;34m.\u001b[0m\u001b[0mlegend\u001b[0m\u001b[0;34m(\u001b[0m\u001b[0mloc\u001b[0m\u001b[0;34m=\u001b[0m\u001b[0;34m\"best\"\u001b[0m\u001b[0;34m)\u001b[0m\u001b[0;34m\u001b[0m\u001b[0m\n",
      "\u001b[0;31mNameError\u001b[0m: name 'mod_free' is not defined"
     ]
    }
   ],
   "source": [
    "free_pred = mod_free.predict(X_free)\n",
    "fig, ax = plt.subplots()\n",
    "ax.plot(start_free, y_free, 'o', label=\"Data\")\n",
    "ax.plot(start_free, free_pred, 'ro', label='Predict')\n",
    "ax.legend(loc=\"best\")"
   ]
  },
  {
   "cell_type": "code",
   "execution_count": 66,
   "metadata": {
    "collapsed": false
   },
   "outputs": [
    {
     "ename": "NameError",
     "evalue": "name 'y_free' is not defined",
     "output_type": "error",
     "traceback": [
      "\u001b[0;31m---------------------------------------------------------------------------\u001b[0m",
      "\u001b[0;31mNameError\u001b[0m                                 Traceback (most recent call last)",
      "\u001b[0;32m<ipython-input-66-dcb5c02dbb42>\u001b[0m in \u001b[0;36m<module>\u001b[0;34m()\u001b[0m\n\u001b[1;32m      1\u001b[0m \u001b[0mfig\u001b[0m\u001b[0;34m,\u001b[0m \u001b[0max\u001b[0m \u001b[0;34m=\u001b[0m \u001b[0mplt\u001b[0m\u001b[0;34m.\u001b[0m\u001b[0msubplots\u001b[0m\u001b[0;34m(\u001b[0m\u001b[0;34m)\u001b[0m\u001b[0;34m\u001b[0m\u001b[0m\n\u001b[0;32m----> 2\u001b[0;31m \u001b[0max\u001b[0m\u001b[0;34m.\u001b[0m\u001b[0mplot\u001b[0m\u001b[0;34m(\u001b[0m\u001b[0mreputation_free\u001b[0m\u001b[0;34m,\u001b[0m \u001b[0my_free\u001b[0m\u001b[0;34m,\u001b[0m \u001b[0;34m'o'\u001b[0m\u001b[0;34m,\u001b[0m \u001b[0mlabel\u001b[0m\u001b[0;34m=\u001b[0m\u001b[0;34m\"Data\"\u001b[0m\u001b[0;34m)\u001b[0m\u001b[0;34m\u001b[0m\u001b[0m\n\u001b[0m\u001b[1;32m      3\u001b[0m \u001b[0max\u001b[0m\u001b[0;34m.\u001b[0m\u001b[0mplot\u001b[0m\u001b[0;34m(\u001b[0m\u001b[0mreputation_free\u001b[0m\u001b[0;34m,\u001b[0m \u001b[0mfree_pred\u001b[0m\u001b[0;34m,\u001b[0m \u001b[0;34m'ro'\u001b[0m\u001b[0;34m,\u001b[0m \u001b[0mlabel\u001b[0m\u001b[0;34m=\u001b[0m\u001b[0;34m\"Predict\"\u001b[0m\u001b[0;34m)\u001b[0m\u001b[0;34m\u001b[0m\u001b[0m\n\u001b[1;32m      4\u001b[0m \u001b[0max\u001b[0m\u001b[0;34m.\u001b[0m\u001b[0mlegend\u001b[0m\u001b[0;34m(\u001b[0m\u001b[0mloc\u001b[0m\u001b[0;34m=\u001b[0m\u001b[0;34m\"best\"\u001b[0m\u001b[0;34m)\u001b[0m\u001b[0;34m\u001b[0m\u001b[0m\n",
      "\u001b[0;31mNameError\u001b[0m: name 'y_free' is not defined"
     ]
    },
    {
     "data": {
      "image/png": "[encoded data removed]",
      "text/plain": [
       "<matplotlib.figure.Figure at 0x127668bd0>"
      ]
     },
     "metadata": {},
     "output_type": "display_data"
    }
   ],
   "source": [
    "fig, ax = plt.subplots()\n",
    "ax.plot(reputation_free, y_free, 'o', label=\"Data\")\n",
    "ax.plot(reputation_free, free_pred, 'ro', label=\"Predict\")\n",
    "ax.legend(loc=\"best\")"
   ]
  },
  {
   "cell_type": "code",
   "execution_count": 67,
   "metadata": {
    "collapsed": false
   },
   "outputs": [
    {
     "data": {
      "text/plain": [
       "<matplotlib.axes._subplots.AxesSubplot at 0x12778dd10>"
      ]
     },
     "execution_count": 67,
     "metadata": {},
     "output_type": "execute_result"
    },
    {
     "data": {
      "image/png": "[encoded data removed]",
      "text/plain": [
       "<matplotlib.figure.Figure at 0x1276bded0>"
      ]
     },
     "metadata": {},
     "output_type": "display_data"
    }
   ],
   "source": [
    "y_short.hist()"
   ]
  },
  {
   "cell_type": "code",
   "execution_count": 68,
   "metadata": {
    "collapsed": false
   },
   "outputs": [
    {
     "data": {
      "image/png": "[encoded data removed]",
      "text/plain": [
       "<matplotlib.figure.Figure at 0x127a0d490>"
      ]
     },
     "execution_count": 68,
     "metadata": {},
     "output_type": "execute_result"
    },
    {
     "data": {
      "image/png": "[encoded data removed]",
      "text/plain": [
       "<matplotlib.figure.Figure at 0x127a0d490>"
      ]
     },
     "metadata": {},
     "output_type": "display_data"
    }
   ],
   "source": [
    "sm.qqplot(y_short, line='s')"
   ]
  },
  {
   "cell_type": "code",
   "execution_count": 43,
   "metadata": {
    "collapsed": false
   },
   "outputs": [
    {
     "data": {
      "text/plain": [
       "(0.087845294013395636, 0.034712813527910558)"
      ]
     },
     "execution_count": 43,
     "metadata": {},
     "output_type": "execute_result"
    }
   ],
   "source": [
    "sm.stats.diagnostic.kstest_normal(y_short)"
   ]
  },
  {
   "cell_type": "code",
   "execution_count": null,
   "metadata": {
    "collapsed": true
   },
   "outputs": [],
   "source": [
    "# LET'S TRY JUST THE LAST TWO PERFORMANCES."
   ]
  },
  {
   "cell_type": "code",
   "execution_count": 127,
   "metadata": {
    "collapsed": false
   },
   "outputs": [],
   "source": [
    "short_hist = {skater: list(history[history.Name == skater]['Short Score'][-2:])\n",
    "              for skater in history.Name.get_values()}\n",
    "free_hist = {skater: list(have_frees[have_frees.Name == skater]['Free Score'][-2:])\n",
    "             for skater in have_frees.Name.get_values()}\n",
    "for skater in short_hist:\n",
    "    while len(short_hist[skater]) < 2:\n",
    "        short_hist[skater].append(0.)\n",
    "for skater in free_hist:\n",
    "    while len(free_hist[skater]) < 2:\n",
    "        free_hist[skater].append(0.)"
   ]
  },
  {
   "cell_type": "code",
   "execution_count": 128,
   "metadata": {
    "collapsed": true
   },
   "outputs": [],
   "source": [
    "prev_short_1 = []\n",
    "prev_short_2 = []\n",
    "short_score = []\n",
    "\n",
    "prev_free_1 = []\n",
    "prev_free_2 = []\n",
    "free_score = []\n",
    "\n",
    "for idx, row in start_order17.iterrows():\n",
    "    if row.Name in short_hist:\n",
    "        prev_short_1.append(short_hist[row.Name][0])\n",
    "        prev_short_2.append(short_hist[row.Name][1])\n",
    "    else:\n",
    "        prev_short_1.append(0.)\n",
    "        prev_short_2.append(0.)\n",
    "    short_score.append(row.loc['Short Score'])\n",
    "    \n",
    "    if pd.notnull(row.loc['Free Start']):\n",
    "        if row.Name in free_hist:\n",
    "            prev_free_1.append(free_hist[row.Name][0])\n",
    "            prev_free_2.append(free_hist[row.Name][1])\n",
    "        else:\n",
    "            prev_free_1.append(0.)\n",
    "            prev_free_2.append(0.)\n",
    "        free_score.append(row.loc['Free Score'])"
   ]
  },
  {
   "cell_type": "code",
   "execution_count": 131,
   "metadata": {
    "collapsed": false
   },
   "outputs": [
    {
     "name": "stdout",
     "output_type": "stream",
     "text": [
      "                            OLS Regression Results                            \n",
      "==============================================================================\n",
      "Dep. Variable:                      y   R-squared:                       0.483\n",
      "Model:                            OLS   Adj. R-squared:                  0.469\n",
      "Method:                 Least Squares   F-statistic:                     33.34\n",
      "Date:                Mon, 05 Feb 2018   Prob (F-statistic):           2.71e-15\n",
      "Time:                        22:50:17   Log-Likelihood:                -377.10\n",
      "No. Observations:                 111   AIC:                             762.2\n",
      "Df Residuals:                     107   BIC:                             773.0\n",
      "Df Model:                           3                                         \n",
      "Covariance Type:            nonrobust                                         \n",
      "===================================================================================\n",
      "                      coef    std err          t      P>|t|      [95.0% Conf. Int.]\n",
      "-----------------------------------------------------------------------------------\n",
      "const               8.9139      6.695      1.331      0.186        -4.359    22.186\n",
      "Last Last Score    -0.0752      0.047     -1.611      0.110        -0.168     0.017\n",
      "Last Score         -0.0642      0.045     -1.413      0.161        -0.154     0.026\n",
      "Reputation          0.9988      0.136      7.344      0.000         0.729     1.268\n",
      "==============================================================================\n",
      "Omnibus:                        0.289   Durbin-Watson:                   1.274\n",
      "Prob(Omnibus):                  0.866   Jarque-Bera (JB):                0.454\n",
      "Skew:                          -0.080   Prob(JB):                        0.797\n",
      "Kurtosis:                       2.731   Cond. No.                         890.\n",
      "==============================================================================\n",
      "\n",
      "Warnings:\n",
      "[1] Standard Errors assume that the covariance matrix of the errors is correctly specified.\n"
     ]
    }
   ],
   "source": [
    "# Model: short_score = last short score + short score before that\n",
    "X_short = pd.DataFrame({'Last Score': prev_short_1, 'Last Last Score': prev_short_2, # 'Start': start,\n",
    "                        'Reputation': reputation}).astype(float)\n",
    "X_short = sm.add_constant(X_short)\n",
    "y_short = pd.Series(short_score).astype(float)\n",
    "mod_short = sm.OLS(y_short, X_short).fit()\n",
    "print mod_short.summary()"
   ]
  },
  {
   "cell_type": "code",
   "execution_count": 37,
   "metadata": {
    "collapsed": false
   },
   "outputs": [],
   "source": [
    "# Model: free_score = last free score + free score before that\n",
    "X_free = pd.DataFrame({'Last Score': prev_free_1, 'Last Last Score': prev_free_2, 'Start': start_free,\n",
    "                       'Reputation': reputation_free}).astype(float)\n",
    "X_free = sm.add_constant(X_free)\n",
    "y_free = pd.Series(free_score).astype(float)\n",
    "mod_free = sm.OLS(y_free, X_free).fit()\n",
    "print mod_free.summary()"
   ]
  },
  {
   "cell_type": "code",
   "execution_count": 26,
   "metadata": {
    "collapsed": false
   },
   "outputs": [],
   "source": [
    "# 2018 data\n",
    "men = []\n",
    "ladies = []\n",
    "pairs = []\n",
    "dance = []\n",
    "skaters18 = [men, ladies, pairs, dance]\n",
    "for event in season18.events:\n",
    "    for i, discipline in enumerate(event.disciplines):\n",
    "        df = pd.read_csv(discipline.results_csv)\n",
    "        skaters18[i].append(df)\n",
    "men = pd.concat(men)\n",
    "ladies = pd.concat(ladies)\n",
    "pairs = pd.concat(pairs)\n",
    "dance = pd.concat(dance)"
   ]
  },
  {
   "cell_type": "code",
   "execution_count": 27,
   "metadata": {
    "collapsed": false
   },
   "outputs": [],
   "source": [
    "skaters18 = {'men': men, 'ladies': ladies, 'pairs': pairs, 'dance': dance}"
   ]
  },
  {
   "cell_type": "code",
   "execution_count": 28,
   "metadata": {
    "collapsed": false
   },
   "outputs": [],
   "source": [
    "ind_best_shorts = {}\n",
    "for skater in skaters['men'].Name.get_values():\n",
    "    ind_best_shorts[skater] = np.max(skaters['men'][skaters['men'].Name == skater]['Short Score'])\n",
    "med_short = np.median(ind_best_shorts.values())"
   ]
  },
  {
   "cell_type": "code",
   "execution_count": 29,
   "metadata": {
    "collapsed": false
   },
   "outputs": [],
   "source": [
    "hist_free = skaters['men'][skaters['men']['Free Rank'] != 'DNQ']\n",
    "hist_free = hist_free[hist_free['Free Rank'] != 'WD']\n",
    "ind_best_frees = {}\n",
    "for skater in hist_free.Name.get_values():\n",
    "    ind_best_frees[skater] = np.max(map(float, hist_free[hist_free.Name == skater]['Free Score']))\n",
    "med_free = np.median(ind_best_frees.values())\n",
    "# ind_best_frees = {skaters: np.max(hist_free[hist_free.Name == skater]['Free Score'])\n",
    "#                   for skater in hist_free.Name.get_values()}"
   ]
  },
  {
   "cell_type": "code",
   "execution_count": 30,
   "metadata": {
    "collapsed": true
   },
   "outputs": [],
   "source": [
    "def get_start(row, discipline_i, segment_i, segment_rank_name):\n",
    "    if row[segment_rank_name] == 'WD' or row[segment_rank_name] == 'DNQ':\n",
    "        return None\n",
    "    start = events[row.Event].disciplines[discipline_i].segments[segment_i].scorecards[int(row[segment_rank_name])-1].starting_number\n",
    "    if start == 0:\n",
    "        return None\n",
    "    return start"
   ]
  },
  {
   "cell_type": "code",
   "execution_count": 31,
   "metadata": {
    "collapsed": true
   },
   "outputs": [],
   "source": [
    "def get_start(row, discipline_i, segment_i, segment_rank_name):\n",
    "    if row[segment_rank_name] == 'WD' or row[segment_rank_name] == 'DNQ':\n",
    "        return None\n",
    "    start = events[row.Event].disciplines[discipline_i].segments[segment_i].scorecards[int(row[segment_rank_name])-1].starting_number\n",
    "    if start == 0:\n",
    "        return None\n",
    "    return start"
   ]
  },
  {
   "cell_type": "code",
   "execution_count": 32,
   "metadata": {
    "collapsed": false
   },
   "outputs": [
    {
     "name": "stdout",
     "output_type": "stream",
     "text": [
      "0 men\n",
      "1 ladies\n",
      "2 pairs\n",
      "3 dance\n"
     ]
    }
   ],
   "source": [
    "for i, discipline in enumerate(('men', 'ladies', 'pairs', 'dance')):\n",
    "    print i, discipline\n",
    "    skaters18[discipline]['Short Start'] = skaters18[discipline].apply(lambda row: get_start(row, i, 0, 'Short Rank'), axis=1)\n",
    "    skaters18[discipline]['Free Start'] = skaters18[discipline].apply(lambda row: get_start(row, i, 1, 'Free Rank'), axis=1)\n",
    "    skaters18[discipline]['Num Short Scorecards'] = skaters18[discipline].apply(lambda row: len(events[row.Event].disciplines[i].segments[0].scorecards), axis=1)\n",
    "    skaters18[discipline]['Num Free Scorecards'] = skaters18[discipline].apply(lambda row: len(events[row.Event].disciplines[i].segments[1].scorecards), axis=1)"
   ]
  },
  {
   "cell_type": "code",
   "execution_count": 33,
   "metadata": {
    "collapsed": false
   },
   "outputs": [
    {
     "data": {
      "text/plain": [
       "(61.090000000000003, 124.88)"
      ]
     },
     "execution_count": 33,
     "metadata": {},
     "output_type": "execute_result"
    }
   ],
   "source": [
    "med_short, med_free"
   ]
  },
  {
   "cell_type": "code",
   "execution_count": 34,
   "metadata": {
    "collapsed": false
   },
   "outputs": [],
   "source": [
    "start = []        # normalized start order b/w 0 and 1, closer to 1 is later\n",
    "reputation = []   # maximum of historical total scores. if no history, then median of existing skaters'\n",
    "score = []\n",
    "\n",
    "start_free = []\n",
    "reputation_free = []\n",
    "score_free = []\n",
    "\n",
    "for idx, row in skaters18['men'].iterrows():\n",
    "    start.append(row.loc['Short Start'] / float(row.loc['Num Short Scorecards']))\n",
    "    if row.Name in ind_best_shorts:\n",
    "        reputation.append(ind_best_shorts[row.Name])\n",
    "    else:\n",
    "        reputation.append(med_short)\n",
    "    score.append(row.loc['Short Score'])\n",
    "    \n",
    "    if pd.notnull(row.loc['Free Start']):\n",
    "        start_free.append(row.loc['Free Start'] /  float(row.loc['Num Free Scorecards']))\n",
    "        if row.Name in ind_best_frees:\n",
    "            reputation_free.append(ind_best_frees[row.Name])\n",
    "        else:\n",
    "            reputation_free.append(med_free)\n",
    "        score_free.append(row.loc['Free Score'])\n",
    "\n",
    "score_free = map(float, score_free)\n",
    "score_short = map(float, score)"
   ]
  },
  {
   "cell_type": "code",
   "execution_count": 35,
   "metadata": {
    "collapsed": false
   },
   "outputs": [
    {
     "data": {
      "text/plain": [
       "(142, 142, 142)"
      ]
     },
     "execution_count": 35,
     "metadata": {},
     "output_type": "execute_result"
    }
   ],
   "source": [
    "len(start), len(reputation), len(score)"
   ]
  },
  {
   "cell_type": "code",
   "execution_count": 36,
   "metadata": {
    "collapsed": false
   },
   "outputs": [
    {
     "data": {
      "text/plain": [
       "(122, 122, 122)"
      ]
     },
     "execution_count": 36,
     "metadata": {},
     "output_type": "execute_result"
    }
   ],
   "source": [
    "len(start_free), len(reputation_free), len(score_free)"
   ]
  },
  {
   "cell_type": "code",
   "execution_count": 37,
   "metadata": {
    "collapsed": true
   },
   "outputs": [],
   "source": [
    "b0_short = 20.8236\n",
    "brep_short = 0.6155\n",
    "bstart_short = 12.3222"
   ]
  },
  {
   "cell_type": "code",
   "execution_count": 38,
   "metadata": {
    "collapsed": true
   },
   "outputs": [],
   "source": [
    "b0_free = 72.3915\n",
    "brep_free = 0.3983\n",
    "bstart_free = 35.2871"
   ]
  },
  {
   "cell_type": "code",
   "execution_count": 39,
   "metadata": {
    "collapsed": true
   },
   "outputs": [],
   "source": [
    "short_pred = map(lambda (sn, rep): b0_short + brep_short * rep + bstart_short * sn, zip(start, reputation))\n",
    "free_pred = map(lambda (sn, rep): b0_free + brep_free * rep + bstart_free * sn, zip(start_free, reputation_free))"
   ]
  },
  {
   "cell_type": "code",
   "execution_count": 41,
   "metadata": {
    "collapsed": false
   },
   "outputs": [],
   "source": [
    "with open('fits/men_reputation_start_pred.csv', 'w') as f:\n",
    "    pickle.dump((short_pred, free_pred), f)"
   ]
  },
  {
   "cell_type": "code",
   "execution_count": 51,
   "metadata": {
    "collapsed": false
   },
   "outputs": [],
   "source": [
    "shortx = list(xrange(142))\n",
    "longx = list(xrange(len(score_free)))"
   ]
  },
  {
   "cell_type": "code",
   "execution_count": 62,
   "metadata": {
    "collapsed": false
   },
   "outputs": [
    {
     "data": {
      "image/png": "[encoded data removed]",
      "text/plain": [
       "<matplotlib.figure.Figure at 0x11d5ace90>"
      ]
     },
     "metadata": {},
     "output_type": "display_data"
    }
   ],
   "source": [
    "plt.scatter(reputation, short_pred, label=\"pred\")\n",
    "plt.scatter(reputation, score, label=\"actual\")\n",
    "plt.legend()\n",
    "plt.show()"
   ]
  },
  {
   "cell_type": "code",
   "execution_count": 63,
   "metadata": {
    "collapsed": false
   },
   "outputs": [
    {
     "data": {
      "image/png": "[encoded data removed]",
      "text/plain": [
       "<matplotlib.figure.Figure at 0x11d952590>"
      ]
     },
     "metadata": {},
     "output_type": "display_data"
    }
   ],
   "source": [
    "plt.scatter(reputation_free, free_pred, label=\"pred\")\n",
    "plt.scatter(reputation_free, score_free, label=\"actual\")\n",
    "plt.legend()\n",
    "plt.show()"
   ]
  },
  {
   "cell_type": "code",
   "execution_count": 48,
   "metadata": {
    "collapsed": false
   },
   "outputs": [
    {
     "data": {
      "text/plain": [
       "5516.065092830795"
      ]
     },
     "execution_count": 48,
     "metadata": {},
     "output_type": "execute_result"
    }
   ],
   "source": [
    "sum(map(lambda (x,y): (x-y) * (x-y), zip(score, short_pred)))"
   ]
  },
  {
   "cell_type": "code",
   "execution_count": 49,
   "metadata": {
    "collapsed": false
   },
   "outputs": [
    {
     "ename": "TypeError",
     "evalue": "ufunc 'subtract' did not contain a loop with signature matching types dtype('S32') dtype('S32') dtype('S32')",
     "output_type": "error",
     "traceback": [
      "\u001b[0;31m---------------------------------------------------------------------------\u001b[0m",
      "\u001b[0;31mTypeError\u001b[0m                                 Traceback (most recent call last)",
      "\u001b[0;32m<ipython-input-49-7f5ed458689c>\u001b[0m in \u001b[0;36m<module>\u001b[0;34m()\u001b[0m\n\u001b[0;32m----> 1\u001b[0;31m \u001b[0msum\u001b[0m\u001b[0;34m(\u001b[0m\u001b[0mmap\u001b[0m\u001b[0;34m(\u001b[0m\u001b[0;32mlambda\u001b[0m \u001b[0;34m(\u001b[0m\u001b[0mx\u001b[0m\u001b[0;34m,\u001b[0m\u001b[0my\u001b[0m\u001b[0;34m)\u001b[0m\u001b[0;34m:\u001b[0m \u001b[0;34m(\u001b[0m\u001b[0mx\u001b[0m\u001b[0;34m-\u001b[0m\u001b[0my\u001b[0m\u001b[0;34m)\u001b[0m \u001b[0;34m*\u001b[0m \u001b[0;34m(\u001b[0m\u001b[0mx\u001b[0m\u001b[0;34m-\u001b[0m\u001b[0my\u001b[0m\u001b[0;34m)\u001b[0m\u001b[0;34m,\u001b[0m \u001b[0mzip\u001b[0m\u001b[0;34m(\u001b[0m\u001b[0mscore_free\u001b[0m\u001b[0;34m,\u001b[0m \u001b[0mfree_pred\u001b[0m\u001b[0;34m)\u001b[0m\u001b[0;34m)\u001b[0m\u001b[0;34m)\u001b[0m\u001b[0;34m\u001b[0m\u001b[0m\n\u001b[0m",
      "\u001b[0;32m<ipython-input-49-7f5ed458689c>\u001b[0m in \u001b[0;36m<lambda>\u001b[0;34m((x, y))\u001b[0m\n\u001b[0;32m----> 1\u001b[0;31m \u001b[0msum\u001b[0m\u001b[0;34m(\u001b[0m\u001b[0mmap\u001b[0m\u001b[0;34m(\u001b[0m\u001b[0;32mlambda\u001b[0m \u001b[0;34m(\u001b[0m\u001b[0mx\u001b[0m\u001b[0;34m,\u001b[0m\u001b[0my\u001b[0m\u001b[0;34m)\u001b[0m\u001b[0;34m:\u001b[0m \u001b[0;34m(\u001b[0m\u001b[0mx\u001b[0m\u001b[0;34m-\u001b[0m\u001b[0my\u001b[0m\u001b[0;34m)\u001b[0m \u001b[0;34m*\u001b[0m \u001b[0;34m(\u001b[0m\u001b[0mx\u001b[0m\u001b[0;34m-\u001b[0m\u001b[0my\u001b[0m\u001b[0;34m)\u001b[0m\u001b[0;34m,\u001b[0m \u001b[0mzip\u001b[0m\u001b[0;34m(\u001b[0m\u001b[0mscore_free\u001b[0m\u001b[0;34m,\u001b[0m \u001b[0mfree_pred\u001b[0m\u001b[0;34m)\u001b[0m\u001b[0;34m)\u001b[0m\u001b[0;34m)\u001b[0m\u001b[0;34m\u001b[0m\u001b[0m\n\u001b[0m",
      "\u001b[0;31mTypeError\u001b[0m: ufunc 'subtract' did not contain a loop with signature matching types dtype('S32') dtype('S32') dtype('S32')"
     ]
    }
   ],
   "source": [
    "sum(map(lambda (x,y): (x-y) * (x-y), zip(score_free, free_pred)))"
   ]
  },
  {
   "cell_type": "code",
   "execution_count": 13,
   "metadata": {
    "collapsed": false
   },
   "outputs": [
    {
     "data": {
      "text/plain": [
       "(26.68, 22.170000000000002)"
      ]
     },
     "execution_count": 13,
     "metadata": {},
     "output_type": "execute_result"
    }
   ],
   "source": [
    "# MED TES AND MAX PCS AS SEPARATE VARIABLES\n",
    "hist_tes_short = {skater: np.median(map(float, history[history.Name == skater]['Short TES']))\n",
    "                  for skater in history.Name.get_values()}\n",
    "hist_pcs_short = {skater: np.median(map(float, history[history.Name == skater]['Short PCS']))\n",
    "                  for skater in history.Name.get_values()}\n",
    "med_tes_short = np.median(hist_tes_short.values())\n",
    "med_pcs_short = np.median(hist_pcs_short.values())\n",
    "med_tes_short, med_pcs_short"
   ]
  },
  {
   "cell_type": "code",
   "execution_count": 14,
   "metadata": {
    "collapsed": false
   },
   "outputs": [
    {
     "data": {
      "text/plain": [
       "(47.259999999999998, 45.200000000000003)"
      ]
     },
     "execution_count": 14,
     "metadata": {},
     "output_type": "execute_result"
    }
   ],
   "source": [
    "have_frees = history[history['Free Rank'] != 'DNQ']\n",
    "have_frees = have_frees[have_frees['Free Rank'] != 'WD']\n",
    "hist_tes_free = {skater: np.median(map(float, have_frees[have_frees.Name == skater]['Free TES']))\n",
    "                 for skater in have_frees.Name.get_values()}\n",
    "hist_pcs_free = {skater: np.median(map(float, have_frees[have_frees.Name == skater]['Free PCS']))\n",
    "                 for skater in have_frees.Name.get_values()}\n",
    "med_tes_free = np.median(hist_tes_free.values())\n",
    "med_pcs_free = np.median(hist_pcs_free.values())\n",
    "med_tes_free, med_pcs_free"
   ]
  },
  {
   "cell_type": "code",
   "execution_count": 15,
   "metadata": {
    "collapsed": true
   },
   "outputs": [],
   "source": [
    "start_short = []  # normalized start order b/w 0 and 1, closer to 1 is later\n",
    "tes_short = []    # average short TES in history \n",
    "pcs_short = []    # max short PCS in history\n",
    "score_short = []\n",
    "skaters_short = []\n",
    "\n",
    "start_free = []\n",
    "tes_free = []\n",
    "pcs_free = []\n",
    "score_free = []\n",
    "skaters_free = []\n",
    "\n",
    "for idx, row in start_order17.iterrows():\n",
    "    start_short.append(row.loc['Short Start'] / float(row.loc['Num Short Scorecards']))\n",
    "    if row.Name in hist_tes_short:\n",
    "        tes_short.append(hist_tes_short[row.Name])\n",
    "        pcs_short.append(hist_pcs_short[row.Name])\n",
    "    else:\n",
    "        tes_short.append(med_tes_short)\n",
    "        pcs_short.append(med_pcs_short)\n",
    "    score_short.append(row.loc['Short Score'])\n",
    "    skaters_short.append(row.loc['Name'])\n",
    "    \n",
    "    if pd.notnull(row.loc['Free Start']):\n",
    "        start_free.append(row.loc['Free Start'] /  float(row.loc['Num Free Scorecards']))\n",
    "        if row.Name in hist_tes_free:\n",
    "            tes_free.append(hist_tes_free[row.Name])\n",
    "            pcs_free.append(hist_pcs_free[row.Name])\n",
    "        else:\n",
    "            tes_free.append(med_tes_free)\n",
    "            pcs_free.append(med_pcs_free)\n",
    "        score_free.append(row.loc['Free Score'])\n",
    "        skaters_free.append(row.loc['Name'])"
   ]
  },
  {
   "cell_type": "code",
   "execution_count": 16,
   "metadata": {
    "collapsed": false
   },
   "outputs": [
    {
     "data": {
      "text/plain": [
       "(97, 97, 97, 97)"
      ]
     },
     "execution_count": 16,
     "metadata": {},
     "output_type": "execute_result"
    }
   ],
   "source": [
    "len(start_free), len(tes_free), len(pcs_free), len(score_free)"
   ]
  },
  {
   "cell_type": "code",
   "execution_count": 17,
   "metadata": {
    "collapsed": false
   },
   "outputs": [
    {
     "name": "stdout",
     "output_type": "stream",
     "text": [
      "                            OLS Regression Results                            \n",
      "==============================================================================\n",
      "Dep. Variable:                      y   R-squared:                       0.522\n",
      "Model:                            OLS   Adj. R-squared:                  0.508\n",
      "Method:                 Least Squares   F-statistic:                     38.91\n",
      "Date:                Wed, 07 Feb 2018   Prob (F-statistic):           4.39e-17\n",
      "Time:                        19:02:16   Log-Likelihood:                -372.78\n",
      "No. Observations:                 111   AIC:                             753.6\n",
      "Df Residuals:                     107   BIC:                             764.4\n",
      "Df Model:                           3                                         \n",
      "Covariance Type:            nonrobust                                         \n",
      "================================================================================\n",
      "                   coef    std err          t      P>|t|      [95.0% Conf. Int.]\n",
      "--------------------------------------------------------------------------------\n",
      "const           26.7677      4.889      5.475      0.000        17.076    36.459\n",
      "Avg TES         -0.6253      0.534     -1.170      0.244        -1.684     0.434\n",
      "Max PCS          1.9460      0.591      3.293      0.001         0.775     3.117\n",
      "Start Number     9.7409      2.717      3.585      0.001         4.354    15.128\n",
      "==============================================================================\n",
      "Omnibus:                        2.493   Durbin-Watson:                   1.504\n",
      "Prob(Omnibus):                  0.288   Jarque-Bera (JB):                2.338\n",
      "Skew:                           0.354   Prob(JB):                        0.311\n",
      "Kurtosis:                       2.931   Cond. No.                         297.\n",
      "==============================================================================\n",
      "\n",
      "Warnings:\n",
      "[1] Standard Errors assume that the covariance matrix of the errors is correctly specified.\n"
     ]
    }
   ],
   "source": [
    "# Model: short_score = historical avg TES + historical max PCS + start_order\n",
    "# X_short = pd.DataFrame({'Reputation': map(lambda (tes, pcs): tes + pcs, zip(tes_short, pcs_short)),\n",
    "#                         'Start Number': start_short}).astype(float)\n",
    "X_short = pd.DataFrame({'Avg TES': tes_short, 'Max PCS': pcs_short, 'Start Number': start_short}).astype(float)\n",
    "X_short = sm.add_constant(X_short)\n",
    "y_short = pd.Series(score_short).astype(float)\n",
    "mod_short = sm.OLS(y_short, X_short).fit()\n",
    "print mod_short.summary()"
   ]
  },
  {
   "cell_type": "code",
   "execution_count": 109,
   "metadata": {
    "collapsed": false
   },
   "outputs": [
    {
     "name": "stdout",
     "output_type": "stream",
     "text": [
      "                            OLS Regression Results                            \n",
      "==============================================================================\n",
      "Dep. Variable:                      y   R-squared:                       0.647\n",
      "Model:                            OLS   Adj. R-squared:                  0.639\n",
      "Method:                 Least Squares   F-statistic:                     86.12\n",
      "Date:                Mon, 05 Feb 2018   Prob (F-statistic):           5.61e-22\n",
      "Time:                        20:17:02   Log-Likelihood:                -360.95\n",
      "No. Observations:                  97   AIC:                             727.9\n",
      "Df Residuals:                      94   BIC:                             735.6\n",
      "Df Model:                           2                                         \n",
      "Covariance Type:            nonrobust                                         \n",
      "================================================================================\n",
      "                   coef    std err          t      P>|t|      [95.0% Conf. Int.]\n",
      "--------------------------------------------------------------------------------\n",
      "const           47.5096      8.111      5.857      0.000        31.405    63.615\n",
      "Reputation       0.5049      0.081      6.231      0.000         0.344     0.666\n",
      "Start Number    29.3440      4.075      7.202      0.000        21.254    37.434\n",
      "==============================================================================\n",
      "Omnibus:                        1.474   Durbin-Watson:                   1.401\n",
      "Prob(Omnibus):                  0.479   Jarque-Bera (JB):                0.961\n",
      "Skew:                          -0.205   Prob(JB):                        0.619\n",
      "Kurtosis:                       3.265   Cond. No.                         877.\n",
      "==============================================================================\n",
      "\n",
      "Warnings:\n",
      "[1] Standard Errors assume that the covariance matrix of the errors is correctly specified.\n"
     ]
    }
   ],
   "source": [
    "# Model: short_score = historical avg TES + historical max PCS + start_order\n",
    "X_free = pd.DataFrame({'Reputation': map(lambda (tes, pcs): tes + pcs, zip(tes_free, pcs_free)),\n",
    "                        'Start Number': start_free}).astype(float)\n",
    "# X_free = pd.DataFrame({'Avg TES': tes_free, 'Max PCS': pcs_free, 'Start Number': start_free}).astype(float)\n",
    "X_free = sm.add_constant(X_free)\n",
    "y_free = pd.Series(score_free).astype(float)\n",
    "mod_free = sm.OLS(y_free, X_free).fit()\n",
    "print mod_free.summary()"
   ]
  },
  {
   "cell_type": "code",
   "execution_count": 94,
   "metadata": {
    "collapsed": false
   },
   "outputs": [
    {
     "data": {
      "text/html": [
       "<div>\n",
       "<table border=\"1\" class=\"dataframe\">\n",
       "  <thead>\n",
       "    <tr style=\"text-align: right;\">\n",
       "      <th></th>\n",
       "      <th>student_resid</th>\n",
       "      <th>unadj_p</th>\n",
       "      <th>bonf(p)</th>\n",
       "    </tr>\n",
       "  </thead>\n",
       "  <tbody>\n",
       "  </tbody>\n",
       "</table>\n",
       "</div>"
      ],
      "text/plain": [
       "Empty DataFrame\n",
       "Columns: [student_resid, unadj_p, bonf(p)]\n",
       "Index: []"
      ]
     },
     "execution_count": 94,
     "metadata": {},
     "output_type": "execute_result"
    }
   ],
   "source": [
    "out_short = mod_short.outlier_test()\n",
    "out_short[out_short['bonf(p)'] < 0.5]"
   ]
  },
  {
   "cell_type": "code",
   "execution_count": 96,
   "metadata": {
    "collapsed": false
   },
   "outputs": [
    {
     "data": {
      "text/html": [
       "<div>\n",
       "<table border=\"1\" class=\"dataframe\">\n",
       "  <thead>\n",
       "    <tr style=\"text-align: right;\">\n",
       "      <th></th>\n",
       "      <th>student_resid</th>\n",
       "      <th>unadj_p</th>\n",
       "      <th>bonf(p)</th>\n",
       "    </tr>\n",
       "  </thead>\n",
       "  <tbody>\n",
       "    <tr>\n",
       "      <th>2</th>\n",
       "      <td>-3.206057</td>\n",
       "      <td>0.001851</td>\n",
       "      <td>0.179546</td>\n",
       "    </tr>\n",
       "  </tbody>\n",
       "</table>\n",
       "</div>"
      ],
      "text/plain": [
       "   student_resid   unadj_p   bonf(p)\n",
       "2      -3.206057  0.001851  0.179546"
      ]
     },
     "execution_count": 96,
     "metadata": {},
     "output_type": "execute_result"
    }
   ],
   "source": [
    "out_free = mod_free.outlier_test()\n",
    "out_free[out_free['bonf(p)'] < 0.8]"
   ]
  },
  {
   "cell_type": "code",
   "execution_count": 97,
   "metadata": {
    "collapsed": false
   },
   "outputs": [
    {
     "data": {
      "text/plain": [
       "'Evgenia TARASOVA / Vladimir MOROZOV'"
      ]
     },
     "execution_count": 97,
     "metadata": {},
     "output_type": "execute_result"
    }
   ],
   "source": [
    "skaters_free[2]"
   ]
  },
  {
   "cell_type": "code",
   "execution_count": 98,
   "metadata": {
    "collapsed": false
   },
   "outputs": [
    {
     "data": {
      "image/png": "[encoded data removed]",
      "text/plain": [
       "<matplotlib.figure.Figure at 0x121964590>"
      ]
     },
     "execution_count": 98,
     "metadata": {},
     "output_type": "execute_result"
    }
   ],
   "source": [
    "sm.qqplot(mod_short.resid, line='s')  # Residuals are fairly normal."
   ]
  },
  {
   "cell_type": "code",
   "execution_count": 99,
   "metadata": {
    "collapsed": false
   },
   "outputs": [
    {
     "data": {
      "image/png": "[encoded data removed]",
      "text/plain": [
       "<matplotlib.figure.Figure at 0x121d4ff50>"
      ]
     },
     "execution_count": 99,
     "metadata": {},
     "output_type": "execute_result"
    }
   ],
   "source": [
    "sm.qqplot(mod_free.resid, line='s')"
   ]
  },
  {
   "cell_type": "code",
   "execution_count": 100,
   "metadata": {
    "collapsed": false
   },
   "outputs": [
    {
     "data": {
      "text/plain": [
       "(0.067784701993240271, 0.22104820555555219)"
      ]
     },
     "execution_count": 100,
     "metadata": {},
     "output_type": "execute_result"
    }
   ],
   "source": [
    "sm.stats.diagnostic.kstest_normal(mod_short.resid)"
   ]
  },
  {
   "cell_type": "code",
   "execution_count": 101,
   "metadata": {
    "collapsed": false
   },
   "outputs": [
    {
     "data": {
      "text/plain": [
       "(0.065134222324900404, 0.35873570149551709)"
      ]
     },
     "execution_count": 101,
     "metadata": {},
     "output_type": "execute_result"
    }
   ],
   "source": [
    "sm.stats.diagnostic.kstest_normal(mod_free.resid)"
   ]
  },
  {
   "cell_type": "code",
   "execution_count": 104,
   "metadata": {
    "collapsed": false
   },
   "outputs": [
    {
     "data": {
      "image/png": "[encoded data removed]",
      "text/plain": [
       "<matplotlib.figure.Figure at 0x1218cabd0>"
      ]
     },
     "metadata": {},
     "output_type": "display_data"
    }
   ],
   "source": [
    "mod_short.resid.hist()\n",
    "plt.show()"
   ]
  },
  {
   "cell_type": "code",
   "execution_count": 105,
   "metadata": {
    "collapsed": false
   },
   "outputs": [
    {
     "data": {
      "image/png": "[encoded data removed]",
      "text/plain": [
       "<matplotlib.figure.Figure at 0x11dd7a710>"
      ]
     },
     "metadata": {},
     "output_type": "display_data"
    }
   ],
   "source": [
    "mod_free.resid.hist()\n",
    "plt.show()"
   ]
  },
  {
   "cell_type": "code",
   "execution_count": 134,
   "metadata": {
    "collapsed": false
   },
   "outputs": [],
   "source": [
    "skaters['pairs'] = skaters['pairs'].drop(['Unnamed: 0', 'Unnamed: 0.1'], axis=1)"
   ]
  },
  {
   "cell_type": "code",
   "execution_count": 18,
   "metadata": {
    "collapsed": false
   },
   "outputs": [],
   "source": [
    "pair_totals = skaters['pairs'][['Date', 'Event', 'Name', 'Nation', 'Points', 'Rank', 'Short Rank', 'Short Score', 'Free Rank', 'Free Score']]"
   ]
  },
  {
   "cell_type": "code",
   "execution_count": 19,
   "metadata": {
    "collapsed": false
   },
   "outputs": [
    {
     "data": {
      "text/html": [
       "<div>\n",
       "<table border=\"1\" class=\"dataframe\">\n",
       "  <thead>\n",
       "    <tr style=\"text-align: right;\">\n",
       "      <th></th>\n",
       "      <th>Date</th>\n",
       "      <th>Event</th>\n",
       "      <th>Name</th>\n",
       "      <th>Nation</th>\n",
       "      <th>Points</th>\n",
       "      <th>Rank</th>\n",
       "      <th>Short Rank</th>\n",
       "      <th>Short Score</th>\n",
       "      <th>Free Rank</th>\n",
       "      <th>Free Score</th>\n",
       "    </tr>\n",
       "  </thead>\n",
       "  <tbody>\n",
       "    <tr>\n",
       "      <th>0</th>\n",
       "      <td>2005-10-23</td>\n",
       "      <td>gpusa05</td>\n",
       "      <td>Dan ZHANG / Hao ZHANG</td>\n",
       "      <td>CHN</td>\n",
       "      <td>179.14</td>\n",
       "      <td>1</td>\n",
       "      <td>1</td>\n",
       "      <td>59.90</td>\n",
       "      <td>1</td>\n",
       "      <td>119.24</td>\n",
       "    </tr>\n",
       "    <tr>\n",
       "      <th>1</th>\n",
       "      <td>2005-10-23</td>\n",
       "      <td>gpusa05</td>\n",
       "      <td>Rena INOUE / John BALDWIN</td>\n",
       "      <td>USA</td>\n",
       "      <td>164.44</td>\n",
       "      <td>2</td>\n",
       "      <td>3</td>\n",
       "      <td>54.84</td>\n",
       "      <td>2</td>\n",
       "      <td>109.6</td>\n",
       "    </tr>\n",
       "    <tr>\n",
       "      <th>2</th>\n",
       "      <td>2005-10-23</td>\n",
       "      <td>gpusa05</td>\n",
       "      <td>Julia OBERTAS / Sergei SLAVNOV</td>\n",
       "      <td>RUS</td>\n",
       "      <td>160.40</td>\n",
       "      <td>3</td>\n",
       "      <td>4</td>\n",
       "      <td>54.04</td>\n",
       "      <td>4</td>\n",
       "      <td>106.36</td>\n",
       "    </tr>\n",
       "  </tbody>\n",
       "</table>\n",
       "</div>"
      ],
      "text/plain": [
       "         Date    Event                            Name Nation  Points Rank  \\\n",
       "0  2005-10-23  gpusa05           Dan ZHANG / Hao ZHANG    CHN  179.14    1   \n",
       "1  2005-10-23  gpusa05       Rena INOUE / John BALDWIN    USA  164.44    2   \n",
       "2  2005-10-23  gpusa05  Julia OBERTAS / Sergei SLAVNOV    RUS  160.40    3   \n",
       "\n",
       "   Short Rank  Short Score Free Rank Free Score  \n",
       "0           1        59.90         1     119.24  \n",
       "1           3        54.84         2      109.6  \n",
       "2           4        54.04         4     106.36  "
      ]
     },
     "execution_count": 19,
     "metadata": {},
     "output_type": "execute_result"
    }
   ],
   "source": [
    "pair_totals[:3]"
   ]
  },
  {
   "cell_type": "code",
   "execution_count": 20,
   "metadata": {
    "collapsed": false
   },
   "outputs": [],
   "source": [
    "event_results = []\n",
    "for event in season18.events:\n",
    "    discipline = event.disciplines[2]\n",
    "    event_results.append(pd.read_csv(discipline.results_csv))"
   ]
  },
  {
   "cell_type": "code",
   "execution_count": 21,
   "metadata": {
    "collapsed": false
   },
   "outputs": [],
   "source": [
    "all_hist = pd.concat([pair_totals] + event_results)"
   ]
  },
  {
   "cell_type": "code",
   "execution_count": 22,
   "metadata": {
    "collapsed": false
   },
   "outputs": [],
   "source": [
    "with open('pd_data/name_fixes_pairs.json') as f:\n",
    "    pair_name_fixes = f.read()\n",
    "pair_name_fixes = json.loads(pair_name_fixes)"
   ]
  },
  {
   "cell_type": "code",
   "execution_count": 25,
   "metadata": {
    "collapsed": false
   },
   "outputs": [
    {
     "name": "stderr",
     "output_type": "stream",
     "text": [
      "/anaconda/lib/python2.7/site-packages/pandas/core/ops.py:739: UnicodeWarning: Unicode equal comparison failed to convert both arguments to Unicode - interpreting them as being unequal\n",
      "  result = lib.scalar_compare(x, y, op)\n"
     ]
    }
   ],
   "source": [
    "for wrong, right in pair_name_fixes.iteritems():\n",
    "    all_hist.loc[all_hist.Name == wrong, 'Name'] = right"
   ]
  },
  {
   "cell_type": "code",
   "execution_count": 29,
   "metadata": {
    "collapsed": false
   },
   "outputs": [
    {
     "data": {
      "text/plain": [
       "['Adel TANKOVA / Evgeni KRASNOPOLSKI',\n",
       " 'Adeline CANAC / Maximin COIA',\n",
       " 'Adeline CANAC / Yannick BONHEUR',\n",
       " 'Alessandra CERNUSCHI / Filippo AMBROSINI',\n",
       " 'Alexa SCIMECA KNIERIM / Chris KNIERIM',\n",
       " 'Alexandra HERBRIKOVA / Nicolas ROULET',\n",
       " 'Alexandra HERBRIKOVA / Rudy HALMAERT',\n",
       " 'Alexandra MALAKHOVA / Leri KENCHADZE',\n",
       " 'Alina DIKHTIAR / Filip ZALEVSKI',\n",
       " 'Aliona SAVCHENKO / Robin SZOLKOWY',\n",
       " 'Alisa EFIMOVA / Alexander KOROVIN',\n",
       " u'Aljona SAVCHENKO / Bruno MASSOT',\n",
       " 'Amanda EVORA / Mark LADWIG',\n",
       " 'Amanda SUNYOTO-YANG / Darryll SULNDRO-YANG',\n",
       " 'Amanda VELENOSI / Mark FERNANDEZ',\n",
       " 'Amani FANCY / Christopher BOYADJI',\n",
       " 'Amy IRELAND / Michael BAHORIC',\n",
       " 'Anabelle LANGLOIS / Cody HAY',\n",
       " 'Anais MORAND / Antoine DORSAZ',\n",
       " 'Anais MORAND / Timothy LEEMANN',\n",
       " 'Anastasia MARTIUSHEVA / Alexei ROGONOV',\n",
       " 'Andrea DAVIDOVICH / Evgeni KRASNOPOLSKI',\n",
       " 'Angelika PYLKINA / Niklas HOGNER',\n",
       " 'Anna DUSKOVA / Martin BIDAR',\n",
       " 'Anna KHNYCHENKOVA / Mark MAGYAR',\n",
       " 'Anna Marie PEARCE / Mark MAGYAR',\n",
       " 'Annabelle PR\\xc3\\x96LSS / Ruben BLOMMAERT',\n",
       " 'Annika HOCKE / Ruben BLOMMAERT',\n",
       " 'Ariel Fay GAGNON / Chad TSAGRIS',\n",
       " 'Arina CHERNIAVSKAIA / Antonino SOUZA-KORDYERU',\n",
       " 'Arina CHERNIAVSKAIA / Evgeni KRASNOPOLSKI',\n",
       " 'Arina USHAKOVA / Sergei KAREV',\n",
       " 'Ashley CAIN / Joshua REAGAN',\n",
       " 'Ashley CAIN / Timothy LEDUC',\n",
       " 'Bianca MANACORDA / Niccolo MACII',\n",
       " 'Britney SIMPSON / Nathan MILLER',\n",
       " 'Brittany JONES / Joshua REAGAN',\n",
       " 'Brittany JONES / Kurtis GASKELL',\n",
       " 'Brittany VISE / Nicholas KOLE',\n",
       " 'Brooke CASTILE / Benjamin OKOLSKI',\n",
       " 'Caitlin YANKOWSKAS / Hamish GAMAN',\n",
       " 'Caitlin YANKOWSKAS / John COUGHLIN',\n",
       " 'Camille RUEST / Andrew WOLFE',\n",
       " 'Carolina GILLESPIE / Luca DEMATTE',\n",
       " 'Caydee DENNEY / Jeremy BARRETT',\n",
       " 'Caydee DENNEY / John COUGHLIN',\n",
       " 'Chelsi GUILLEN / Danny CURZON',\n",
       " 'Cheng PENG / Hao ZHANG',\n",
       " 'Cheng PENG / Yang JIN',\n",
       " 'Dan ZHANG / Hao ZHANG',\n",
       " 'Danielle MONTALBANO / Evgeni KRASNOPOLSKI',\n",
       " 'Daria BEKLEMISHEVA / Mark MAGYAR',\n",
       " 'Daria POPOVA / Bruno MASSOT',\n",
       " 'Deanna STELLATO / Nathan BARTHOLOMAY',\n",
       " 'Dee Dee LENG / Simon SHNAPIR',\n",
       " 'Diana RENNIK / Aleksei SAKS',\n",
       " 'Dominika PIATKOWSKA / Dmitri KHROMIN',\n",
       " 'Dorota SIUDEK / Mariusz SIUDEK',\n",
       " 'Ekaterina ALEXANDROVSKAYA / Harley WINDSOR',\n",
       " 'Ekaterina KOSTENKO / Roman TALAN',\n",
       " 'Ekaterina SOKOLOVA / Fedor SOKOLOV',\n",
       " 'Elena EFAIEVA / Alexei MENSHIKOV',\n",
       " 'Elizabeta MAKAROVA / Leri KENCHADZE',\n",
       " 'Elizabeth PUTNAM / Sean WIRTZ',\n",
       " 'Emilia SIMONEN / Matthew PENASSE',\n",
       " 'Emilie DEMERS BOUTIN / Pierre-Philippe JONCAS',\n",
       " 'Emma BRIEN / Stuart BECKINGHAM',\n",
       " 'Erica RISSEEUW / Robert PAXTON',\n",
       " 'Eva-Maria FITZE / Rico REX',\n",
       " 'Evgenia TARASOVA / Vladimir MOROZOV',\n",
       " 'Felicia ZHANG / Nathan BARTHOLOMAY',\n",
       " 'Felicia ZHANG / Taylor TOTH',\n",
       " 'Gabriela CERMANOVA / Martin HANULAK',\n",
       " 'Goda BUTKUTE / Nikita ERMOLAEV',\n",
       " 'Gretchen DONLAN / Andrew SPEROFF',\n",
       " 'Haven DENNEY / Brandon FRAZIER',\n",
       " 'Hayleigh BELL / Rudi SWIEGERS',\n",
       " 'Hayley Anne SACKS / Vadim AKOLZIN',\n",
       " 'Huibo DONG / Yiming WU',\n",
       " 'Ioulia CHTCHETININA / Mikhail AKULOV',\n",
       " 'Ioulia CHTCHETININA / Noah SCHERER',\n",
       " 'Jessica CALALANG / Zack SIDHU',\n",
       " 'Jessica CRENSHAW / Chad TSAGRIS',\n",
       " 'Jessica DUBE / Bryce DAVISON',\n",
       " 'Jessica DUBE / Sebastien WOLFE',\n",
       " 'Jessica MILLER / Ian MORAM',\n",
       " 'Jessica PFUND / Joshua SANTILLAN',\n",
       " 'Ji Hyang RI / Won Hyok THAE',\n",
       " 'Jiaqi LI / Jiankun XU',\n",
       " 'Joanna SULEJ / Mateusz CHRUSCINSKI',\n",
       " 'Julia ANTIPOVA / Nodari MAISURADZE',\n",
       " 'Julia BELOGLAZOVA / Andrei BEKH',\n",
       " 'Julia LAVRENTIEVA / Yuri RUDYK',\n",
       " 'Julia OBERTAS / Sergei SLAVNOV',\n",
       " 'Julia VLASSOV / Drew MEEKINS',\n",
       " 'Julianne SEGUIN / Charlie BILODEAU',\n",
       " 'Kaleigh HOLE / Adam JOHNSON',\n",
       " 'Katarina GERBOLDT / Alexander ENBERT',\n",
       " 'Katharina GIEROK / Florian JUST',\n",
       " 'Katie ORSCHER / Garrett LUCASH',\n",
       " 'Keauna MCLAUGHLIN / Rockne BRUBAKER',\n",
       " 'Kendra MOYLE / Andy SEITZ',\n",
       " 'Kirsten MOORE-TOWERS / Dylan MOSCOVITCH',\n",
       " 'Kirsten MOORE-TOWERS / Michael MARINARO',\n",
       " 'Klara KADLECOVA / Petr BIDAR',\n",
       " 'Kristina ASTAKHOVA / Alexei ROGONOV',\n",
       " 'Krystyna KLIMCZAK / Janusz KARWETA',\n",
       " 'Ksenia KRASILNIKOVA / Konstantin BEZMATERNIKH',\n",
       " 'Ksenia OZEROVA / Alexander ENBERT',\n",
       " 'Ksenia STOLBOVA / Fedor KLIMOV',\n",
       " 'Kyueun KIM / Alex Kang Chan KAM',\n",
       " 'Lana PETRANOVIC / Antonio SOUZA-KORDEIRU',\n",
       " 'Lana PETRANOVIC / Antonio SOUZA-KORDERU',\n",
       " 'Laura BARQUERO / Aritz MAESTU',\n",
       " 'Laura MAGITTERI / Ondrej HOTAREK',\n",
       " 'Lindsay DAVIS / Mark LADWIG',\n",
       " 'Lindsay DAVIS / Rockne BRUBAKER',\n",
       " 'Liubov ILYUSHECHKINA / Dylan MOSCOVITCH',\n",
       " 'Lola ESBRAT / Andrei NOVOSELOV',\n",
       " 'Lubov BAKIROVA / Mikalai KAMIANCHUK',\n",
       " 'Lubov ILIUSHECHKINA / Nodari MAISURADZE',\n",
       " 'Madeline AARON / Max SETTLAGE',\n",
       " 'Magdalena KLATKA / Radoslaw CHRUSCINSKI',\n",
       " 'Marcelina LECH / Aritz MAESTU',\n",
       " 'Marcy HINZMANN / Aaron PARCHEM',\n",
       " 'Margaret PURDY / Michael MARINARO',\n",
       " 'Mari VARTMANN / Aaron VAN CLEAVE',\n",
       " 'Mari VARTMANN / Florian JUST',\n",
       " 'Mari VARTMANN / Ruben BLOMMAERT',\n",
       " 'Maria MUKHORTOVA / Maxim TRANKOV',\n",
       " 'Maria PALIAKOVA / Mikhail FOMICHEV',\n",
       " 'Maria PALIAKOVA / Nikita BOCHKOV',\n",
       " 'Maria PETROVA / Alexei TIKHONOV',\n",
       " 'Maria SERGEJEVA / Ilja GLEBOV',\n",
       " 'Marika ZANFORLIN / Federico DEGLI ESPOSTI',\n",
       " 'Marina AGANINA / Artem KNYAZEV',\n",
       " 'Marina AGANINA / Dmitri ZOBNIN',\n",
       " 'Marissa CASTELLI / Mervin TRAN',\n",
       " 'Marissa CASTELLI / Simon SHNAPIR',\n",
       " 'Mary Beth MARLEY / Rockne BRUBAKER',\n",
       " 'Marylin PLA / Yannick BONHEUR',\n",
       " 'Maylin WENDE / Daniel WENDE',\n",
       " 'Meagan DUHAMEL / Craig BUNTIN',\n",
       " 'Meagan DUHAMEL / Eric RADFORD',\n",
       " 'Meeran TROMBLEY / Laureano IBARRA',\n",
       " 'Melodie CHATAIGNER / Medhi BOUZZINE',\n",
       " 'Minerva Fabienne HASE / Nolan SEEGERT',\n",
       " 'Mingyang ZHANG / Bowen SONG',\n",
       " 'Minji JI / Themistocles LEFTHERIS',\n",
       " 'Miriam ZIEGLER / Severin KIEFER',\n",
       " 'Miu SUZAKI / Ryuichi KIHARA',\n",
       " 'Monica PISOTTA / Michael STEWART',\n",
       " 'Mylene BRODEUR / John MATTATALL',\n",
       " 'Naomi Nari NAM / Themistocles LEFTHERIS',\n",
       " 'Narumi TAKAHASHI / Mervin TRAN',\n",
       " 'Narumi TAKAHASHI / Ryuichi KIHARA',\n",
       " 'Natalia SHESTAKOVA / Pavel LEBEDEV',\n",
       " 'Natalia ZABIIAKO / Alexander ENBERT',\n",
       " 'Natalja ZABIJAKO / Alexandr ZABOEV',\n",
       " 'Natalja ZABIJAKO / Sergei KULBACH',\n",
       " 'Natasha PURICH / Andrew WOLFE',\n",
       " 'Natasha PURICH / Mervin TRAN',\n",
       " 'Natasha PURICH / Raymond SCHULTZ',\n",
       " 'Nicole DELLA MONICA / Matteo GUARISE',\n",
       " 'Nicole DELLA MONICA / Yannick KOCON',\n",
       " 'Nina IVANOVA / Filip ZALEVSKI',\n",
       " 'Olga PROKURONOVA / Karel STEFL',\n",
       " 'PHYO Yong Myong / JONG Yong Hyok',\n",
       " 'Paige CONNERS / Evgeni KRASNOPOLSKI',\n",
       " 'Paige LAWRENCE / Rudi SWIEGERS',\n",
       " 'Qing PANG / Jian TONG',\n",
       " 'Rachel KIRKLAND / Eric RADFORD',\n",
       " 'Rebecca GHILARDI / Filippo AMBROSINI',\n",
       " 'Rebecca HANDKE / Daniel WENDE',\n",
       " 'Rena INOUE / John BALDWIN',\n",
       " 'Riku MIURA / Shoya ICHIHASHI',\n",
       " 'Rumiana SPASSOVA / Stanimir TODOROV',\n",
       " 'Sally HOOLIN / Jakub SAFRANEK',\n",
       " 'Sally HOOLIN / James HUNT',\n",
       " 'Sofiya KARAGODINA / Semyon STEPANOV',\n",
       " 'Stacey KEMP / David KING',\n",
       " 'Stefania BERTON / Ondrej HOTAREK',\n",
       " 'Stina MARTINI / Severin KIEFER',\n",
       " 'Su Yeon KIM / Hyungtae KIM',\n",
       " 'Sumire SUTO / Francis BOUDREAU-AUDET',\n",
       " 'Sydney KOLODZIEJ / Maxime DESCHAMPS',\n",
       " 'Tae Ok RYOM / Ju Sik KIM',\n",
       " 'Tarah KAYNE / Daniel O SHEA',\n",
       " 'Tatiana DANILOVA / Mikalai KAMIANCHUK',\n",
       " 'Tatiana NOVIK / Mikhail KUZNETSOV',\n",
       " 'Tatiana TOTMIANINA / Maxim MARININ',\n",
       " 'Tatiana VOLOSOZHAR / Maxim TRANKOV',\n",
       " 'Tatiana VOLOSOZHAR / Stanislav MOROZOV',\n",
       " 'Taylor STEELE / Robert SCHULTZ',\n",
       " 'Tiffany VISE / Derek TRENT',\n",
       " 'Tiffany VISE / Don BALDWIN',\n",
       " 'Utako WAKAMATSU / Jean-Sebastien FECTEAU',\n",
       " 'Valentina MARCHEI / Ondrej HOTAREK',\n",
       " 'Valerie MARCOUX / Craig BUNTIN',\n",
       " 'Vanessa GRENIER / Maxime DESCHAMPS',\n",
       " 'Vanessa JAMES / Morgan CIPRES',\n",
       " 'Vanessa JAMES / Yannick BONHEUR',\n",
       " 'Vera BAZAROVA / Andrei DEPUTAT',\n",
       " 'Vera BAZAROVA / Yuri LARIONOV',\n",
       " 'Veronica GRIGORIEVA / Aritz MAESTU',\n",
       " 'Victoria HECHT / Christopher TREFIL',\n",
       " 'Viktoria BORZENKOVA / Andrei CHUVILAEV',\n",
       " 'Wenjing SUI / Cong HAN',\n",
       " 'Wenting WANG / Yan ZHANG',\n",
       " 'Xiaoyu YU / Hao ZHANG',\n",
       " 'Xiaoyu YU / Yang JIN',\n",
       " 'Xue SHEN / Hongbo ZHAO',\n",
       " 'Xuehan WANG / Lei WANG',\n",
       " 'Yue ZHANG / Lei WANG',\n",
       " 'Yuko KAVAGUTI / Alexander SMIRNOV',\n",
       " 'Zoe JONES / Christopher BOYADJI']"
      ]
     },
     "execution_count": 29,
     "metadata": {},
     "output_type": "execute_result"
    }
   ],
   "source": [
    "sorted(all_hist.Name.unique())"
   ]
  },
  {
   "cell_type": "code",
   "execution_count": 30,
   "metadata": {
    "collapsed": false
   },
   "outputs": [],
   "source": [
    "pair18 = pd.read_csv('pair18.csv')"
   ]
  },
  {
   "cell_type": "code",
   "execution_count": 31,
   "metadata": {
    "collapsed": false
   },
   "outputs": [
    {
     "data": {
      "text/plain": [
       "Index([u'Unnamed: 0', u'Rank', u'Event', u'Date', u'Name', u'Nation',\n",
       "       u'Points', u'Short Rank', u'Short Score', u'Free Rank', u'Free Score',\n",
       "       u'Prev Prev', u' Prev'],\n",
       "      dtype='object')"
      ]
     },
     "execution_count": 31,
     "metadata": {},
     "output_type": "execute_result"
    }
   ],
   "source": [
    "pair18.columns"
   ]
  },
  {
   "cell_type": "code",
   "execution_count": 32,
   "metadata": {
    "collapsed": false
   },
   "outputs": [],
   "source": [
    "y = pair18.Points.astype(float)\n",
    "X = pair18[['Prev Prev', ' Prev']]\n",
    "X = sm.add_constant(X)"
   ]
  },
  {
   "cell_type": "code",
   "execution_count": 33,
   "metadata": {
    "collapsed": false
   },
   "outputs": [
    {
     "name": "stdout",
     "output_type": "stream",
     "text": [
      "                            OLS Regression Results                            \n",
      "==============================================================================\n",
      "Dep. Variable:                 Points   R-squared:                       0.677\n",
      "Model:                            OLS   Adj. R-squared:                  0.666\n",
      "Method:                 Least Squares   F-statistic:                     59.77\n",
      "Date:                Wed, 07 Feb 2018   Prob (F-statistic):           1.02e-14\n",
      "Time:                        19:03:39   Log-Likelihood:                -244.96\n",
      "No. Observations:                  60   AIC:                             495.9\n",
      "Df Residuals:                      57   BIC:                             502.2\n",
      "Df Model:                           2                                         \n",
      "Covariance Type:            nonrobust                                         \n",
      "==============================================================================\n",
      "                 coef    std err          t      P>|t|      [95.0% Conf. Int.]\n",
      "------------------------------------------------------------------------------\n",
      "const        129.6809      6.166     21.031      0.000       117.333   142.028\n",
      "Prev Prev      0.1489      0.042      3.586      0.001         0.066     0.232\n",
      " Prev          0.2144      0.044      4.876      0.000         0.126     0.302\n",
      "==============================================================================\n",
      "Omnibus:                        0.461   Durbin-Watson:                   1.181\n",
      "Prob(Omnibus):                  0.794   Jarque-Bera (JB):                0.329\n",
      "Skew:                           0.179   Prob(JB):                        0.848\n",
      "Kurtosis:                       2.938   Cond. No.                         851.\n",
      "==============================================================================\n",
      "\n",
      "Warnings:\n",
      "[1] Standard Errors assume that the covariance matrix of the errors is correctly specified.\n"
     ]
    }
   ],
   "source": [
    "mod = sm.OLS(y, X).fit()\n",
    "print mod.summary()"
   ]
  },
  {
   "cell_type": "code",
   "execution_count": 35,
   "metadata": {
    "collapsed": true
   },
   "outputs": [],
   "source": [
    "pair_entries = [\n",
    "    'Ekaterina ' + 'Alexandrovskaya'.upper() + ' / Harley ' + 'Windsor'.upper(),\n",
    "    'Miriam ZIEGLER / Severin KIEFER',\n",
    "    'Meagan DUHAMEL / Eric RADFORD',\n",
    "    'Kirsten MOORE-TOWERS / Michael MARINARO',\n",
    "    'Julianne SEGUIN / Charlie BILODEAU',\n",
    "    'Cheng PENG / Yang JIN',\n",
    "    'Wenjing SUI / Cong HAN',\n",
    "    'Xiaoyu YU / Hao ZHANG',\n",
    "    'Anna DUSKOVA / Martin BIDAR',\n",
    "    'Vanessa JAMES / Morgan CIPRES',\n",
    "#     'Annika HOCKE / Ruben BLOMMAERT',\n",
    "    'Aljona SAVCHENKO / Bruno MASSOT',\n",
    "#     'Paige CONNERS / Evgeni KRASNOPOLSKI',\n",
    "    'Nicole DELLA MONICA / Matteo GUARISE',\n",
    "    'Valentina MARCHEI / Ondrej HOTAREK',\n",
    "    'Miu SUZAKI / Ryuichi KIHARA',\n",
    "    'Tae Ok RYOM / Ju Sik KIM',\n",
    "    'Evgenia TARASOVA / Vladimir MOROZOV',\n",
    "    'Ksenia STOLBOVA / Fedor KLIMOV',\n",
    "    'Natalia ZABIIAKO / Alexander ENBERT',\n",
    "    'Kyueun KIM / Alex Kang Chan KAM',\n",
    "    'Alexa SCIMECA KNIERIM / Chris KNIERIM'\n",
    "]"
   ]
  },
  {
   "cell_type": "code",
   "execution_count": 37,
   "metadata": {
    "collapsed": false
   },
   "outputs": [],
   "source": [
    "for entry in pair_entries:\n",
    "    if entry not in all_hist.Name.unique():\n",
    "        print entry"
   ]
  },
  {
   "cell_type": "code",
   "execution_count": 38,
   "metadata": {
    "collapsed": true
   },
   "outputs": [],
   "source": [
    "data = {}\n",
    "for entry in pair_entries:\n",
    "    data[entry] = list(all_hist[all_hist.Name == entry].Points[-2:].astype(float))\n",
    "    while len(data[entry]) != 2:\n",
    "        data[entry] = [0] + data[entry]"
   ]
  },
  {
   "cell_type": "code",
   "execution_count": 39,
   "metadata": {
    "collapsed": false
   },
   "outputs": [],
   "source": [
    "prev = []\n",
    "prevprev = []\n",
    "pairs = []\n",
    "for entry, hist in data.iteritems():\n",
    "    pairs.append(entry)\n",
    "    prev.append(hist[1])\n",
    "    prevprev.append(hist[0])"
   ]
  },
  {
   "cell_type": "code",
   "execution_count": 40,
   "metadata": {
    "collapsed": false
   },
   "outputs": [
    {
     "data": {
      "text/plain": [
       "{'Alexa SCIMECA KNIERIM / Chris KNIERIM': [192.50999999999999,\n",
       "  189.06999999999999],\n",
       " 'Aljona SAVCHENKO / Bruno MASSOT': [223.13, 236.68000000000001],\n",
       " 'Anna DUSKOVA / Martin BIDAR': [189.09, 179.69999999999999],\n",
       " 'Cheng PENG / Yang JIN': [182.5, 188.13999999999999],\n",
       " 'Ekaterina ALEXANDROVSKAYA / Harley WINDSOR': [164.09999999999999,\n",
       "  178.10000000000005],\n",
       " 'Evgenia TARASOVA / Vladimir MOROZOV': [208.72999999999999,\n",
       "  221.59999999999999],\n",
       " 'Julianne SEGUIN / Charlie BILODEAU': [186.16, 194.37],\n",
       " 'Kirsten MOORE-TOWERS / Michael MARINARO': [194.52000000000001, 187.81],\n",
       " 'Ksenia STOLBOVA / Fedor KLIMOV': [209.25999999999999, 211.00999999999999],\n",
       " 'Kyueun KIM / Alex Kang Chan KAM': [0, 118.91],\n",
       " 'Meagan DUHAMEL / Eric RADFORD': [215.68000000000001, 210.83000000000001],\n",
       " 'Miriam ZIEGLER / Severin KIEFER': [171.13, 181.75],\n",
       " 'Miu SUZAKI / Ryuichi KIHARA': [139.98000000000002, 157.26999999999995],\n",
       " 'Natalia ZABIIAKO / Alexander ENBERT': [197.88999999999999,\n",
       "  210.18000000000001],\n",
       " 'Nicole DELLA MONICA / Matteo GUARISE': [197.59, 192.38],\n",
       " 'Tae Ok RYOM / Ju Sik KIM': [169.65000000000001, 184.97999999999999],\n",
       " 'Valentina MARCHEI / Ondrej HOTAREK': [188.00999999999999,\n",
       "  204.19999999999999],\n",
       " 'Vanessa JAMES / Morgan CIPRES': [214.31999999999999, 210.16999999999999],\n",
       " 'Wenjing SUI / Cong HAN': [234.53, 230.88999999999999],\n",
       " 'Xiaoyu YU / Hao ZHANG': [219.19999999999999, 207.13999999999999]}"
      ]
     },
     "execution_count": 40,
     "metadata": {},
     "output_type": "execute_result"
    }
   ],
   "source": [
    "data"
   ]
  },
  {
   "cell_type": "code",
   "execution_count": 41,
   "metadata": {
    "collapsed": false
   },
   "outputs": [],
   "source": [
    "olyX = pd.DataFrame({' Prev': prev, 'Prev Prev': prevprev}).astype(float)\n",
    "olyX = sm.add_constant(olyX)\n",
    "predictions = mod.predict(olyX)"
   ]
  },
  {
   "cell_type": "code",
   "execution_count": 42,
   "metadata": {
    "collapsed": true
   },
   "outputs": [],
   "source": [
    "results = {}\n",
    "for i, pair in enumerate(pairs):\n",
    "    results[pair] = predictions[i]"
   ]
  },
  {
   "cell_type": "code",
   "execution_count": 44,
   "metadata": {
    "collapsed": false
   },
   "outputs": [
    {
     "name": "stdout",
     "output_type": "stream",
     "text": [
      "Wenjing SUI / Cong HAN 214.357397234\n",
      "Aljona SAVCHENKO / Bruno MASSOT 212.775475004\n",
      "Xiaoyu YU / Hao ZHANG 207.53298056\n",
      "Evgenia TARASOVA / Vladimir MOROZOV 207.441820121\n",
      "Meagan DUHAMEL / Eric RADFORD 207.327852979\n",
      "Vanessa JAMES / Morgan CIPRES 206.937946329\n",
      "Ksenia STOLBOVA / Fedor KLIMOV 205.978127096\n",
      "Natalia ZABIIAKO / Alexander ENBERT 203.416618411\n",
      "Nicole DELLA MONICA / Matteo GUARISE 200.701065321\n",
      "Valentina MARCHEI / Ondrej HOTAREK 200.407517107\n",
      "Kirsten MOORE-TOWERS / Michael MARINARO 199.362134512\n",
      "Alexa SCIMECA KNIERIM / Chris KNIERIM 199.118834205\n",
      "Julianne SEGUIN / Charlie BILODEAU 198.546717977\n",
      "Anna DUSKOVA / Martin BIDAR 196.989920445\n",
      "Cheng PENG / Yang JIN 196.834033631\n",
      "Tae Ok RYOM / Ju Sik KIM 193.60814975\n",
      "Miriam ZIEGLER / Severin KIEFER 193.444388255\n",
      "Ekaterina ALEXANDROVSKAYA / Harley WINDSOR 191.393408938\n",
      "Miu SUZAKI / Ryuichi KIHARA 183.1192164\n",
      "Kyueun KIM / Alex Kang Chan KAM 147.392036896\n"
     ]
    }
   ],
   "source": [
    "for pair in sorted(results, key=lambda x: -results.get(x)):\n",
    "    print pair, results[pair]"
   ]
  },
  {
   "cell_type": "code",
   "execution_count": null,
   "metadata": {
    "collapsed": true
   },
   "outputs": [],
   "source": []
  }
 ],
 "metadata": {
  "kernelspec": {
   "display_name": "Python 2",
   "language": "python",
   "name": "python2"
  },
  "language_info": {
   "codemirror_mode": {
    "name": "ipython",
    "version": 2
   },
   "file_extension": ".py",
   "mimetype": "text/x-python",
   "name": "python",
   "nbconvert_exporter": "python",
   "pygments_lexer": "ipython2",
   "version": "2.7.13"
  }
 },
 "nbformat": 4,
 "nbformat_minor": 2
}
