{
 "cells": [
  {
   "cell_type": "code",
   "execution_count": 10,
   "metadata": {
    "collapsed": true
   },
   "outputs": [],
   "source": [
    "from model.Season import Season"
   ]
  },
  {
   "cell_type": "code",
   "execution_count": 11,
   "metadata": {
    "collapsed": true
   },
   "outputs": [],
   "source": [
    "season = Season('2018')\n",
    "season.fetch_info()"
   ]
  },
  {
   "cell_type": "code",
   "execution_count": 12,
   "metadata": {
    "collapsed": false
   },
   "outputs": [],
   "source": [
    "season.load_scores()"
   ]
  },
  {
   "cell_type": "code",
   "execution_count": 13,
   "metadata": {
    "collapsed": true
   },
   "outputs": [],
   "source": [
    "for event in season.events:\n",
    "    event.write_results()"
   ]
  },
  {
   "cell_type": "code",
   "execution_count": 9,
   "metadata": {
    "collapsed": true
   },
   "outputs": [],
   "source": [
    "with open('season2018.pickle', 'w') as f:\n",
    "    pickle.dump(season, f)"
   ]
  },
  {
   "cell_type": "code",
   "execution_count": 13,
   "metadata": {
    "collapsed": false
   },
   "outputs": [
    {
     "data": {
      "text/plain": [
       "True"
      ]
     },
     "execution_count": 13,
     "metadata": {},
     "output_type": "execute_result"
    }
   ],
   "source": [
    "season.event_dict['gpf1718'].disciplines[1].segments[1].elt_re.match('5 2A+3T 8.36 X -0.40 -1 -1 0 1 -1 -1 0 0 -1  7.96').groups()[4] in ('x', 'X')"
   ]
  },
  {
   "cell_type": "code",
   "execution_count": 9,
   "metadata": {
    "collapsed": false
   },
   "outputs": [
    {
     "data": {
      "text/plain": [
       "['Grand Prix Final 2017 Senior and Junior  ',\n",
       " 'LADIES FREE SKATINGJUDGES DETAILS PER SKATER  ',\n",
       " 'Total Total Total  ',\n",
       " 'Rank Name Nation Starting Segment Element Program  Deductions',\n",
       " 'Number Score Score Component  ',\n",
       " '= + Score (factorized)  -',\n",
       " '1 Alina ZAGITOVA RUS 5 147.03 76.61 70.42  0.00',\n",
       " '# Executed Info Base GOE J1 J2 J3 J4 J5 J6 J7 J8 J9  Ref Scores of',\n",
       " 'Elements Value  Panel',\n",
       " '1 ChSq1 2.00 1.60 2 3 3 3 1 2 2 2 2  3.60',\n",
       " '2 FCSp4 3.20 1.14 2 2 2 3 2 3 2 3 2  4.34',\n",
       " '3 StSq4 3.90 1.40 2 2 2 2 1 2 2 2 3  5.30',\n",
       " '4 3Lz+3Lo 12.21 X 1.30 2 1 2 2 1 2 2 2 2  13.51',\n",
       " '5 2A+3T 8.36 X -0.40 -1 -1 0 1 -1 -1 0 0 -1  7.96',\n",
       " '6 3F+2T+2Lo 9.24 X 1.00 2 1 1 2 2 2 1 1 1  10.24',\n",
       " '7 LSp4 2.70 1.00 2 2 2 2 2 2 2 2 2  3.70',\n",
       " '8 3Lz 6.60 X -0.80 -2 -1 -1 0 -2 -2 0 0 -2  5.80',\n",
       " '9 3S 4.84 X 1.10 1 1 1 2 2 2 2 2 1  5.94',\n",
       " '10 3F 5.83 X 1.40 2 2 2 2 2 2 2 2 2  7.23',\n",
       " '11 2A 3.63 X 0.57 1 1 1 2 1 1 2 1 1  4.20',\n",
       " '12 CCoSp4 3.50 1.29 3 3 2 3 2 2 2 3 3  4.79',\n",
       " '66.01  76.61',\n",
       " 'Program Components Factor  ',\n",
       " 'Skating Skills 1.60 8.75 9.00 9.00 9.00 8.50 8.50 9.00 8.75 8.50  8.79',\n",
       " 'Transitions 1.60 8.25 8.75 8.75 8.75 8.50 8.25 9.25 8.50 8.75  8.61',\n",
       " 'Performance 1.60 8.50 9.50 8.75 9.00 9.00 8.50 9.25 9.25 9.00  8.96',\n",
       " 'Composition 1.60 8.50 9.00 9.00 9.00 8.25 8.75 9.25 7.75 9.00  8.79',\n",
       " 'Interpretation of the Music 1.60 8.75 9.00 8.75 9.25 9.00 8.50 9.25 8.75 8.50  8.86',\n",
       " 'Judges Total Program Components Score (factored)  70.42',\n",
       " 'Deductions:  0.00',\n",
       " 'X Credit highlight distribution, base value multiplied by 1.1  ',\n",
       " 'Total Total Total  ',\n",
       " 'Rank Name Nation Starting Segment Element Program  Deductions',\n",
       " 'Number Score Score Component  ',\n",
       " '= + Score (factorized)  -',\n",
       " '2 Maria SOTSKOVA RUS 2 142.28 73.59 68.69  0.00',\n",
       " '# Executed Info Base GOE J1 J2 J3 J4 J5 J6 J7 J8 J9  Ref Scores of',\n",
       " 'Elements Value  Panel',\n",
       " '1 3Lz+3T 10.30 1.00 2 1 1 1 2 2 2 1 1  11.30',\n",
       " '2 3F 5.30 1.40 2 1 2 2 2 3 2 2 2  6.70',\n",
       " '3 LSp4 2.70 0.86 2 1 2 2 2 1 2 1 2  3.56',\n",
       " '4 StSq4 3.90 1.40 2 2 2 2 2 2 2 2 1  5.30',\n",
       " '5 3Lo 5.61 X -0.20 1 -1 0 0 0 -1 0 0 -1  5.41',\n",
       " '6 3F+1Lo+3S 11.22 X 1.30 2 1 2 2 2 2 2 2 1  12.52',\n",
       " '7 3Lz 6.60 X 1.40 2 1 2 2 2 2 2 2 2  8.00',\n",
       " '8 ChSq1 2.00 1.10 2 1 1 2 1 2 2 2 1  3.10',\n",
       " '9 2A+2T 5.06 X 0.71 2 1 1 1 2 2 1 2 1  5.77',\n",
       " '10 2A 3.63 X 0.57 2 1 1 1 1 1 2 1 0  4.20',\n",
       " '11 FCSp3 2.80 0.57 1 1 1 1 1 2 1 2 1  3.37',\n",
       " '12 CCoSp4 3.50 0.86 2 1 2 2 2 1 2 2 1  4.36',\n",
       " '62.62  73.59',\n",
       " 'Program Components Factor  ',\n",
       " 'Skating Skills 1.60 8.50 8.50 8.50 8.75 8.50 8.75 8.75 8.50 8.00  8.57',\n",
       " 'Transitions 1.60 8.00 7.50 8.50 8.50 8.75 8.50 8.25 8.25 8.50  8.36',\n",
       " 'Performance 1.60 8.25 9.00 8.75 9.00 9.00 8.75 8.75 8.75 8.25  8.75',\n",
       " 'Composition 1.60 8.50 8.25 8.75 9.25 8.50 8.50 8.75 8.50 8.50  8.57',\n",
       " 'Interpretation of the Music 1.60 8.50 8.50 8.50 9.00 9.00 8.75 8.75 8.75 8.25  8.68',\n",
       " 'Judges Total Program Components Score (factored)  68.69',\n",
       " 'Deductions:  0.00',\n",
       " 'X Credit highlight distribution, base value multiplied by 1.1  ',\n",
       " 'Grand Prix Final 2017 Senior and Junior  ',\n",
       " 'LADIES FREE SKATINGJUDGES DETAILS PER SKATER  ',\n",
       " 'Total Total Total  ',\n",
       " 'Rank Name Nation Starting Segment Element Program  Deductions',\n",
       " 'Number Score Score Component  ',\n",
       " '= + Score (factorized)  -',\n",
       " '3 Carolina KOSTNER ITA 1 141.83 66.87 74.96  0.00',\n",
       " '# Executed Info Base GOE J1 J2 J3 J4 J5 J6 J7 J8 J9  Ref Scores of',\n",
       " 'Elements Value  Panel',\n",
       " '1 3F+2T 6.60 1.30 1 2 2 1 2 2 2 3 2  7.90',\n",
       " '2 3F 5.30 1.40 2 2 2 2 2 2 2 3 2  6.70',\n",
       " '3 3Lo 5.10 1.50 2 2 3 2 2 2 1 3 2  6.60',\n",
       " '4 FCSp4 3.20 1.00 1 2 2 2 2 2 2 2 2  4.20',\n",
       " '5 FCCoSp4 3.50 1.00 2 2 2 2 2 2 2 2 3  4.50',\n",
       " '6 3T 4.73 X 1.60 2 2 3 2 3 2 2 3 2  6.33',\n",
       " '7 2A+1Lo+2S 5.61 X 0.50 1 1 1 1 1 1 1 1 0  6.11',\n",
       " '8 2A 3.63 X 0.50 1 1 1 1 1 1 1 2 1  4.13',\n",
       " '9 3S+2T 6.27 X -0.20 0 0 0 0 -1 -1 0 0 -1  6.07',\n",
       " '10 ChSq1 2.00 2.00 3 3 3 3 3 2 2 3 3  4.00',\n",
       " '11 StSq4 3.90 2.00 3 3 3 2 3 3 2 3 3  5.90',\n",
       " '12 CCoSp4 3.50 0.93 1 2 2 2 2 1 2 2 2  4.43',\n",
       " '53.34  66.87',\n",
       " 'Program Components Factor  ',\n",
       " 'Skating Skills 1.60 9.25 9.75 9.50 9.50 9.50 9.25 9.00 9.75 9.50  9.46',\n",
       " 'Transitions 1.60 9.25 9.00 9.50 9.00 9.25 9.00 8.50 9.50 8.75  9.11',\n",
       " 'Performance 1.60 9.50 9.50 9.50 9.50 9.50 9.00 8.75 9.75 9.25  9.39',\n",
       " 'Composition 1.60 9.50 9.00 9.75 9.50 9.25 9.25 9.00 10.00 9.50  9.39',\n",
       " 'Interpretation of the Music 1.60 9.50 9.50 9.75 9.50 9.50 9.25 9.25 10.00 9.50  9.50',\n",
       " 'Judges Total Program Components Score (factored)  74.96',\n",
       " 'Deductions:  0.00',\n",
       " 'X Credit highlight distribution, base value multiplied by 1.1  ',\n",
       " 'Total Total Total  ',\n",
       " 'Rank Name Nation Starting Segment Element Program  Deductions',\n",
       " 'Number Score Score Component  ',\n",
       " '= + Score (factorized)  -',\n",
       " '4 Satoko MIYAHARA JPN 6 138.88 67.00 71.88  0.00',\n",
       " '# Executed Info Base GOE J1 J2 J3 J4 J5 J6 J7 J8 J9  Ref Scores of',\n",
       " 'Elements Value  Panel',\n",
       " '1 3Lo 5.10 1.10 2 1 1 2 2 1 2 1 2  6.20',\n",
       " '2 3Lz<+3T< < 7.20 -1.40 -2 -2 -2 -2 -2 -2 -2 -2 -2  5.80',\n",
       " '3 3F< < 3.70 -0.80 -1 -1 -1 -2 -1 -1 -1 -1 -2  2.90',\n",
       " '4 FCSp4 3.20 0.93 1 1 2 2 2 2 2 2 2  4.13',\n",
       " '5 CCoSp4 3.50 0.79 2 1 1 2 2 2 1 2 1  4.29',\n",
       " '6 StSq4 3.90 1.50 3 2 2 2 3 2 2 2 2  5.40',\n",
       " '7 3Lz+2T+2Lo 10.01 X 0.70 2 1 1 1 1 1 1 0 1  10.71',\n",
       " '8 2A+3T 8.36 X 1.10 2 1 2 2 2 1 1 1 2  9.46',\n",
       " '9 3S 4.84 X 1.10 2 1 2 2 2 1 1 2 1  5.94',\n",
       " '10 ChSq1 2.00 1.70 3 2 3 2 3 2 2 2 3  3.70',\n",
       " '11 2A 3.63 X 0.71 1 1 2 2 2 1 1 1 2  4.34',\n",
       " '12 LSp4 2.70 1.43 2 3 3 3 3 3 2 3 3  4.13',\n",
       " '58.14  67.00',\n",
       " 'Program Components Factor  ',\n",
       " 'Skating Skills 1.60 8.75 8.75 9.25 9.25 9.25 9.00 9.00 8.75 9.00  9.00',\n",
       " 'Transitions 1.60 8.50 8.75 9.00 8.50 9.25 8.75 9.00 8.25 9.00  8.79',\n",
       " 'Performance 1.60 8.50 8.75 9.25 8.75 9.50 8.75 9.00 8.50 9.50  8.93',\n",
       " 'Composition 1.60 8.75 9.25 9.25 9.00 9.50 9.00 9.00 8.75 9.25  9.07',\n",
       " 'Interpretation of the Music 1.60 9.00 9.25 9.50 9.00 9.50 9.00 8.75 8.25 9.50  9.14',\n",
       " 'Judges Total Program Components Score (factored)  71.88',\n",
       " 'Deductions:  0.00',\n",
       " '< Under-rotated jumpX Credit highlight distribution, base value multiplied by 1.1  ',\n",
       " 'Grand Prix Final 2017 Senior and Junior  ',\n",
       " 'LADIES FREE SKATINGJUDGES DETAILS PER SKATER  ',\n",
       " 'Total Total Total  ',\n",
       " 'Rank Name Nation Starting Segment Element Program  Deductions',\n",
       " 'Number Score Score Component  ',\n",
       " '= + Score (factorized)  -',\n",
       " '5 Kaetlyn OSMOND CAN 4 138.12 66.50 72.62  1.00',\n",
       " '# Executed Info Base GOE J1 J2 J3 J4 J5 J6 J7 J8 J9  Ref Scores of',\n",
       " 'Elements Value  Panel',\n",
       " '1 3F+3T 9.60 1.60 2 3 3 2 2 2 2 2 3  11.20',\n",
       " '2 2A+3T 7.60 1.50 2 2 3 2 2 2 2 2 3  9.10',\n",
       " '3 3Lz! ! 6.00 0.60 1 1 1 1 1 0 0 1 2  6.60',\n",
       " '4 FCCoSp4 3.50 1.00 2 3 2 2 2 2 2 2 2  4.50',\n",
       " '5 LSp4 2.70 1.07 3 2 2 2 2 2 2 2 3  3.77',\n",
       " '6 2Lo 1.98 X 0.21 1 1 0 1 1 0 1 0 1  2.19',\n",
       " '7 3F 5.83 X 1.40 2 2 2 2 2 2 2 2 3  7.23',\n",
       " '8 3S< < 3.41 X -2.10 -3 -3 -3 -3 -3 -3 -3 -3 -3  1.31',\n",
       " '9 2A+2T+2Lo 7.04 X 0.57 1 2 1 0 1 1 2 1 1  7.61',\n",
       " '10 StSq3 3.30 1.29 3 3 3 2 2 3 2 2 3  4.59',\n",
       " '11 ChSq1 2.00 1.90 3 3 3 2 3 3 2 2 3  3.90',\n",
       " '12 CCoSp4 3.50 1.00 2 2 2 2 2 2 2 2 2  4.50',\n",
       " '56.46  66.50',\n",
       " 'Program Components Factor  ',\n",
       " 'Skating Skills 1.60 9.00 9.00 9.25 9.00 9.25 9.25 8.75 9.25 9.25  9.14',\n",
       " 'Transitions 1.60 9.25 8.00 9.00 8.50 9.00 9.00 8.00 8.75 9.50  8.79',\n",
       " 'Performance 1.60 9.25 9.25 9.00 8.75 9.50 9.00 8.50 8.75 9.50  9.07',\n",
       " 'Composition 1.60 9.50 9.25 9.25 9.00 9.25 9.25 8.25 8.75 9.75  9.18',\n",
       " 'Interpretation of the Music 1.60 9.50 9.50 9.25 8.75 9.50 9.25 8.50 8.75 9.50  9.21',\n",
       " 'Judges Total Program Components Score (factored)  72.62',\n",
       " 'Deductions: Falls:  -1.00 (1)  -1.00',\n",
       " '< Under-rotated jumpX Credit highlight distribution, base value multiplied by 1.1! Not clear edge  ',\n",
       " 'Total Total Total  ',\n",
       " 'Rank Name Nation Starting Segment Element Program  Deductions',\n",
       " 'Number Score Score Component  ',\n",
       " '= + Score (factorized)  -',\n",
       " '6 Wakaba HIGUCHI JPN 3 128.85 62.67 66.18  0.00',\n",
       " '# Executed Info Base GOE J1 J2 J3 J4 J5 J6 J7 J8 J9  Ref Scores of',\n",
       " 'Elements Value  Panel',\n",
       " '1 2A 3.30 0.86 1 1 2 2 2 2 2 1 2  4.16',\n",
       " '2 3Lz+3T 10.30 0.80 2 1 1 1 1 1 2 1 1  11.10',\n",
       " '3 CCoSp4 3.50 1.00 2 2 2 2 1 2 2 2 2  4.50',\n",
       " '4 2S 1.30 0.03 0 0 0 1 0 0 1 0 0  1.33',\n",
       " '5 2Lz 2.31 X -0.30 -3 -1 -1 -1 -1 0 0 -1 -2  2.01',\n",
       " '6 3Lo 5.61 X 0.70 1 1 1 1 1 1 1 1 2  6.31',\n",
       " '7 2A+3T 8.36 X -0.20 -2 0 0 0 -1 -1 0 0 0  8.16',\n",
       " '8 3F!+2T+2Lo ! 9.24 X -0.10 0 0 0 1 -1 0 0 -1 0  9.14',\n",
       " '9 FCSp4 3.20 0.50 1 1 1 1 0 1 1 1 1  3.70',\n",
       " '10 StSq4 3.90 1.40 2 2 2 2 2 2 2 1 2  5.30',\n",
       " '11 ChSq1 2.00 1.40 2 2 2 2 1 2 2 2 2  3.40',\n",
       " '12 LSp4 2.70 0.86 2 1 2 1 1 2 2 2 2  3.56',\n",
       " '55.72  62.67',\n",
       " 'Program Components Factor  ',\n",
       " 'Skating Skills 1.60 8.25 8.50 8.50 8.75 8.25 8.50 8.75 8.25 8.75  8.50',\n",
       " 'Transitions 1.60 7.75 7.00 8.00 8.25 8.25 8.25 8.75 7.25 8.25  8.00',\n",
       " 'Performance 1.60 8.25 8.50 7.75 8.50 8.25 8.25 8.25 7.25 8.00  8.18',\n",
       " 'Composition 1.60 8.50 7.75 8.25 8.75 8.25 8.50 8.75 7.25 8.50  8.36',\n",
       " 'Interpretation of the Music 1.60 8.50 8.75 8.00 8.50 8.50 8.25 8.50 7.50 8.00  8.32',\n",
       " 'Judges Total Program Components Score (factored)  66.18',\n",
       " 'Deductions:  0.00',\n",
       " 'X Credit highlight distribution, base value multiplied by 1.1! Not clear edge  ']"
      ]
     },
     "execution_count": 9,
     "metadata": {},
     "output_type": "execute_result"
    }
   ],
   "source": [
    "season.event_dict['gpf1718'].disciplines[1].segments[1].get_raw_csv_rows()"
   ]
  },
  {
   "cell_type": "code",
   "execution_count": 12,
   "metadata": {
    "collapsed": true
   },
   "outputs": [],
   "source": [
    "import requests\n",
    "from bs4 import BeautifulSoup"
   ]
  },
  {
   "cell_type": "code",
   "execution_count": 14,
   "metadata": {
    "collapsed": false
   },
   "outputs": [],
   "source": [
    "page = requests.get('http://www.isuresults.com/results/season1718/gpjpn2017/data0130.htm')\n",
    "soup = BeautifulSoup(page.content, 'html.parser')"
   ]
  },
  {
   "cell_type": "code",
   "execution_count": 36,
   "metadata": {
    "collapsed": false
   },
   "outputs": [],
   "source": [
    "contents = [elt for elt in soup.find_all(attrs={'class': True}, name='tr')[1].contents if elt != '\\n']"
   ]
  },
  {
   "cell_type": "code",
   "execution_count": 40,
   "metadata": {
    "collapsed": false
   },
   "outputs": [
    {
     "data": {
      "text/plain": [
       "[<td class=\"Left\" nowrap=\"\">Technical Controller</td>,\n",
       " <td align=\"left\" nowrap=\"\">\\xa0Ms.\\xa0Emilie\\xa0BILLOW\\xa0</td>,\n",
       " <td nowrap=\"\"><img src=\"./flags/isu.gif\"/>\\xa0ISU</td>]"
      ]
     },
     "execution_count": 40,
     "metadata": {},
     "output_type": "execute_result"
    }
   ],
   "source": [
    "contents"
   ]
  },
  {
   "cell_type": "code",
   "execution_count": 42,
   "metadata": {
    "collapsed": false
   },
   "outputs": [
    {
     "name": "stdout",
     "output_type": "stream",
     "text": [
      "<tr class=\"HeaderBlue\"><td>Function</td><td>Name</td><td>Nation</td></tr> [<td>Function</td>, <td>Name</td>, <td>Nation</td>]\n",
      "[<td>Function</td>, <td>Name</td>, <td>Nation</td>]\n",
      "\n",
      "<tr class=\"Blue0\">\n",
      "<td class=\"Left\" nowrap=\"\">Technical Controller</td>\n",
      "<td align=\"left\" nowrap=\"\"> Ms. Emilie BILLOW </td>\n",
      "<td nowrap=\"\"><img src=\"./flags/isu.gif\"/> ISU</td></tr> [u'\\n', <td class=\"Left\" nowrap=\"\">Technical Controller</td>, u'\\n', <td align=\"left\" nowrap=\"\">\\xa0Ms.\\xa0Emilie\\xa0BILLOW\\xa0</td>, u'\\n', <td nowrap=\"\"><img src=\"./flags/isu.gif\"/>\\xa0ISU</td>]\n",
      "[<td class=\"Left\" nowrap=\"\">Technical Controller</td>, <td align=\"left\" nowrap=\"\">\\xa0Ms.\\xa0Emilie\\xa0BILLOW\\xa0</td>, <td nowrap=\"\"><img src=\"./flags/isu.gif\"/>\\xa0ISU</td>]\n",
      "Technical Controller hi\n",
      " Ms. Emilie BILLOW hi\n",
      " ISU hi\n",
      "\n",
      "<tr class=\"Blue1\">\n",
      "<td class=\"Left\" nowrap=\"\">Technical Specialist</td>\n",
      "<td align=\"left\" nowrap=\"\"> Mr. Kelly CRUICKSHANK </td>\n",
      "<td nowrap=\"\"><img src=\"./flags/isu.gif\"/> ISU</td></tr> [u'\\n', <td class=\"Left\" nowrap=\"\">Technical Specialist</td>, u'\\n', <td align=\"left\" nowrap=\"\">\\xa0Mr.\\xa0Kelly\\xa0CRUICKSHANK\\xa0</td>, u'\\n', <td nowrap=\"\"><img src=\"./flags/isu.gif\"/>\\xa0ISU</td>]\n",
      "[<td class=\"Left\" nowrap=\"\">Technical Specialist</td>, <td align=\"left\" nowrap=\"\">\\xa0Mr.\\xa0Kelly\\xa0CRUICKSHANK\\xa0</td>, <td nowrap=\"\"><img src=\"./flags/isu.gif\"/>\\xa0ISU</td>]\n",
      "Technical Specialist hi\n",
      " Mr. Kelly CRUICKSHANK hi\n",
      " ISU hi\n",
      "\n",
      "<tr class=\"Blue0\">\n",
      "<td class=\"Left\" nowrap=\"\">Assistant Technical Specialist</td>\n",
      "<td align=\"left\" nowrap=\"\"> Mr. Jan CEJVAN </td>\n",
      "<td nowrap=\"\"><img src=\"./flags/isu.gif\"/> ISU</td></tr> [u'\\n', <td class=\"Left\" nowrap=\"\">Assistant Technical Specialist</td>, u'\\n', <td align=\"left\" nowrap=\"\">\\xa0Mr.\\xa0Jan\\xa0CEJVAN\\xa0</td>, u'\\n', <td nowrap=\"\"><img src=\"./flags/isu.gif\"/>\\xa0ISU</td>]\n",
      "[<td class=\"Left\" nowrap=\"\">Assistant Technical Specialist</td>, <td align=\"left\" nowrap=\"\">\\xa0Mr.\\xa0Jan\\xa0CEJVAN\\xa0</td>, <td nowrap=\"\"><img src=\"./flags/isu.gif\"/>\\xa0ISU</td>]\n",
      "Assistant Technical Specialist hi\n",
      " Mr. Jan CEJVAN hi\n",
      " ISU hi\n",
      "\n",
      "<tr class=\"HeaderBlue\"><td colspan=\"3\"> </td></tr> [<td colspan=\"3\">\\xa0</td>]\n",
      "[<td colspan=\"3\">\\xa0</td>]\n",
      "\n",
      "<tr class=\"Blue0\">\n",
      "<td align=\"left\">Referee</td>\n",
      "<td align=\"left\" nowrap=\"\"> Mr. Alexander KOGAN </td>\n",
      "<td nowrap=\"\"><img src=\"./flags/isu.gif\"/> ISU</td></tr> [u'\\n', <td align=\"left\">Referee</td>, u'\\n', <td align=\"left\" nowrap=\"\">\\xa0Mr.\\xa0Alexander\\xa0KOGAN\\xa0</td>, u'\\n', <td nowrap=\"\"><img src=\"./flags/isu.gif\"/>\\xa0ISU</td>]\n",
      "[<td align=\"left\">Referee</td>, <td align=\"left\" nowrap=\"\">\\xa0Mr.\\xa0Alexander\\xa0KOGAN\\xa0</td>, <td nowrap=\"\"><img src=\"./flags/isu.gif\"/>\\xa0ISU</td>]\n",
      "Referee hi\n",
      " Mr. Alexander KOGAN hi\n",
      " ISU hi\n",
      "\n",
      "<tr class=\"Blue1\">\n",
      "<td class=\"Left\">Judge No.1 \r\n",
      "</td>\n",
      "<td class=\"Left\" nowrap=\"\"> Ms. Elena FOMINA </td>\n",
      "<td nowrap=\"\"><img src=\"./flags/rus.gif\"/> RUS</td></tr> [u'\\n', <td class=\"Left\">Judge No.1\\xa0\\r\\n</td>, u'\\n', <td class=\"Left\" nowrap=\"\">\\xa0Ms.\\xa0Elena\\xa0FOMINA\\xa0</td>, u'\\n', <td nowrap=\"\"><img src=\"./flags/rus.gif\"/>\\xa0RUS</td>]\n",
      "[<td class=\"Left\">Judge No.1\\xa0\\r\\n</td>, <td class=\"Left\" nowrap=\"\">\\xa0Ms.\\xa0Elena\\xa0FOMINA\\xa0</td>, <td nowrap=\"\"><img src=\"./flags/rus.gif\"/>\\xa0RUS</td>]\n",
      "Judge No.1 \r\n",
      "hi\n",
      " Ms. Elena FOMINA hi\n",
      " RUS hi\n",
      "\n",
      "<tr class=\"Blue0\">\n",
      "<td class=\"Left\">Judge No.2 \r\n",
      "</td>\n",
      "<td class=\"Left\" nowrap=\"\"> Mr. Igor PROKOP </td>\n",
      "<td nowrap=\"\"><img src=\"./flags/svk.gif\"/> SVK</td></tr> [u'\\n', <td class=\"Left\">Judge No.2\\xa0\\r\\n</td>, u'\\n', <td class=\"Left\" nowrap=\"\">\\xa0Mr.\\xa0Igor\\xa0PROKOP\\xa0</td>, u'\\n', <td nowrap=\"\"><img src=\"./flags/svk.gif\"/>\\xa0SVK</td>]\n",
      "[<td class=\"Left\">Judge No.2\\xa0\\r\\n</td>, <td class=\"Left\" nowrap=\"\">\\xa0Mr.\\xa0Igor\\xa0PROKOP\\xa0</td>, <td nowrap=\"\"><img src=\"./flags/svk.gif\"/>\\xa0SVK</td>]\n",
      "Judge No.2 \r\n",
      "hi\n",
      " Mr. Igor PROKOP hi\n",
      " SVK hi\n",
      "\n",
      "<tr class=\"Blue1\">\n",
      "<td class=\"Left\">Judge No.3 \r\n",
      "</td>\n",
      "<td class=\"Left\" nowrap=\"\"> Mr. Alexei BELETSKI </td>\n",
      "<td nowrap=\"\"><img src=\"./flags/isr.gif\"/> ISR</td></tr> [u'\\n', <td class=\"Left\">Judge No.3\\xa0\\r\\n</td>, u'\\n', <td class=\"Left\" nowrap=\"\">\\xa0Mr.\\xa0Alexei\\xa0BELETSKI\\xa0</td>, u'\\n', <td nowrap=\"\"><img src=\"./flags/isr.gif\"/>\\xa0ISR</td>]\n",
      "[<td class=\"Left\">Judge No.3\\xa0\\r\\n</td>, <td class=\"Left\" nowrap=\"\">\\xa0Mr.\\xa0Alexei\\xa0BELETSKI\\xa0</td>, <td nowrap=\"\"><img src=\"./flags/isr.gif\"/>\\xa0ISR</td>]\n",
      "Judge No.3 \r\n",
      "hi\n",
      " Mr. Alexei BELETSKI hi\n",
      " ISR hi\n",
      "\n",
      "<tr class=\"Blue0\">\n",
      "<td class=\"Left\">Judge No.4 \r\n",
      "</td>\n",
      "<td class=\"Left\" nowrap=\"\"> Ms. Leanna CARON </td>\n",
      "<td nowrap=\"\"><img src=\"./flags/can.gif\"/> CAN</td></tr> [u'\\n', <td class=\"Left\">Judge No.4\\xa0\\r\\n</td>, u'\\n', <td class=\"Left\" nowrap=\"\">\\xa0Ms.\\xa0Leanna\\xa0CARON\\xa0</td>, u'\\n', <td nowrap=\"\"><img src=\"./flags/can.gif\"/>\\xa0CAN</td>]\n",
      "[<td class=\"Left\">Judge No.4\\xa0\\r\\n</td>, <td class=\"Left\" nowrap=\"\">\\xa0Ms.\\xa0Leanna\\xa0CARON\\xa0</td>, <td nowrap=\"\"><img src=\"./flags/can.gif\"/>\\xa0CAN</td>]\n",
      "Judge No.4 \r\n",
      "hi\n",
      " Ms. Leanna CARON hi\n",
      " CAN hi\n",
      "\n",
      "<tr class=\"Blue1\">\n",
      "<td class=\"Left\">Judge No.5 \r\n",
      "</td>\n",
      "<td class=\"Left\" nowrap=\"\"> Ms. Deveny DECK </td>\n",
      "<td nowrap=\"\"><img src=\"./flags/usa.gif\"/> USA</td></tr> [u'\\n', <td class=\"Left\">Judge No.5\\xa0\\r\\n</td>, u'\\n', <td class=\"Left\" nowrap=\"\">\\xa0Ms.\\xa0Deveny\\xa0DECK\\xa0</td>, u'\\n', <td nowrap=\"\"><img src=\"./flags/usa.gif\"/>\\xa0USA</td>]\n",
      "[<td class=\"Left\">Judge No.5\\xa0\\r\\n</td>, <td class=\"Left\" nowrap=\"\">\\xa0Ms.\\xa0Deveny\\xa0DECK\\xa0</td>, <td nowrap=\"\"><img src=\"./flags/usa.gif\"/>\\xa0USA</td>]\n",
      "Judge No.5 \r\n",
      "hi\n",
      " Ms. Deveny DECK hi\n",
      " USA hi\n",
      "\n",
      "<tr class=\"Blue0\">\n",
      "<td class=\"Left\">Judge No.6 \r\n",
      "</td>\n",
      "<td class=\"Left\" nowrap=\"\"> Ms. Jitka MOKRA </td>\n",
      "<td nowrap=\"\"><img src=\"./flags/cze.gif\"/> CZE</td></tr> [u'\\n', <td class=\"Left\">Judge No.6\\xa0\\r\\n</td>, u'\\n', <td class=\"Left\" nowrap=\"\">\\xa0Ms.\\xa0Jitka\\xa0MOKRA\\xa0</td>, u'\\n', <td nowrap=\"\"><img src=\"./flags/cze.gif\"/>\\xa0CZE</td>]\n",
      "[<td class=\"Left\">Judge No.6\\xa0\\r\\n</td>, <td class=\"Left\" nowrap=\"\">\\xa0Ms.\\xa0Jitka\\xa0MOKRA\\xa0</td>, <td nowrap=\"\"><img src=\"./flags/cze.gif\"/>\\xa0CZE</td>]\n",
      "Judge No.6 \r\n",
      "hi\n",
      " Ms. Jitka MOKRA hi\n",
      " CZE hi\n",
      "\n",
      "<tr class=\"Blue1\">\n",
      "<td class=\"Left\">Judge No.7 \r\n",
      "</td>\n",
      "<td class=\"Left\" nowrap=\"\"> Ms. Agita ABELE </td>\n",
      "<td nowrap=\"\"><img src=\"./flags/lat.gif\"/> LAT</td></tr> [u'\\n', <td class=\"Left\">Judge No.7\\xa0\\r\\n</td>, u'\\n', <td class=\"Left\" nowrap=\"\">\\xa0Ms.\\xa0Agita\\xa0ABELE\\xa0</td>, u'\\n', <td nowrap=\"\"><img src=\"./flags/lat.gif\"/>\\xa0LAT</td>]\n",
      "[<td class=\"Left\">Judge No.7\\xa0\\r\\n</td>, <td class=\"Left\" nowrap=\"\">\\xa0Ms.\\xa0Agita\\xa0ABELE\\xa0</td>, <td nowrap=\"\"><img src=\"./flags/lat.gif\"/>\\xa0LAT</td>]\n",
      "Judge No.7 \r\n",
      "hi\n",
      " Ms. Agita ABELE hi\n",
      " LAT hi\n",
      "\n",
      "<tr class=\"Blue0\">\n",
      "<td class=\"Left\">Judge No.8 \r\n",
      "</td>\n",
      "<td class=\"Left\" nowrap=\"\"> Mr. Tetsuo ABE </td>\n",
      "<td nowrap=\"\"><img src=\"./flags/jpn.gif\"/> JPN</td></tr> [u'\\n', <td class=\"Left\">Judge No.8\\xa0\\r\\n</td>, u'\\n', <td class=\"Left\" nowrap=\"\">\\xa0Mr.\\xa0Tetsuo\\xa0ABE\\xa0</td>, u'\\n', <td nowrap=\"\"><img src=\"./flags/jpn.gif\"/>\\xa0JPN</td>]\n",
      "[<td class=\"Left\">Judge No.8\\xa0\\r\\n</td>, <td class=\"Left\" nowrap=\"\">\\xa0Mr.\\xa0Tetsuo\\xa0ABE\\xa0</td>, <td nowrap=\"\"><img src=\"./flags/jpn.gif\"/>\\xa0JPN</td>]\n",
      "Judge No.8 \r\n",
      "hi\n",
      " Mr. Tetsuo ABE hi\n",
      " JPN hi\n",
      "\n",
      "<tr class=\"Blue1\">\n",
      "<td class=\"Left\">Judge No.9 \r\n",
      "</td>\n",
      "<td class=\"Left\" nowrap=\"\"> Ms. Jung-Sue LEE </td>\n",
      "<td nowrap=\"\"><img src=\"./flags/kor.gif\"/> KOR</td></tr> [u'\\n', <td class=\"Left\">Judge No.9\\xa0\\r\\n</td>, u'\\n', <td class=\"Left\" nowrap=\"\">\\xa0Ms.\\xa0Jung-Sue\\xa0LEE\\xa0</td>, u'\\n', <td nowrap=\"\"><img src=\"./flags/kor.gif\"/>\\xa0KOR</td>]\n",
      "[<td class=\"Left\">Judge No.9\\xa0\\r\\n</td>, <td class=\"Left\" nowrap=\"\">\\xa0Ms.\\xa0Jung-Sue\\xa0LEE\\xa0</td>, <td nowrap=\"\"><img src=\"./flags/kor.gif\"/>\\xa0KOR</td>]\n",
      "Judge No.9 \r\n",
      "hi\n",
      " Ms. Jung-Sue LEE hi\n",
      " KOR hi\n",
      "\n",
      "<tr class=\"HeaderBlue\"><td colspan=\"3\"> </td></tr> [<td colspan=\"3\">\\xa0</td>]\n",
      "[<td colspan=\"3\">\\xa0</td>]\n",
      "\n",
      "<tr class=\"Blue0\">\n",
      "<td class=\"Left\">\r\n",
      "Data Operator</td>\n",
      "<td class=\"Left\" nowrap=\"\"> Mr. Jun OKADA </td>\n",
      "<td nowrap=\"\"><img src=\"./flags/isu.gif\"/> ISU</td></tr> [u'\\n', <td class=\"Left\">\\r\\nData Operator</td>, u'\\n', <td class=\"Left\" nowrap=\"\">\\xa0Mr.\\xa0Jun\\xa0OKADA\\xa0</td>, u'\\n', <td nowrap=\"\"><img src=\"./flags/isu.gif\"/>\\xa0ISU</td>]\n",
      "[<td class=\"Left\">\\r\\nData Operator</td>, <td class=\"Left\" nowrap=\"\">\\xa0Mr.\\xa0Jun\\xa0OKADA\\xa0</td>, <td nowrap=\"\"><img src=\"./flags/isu.gif\"/>\\xa0ISU</td>]\n",
      "\r\n",
      "Data Operator hi\n",
      " Mr. Jun OKADA hi\n",
      " ISU hi\n",
      "\n",
      "<tr class=\"Blue1\">\n",
      "<td class=\"Left\">\r\n",
      "Replay Operator</td>\n",
      "<td class=\"Left\" nowrap=\"\"> Ms. Julia DEGENHARDT </td>\n",
      "<td nowrap=\"\"><img src=\"./flags/isu.gif\"/> ISU</td></tr> [u'\\n', <td class=\"Left\">\\r\\nReplay Operator</td>, u'\\n', <td class=\"Left\" nowrap=\"\">\\xa0Ms.\\xa0Julia\\xa0DEGENHARDT\\xa0</td>, u'\\n', <td nowrap=\"\"><img src=\"./flags/isu.gif\"/>\\xa0ISU</td>]\n",
      "[<td class=\"Left\">\\r\\nReplay Operator</td>, <td class=\"Left\" nowrap=\"\">\\xa0Ms.\\xa0Julia\\xa0DEGENHARDT\\xa0</td>, <td nowrap=\"\"><img src=\"./flags/isu.gif\"/>\\xa0ISU</td>]\n",
      "\r\n",
      "Replay Operator hi\n",
      " Ms. Julia DEGENHARDT hi\n",
      " ISU hi\n",
      "\n"
     ]
    }
   ],
   "source": [
    "for tr in soup.find_all(attrs={'class': True}, name='tr'):\n",
    "    print tr, tr.contents\n",
    "    contents = [elt for elt in tr.contents if elt != '\\n']\n",
    "    print contents\n",
    "    if len(contents) != 3 or contents[0].name != 'td':\n",
    "        print\n",
    "        continue\n",
    "    for thing in contents:\n",
    "        if thing.text.strip() == 'Function':\n",
    "            break\n",
    "        print thing.text, 'hi'\n",
    "    print"
   ]
  },
  {
   "cell_type": "code",
   "execution_count": null,
   "metadata": {
    "collapsed": true
   },
   "outputs": [],
   "source": [
    "spuo"
   ]
  }
 ],
 "metadata": {
  "kernelspec": {
   "display_name": "Python 2",
   "language": "python",
   "name": "python2"
  },
  "language_info": {
   "codemirror_mode": {
    "name": "ipython",
    "version": 2
   },
   "file_extension": ".py",
   "mimetype": "text/x-python",
   "name": "python",
   "nbconvert_exporter": "python",
   "pygments_lexer": "ipython2",
   "version": "2.7.13"
  }
 },
 "nbformat": 4,
 "nbformat_minor": 2
}
