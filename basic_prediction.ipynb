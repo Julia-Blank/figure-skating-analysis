{
 "cells": [
  {
   "cell_type": "code",
   "execution_count": 1,
   "metadata": {
    "collapsed": false
   },
   "outputs": [
    {
     "name": "stderr",
     "output_type": "stream",
     "text": [
      "/anaconda/lib/python2.7/site-packages/statsmodels/compat/pandas.py:56: FutureWarning: The pandas.core.datetools module is deprecated and will be removed in a future version. Please use the pandas.tseries module instead.\n",
      "  from pandas.core import datetools\n"
     ]
    }
   ],
   "source": [
    "%matplotlib inline\n",
    "\n",
    "from collections import OrderedDict\n",
    "import json\n",
    "import math\n",
    "import matplotlib.pyplot as plt\n",
    "import numpy as np\n",
    "import pandas as pd\n",
    "import pickle\n",
    "import statsmodels.api as sm"
   ]
  },
  {
   "cell_type": "code",
   "execution_count": 2,
   "metadata": {
    "collapsed": false
   },
   "outputs": [
    {
     "name": "stdout",
     "output_type": "stream",
     "text": [
      "2006 2007 2008 2009 2010 2011 2012 2013 2014 2015 2016 2017 2018\n"
     ]
    }
   ],
   "source": [
    "with open('seasons.pickle') as f:\n",
    "    seasons = pickle.load(f)\n",
    "for year, season in seasons.iteritems():\n",
    "    print year,\n",
    "    season.load_scores()"
   ]
  },
  {
   "cell_type": "code",
   "execution_count": 3,
   "metadata": {
    "collapsed": false
   },
   "outputs": [],
   "source": [
    "events = {}\n",
    "for season in seasons.values():\n",
    "    events.update(season.event_dict)"
   ]
  },
  {
   "cell_type": "code",
   "execution_count": 2,
   "metadata": {
    "collapsed": true
   },
   "outputs": [],
   "source": [
    "skaters = {}\n",
    "for discipline in ('men', 'ladies', 'pairs', 'dance'):\n",
    "    skaters[discipline] = pd.read_csv('pd_data/results_nowd_nofra15_' + discipline + '.csv')"
   ]
  },
  {
   "cell_type": "code",
   "execution_count": 5,
   "metadata": {
    "collapsed": true
   },
   "outputs": [],
   "source": [
    "with open('pd_data/name_fixes_all.json') as f:\n",
    "    name_fixes = json.load(f)"
   ]
  },
  {
   "cell_type": "code",
   "execution_count": 69,
   "metadata": {
    "collapsed": false
   },
   "outputs": [],
   "source": [
    "# for discipline, df in skaters.iteritems():\n",
    "#     df.to_csv('pd_data/results_nowd_nofra15_' + discipline + '.csv')"
   ]
  },
  {
   "cell_type": "code",
   "execution_count": 16,
   "metadata": {
    "collapsed": true
   },
   "outputs": [],
   "source": [
    "discipline = 'dance'"
   ]
  },
  {
   "cell_type": "code",
   "execution_count": 17,
   "metadata": {
    "collapsed": true
   },
   "outputs": [],
   "source": [
    "df_2017 = skaters[discipline][skaters[discipline].Season == 2017]\n",
    "have_free = df_2017[df_2017['Free Start'].notnull()]"
   ]
  },
  {
   "cell_type": "code",
   "execution_count": 18,
   "metadata": {
    "collapsed": false
   },
   "outputs": [
    {
     "data": {
      "text/plain": [
       "(142, 57)"
      ]
     },
     "execution_count": 18,
     "metadata": {},
     "output_type": "execute_result"
    }
   ],
   "source": [
    "len(df_2017), len(df_2017.Name.unique())"
   ]
  },
  {
   "cell_type": "code",
   "execution_count": 19,
   "metadata": {
    "collapsed": false
   },
   "outputs": [
    {
     "data": {
      "text/plain": [
       "(120, 46)"
      ]
     },
     "execution_count": 19,
     "metadata": {},
     "output_type": "execute_result"
    }
   ],
   "source": [
    "len(have_free), len(have_free.Name.unique())"
   ]
  },
  {
   "cell_type": "code",
   "execution_count": 7,
   "metadata": {
    "collapsed": false
   },
   "outputs": [
    {
     "data": {
      "text/plain": [
       "170"
      ]
     },
     "execution_count": 7,
     "metadata": {},
     "output_type": "execute_result"
    }
   ],
   "source": [
    "# only grab 2017 results where there are start orders\n",
    "start_order = skaters['men'][skaters['men']['Short Start'].notnull()]\n",
    "start_order17 = start_order[start_order.Season == 2017]\n",
    "len(start_order17)"
   ]
  },
  {
   "cell_type": "code",
   "execution_count": 8,
   "metadata": {
    "collapsed": false
   },
   "outputs": [
    {
     "data": {
      "text/plain": [
       "76"
      ]
     },
     "execution_count": 8,
     "metadata": {},
     "output_type": "execute_result"
    }
   ],
   "source": [
    "len(start_order17.Name.unique())"
   ]
  },
  {
   "cell_type": "code",
   "execution_count": 9,
   "metadata": {
    "collapsed": false
   },
   "outputs": [
    {
     "data": {
      "text/html": [
       "<div>\n",
       "<style scoped>\n",
       "    .dataframe tbody tr th:only-of-type {\n",
       "        vertical-align: middle;\n",
       "    }\n",
       "\n",
       "    .dataframe tbody tr th {\n",
       "        vertical-align: top;\n",
       "    }\n",
       "\n",
       "    .dataframe thead th {\n",
       "        text-align: right;\n",
       "    }\n",
       "</style>\n",
       "<table border=\"1\" class=\"dataframe\">\n",
       "  <thead>\n",
       "    <tr style=\"text-align: right;\">\n",
       "      <th></th>\n",
       "      <th>Unnamed: 0</th>\n",
       "      <th>Unnamed: 0.1</th>\n",
       "      <th>Date</th>\n",
       "      <th>Event</th>\n",
       "      <th>Free Rank</th>\n",
       "      <th>Free Score</th>\n",
       "      <th>Name</th>\n",
       "      <th>Nation</th>\n",
       "      <th>Points</th>\n",
       "      <th>Rank</th>\n",
       "      <th>Short Rank</th>\n",
       "      <th>Short Score</th>\n",
       "      <th>Num Short Scorecards</th>\n",
       "      <th>Num Free Scorecards</th>\n",
       "      <th>Short Start</th>\n",
       "      <th>Free Start</th>\n",
       "      <th>Season</th>\n",
       "    </tr>\n",
       "  </thead>\n",
       "  <tbody>\n",
       "    <tr>\n",
       "      <th>1891</th>\n",
       "      <td>1891</td>\n",
       "      <td>0</td>\n",
       "      <td>2016-10-23</td>\n",
       "      <td>gpusa2016</td>\n",
       "      <td>1</td>\n",
       "      <td>190.19</td>\n",
       "      <td>Shoma UNO</td>\n",
       "      <td>JPN</td>\n",
       "      <td>279.34</td>\n",
       "      <td>1</td>\n",
       "      <td>1.0</td>\n",
       "      <td>89.15</td>\n",
       "      <td>10</td>\n",
       "      <td>10</td>\n",
       "      <td>9.0</td>\n",
       "      <td>9.0</td>\n",
       "      <td>2017</td>\n",
       "    </tr>\n",
       "    <tr>\n",
       "      <th>1892</th>\n",
       "      <td>1892</td>\n",
       "      <td>1</td>\n",
       "      <td>2016-10-23</td>\n",
       "      <td>gpusa2016</td>\n",
       "      <td>2</td>\n",
       "      <td>182.63</td>\n",
       "      <td>Jason BROWN</td>\n",
       "      <td>USA</td>\n",
       "      <td>268.38</td>\n",
       "      <td>2</td>\n",
       "      <td>3.0</td>\n",
       "      <td>85.75</td>\n",
       "      <td>10</td>\n",
       "      <td>10</td>\n",
       "      <td>8.0</td>\n",
       "      <td>10.0</td>\n",
       "      <td>2017</td>\n",
       "    </tr>\n",
       "    <tr>\n",
       "      <th>1893</th>\n",
       "      <td>1893</td>\n",
       "      <td>2</td>\n",
       "      <td>2016-10-23</td>\n",
       "      <td>gpusa2016</td>\n",
       "      <td>3</td>\n",
       "      <td>174.11</td>\n",
       "      <td>Adam RIPPON</td>\n",
       "      <td>USA</td>\n",
       "      <td>261.43</td>\n",
       "      <td>3</td>\n",
       "      <td>2.0</td>\n",
       "      <td>87.32</td>\n",
       "      <td>10</td>\n",
       "      <td>10</td>\n",
       "      <td>10.0</td>\n",
       "      <td>8.0</td>\n",
       "      <td>2017</td>\n",
       "    </tr>\n",
       "  </tbody>\n",
       "</table>\n",
       "</div>"
      ],
      "text/plain": [
       "      Unnamed: 0  Unnamed: 0.1        Date      Event Free Rank Free Score  \\\n",
       "1891        1891             0  2016-10-23  gpusa2016         1     190.19   \n",
       "1892        1892             1  2016-10-23  gpusa2016         2     182.63   \n",
       "1893        1893             2  2016-10-23  gpusa2016         3     174.11   \n",
       "\n",
       "             Name Nation  Points Rank  Short Rank  Short Score  \\\n",
       "1891    Shoma UNO    JPN  279.34    1         1.0        89.15   \n",
       "1892  Jason BROWN    USA  268.38    2         3.0        85.75   \n",
       "1893  Adam RIPPON    USA  261.43    3         2.0        87.32   \n",
       "\n",
       "      Num Short Scorecards  Num Free Scorecards  Short Start  Free Start  \\\n",
       "1891                    10                   10          9.0         9.0   \n",
       "1892                    10                   10          8.0        10.0   \n",
       "1893                    10                   10         10.0         8.0   \n",
       "\n",
       "      Season  \n",
       "1891    2017  \n",
       "1892    2017  \n",
       "1893    2017  "
      ]
     },
     "execution_count": 9,
     "metadata": {},
     "output_type": "execute_result"
    }
   ],
   "source": [
    "start_order17[:3]"
   ]
  },
  {
   "cell_type": "code",
   "execution_count": 10,
   "metadata": {
    "collapsed": false
   },
   "outputs": [
    {
     "data": {
      "text/plain": [
       "1891"
      ]
     },
     "execution_count": 10,
     "metadata": {},
     "output_type": "execute_result"
    }
   ],
   "source": [
    "history = skaters['men'][skaters['men'].Season != 2017]\n",
    "len(history)"
   ]
  },
  {
   "cell_type": "code",
   "execution_count": 11,
   "metadata": {
    "collapsed": false
   },
   "outputs": [
    {
     "data": {
      "text/plain": [
       "281"
      ]
     },
     "execution_count": 11,
     "metadata": {},
     "output_type": "execute_result"
    }
   ],
   "source": [
    "individual_bests_short = {skater: np.max(map(float, history[history.Name == skater]['Short Score']))\n",
    "                          for skater in history.Name.get_values()}\n",
    "len(individual_bests_short)"
   ]
  },
  {
   "cell_type": "code",
   "execution_count": 12,
   "metadata": {
    "collapsed": false
   },
   "outputs": [
    {
     "data": {
      "text/plain": [
       "224"
      ]
     },
     "execution_count": 12,
     "metadata": {},
     "output_type": "execute_result"
    }
   ],
   "source": [
    "have_frees = history[history['Free Rank'] != 'DNQ']\n",
    "have_frees = have_frees[have_frees['Free Rank'] != 'WD']\n",
    "individual_bests_free = {skater: np.max(map(float, have_frees[have_frees.Name == skater]['Free Score']))\n",
    "                         for skater in have_frees.Name.get_values()}\n",
    "len(individual_bests_free)"
   ]
  },
  {
   "cell_type": "code",
   "execution_count": 13,
   "metadata": {
    "collapsed": false
   },
   "outputs": [
    {
     "data": {
      "text/plain": [
       "(60.810000000000002, 123.035)"
      ]
     },
     "execution_count": 13,
     "metadata": {},
     "output_type": "execute_result"
    }
   ],
   "source": [
    "med_short = np.median(individual_bests_short.values())\n",
    "med_free = np.median(individual_bests_free.values())\n",
    "med_short, med_free"
   ]
  },
  {
   "cell_type": "code",
   "execution_count": 14,
   "metadata": {
    "collapsed": false
   },
   "outputs": [],
   "source": [
    "start = []        # normalized start order b/w 0 and 1, closer to 1 is later\n",
    "reputation = []   # maximum of historical total scores. if no history, then median of existing skaters'\n",
    "score = []\n",
    "skaters_short = []\n",
    "\n",
    "start_free = []\n",
    "reputation_free = []\n",
    "score_free = []\n",
    "skaters_free = []\n",
    "\n",
    "for idx, row in start_order17.iterrows():\n",
    "    start.append(row.loc['Short Start'] / float(row.loc['Num Short Scorecards']))\n",
    "    if row.Name in individual_bests_short:\n",
    "        reputation.append(individual_bests_short[row.Name])\n",
    "    else:\n",
    "        reputation.append(med_short)\n",
    "    score.append(row.loc['Short Score'])\n",
    "    skaters_short.append(row.loc['Name'])\n",
    "    \n",
    "    if pd.notnull(row.loc['Free Start']):\n",
    "        start_free.append(row.loc['Free Start'] /  float(row.loc['Num Free Scorecards']))\n",
    "        if row.Name in individual_bests_free:\n",
    "            reputation_free.append(individual_bests_free[row.Name])\n",
    "        else:\n",
    "            reputation_free.append(med_free)\n",
    "        score_free.append(row.loc['Free Score'])\n",
    "        skaters_free.append(row.loc['Name'])"
   ]
  },
  {
   "cell_type": "code",
   "execution_count": 15,
   "metadata": {
    "collapsed": false
   },
   "outputs": [
    {
     "data": {
      "text/plain": [
       "(76, 170)"
      ]
     },
     "execution_count": 15,
     "metadata": {},
     "output_type": "execute_result"
    }
   ],
   "source": [
    "start_order17.Name.unique().size, len(start_order17)"
   ]
  },
  {
   "cell_type": "code",
   "execution_count": 16,
   "metadata": {
    "collapsed": false
   },
   "outputs": [
    {
     "data": {
      "text/plain": [
       "62"
      ]
     },
     "execution_count": 16,
     "metadata": {},
     "output_type": "execute_result"
    }
   ],
   "source": [
    "have_frees17 = start_order17[start_order17['Free Rank'] != 'DNQ']\n",
    "have_frees17 = have_frees17[have_frees17['Free Rank'] != 'WD']\n",
    "len(have_frees17.Name.unique())"
   ]
  },
  {
   "cell_type": "code",
   "execution_count": 17,
   "metadata": {
    "collapsed": false
   },
   "outputs": [
    {
     "data": {
      "text/plain": [
       "(170, 170, 170)"
      ]
     },
     "execution_count": 17,
     "metadata": {},
     "output_type": "execute_result"
    }
   ],
   "source": [
    "len(start), len(reputation), len(score)"
   ]
  },
  {
   "cell_type": "code",
   "execution_count": 18,
   "metadata": {
    "collapsed": false
   },
   "outputs": [
    {
     "data": {
      "text/plain": [
       "(144, 144, 144)"
      ]
     },
     "execution_count": 18,
     "metadata": {},
     "output_type": "execute_result"
    }
   ],
   "source": [
    "len(start_free), len(reputation_free), len(score_free)"
   ]
  },
  {
   "cell_type": "code",
   "execution_count": 19,
   "metadata": {
    "collapsed": false
   },
   "outputs": [],
   "source": [
    "# Model: short_score = reputation + start_order\n",
    "X = pd.DataFrame({'Reputation': reputation}).astype(float) #, 'Start Number': start}).astype(float)\n",
    "X = sm.add_constant(X)\n",
    "y_short = pd.Series(score).astype(float)"
   ]
  },
  {
   "cell_type": "code",
   "execution_count": 20,
   "metadata": {
    "collapsed": false
   },
   "outputs": [
    {
     "name": "stdout",
     "output_type": "stream",
     "text": [
      "                            OLS Regression Results                            \n",
      "==============================================================================\n",
      "Dep. Variable:                      y   R-squared:                       0.569\n",
      "Model:                            OLS   Adj. R-squared:                  0.567\n",
      "Method:                 Least Squares   F-statistic:                     222.2\n",
      "Date:                Sun, 18 Mar 2018   Prob (F-statistic):           1.48e-32\n",
      "Time:                        19:14:20   Log-Likelihood:                -624.90\n",
      "No. Observations:                 170   AIC:                             1254.\n",
      "Df Residuals:                     168   BIC:                             1260.\n",
      "Df Model:                           1                                         \n",
      "Covariance Type:            nonrobust                                         \n",
      "==============================================================================\n",
      "                 coef    std err          t      P>|t|      [0.025      0.975]\n",
      "------------------------------------------------------------------------------\n",
      "const         19.1958      3.806      5.043      0.000      11.682      26.710\n",
      "Reputation     0.7211      0.048     14.906      0.000       0.626       0.817\n",
      "==============================================================================\n",
      "Omnibus:                       24.876   Durbin-Watson:                   1.514\n",
      "Prob(Omnibus):                  0.000   Jarque-Bera (JB):               56.727\n",
      "Skew:                           0.625   Prob(JB):                     4.81e-13\n",
      "Kurtosis:                       5.538   Cond. No.                         406.\n",
      "==============================================================================\n",
      "\n",
      "Warnings:\n",
      "[1] Standard Errors assume that the covariance matrix of the errors is correctly specified.\n"
     ]
    }
   ],
   "source": [
    "mod_short = sm.OLS(y_short, X).fit()\n",
    "print mod_short.summary()"
   ]
  },
  {
   "cell_type": "code",
   "execution_count": 21,
   "metadata": {
    "collapsed": false
   },
   "outputs": [],
   "source": [
    "# sm.OLS(y_short, X).fit_regularized().summary()"
   ]
  },
  {
   "cell_type": "code",
   "execution_count": 27,
   "metadata": {
    "collapsed": false
   },
   "outputs": [],
   "source": [
    "outliers = mod_short.outlier_test()"
   ]
  },
  {
   "cell_type": "code",
   "execution_count": 28,
   "metadata": {
    "collapsed": false
   },
   "outputs": [
    {
     "data": {
      "text/html": [
       "<div>\n",
       "<style scoped>\n",
       "    .dataframe tbody tr th:only-of-type {\n",
       "        vertical-align: middle;\n",
       "    }\n",
       "\n",
       "    .dataframe tbody tr th {\n",
       "        vertical-align: top;\n",
       "    }\n",
       "\n",
       "    .dataframe thead th {\n",
       "        text-align: right;\n",
       "    }\n",
       "</style>\n",
       "<table border=\"1\" class=\"dataframe\">\n",
       "  <thead>\n",
       "    <tr style=\"text-align: right;\">\n",
       "      <th></th>\n",
       "      <th>student_resid</th>\n",
       "      <th>unadj_p</th>\n",
       "      <th>bonf(p)</th>\n",
       "    </tr>\n",
       "  </thead>\n",
       "  <tbody>\n",
       "    <tr>\n",
       "      <th>24</th>\n",
       "      <td>3.076438</td>\n",
       "      <td>0.002527</td>\n",
       "      <td>0.358800</td>\n",
       "    </tr>\n",
       "    <tr>\n",
       "      <th>25</th>\n",
       "      <td>3.278955</td>\n",
       "      <td>0.001319</td>\n",
       "      <td>0.187265</td>\n",
       "    </tr>\n",
       "    <tr>\n",
       "      <th>109</th>\n",
       "      <td>-3.177197</td>\n",
       "      <td>0.001835</td>\n",
       "      <td>0.260606</td>\n",
       "    </tr>\n",
       "    <tr>\n",
       "      <th>127</th>\n",
       "      <td>2.853080</td>\n",
       "      <td>0.004997</td>\n",
       "      <td>0.709558</td>\n",
       "    </tr>\n",
       "  </tbody>\n",
       "</table>\n",
       "</div>"
      ],
      "text/plain": [
       "     student_resid   unadj_p   bonf(p)\n",
       "24        3.076438  0.002527  0.358800\n",
       "25        3.278955  0.001319  0.187265\n",
       "109      -3.177197  0.001835  0.260606\n",
       "127       2.853080  0.004997  0.709558"
      ]
     },
     "execution_count": 28,
     "metadata": {},
     "output_type": "execute_result"
    }
   ],
   "source": [
    "outliers[outliers['bonf(p)'] < 0.8]"
   ]
  },
  {
   "cell_type": "code",
   "execution_count": 30,
   "metadata": {
    "collapsed": false
   },
   "outputs": [
    {
     "name": "stdout",
     "output_type": "stream",
     "text": [
      " Tiffany ZAHORSKI / Jonathan GUERREIRO 64.28\n",
      "Elliana POGREBINSKY / Alex BENOIT 62.93\n",
      "Kimberley HEW-LOW / Timothy MCKERNAN 33.54\n",
      "Olivia SMART / Adria DIAZ 60.93\n"
     ]
    }
   ],
   "source": [
    "for index in (24, 25, 109, 127):\n",
    "    print skaters_short[index], y_short[index]"
   ]
  },
  {
   "cell_type": "code",
   "execution_count": 22,
   "metadata": {
    "collapsed": false
   },
   "outputs": [
    {
     "data": {
      "text/plain": [
       "('Nathan CHEN', 'Daniel SAMOHIN', 'Nathan CHEN', 'Nathan CHEN')"
      ]
     },
     "execution_count": 22,
     "metadata": {},
     "output_type": "execute_result"
    }
   ],
   "source": [
    "skaters_short[56], skaters_short[104], skaters_short[108], skaters_short[139]"
   ]
  },
  {
   "cell_type": "code",
   "execution_count": 27,
   "metadata": {
    "collapsed": false
   },
   "outputs": [
    {
     "data": {
      "text/plain": [
       "(50.33, 103.12, 97.33)"
      ]
     },
     "execution_count": 27,
     "metadata": {},
     "output_type": "execute_result"
    }
   ],
   "source": [
    "score[104], score[108], score[139]"
   ]
  },
  {
   "cell_type": "code",
   "execution_count": 44,
   "metadata": {
    "collapsed": false
   },
   "outputs": [
    {
     "data": {
      "text/plain": [
       "<matplotlib.legend.Legend at 0x10b294910>"
      ]
     },
     "execution_count": 44,
     "metadata": {},
     "output_type": "execute_result"
    },
    {
     "data": {
      "image/png": "[encoded data removed]",
      "text/plain": [
       "<matplotlib.figure.Figure at 0x120f5f6d0>"
      ]
     },
     "metadata": {},
     "output_type": "display_data"
    }
   ],
   "source": [
    "short_pred = mod_short.predict(X)\n",
    "fig, ax = plt.subplots()\n",
    "ax.plot(start, y_short, 'o', label=\"Data\")\n",
    "ax.plot(start, short_pred, 'ro', label='Predict')\n",
    "ax.legend(loc=\"best\")"
   ]
  },
  {
   "cell_type": "code",
   "execution_count": 54,
   "metadata": {
    "collapsed": false
   },
   "outputs": [
    {
     "data": {
      "text/plain": [
       "<matplotlib.text.Text at 0x1219c8210>"
      ]
     },
     "execution_count": 54,
     "metadata": {},
     "output_type": "execute_result"
    },
    {
     "data": {
      "image/png": "[encoded data removed]",
      "text/plain": [
       "<matplotlib.figure.Figure at 0x1218b2090>"
      ]
     },
     "metadata": {},
     "output_type": "display_data"
    }
   ],
   "source": [
    "# fig, ax = plt.subplots()\n",
    "plt.plot(reputation, y_short, 'o', label=\"Data\")\n",
    "plt.plot(reputation, short_pred, 'ro', label=\"Predictions\")\n",
    "plt.legend(loc=\"best\")\n",
    "plt.title('Observed and Fitted Short Dance Scores vs. Reputation, 2016-2017')\n",
    "plt.xlabel('Personal Best Short Dance Score')\n",
    "plt.ylabel('Observed Short Dance Score')"
   ]
  },
  {
   "cell_type": "code",
   "execution_count": 55,
   "metadata": {
    "collapsed": false
   },
   "outputs": [],
   "source": [
    "# Model: free_score = reputation + start_order\n",
    "X_free = pd.DataFrame({'Reputation': reputation_free, 'Start Number': start_free}).astype(float)\n",
    "X_free = sm.add_constant(X_free)\n",
    "y_free = pd.Series(score_free).astype(float)"
   ]
  },
  {
   "cell_type": "code",
   "execution_count": 56,
   "metadata": {
    "collapsed": false
   },
   "outputs": [
    {
     "name": "stdout",
     "output_type": "stream",
     "text": [
      "                            OLS Regression Results                            \n",
      "==============================================================================\n",
      "Dep. Variable:                      y   R-squared:                       0.828\n",
      "Model:                            OLS   Adj. R-squared:                  0.825\n",
      "Method:                 Least Squares   F-statistic:                     280.8\n",
      "Date:                Thu, 15 Mar 2018   Prob (F-statistic):           2.18e-45\n",
      "Time:                        13:24:46   Log-Likelihood:                -385.33\n",
      "No. Observations:                 120   AIC:                             776.7\n",
      "Df Residuals:                     117   BIC:                             785.0\n",
      "Df Model:                           2                                         \n",
      "Covariance Type:            nonrobust                                         \n",
      "================================================================================\n",
      "                   coef    std err          t      P>|t|      [0.025      0.975]\n",
      "--------------------------------------------------------------------------------\n",
      "const           21.5212      4.946      4.351      0.000      11.725      31.317\n",
      "Reputation       0.7030      0.065     10.780      0.000       0.574       0.832\n",
      "Start Number    12.6694      3.234      3.917      0.000       6.264      19.075\n",
      "==============================================================================\n",
      "Omnibus:                       39.545   Durbin-Watson:                   1.767\n",
      "Prob(Omnibus):                  0.000   Jarque-Bera (JB):              108.904\n",
      "Skew:                          -1.217   Prob(JB):                     2.25e-24\n",
      "Kurtosis:                       6.981   Cond. No.                         951.\n",
      "==============================================================================\n",
      "\n",
      "Warnings:\n",
      "[1] Standard Errors assume that the covariance matrix of the errors is correctly specified.\n"
     ]
    }
   ],
   "source": [
    "mod_free = sm.OLS(y_free, X_free).fit()\n",
    "print mod_free.summary()"
   ]
  },
  {
   "cell_type": "code",
   "execution_count": 57,
   "metadata": {
    "collapsed": true
   },
   "outputs": [],
   "source": [
    "outliers_free = mod_free.outlier_test()"
   ]
  },
  {
   "cell_type": "code",
   "execution_count": 58,
   "metadata": {
    "collapsed": false
   },
   "outputs": [
    {
     "data": {
      "text/html": [
       "<div>\n",
       "<style scoped>\n",
       "    .dataframe tbody tr th:only-of-type {\n",
       "        vertical-align: middle;\n",
       "    }\n",
       "\n",
       "    .dataframe tbody tr th {\n",
       "        vertical-align: top;\n",
       "    }\n",
       "\n",
       "    .dataframe thead th {\n",
       "        text-align: right;\n",
       "    }\n",
       "</style>\n",
       "<table border=\"1\" class=\"dataframe\">\n",
       "  <thead>\n",
       "    <tr style=\"text-align: right;\">\n",
       "      <th></th>\n",
       "      <th>student_resid</th>\n",
       "      <th>unadj_p</th>\n",
       "      <th>bonf(p)</th>\n",
       "    </tr>\n",
       "  </thead>\n",
       "  <tbody>\n",
       "    <tr>\n",
       "      <th>97</th>\n",
       "      <td>-3.469185</td>\n",
       "      <td>7.335949e-04</td>\n",
       "      <td>0.088031</td>\n",
       "    </tr>\n",
       "    <tr>\n",
       "      <th>99</th>\n",
       "      <td>-5.251572</td>\n",
       "      <td>6.918374e-07</td>\n",
       "      <td>0.000083</td>\n",
       "    </tr>\n",
       "  </tbody>\n",
       "</table>\n",
       "</div>"
      ],
      "text/plain": [
       "    student_resid       unadj_p   bonf(p)\n",
       "97      -3.469185  7.335949e-04  0.088031\n",
       "99      -5.251572  6.918374e-07  0.000083"
      ]
     },
     "execution_count": 58,
     "metadata": {},
     "output_type": "execute_result"
    }
   ],
   "source": [
    "outliers_free[outliers_free['bonf(p)'] < 0.8]"
   ]
  },
  {
   "cell_type": "code",
   "execution_count": 60,
   "metadata": {
    "collapsed": false
   },
   "outputs": [
    {
     "name": "stdout",
     "output_type": "stream",
     "text": [
      "Adele MORRISON / Demid ROKACHEV 58.48\n",
      "Kimberley HEW-LOW / Timothy MCKERNAN 51.43 78.62\n"
     ]
    }
   ],
   "source": [
    "print skaters_free[97], y_free[97]\n",
    "print skaters_free[99], y_free[99], med_free"
   ]
  },
  {
   "cell_type": "code",
   "execution_count": 31,
   "metadata": {
    "collapsed": false
   },
   "outputs": [
    {
     "data": {
      "text/html": [
       "<div>\n",
       "<table border=\"1\" class=\"dataframe\">\n",
       "  <thead>\n",
       "    <tr style=\"text-align: right;\">\n",
       "      <th></th>\n",
       "      <th>Unnamed: 0</th>\n",
       "      <th>Unnamed: 0.1</th>\n",
       "      <th>Date</th>\n",
       "      <th>Event</th>\n",
       "      <th>Free Rank</th>\n",
       "      <th>Free Score</th>\n",
       "      <th>Name</th>\n",
       "      <th>Nation</th>\n",
       "      <th>Points</th>\n",
       "      <th>Rank</th>\n",
       "      <th>Short Rank</th>\n",
       "      <th>Short Score</th>\n",
       "      <th>Num Short Scorecards</th>\n",
       "      <th>Num Free Scorecards</th>\n",
       "      <th>Short Start</th>\n",
       "      <th>Free Start</th>\n",
       "      <th>Season</th>\n",
       "    </tr>\n",
       "  </thead>\n",
       "  <tbody>\n",
       "    <tr>\n",
       "      <th>2022</th>\n",
       "      <td>2022</td>\n",
       "      <td>11</td>\n",
       "      <td>2016-11-06</td>\n",
       "      <td>gprus2016</td>\n",
       "      <td>12</td>\n",
       "      <td>78.88</td>\n",
       "      <td>Julia LIPNITSKAIA</td>\n",
       "      <td>RUS</td>\n",
       "      <td>148.13</td>\n",
       "      <td>12</td>\n",
       "      <td>3</td>\n",
       "      <td>69.25</td>\n",
       "      <td>12</td>\n",
       "      <td>12</td>\n",
       "      <td>4.0</td>\n",
       "      <td>10.0</td>\n",
       "      <td>2017</td>\n",
       "    </tr>\n",
       "  </tbody>\n",
       "</table>\n",
       "</div>"
      ],
      "text/plain": [
       "      Unnamed: 0  Unnamed: 0.1        Date      Event Free Rank Free Score  \\\n",
       "2022        2022            11  2016-11-06  gprus2016        12      78.88   \n",
       "\n",
       "                   Name Nation  Points Rank  Short Rank  Short Score  \\\n",
       "2022  Julia LIPNITSKAIA    RUS  148.13   12           3        69.25   \n",
       "\n",
       "      Num Short Scorecards  Num Free Scorecards  Short Start  Free Start  \\\n",
       "2022                    12                   12          4.0        10.0   \n",
       "\n",
       "      Season  \n",
       "2022    2017  "
      ]
     },
     "execution_count": 31,
     "metadata": {},
     "output_type": "execute_result"
    }
   ],
   "source": [
    "start_order17[start_order17.Name == 'Julia LIPNITSKAIA']"
   ]
  },
  {
   "cell_type": "code",
   "execution_count": 30,
   "metadata": {
    "collapsed": false
   },
   "outputs": [
    {
     "data": {
      "text/plain": [
       "('Julia LIPNITSKAIA', '78.88')"
      ]
     },
     "execution_count": 30,
     "metadata": {},
     "output_type": "execute_result"
    }
   ],
   "source": [
    "skaters_free[33], score_free[33]"
   ]
  },
  {
   "cell_type": "code",
   "execution_count": 34,
   "metadata": {
    "collapsed": false
   },
   "outputs": [
    {
     "data": {
      "text/plain": [
       "('Evgenia TARASOVA / Vladimir MOROZOV', '110.7')"
      ]
     },
     "execution_count": 34,
     "metadata": {},
     "output_type": "execute_result"
    }
   ],
   "source": [
    "skaters_free[2], score_free[2]"
   ]
  },
  {
   "cell_type": "code",
   "execution_count": 36,
   "metadata": {
    "collapsed": false
   },
   "outputs": [
    {
     "data": {
      "text/plain": [
       "(134.27000000000001, 72.0)"
      ]
     },
     "execution_count": 36,
     "metadata": {},
     "output_type": "execute_result"
    }
   ],
   "source": [
    "individual_bests_free['Evgenia TARASOVA / Vladimir MOROZOV'], individual_bests_short['Evgenia TARASOVA / Vladimir MOROZOV']"
   ]
  },
  {
   "cell_type": "code",
   "execution_count": 32,
   "metadata": {
    "collapsed": false
   },
   "outputs": [
    {
     "data": {
      "text/plain": [
       "<matplotlib.collections.PathCollection at 0x12bf6a450>"
      ]
     },
     "execution_count": 32,
     "metadata": {},
     "output_type": "execute_result"
    },
    {
     "data": {
      "image/png": "[encoded data removed]",
      "text/plain": [
       "<matplotlib.figure.Figure at 0x12be73790>"
      ]
     },
     "metadata": {},
     "output_type": "display_data"
    }
   ],
   "source": [
    "plt.scatter(start_free, score_free)"
   ]
  },
  {
   "cell_type": "code",
   "execution_count": 62,
   "metadata": {
    "collapsed": false
   },
   "outputs": [
    {
     "data": {
      "text/plain": [
       "<matplotlib.legend.Legend at 0x1218121d0>"
      ]
     },
     "execution_count": 62,
     "metadata": {},
     "output_type": "execute_result"
    },
    {
     "data": {
      "image/png": "[encoded data removed]",
      "text/plain": [
       "<matplotlib.figure.Figure at 0x121a58950>"
      ]
     },
     "metadata": {},
     "output_type": "display_data"
    }
   ],
   "source": [
    "free_pred = mod_free.predict(X_free)\n",
    "plt.plot(start_free, y_free, 'o', label=\"Data\")\n",
    "plt.plot(start_free, free_pred, 'ro', label='Predict')\n",
    "plt.legend(loc=\"best\")"
   ]
  },
  {
   "cell_type": "code",
   "execution_count": 63,
   "metadata": {
    "collapsed": false
   },
   "outputs": [
    {
     "data": {
      "text/plain": [
       "<matplotlib.legend.Legend at 0x121784dd0>"
      ]
     },
     "execution_count": 63,
     "metadata": {},
     "output_type": "execute_result"
    },
    {
     "data": {
      "image/png": "[encoded data removed]",
      "text/plain": [
       "<matplotlib.figure.Figure at 0x121808190>"
      ]
     },
     "metadata": {},
     "output_type": "display_data"
    }
   ],
   "source": [
    "plt.plot(reputation_free, y_free, 'o', label=\"Data\")\n",
    "plt.plot(reputation_free, free_pred, 'ro', label=\"Predict\")\n",
    "plt.legend(loc=\"best\")"
   ]
  },
  {
   "cell_type": "code",
   "execution_count": 32,
   "metadata": {
    "collapsed": false
   },
   "outputs": [
    {
     "data": {
      "text/plain": [
       "<matplotlib.text.Text at 0x1229ae410>"
      ]
     },
     "execution_count": 32,
     "metadata": {},
     "output_type": "execute_result"
    },
    {
     "data": {
      "image/png": "[encoded data removed]",
      "text/plain": [
       "<matplotlib.figure.Figure at 0x122972490>"
      ]
     },
     "metadata": {},
     "output_type": "display_data"
    }
   ],
   "source": [
    "y_free.hist()\n",
    "plt.title('Men\\'s Free Skate Scores 2016-2017')\n",
    "plt.ylabel('Frequency')\n",
    "plt.xlabel('Free Skate Score')"
   ]
  },
  {
   "cell_type": "code",
   "execution_count": 33,
   "metadata": {
    "collapsed": false
   },
   "outputs": [
    {
     "data": {
      "text/plain": [
       "<matplotlib.text.Text at 0x122ba9ed0>"
      ]
     },
     "execution_count": 33,
     "metadata": {},
     "output_type": "execute_result"
    },
    {
     "data": {
      "image/png": "[encoded data removed]",
      "text/plain": [
       "<matplotlib.figure.Figure at 0x122afb1d0>"
      ]
     },
     "metadata": {},
     "output_type": "display_data"
    }
   ],
   "source": [
    "sm.qqplot(y_short, line='s')\n",
    "plt.title('QQPlot for Men\\'s Free Skate Scores 2016-2017')"
   ]
  },
  {
   "cell_type": "code",
   "execution_count": 38,
   "metadata": {
    "collapsed": false
   },
   "outputs": [
    {
     "name": "stdout",
     "output_type": "stream",
     "text": [
      "0.442679316173\n",
      "0.141371894957\n",
      "3.11851322514e-128\n"
     ]
    }
   ],
   "source": [
    "print sm.stats.diagnostic.kstest_normal(y_short)[1]\n",
    "print sm.stats.diagnostic.kstest_normal(y_free)[1]\n",
    "print sm.stats.diagnostic.kstest_normal(skaters['men'].Points)[1]"
   ]
  },
  {
   "cell_type": "code",
   "execution_count": null,
   "metadata": {
    "collapsed": true
   },
   "outputs": [],
   "source": [
    "# LET'S TRY JUST THE LAST TWO PERFORMANCES."
   ]
  },
  {
   "cell_type": "code",
   "execution_count": 127,
   "metadata": {
    "collapsed": false
   },
   "outputs": [],
   "source": [
    "short_hist = {skater: list(history[history.Name == skater]['Short Score'][-2:])\n",
    "              for skater in history.Name.get_values()}\n",
    "free_hist = {skater: list(have_frees[have_frees.Name == skater]['Free Score'][-2:])\n",
    "             for skater in have_frees.Name.get_values()}\n",
    "for skater in short_hist:\n",
    "    while len(short_hist[skater]) < 2:\n",
    "        short_hist[skater].append(0.)\n",
    "for skater in free_hist:\n",
    "    while len(free_hist[skater]) < 2:\n",
    "        free_hist[skater].append(0.)"
   ]
  },
  {
   "cell_type": "code",
   "execution_count": 128,
   "metadata": {
    "collapsed": true
   },
   "outputs": [],
   "source": [
    "prev_short_1 = []\n",
    "prev_short_2 = []\n",
    "short_score = []\n",
    "\n",
    "prev_free_1 = []\n",
    "prev_free_2 = []\n",
    "free_score = []\n",
    "\n",
    "for idx, row in start_order17.iterrows():\n",
    "    if row.Name in short_hist:\n",
    "        prev_short_1.append(short_hist[row.Name][0])\n",
    "        prev_short_2.append(short_hist[row.Name][1])\n",
    "    else:\n",
    "        prev_short_1.append(0.)\n",
    "        prev_short_2.append(0.)\n",
    "    short_score.append(row.loc['Short Score'])\n",
    "    \n",
    "    if pd.notnull(row.loc['Free Start']):\n",
    "        if row.Name in free_hist:\n",
    "            prev_free_1.append(free_hist[row.Name][0])\n",
    "            prev_free_2.append(free_hist[row.Name][1])\n",
    "        else:\n",
    "            prev_free_1.append(0.)\n",
    "            prev_free_2.append(0.)\n",
    "        free_score.append(row.loc['Free Score'])"
   ]
  },
  {
   "cell_type": "code",
   "execution_count": 131,
   "metadata": {
    "collapsed": false
   },
   "outputs": [
    {
     "name": "stdout",
     "output_type": "stream",
     "text": [
      "                            OLS Regression Results                            \n",
      "==============================================================================\n",
      "Dep. Variable:                      y   R-squared:                       0.483\n",
      "Model:                            OLS   Adj. R-squared:                  0.469\n",
      "Method:                 Least Squares   F-statistic:                     33.34\n",
      "Date:                Mon, 05 Feb 2018   Prob (F-statistic):           2.71e-15\n",
      "Time:                        22:50:17   Log-Likelihood:                -377.10\n",
      "No. Observations:                 111   AIC:                             762.2\n",
      "Df Residuals:                     107   BIC:                             773.0\n",
      "Df Model:                           3                                         \n",
      "Covariance Type:            nonrobust                                         \n",
      "===================================================================================\n",
      "                      coef    std err          t      P>|t|      [95.0% Conf. Int.]\n",
      "-----------------------------------------------------------------------------------\n",
      "const               8.9139      6.695      1.331      0.186        -4.359    22.186\n",
      "Last Last Score    -0.0752      0.047     -1.611      0.110        -0.168     0.017\n",
      "Last Score         -0.0642      0.045     -1.413      0.161        -0.154     0.026\n",
      "Reputation          0.9988      0.136      7.344      0.000         0.729     1.268\n",
      "==============================================================================\n",
      "Omnibus:                        0.289   Durbin-Watson:                   1.274\n",
      "Prob(Omnibus):                  0.866   Jarque-Bera (JB):                0.454\n",
      "Skew:                          -0.080   Prob(JB):                        0.797\n",
      "Kurtosis:                       2.731   Cond. No.                         890.\n",
      "==============================================================================\n",
      "\n",
      "Warnings:\n",
      "[1] Standard Errors assume that the covariance matrix of the errors is correctly specified.\n"
     ]
    }
   ],
   "source": [
    "# Model: short_score = last short score + short score before that\n",
    "X_short = pd.DataFrame({'Last Score': prev_short_1, 'Last Last Score': prev_short_2, # 'Start': start,\n",
    "                        'Reputation': reputation}).astype(float)\n",
    "X_short = sm.add_constant(X_short)\n",
    "y_short = pd.Series(short_score).astype(float)\n",
    "mod_short = sm.OLS(y_short, X_short).fit()\n",
    "print mod_short.summary()"
   ]
  },
  {
   "cell_type": "code",
   "execution_count": 37,
   "metadata": {
    "collapsed": false
   },
   "outputs": [],
   "source": [
    "# Model: free_score = last free score + free score before that\n",
    "X_free = pd.DataFrame({'Last Score': prev_free_1, 'Last Last Score': prev_free_2, 'Start': start_free,\n",
    "                       'Reputation': reputation_free}).astype(float)\n",
    "X_free = sm.add_constant(X_free)\n",
    "y_free = pd.Series(free_score).astype(float)\n",
    "mod_free = sm.OLS(y_free, X_free).fit()\n",
    "print mod_free.summary()"
   ]
  },
  {
   "cell_type": "code",
   "execution_count": 42,
   "metadata": {
    "collapsed": false
   },
   "outputs": [],
   "source": [
    "# 2018 data\n",
    "men = []\n",
    "ladies = []\n",
    "pairs = []\n",
    "dance = []\n",
    "skaters18 = [men, ladies, pairs, dance]\n",
    "for event in season18.events:\n",
    "    for i, discipline in enumerate(event.disciplines):\n",
    "        df = pd.read_csv(discipline.results_csv)\n",
    "        skaters18[i].append(df)\n",
    "men = pd.concat(men)\n",
    "ladies = pd.concat(ladies)\n",
    "pairs = pd.concat(pairs)\n",
    "dance = pd.concat(dance)"
   ]
  },
  {
   "cell_type": "code",
   "execution_count": 43,
   "metadata": {
    "collapsed": false
   },
   "outputs": [],
   "source": [
    "skaters18 = {'men': men, 'ladies': ladies, 'pairs': pairs, 'dance': dance}"
   ]
  },
  {
   "cell_type": "code",
   "execution_count": 44,
   "metadata": {
    "collapsed": false
   },
   "outputs": [],
   "source": [
    "ind_best_shorts = {}\n",
    "for skater in skaters['ladies'].Name.get_values():\n",
    "    ind_best_shorts[skater] = np.max(skaters['ladies'][skaters['ladies'].Name == skater]['Short Score'])\n",
    "med_short = np.median(ind_best_shorts.values())"
   ]
  },
  {
   "cell_type": "code",
   "execution_count": 45,
   "metadata": {
    "collapsed": false
   },
   "outputs": [],
   "source": [
    "hist_free = skaters['ladies'][skaters['ladies']['Free Rank'] != 'DNQ']\n",
    "hist_free = hist_free[hist_free['Free Rank'] != 'WD']\n",
    "ind_best_frees = {}\n",
    "for skater in hist_free.Name.get_values():\n",
    "    ind_best_frees[skater] = np.max(map(float, hist_free[hist_free.Name == skater]['Free Score']))\n",
    "med_free = np.median(ind_best_frees.values())\n",
    "# ind_best_frees = {skaters: np.max(hist_free[hist_free.Name == skater]['Free Score'])\n",
    "#                   for skater in hist_free.Name.get_values()}"
   ]
  },
  {
   "cell_type": "code",
   "execution_count": 49,
   "metadata": {
    "collapsed": true
   },
   "outputs": [],
   "source": [
    "def get_start(row, discipline_i, segment_i, segment_rank_name):\n",
    "    if row[segment_rank_name] == 'WD' or row[segment_rank_name] == 'DNQ':\n",
    "        return None\n",
    "    start = events[row.Event].disciplines[discipline_i].segments[segment_i].scorecards[int(row[segment_rank_name])-1].starting_number\n",
    "    if start == 0:\n",
    "        return None\n",
    "    return start"
   ]
  },
  {
   "cell_type": "code",
   "execution_count": 50,
   "metadata": {
    "collapsed": true
   },
   "outputs": [],
   "source": [
    "def get_start(row, discipline_i, segment_i, segment_rank_name):\n",
    "    if row[segment_rank_name] == 'WD' or row[segment_rank_name] == 'DNQ':\n",
    "        return None\n",
    "    start = events[row.Event].disciplines[discipline_i].segments[segment_i].scorecards[int(row[segment_rank_name])-1].starting_number\n",
    "    if start == 0:\n",
    "        return None\n",
    "    return start"
   ]
  },
  {
   "cell_type": "code",
   "execution_count": 51,
   "metadata": {
    "collapsed": false
   },
   "outputs": [
    {
     "name": "stdout",
     "output_type": "stream",
     "text": [
      "0 men\n",
      "1 ladies\n",
      "2 pairs\n",
      "3 dance\n"
     ]
    }
   ],
   "source": [
    "for i, discipline in enumerate(('men', 'ladies', 'pairs', 'dance')):\n",
    "    print i, discipline\n",
    "    skaters18[discipline]['Short Start'] = skaters18[discipline].apply(lambda row: get_start(row, i, 0, 'Short Rank'), axis=1)\n",
    "    skaters18[discipline]['Free Start'] = skaters18[discipline].apply(lambda row: get_start(row, i, 1, 'Free Rank'), axis=1)\n",
    "    skaters18[discipline]['Num Short Scorecards'] = skaters18[discipline].apply(lambda row: len(events[row.Event].disciplines[i].segments[0].scorecards), axis=1)\n",
    "    skaters18[discipline]['Num Free Scorecards'] = skaters18[discipline].apply(lambda row: len(events[row.Event].disciplines[i].segments[1].scorecards), axis=1)"
   ]
  },
  {
   "cell_type": "code",
   "execution_count": 46,
   "metadata": {
    "collapsed": false
   },
   "outputs": [
    {
     "data": {
      "text/plain": [
       "(47.325000000000003, 93.944999999999993)"
      ]
     },
     "execution_count": 46,
     "metadata": {},
     "output_type": "execute_result"
    }
   ],
   "source": [
    "med_short, med_free"
   ]
  },
  {
   "cell_type": "code",
   "execution_count": 52,
   "metadata": {
    "collapsed": false
   },
   "outputs": [],
   "source": [
    "start = []        # normalized start order b/w 0 and 1, closer to 1 is later\n",
    "reputation = []   # maximum of historical total scores. if no history, then median of existing skaters'\n",
    "score = []\n",
    "\n",
    "start_free = []\n",
    "reputation_free = []\n",
    "score_free = []\n",
    "\n",
    "for idx, row in skaters18['ladies'].iterrows():\n",
    "    start.append(row.loc['Short Start'] / float(row.loc['Num Short Scorecards']))\n",
    "    if row.Name in ind_best_shorts:\n",
    "        reputation.append(ind_best_shorts[row.Name])\n",
    "    else:\n",
    "        reputation.append(med_short)\n",
    "    score.append(row.loc['Short Score'])\n",
    "    \n",
    "    if pd.notnull(row.loc['Free Start']):\n",
    "        start_free.append(row.loc['Free Start'] /  float(row.loc['Num Free Scorecards']))\n",
    "        if row.Name in ind_best_frees:\n",
    "            reputation_free.append(ind_best_frees[row.Name])\n",
    "        else:\n",
    "            reputation_free.append(med_free)\n",
    "        score_free.append(row.loc['Free Score'])\n",
    "\n",
    "score_free = map(float, score_free)\n",
    "score_short = map(float, score)"
   ]
  },
  {
   "cell_type": "code",
   "execution_count": 53,
   "metadata": {
    "collapsed": false
   },
   "outputs": [
    {
     "data": {
      "text/plain": [
       "(137, 137, 137)"
      ]
     },
     "execution_count": 53,
     "metadata": {},
     "output_type": "execute_result"
    }
   ],
   "source": [
    "len(start), len(reputation), len(score)"
   ]
  },
  {
   "cell_type": "code",
   "execution_count": 54,
   "metadata": {
    "collapsed": false
   },
   "outputs": [
    {
     "data": {
      "text/plain": [
       "(121, 121, 121)"
      ]
     },
     "execution_count": 54,
     "metadata": {},
     "output_type": "execute_result"
    }
   ],
   "source": [
    "len(start_free), len(reputation_free), len(score_free)"
   ]
  },
  {
   "cell_type": "code",
   "execution_count": 55,
   "metadata": {
    "collapsed": true
   },
   "outputs": [],
   "source": [
    "b0_short = 21.8275 # 20.8236\n",
    "brep_short = 0.5289 # 0.6155\n",
    "bstart_short = 10.5243 # 12.3222"
   ]
  },
  {
   "cell_type": "code",
   "execution_count": 56,
   "metadata": {
    "collapsed": true
   },
   "outputs": [],
   "source": [
    "b0_free = 71.8259 # 72.3915\n",
    "brep_free = 0.1939 # 0.3983\n",
    "bstart_free = 35.1033 # 35.2871"
   ]
  },
  {
   "cell_type": "code",
   "execution_count": 57,
   "metadata": {
    "collapsed": true
   },
   "outputs": [],
   "source": [
    "short_pred = map(lambda (sn, rep): b0_short + brep_short * rep + bstart_short * sn, zip(start, reputation))\n",
    "free_pred = map(lambda (sn, rep): b0_free + brep_free * rep + bstart_free * sn, zip(start_free, reputation_free))"
   ]
  },
  {
   "cell_type": "code",
   "execution_count": 59,
   "metadata": {
    "collapsed": false
   },
   "outputs": [],
   "source": [
    "with open('fits/ladies_reputation_start_pred.csv', 'w') as f:\n",
    "    pickle.dump((short_pred, free_pred), f)"
   ]
  },
  {
   "cell_type": "code",
   "execution_count": 60,
   "metadata": {
    "collapsed": false
   },
   "outputs": [],
   "source": [
    "shortx = list(xrange(len(score_short)))\n",
    "longx = list(xrange(len(score_free)))"
   ]
  },
  {
   "cell_type": "code",
   "execution_count": 61,
   "metadata": {
    "collapsed": false
   },
   "outputs": [
    {
     "data": {
      "image/png": "[encoded data removed]",
      "text/plain": [
       "<matplotlib.figure.Figure at 0x11c7b2290>"
      ]
     },
     "metadata": {},
     "output_type": "display_data"
    }
   ],
   "source": [
    "plt.scatter(reputation, short_pred, label=\"pred\")\n",
    "plt.scatter(reputation, score, label=\"actual\")\n",
    "plt.legend()\n",
    "plt.show()"
   ]
  },
  {
   "cell_type": "code",
   "execution_count": 62,
   "metadata": {
    "collapsed": false
   },
   "outputs": [
    {
     "data": {
      "image/png": "[encoded data removed]",
      "text/plain": [
       "<matplotlib.figure.Figure at 0x11b8c0fd0>"
      ]
     },
     "metadata": {},
     "output_type": "display_data"
    }
   ],
   "source": [
    "plt.scatter(reputation_free, free_pred, label=\"pred\")\n",
    "plt.scatter(reputation_free, score_free, label=\"actual\")\n",
    "plt.legend()\n",
    "plt.show()"
   ]
  },
  {
   "cell_type": "code",
   "execution_count": 63,
   "metadata": {
    "collapsed": false
   },
   "outputs": [
    {
     "data": {
      "text/plain": [
       "10183.096897197431"
      ]
     },
     "execution_count": 63,
     "metadata": {},
     "output_type": "execute_result"
    }
   ],
   "source": [
    "sum(map(lambda (x,y): (x-y) * (x-y), zip(score, short_pred)))"
   ]
  },
  {
   "cell_type": "code",
   "execution_count": 64,
   "metadata": {
    "collapsed": false
   },
   "outputs": [
    {
     "data": {
      "text/plain": [
       "30021.538102775627"
      ]
     },
     "execution_count": 64,
     "metadata": {},
     "output_type": "execute_result"
    }
   ],
   "source": [
    "sum(map(lambda (x,y): (x-y) * (x-y), zip(score_free, free_pred)))"
   ]
  },
  {
   "cell_type": "code",
   "execution_count": 13,
   "metadata": {
    "collapsed": false
   },
   "outputs": [
    {
     "data": {
      "text/plain": [
       "(26.68, 22.170000000000002)"
      ]
     },
     "execution_count": 13,
     "metadata": {},
     "output_type": "execute_result"
    }
   ],
   "source": [
    "# MED TES AND MAX PCS AS SEPARATE VARIABLES\n",
    "hist_tes_short = {skater: np.median(map(float, history[history.Name == skater]['Short TES']))\n",
    "                  for skater in history.Name.get_values()}\n",
    "hist_pcs_short = {skater: np.median(map(float, history[history.Name == skater]['Short PCS']))\n",
    "                  for skater in history.Name.get_values()}\n",
    "med_tes_short = np.median(hist_tes_short.values())\n",
    "med_pcs_short = np.median(hist_pcs_short.values())\n",
    "med_tes_short, med_pcs_short"
   ]
  },
  {
   "cell_type": "code",
   "execution_count": 14,
   "metadata": {
    "collapsed": false
   },
   "outputs": [
    {
     "data": {
      "text/plain": [
       "(47.259999999999998, 45.200000000000003)"
      ]
     },
     "execution_count": 14,
     "metadata": {},
     "output_type": "execute_result"
    }
   ],
   "source": [
    "have_frees = history[history['Free Rank'] != 'DNQ']\n",
    "have_frees = have_frees[have_frees['Free Rank'] != 'WD']\n",
    "hist_tes_free = {skater: np.median(map(float, have_frees[have_frees.Name == skater]['Free TES']))\n",
    "                 for skater in have_frees.Name.get_values()}\n",
    "hist_pcs_free = {skater: np.median(map(float, have_frees[have_frees.Name == skater]['Free PCS']))\n",
    "                 for skater in have_frees.Name.get_values()}\n",
    "med_tes_free = np.median(hist_tes_free.values())\n",
    "med_pcs_free = np.median(hist_pcs_free.values())\n",
    "med_tes_free, med_pcs_free"
   ]
  },
  {
   "cell_type": "code",
   "execution_count": 15,
   "metadata": {
    "collapsed": true
   },
   "outputs": [],
   "source": [
    "start_short = []  # normalized start order b/w 0 and 1, closer to 1 is later\n",
    "tes_short = []    # average short TES in history \n",
    "pcs_short = []    # max short PCS in history\n",
    "score_short = []\n",
    "skaters_short = []\n",
    "\n",
    "start_free = []\n",
    "tes_free = []\n",
    "pcs_free = []\n",
    "score_free = []\n",
    "skaters_free = []\n",
    "\n",
    "for idx, row in start_order17.iterrows():\n",
    "    start_short.append(row.loc['Short Start'] / float(row.loc['Num Short Scorecards']))\n",
    "    if row.Name in hist_tes_short:\n",
    "        tes_short.append(hist_tes_short[row.Name])\n",
    "        pcs_short.append(hist_pcs_short[row.Name])\n",
    "    else:\n",
    "        tes_short.append(med_tes_short)\n",
    "        pcs_short.append(med_pcs_short)\n",
    "    score_short.append(row.loc['Short Score'])\n",
    "    skaters_short.append(row.loc['Name'])\n",
    "    \n",
    "    if pd.notnull(row.loc['Free Start']):\n",
    "        start_free.append(row.loc['Free Start'] /  float(row.loc['Num Free Scorecards']))\n",
    "        if row.Name in hist_tes_free:\n",
    "            tes_free.append(hist_tes_free[row.Name])\n",
    "            pcs_free.append(hist_pcs_free[row.Name])\n",
    "        else:\n",
    "            tes_free.append(med_tes_free)\n",
    "            pcs_free.append(med_pcs_free)\n",
    "        score_free.append(row.loc['Free Score'])\n",
    "        skaters_free.append(row.loc['Name'])"
   ]
  },
  {
   "cell_type": "code",
   "execution_count": 16,
   "metadata": {
    "collapsed": false
   },
   "outputs": [
    {
     "data": {
      "text/plain": [
       "(97, 97, 97, 97)"
      ]
     },
     "execution_count": 16,
     "metadata": {},
     "output_type": "execute_result"
    }
   ],
   "source": [
    "len(start_free), len(tes_free), len(pcs_free), len(score_free)"
   ]
  },
  {
   "cell_type": "code",
   "execution_count": 17,
   "metadata": {
    "collapsed": false
   },
   "outputs": [
    {
     "name": "stdout",
     "output_type": "stream",
     "text": [
      "                            OLS Regression Results                            \n",
      "==============================================================================\n",
      "Dep. Variable:                      y   R-squared:                       0.522\n",
      "Model:                            OLS   Adj. R-squared:                  0.508\n",
      "Method:                 Least Squares   F-statistic:                     38.91\n",
      "Date:                Wed, 07 Feb 2018   Prob (F-statistic):           4.39e-17\n",
      "Time:                        19:02:16   Log-Likelihood:                -372.78\n",
      "No. Observations:                 111   AIC:                             753.6\n",
      "Df Residuals:                     107   BIC:                             764.4\n",
      "Df Model:                           3                                         \n",
      "Covariance Type:            nonrobust                                         \n",
      "================================================================================\n",
      "                   coef    std err          t      P>|t|      [95.0% Conf. Int.]\n",
      "--------------------------------------------------------------------------------\n",
      "const           26.7677      4.889      5.475      0.000        17.076    36.459\n",
      "Avg TES         -0.6253      0.534     -1.170      0.244        -1.684     0.434\n",
      "Max PCS          1.9460      0.591      3.293      0.001         0.775     3.117\n",
      "Start Number     9.7409      2.717      3.585      0.001         4.354    15.128\n",
      "==============================================================================\n",
      "Omnibus:                        2.493   Durbin-Watson:                   1.504\n",
      "Prob(Omnibus):                  0.288   Jarque-Bera (JB):                2.338\n",
      "Skew:                           0.354   Prob(JB):                        0.311\n",
      "Kurtosis:                       2.931   Cond. No.                         297.\n",
      "==============================================================================\n",
      "\n",
      "Warnings:\n",
      "[1] Standard Errors assume that the covariance matrix of the errors is correctly specified.\n"
     ]
    }
   ],
   "source": [
    "# Model: short_score = historical avg TES + historical max PCS + start_order\n",
    "# X_short = pd.DataFrame({'Reputation': map(lambda (tes, pcs): tes + pcs, zip(tes_short, pcs_short)),\n",
    "#                         'Start Number': start_short}).astype(float)\n",
    "X_short = pd.DataFrame({'Avg TES': tes_short, 'Max PCS': pcs_short, 'Start Number': start_short}).astype(float)\n",
    "X_short = sm.add_constant(X_short)\n",
    "y_short = pd.Series(score_short).astype(float)\n",
    "mod_short = sm.OLS(y_short, X_short).fit()\n",
    "print mod_short.summary()"
   ]
  },
  {
   "cell_type": "code",
   "execution_count": 109,
   "metadata": {
    "collapsed": false
   },
   "outputs": [
    {
     "name": "stdout",
     "output_type": "stream",
     "text": [
      "                            OLS Regression Results                            \n",
      "==============================================================================\n",
      "Dep. Variable:                      y   R-squared:                       0.647\n",
      "Model:                            OLS   Adj. R-squared:                  0.639\n",
      "Method:                 Least Squares   F-statistic:                     86.12\n",
      "Date:                Mon, 05 Feb 2018   Prob (F-statistic):           5.61e-22\n",
      "Time:                        20:17:02   Log-Likelihood:                -360.95\n",
      "No. Observations:                  97   AIC:                             727.9\n",
      "Df Residuals:                      94   BIC:                             735.6\n",
      "Df Model:                           2                                         \n",
      "Covariance Type:            nonrobust                                         \n",
      "================================================================================\n",
      "                   coef    std err          t      P>|t|      [95.0% Conf. Int.]\n",
      "--------------------------------------------------------------------------------\n",
      "const           47.5096      8.111      5.857      0.000        31.405    63.615\n",
      "Reputation       0.5049      0.081      6.231      0.000         0.344     0.666\n",
      "Start Number    29.3440      4.075      7.202      0.000        21.254    37.434\n",
      "==============================================================================\n",
      "Omnibus:                        1.474   Durbin-Watson:                   1.401\n",
      "Prob(Omnibus):                  0.479   Jarque-Bera (JB):                0.961\n",
      "Skew:                          -0.205   Prob(JB):                        0.619\n",
      "Kurtosis:                       3.265   Cond. No.                         877.\n",
      "==============================================================================\n",
      "\n",
      "Warnings:\n",
      "[1] Standard Errors assume that the covariance matrix of the errors is correctly specified.\n"
     ]
    }
   ],
   "source": [
    "# Model: short_score = historical avg TES + historical max PCS + start_order\n",
    "X_free = pd.DataFrame({'Reputation': map(lambda (tes, pcs): tes + pcs, zip(tes_free, pcs_free)),\n",
    "                        'Start Number': start_free}).astype(float)\n",
    "# X_free = pd.DataFrame({'Avg TES': tes_free, 'Max PCS': pcs_free, 'Start Number': start_free}).astype(float)\n",
    "X_free = sm.add_constant(X_free)\n",
    "y_free = pd.Series(score_free).astype(float)\n",
    "mod_free = sm.OLS(y_free, X_free).fit()\n",
    "print mod_free.summary()"
   ]
  },
  {
   "cell_type": "code",
   "execution_count": 94,
   "metadata": {
    "collapsed": false
   },
   "outputs": [
    {
     "data": {
      "text/html": [
       "<div>\n",
       "<table border=\"1\" class=\"dataframe\">\n",
       "  <thead>\n",
       "    <tr style=\"text-align: right;\">\n",
       "      <th></th>\n",
       "      <th>student_resid</th>\n",
       "      <th>unadj_p</th>\n",
       "      <th>bonf(p)</th>\n",
       "    </tr>\n",
       "  </thead>\n",
       "  <tbody>\n",
       "  </tbody>\n",
       "</table>\n",
       "</div>"
      ],
      "text/plain": [
       "Empty DataFrame\n",
       "Columns: [student_resid, unadj_p, bonf(p)]\n",
       "Index: []"
      ]
     },
     "execution_count": 94,
     "metadata": {},
     "output_type": "execute_result"
    }
   ],
   "source": [
    "out_short = mod_short.outlier_test()\n",
    "out_short[out_short['bonf(p)'] < 0.5]"
   ]
  },
  {
   "cell_type": "code",
   "execution_count": 96,
   "metadata": {
    "collapsed": false
   },
   "outputs": [
    {
     "data": {
      "text/html": [
       "<div>\n",
       "<table border=\"1\" class=\"dataframe\">\n",
       "  <thead>\n",
       "    <tr style=\"text-align: right;\">\n",
       "      <th></th>\n",
       "      <th>student_resid</th>\n",
       "      <th>unadj_p</th>\n",
       "      <th>bonf(p)</th>\n",
       "    </tr>\n",
       "  </thead>\n",
       "  <tbody>\n",
       "    <tr>\n",
       "      <th>2</th>\n",
       "      <td>-3.206057</td>\n",
       "      <td>0.001851</td>\n",
       "      <td>0.179546</td>\n",
       "    </tr>\n",
       "  </tbody>\n",
       "</table>\n",
       "</div>"
      ],
      "text/plain": [
       "   student_resid   unadj_p   bonf(p)\n",
       "2      -3.206057  0.001851  0.179546"
      ]
     },
     "execution_count": 96,
     "metadata": {},
     "output_type": "execute_result"
    }
   ],
   "source": [
    "out_free = mod_free.outlier_test()\n",
    "out_free[out_free['bonf(p)'] < 0.8]"
   ]
  },
  {
   "cell_type": "code",
   "execution_count": 97,
   "metadata": {
    "collapsed": false
   },
   "outputs": [
    {
     "data": {
      "text/plain": [
       "'Evgenia TARASOVA / Vladimir MOROZOV'"
      ]
     },
     "execution_count": 97,
     "metadata": {},
     "output_type": "execute_result"
    }
   ],
   "source": [
    "skaters_free[2]"
   ]
  },
  {
   "cell_type": "code",
   "execution_count": 98,
   "metadata": {
    "collapsed": false
   },
   "outputs": [
    {
     "data": {
      "image/png": "[encoded data removed]",
      "text/plain": [
       "<matplotlib.figure.Figure at 0x121964590>"
      ]
     },
     "execution_count": 98,
     "metadata": {},
     "output_type": "execute_result"
    }
   ],
   "source": [
    "sm.qqplot(mod_short.resid, line='s')  # Residuals are fairly normal."
   ]
  },
  {
   "cell_type": "code",
   "execution_count": 99,
   "metadata": {
    "collapsed": false
   },
   "outputs": [
    {
     "data": {
      "image/png": "[encoded data removed]",
      "text/plain": [
       "<matplotlib.figure.Figure at 0x121d4ff50>"
      ]
     },
     "execution_count": 99,
     "metadata": {},
     "output_type": "execute_result"
    }
   ],
   "source": [
    "sm.qqplot(mod_free.resid, line='s')"
   ]
  },
  {
   "cell_type": "code",
   "execution_count": 100,
   "metadata": {
    "collapsed": false
   },
   "outputs": [
    {
     "data": {
      "text/plain": [
       "(0.067784701993240271, 0.22104820555555219)"
      ]
     },
     "execution_count": 100,
     "metadata": {},
     "output_type": "execute_result"
    }
   ],
   "source": [
    "sm.stats.diagnostic.kstest_normal(mod_short.resid)"
   ]
  },
  {
   "cell_type": "code",
   "execution_count": 101,
   "metadata": {
    "collapsed": false
   },
   "outputs": [
    {
     "data": {
      "text/plain": [
       "(0.065134222324900404, 0.35873570149551709)"
      ]
     },
     "execution_count": 101,
     "metadata": {},
     "output_type": "execute_result"
    }
   ],
   "source": [
    "sm.stats.diagnostic.kstest_normal(mod_free.resid)"
   ]
  },
  {
   "cell_type": "code",
   "execution_count": 104,
   "metadata": {
    "collapsed": false
   },
   "outputs": [
    {
     "data": {
      "image/png": "[encoded data removed]",
      "text/plain": [
       "<matplotlib.figure.Figure at 0x1218cabd0>"
      ]
     },
     "metadata": {},
     "output_type": "display_data"
    }
   ],
   "source": [
    "mod_short.resid.hist()\n",
    "plt.show()"
   ]
  },
  {
   "cell_type": "code",
   "execution_count": 105,
   "metadata": {
    "collapsed": false
   },
   "outputs": [
    {
     "data": {
      "image/png": "[encoded data removed]",
      "text/plain": [
       "<matplotlib.figure.Figure at 0x11dd7a710>"
      ]
     },
     "metadata": {},
     "output_type": "display_data"
    }
   ],
   "source": [
    "mod_free.resid.hist()\n",
    "plt.show()"
   ]
  },
  {
   "cell_type": "code",
   "execution_count": 134,
   "metadata": {
    "collapsed": false
   },
   "outputs": [],
   "source": [
    "skaters['pairs'] = skaters['pairs'].drop(['Unnamed: 0', 'Unnamed: 0.1'], axis=1)"
   ]
  },
  {
   "cell_type": "code",
   "execution_count": 18,
   "metadata": {
    "collapsed": false
   },
   "outputs": [],
   "source": [
    "pair_totals = skaters['pairs'][['Date', 'Event', 'Name', 'Nation', 'Points', 'Rank', 'Short Rank', 'Short Score', 'Free Rank', 'Free Score']]"
   ]
  },
  {
   "cell_type": "code",
   "execution_count": 19,
   "metadata": {
    "collapsed": false
   },
   "outputs": [
    {
     "data": {
      "text/html": [
       "<div>\n",
       "<table border=\"1\" class=\"dataframe\">\n",
       "  <thead>\n",
       "    <tr style=\"text-align: right;\">\n",
       "      <th></th>\n",
       "      <th>Date</th>\n",
       "      <th>Event</th>\n",
       "      <th>Name</th>\n",
       "      <th>Nation</th>\n",
       "      <th>Points</th>\n",
       "      <th>Rank</th>\n",
       "      <th>Short Rank</th>\n",
       "      <th>Short Score</th>\n",
       "      <th>Free Rank</th>\n",
       "      <th>Free Score</th>\n",
       "    </tr>\n",
       "  </thead>\n",
       "  <tbody>\n",
       "    <tr>\n",
       "      <th>0</th>\n",
       "      <td>2005-10-23</td>\n",
       "      <td>gpusa05</td>\n",
       "      <td>Dan ZHANG / Hao ZHANG</td>\n",
       "      <td>CHN</td>\n",
       "      <td>179.14</td>\n",
       "      <td>1</td>\n",
       "      <td>1</td>\n",
       "      <td>59.90</td>\n",
       "      <td>1</td>\n",
       "      <td>119.24</td>\n",
       "    </tr>\n",
       "    <tr>\n",
       "      <th>1</th>\n",
       "      <td>2005-10-23</td>\n",
       "      <td>gpusa05</td>\n",
       "      <td>Rena INOUE / John BALDWIN</td>\n",
       "      <td>USA</td>\n",
       "      <td>164.44</td>\n",
       "      <td>2</td>\n",
       "      <td>3</td>\n",
       "      <td>54.84</td>\n",
       "      <td>2</td>\n",
       "      <td>109.6</td>\n",
       "    </tr>\n",
       "    <tr>\n",
       "      <th>2</th>\n",
       "      <td>2005-10-23</td>\n",
       "      <td>gpusa05</td>\n",
       "      <td>Julia OBERTAS / Sergei SLAVNOV</td>\n",
       "      <td>RUS</td>\n",
       "      <td>160.40</td>\n",
       "      <td>3</td>\n",
       "      <td>4</td>\n",
       "      <td>54.04</td>\n",
       "      <td>4</td>\n",
       "      <td>106.36</td>\n",
       "    </tr>\n",
       "  </tbody>\n",
       "</table>\n",
       "</div>"
      ],
      "text/plain": [
       "         Date    Event                            Name Nation  Points Rank  \\\n",
       "0  2005-10-23  gpusa05           Dan ZHANG / Hao ZHANG    CHN  179.14    1   \n",
       "1  2005-10-23  gpusa05       Rena INOUE / John BALDWIN    USA  164.44    2   \n",
       "2  2005-10-23  gpusa05  Julia OBERTAS / Sergei SLAVNOV    RUS  160.40    3   \n",
       "\n",
       "   Short Rank  Short Score Free Rank Free Score  \n",
       "0           1        59.90         1     119.24  \n",
       "1           3        54.84         2      109.6  \n",
       "2           4        54.04         4     106.36  "
      ]
     },
     "execution_count": 19,
     "metadata": {},
     "output_type": "execute_result"
    }
   ],
   "source": [
    "pair_totals[:3]"
   ]
  },
  {
   "cell_type": "code",
   "execution_count": 20,
   "metadata": {
    "collapsed": false
   },
   "outputs": [],
   "source": [
    "event_results = []\n",
    "for event in season18.events:\n",
    "    discipline = event.disciplines[2]\n",
    "    event_results.append(pd.read_csv(discipline.results_csv))"
   ]
  },
  {
   "cell_type": "code",
   "execution_count": 21,
   "metadata": {
    "collapsed": false
   },
   "outputs": [],
   "source": [
    "all_hist = pd.concat([pair_totals] + event_results)"
   ]
  },
  {
   "cell_type": "code",
   "execution_count": 22,
   "metadata": {
    "collapsed": false
   },
   "outputs": [],
   "source": [
    "with open('pd_data/name_fixes_pairs.json') as f:\n",
    "    pair_name_fixes = f.read()\n",
    "pair_name_fixes = json.loads(pair_name_fixes)"
   ]
  },
  {
   "cell_type": "code",
   "execution_count": 25,
   "metadata": {
    "collapsed": false
   },
   "outputs": [
    {
     "name": "stderr",
     "output_type": "stream",
     "text": [
      "/anaconda/lib/python2.7/site-packages/pandas/core/ops.py:739: UnicodeWarning: Unicode equal comparison failed to convert both arguments to Unicode - interpreting them as being unequal\n",
      "  result = lib.scalar_compare(x, y, op)\n"
     ]
    }
   ],
   "source": [
    "for wrong, right in pair_name_fixes.iteritems():\n",
    "    all_hist.loc[all_hist.Name == wrong, 'Name'] = right"
   ]
  },
  {
   "cell_type": "code",
   "execution_count": 29,
   "metadata": {
    "collapsed": false
   },
   "outputs": [
    {
     "data": {
      "text/plain": [
       "['Adel TANKOVA / Evgeni KRASNOPOLSKI',\n",
       " 'Adeline CANAC / Maximin COIA',\n",
       " 'Adeline CANAC / Yannick BONHEUR',\n",
       " 'Alessandra CERNUSCHI / Filippo AMBROSINI',\n",
       " 'Alexa SCIMECA KNIERIM / Chris KNIERIM',\n",
       " 'Alexandra HERBRIKOVA / Nicolas ROULET',\n",
       " 'Alexandra HERBRIKOVA / Rudy HALMAERT',\n",
       " 'Alexandra MALAKHOVA / Leri KENCHADZE',\n",
       " 'Alina DIKHTIAR / Filip ZALEVSKI',\n",
       " 'Aliona SAVCHENKO / Robin SZOLKOWY',\n",
       " 'Alisa EFIMOVA / Alexander KOROVIN',\n",
       " u'Aljona SAVCHENKO / Bruno MASSOT',\n",
       " 'Amanda EVORA / Mark LADWIG',\n",
       " 'Amanda SUNYOTO-YANG / Darryll SULNDRO-YANG',\n",
       " 'Amanda VELENOSI / Mark FERNANDEZ',\n",
       " 'Amani FANCY / Christopher BOYADJI',\n",
       " 'Amy IRELAND / Michael BAHORIC',\n",
       " 'Anabelle LANGLOIS / Cody HAY',\n",
       " 'Anais MORAND / Antoine DORSAZ',\n",
       " 'Anais MORAND / Timothy LEEMANN',\n",
       " 'Anastasia MARTIUSHEVA / Alexei ROGONOV',\n",
       " 'Andrea DAVIDOVICH / Evgeni KRASNOPOLSKI',\n",
       " 'Angelika PYLKINA / Niklas HOGNER',\n",
       " 'Anna DUSKOVA / Martin BIDAR',\n",
       " 'Anna KHNYCHENKOVA / Mark MAGYAR',\n",
       " 'Anna Marie PEARCE / Mark MAGYAR',\n",
       " 'Annabelle PR\\xc3\\x96LSS / Ruben BLOMMAERT',\n",
       " 'Annika HOCKE / Ruben BLOMMAERT',\n",
       " 'Ariel Fay GAGNON / Chad TSAGRIS',\n",
       " 'Arina CHERNIAVSKAIA / Antonino SOUZA-KORDYERU',\n",
       " 'Arina CHERNIAVSKAIA / Evgeni KRASNOPOLSKI',\n",
       " 'Arina USHAKOVA / Sergei KAREV',\n",
       " 'Ashley CAIN / Joshua REAGAN',\n",
       " 'Ashley CAIN / Timothy LEDUC',\n",
       " 'Bianca MANACORDA / Niccolo MACII',\n",
       " 'Britney SIMPSON / Nathan MILLER',\n",
       " 'Brittany JONES / Joshua REAGAN',\n",
       " 'Brittany JONES / Kurtis GASKELL',\n",
       " 'Brittany VISE / Nicholas KOLE',\n",
       " 'Brooke CASTILE / Benjamin OKOLSKI',\n",
       " 'Caitlin YANKOWSKAS / Hamish GAMAN',\n",
       " 'Caitlin YANKOWSKAS / John COUGHLIN',\n",
       " 'Camille RUEST / Andrew WOLFE',\n",
       " 'Carolina GILLESPIE / Luca DEMATTE',\n",
       " 'Caydee DENNEY / Jeremy BARRETT',\n",
       " 'Caydee DENNEY / John COUGHLIN',\n",
       " 'Chelsi GUILLEN / Danny CURZON',\n",
       " 'Cheng PENG / Hao ZHANG',\n",
       " 'Cheng PENG / Yang JIN',\n",
       " 'Dan ZHANG / Hao ZHANG',\n",
       " 'Danielle MONTALBANO / Evgeni KRASNOPOLSKI',\n",
       " 'Daria BEKLEMISHEVA / Mark MAGYAR',\n",
       " 'Daria POPOVA / Bruno MASSOT',\n",
       " 'Deanna STELLATO / Nathan BARTHOLOMAY',\n",
       " 'Dee Dee LENG / Simon SHNAPIR',\n",
       " 'Diana RENNIK / Aleksei SAKS',\n",
       " 'Dominika PIATKOWSKA / Dmitri KHROMIN',\n",
       " 'Dorota SIUDEK / Mariusz SIUDEK',\n",
       " 'Ekaterina ALEXANDROVSKAYA / Harley WINDSOR',\n",
       " 'Ekaterina KOSTENKO / Roman TALAN',\n",
       " 'Ekaterina SOKOLOVA / Fedor SOKOLOV',\n",
       " 'Elena EFAIEVA / Alexei MENSHIKOV',\n",
       " 'Elizabeta MAKAROVA / Leri KENCHADZE',\n",
       " 'Elizabeth PUTNAM / Sean WIRTZ',\n",
       " 'Emilia SIMONEN / Matthew PENASSE',\n",
       " 'Emilie DEMERS BOUTIN / Pierre-Philippe JONCAS',\n",
       " 'Emma BRIEN / Stuart BECKINGHAM',\n",
       " 'Erica RISSEEUW / Robert PAXTON',\n",
       " 'Eva-Maria FITZE / Rico REX',\n",
       " 'Evgenia TARASOVA / Vladimir MOROZOV',\n",
       " 'Felicia ZHANG / Nathan BARTHOLOMAY',\n",
       " 'Felicia ZHANG / Taylor TOTH',\n",
       " 'Gabriela CERMANOVA / Martin HANULAK',\n",
       " 'Goda BUTKUTE / Nikita ERMOLAEV',\n",
       " 'Gretchen DONLAN / Andrew SPEROFF',\n",
       " 'Haven DENNEY / Brandon FRAZIER',\n",
       " 'Hayleigh BELL / Rudi SWIEGERS',\n",
       " 'Hayley Anne SACKS / Vadim AKOLZIN',\n",
       " 'Huibo DONG / Yiming WU',\n",
       " 'Ioulia CHTCHETININA / Mikhail AKULOV',\n",
       " 'Ioulia CHTCHETININA / Noah SCHERER',\n",
       " 'Jessica CALALANG / Zack SIDHU',\n",
       " 'Jessica CRENSHAW / Chad TSAGRIS',\n",
       " 'Jessica DUBE / Bryce DAVISON',\n",
       " 'Jessica DUBE / Sebastien WOLFE',\n",
       " 'Jessica MILLER / Ian MORAM',\n",
       " 'Jessica PFUND / Joshua SANTILLAN',\n",
       " 'Ji Hyang RI / Won Hyok THAE',\n",
       " 'Jiaqi LI / Jiankun XU',\n",
       " 'Joanna SULEJ / Mateusz CHRUSCINSKI',\n",
       " 'Julia ANTIPOVA / Nodari MAISURADZE',\n",
       " 'Julia BELOGLAZOVA / Andrei BEKH',\n",
       " 'Julia LAVRENTIEVA / Yuri RUDYK',\n",
       " 'Julia OBERTAS / Sergei SLAVNOV',\n",
       " 'Julia VLASSOV / Drew MEEKINS',\n",
       " 'Julianne SEGUIN / Charlie BILODEAU',\n",
       " 'Kaleigh HOLE / Adam JOHNSON',\n",
       " 'Katarina GERBOLDT / Alexander ENBERT',\n",
       " 'Katharina GIEROK / Florian JUST',\n",
       " 'Katie ORSCHER / Garrett LUCASH',\n",
       " 'Keauna MCLAUGHLIN / Rockne BRUBAKER',\n",
       " 'Kendra MOYLE / Andy SEITZ',\n",
       " 'Kirsten MOORE-TOWERS / Dylan MOSCOVITCH',\n",
       " 'Kirsten MOORE-TOWERS / Michael MARINARO',\n",
       " 'Klara KADLECOVA / Petr BIDAR',\n",
       " 'Kristina ASTAKHOVA / Alexei ROGONOV',\n",
       " 'Krystyna KLIMCZAK / Janusz KARWETA',\n",
       " 'Ksenia KRASILNIKOVA / Konstantin BEZMATERNIKH',\n",
       " 'Ksenia OZEROVA / Alexander ENBERT',\n",
       " 'Ksenia STOLBOVA / Fedor KLIMOV',\n",
       " 'Kyueun KIM / Alex Kang Chan KAM',\n",
       " 'Lana PETRANOVIC / Antonio SOUZA-KORDEIRU',\n",
       " 'Lana PETRANOVIC / Antonio SOUZA-KORDERU',\n",
       " 'Laura BARQUERO / Aritz MAESTU',\n",
       " 'Laura MAGITTERI / Ondrej HOTAREK',\n",
       " 'Lindsay DAVIS / Mark LADWIG',\n",
       " 'Lindsay DAVIS / Rockne BRUBAKER',\n",
       " 'Liubov ILYUSHECHKINA / Dylan MOSCOVITCH',\n",
       " 'Lola ESBRAT / Andrei NOVOSELOV',\n",
       " 'Lubov BAKIROVA / Mikalai KAMIANCHUK',\n",
       " 'Lubov ILIUSHECHKINA / Nodari MAISURADZE',\n",
       " 'Madeline AARON / Max SETTLAGE',\n",
       " 'Magdalena KLATKA / Radoslaw CHRUSCINSKI',\n",
       " 'Marcelina LECH / Aritz MAESTU',\n",
       " 'Marcy HINZMANN / Aaron PARCHEM',\n",
       " 'Margaret PURDY / Michael MARINARO',\n",
       " 'Mari VARTMANN / Aaron VAN CLEAVE',\n",
       " 'Mari VARTMANN / Florian JUST',\n",
       " 'Mari VARTMANN / Ruben BLOMMAERT',\n",
       " 'Maria MUKHORTOVA / Maxim TRANKOV',\n",
       " 'Maria PALIAKOVA / Mikhail FOMICHEV',\n",
       " 'Maria PALIAKOVA / Nikita BOCHKOV',\n",
       " 'Maria PETROVA / Alexei TIKHONOV',\n",
       " 'Maria SERGEJEVA / Ilja GLEBOV',\n",
       " 'Marika ZANFORLIN / Federico DEGLI ESPOSTI',\n",
       " 'Marina AGANINA / Artem KNYAZEV',\n",
       " 'Marina AGANINA / Dmitri ZOBNIN',\n",
       " 'Marissa CASTELLI / Mervin TRAN',\n",
       " 'Marissa CASTELLI / Simon SHNAPIR',\n",
       " 'Mary Beth MARLEY / Rockne BRUBAKER',\n",
       " 'Marylin PLA / Yannick BONHEUR',\n",
       " 'Maylin WENDE / Daniel WENDE',\n",
       " 'Meagan DUHAMEL / Craig BUNTIN',\n",
       " 'Meagan DUHAMEL / Eric RADFORD',\n",
       " 'Meeran TROMBLEY / Laureano IBARRA',\n",
       " 'Melodie CHATAIGNER / Medhi BOUZZINE',\n",
       " 'Minerva Fabienne HASE / Nolan SEEGERT',\n",
       " 'Mingyang ZHANG / Bowen SONG',\n",
       " 'Minji JI / Themistocles LEFTHERIS',\n",
       " 'Miriam ZIEGLER / Severin KIEFER',\n",
       " 'Miu SUZAKI / Ryuichi KIHARA',\n",
       " 'Monica PISOTTA / Michael STEWART',\n",
       " 'Mylene BRODEUR / John MATTATALL',\n",
       " 'Naomi Nari NAM / Themistocles LEFTHERIS',\n",
       " 'Narumi TAKAHASHI / Mervin TRAN',\n",
       " 'Narumi TAKAHASHI / Ryuichi KIHARA',\n",
       " 'Natalia SHESTAKOVA / Pavel LEBEDEV',\n",
       " 'Natalia ZABIIAKO / Alexander ENBERT',\n",
       " 'Natalja ZABIJAKO / Alexandr ZABOEV',\n",
       " 'Natalja ZABIJAKO / Sergei KULBACH',\n",
       " 'Natasha PURICH / Andrew WOLFE',\n",
       " 'Natasha PURICH / Mervin TRAN',\n",
       " 'Natasha PURICH / Raymond SCHULTZ',\n",
       " 'Nicole DELLA MONICA / Matteo GUARISE',\n",
       " 'Nicole DELLA MONICA / Yannick KOCON',\n",
       " 'Nina IVANOVA / Filip ZALEVSKI',\n",
       " 'Olga PROKURONOVA / Karel STEFL',\n",
       " 'PHYO Yong Myong / JONG Yong Hyok',\n",
       " 'Paige CONNERS / Evgeni KRASNOPOLSKI',\n",
       " 'Paige LAWRENCE / Rudi SWIEGERS',\n",
       " 'Qing PANG / Jian TONG',\n",
       " 'Rachel KIRKLAND / Eric RADFORD',\n",
       " 'Rebecca GHILARDI / Filippo AMBROSINI',\n",
       " 'Rebecca HANDKE / Daniel WENDE',\n",
       " 'Rena INOUE / John BALDWIN',\n",
       " 'Riku MIURA / Shoya ICHIHASHI',\n",
       " 'Rumiana SPASSOVA / Stanimir TODOROV',\n",
       " 'Sally HOOLIN / Jakub SAFRANEK',\n",
       " 'Sally HOOLIN / James HUNT',\n",
       " 'Sofiya KARAGODINA / Semyon STEPANOV',\n",
       " 'Stacey KEMP / David KING',\n",
       " 'Stefania BERTON / Ondrej HOTAREK',\n",
       " 'Stina MARTINI / Severin KIEFER',\n",
       " 'Su Yeon KIM / Hyungtae KIM',\n",
       " 'Sumire SUTO / Francis BOUDREAU-AUDET',\n",
       " 'Sydney KOLODZIEJ / Maxime DESCHAMPS',\n",
       " 'Tae Ok RYOM / Ju Sik KIM',\n",
       " 'Tarah KAYNE / Daniel O SHEA',\n",
       " 'Tatiana DANILOVA / Mikalai KAMIANCHUK',\n",
       " 'Tatiana NOVIK / Mikhail KUZNETSOV',\n",
       " 'Tatiana TOTMIANINA / Maxim MARININ',\n",
       " 'Tatiana VOLOSOZHAR / Maxim TRANKOV',\n",
       " 'Tatiana VOLOSOZHAR / Stanislav MOROZOV',\n",
       " 'Taylor STEELE / Robert SCHULTZ',\n",
       " 'Tiffany VISE / Derek TRENT',\n",
       " 'Tiffany VISE / Don BALDWIN',\n",
       " 'Utako WAKAMATSU / Jean-Sebastien FECTEAU',\n",
       " 'Valentina MARCHEI / Ondrej HOTAREK',\n",
       " 'Valerie MARCOUX / Craig BUNTIN',\n",
       " 'Vanessa GRENIER / Maxime DESCHAMPS',\n",
       " 'Vanessa JAMES / Morgan CIPRES',\n",
       " 'Vanessa JAMES / Yannick BONHEUR',\n",
       " 'Vera BAZAROVA / Andrei DEPUTAT',\n",
       " 'Vera BAZAROVA / Yuri LARIONOV',\n",
       " 'Veronica GRIGORIEVA / Aritz MAESTU',\n",
       " 'Victoria HECHT / Christopher TREFIL',\n",
       " 'Viktoria BORZENKOVA / Andrei CHUVILAEV',\n",
       " 'Wenjing SUI / Cong HAN',\n",
       " 'Wenting WANG / Yan ZHANG',\n",
       " 'Xiaoyu YU / Hao ZHANG',\n",
       " 'Xiaoyu YU / Yang JIN',\n",
       " 'Xue SHEN / Hongbo ZHAO',\n",
       " 'Xuehan WANG / Lei WANG',\n",
       " 'Yue ZHANG / Lei WANG',\n",
       " 'Yuko KAVAGUTI / Alexander SMIRNOV',\n",
       " 'Zoe JONES / Christopher BOYADJI']"
      ]
     },
     "execution_count": 29,
     "metadata": {},
     "output_type": "execute_result"
    }
   ],
   "source": [
    "sorted(all_hist.Name.unique())"
   ]
  },
  {
   "cell_type": "code",
   "execution_count": 30,
   "metadata": {
    "collapsed": false
   },
   "outputs": [],
   "source": [
    "pair18 = pd.read_csv('pair18.csv')"
   ]
  },
  {
   "cell_type": "code",
   "execution_count": 31,
   "metadata": {
    "collapsed": false
   },
   "outputs": [
    {
     "data": {
      "text/plain": [
       "Index([u'Unnamed: 0', u'Rank', u'Event', u'Date', u'Name', u'Nation',\n",
       "       u'Points', u'Short Rank', u'Short Score', u'Free Rank', u'Free Score',\n",
       "       u'Prev Prev', u' Prev'],\n",
       "      dtype='object')"
      ]
     },
     "execution_count": 31,
     "metadata": {},
     "output_type": "execute_result"
    }
   ],
   "source": [
    "pair18.columns"
   ]
  },
  {
   "cell_type": "code",
   "execution_count": 32,
   "metadata": {
    "collapsed": false
   },
   "outputs": [],
   "source": [
    "y = pair18.Points.astype(float)\n",
    "X = pair18[['Prev Prev', ' Prev']]\n",
    "X = sm.add_constant(X)"
   ]
  },
  {
   "cell_type": "code",
   "execution_count": 33,
   "metadata": {
    "collapsed": false
   },
   "outputs": [
    {
     "name": "stdout",
     "output_type": "stream",
     "text": [
      "                            OLS Regression Results                            \n",
      "==============================================================================\n",
      "Dep. Variable:                 Points   R-squared:                       0.677\n",
      "Model:                            OLS   Adj. R-squared:                  0.666\n",
      "Method:                 Least Squares   F-statistic:                     59.77\n",
      "Date:                Wed, 07 Feb 2018   Prob (F-statistic):           1.02e-14\n",
      "Time:                        19:03:39   Log-Likelihood:                -244.96\n",
      "No. Observations:                  60   AIC:                             495.9\n",
      "Df Residuals:                      57   BIC:                             502.2\n",
      "Df Model:                           2                                         \n",
      "Covariance Type:            nonrobust                                         \n",
      "==============================================================================\n",
      "                 coef    std err          t      P>|t|      [95.0% Conf. Int.]\n",
      "------------------------------------------------------------------------------\n",
      "const        129.6809      6.166     21.031      0.000       117.333   142.028\n",
      "Prev Prev      0.1489      0.042      3.586      0.001         0.066     0.232\n",
      " Prev          0.2144      0.044      4.876      0.000         0.126     0.302\n",
      "==============================================================================\n",
      "Omnibus:                        0.461   Durbin-Watson:                   1.181\n",
      "Prob(Omnibus):                  0.794   Jarque-Bera (JB):                0.329\n",
      "Skew:                           0.179   Prob(JB):                        0.848\n",
      "Kurtosis:                       2.938   Cond. No.                         851.\n",
      "==============================================================================\n",
      "\n",
      "Warnings:\n",
      "[1] Standard Errors assume that the covariance matrix of the errors is correctly specified.\n"
     ]
    }
   ],
   "source": [
    "mod = sm.OLS(y, X).fit()\n",
    "print mod.summary()"
   ]
  },
  {
   "cell_type": "code",
   "execution_count": 35,
   "metadata": {
    "collapsed": true
   },
   "outputs": [],
   "source": [
    "pair_entries = [\n",
    "    'Ekaterina ' + 'Alexandrovskaya'.upper() + ' / Harley ' + 'Windsor'.upper(),\n",
    "    'Miriam ZIEGLER / Severin KIEFER',\n",
    "    'Meagan DUHAMEL / Eric RADFORD',\n",
    "    'Kirsten MOORE-TOWERS / Michael MARINARO',\n",
    "    'Julianne SEGUIN / Charlie BILODEAU',\n",
    "    'Cheng PENG / Yang JIN',\n",
    "    'Wenjing SUI / Cong HAN',\n",
    "    'Xiaoyu YU / Hao ZHANG',\n",
    "    'Anna DUSKOVA / Martin BIDAR',\n",
    "    'Vanessa JAMES / Morgan CIPRES',\n",
    "#     'Annika HOCKE / Ruben BLOMMAERT',\n",
    "    'Aljona SAVCHENKO / Bruno MASSOT',\n",
    "#     'Paige CONNERS / Evgeni KRASNOPOLSKI',\n",
    "    'Nicole DELLA MONICA / Matteo GUARISE',\n",
    "    'Valentina MARCHEI / Ondrej HOTAREK',\n",
    "    'Miu SUZAKI / Ryuichi KIHARA',\n",
    "    'Tae Ok RYOM / Ju Sik KIM',\n",
    "    'Evgenia TARASOVA / Vladimir MOROZOV',\n",
    "    'Ksenia STOLBOVA / Fedor KLIMOV',\n",
    "    'Natalia ZABIIAKO / Alexander ENBERT',\n",
    "    'Kyueun KIM / Alex Kang Chan KAM',\n",
    "    'Alexa SCIMECA KNIERIM / Chris KNIERIM'\n",
    "]"
   ]
  },
  {
   "cell_type": "code",
   "execution_count": 37,
   "metadata": {
    "collapsed": false
   },
   "outputs": [],
   "source": [
    "for entry in pair_entries:\n",
    "    if entry not in all_hist.Name.unique():\n",
    "        print entry"
   ]
  },
  {
   "cell_type": "code",
   "execution_count": 38,
   "metadata": {
    "collapsed": true
   },
   "outputs": [],
   "source": [
    "data = {}\n",
    "for entry in pair_entries:\n",
    "    data[entry] = list(all_hist[all_hist.Name == entry].Points[-2:].astype(float))\n",
    "    while len(data[entry]) != 2:\n",
    "        data[entry] = [0] + data[entry]"
   ]
  },
  {
   "cell_type": "code",
   "execution_count": 39,
   "metadata": {
    "collapsed": false
   },
   "outputs": [],
   "source": [
    "prev = []\n",
    "prevprev = []\n",
    "pairs = []\n",
    "for entry, hist in data.iteritems():\n",
    "    pairs.append(entry)\n",
    "    prev.append(hist[1])\n",
    "    prevprev.append(hist[0])"
   ]
  },
  {
   "cell_type": "code",
   "execution_count": 40,
   "metadata": {
    "collapsed": false
   },
   "outputs": [
    {
     "data": {
      "text/plain": [
       "{'Alexa SCIMECA KNIERIM / Chris KNIERIM': [192.50999999999999,\n",
       "  189.06999999999999],\n",
       " 'Aljona SAVCHENKO / Bruno MASSOT': [223.13, 236.68000000000001],\n",
       " 'Anna DUSKOVA / Martin BIDAR': [189.09, 179.69999999999999],\n",
       " 'Cheng PENG / Yang JIN': [182.5, 188.13999999999999],\n",
       " 'Ekaterina ALEXANDROVSKAYA / Harley WINDSOR': [164.09999999999999,\n",
       "  178.10000000000005],\n",
       " 'Evgenia TARASOVA / Vladimir MOROZOV': [208.72999999999999,\n",
       "  221.59999999999999],\n",
       " 'Julianne SEGUIN / Charlie BILODEAU': [186.16, 194.37],\n",
       " 'Kirsten MOORE-TOWERS / Michael MARINARO': [194.52000000000001, 187.81],\n",
       " 'Ksenia STOLBOVA / Fedor KLIMOV': [209.25999999999999, 211.00999999999999],\n",
       " 'Kyueun KIM / Alex Kang Chan KAM': [0, 118.91],\n",
       " 'Meagan DUHAMEL / Eric RADFORD': [215.68000000000001, 210.83000000000001],\n",
       " 'Miriam ZIEGLER / Severin KIEFER': [171.13, 181.75],\n",
       " 'Miu SUZAKI / Ryuichi KIHARA': [139.98000000000002, 157.26999999999995],\n",
       " 'Natalia ZABIIAKO / Alexander ENBERT': [197.88999999999999,\n",
       "  210.18000000000001],\n",
       " 'Nicole DELLA MONICA / Matteo GUARISE': [197.59, 192.38],\n",
       " 'Tae Ok RYOM / Ju Sik KIM': [169.65000000000001, 184.97999999999999],\n",
       " 'Valentina MARCHEI / Ondrej HOTAREK': [188.00999999999999,\n",
       "  204.19999999999999],\n",
       " 'Vanessa JAMES / Morgan CIPRES': [214.31999999999999, 210.16999999999999],\n",
       " 'Wenjing SUI / Cong HAN': [234.53, 230.88999999999999],\n",
       " 'Xiaoyu YU / Hao ZHANG': [219.19999999999999, 207.13999999999999]}"
      ]
     },
     "execution_count": 40,
     "metadata": {},
     "output_type": "execute_result"
    }
   ],
   "source": [
    "data"
   ]
  },
  {
   "cell_type": "code",
   "execution_count": 41,
   "metadata": {
    "collapsed": false
   },
   "outputs": [],
   "source": [
    "olyX = pd.DataFrame({' Prev': prev, 'Prev Prev': prevprev}).astype(float)\n",
    "olyX = sm.add_constant(olyX)\n",
    "predictions = mod.predict(olyX)"
   ]
  },
  {
   "cell_type": "code",
   "execution_count": 42,
   "metadata": {
    "collapsed": true
   },
   "outputs": [],
   "source": [
    "results = {}\n",
    "for i, pair in enumerate(pairs):\n",
    "    results[pair] = predictions[i]"
   ]
  },
  {
   "cell_type": "code",
   "execution_count": 44,
   "metadata": {
    "collapsed": false
   },
   "outputs": [
    {
     "name": "stdout",
     "output_type": "stream",
     "text": [
      "Wenjing SUI / Cong HAN 214.357397234\n",
      "Aljona SAVCHENKO / Bruno MASSOT 212.775475004\n",
      "Xiaoyu YU / Hao ZHANG 207.53298056\n",
      "Evgenia TARASOVA / Vladimir MOROZOV 207.441820121\n",
      "Meagan DUHAMEL / Eric RADFORD 207.327852979\n",
      "Vanessa JAMES / Morgan CIPRES 206.937946329\n",
      "Ksenia STOLBOVA / Fedor KLIMOV 205.978127096\n",
      "Natalia ZABIIAKO / Alexander ENBERT 203.416618411\n",
      "Nicole DELLA MONICA / Matteo GUARISE 200.701065321\n",
      "Valentina MARCHEI / Ondrej HOTAREK 200.407517107\n",
      "Kirsten MOORE-TOWERS / Michael MARINARO 199.362134512\n",
      "Alexa SCIMECA KNIERIM / Chris KNIERIM 199.118834205\n",
      "Julianne SEGUIN / Charlie BILODEAU 198.546717977\n",
      "Anna DUSKOVA / Martin BIDAR 196.989920445\n",
      "Cheng PENG / Yang JIN 196.834033631\n",
      "Tae Ok RYOM / Ju Sik KIM 193.60814975\n",
      "Miriam ZIEGLER / Severin KIEFER 193.444388255\n",
      "Ekaterina ALEXANDROVSKAYA / Harley WINDSOR 191.393408938\n",
      "Miu SUZAKI / Ryuichi KIHARA 183.1192164\n",
      "Kyueun KIM / Alex Kang Chan KAM 147.392036896\n"
     ]
    }
   ],
   "source": [
    "for pair in sorted(results, key=lambda x: -results.get(x)):\n",
    "    print pair, results[pair]"
   ]
  },
  {
   "cell_type": "code",
   "execution_count": null,
   "metadata": {
    "collapsed": true
   },
   "outputs": [],
   "source": []
  }
 ],
 "metadata": {
  "kernelspec": {
   "display_name": "Python 2",
   "language": "python",
   "name": "python2"
  },
  "language_info": {
   "codemirror_mode": {
    "name": "ipython",
    "version": 2
   },
   "file_extension": ".py",
   "mimetype": "text/x-python",
   "name": "python",
   "nbconvert_exporter": "python",
   "pygments_lexer": "ipython2",
   "version": "2.7.13"
  }
 },
 "nbformat": 4,
 "nbformat_minor": 2
}
