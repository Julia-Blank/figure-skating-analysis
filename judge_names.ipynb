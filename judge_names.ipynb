{
 "cells": [
  {
   "cell_type": "code",
   "execution_count": null,
   "metadata": {
    "collapsed": true
   },
   "outputs": [],
   "source": [
    "# http://www.isu.org/news/81-inside-synchronized-skating-news/11630-list-of-referees-judges-technical-controllers-technical-specialists-data-replay-operators-2017-18-sys?templateParam=15"
   ]
  },
  {
   "cell_type": "code",
   "execution_count": 1,
   "metadata": {
    "collapsed": true
   },
   "outputs": [],
   "source": [
    "import json\n",
    "import pickle\n",
    "\n",
    "from model.Season import Season\n",
    "from model.util import get_similar_names"
   ]
  },
  {
   "cell_type": "code",
   "execution_count": 2,
   "metadata": {
    "collapsed": false
   },
   "outputs": [
    {
     "name": "stdout",
     "output_type": "stream",
     "text": [
      "2006 2007 2008 2009 2010 2011 2012 2013 2014 2015 2016 2017\n"
     ]
    }
   ],
   "source": [
    "with open('seasons.pickle') as f:\n",
    "    seasons = pickle.load(f)\n",
    "for year, season in seasons.iteritems():\n",
    "    print year,\n",
    "    season.load_scores()"
   ]
  },
  {
   "cell_type": "code",
   "execution_count": 44,
   "metadata": {
    "collapsed": false
   },
   "outputs": [],
   "source": [
    "def remove_mr_ms(judge):\n",
    "    judge = judge.replace('Mr. ', '')\n",
    "    judge = judge.replace('Mr ', '')\n",
    "    judge = judge.replace('Ms. ', '')\n",
    "    judge = judge.replace('Ms ', '')\n",
    "    judge = judge.replace('Mrs. ', '')\n",
    "    return judge\n",
    "\n",
    "judges = {}\n",
    "# for season in seasons.values():\n",
    "for event in seasons['2017'].events:\n",
    "    for discipline in event.disciplines:\n",
    "        for segment in discipline.segments:\n",
    "            for judge in segment.panel.judges:\n",
    "                name = remove_mr_ms(judge.name)\n",
    "                if name in judges:\n",
    "                    judges[name].append(judge.nation)\n",
    "                else:\n",
    "                    judges[name] = [judge.nation]"
   ]
  },
  {
   "cell_type": "code",
   "execution_count": 9,
   "metadata": {
    "collapsed": false
   },
   "outputs": [],
   "source": [
    "with open('pd_data/judge_name_fixes.json') as f:\n",
    "    judge_name_fixes = f.read()\n",
    "judge_name_fixes = json.loads(judge_name_fixes)"
   ]
  },
  {
   "cell_type": "code",
   "execution_count": 229,
   "metadata": {
    "collapsed": false
   },
   "outputs": [],
   "source": [
    "with open('pd_data/judge_name_fixes.json', 'w') as f:\n",
    "    json.dump(judge_name_fixes, f)"
   ]
  },
  {
   "cell_type": "code",
   "execution_count": 45,
   "metadata": {
    "collapsed": false
   },
   "outputs": [],
   "source": [
    "fixed_2017 = {}\n",
    "for judge, nations in judges.iteritems():\n",
    "    if judge in judge_name_fixes:\n",
    "        judge = judge_name_fixes[judge]\n",
    "    if judge in fixed_2017:\n",
    "        fixed_2017[judge] += nations\n",
    "    else:\n",
    "        fixed_2017[judge] = nations"
   ]
  },
  {
   "cell_type": "code",
   "execution_count": 26,
   "metadata": {
    "collapsed": false
   },
   "outputs": [],
   "source": [
    "fixed_judges_set = {}\n",
    "for judge, nations in fixed_judges.iteritems():\n",
    "    fixed_judges_set[judge] = set(nations)\n",
    "    if len(fixed_judges_set[judge]) > 1 and 'ISU' in nations:\n",
    "        fixed_judges_set[judge].remove('ISU')"
   ]
  },
  {
   "cell_type": "code",
   "execution_count": 28,
   "metadata": {
    "collapsed": true
   },
   "outputs": [],
   "source": [
    "with open('pd_data/judge_nations.pickle', 'w') as f:\n",
    "    pickle.dump(fixed_judges_set, f)"
   ]
  },
  {
   "cell_type": "code",
   "execution_count": 17,
   "metadata": {
    "collapsed": false
   },
   "outputs": [],
   "source": [
    "def is_ascii(s):\n",
    "    return all(ord(c) < 128 for c in s)\n",
    "issues = [judge for judge in fixed_judges_set.keys() if not is_ascii(judge)]"
   ]
  },
  {
   "cell_type": "code",
   "execution_count": 29,
   "metadata": {
    "collapsed": true
   },
   "outputs": [],
   "source": [
    "with open('pd_data/judge_nations.pickle') as f:\n",
    "    fixed_judges = pickle.load(f)"
   ]
  },
  {
   "cell_type": "code",
   "execution_count": 48,
   "metadata": {
    "collapsed": false
   },
   "outputs": [
    {
     "data": {
      "text/plain": [
       "[u'Kvetoslava MATEJOVA',\n",
       " u'Vladimir CUCHRAN',\n",
       " u'Thomas BIEGLER',\n",
       " u'Joanna MILLER',\n",
       " u'Neil GARRARD',\n",
       " u'Elisabeth BINDER',\n",
       " u'Deborah NOYES',\n",
       " u'Edith SCHILLER',\n",
       " u'Osman SIRVAN',\n",
       " u'Margaret WORSFOLD',\n",
       " u'Agnieszka SWIDERSKA',\n",
       " u'Mona ADOLFSEN',\n",
       " u'Darja GABROVSEK-POLAJNAR',\n",
       " u'Nadezhda FIODOROVA',\n",
       " u'Susan PETRICEVIC',\n",
       " u'Ekaterina SEROVA',\n",
       " u'Roberts KRUTKRAMELIS',\n",
       " u'Vessela POPOVA',\n",
       " u'Ernestien BAKKER',\n",
       " u'Ebru ANILDI',\n",
       " u'Ariadna MORONES NEGRETE',\n",
       " u'Ko-Man TING']"
      ]
     },
     "execution_count": 48,
     "metadata": {},
     "output_type": "execute_result"
    }
   ],
   "source": [
    "[judge for judge, nations in fixed_judges.iteritems() if 'ISU' in nations and judge in fixed_2017]"
   ]
  },
  {
   "cell_type": "code",
   "execution_count": 8,
   "metadata": {
    "collapsed": false
   },
   "outputs": [
    {
     "data": {
      "text/plain": [
       "[u'ISU', u'ISU', u'ISU', u'ISU']"
      ]
     },
     "execution_count": 8,
     "metadata": {},
     "output_type": "execute_result"
    }
   ],
   "source": [
    "judges['Anastasia PAPAGIANNOPOULOU']"
   ]
  },
  {
   "cell_type": "code",
   "execution_count": 36,
   "metadata": {
    "collapsed": false
   },
   "outputs": [
    {
     "data": {
      "text/plain": [
       "Season '16-'17"
      ]
     },
     "execution_count": 36,
     "metadata": {},
     "output_type": "execute_result"
    }
   ],
   "source": [
    "seasons['2017']"
   ]
  },
  {
   "cell_type": "code",
   "execution_count": 49,
   "metadata": {
    "collapsed": false
   },
   "outputs": [
    {
     "data": {
      "text/plain": [
       "[u'Olga KOZHEMIAKINA',\n",
       " u'Tatiana SHARKINA',\n",
       " u'Igor OBRAZTSOV',\n",
       " u'Elena FOMINA',\n",
       " u'Igor DOLGUSHIN',\n",
       " u'Svetlana KANDIBA',\n",
       " u'Julia ANDREEVA',\n",
       " u'Marina SANAIA',\n",
       " u'Maira ABASOVA',\n",
       " u'Sviatoslav BABENKO',\n",
       " u'Natalia PRIMACHENKO',\n",
       " u'Alla SHEKHOVTSEVA',\n",
       " u'Lolita LABUNSKAIYA',\n",
       " u'Alexander KOGAN',\n",
       " u'Tatiana DANILENKO',\n",
       " u'Elena BURIAK']"
      ]
     },
     "execution_count": 49,
     "metadata": {},
     "output_type": "execute_result"
    }
   ],
   "source": [
    "[judge for judge, nation in fixed_judges.iteritems() if 'RUS' in nation]"
   ]
  },
  {
   "cell_type": "code",
   "execution_count": null,
   "metadata": {
    "collapsed": true
   },
   "outputs": [],
   "source": []
  }
 ],
 "metadata": {
  "kernelspec": {
   "display_name": "Python 2",
   "language": "python",
   "name": "python2"
  },
  "language_info": {
   "codemirror_mode": {
    "name": "ipython",
    "version": 2
   },
   "file_extension": ".py",
   "mimetype": "text/x-python",
   "name": "python",
   "nbconvert_exporter": "python",
   "pygments_lexer": "ipython2",
   "version": "2.7.13"
  }
 },
 "nbformat": 4,
 "nbformat_minor": 2
}
